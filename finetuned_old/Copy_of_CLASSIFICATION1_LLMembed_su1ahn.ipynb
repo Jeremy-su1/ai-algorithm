{
  "cells": [
    {
      "cell_type": "markdown",
      "metadata": {
        "id": "view-in-github",
        "colab_type": "text"
      },
      "source": [
        "<a href=\"https://colab.research.google.com/github/Jeremy-su1/ai-algorithm/blob/main/Copy_of_CLASSIFICATION1_LLMembed_su1ahn.ipynb\" target=\"_parent\"><img src=\"https://colab.research.google.com/assets/colab-badge.svg\" alt=\"Open In Colab\"/></a>"
      ]
    },
    {
      "cell_type": "code",
      "execution_count": null,
      "metadata": {
        "colab": {
          "base_uri": "https://localhost:8080/"
        },
        "id": "6lJiv8twcZFB",
        "outputId": "e29b3044-3473-4603-c198-497a47f5f1bb"
      },
      "outputs": [
        {
          "name": "stdout",
          "output_type": "stream",
          "text": [
            "Mounted at /content/drive\n"
          ]
        }
      ],
      "source": [
        "from google.colab import drive\n",
        "drive.mount('/content/drive')"
      ]
    },
    {
      "cell_type": "code",
      "execution_count": null,
      "metadata": {
        "colab": {
          "base_uri": "https://localhost:8080/"
        },
        "id": "8qdqdxUK_0-h",
        "outputId": "756bd9bf-897d-4288-bfdd-709666d2a255"
      },
      "outputs": [
        {
          "name": "stdout",
          "output_type": "stream",
          "text": [
            "Requirement already satisfied: torch in /usr/local/lib/python3.10/dist-packages (2.5.0+cu121)\n",
            "Requirement already satisfied: transformers in /usr/local/lib/python3.10/dist-packages (4.44.2)\n",
            "Requirement already satisfied: tqdm in /usr/local/lib/python3.10/dist-packages (4.66.5)\n",
            "Collecting datasets\n",
            "  Downloading datasets-3.0.2-py3-none-any.whl.metadata (20 kB)\n",
            "Requirement already satisfied: filelock in /usr/local/lib/python3.10/dist-packages (from torch) (3.16.1)\n",
            "Requirement already satisfied: typing-extensions>=4.8.0 in /usr/local/lib/python3.10/dist-packages (from torch) (4.12.2)\n",
            "Requirement already satisfied: networkx in /usr/local/lib/python3.10/dist-packages (from torch) (3.4.2)\n",
            "Requirement already satisfied: jinja2 in /usr/local/lib/python3.10/dist-packages (from torch) (3.1.4)\n",
            "Requirement already satisfied: fsspec in /usr/local/lib/python3.10/dist-packages (from torch) (2024.6.1)\n",
            "Requirement already satisfied: sympy==1.13.1 in /usr/local/lib/python3.10/dist-packages (from torch) (1.13.1)\n",
            "Requirement already satisfied: mpmath<1.4,>=1.1.0 in /usr/local/lib/python3.10/dist-packages (from sympy==1.13.1->torch) (1.3.0)\n",
            "Requirement already satisfied: huggingface-hub<1.0,>=0.23.2 in /usr/local/lib/python3.10/dist-packages (from transformers) (0.24.7)\n",
            "Requirement already satisfied: numpy>=1.17 in /usr/local/lib/python3.10/dist-packages (from transformers) (1.26.4)\n",
            "Requirement already satisfied: packaging>=20.0 in /usr/local/lib/python3.10/dist-packages (from transformers) (24.1)\n",
            "Requirement already satisfied: pyyaml>=5.1 in /usr/local/lib/python3.10/dist-packages (from transformers) (6.0.2)\n",
            "Requirement already satisfied: regex!=2019.12.17 in /usr/local/lib/python3.10/dist-packages (from transformers) (2024.9.11)\n",
            "Requirement already satisfied: requests in /usr/local/lib/python3.10/dist-packages (from transformers) (2.32.3)\n",
            "Requirement already satisfied: safetensors>=0.4.1 in /usr/local/lib/python3.10/dist-packages (from transformers) (0.4.5)\n",
            "Requirement already satisfied: tokenizers<0.20,>=0.19 in /usr/local/lib/python3.10/dist-packages (from transformers) (0.19.1)\n",
            "Requirement already satisfied: pyarrow>=15.0.0 in /usr/local/lib/python3.10/dist-packages (from datasets) (16.1.0)\n",
            "Collecting dill<0.3.9,>=0.3.0 (from datasets)\n",
            "  Downloading dill-0.3.8-py3-none-any.whl.metadata (10 kB)\n",
            "Requirement already satisfied: pandas in /usr/local/lib/python3.10/dist-packages (from datasets) (2.2.2)\n",
            "Collecting xxhash (from datasets)\n",
            "  Downloading xxhash-3.5.0-cp310-cp310-manylinux_2_17_x86_64.manylinux2014_x86_64.whl.metadata (12 kB)\n",
            "Collecting multiprocess<0.70.17 (from datasets)\n",
            "  Downloading multiprocess-0.70.16-py310-none-any.whl.metadata (7.2 kB)\n",
            "Requirement already satisfied: aiohttp in /usr/local/lib/python3.10/dist-packages (from datasets) (3.10.10)\n",
            "Requirement already satisfied: aiohappyeyeballs>=2.3.0 in /usr/local/lib/python3.10/dist-packages (from aiohttp->datasets) (2.4.3)\n",
            "Requirement already satisfied: aiosignal>=1.1.2 in /usr/local/lib/python3.10/dist-packages (from aiohttp->datasets) (1.3.1)\n",
            "Requirement already satisfied: attrs>=17.3.0 in /usr/local/lib/python3.10/dist-packages (from aiohttp->datasets) (24.2.0)\n",
            "Requirement already satisfied: frozenlist>=1.1.1 in /usr/local/lib/python3.10/dist-packages (from aiohttp->datasets) (1.4.1)\n",
            "Requirement already satisfied: multidict<7.0,>=4.5 in /usr/local/lib/python3.10/dist-packages (from aiohttp->datasets) (6.1.0)\n",
            "Requirement already satisfied: yarl<2.0,>=1.12.0 in /usr/local/lib/python3.10/dist-packages (from aiohttp->datasets) (1.16.0)\n",
            "Requirement already satisfied: async-timeout<5.0,>=4.0 in /usr/local/lib/python3.10/dist-packages (from aiohttp->datasets) (4.0.3)\n",
            "Requirement already satisfied: charset-normalizer<4,>=2 in /usr/local/lib/python3.10/dist-packages (from requests->transformers) (3.4.0)\n",
            "Requirement already satisfied: idna<4,>=2.5 in /usr/local/lib/python3.10/dist-packages (from requests->transformers) (3.10)\n",
            "Requirement already satisfied: urllib3<3,>=1.21.1 in /usr/local/lib/python3.10/dist-packages (from requests->transformers) (2.2.3)\n",
            "Requirement already satisfied: certifi>=2017.4.17 in /usr/local/lib/python3.10/dist-packages (from requests->transformers) (2024.8.30)\n",
            "Requirement already satisfied: MarkupSafe>=2.0 in /usr/local/lib/python3.10/dist-packages (from jinja2->torch) (3.0.2)\n",
            "Requirement already satisfied: python-dateutil>=2.8.2 in /usr/local/lib/python3.10/dist-packages (from pandas->datasets) (2.8.2)\n",
            "Requirement already satisfied: pytz>=2020.1 in /usr/local/lib/python3.10/dist-packages (from pandas->datasets) (2024.2)\n",
            "Requirement already satisfied: tzdata>=2022.7 in /usr/local/lib/python3.10/dist-packages (from pandas->datasets) (2024.2)\n",
            "Requirement already satisfied: six>=1.5 in /usr/local/lib/python3.10/dist-packages (from python-dateutil>=2.8.2->pandas->datasets) (1.16.0)\n",
            "Requirement already satisfied: propcache>=0.2.0 in /usr/local/lib/python3.10/dist-packages (from yarl<2.0,>=1.12.0->aiohttp->datasets) (0.2.0)\n",
            "Downloading datasets-3.0.2-py3-none-any.whl (472 kB)\n",
            "\u001b[2K   \u001b[90m━━━━━━━━━━━━━━━━━━━━━━━━━━━━━━━━━━━━━━━━\u001b[0m \u001b[32m472.7/472.7 kB\u001b[0m \u001b[31m20.3 MB/s\u001b[0m eta \u001b[36m0:00:00\u001b[0m\n",
            "\u001b[?25hDownloading dill-0.3.8-py3-none-any.whl (116 kB)\n",
            "\u001b[2K   \u001b[90m━━━━━━━━━━━━━━━━━━━━━━━━━━━━━━━━━━━━━━━━\u001b[0m \u001b[32m116.3/116.3 kB\u001b[0m \u001b[31m10.4 MB/s\u001b[0m eta \u001b[36m0:00:00\u001b[0m\n",
            "\u001b[?25hDownloading multiprocess-0.70.16-py310-none-any.whl (134 kB)\n",
            "\u001b[2K   \u001b[90m━━━━━━━━━━━━━━━━━━━━━━━━━━━━━━━━━━━━━━━━\u001b[0m \u001b[32m134.8/134.8 kB\u001b[0m \u001b[31m9.9 MB/s\u001b[0m eta \u001b[36m0:00:00\u001b[0m\n",
            "\u001b[?25hDownloading xxhash-3.5.0-cp310-cp310-manylinux_2_17_x86_64.manylinux2014_x86_64.whl (194 kB)\n",
            "\u001b[2K   \u001b[90m━━━━━━━━━━━━━━━━━━━━━━━━━━━━━━━━━━━━━━━━\u001b[0m \u001b[32m194.1/194.1 kB\u001b[0m \u001b[31m17.6 MB/s\u001b[0m eta \u001b[36m0:00:00\u001b[0m\n",
            "\u001b[?25hInstalling collected packages: xxhash, dill, multiprocess, datasets\n",
            "Successfully installed datasets-3.0.2 dill-0.3.8 multiprocess-0.70.16 xxhash-3.5.0\n"
          ]
        }
      ],
      "source": [
        "!pip install torch transformers tqdm datasets"
      ]
    },
    {
      "cell_type": "markdown",
      "source": [
        "# Data처리"
      ],
      "metadata": {
        "id": "FohVi-k6ykJ7"
      }
    },
    {
      "cell_type": "code",
      "execution_count": 42,
      "metadata": {
        "colab": {
          "base_uri": "https://localhost:8080/"
        },
        "id": "qNCB5Oepw8Ld",
        "outputId": "906fa423-9a00-4992-947f-fc9a20aacf6c"
      },
      "outputs": [
        {
          "output_type": "stream",
          "name": "stdout",
          "text": [
            "AG News labels: ['World', 'Sports', 'Business', 'Sci/Tech']\n",
            "DatasetDict({\n",
            "    train: Dataset({\n",
            "        features: ['text', 'label'],\n",
            "        num_rows: 108000\n",
            "    })\n",
            "    validation: Dataset({\n",
            "        features: ['text', 'label'],\n",
            "        num_rows: 12000\n",
            "    })\n",
            "    test: Dataset({\n",
            "        features: ['text', 'label'],\n",
            "        num_rows: 7600\n",
            "    })\n",
            "})\n"
          ]
        }
      ],
      "source": [
        "from datasets import load_dataset, ClassLabel, DatasetDict\n",
        "from sklearn.model_selection import train_test_split\n",
        "\n",
        "agnews_dataset = load_dataset(\"fancyzhx/ag_news\")\n",
        "existing_labels = agnews_dataset[\"train\"].features[\"label\"].names\n",
        "print(f\"AG News labels: {existing_labels}\")\n",
        "\n",
        "# 새로운 레이블 생성 - 'StackOverflow' 추가\n",
        "new_labels = existing_labels + [\"StackOverflow\"]\n",
        "new_class_label = ClassLabel(names=new_labels)\n",
        "\n",
        "# AG News 데이터셋의 'label' 칼럼을 새로운 ClassLabel로 캐스팅\n",
        "agnews_dataset = agnews_dataset.cast_column(\"label\", new_class_label)\n",
        "\n",
        "# AG News 'train' 데이터를 'train'과 'validation'으로 분할\n",
        "# 'train' 데이터를 90%는 'train', 10%는 'validation'으로 분할\n",
        "agnews_train_valid = agnews_dataset['train'].train_test_split(test_size=0.1, seed=42)\n",
        "agnews_train_dataset = agnews_train_valid['train']\n",
        "agnews_validation_dataset = agnews_train_valid['test']\n",
        "# 분할된 데이터를 포함하도록 agnews_dataset 업데이트\n",
        "agnews_dataset = DatasetDict({\n",
        "    'train': agnews_train_dataset,\n",
        "    'validation': agnews_validation_dataset,\n",
        "    'test': agnews_dataset['test']\n",
        "})\n",
        "\n",
        "# 결과 출력\n",
        "print(agnews_dataset)"
      ]
    },
    {
      "cell_type": "code",
      "source": [
        "from datasets import load_dataset, ClassLabel, concatenate_datasets, DatasetDict, Features, Value\n",
        "\n",
        "stackoverflow_dataset = load_dataset(\n",
        "    'csv',\n",
        "    data_files={\n",
        "        'train': '/content/drive/MyDrive/ML/AI-algorithm/project/rev_tag_training_samples.csv',\n",
        "        'validation': '/content/drive/MyDrive/ML/AI-algorithm/project/rev_tag_validation_samples.csv',\n",
        "        'test': '/content/drive/MyDrive/ML/AI-algorithm/project/rev_tag_test_samples.csv'\n",
        "    }\n",
        ")\n",
        "\n",
        "# StackOverflow 데이터셋 처리 함수 정의\n",
        "def process_stackoverflow(example):\n",
        "    # 'Title'과 'Body'를 결합하여 'text' 생성\n",
        "    title = example.get('Title', '')\n",
        "    body = example.get('Body', '')\n",
        "    text = f\"{title} {body}\".strip()\n",
        "    # 'label'을 'StackOverflow'에 해당하는 정수로 설정\n",
        "    label = new_class_label.str2int('StackOverflow')\n",
        "    return {'text': text, 'label': label}\n",
        "\n",
        "# 각 스플릿별로 StackOverflow 데이터셋에 'text'와 'label' 적용 및 불필요한 컬럼 제거\n",
        "for split in stackoverflow_dataset.keys():\n",
        "    stackoverflow_dataset[split] = stackoverflow_dataset[split].map(\n",
        "        process_stackoverflow,\n",
        "        remove_columns=stackoverflow_dataset[split].column_names\n",
        "    )\n",
        "\n",
        "\n",
        "# StackOverflow 데이터셋의 피처를 AG News와 동일하게 설정\n",
        "for split in stackoverflow_dataset.keys():\n",
        "    stackoverflow_dataset[split] = stackoverflow_dataset[split].cast(\n",
        "        Features({\n",
        "            'text': Value('string'),\n",
        "            'label': new_class_label\n",
        "        })\n",
        "    )\n",
        "\n",
        "print(stackoverflow_dataset)"
      ],
      "metadata": {
        "colab": {
          "base_uri": "https://localhost:8080/"
        },
        "id": "Ri_aQUbTr0U_",
        "outputId": "9dd8d48d-7921-4610-9c3d-129c1480c22f"
      },
      "execution_count": 44,
      "outputs": [
        {
          "output_type": "stream",
          "name": "stdout",
          "text": [
            "DatasetDict({\n",
            "    train: Dataset({\n",
            "        features: ['text', 'label'],\n",
            "        num_rows: 20000\n",
            "    })\n",
            "    validation: Dataset({\n",
            "        features: ['text', 'label'],\n",
            "        num_rows: 6500\n",
            "    })\n",
            "    test: Dataset({\n",
            "        features: ['text', 'label'],\n",
            "        num_rows: 3000\n",
            "    })\n",
            "})\n"
          ]
        }
      ]
    },
    {
      "cell_type": "code",
      "source": [
        "# 4. 각 스플릿별로 데이터셋 결합\n",
        "combined_splits = {}\n",
        "for split in agnews_dataset.keys():\n",
        "    if split in stackoverflow_dataset:\n",
        "        combined_splits[split] = concatenate_datasets(\n",
        "            [agnews_dataset[split], stackoverflow_dataset[split]]\n",
        "        )\n",
        "    else:\n",
        "        combined_splits[split] = agnews_dataset[split]\n",
        "\n",
        "# 결합된 데이터셋 생성\n",
        "combined_dataset = DatasetDict(combined_splits)\n",
        "\n",
        "# 결과 확인\n",
        "print(combined_dataset)\n"
      ],
      "metadata": {
        "colab": {
          "base_uri": "https://localhost:8080/"
        },
        "id": "oylz7Rl8sXfT",
        "outputId": "fe3f463b-0223-402e-e951-2f8de2f4f336"
      },
      "execution_count": 45,
      "outputs": [
        {
          "output_type": "stream",
          "name": "stdout",
          "text": [
            "DatasetDict({\n",
            "    train: Dataset({\n",
            "        features: ['text', 'label'],\n",
            "        num_rows: 128000\n",
            "    })\n",
            "    validation: Dataset({\n",
            "        features: ['text', 'label'],\n",
            "        num_rows: 18500\n",
            "    })\n",
            "    test: Dataset({\n",
            "        features: ['text', 'label'],\n",
            "        num_rows: 10600\n",
            "    })\n",
            "})\n"
          ]
        }
      ]
    },
    {
      "cell_type": "code",
      "source": [
        "# 5. 레이블별 데이터 건수 출력\n",
        "from collections import Counter\n",
        "\n",
        "for split in combined_dataset.keys():\n",
        "    labels = combined_dataset[split]['label']\n",
        "    label_counts = Counter(labels)\n",
        "    print(f\"\\n{split} 스플릿의 레이블 분포:\")\n",
        "    for label_int, count in label_counts.items():\n",
        "        label_name = new_class_label.int2str(label_int)\n",
        "        print(f\"{label_name}: {count}\")"
      ],
      "metadata": {
        "colab": {
          "base_uri": "https://localhost:8080/"
        },
        "id": "3ckMERN0wguC",
        "outputId": "8d3bec03-e8fa-4574-aba7-13678be0bb46"
      },
      "execution_count": 46,
      "outputs": [
        {
          "output_type": "stream",
          "name": "stdout",
          "text": [
            "\n",
            "train 스플릿의 레이블 분포:\n",
            "World: 26991\n",
            "Sci/Tech: 26943\n",
            "Sports: 26966\n",
            "Business: 27100\n",
            "StackOverflow: 20000\n",
            "\n",
            "validation 스플릿의 레이블 분포:\n",
            "World: 3009\n",
            "Sports: 3034\n",
            "Sci/Tech: 3057\n",
            "Business: 2900\n",
            "StackOverflow: 6500\n",
            "\n",
            "test 스플릿의 레이블 분포:\n",
            "Business: 1900\n",
            "Sci/Tech: 1900\n",
            "Sports: 1900\n",
            "World: 1900\n",
            "StackOverflow: 3000\n"
          ]
        }
      ]
    },
    {
      "cell_type": "code",
      "source": [
        "#### Dataset 확인\n",
        "# 'Sci/Tech' 레이블의 하나의 데이터 출력\n",
        "sci_tech_label_id = new_class_label.str2int('Sci/Tech')\n",
        "\n",
        "# 각 스플릿에서 'Sci/Tech' 레이블을 가진 예제 찾기\n",
        "for split in combined_dataset.keys():\n",
        "    sci_tech_examples = combined_dataset[split].filter(lambda example: example['label'] == sci_tech_label_id)\n",
        "    if len(sci_tech_examples) > 0:\n",
        "        print(f\"'Sci/Tech' 레이블의 예제 (스플릿: {split}):\")\n",
        "        print(sci_tech_examples[0])\n",
        "        break\n",
        "\n",
        "# 'StackOverflow' 레이블의 하나의 데이터 출력\n",
        "stackoverflow_label_id = new_class_label.str2int('StackOverflow')\n",
        "\n",
        "# 각 스플릿에서 'StackOverflow' 레이블을 가진 예제 찾기\n",
        "for split in combined_dataset.keys():\n",
        "    stackoverflow_examples = combined_dataset[split].filter(lambda example: example['label'] == stackoverflow_label_id)\n",
        "    if len(stackoverflow_examples) > 0:\n",
        "        print(f\"\\n'StackOverflow' 레이블의 예제 (스플릿: {split}):\")\n",
        "        print(stackoverflow_examples[0])\n",
        "        break\n"
      ],
      "metadata": {
        "colab": {
          "base_uri": "https://localhost:8080/",
          "height": 190,
          "referenced_widgets": [
            "493954f0602e4bd3a5c7aa75121206bc",
            "15f2a05722ba4283a11a2a3174aae4f9",
            "39b69f0df2454d1bb52c62aa9cc9f2b8",
            "38be91daeb7646f693a5773b6e76f120",
            "de1fd7d0172e4605a063dd7b12e4cc45",
            "4792483944b44e0ab7a83800049b4240",
            "df58e1f8b49d4ba79f199170ad71ad61",
            "859967fd5dfe445ea4d2cff5a4a1b73e",
            "3a20b940ca5a455883b27933dd313e67",
            "12815955627d4af18b236a573e1c99bc",
            "5aa7a14da3aa40fd8b4d6961298d7c47",
            "408421bf2ea94824adb7cca7cfda9799",
            "1428f68bf67f4ffb86d6879334805a84",
            "e64b518a6b224c869269edcad55efe74",
            "96ab2eca3d0b4c7cb48509cf5683a667",
            "e04b5527d0804daebd3e3be266287372",
            "5880993ce9fd41e2b6d04f2f7017ce04",
            "8fd6cb4cc5474442b37548be3e4f7378",
            "a74f247e522d438b8eac6f3f1309376d",
            "394fac202ad3439aad931850260265fc",
            "a3aeb33564334bd5aaa0d8dd5824f2e0",
            "ac53244e282f4a57b20f4886669d2683"
          ]
        },
        "id": "NQ65iK67ysfF",
        "outputId": "bbfff954-d957-44b3-a335-d1fa418851e4"
      },
      "execution_count": 47,
      "outputs": [
        {
          "output_type": "display_data",
          "data": {
            "text/plain": [
              "Filter:   0%|          | 0/128000 [00:00<?, ? examples/s]"
            ],
            "application/vnd.jupyter.widget-view+json": {
              "version_major": 2,
              "version_minor": 0,
              "model_id": "493954f0602e4bd3a5c7aa75121206bc"
            }
          },
          "metadata": {}
        },
        {
          "output_type": "stream",
          "name": "stdout",
          "text": [
            "'Sci/Tech' 레이블의 예제 (스플릿: train):\n",
            "{'text': 'Bob Evans, mainframe pioneer, dies at 77 Evans led a team that developed a new class of mainframe computers that allowed different applications to be run simultaneously.', 'label': 3}\n"
          ]
        },
        {
          "output_type": "display_data",
          "data": {
            "text/plain": [
              "Filter:   0%|          | 0/128000 [00:00<?, ? examples/s]"
            ],
            "application/vnd.jupyter.widget-view+json": {
              "version_major": 2,
              "version_minor": 0,
              "model_id": "408421bf2ea94824adb7cca7cfda9799"
            }
          },
          "metadata": {}
        },
        {
          "output_type": "stream",
          "name": "stdout",
          "text": [
            "\n",
            "'StackOverflow' 레이블의 예제 (스플릿: train):\n",
            "{'text': 'Why threads are needed in my given assignment in java? <p><strong>I\\'m not asking to do my assignment. Read carefully</strong></p>\\n\\n<blockquote>\\n  <p>Write a program to simulate a bus traveling between 5 different stations and\\n  repeats the cycle, the bus can take up to a maximum of 50 persons, at each\\n  station random number of persons get off the bus and random number of\\n  persons get on the bus, consider these cases.</p>\\n  \\n  <ul>\\n  <li>If bus does not have enough space for all persons, persons will have to\\n  stay in station for next cycle</li>\\n  <li>Persons cannot mount on bus until persons on bus dismount first.</li>\\n  <li>You can simulate bus trip with a fixed delay between each stop to\\n  simulate travel time.</li>\\n  <li>Persons can not mount/dismount the bus until bus arrives to the\\n  designated station.</li>\\n  </ul>\\n  \\n  <p>Use semaphores to control access to the bus and other utilities to control access\\n  to bus. Use thread pools to manage thread management. You can use latches,\\n  cyclic barriers, re-entrant locks and condition variables to write your code.</p>\\n</blockquote>\\n\\n<p>I have implemented this in java without making threads and using semaphores. I Just used nested loop to cycle the bus and the whole procedure is working fine. I\\'m not asking you to do my assignment, all I need to know where should I use threads in this code. </p>\\n\\n<p>Here is my code :</p>\\n\\n<pre><code>import java.util.*;\\nimport java.lang.*;\\npublic class buses {\\n    int capacity;\\n    int station;\\n    ArrayList&lt;Integer&gt; remaining=new ArrayList&lt;&gt;();\\n\\npublic void run(int n) {\\n    System.out.println(\"--Station \"+(n+1)+\"--\");\\n    if(this.capacity&lt;50)\\n    {\\n        Random rand1 = new Random();\\n        int unload = rand1.nextInt(50);\\n        unload += 1;\\n\\n        while(unload&gt;50-this.capacity)\\n        {\\n            rand1 = new Random();\\n            unload = rand1.nextInt(50);\\n            unload += 1;\\n        }\\n        System.out.println(\"Unloaded : \"+unload);\\n        this.capacity+=unload;\\n        System.out.println(\"Capacity \"+this.capacity);\\n    }\\n\\n    Random rand = new Random();\\n    int load = rand.nextInt(50);\\n    load += 1;\\n    System.out.println(\"random load:\"+load);\\n    int val=remaining.get(n);\\n    System.out.println(\"Remaining pessenger at station\"+(n+1)+\" were:\"+val);\\n    load=load+val;\\n    System.out.println(\"random load:\"+load);\\n    if(load&lt;=this.capacity)\\n    {\\n        System.out.println(\"Loaded \"+(load));\\n        capacity-=load;\\n        System.out.println(\"Capacity \"+this.capacity);\\n        remaining.set(n, 0);\\n    }\\n    else if(load&gt;this.capacity)\\n    {\\n        int notToBeLoaded=load-this.capacity;\\n        System.out.println(\"Loaded \"+(load-notToBeLoaded));\\n        capacity=0;\\n        System.out.println(\"Capacity \"+this.capacity);\\n        remaining.set(n, notToBeLoaded);\\n    }\\n    station++;\\n}\\npublic buses()\\n{\\n    this.capacity=50;\\n    this.station=1;\\n    this.delay=2000;\\n}\\npublic static void main(String[] args) {\\n    buses obj=new buses();\\n    obj.remaining.add(0);\\n    obj.remaining.add(0);\\n    obj.remaining.add(0);\\n    obj.remaining.add(0);\\n    obj.remaining.add(0);\\n    for(int j=0;j&lt;2;j++)\\n    {\\n        for(int i=0;i&lt;5;i++)\\n        {\\n            obj.run(i);\\n        }\\n    }\\n    //System.out.println(\"remaining 0:\"+obj.remaining.get(0));\\n    //System.out.println(\"remaining 1:\"+obj.remaining.get(1));\\n    //System.out.println(\"remaining 2:\"+obj.remaining.get(2));\\n    //System.out.println(\"remaining 3:\"+obj.remaining.get(3));\\n    //System.out.println(\"remaining 4:\"+obj.remaining.get(4));\\n}\\n\\n}\\n</code></pre>', 'label': 4}\n"
          ]
        }
      ]
    },
    {
      "cell_type": "code",
      "source": [
        "# combined_dataset의 각 스플릿을 변수에 저장\n",
        "combined_train_dataset = combined_dataset['train']\n",
        "combined_validation_dataset = combined_dataset['validation']\n",
        "combined_test_dataset = combined_dataset['test']\n",
        "\n",
        "# 새로운 DatasetDict 생성\n",
        "new_agnews_dataset = DatasetDict({\n",
        "    \"train\": combined_train_dataset,\n",
        "    \"validation\": combined_validation_dataset,\n",
        "    \"test\": combined_test_dataset\n",
        "})\n",
        "\n",
        "# 결과 확인\n",
        "print(new_agnews_dataset)"
      ],
      "metadata": {
        "colab": {
          "base_uri": "https://localhost:8080/"
        },
        "id": "usS24lM1_kUz",
        "outputId": "5c6dff6f-7943-4db0-e0c5-04010a96394e"
      },
      "execution_count": 49,
      "outputs": [
        {
          "output_type": "stream",
          "name": "stdout",
          "text": [
            "DatasetDict({\n",
            "    train: Dataset({\n",
            "        features: ['text', 'label'],\n",
            "        num_rows: 128000\n",
            "    })\n",
            "    validation: Dataset({\n",
            "        features: ['text', 'label'],\n",
            "        num_rows: 18500\n",
            "    })\n",
            "    test: Dataset({\n",
            "        features: ['text', 'label'],\n",
            "        num_rows: 10600\n",
            "    })\n",
            "})\n"
          ]
        }
      ]
    },
    {
      "cell_type": "code",
      "execution_count": null,
      "metadata": {
        "colab": {
          "base_uri": "https://localhost:8080/",
          "height": 530,
          "referenced_widgets": [
            "c73b832c919b42eba3be50ba5c392273",
            "942bf12feceb41e6ae7ab7804f476685",
            "4fe6a0d1c8334dd89c00d41d7d00f650",
            "c40cfa86701c4f11805f4e5632e6f75b",
            "eef5c76bbfd84be0bb17c3911c2a666e",
            "a299553adb3f4e2596e04e49e9571d26",
            "621721b414c04632b3c6afa1b4312156",
            "24f16aee98814f96be408b8da9397d55",
            "886c3ca135d94cc5a85fb5ab60e6e4f6",
            "9ba3630759f44276a6d452e83ceb4bde",
            "fe9971cd907346bfa84f952046343dcd",
            "b4f6034980c44c0da21d3c1877b027d1",
            "7c9474b540d0484aaeb415dc24ee4550",
            "c7934117db1b4fdba50805027457426e",
            "7bbd32ca502649acbd1066fd973e81a5",
            "d1b98eec1a7b473a9c9940f6df841138",
            "3c556a3f3e2f44af95abcc6edb99357a",
            "1b152a8253824d1d95e32f9d291b50ad",
            "39598ee78f1847f9aa03f32a00844637",
            "06d270c9f366475089887e287037fb90",
            "168a884c364c4c48a09ebf10a22a115f",
            "f48c821703694a8a8f3c07cea24a3e1e",
            "71476232a82a41c98c85a6fa0fb88e10",
            "8d264d17f89b4be09703ee41d355e82e",
            "03861948e80b4dc9a8b9a3034d6be827",
            "a7c75f6996ef44b79915c10e4529cc62",
            "d8706d4ed2df4afcb6cba7e278af2522",
            "60312882d7884b1e9f07abceb9ff7c66",
            "65796317722440bdaaaa975ce0b25479",
            "92843527262c4335b291d0972a9ad4a7",
            "5a6be3dfe0a24bb091c573c2492c9a3b",
            "5df54d29cf094b74b0d7996c35cb40a6",
            "9b60dba85ecc424b9e20ceade62993d5",
            "65cf99ce5be24be698622cf54eca7836",
            "ccf843d9a1a0459fa97cb9855444d90f",
            "2f4ad7b028b0443797779bf9ea985b31",
            "0ce1bb03180b46c3b9c6304fb61f4bea",
            "5ccd1e96155c45db84509058b6971225",
            "16406e450b1c49a295139324b6a79164",
            "5cf19534d11c446bb7a23bd4ec4212e3",
            "467c4e0bafb641e2a3918d4dc64dafa5",
            "0a6de364f2f34448af7d07d3e043e3b1",
            "274ddeaea27f4704a57730c69d5b4e08",
            "320263d1acda46b998cad7dc1b373038",
            "4a4adad190ae4991951e90881b391ac2",
            "735e83440b2d4b969b66401c4d5c2c3d",
            "3b71a51431c642b3ad1adbc6ea16a0e5",
            "39255a3fa96a4ed799aa1df302512182",
            "fea48962b66d40e2bca859b86a82c58c",
            "95221ce0609d404d9ba1f680eeca30bc",
            "477d2e987bf44281b50f42c3bc8e3b23",
            "80f4dd033f7946e1b0bb7dd008d44048",
            "2f534ac9b46a491ba581b320efd7e2c8",
            "aad77776cff24802b84ed7d87a86ab4f",
            "ec794254c7584049a7c4dbe8283a6d42",
            "c2393ccde9ae4cbc8c369d9c27092eb6",
            "c4867a13f0d44167935acc21c2a104f6",
            "64c5844f620846798bb3678018204301",
            "f53ff31c68264b0e975a280bb70165c4",
            "cd7efcb26b2145df95fc57b722acfef8",
            "ab5dc1e016a14298a117edf429476f8a",
            "0fb1a6c7e5b347a6b394d89478e89acb",
            "cdba1d2b92f2403e97a3bf504098c7bf",
            "ddbab6e2789c40a583e4b04ba04e2888",
            "8b4ff0708d044a19976d52a27e4252d1",
            "f93d21597e3348fd9af0306923afa23f",
            "10d4936dff824b38a7e191c4319cf544",
            "dde966e5588c461283631f875418e357",
            "37cfbf715f5647a98b06e87416d13ab2",
            "69921bcc39ae4a06a60cc483eb433d9a",
            "df70ccf9cf7743568c9e585f850299e4",
            "8aeb08431f06445f80e8712e6eabb709",
            "5518765656384e40a01e790366b9c034",
            "12193235bc85492cab3d5d78f6659a9b",
            "e156ec62cbb547778e0c3caf1020c5f5",
            "151a4ddbf92848b09e62512314b5b4d7",
            "f6a90301ed0042b5aaf2ae68829953ac",
            "fbc99387fbb74eb099b49c81bac4cb8b",
            "bb48fa90d65f4ed88efa0989552b3526",
            "52946448dcd44b27af24697a463fe0db",
            "46b5f6ca95d54f39b0a33d2f2f7843d2",
            "2f2fbe8e67894c4a8d639c0b4531c45a",
            "7d26154baf9d4bd1a400bc4822271d17",
            "4d3b972a4d144b8dab701a232428efb4",
            "c6007fee346f4ca6ad64a4a20a40ac2d",
            "e6382edf788e44d190655c748ed323b6",
            "fe9e9868961c4a6eb1d55762d472ecdf",
            "f56ab3875e2b4da084ad6038d9889617"
          ]
        },
        "id": "vGNGJHKdyNhZ",
        "outputId": "e629cf2c-5492-41ee-89bb-bb340efb37b2"
      },
      "outputs": [
        {
          "name": "stderr",
          "output_type": "stream",
          "text": [
            "The cache for model files in Transformers v4.22.0 has been updated. Migrating your old cache. This is a one-time only operation. You can interrupt this and resume the migration later on by calling `transformers.utils.move_cache()`.\n"
          ]
        },
        {
          "data": {
            "application/vnd.jupyter.widget-view+json": {
              "model_id": "c73b832c919b42eba3be50ba5c392273",
              "version_major": 2,
              "version_minor": 0
            },
            "text/plain": [
              "0it [00:00, ?it/s]"
            ]
          },
          "metadata": {},
          "output_type": "display_data"
        },
        {
          "name": "stdout",
          "output_type": "stream",
          "text": [
            "DatasetDict({\n",
            "    train: Dataset({\n",
            "        features: ['text', 'label'],\n",
            "        num_rows: 150000\n",
            "    })\n",
            "    test: Dataset({\n",
            "        features: ['text', 'label'],\n",
            "        num_rows: 9500\n",
            "    })\n",
            "})\n"
          ]
        },
        {
          "data": {
            "application/vnd.jupyter.widget-view+json": {
              "model_id": "b4f6034980c44c0da21d3c1877b027d1",
              "version_major": 2,
              "version_minor": 0
            },
            "text/plain": [
              "tokenizer_config.json:   0%|          | 0.00/25.0 [00:00<?, ?B/s]"
            ]
          },
          "metadata": {},
          "output_type": "display_data"
        },
        {
          "data": {
            "application/vnd.jupyter.widget-view+json": {
              "model_id": "71476232a82a41c98c85a6fa0fb88e10",
              "version_major": 2,
              "version_minor": 0
            },
            "text/plain": [
              "config.json:   0%|          | 0.00/482 [00:00<?, ?B/s]"
            ]
          },
          "metadata": {},
          "output_type": "display_data"
        },
        {
          "data": {
            "application/vnd.jupyter.widget-view+json": {
              "model_id": "65cf99ce5be24be698622cf54eca7836",
              "version_major": 2,
              "version_minor": 0
            },
            "text/plain": [
              "vocab.json:   0%|          | 0.00/899k [00:00<?, ?B/s]"
            ]
          },
          "metadata": {},
          "output_type": "display_data"
        },
        {
          "data": {
            "application/vnd.jupyter.widget-view+json": {
              "model_id": "4a4adad190ae4991951e90881b391ac2",
              "version_major": 2,
              "version_minor": 0
            },
            "text/plain": [
              "merges.txt:   0%|          | 0.00/456k [00:00<?, ?B/s]"
            ]
          },
          "metadata": {},
          "output_type": "display_data"
        },
        {
          "data": {
            "application/vnd.jupyter.widget-view+json": {
              "model_id": "c2393ccde9ae4cbc8c369d9c27092eb6",
              "version_major": 2,
              "version_minor": 0
            },
            "text/plain": [
              "tokenizer.json:   0%|          | 0.00/1.36M [00:00<?, ?B/s]"
            ]
          },
          "metadata": {},
          "output_type": "display_data"
        },
        {
          "name": "stderr",
          "output_type": "stream",
          "text": [
            "/usr/local/lib/python3.10/dist-packages/transformers/tokenization_utils_base.py:1601: FutureWarning: `clean_up_tokenization_spaces` was not set. It will be set to `True` by default. This behavior will be depracted in transformers v4.45, and will be then set to `False` by default. For more details check this issue: https://github.com/huggingface/transformers/issues/31884\n",
            "  warnings.warn(\n"
          ]
        },
        {
          "data": {
            "application/vnd.jupyter.widget-view+json": {
              "model_id": "10d4936dff824b38a7e191c4319cf544",
              "version_major": 2,
              "version_minor": 0
            },
            "text/plain": [
              "Map:   0%|          | 0/150000 [00:00<?, ? examples/s]"
            ]
          },
          "metadata": {},
          "output_type": "display_data"
        },
        {
          "data": {
            "application/vnd.jupyter.widget-view+json": {
              "model_id": "fbc99387fbb74eb099b49c81bac4cb8b",
              "version_major": 2,
              "version_minor": 0
            },
            "text/plain": [
              "Map:   0%|          | 0/9500 [00:00<?, ? examples/s]"
            ]
          },
          "metadata": {},
          "output_type": "display_data"
        }
      ],
      "source": [
        "# from transformers import AutoTokenizer\n",
        "\n",
        "# new_agnews_dataset= DatasetDict({\n",
        "#     \"train\": combined_train_dataset,\n",
        "#     \"test\": combined_test_dataset\n",
        "# })\n",
        "\n",
        "# # DatasetDict 출력\n",
        "# print(new_agnews_dataset)\n",
        "\n",
        "# tokenizer = AutoTokenizer.from_pretrained(\"FacebookAI/roberta-large\")\n",
        "\n",
        "# def tokenize_function(examples):\n",
        "#     return tokenizer(examples[\"text\"], padding=\"max_length\", truncation=True)\n",
        "\n",
        "# tokenized_datasets = new_agnews_dataset.map(tokenize_function, batched=True)\n",
        "\n",
        "\n",
        "\n",
        "# small_train_dataset = tokenized_datasets[\"train\"].shuffle(seed=42).select(range(1500))\n",
        "# small_eval_dataset = tokenized_datasets[\"test\"].shuffle(seed=42).select(range(1500))"
      ]
    },
    {
      "cell_type": "markdown",
      "metadata": {
        "id": "sLcz3z_dAgDS"
      },
      "source": [
        "# **1. Llama3.2-3B Embedding**"
      ]
    },
    {
      "cell_type": "code",
      "source": [
        "import os\n",
        "import torch\n",
        "import json\n",
        "from transformers import AutoConfig, AutoModelForCausalLM, AutoTokenizer\n",
        "from transformers import LlamaForCausalLM, LlamaTokenizer\n",
        "from tqdm import trange\n",
        "from datasets import load_dataset\n",
        "import pandas as pd"
      ],
      "metadata": {
        "colab": {
          "base_uri": "https://localhost:8080/",
          "height": 87,
          "referenced_widgets": [
            "54ab0747c1ac49b0854fd2e76c5fb365",
            "14bca705b8334f0fbe065cf360d5a884",
            "e664178ead3d4345a03e2f9d40ba4ee6",
            "f87d9a2bd1dc456796022d8e3dbbdd30",
            "047a65b5e5d34f1aad9117f58f201697",
            "0d40803f72bb4d3d83618b4c2013f54f",
            "ee0beba26d2c410db36e113c27cb9cca",
            "9266e41c5753497e80a564a25491eaa6",
            "029c83058103436badfa6bb5e54d6f80",
            "35258f137ffd461a8166a08bed8f53b7",
            "8acfd1d68c7f4b02ae7cbbd3080febf6"
          ]
        },
        "id": "vZUrH_NA-ENP",
        "outputId": "da8b7a80-65e4-49c9-e8aa-057451a41aed"
      },
      "execution_count": 50,
      "outputs": [
        {
          "output_type": "stream",
          "name": "stderr",
          "text": [
            "The cache for model files in Transformers v4.22.0 has been updated. Migrating your old cache. This is a one-time only operation. You can interrupt this and resume the migration later on by calling `transformers.utils.move_cache()`.\n"
          ]
        },
        {
          "output_type": "display_data",
          "data": {
            "text/plain": [
              "0it [00:00, ?it/s]"
            ],
            "application/vnd.jupyter.widget-view+json": {
              "version_major": 2,
              "version_minor": 0,
              "model_id": "54ab0747c1ac49b0854fd2e76c5fb365"
            }
          },
          "metadata": {}
        }
      ]
    },
    {
      "cell_type": "code",
      "execution_count": 52,
      "metadata": {
        "colab": {
          "base_uri": "https://localhost:8080/",
          "height": 226,
          "referenced_widgets": [
            "4a1a18b708714b7ea9e7819826d7ea1e",
            "7ed30b65ac334a2e86a72ef35818485f",
            "bb91a5dd31e045e28d284fb52808c496",
            "9b31dec527af4b149504d56c60178be2",
            "b823ee91823e45fab8bdd6c33bd98dba",
            "6303beeb093a4191ba203a89d797ba6e",
            "5b77b7f4b640400e94c689267bd41065",
            "bb290d3486024a97b0b437be253eac54",
            "8ebad9d7be1143cbaa6ac9916f25a3c0",
            "6624a08a7ac04c60aff90980a0ec2ed4",
            "fd46280796d846c7b46f748ee68ff0f3",
            "01bb3eb5205c42919164c2c9aec01c61",
            "63af3b0993f8420d95b1fc4bb2c2b071",
            "51b8b1a5abe44c038d023d0d1c838e25",
            "94049344d6c641a5afb2e491b9a005d8",
            "eb876b0e47314738a3e3ff9281086459",
            "b9dea17d746b44ed93d3c6c68d05a9c7",
            "05d26fcafd4b41d1b95e3e17536feb56",
            "c656432994ba46849680285b02554f07",
            "c9fe97e67a2944948b1ec97942758791",
            "c5fedf5e283a40d888b41d4276000d40",
            "8efa9dd1e97444dd89b8bf6bcc859d9b"
          ]
        },
        "id": "TdTOfVoxAC2J",
        "outputId": "4656c0a4-c75a-4f00-a6a4-08c669a896f7"
      },
      "outputs": [
        {
          "output_type": "stream",
          "name": "stderr",
          "text": [
            "The argument `trust_remote_code` is to be used with Auto classes. It has no effect here and is ignored.\n"
          ]
        },
        {
          "output_type": "display_data",
          "data": {
            "text/plain": [
              "model.safetensors:  55%|#####5    | 3.54G/6.43G [00:00<?, ?B/s]"
            ],
            "application/vnd.jupyter.widget-view+json": {
              "version_major": 2,
              "version_minor": 0,
              "model_id": "4a1a18b708714b7ea9e7819826d7ea1e"
            }
          },
          "metadata": {}
        },
        {
          "output_type": "display_data",
          "data": {
            "text/plain": [
              "generation_config.json:   0%|          | 0.00/184 [00:00<?, ?B/s]"
            ],
            "application/vnd.jupyter.widget-view+json": {
              "version_major": 2,
              "version_minor": 0,
              "model_id": "01bb3eb5205c42919164c2c9aec01c61"
            }
          },
          "metadata": {}
        },
        {
          "output_type": "stream",
          "name": "stderr",
          "text": [
            "  0%|          | 0/4000 [00:00<?, ?it/s]We detected that you are passing `past_key_values` as a tuple and this is deprecated and will be removed in v4.43. Please use an appropriate `Cache` class (https://huggingface.co/docs/transformers/v4.41.3/en/internal/generation_utils#transformers.Cache)\n",
            "100%|██████████| 4000/4000 [44:32<00:00,  1.50it/s]\n",
            "The argument `trust_remote_code` is to be used with Auto classes. It has no effect here and is ignored.\n",
            "100%|██████████| 579/579 [06:26<00:00,  1.50it/s]\n",
            "The argument `trust_remote_code` is to be used with Auto classes. It has no effect here and is ignored.\n",
            "100%|██████████| 332/332 [03:41<00:00,  1.50it/s]\n"
          ]
        }
      ],
      "source": [
        "# -*- coding: utf-8 -*-\n",
        "\n",
        "def rep_extract(task, mode, device, sents, labels, max_len, step):\n",
        "    model_id = \"unsloth/Llama-3.2-3B-Instruct\"\n",
        "\n",
        "    tokenizer = AutoTokenizer.from_pretrained(model_id)\n",
        "\n",
        "    # padding 토큰 설정 (eos_token을 pad_token으로 설정)\n",
        "    if tokenizer.pad_token is None:\n",
        "        tokenizer.pad_token = tokenizer.eos_token\n",
        "\n",
        "    tokenizer.padding_side = \"right\"\n",
        "\n",
        "    config_kwargs = {\n",
        "        \"trust_remote_code\": True,\n",
        "        \"cache_dir\": None,\n",
        "        \"revision\": 'main',\n",
        "        \"use_auth_token\": None,\n",
        "        \"output_hidden_states\": True\n",
        "    }\n",
        "    model_config = AutoConfig.from_pretrained(model_id, **config_kwargs)\n",
        "    model = LlamaForCausalLM.from_pretrained(\n",
        "        model_id,\n",
        "        trust_remote_code=True,\n",
        "        config=model_config,\n",
        "        device_map=device,\n",
        "        torch_dtype=torch.float16\n",
        "    )\n",
        "    model.eval()\n",
        "\n",
        "    sents_reps = []\n",
        "    for idx in trange(0, len(sents), step):\n",
        "        idx_end = idx + step\n",
        "        if idx_end > len(sents):\n",
        "            idx_end = len(sents)\n",
        "        sents_batch = sents[idx: idx_end]\n",
        "\n",
        "        sents_batch_encoding = tokenizer(sents_batch, return_tensors='pt', max_length=max_len, padding=\"max_length\", truncation=True)\n",
        "        sents_batch_encoding = sents_batch_encoding.to(device)\n",
        "\n",
        "        with torch.no_grad():\n",
        "            batch_outputs = model(**sents_batch_encoding)\n",
        "\n",
        "            reps_batch_5L = []\n",
        "            for layer in range(-1, -6, -1):\n",
        "                reps_batch_5L.append(torch.mean(batch_outputs.hidden_states[layer], axis=1))\n",
        "            reps_batch_5L = torch.stack(reps_batch_5L, axis=1)\n",
        "\n",
        "        sents_reps.append(reps_batch_5L.cpu())\n",
        "    sents_reps = torch.cat(sents_reps)\n",
        "\n",
        "    labels = torch.tensor(labels)\n",
        "\n",
        "    path = f'/content/drive/MyDrive/ML/AI-algorithm/project/{task}/dataset_tensor/'\n",
        "    if not os.path.exists(path):\n",
        "        os.makedirs(path)\n",
        "    torch.save(sents_reps.to('cpu'), path + f'{mode}_sents.pt')\n",
        "    torch.save(labels, path + f'{mode}_labels.pt')\n",
        "\n",
        "if __name__ == '__main__':\n",
        "    cuda_no = 0 # GPU 번호\n",
        "    task = 'llama3-2' # Task 이름\n",
        "    device = f'cuda:{cuda_no}'\n",
        "    max_len = 512\n",
        "    step = 32\n",
        "\n",
        "    # 'train' 데이터셋에 대한 임베딩 추출\n",
        "    sents = new_agnews_dataset['train']['text']\n",
        "    labels = new_agnews_dataset['train']['label']\n",
        "    rep_extract(task, 'train', device, sents, labels, max_len, step)\n",
        "\n",
        "    # 'validation' 데이터셋에 대한 임베딩 추출\n",
        "    sents = new_agnews_dataset['validation']['text']\n",
        "    labels = new_agnews_dataset['validation']['label']\n",
        "    rep_extract(task, 'validation', device, sents, labels, max_len, step)\n",
        "\n",
        "    # 'test' 데이터셋에 대한 임베딩 추출\n",
        "    sents = new_agnews_dataset['test']['text']\n",
        "    labels = new_agnews_dataset['test']['label']\n",
        "    rep_extract(task, 'test', device, sents, labels, max_len, step)\n"
      ]
    },
    {
      "cell_type": "markdown",
      "metadata": {
        "id": "O8goSnZlA0EX"
      },
      "source": [
        "# **2. BERT Embedding**"
      ]
    },
    {
      "cell_type": "code",
      "execution_count": null,
      "metadata": {
        "colab": {
          "base_uri": "https://localhost:8080/",
          "height": 304,
          "referenced_widgets": [
            "be0c53eb48434d93ad77257a93d0d650",
            "fcecf7c8c0ef4cbba908f2f0ee72a8be",
            "90a7c4c147224d86ae393e33c89c8e53",
            "6022454803884e3cb012e6d4ff778a57",
            "1acd5a1f48a146ea8c8e69116e96cc52",
            "77af42e2e00f4fcc98b7cf23e5279a02",
            "db994833e0ba42f391c70f1470bd453a",
            "fbd79354fddc47f8b56d2f8f32c47ab0",
            "e875e350b0cb4c1d8a2c914241b57109",
            "26e9588a8ba545d884eaa68a157d2985",
            "023a1e7249364c61b6ef87c8e7876246",
            "189799f99f504c1eb7a6430ca21b005b",
            "5ce0ee3171bd4cd6ae55fb310650fd38",
            "0463b0b3bbe7418fb5f0b57a5b34c559",
            "58efede6dbdc410bba67f971abb918e7",
            "1b0a29603ee74e2889c7570456e78ac7",
            "8648659f10624b1aa41345da9e513d98",
            "f1e9e51ae9a84998bbac1ff5955baf90",
            "2030b10e9f2641d5b9636a54f2afeb64",
            "885326486cc841078d3f1c138ef82ad1",
            "f8fd8476226944fa8bd5f8ba6d59c02e",
            "f30fb7def7ef4db29c10b84657e844ed",
            "5c9e1db763fb443c84e723a2baece94a",
            "46790d0a0443431187875f4cf12f06b8",
            "325dd1b34e444684b4bf808e2f7b4d9b",
            "8abe1759b3944a65b8d7384aa6fffcb9",
            "6aeb0ba04b6d432cb406526f70b88472",
            "9f2c4ec037bc47488ce4d15f1b434561",
            "eaa001bd702a4e418403a36ec036f9ae",
            "11099eb12d2a452d81772e7541b811de",
            "b0c45ed3ec03405eae0cd039499c3fd3",
            "d57f16b2096f41e9bedfe4f352c8bdaa",
            "18195ccedd8b4de48a4b3352671ca798",
            "c8f881e1668f4e0c8bd68a76cced1859",
            "bb2f5389c5d0468ea0274bf316d5d27c",
            "73eedcd2b4d740baa7b2de981f728448",
            "bf14e26f5679468a9cc7181b946cfd5d",
            "ecf7b614907749319e38ac9a973d7fb4",
            "e2db23e142804baaa9a5edca194af33f",
            "d0db5ad35a514e48897d7bbb2bac84ae",
            "6510059a293641b2ba1eb792d1cac290",
            "484c7cf11f3c422289c857f913de43ea",
            "fff60ad391874316ba9c46d7ad24527c",
            "57ea9ee000994fef9e421b6f2859302d",
            "30150c2536f6477db43c33d7e212089e",
            "11fd3011aa0c483f9cdd95a4a56378f4",
            "f4cf813418e4407c85fa0918d9cf1b36",
            "515b8ade9e164b299f79cd19fd20fc82",
            "026f94bb442e4b96bce00c60556a4138",
            "42daf281d99745d48e96bb165a3dec29",
            "07a5460470f649d4b59119cde0520410",
            "c1ebcbd2dd884cab9c80c8e38c11cd1a",
            "6c7323e2207647bd841e25f935bba7f8",
            "643235a8f468499b85709cf14203b0eb",
            "6cc6aa2d7e6940178faae5cf1ef4db81"
          ]
        },
        "id": "PAUJf_iwAXrF",
        "outputId": "83e6fa37-965e-4705-fad4-15694fd10f37"
      },
      "outputs": [
        {
          "output_type": "display_data",
          "data": {
            "text/plain": [
              "tokenizer_config.json:   0%|          | 0.00/48.0 [00:00<?, ?B/s]"
            ],
            "application/vnd.jupyter.widget-view+json": {
              "version_major": 2,
              "version_minor": 0,
              "model_id": "be0c53eb48434d93ad77257a93d0d650"
            }
          },
          "metadata": {}
        },
        {
          "output_type": "display_data",
          "data": {
            "text/plain": [
              "vocab.txt:   0%|          | 0.00/232k [00:00<?, ?B/s]"
            ],
            "application/vnd.jupyter.widget-view+json": {
              "version_major": 2,
              "version_minor": 0,
              "model_id": "189799f99f504c1eb7a6430ca21b005b"
            }
          },
          "metadata": {}
        },
        {
          "output_type": "display_data",
          "data": {
            "text/plain": [
              "tokenizer.json:   0%|          | 0.00/466k [00:00<?, ?B/s]"
            ],
            "application/vnd.jupyter.widget-view+json": {
              "version_major": 2,
              "version_minor": 0,
              "model_id": "5c9e1db763fb443c84e723a2baece94a"
            }
          },
          "metadata": {}
        },
        {
          "output_type": "display_data",
          "data": {
            "text/plain": [
              "config.json:   0%|          | 0.00/571 [00:00<?, ?B/s]"
            ],
            "application/vnd.jupyter.widget-view+json": {
              "version_major": 2,
              "version_minor": 0,
              "model_id": "c8f881e1668f4e0c8bd68a76cced1859"
            }
          },
          "metadata": {}
        },
        {
          "output_type": "stream",
          "name": "stderr",
          "text": [
            "/usr/local/lib/python3.10/dist-packages/transformers/tokenization_utils_base.py:1601: FutureWarning: `clean_up_tokenization_spaces` was not set. It will be set to `True` by default. This behavior will be depracted in transformers v4.45, and will be then set to `False` by default. For more details check this issue: https://github.com/huggingface/transformers/issues/31884\n",
            "  warnings.warn(\n"
          ]
        },
        {
          "output_type": "display_data",
          "data": {
            "text/plain": [
              "model.safetensors:   0%|          | 0.00/1.34G [00:00<?, ?B/s]"
            ],
            "application/vnd.jupyter.widget-view+json": {
              "version_major": 2,
              "version_minor": 0,
              "model_id": "30150c2536f6477db43c33d7e212089e"
            }
          },
          "metadata": {}
        },
        {
          "output_type": "stream",
          "name": "stderr",
          "text": [
            "100%|██████████| 250/250 [42:54<00:00, 10.30s/it]\n"
          ]
        },
        {
          "output_type": "stream",
          "name": "stdout",
          "text": [
            "torch.Size([128000, 1024])\n",
            "torch.Size([128000])\n"
          ]
        },
        {
          "output_type": "stream",
          "name": "stderr",
          "text": [
            " 76%|███████▌  | 28/37 [04:48<01:41, 11.25s/it]"
          ]
        }
      ],
      "source": [
        "# -*- coding: utf-8 -*-\n",
        "import os\n",
        "import torch\n",
        "import json\n",
        "from transformers import BertTokenizer, BertModel\n",
        "from tqdm import trange\n",
        "from datasets import load_dataset\n",
        "import argparse\n",
        "\n",
        "def rep_extract(task, mode, device, sents, labels):\n",
        "    model_path = 'google-bert/bert-large-uncased'\n",
        "    tokenizer = BertTokenizer.from_pretrained(model_path)\n",
        "    model = BertModel.from_pretrained(model_path).to(device)\n",
        "    model.eval()\n",
        "\n",
        "    max_len = 512\n",
        "    sents_reps = []\n",
        "    step = 512\n",
        "    for idx in trange(0, len(sents), step):\n",
        "        idx_end = idx + step\n",
        "        if idx_end > len(sents):\n",
        "            idx_end = len(sents)\n",
        "        sents_batch = sents[idx: idx_end]\n",
        "\n",
        "        sents_batch_encoding = tokenizer(sents_batch, return_tensors='pt', max_length=max_len, padding=\"max_length\", truncation=True)\n",
        "        sents_batch_encoding = sents_batch_encoding.to(device)\n",
        "\n",
        "        with torch.no_grad():\n",
        "            batch_outputs = model(**sents_batch_encoding)\n",
        "            reps_batch = batch_outputs.pooler_output\n",
        "        sents_reps.append(reps_batch.cpu())\n",
        "    sents_reps = torch.cat(sents_reps)\n",
        "\n",
        "    for idx in range(len(labels)):\n",
        "        labels[idx] = torch.tensor(labels[idx])\n",
        "    labels = torch.stack(labels)\n",
        "\n",
        "    print(sents_reps.shape)\n",
        "    print(labels.shape)\n",
        "    path = f'/content/drive/MyDrive/ML/AI-algorithm/project/{task}/dataset_tensor/'\n",
        "    if not os.path.exists(path):\n",
        "        os.makedirs(path)\n",
        "    torch.save(sents_reps.to('cpu'), path + f'{mode}_sents.pt')\n",
        "    torch.save(labels, path + f'{mode}_labels.pt')\n",
        "\n",
        "if __name__ == '__main__':\n",
        "\n",
        "    cuda_no = 0 # GPU 번호\n",
        "    task = 'bert' # Task 이름\n",
        "    device = f'cuda:{cuda_no}'\n",
        "\n",
        "    # 'train' 데이터셋에 대한 임베딩 추출\n",
        "    sents = new_agnews_dataset['train']['text']\n",
        "    labels = new_agnews_dataset['train']['label']\n",
        "    rep_extract(task, 'train', device, sents, labels)\n",
        "\n",
        "    # 'validation' 데이터셋에 대한 임베딩 추출\n",
        "    sents = new_agnews_dataset['validation']['text']\n",
        "    labels = new_agnews_dataset['validation']['label']\n",
        "    rep_extract(task, 'validation', device, sents, labels)\n",
        "\n",
        "    # 'test' 데이터셋에 대한 임베딩 추출\n",
        "    sents = new_agnews_dataset['test']['text']\n",
        "    labels = new_agnews_dataset['test']['label']\n",
        "    rep_extract(task, 'test', device, sents, labels)"
      ]
    },
    {
      "cell_type": "markdown",
      "metadata": {
        "id": "1SQAIFeGBF3M"
      },
      "source": [
        "# **3. Roberta Embedding**"
      ]
    },
    {
      "cell_type": "code",
      "execution_count": 54,
      "metadata": {
        "colab": {
          "base_uri": "https://localhost:8080/",
          "height": 412,
          "referenced_widgets": [
            "d10cb67d8da74bf2b1e2efdd33b05cdf",
            "d987d0d121614e609cb9cf262e25dcd2",
            "5c4936d719fb4d6e9e1b04d6fb8b916f",
            "4c63d6ede5e84e64bbbdb3b278a20c56",
            "9d8b7ef3c45740a2a39c5f8df649d901",
            "d68036461267488fa7e91183015c4c03"
          ]
        },
        "id": "_L9VZJfdBNPd",
        "outputId": "ec3288c4-2cc5-458c-e9b8-bb699287aea4"
      },
      "outputs": [
        {
          "data": {
            "application/vnd.jupyter.widget-view+json": {
              "model_id": "d10cb67d8da74bf2b1e2efdd33b05cdf",
              "version_major": 2,
              "version_minor": 0
            },
            "text/plain": [
              "tokenizer_config.json:   0%|          | 0.00/25.0 [00:00<?, ?B/s]"
            ]
          },
          "metadata": {},
          "output_type": "display_data"
        },
        {
          "data": {
            "application/vnd.jupyter.widget-view+json": {
              "model_id": "d987d0d121614e609cb9cf262e25dcd2",
              "version_major": 2,
              "version_minor": 0
            },
            "text/plain": [
              "vocab.json:   0%|          | 0.00/899k [00:00<?, ?B/s]"
            ]
          },
          "metadata": {},
          "output_type": "display_data"
        },
        {
          "data": {
            "application/vnd.jupyter.widget-view+json": {
              "model_id": "5c4936d719fb4d6e9e1b04d6fb8b916f",
              "version_major": 2,
              "version_minor": 0
            },
            "text/plain": [
              "merges.txt:   0%|          | 0.00/456k [00:00<?, ?B/s]"
            ]
          },
          "metadata": {},
          "output_type": "display_data"
        },
        {
          "data": {
            "application/vnd.jupyter.widget-view+json": {
              "model_id": "4c63d6ede5e84e64bbbdb3b278a20c56",
              "version_major": 2,
              "version_minor": 0
            },
            "text/plain": [
              "tokenizer.json:   0%|          | 0.00/1.36M [00:00<?, ?B/s]"
            ]
          },
          "metadata": {},
          "output_type": "display_data"
        },
        {
          "data": {
            "application/vnd.jupyter.widget-view+json": {
              "model_id": "9d8b7ef3c45740a2a39c5f8df649d901",
              "version_major": 2,
              "version_minor": 0
            },
            "text/plain": [
              "config.json:   0%|          | 0.00/482 [00:00<?, ?B/s]"
            ]
          },
          "metadata": {},
          "output_type": "display_data"
        },
        {
          "data": {
            "application/vnd.jupyter.widget-view+json": {
              "model_id": "d68036461267488fa7e91183015c4c03",
              "version_major": 2,
              "version_minor": 0
            },
            "text/plain": [
              "model.safetensors:   0%|          | 0.00/1.42G [00:00<?, ?B/s]"
            ]
          },
          "metadata": {},
          "output_type": "display_data"
        },
        {
          "output_type": "stream",
          "name": "stderr",
          "text": [
            "Some weights of RobertaModel were not initialized from the model checkpoint at FacebookAI/roberta-large and are newly initialized: ['roberta.pooler.dense.bias', 'roberta.pooler.dense.weight']\n",
            "You should probably TRAIN this model on a down-stream task to be able to use it for predictions and inference.\n",
            "100%|██████████| 250/250 [46:39<00:00, 11.20s/it]\n"
          ]
        },
        {
          "output_type": "stream",
          "name": "stdout",
          "text": [
            "torch.Size([128000, 1024])\n",
            "torch.Size([128000])\n"
          ]
        },
        {
          "output_type": "stream",
          "name": "stderr",
          "text": [
            "Some weights of RobertaModel were not initialized from the model checkpoint at FacebookAI/roberta-large and are newly initialized: ['roberta.pooler.dense.bias', 'roberta.pooler.dense.weight']\n",
            "You should probably TRAIN this model on a down-stream task to be able to use it for predictions and inference.\n",
            "100%|██████████| 37/37 [06:50<00:00, 11.10s/it]\n"
          ]
        },
        {
          "output_type": "stream",
          "name": "stdout",
          "text": [
            "torch.Size([18500, 1024])\n",
            "torch.Size([18500])\n"
          ]
        },
        {
          "output_type": "stream",
          "name": "stderr",
          "text": [
            "Some weights of RobertaModel were not initialized from the model checkpoint at FacebookAI/roberta-large and are newly initialized: ['roberta.pooler.dense.bias', 'roberta.pooler.dense.weight']\n",
            "You should probably TRAIN this model on a down-stream task to be able to use it for predictions and inference.\n",
            "100%|██████████| 21/21 [03:55<00:00, 11.19s/it]"
          ]
        },
        {
          "output_type": "stream",
          "name": "stdout",
          "text": [
            "torch.Size([10600, 1024])\n",
            "torch.Size([10600])\n"
          ]
        },
        {
          "output_type": "stream",
          "name": "stderr",
          "text": [
            "\n"
          ]
        }
      ],
      "source": [
        "# -*- coding: utf-8 -*-\n",
        "import os\n",
        "import torch\n",
        "import json\n",
        "from transformers import RobertaTokenizer, RobertaModel\n",
        "from tqdm import trange\n",
        "from datasets import load_dataset\n",
        "import argparse\n",
        "\n",
        "def rep_extract(task, mode, device, sents, labels):\n",
        "    model_path = 'FacebookAI/roberta-large'\n",
        "    tokenizer = RobertaTokenizer.from_pretrained(model_path)\n",
        "    model = RobertaModel.from_pretrained(model_path).to(device)\n",
        "    model.eval()\n",
        "\n",
        "    max_len = 512\n",
        "    sents_reps = []\n",
        "    step = 512\n",
        "    for idx in trange(0, len(sents), step):\n",
        "        idx_end = idx + step\n",
        "        if idx_end > len(sents):\n",
        "            idx_end = len(sents)\n",
        "        sents_batch = sents[idx: idx_end]\n",
        "\n",
        "        sents_batch_encoding = tokenizer(sents_batch, return_tensors='pt', max_length=max_len, padding=\"max_length\", truncation=True)\n",
        "        sents_batch_encoding = sents_batch_encoding.to(device)\n",
        "\n",
        "        with torch.no_grad():\n",
        "            batch_outputs = model(**sents_batch_encoding)\n",
        "            reps_batch = batch_outputs.last_hidden_state[:, 0, :]\n",
        "        sents_reps.append(reps_batch.cpu())\n",
        "    sents_reps = torch.cat(sents_reps)\n",
        "\n",
        "    for idx in range(len(labels)):\n",
        "        labels[idx] = torch.tensor(labels[idx])\n",
        "    labels = torch.stack(labels)\n",
        "\n",
        "    print(sents_reps.shape)\n",
        "    print(labels.shape)\n",
        "    path = f'/content/drive/MyDrive/ML/AI-algorithm/project/{task}/dataset_tensor/'\n",
        "    if not os.path.exists(path):\n",
        "        os.makedirs(path)\n",
        "    torch.save(sents_reps.to('cpu'), path + f'{mode}_sents.pt')\n",
        "    torch.save(labels, path + f'{mode}_labels.pt')\n",
        "\n",
        "if __name__ == '__main__':\n",
        "    cuda_no = 0 # GPU 번호\n",
        "    task = 'roberta' # Task 이름\n",
        "    device = f'cuda:{cuda_no}'\n",
        "\n",
        "    # 'train' 데이터셋에 대한 임베딩 추출\n",
        "    sents = new_agnews_dataset['train']['text']\n",
        "    labels = new_agnews_dataset['train']['label']\n",
        "    rep_extract(task, 'train', device, sents, labels)\n",
        "\n",
        "    # 'validation' 데이터셋에 대한 임베딩 추출\n",
        "    sents = new_agnews_dataset['validation']['text']\n",
        "    labels = new_agnews_dataset['validation']['label']\n",
        "    rep_extract(task, 'validation', device, sents, labels)\n",
        "\n",
        "    # 'test' 데이터셋에 대한 임베딩 추출\n",
        "    sents = new_agnews_dataset['test']['text']\n",
        "    labels = new_agnews_dataset['test']['label']\n",
        "    rep_extract(task, 'test', device, sents, labels)\n"
      ]
    },
    {
      "cell_type": "code",
      "source": [
        "import torch\n",
        "\n",
        "# 파일 경로 설정\n",
        "l_path = '/content/drive/MyDrive/ML/AI-algorithm/project/llama3-2/dataset_tensor/'\n",
        "b_path = '/content/drive/MyDrive/ML/AI-algorithm/project/bert/dataset_tensor/'\n",
        "r_path = '/content/drive/MyDrive/ML/AI-algorithm/project/roberta/dataset_tensor/'\n",
        "mode = 'train'  # train, test, validation 등의 모드에 따라 변경 가능\n",
        "\n",
        "# 각 pt 파일의 임베딩 로드 및 크기 확인\n",
        "l_sents_reps = torch.load(l_path + f'{mode}_sents.pt')\n",
        "b_sents_reps = torch.load(b_path + f'{mode}_sents.pt')\n",
        "r_sents_reps = torch.load(r_path + f'{mode}_sents.pt')\n",
        "\n",
        "print(f\"L Embedding Shape: {l_sents_reps.shape}\")\n",
        "print(f\"B Embedding Shape: {b_sents_reps.shape}\")\n",
        "print(f\"R Embedding Shape: {r_sents_reps.shape}\")\n"
      ],
      "metadata": {
        "colab": {
          "base_uri": "https://localhost:8080/"
        },
        "id": "X5DyZCtAxojm",
        "outputId": "7767523b-11ad-4592-e2a0-ea9f07fbbab1"
      },
      "execution_count": 100,
      "outputs": [
        {
          "output_type": "stream",
          "name": "stderr",
          "text": [
            "<ipython-input-100-f89f6534d2a9>:10: FutureWarning: You are using `torch.load` with `weights_only=False` (the current default value), which uses the default pickle module implicitly. It is possible to construct malicious pickle data which will execute arbitrary code during unpickling (See https://github.com/pytorch/pytorch/blob/main/SECURITY.md#untrusted-models for more details). In a future release, the default value for `weights_only` will be flipped to `True`. This limits the functions that could be executed during unpickling. Arbitrary objects will no longer be allowed to be loaded via this mode unless they are explicitly allowlisted by the user via `torch.serialization.add_safe_globals`. We recommend you start setting `weights_only=True` for any use case where you don't have full control of the loaded file. Please open an issue on GitHub for any issues related to this experimental feature.\n",
            "  l_sents_reps = torch.load(l_path + f'{mode}_sents.pt')\n",
            "<ipython-input-100-f89f6534d2a9>:11: FutureWarning: You are using `torch.load` with `weights_only=False` (the current default value), which uses the default pickle module implicitly. It is possible to construct malicious pickle data which will execute arbitrary code during unpickling (See https://github.com/pytorch/pytorch/blob/main/SECURITY.md#untrusted-models for more details). In a future release, the default value for `weights_only` will be flipped to `True`. This limits the functions that could be executed during unpickling. Arbitrary objects will no longer be allowed to be loaded via this mode unless they are explicitly allowlisted by the user via `torch.serialization.add_safe_globals`. We recommend you start setting `weights_only=True` for any use case where you don't have full control of the loaded file. Please open an issue on GitHub for any issues related to this experimental feature.\n",
            "  b_sents_reps = torch.load(b_path + f'{mode}_sents.pt')\n",
            "<ipython-input-100-f89f6534d2a9>:12: FutureWarning: You are using `torch.load` with `weights_only=False` (the current default value), which uses the default pickle module implicitly. It is possible to construct malicious pickle data which will execute arbitrary code during unpickling (See https://github.com/pytorch/pytorch/blob/main/SECURITY.md#untrusted-models for more details). In a future release, the default value for `weights_only` will be flipped to `True`. This limits the functions that could be executed during unpickling. Arbitrary objects will no longer be allowed to be loaded via this mode unless they are explicitly allowlisted by the user via `torch.serialization.add_safe_globals`. We recommend you start setting `weights_only=True` for any use case where you don't have full control of the loaded file. Please open an issue on GitHub for any issues related to this experimental feature.\n",
            "  r_sents_reps = torch.load(r_path + f'{mode}_sents.pt')\n"
          ]
        },
        {
          "output_type": "stream",
          "name": "stdout",
          "text": [
            "L Embedding Shape: torch.Size([128000, 5, 3072])\n",
            "B Embedding Shape: torch.Size([128000, 1024])\n",
            "R Embedding Shape: torch.Size([128000, 1024])\n"
          ]
        }
      ]
    },
    {
      "cell_type": "code",
      "source": [
        "from torch.utils.data import Dataset, DataLoader\n",
        "\n",
        "class UnifiedDataset(Dataset):\n",
        "    def __init__(self, l_path, b_path, r_path, mode, max_length=512):\n",
        "        self.l_sents_reps = torch.load(l_path + f'{mode}_sents.pt').mean(dim=1)  # [128000, 5, 3072] -> [128000, 3072]\n",
        "        self.b_sents_reps = torch.load(b_path + f'{mode}_sents.pt')  # [128000, 1024]\n",
        "        self.r_sents_reps = torch.load(r_path + f'{mode}_sents.pt')  # [128000, 1024]\n",
        "        self.labels = torch.load(l_path + f'{mode}_labels.pt')\n",
        "        self.sample_num = self.labels.shape[0]\n",
        "        self.max_length = max_length\n",
        "\n",
        "    def __getitem__(self, index):\n",
        "        l_embedding = self.l_sents_reps[index]\n",
        "        b_embedding = self.b_sents_reps[index]\n",
        "        r_embedding = self.r_sents_reps[index]\n",
        "        label = self.labels[index]\n",
        "\n",
        "        return l_embedding, b_embedding, r_embedding, label\n",
        "\n",
        "    def __len__(self):\n",
        "        return self.sample_num\n"
      ],
      "metadata": {
        "id": "52R15OrHdqci"
      },
      "execution_count": 101,
      "outputs": []
    },
    {
      "cell_type": "code",
      "source": [
        "import torch\n",
        "import torch.nn as nn\n",
        "import torch.nn.functional as F\n",
        "from transformers import AutoModel\n",
        "\n",
        "class UnifiedModel(nn.Module):\n",
        "    def __init__(self, class_num, model_checkpoint, embedding_dim=3072, hidden_size=1024, output_size=256, dropout_rate=0.5, sigma=0.1):\n",
        "        super(UnifiedModel, self).__init__()\n",
        "        self.sigma = sigma\n",
        "        # compress_layers의 입력 크기를 embedding_dim(3072)로 설정하고, 출력 크기를 hidden_size(1024)로 설정\n",
        "        self.compress_layers = nn.ModuleList([nn.Sequential(\n",
        "            nn.Linear(embedding_dim, hidden_size), nn.ReLU(), nn.Dropout(dropout_rate)) for _ in range(3)])\n",
        "\n",
        "        # B와 R 임베딩을 3072 차원으로 맞추는 Linear 레이어 추가\n",
        "        self.b_linear = nn.Linear(1024, 3072)\n",
        "        self.r_linear = nn.Linear(1024, 3072)\n",
        "\n",
        "        # EFT 기반 feature extractor\n",
        "        self.language_model = AutoModel.from_pretrained(model_checkpoint)\n",
        "        self.classifier_head = ExtremeFineTuningClassificationHead(\n",
        "            input_size=hidden_size,\n",
        "            hidden_size=output_size,\n",
        "            output_size=class_num,\n",
        "            activation_function=nn.PReLU(init=0.5),\n",
        "            dropout=nn.Dropout(dropout_rate)\n",
        "        )\n",
        "\n",
        "        # fc1의 입력 크기를 hidden_size * 3으로 설정하여 compress_layers 출력과 맞춥니다.\n",
        "        self.fc1 = nn.Linear(hidden_size * 3, hidden_size)\n",
        "        self.fc2 = nn.Linear(hidden_size, output_size)\n",
        "        self.fc3 = nn.Linear(output_size, class_num)\n",
        "        self.softmax = nn.Softmax(dim=1)\n",
        "\n",
        "        # I-ELM 모드 플래그 설정\n",
        "        self.elm_mode = False\n",
        "\n",
        "    def forward(self, input_l, input_b, input_r):\n",
        "        #batch_size = input_l.shape[0]\n",
        "\n",
        "        # 입력 텐서를 float32로 변환\n",
        "        input_l, input_b, input_r = input_l.float(), input_b.float(), input_r.float()\n",
        "\n",
        "        # B와 R 임베딩을 3072 차원으로 변환\n",
        "        input_b = self.b_linear(input_b)\n",
        "        input_r = self.r_linear(input_r)\n",
        "\n",
        "        # LLMEmbed 다중 임베딩 처리\n",
        "        embedded_inputs = [layer(embed) for layer, embed in zip(self.compress_layers, [input_l, input_b, input_r])]\n",
        "        embedded_inputs = torch.cat(embedded_inputs, dim=1)\n",
        "\n",
        "        # 통합 입력으로 결합\n",
        "        x = self.fc1(embedded_inputs)\n",
        "        x = F.relu(x)\n",
        "        x = self.fc2(x)\n",
        "        x = F.relu(x)\n",
        "        x = self.fc3(x)\n",
        "        return self.softmax(x)\n",
        "\n",
        "    def set_elm_mode(self):\n",
        "        \"\"\"I-ELM 모드를 활성화합니다.\"\"\"\n",
        "        self.elm_mode = True\n",
        "\n",
        "    def unset_elm_mode(self):\n",
        "        \"\"\"I-ELM 모드를 비활성화합니다.\"\"\"\n",
        "        self.elm_mode = False\n",
        "\n",
        "    def step_helper(self, input_l, input_b, input_r, labels):\n",
        "        \"\"\"I-ELM용 입력 데이터 전처리\"\"\"\n",
        "        combined_features = self.forward(input_l, input_b, input_r)\n",
        "        labels_one_hot = torch.nn.functional.one_hot(labels, num_classes=self.fc3.out_features).float()\n",
        "        return combined_features, labels_one_hot\n",
        "\n",
        "    def _iterative_elm(self, input_features, label_one_hot):\n",
        "        \"\"\"I-ELM을 사용하여 가중치 업데이트 수행\"\"\"\n",
        "        if not hasattr(self, 'H'):\n",
        "            self.H = input_features.T @ input_features\n",
        "            self.T = input_features.T @ label_one_hot\n",
        "            self.output_weights = torch.linalg.pinv(self.H) @ self.T\n",
        "        else:\n",
        "            self.H += input_features.T @ input_features\n",
        "            self.T += input_features.T @ label_one_hot\n",
        "            self.output_weights = torch.linalg.pinv(self.H) @ self.T"
      ],
      "metadata": {
        "id": "NVBuUWW3vM4-"
      },
      "execution_count": 106,
      "outputs": []
    },
    {
      "cell_type": "code",
      "source": [
        "# import torch\n",
        "# import torch.nn as nn\n",
        "# import torch.nn.functional as F\n",
        "# import numpy as np\n",
        "# from torch.utils.data import Dataset, DataLoader\n",
        "# from transformers import AutoModel\n",
        "\n",
        "# class UnifiedModel(nn.Module):\n",
        "#     def __init__(self, class_num, model_checkpoint, embedding_dim=3072, hidden_size=1024, output_size=256, dropout_rate=0.5, sigma=0.1):\n",
        "#         super(UnifiedModel, self).__init__()\n",
        "#         self.sigma = sigma\n",
        "#         self.compress_layers = nn.ModuleList([nn.Sequential(\n",
        "#             nn.Linear(embedding_dim, hidden_size), nn.ReLU(), nn.Dropout(dropout_rate)) for _ in range(3)])\n",
        "\n",
        "#         # EFT 기반 feature extractor\n",
        "#         self.language_model = AutoModel.from_pretrained(model_checkpoint)\n",
        "#         self.classifier_head = ExtremeFineTuningClassificationHead(\n",
        "#             input_size=hidden_size,\n",
        "#             hidden_size=output_size,\n",
        "#             output_size=class_num,\n",
        "#             activation_function=nn.PReLU(init=0.5),\n",
        "#             dropout=nn.Dropout(dropout_rate)\n",
        "#         )\n",
        "\n",
        "#         self.fc1 = nn.Linear(hidden_size * 3, hidden_size)\n",
        "#         self.fc2 = nn.Linear(hidden_size, output_size)\n",
        "#         self.fc3 = nn.Linear(output_size, class_num)\n",
        "#         self.softmax = nn.Softmax(dim=1)\n",
        "\n",
        "#         # I-ELM 모드 플래그 설정\n",
        "#         self.elm_mode = False\n",
        "\n",
        "#     def forward(self, input_l, input_b, input_r):\n",
        "#         batch_size = input_l.shape[0]\n",
        "\n",
        "#         # LLMEmbed 다중 임베딩 처리\n",
        "#         input_l = input_l.float()\n",
        "#         input_b = input_b.float()\n",
        "#         input_r = input_r.float()\n",
        "\n",
        "#         embedded_inputs = [layer(embed) for layer, embed in zip(self.compress_layers, [input_l, input_b, input_r])]\n",
        "#         embedded_inputs = torch.cat(embedded_inputs, dim=1)\n",
        "\n",
        "#         # 통합 입력으로 결합\n",
        "#         x = self.fc1(embedded_inputs)\n",
        "#         x = F.relu(x)\n",
        "#         x = self.fc2(x)\n",
        "#         x = F.relu(x)\n",
        "#         x = self.fc3(x)\n",
        "#         return self.softmax(x)\n",
        "\n",
        "#     def set_elm_mode(self):\n",
        "#         \"\"\"I-ELM 모드를 활성화합니다.\"\"\"\n",
        "#         self.elm_mode = True\n",
        "\n",
        "#     def unset_elm_mode(self):\n",
        "#         \"\"\"I-ELM 모드를 비활성화합니다.\"\"\"\n",
        "#         self.elm_mode = False\n",
        "\n",
        "#     def step_helper(self, input_l, input_b, input_r, labels):\n",
        "#         \"\"\"I-ELM용 입력 데이터 전처리\"\"\"\n",
        "#         combined_features = self.forward(input_l, input_b, input_r)\n",
        "#         labels_one_hot = torch.nn.functional.one_hot(labels, num_classes=self.fc3.out_features).float()\n",
        "#         return combined_features, labels_one_hot\n",
        "\n",
        "#     def _iterative_elm(self, input_features, label_one_hot):\n",
        "#         \"\"\"I-ELM을 사용하여 가중치 업데이트 수행\"\"\"\n",
        "#         if not hasattr(self, 'H'):\n",
        "#             self.H = input_features.T @ input_features\n",
        "#             self.T = input_features.T @ label_one_hot\n",
        "#             self.output_weights = torch.linalg.pinv(self.H) @ self.T\n",
        "#         else:\n",
        "#             self.H += input_features.T @ input_features\n",
        "#             self.T += input_features.T @ label_one_hot\n",
        "#             self.output_weights = torch.linalg.pinv(self.H) @ self.T"
      ],
      "metadata": {
        "id": "3n3WMQ2-dwQ_"
      },
      "execution_count": 89,
      "outputs": []
    },
    {
      "cell_type": "code",
      "source": [
        "class ExtremeFineTuningClassificationHead(nn.Module):\n",
        "    def __init__(self, input_size, hidden_size, output_size, activation_function=None, dropout=None):\n",
        "        super(ExtremeFineTuningClassificationHead, self).__init__()\n",
        "        self.input_weights = nn.Linear(input_size, hidden_size)\n",
        "        self.output_weights = nn.Linear(hidden_size, output_size)\n",
        "        self.activation_function = activation_function if activation_function else nn.Tanh()\n",
        "        self.dropout = dropout\n",
        "\n",
        "    def forward(self, features):\n",
        "        x = features\n",
        "        if self.dropout:\n",
        "            x = self.dropout(x)\n",
        "        x = self.input_weights(x)\n",
        "        x = self.activation_function(x)\n",
        "        if self.dropout:\n",
        "            x = self.dropout(x)\n",
        "        x = self.output_weights(x)\n",
        "        return x"
      ],
      "metadata": {
        "id": "rGrVAfmcd40Y"
      },
      "execution_count": 107,
      "outputs": []
    },
    {
      "cell_type": "code",
      "source": [
        "import torch\n",
        "import torch.nn as nn\n",
        "import torch.optim as optim\n",
        "from torch.utils.data import DataLoader\n",
        "from transformers import AutoTokenizer\n",
        "#from unified_fine_tuning import UnifiedModel, UnifiedDataset\n",
        "\n",
        "def set_hyperparameters():\n",
        "    \"\"\"하이퍼파라미터 설정 함수\"\"\"\n",
        "    # EFT 하이퍼파라미터\n",
        "    eft_params = {\n",
        "        'hidden_size': 1024,\n",
        "        'output_size': 256,\n",
        "        'dropout_rate': 0.1,\n",
        "        'lr': 1e-4  # EFT 학습률\n",
        "    }\n",
        "\n",
        "    # LLMEmbed 하이퍼파라미터\n",
        "    llmembed_params = {\n",
        "        'SIGMA': 0.1,\n",
        "        'dropout_rate': 0.5,\n",
        "        'compress_layers': 5,  # LLM 임베딩 레이어 수\n",
        "        'lr': 5e-5  # LLMEmbed 학습률\n",
        "    }\n",
        "\n",
        "    # 최적화 설정 조합\n",
        "    combined_params = {\n",
        "        'total_epochs': 10,\n",
        "        'elm_epochs': 3,  # I-ELM 학습을 수행할 초기 에폭 수\n",
        "        'batch_size': 32,\n",
        "        'num_classes': 5  # 예시로 5개 클래스 설정, 데이터셋에 따라 조정\n",
        "    }\n",
        "    return eft_params, llmembed_params, combined_params\n",
        "\n",
        "def train_model(model, dataloader, device, loss_fn, optimizer, eft_optimizer, epochs=10, elm_epochs=3):\n",
        "    \"\"\"모델 학습 함수\"\"\"\n",
        "    for epoch in range(epochs):\n",
        "        total_loss, total_acc = 0, 0\n",
        "\n",
        "        if epoch < elm_epochs:\n",
        "            print(f\"Epoch {epoch+1}/{epochs} - Using I-ELM training\")\n",
        "            model.set_elm_mode()  # 모델을 I-ELM 모드로 설정\n",
        "            with torch.no_grad():  # I-ELM은 경사 하강을 사용하지 않음\n",
        "                for batch in dataloader:\n",
        "                    input_l, input_b, input_r, labels = batch\n",
        "                    input_l, input_b, input_r, labels = input_l.to(device), input_b.to(device), input_r.to(device), labels.to(device)\n",
        "\n",
        "                    # I-ELM 가중치 업데이트\n",
        "                    features, labels_one_hot = model.step_helper(input_l, input_b, input_r, labels)\n",
        "                    model._iterative_elm(features, labels_one_hot)\n",
        "\n",
        "            model.unset_elm_mode()  # I-ELM 모드 해제\n",
        "\n",
        "        else:\n",
        "            print(f\"Epoch {epoch+1}/{epochs} - Using Backpropagation training\")\n",
        "            model.train()\n",
        "            for batch in dataloader:\n",
        "                input_l, input_b, input_r, labels = batch\n",
        "                input_l, input_b, input_r, labels = input_l.to(device), input_b.to(device), input_r.to(device), labels.to(device)\n",
        "\n",
        "                # Forward 및 손실 계산\n",
        "                optimizer.zero_grad()\n",
        "                eft_optimizer.zero_grad()  # EFT 파라미터의 옵티마이저\n",
        "                outputs = model(input_l, input_b, input_r)\n",
        "                loss = loss_fn(outputs, labels)\n",
        "\n",
        "                # Backward\n",
        "                loss.backward()\n",
        "                optimizer.step()\n",
        "                eft_optimizer.step()  # EFT 파라미터 업데이트\n",
        "\n",
        "                # Loss 및 정확도 기록\n",
        "                total_loss += loss.item()\n",
        "                _, preds = torch.max(outputs, 1)\n",
        "                total_acc += (preds == labels).sum().item() / len(labels)\n",
        "\n",
        "            print(f\"Epoch {epoch+1}/{epochs}, Loss: {total_loss / len(dataloader):.4f}, Accuracy: {total_acc / len(dataloader):.4f}\")\n",
        "\n",
        "def evaluate_model(model, dataloader, device):\n",
        "    model.eval()\n",
        "    total_acc, total_loss = 0, 0\n",
        "    loss_fn = nn.CrossEntropyLoss()\n",
        "\n",
        "    with torch.no_grad():\n",
        "        for input_l, input_b, input_r, labels in dataloader:\n",
        "            input_l, input_b, input_r, labels = input_l.to(device), input_b.to(device), input_r.to(device), labels.to(device)\n",
        "            outputs = model(input_l, input_b, input_r)\n",
        "            loss = loss_fn(outputs, labels)\n",
        "            total_loss += loss.item()\n",
        "\n",
        "            _, preds = torch.max(outputs, 1)\n",
        "            total_acc += (preds == labels).sum().item()\n",
        "\n",
        "    avg_loss = total_loss / len(dataloader)\n",
        "    avg_acc = total_acc / (len(dataloader.dataset))\n",
        "    print(f\"Test Loss: {avg_loss:.4f}, Test Accuracy: {avg_acc:.4f}\")\n",
        "\n",
        "\n",
        "\n",
        "if __name__ == '__main__':\n",
        "    # Hyperparameters 설정\n",
        "    eft_params, llmembed_params, combined_params = set_hyperparameters()\n",
        "    #model_checkpoint = 'roberta-base'  # EFT에서 사용하는 사전 학습 모델\n",
        "    model_checkpoint = 'FacebookAI/roberta-large'\n",
        "    l_path = '/content/drive/MyDrive/ML/AI-algorithm/project/llama3-2/dataset_tensor/'  # LLM 임베딩 경로\n",
        "    b_path = '/content/drive/MyDrive/ML/AI-algorithm/project/bert/dataset_tensor/'\n",
        "    r_path = '/content/drive/MyDrive/ML/AI-algorithm/project/roberta/dataset_tensor/'\n",
        "    batch_size = combined_params['batch_size']\n",
        "    total_epochs = combined_params['total_epochs']\n",
        "    elm_epochs = combined_params['elm_epochs']\n",
        "    num_classes = combined_params['num_classes']\n",
        "\n",
        "    # Device 설정\n",
        "    device = torch.device('cuda' if torch.cuda.is_available() else 'cpu')\n",
        "\n",
        "    # 데이터셋 및 데이터로더 초기화\n",
        "    tokenizer = AutoTokenizer.from_pretrained(model_checkpoint)\n",
        "    train_dataset = UnifiedDataset(l_path=l_path, b_path=b_path, r_path=r_path, mode='train')\n",
        "    test_dataset = UnifiedDataset(l_path=l_path, b_path=b_path, r_path=r_path, mode='test')\n",
        "    train_loader = DataLoader(train_dataset, batch_size=batch_size, shuffle=True)\n",
        "    test_loader = DataLoader(test_dataset, batch_size=batch_size, shuffle=False)\n",
        "\n",
        "    # 모델 초기화\n",
        "    model = UnifiedModel(\n",
        "        class_num=num_classes,\n",
        "        model_checkpoint=model_checkpoint,\n",
        "        hidden_size=eft_params['hidden_size'],\n",
        "        output_size=eft_params['output_size'],\n",
        "        dropout_rate=eft_params['dropout_rate'],\n",
        "        sigma=llmembed_params['SIGMA']\n",
        "    )\n",
        "    model.to(device)\n",
        "\n",
        "    # 손실 함수 및 옵티마이저\n",
        "    loss_fn = nn.CrossEntropyLoss()\n",
        "    optimizer = optim.AdamW(model.parameters(), lr=llmembed_params['lr'])  # LLMEmbed 학습률 사용\n",
        "    eft_optimizer = optim.AdamW(model.language_model.parameters(), lr=eft_params['lr'])  # EFT 학습률 사용\n",
        "\n",
        "    # 모델 학습\n",
        "    print(\"Training the model...\")\n",
        "    train_model(model, train_loader, device, loss_fn, optimizer, eft_optimizer, epochs=total_epochs, elm_epochs=elm_epochs)\n",
        "\n",
        "    # 모델 평가\n",
        "    print(\"Evaluating the model...\")\n",
        "    evaluate_model(model, test_loader, device)\n"
      ],
      "metadata": {
        "colab": {
          "base_uri": "https://localhost:8080/"
        },
        "id": "fsMoniuEd-Jr",
        "outputId": "70e562cb-f232-423c-b563-aedda954ec95"
      },
      "execution_count": 108,
      "outputs": [
        {
          "output_type": "stream",
          "name": "stderr",
          "text": [
            "<ipython-input-101-23972395ebc1>:5: FutureWarning: You are using `torch.load` with `weights_only=False` (the current default value), which uses the default pickle module implicitly. It is possible to construct malicious pickle data which will execute arbitrary code during unpickling (See https://github.com/pytorch/pytorch/blob/main/SECURITY.md#untrusted-models for more details). In a future release, the default value for `weights_only` will be flipped to `True`. This limits the functions that could be executed during unpickling. Arbitrary objects will no longer be allowed to be loaded via this mode unless they are explicitly allowlisted by the user via `torch.serialization.add_safe_globals`. We recommend you start setting `weights_only=True` for any use case where you don't have full control of the loaded file. Please open an issue on GitHub for any issues related to this experimental feature.\n",
            "  self.l_sents_reps = torch.load(l_path + f'{mode}_sents.pt').mean(dim=1)  # [128000, 5, 3072] -> [128000, 3072]\n",
            "<ipython-input-101-23972395ebc1>:6: FutureWarning: You are using `torch.load` with `weights_only=False` (the current default value), which uses the default pickle module implicitly. It is possible to construct malicious pickle data which will execute arbitrary code during unpickling (See https://github.com/pytorch/pytorch/blob/main/SECURITY.md#untrusted-models for more details). In a future release, the default value for `weights_only` will be flipped to `True`. This limits the functions that could be executed during unpickling. Arbitrary objects will no longer be allowed to be loaded via this mode unless they are explicitly allowlisted by the user via `torch.serialization.add_safe_globals`. We recommend you start setting `weights_only=True` for any use case where you don't have full control of the loaded file. Please open an issue on GitHub for any issues related to this experimental feature.\n",
            "  self.b_sents_reps = torch.load(b_path + f'{mode}_sents.pt')  # [128000, 1024]\n",
            "<ipython-input-101-23972395ebc1>:7: FutureWarning: You are using `torch.load` with `weights_only=False` (the current default value), which uses the default pickle module implicitly. It is possible to construct malicious pickle data which will execute arbitrary code during unpickling (See https://github.com/pytorch/pytorch/blob/main/SECURITY.md#untrusted-models for more details). In a future release, the default value for `weights_only` will be flipped to `True`. This limits the functions that could be executed during unpickling. Arbitrary objects will no longer be allowed to be loaded via this mode unless they are explicitly allowlisted by the user via `torch.serialization.add_safe_globals`. We recommend you start setting `weights_only=True` for any use case where you don't have full control of the loaded file. Please open an issue on GitHub for any issues related to this experimental feature.\n",
            "  self.r_sents_reps = torch.load(r_path + f'{mode}_sents.pt')  # [128000, 1024]\n",
            "<ipython-input-101-23972395ebc1>:8: FutureWarning: You are using `torch.load` with `weights_only=False` (the current default value), which uses the default pickle module implicitly. It is possible to construct malicious pickle data which will execute arbitrary code during unpickling (See https://github.com/pytorch/pytorch/blob/main/SECURITY.md#untrusted-models for more details). In a future release, the default value for `weights_only` will be flipped to `True`. This limits the functions that could be executed during unpickling. Arbitrary objects will no longer be allowed to be loaded via this mode unless they are explicitly allowlisted by the user via `torch.serialization.add_safe_globals`. We recommend you start setting `weights_only=True` for any use case where you don't have full control of the loaded file. Please open an issue on GitHub for any issues related to this experimental feature.\n",
            "  self.labels = torch.load(l_path + f'{mode}_labels.pt')\n",
            "Some weights of RobertaModel were not initialized from the model checkpoint at FacebookAI/roberta-large and are newly initialized: ['roberta.pooler.dense.bias', 'roberta.pooler.dense.weight']\n",
            "You should probably TRAIN this model on a down-stream task to be able to use it for predictions and inference.\n"
          ]
        },
        {
          "output_type": "stream",
          "name": "stdout",
          "text": [
            "Training the model...\n",
            "Epoch 1/10 - Using I-ELM training\n",
            "Epoch 2/10 - Using I-ELM training\n",
            "Epoch 3/10 - Using I-ELM training\n",
            "Epoch 4/10 - Using Backpropagation training\n",
            "Epoch 4/10, Loss: 0.9895, Accuracy: 0.9179\n",
            "Epoch 5/10 - Using Backpropagation training\n",
            "Epoch 5/10, Loss: 0.9697, Accuracy: 0.9348\n",
            "Epoch 6/10 - Using Backpropagation training\n",
            "Epoch 6/10, Loss: 0.9673, Accuracy: 0.9371\n",
            "Epoch 7/10 - Using Backpropagation training\n",
            "Epoch 7/10, Loss: 0.9662, Accuracy: 0.9382\n",
            "Epoch 8/10 - Using Backpropagation training\n",
            "Epoch 8/10, Loss: 0.9650, Accuracy: 0.9393\n",
            "Epoch 9/10 - Using Backpropagation training\n",
            "Epoch 9/10, Loss: 0.9638, Accuracy: 0.9405\n",
            "Epoch 10/10 - Using Backpropagation training\n",
            "Epoch 10/10, Loss: 0.9626, Accuracy: 0.9417\n",
            "Evaluating the model...\n",
            "Test Loss: 0.9597, Test Accuracy: 0.9446\n"
          ]
        }
      ]
    },
    {
      "cell_type": "markdown",
      "metadata": {
        "id": "uaAIucW0Bfqv"
      },
      "source": [
        "# **4. Dataset 정의**"
      ]
    },
    {
      "cell_type": "code",
      "execution_count": null,
      "metadata": {
        "id": "xmRwlZomBpKE"
      },
      "outputs": [],
      "source": [
        "import torch\n",
        "from torch.utils.data import Dataset, DataLoader\n",
        "\n",
        "class MyDataset(Dataset):\n",
        "\n",
        "    def __init__(self, mode, l_path, b_path, r_path):\n",
        "        self.l_sents_reps = torch.load(l_path + f'{mode}_sents.pt')\n",
        "        self.b_sents_reps = torch.load(b_path + f'{mode}_sents.pt')\n",
        "        self.r_sents_reps = torch.load(r_path + f'{mode}_sents.pt')\n",
        "\n",
        "        self.labels = torch.load(l_path + f'{mode}_labels.pt')\n",
        "\n",
        "        self.sample_num = self.labels.shape[0]\n",
        "\n",
        "    def __getitem__(self, index):\n",
        "        return self.l_sents_reps[index], self.b_sents_reps[index], self.r_sents_reps[index], self.labels[index]\n",
        "\n",
        "    def __len__(self):\n",
        "        return self.sample_num"
      ]
    },
    {
      "cell_type": "markdown",
      "metadata": {
        "id": "FOCOUdH8B5PF"
      },
      "source": [
        "# **5. Model operation (multi)**"
      ]
    },
    {
      "cell_type": "code",
      "execution_count": null,
      "metadata": {
        "id": "JH6oGiXVB99L"
      },
      "outputs": [],
      "source": [
        "import torch\n",
        "from sklearn.metrics import accuracy_score, f1_score, precision_score, recall_score\n",
        "from tqdm import tqdm\n",
        "import numpy as np\n",
        "\n",
        "# epoch - Train\n",
        "def Train_multi(dataloader, device, model, loss_fn, optimizer):\n",
        "    loss_list, acc_list, micro_f1_list, macro_f1_list = [], [], [], []\n",
        "\n",
        "    for batch_i, batch_loader in enumerate(tqdm(dataloader)):\n",
        "        batch_l, batch_b, batch_r, batch_y = batch_loader\n",
        "        batch_l, batch_b, batch_r, batch_y = batch_l.to(device), batch_b.to(device), batch_r.to(device), batch_y.to(device)\n",
        "\n",
        "        model.train()\n",
        "        pred = model(batch_l.float(), batch_b.float(), batch_r.float())\n",
        "        loss = loss_fn(pred, batch_y)\n",
        "\n",
        "        optimizer.zero_grad()\n",
        "        loss.backward()\n",
        "        optimizer.step()\n",
        "\n",
        "        pred_y = torch.max(pred, 1).indices\n",
        "        # print(pred_y)\n",
        "        acc = accuracy_score(batch_y.cpu(), pred_y.cpu())\n",
        "        micro_f1 = f1_score(batch_y.cpu(), pred_y.cpu(), average='micro')\n",
        "        macro_f1 = f1_score(batch_y.cpu(), pred_y.cpu(), average='macro')\n",
        "        loss = loss.cpu()\n",
        "\n",
        "        loss_list.append(loss.item())\n",
        "        acc_list.append(acc)\n",
        "        micro_f1_list.append(micro_f1)\n",
        "        macro_f1_list.append(macro_f1)\n",
        "    print(f'loss: {np.mean(loss_list):.4f}')\n",
        "    print(f'acc: {np.mean(acc_list):.4f}')\n",
        "    print(f'micro_f1: {np.mean(micro_f1_list):.4f}')\n",
        "    print(f'macro_f1: {np.mean(macro_f1_list):.4f}')\n",
        "\n",
        "def Test_multi(dataloader, device, model, loss_fn):\n",
        "    avg_loss = 0\n",
        "    total_pred, total_y = [], []\n",
        "\n",
        "    for batch_i, batch_loader in enumerate(tqdm(dataloader)):\n",
        "        batch_l, batch_b, batch_r, batch_y = batch_loader\n",
        "        batch_l, batch_b, batch_r, batch_y = batch_l.to(device), batch_b.to(device), batch_r.to(device), batch_y.to(device)\n",
        "\n",
        "        model.eval()\n",
        "        with torch.no_grad():\n",
        "            pred = model(batch_l.float(), batch_b.float(), batch_r.float())\n",
        "            loss = loss_fn(pred, batch_y)\n",
        "            loss = loss.to('cpu')\n",
        "            avg_loss += loss.item()\n",
        "\n",
        "        pred_y = torch.max(pred, 1).indices\n",
        "        total_pred.append(pred_y.cpu())\n",
        "        total_y.append(batch_y.cpu())\n",
        "\n",
        "    avg_loss = avg_loss / (batch_i+1)\n",
        "\n",
        "    total_y = torch.cat(total_y)\n",
        "    total_pred = torch.cat(total_pred)\n",
        "    acc = accuracy_score(total_y, total_pred)\n",
        "    micro_f1 = f1_score(total_y.cpu(), total_pred.cpu(), average='micro')\n",
        "    macro_f1 = f1_score(total_y.cpu(), total_pred.cpu(), average='macro')\n",
        "\n",
        "    print(f'avg loss: {avg_loss:.4f}')\n",
        "    print(f'acc: {acc:.4f}')\n",
        "    print(f'micro_f1: {micro_f1:.4f}')\n",
        "    print(f'macro_f1: {macro_f1:.4f}')"
      ]
    },
    {
      "cell_type": "markdown",
      "metadata": {
        "id": "_WkAtmwSCE8W"
      },
      "source": [
        "# **6. Downstream Model Class**"
      ]
    },
    {
      "cell_type": "code",
      "execution_count": null,
      "metadata": {
        "id": "4ROTeg4gCK9P"
      },
      "outputs": [],
      "source": [
        "import torch\n",
        "import torch.nn as nn\n",
        "import torch.nn.functional as F\n",
        "\n",
        "class DownstreamModel(nn.Module):\n",
        "    def __init__(self, class_num, SIGMA):\n",
        "        super(DownstreamModel, self).__init__()\n",
        "        self.SIGMA = SIGMA\n",
        "        self.compress_layers = nn.ModuleList()\n",
        "        for _ in range(5):\n",
        "            layers = []\n",
        "            layers.append(nn.Linear(4096, 1024))\n",
        "            layers.append(nn.ReLU())\n",
        "            layers.append(nn.Dropout(0.5))\n",
        "            self.compress_layers.append(nn.Sequential(*layers))\n",
        "\n",
        "        self.fc1 = nn.Linear(4145, 1024)\n",
        "        self.relu1 = nn.ReLU()\n",
        "        self.dropout1 = nn.Dropout(0.5)\n",
        "        self.fc2 = nn.Linear(1024, 256)\n",
        "        self.relu2 = nn.ReLU()\n",
        "        self.dropout2 = nn.Dropout(0.5)\n",
        "        self.fc3 = nn.Linear(256, class_num)\n",
        "        self.softmax = nn.Softmax(dim=1)\n",
        "\n",
        "    def forward(self, input_l, input_b, input_r):\n",
        "        batch_size = input_l.shape[0]\n",
        "        split_tensors = torch.split(input_l, 1, dim=1)\n",
        "        input = []\n",
        "        for i, split_tensor in enumerate(split_tensors):\n",
        "            split_tensor = split_tensor.reshape(batch_size,-1)\n",
        "            input.append(self.compress_layers[i](split_tensor))\n",
        "        input.append(input_b)\n",
        "        input.append(input_r)\n",
        "        input = torch.stack(input, dim=1)\n",
        "        # X * X^T\n",
        "        input_T = input.transpose(1, 2)\n",
        "        input_P = torch.matmul(input, input_T)\n",
        "        input_P = input_P.reshape(batch_size, -1)\n",
        "        # PN func\n",
        "        input_P = 2*F.sigmoid(self.SIGMA * input_P) - 1\n",
        "\n",
        "        a = torch.mean(input_l, dim=1)\n",
        "        input = torch.cat([input_P, a], dim=1)\n",
        "        # print(input.shape)\n",
        "\n",
        "        output = self.fc1(input)\n",
        "        output = self.relu1(output)\n",
        "        output = self.dropout1(output)\n",
        "        output = self.fc2(output)\n",
        "        output = self.relu2(output)\n",
        "        output = self.dropout2(output)\n",
        "        output = self.fc3(output)\n",
        "        output = self.softmax(output)\n",
        "\n",
        "        return output\n",
        "\n",
        "# if __name__ == '__main__':\n",
        "#     model = DownstreamModel(2)\n",
        "#     print(model)"
      ]
    },
    {
      "cell_type": "markdown",
      "metadata": {
        "id": "sktu-TNZCVzQ"
      },
      "source": [
        "# **7. Fine-tuning**"
      ]
    },
    {
      "cell_type": "code",
      "execution_count": null,
      "metadata": {
        "colab": {
          "base_uri": "https://localhost:8080/"
        },
        "id": "ryA_Qtn1CyQV",
        "outputId": "3f6f12fe-6ebe-404d-a30a-0728957d6d0f"
      },
      "outputs": [
        {
          "name": "stderr",
          "output_type": "stream",
          "text": [
            "<ipython-input-1-9044650157bc>:7: FutureWarning: You are using `torch.load` with `weights_only=False` (the current default value), which uses the default pickle module implicitly. It is possible to construct malicious pickle data which will execute arbitrary code during unpickling (See https://github.com/pytorch/pytorch/blob/main/SECURITY.md#untrusted-models for more details). In a future release, the default value for `weights_only` will be flipped to `True`. This limits the functions that could be executed during unpickling. Arbitrary objects will no longer be allowed to be loaded via this mode unless they are explicitly allowlisted by the user via `torch.serialization.add_safe_globals`. We recommend you start setting `weights_only=True` for any use case where you don't have full control of the loaded file. Please open an issue on GitHub for any issues related to this experimental feature.\n",
            "  self.l_sents_reps = torch.load(l_path + f'{mode}_sents.pt')\n",
            "<ipython-input-1-9044650157bc>:8: FutureWarning: You are using `torch.load` with `weights_only=False` (the current default value), which uses the default pickle module implicitly. It is possible to construct malicious pickle data which will execute arbitrary code during unpickling (See https://github.com/pytorch/pytorch/blob/main/SECURITY.md#untrusted-models for more details). In a future release, the default value for `weights_only` will be flipped to `True`. This limits the functions that could be executed during unpickling. Arbitrary objects will no longer be allowed to be loaded via this mode unless they are explicitly allowlisted by the user via `torch.serialization.add_safe_globals`. We recommend you start setting `weights_only=True` for any use case where you don't have full control of the loaded file. Please open an issue on GitHub for any issues related to this experimental feature.\n",
            "  self.b_sents_reps = torch.load(b_path + f'{mode}_sents.pt')\n",
            "<ipython-input-1-9044650157bc>:9: FutureWarning: You are using `torch.load` with `weights_only=False` (the current default value), which uses the default pickle module implicitly. It is possible to construct malicious pickle data which will execute arbitrary code during unpickling (See https://github.com/pytorch/pytorch/blob/main/SECURITY.md#untrusted-models for more details). In a future release, the default value for `weights_only` will be flipped to `True`. This limits the functions that could be executed during unpickling. Arbitrary objects will no longer be allowed to be loaded via this mode unless they are explicitly allowlisted by the user via `torch.serialization.add_safe_globals`. We recommend you start setting `weights_only=True` for any use case where you don't have full control of the loaded file. Please open an issue on GitHub for any issues related to this experimental feature.\n",
            "  self.r_sents_reps = torch.load(r_path + f'{mode}_sents.pt')\n",
            "<ipython-input-1-9044650157bc>:11: FutureWarning: You are using `torch.load` with `weights_only=False` (the current default value), which uses the default pickle module implicitly. It is possible to construct malicious pickle data which will execute arbitrary code during unpickling (See https://github.com/pytorch/pytorch/blob/main/SECURITY.md#untrusted-models for more details). In a future release, the default value for `weights_only` will be flipped to `True`. This limits the functions that could be executed during unpickling. Arbitrary objects will no longer be allowed to be loaded via this mode unless they are explicitly allowlisted by the user via `torch.serialization.add_safe_globals`. We recommend you start setting `weights_only=True` for any use case where you don't have full control of the loaded file. Please open an issue on GitHub for any issues related to this experimental feature.\n",
            "  self.labels = torch.load(l_path + f'{mode}_labels.pt')\n"
          ]
        },
        {
          "name": "stdout",
          "output_type": "stream",
          "text": [
            "training ...\n",
            "--------------------------- epoch 0 ---------------------------\n"
          ]
        },
        {
          "name": "stderr",
          "output_type": "stream",
          "text": [
            "100%|██████████| 147/147 [00:05<00:00, 27.81it/s]\n"
          ]
        },
        {
          "name": "stdout",
          "output_type": "stream",
          "text": [
            "loss: 1.0586\n",
            "acc: 0.8725\n",
            "micro_f1: 0.8725\n",
            "macro_f1: 0.8697\n",
            "--------------------------- epoch 1 ---------------------------\n"
          ]
        },
        {
          "name": "stderr",
          "output_type": "stream",
          "text": [
            "100%|██████████| 147/147 [00:05<00:00, 27.90it/s]\n"
          ]
        },
        {
          "name": "stdout",
          "output_type": "stream",
          "text": [
            "loss: 0.9679\n",
            "acc: 0.9391\n",
            "micro_f1: 0.9391\n",
            "macro_f1: 0.9388\n",
            "--------------------------- epoch 2 ---------------------------\n"
          ]
        },
        {
          "name": "stderr",
          "output_type": "stream",
          "text": [
            "100%|██████████| 147/147 [00:05<00:00, 28.75it/s]\n"
          ]
        },
        {
          "name": "stdout",
          "output_type": "stream",
          "text": [
            "loss: 0.9630\n",
            "acc: 0.9428\n",
            "micro_f1: 0.9428\n",
            "macro_f1: 0.9426\n",
            "--------------------------- epoch 3 ---------------------------\n"
          ]
        },
        {
          "name": "stderr",
          "output_type": "stream",
          "text": [
            "100%|██████████| 147/147 [00:05<00:00, 26.88it/s]\n"
          ]
        },
        {
          "name": "stdout",
          "output_type": "stream",
          "text": [
            "loss: 0.9607\n",
            "acc: 0.9447\n",
            "micro_f1: 0.9447\n",
            "macro_f1: 0.9445\n",
            "--------------------------- epoch 4 ---------------------------\n"
          ]
        },
        {
          "name": "stderr",
          "output_type": "stream",
          "text": [
            "100%|██████████| 147/147 [00:05<00:00, 28.78it/s]\n"
          ]
        },
        {
          "name": "stdout",
          "output_type": "stream",
          "text": [
            "loss: 0.9586\n",
            "acc: 0.9467\n",
            "micro_f1: 0.9467\n",
            "macro_f1: 0.9464\n",
            "--------------------------- epoch 5 ---------------------------\n"
          ]
        },
        {
          "name": "stderr",
          "output_type": "stream",
          "text": [
            "100%|██████████| 147/147 [00:05<00:00, 29.09it/s]\n"
          ]
        },
        {
          "name": "stdout",
          "output_type": "stream",
          "text": [
            "loss: 0.9577\n",
            "acc: 0.9474\n",
            "micro_f1: 0.9474\n",
            "macro_f1: 0.9472\n",
            "--------------------------- epoch 6 ---------------------------\n"
          ]
        },
        {
          "name": "stderr",
          "output_type": "stream",
          "text": [
            "100%|██████████| 147/147 [00:05<00:00, 28.10it/s]\n"
          ]
        },
        {
          "name": "stdout",
          "output_type": "stream",
          "text": [
            "loss: 0.9560\n",
            "acc: 0.9495\n",
            "micro_f1: 0.9495\n",
            "macro_f1: 0.9493\n",
            "--------------------------- epoch 7 ---------------------------\n"
          ]
        },
        {
          "name": "stderr",
          "output_type": "stream",
          "text": [
            "100%|██████████| 147/147 [00:05<00:00, 28.49it/s]\n"
          ]
        },
        {
          "name": "stdout",
          "output_type": "stream",
          "text": [
            "loss: 0.9550\n",
            "acc: 0.9502\n",
            "micro_f1: 0.9502\n",
            "macro_f1: 0.9500\n",
            "--------------------------- epoch 8 ---------------------------\n"
          ]
        },
        {
          "name": "stderr",
          "output_type": "stream",
          "text": [
            "100%|██████████| 147/147 [00:05<00:00, 27.47it/s]\n"
          ]
        },
        {
          "name": "stdout",
          "output_type": "stream",
          "text": [
            "loss: 0.9544\n",
            "acc: 0.9506\n",
            "micro_f1: 0.9506\n",
            "macro_f1: 0.9503\n",
            "--------------------------- epoch 9 ---------------------------\n"
          ]
        },
        {
          "name": "stderr",
          "output_type": "stream",
          "text": [
            "100%|██████████| 147/147 [00:05<00:00, 28.94it/s]\n"
          ]
        },
        {
          "name": "stdout",
          "output_type": "stream",
          "text": [
            "loss: 0.9533\n",
            "acc: 0.9518\n",
            "micro_f1: 0.9518\n",
            "macro_f1: 0.9517\n",
            "--------------------------- epoch 10 ---------------------------\n"
          ]
        },
        {
          "name": "stderr",
          "output_type": "stream",
          "text": [
            "100%|██████████| 147/147 [00:05<00:00, 27.68it/s]\n"
          ]
        },
        {
          "name": "stdout",
          "output_type": "stream",
          "text": [
            "loss: 0.9527\n",
            "acc: 0.9523\n",
            "micro_f1: 0.9523\n",
            "macro_f1: 0.9521\n",
            "--------------------------- epoch 11 ---------------------------\n"
          ]
        },
        {
          "name": "stderr",
          "output_type": "stream",
          "text": [
            "100%|██████████| 147/147 [00:05<00:00, 27.90it/s]\n"
          ]
        },
        {
          "name": "stdout",
          "output_type": "stream",
          "text": [
            "loss: 0.9517\n",
            "acc: 0.9533\n",
            "micro_f1: 0.9533\n",
            "macro_f1: 0.9531\n",
            "--------------------------- epoch 12 ---------------------------\n"
          ]
        },
        {
          "name": "stderr",
          "output_type": "stream",
          "text": [
            "100%|██████████| 147/147 [00:05<00:00, 29.01it/s]\n"
          ]
        },
        {
          "name": "stdout",
          "output_type": "stream",
          "text": [
            "loss: 0.9503\n",
            "acc: 0.9549\n",
            "micro_f1: 0.9549\n",
            "macro_f1: 0.9548\n",
            "--------------------------- epoch 13 ---------------------------\n"
          ]
        },
        {
          "name": "stderr",
          "output_type": "stream",
          "text": [
            "100%|██████████| 147/147 [00:05<00:00, 27.54it/s]\n"
          ]
        },
        {
          "name": "stdout",
          "output_type": "stream",
          "text": [
            "loss: 0.9504\n",
            "acc: 0.9545\n",
            "micro_f1: 0.9545\n",
            "macro_f1: 0.9544\n",
            "--------------------------- epoch 14 ---------------------------\n"
          ]
        },
        {
          "name": "stderr",
          "output_type": "stream",
          "text": [
            "100%|██████████| 147/147 [00:05<00:00, 28.77it/s]\n"
          ]
        },
        {
          "name": "stdout",
          "output_type": "stream",
          "text": [
            "loss: 0.9496\n",
            "acc: 0.9555\n",
            "micro_f1: 0.9555\n",
            "macro_f1: 0.9554\n",
            "--------------------------- epoch 15 ---------------------------\n"
          ]
        },
        {
          "name": "stderr",
          "output_type": "stream",
          "text": [
            "100%|██████████| 147/147 [00:05<00:00, 28.58it/s]\n"
          ]
        },
        {
          "name": "stdout",
          "output_type": "stream",
          "text": [
            "loss: 0.9489\n",
            "acc: 0.9561\n",
            "micro_f1: 0.9561\n",
            "macro_f1: 0.9559\n",
            "--------------------------- epoch 16 ---------------------------\n"
          ]
        },
        {
          "name": "stderr",
          "output_type": "stream",
          "text": [
            "100%|██████████| 147/147 [00:05<00:00, 27.45it/s]\n"
          ]
        },
        {
          "name": "stdout",
          "output_type": "stream",
          "text": [
            "loss: 0.9483\n",
            "acc: 0.9568\n",
            "micro_f1: 0.9568\n",
            "macro_f1: 0.9566\n",
            "--------------------------- epoch 17 ---------------------------\n"
          ]
        },
        {
          "name": "stderr",
          "output_type": "stream",
          "text": [
            "100%|██████████| 147/147 [00:05<00:00, 28.65it/s]\n"
          ]
        },
        {
          "name": "stdout",
          "output_type": "stream",
          "text": [
            "loss: 0.9477\n",
            "acc: 0.9574\n",
            "micro_f1: 0.9574\n",
            "macro_f1: 0.9573\n",
            "--------------------------- epoch 18 ---------------------------\n"
          ]
        },
        {
          "name": "stderr",
          "output_type": "stream",
          "text": [
            "100%|██████████| 147/147 [00:05<00:00, 26.31it/s]\n"
          ]
        },
        {
          "name": "stdout",
          "output_type": "stream",
          "text": [
            "loss: 0.9476\n",
            "acc: 0.9575\n",
            "micro_f1: 0.9575\n",
            "macro_f1: 0.9573\n",
            "--------------------------- epoch 19 ---------------------------\n"
          ]
        },
        {
          "name": "stderr",
          "output_type": "stream",
          "text": [
            "100%|██████████| 147/147 [00:05<00:00, 27.80it/s]\n"
          ]
        },
        {
          "name": "stdout",
          "output_type": "stream",
          "text": [
            "loss: 0.9468\n",
            "acc: 0.9583\n",
            "micro_f1: 0.9583\n",
            "macro_f1: 0.9581\n",
            "--------------------------- epoch 20 ---------------------------\n"
          ]
        },
        {
          "name": "stderr",
          "output_type": "stream",
          "text": [
            "100%|██████████| 147/147 [00:05<00:00, 27.48it/s]\n"
          ]
        },
        {
          "name": "stdout",
          "output_type": "stream",
          "text": [
            "loss: 0.9459\n",
            "acc: 0.9593\n",
            "micro_f1: 0.9593\n",
            "macro_f1: 0.9591\n",
            "--------------------------- epoch 21 ---------------------------\n"
          ]
        },
        {
          "name": "stderr",
          "output_type": "stream",
          "text": [
            "100%|██████████| 147/147 [00:05<00:00, 27.23it/s]\n"
          ]
        },
        {
          "name": "stdout",
          "output_type": "stream",
          "text": [
            "loss: 0.9456\n",
            "acc: 0.9596\n",
            "micro_f1: 0.9596\n",
            "macro_f1: 0.9594\n",
            "--------------------------- epoch 22 ---------------------------\n"
          ]
        },
        {
          "name": "stderr",
          "output_type": "stream",
          "text": [
            "100%|██████████| 147/147 [00:05<00:00, 27.31it/s]\n"
          ]
        },
        {
          "name": "stdout",
          "output_type": "stream",
          "text": [
            "loss: 0.9452\n",
            "acc: 0.9600\n",
            "micro_f1: 0.9600\n",
            "macro_f1: 0.9599\n",
            "--------------------------- epoch 23 ---------------------------\n"
          ]
        },
        {
          "name": "stderr",
          "output_type": "stream",
          "text": [
            "100%|██████████| 147/147 [00:05<00:00, 26.45it/s]\n"
          ]
        },
        {
          "name": "stdout",
          "output_type": "stream",
          "text": [
            "loss: 0.9442\n",
            "acc: 0.9611\n",
            "micro_f1: 0.9611\n",
            "macro_f1: 0.9610\n",
            "--------------------------- epoch 24 ---------------------------\n"
          ]
        },
        {
          "name": "stderr",
          "output_type": "stream",
          "text": [
            "100%|██████████| 147/147 [00:05<00:00, 27.95it/s]\n"
          ]
        },
        {
          "name": "stdout",
          "output_type": "stream",
          "text": [
            "loss: 0.9440\n",
            "acc: 0.9612\n",
            "micro_f1: 0.9612\n",
            "macro_f1: 0.9611\n",
            "--------------------------- epoch 25 ---------------------------\n"
          ]
        },
        {
          "name": "stderr",
          "output_type": "stream",
          "text": [
            "100%|██████████| 147/147 [00:05<00:00, 26.79it/s]\n"
          ]
        },
        {
          "name": "stdout",
          "output_type": "stream",
          "text": [
            "loss: 0.9436\n",
            "acc: 0.9616\n",
            "micro_f1: 0.9616\n",
            "macro_f1: 0.9615\n",
            "--------------------------- epoch 26 ---------------------------\n"
          ]
        },
        {
          "name": "stderr",
          "output_type": "stream",
          "text": [
            "100%|██████████| 147/147 [00:05<00:00, 26.43it/s]\n"
          ]
        },
        {
          "name": "stdout",
          "output_type": "stream",
          "text": [
            "loss: 0.9427\n",
            "acc: 0.9624\n",
            "micro_f1: 0.9624\n",
            "macro_f1: 0.9623\n",
            "--------------------------- epoch 27 ---------------------------\n"
          ]
        },
        {
          "name": "stderr",
          "output_type": "stream",
          "text": [
            "100%|██████████| 147/147 [00:05<00:00, 27.66it/s]\n"
          ]
        },
        {
          "name": "stdout",
          "output_type": "stream",
          "text": [
            "loss: 0.9422\n",
            "acc: 0.9631\n",
            "micro_f1: 0.9631\n",
            "macro_f1: 0.9629\n",
            "--------------------------- epoch 28 ---------------------------\n"
          ]
        },
        {
          "name": "stderr",
          "output_type": "stream",
          "text": [
            "100%|██████████| 147/147 [00:05<00:00, 26.43it/s]\n"
          ]
        },
        {
          "name": "stdout",
          "output_type": "stream",
          "text": [
            "loss: 0.9423\n",
            "acc: 0.9631\n",
            "micro_f1: 0.9631\n",
            "macro_f1: 0.9630\n",
            "--------------------------- epoch 29 ---------------------------\n"
          ]
        },
        {
          "name": "stderr",
          "output_type": "stream",
          "text": [
            "100%|██████████| 147/147 [00:05<00:00, 27.84it/s]\n"
          ]
        },
        {
          "name": "stdout",
          "output_type": "stream",
          "text": [
            "loss: 0.9418\n",
            "acc: 0.9633\n",
            "micro_f1: 0.9633\n",
            "macro_f1: 0.9633\n",
            "--------------------------- epoch 30 ---------------------------\n"
          ]
        },
        {
          "name": "stderr",
          "output_type": "stream",
          "text": [
            "100%|██████████| 147/147 [00:05<00:00, 26.89it/s]\n"
          ]
        },
        {
          "name": "stdout",
          "output_type": "stream",
          "text": [
            "loss: 0.9415\n",
            "acc: 0.9635\n",
            "micro_f1: 0.9635\n",
            "macro_f1: 0.9633\n",
            "--------------------------- epoch 31 ---------------------------\n"
          ]
        },
        {
          "name": "stderr",
          "output_type": "stream",
          "text": [
            "100%|██████████| 147/147 [00:05<00:00, 27.46it/s]\n"
          ]
        },
        {
          "name": "stdout",
          "output_type": "stream",
          "text": [
            "loss: 0.9407\n",
            "acc: 0.9647\n",
            "micro_f1: 0.9647\n",
            "macro_f1: 0.9646\n",
            "--------------------------- epoch 32 ---------------------------\n"
          ]
        },
        {
          "name": "stderr",
          "output_type": "stream",
          "text": [
            "100%|██████████| 147/147 [00:05<00:00, 27.20it/s]\n"
          ]
        },
        {
          "name": "stdout",
          "output_type": "stream",
          "text": [
            "loss: 0.9392\n",
            "acc: 0.9661\n",
            "micro_f1: 0.9661\n",
            "macro_f1: 0.9660\n",
            "--------------------------- epoch 33 ---------------------------\n"
          ]
        },
        {
          "name": "stderr",
          "output_type": "stream",
          "text": [
            "100%|██████████| 147/147 [00:05<00:00, 26.27it/s]\n"
          ]
        },
        {
          "name": "stdout",
          "output_type": "stream",
          "text": [
            "loss: 0.9389\n",
            "acc: 0.9664\n",
            "micro_f1: 0.9664\n",
            "macro_f1: 0.9664\n",
            "--------------------------- epoch 34 ---------------------------\n"
          ]
        },
        {
          "name": "stderr",
          "output_type": "stream",
          "text": [
            "100%|██████████| 147/147 [00:05<00:00, 26.77it/s]\n"
          ]
        },
        {
          "name": "stdout",
          "output_type": "stream",
          "text": [
            "loss: 0.9384\n",
            "acc: 0.9668\n",
            "micro_f1: 0.9668\n",
            "macro_f1: 0.9667\n",
            "--------------------------- epoch 35 ---------------------------\n"
          ]
        },
        {
          "name": "stderr",
          "output_type": "stream",
          "text": [
            "100%|██████████| 147/147 [00:05<00:00, 26.93it/s]\n"
          ]
        },
        {
          "name": "stdout",
          "output_type": "stream",
          "text": [
            "loss: 0.9379\n",
            "acc: 0.9674\n",
            "micro_f1: 0.9674\n",
            "macro_f1: 0.9673\n",
            "--------------------------- epoch 36 ---------------------------\n"
          ]
        },
        {
          "name": "stderr",
          "output_type": "stream",
          "text": [
            "100%|██████████| 147/147 [00:05<00:00, 27.45it/s]\n"
          ]
        },
        {
          "name": "stdout",
          "output_type": "stream",
          "text": [
            "loss: 0.9371\n",
            "acc: 0.9682\n",
            "micro_f1: 0.9682\n",
            "macro_f1: 0.9682\n",
            "--------------------------- epoch 37 ---------------------------\n"
          ]
        },
        {
          "name": "stderr",
          "output_type": "stream",
          "text": [
            "100%|██████████| 147/147 [00:05<00:00, 28.30it/s]\n"
          ]
        },
        {
          "name": "stdout",
          "output_type": "stream",
          "text": [
            "loss: 0.9367\n",
            "acc: 0.9685\n",
            "micro_f1: 0.9685\n",
            "macro_f1: 0.9684\n",
            "--------------------------- epoch 38 ---------------------------\n"
          ]
        },
        {
          "name": "stderr",
          "output_type": "stream",
          "text": [
            "100%|██████████| 147/147 [00:05<00:00, 26.24it/s]\n"
          ]
        },
        {
          "name": "stdout",
          "output_type": "stream",
          "text": [
            "loss: 0.9361\n",
            "acc: 0.9690\n",
            "micro_f1: 0.9690\n",
            "macro_f1: 0.9689\n",
            "--------------------------- epoch 39 ---------------------------\n"
          ]
        },
        {
          "name": "stderr",
          "output_type": "stream",
          "text": [
            "100%|██████████| 147/147 [00:05<00:00, 28.02it/s]\n"
          ]
        },
        {
          "name": "stdout",
          "output_type": "stream",
          "text": [
            "loss: 0.9354\n",
            "acc: 0.9698\n",
            "micro_f1: 0.9698\n",
            "macro_f1: 0.9697\n",
            "--------------------------- epoch 40 ---------------------------\n"
          ]
        },
        {
          "name": "stderr",
          "output_type": "stream",
          "text": [
            "100%|██████████| 147/147 [00:05<00:00, 26.86it/s]\n"
          ]
        },
        {
          "name": "stdout",
          "output_type": "stream",
          "text": [
            "loss: 0.9354\n",
            "acc: 0.9698\n",
            "micro_f1: 0.9698\n",
            "macro_f1: 0.9698\n",
            "--------------------------- epoch 41 ---------------------------\n"
          ]
        },
        {
          "name": "stderr",
          "output_type": "stream",
          "text": [
            "100%|██████████| 147/147 [00:05<00:00, 27.73it/s]\n"
          ]
        },
        {
          "name": "stdout",
          "output_type": "stream",
          "text": [
            "loss: 0.9346\n",
            "acc: 0.9706\n",
            "micro_f1: 0.9706\n",
            "macro_f1: 0.9705\n",
            "--------------------------- epoch 42 ---------------------------\n"
          ]
        },
        {
          "name": "stderr",
          "output_type": "stream",
          "text": [
            "100%|██████████| 147/147 [00:05<00:00, 28.04it/s]\n"
          ]
        },
        {
          "name": "stdout",
          "output_type": "stream",
          "text": [
            "loss: 0.9344\n",
            "acc: 0.9709\n",
            "micro_f1: 0.9709\n",
            "macro_f1: 0.9708\n",
            "--------------------------- epoch 43 ---------------------------\n"
          ]
        },
        {
          "name": "stderr",
          "output_type": "stream",
          "text": [
            "100%|██████████| 147/147 [00:05<00:00, 27.82it/s]\n"
          ]
        },
        {
          "name": "stdout",
          "output_type": "stream",
          "text": [
            "loss: 0.9339\n",
            "acc: 0.9716\n",
            "micro_f1: 0.9716\n",
            "macro_f1: 0.9715\n",
            "--------------------------- epoch 44 ---------------------------\n"
          ]
        },
        {
          "name": "stderr",
          "output_type": "stream",
          "text": [
            "100%|██████████| 147/147 [00:05<00:00, 28.53it/s]\n"
          ]
        },
        {
          "name": "stdout",
          "output_type": "stream",
          "text": [
            "loss: 0.9337\n",
            "acc: 0.9715\n",
            "micro_f1: 0.9715\n",
            "macro_f1: 0.9715\n",
            "--------------------------- epoch 45 ---------------------------\n"
          ]
        },
        {
          "name": "stderr",
          "output_type": "stream",
          "text": [
            "100%|██████████| 147/147 [00:05<00:00, 28.11it/s]\n"
          ]
        },
        {
          "name": "stdout",
          "output_type": "stream",
          "text": [
            "loss: 0.9331\n",
            "acc: 0.9719\n",
            "micro_f1: 0.9719\n",
            "macro_f1: 0.9718\n",
            "--------------------------- epoch 46 ---------------------------\n"
          ]
        },
        {
          "name": "stderr",
          "output_type": "stream",
          "text": [
            "100%|██████████| 147/147 [00:05<00:00, 28.68it/s]\n"
          ]
        },
        {
          "name": "stdout",
          "output_type": "stream",
          "text": [
            "loss: 0.9328\n",
            "acc: 0.9725\n",
            "micro_f1: 0.9725\n",
            "macro_f1: 0.9725\n",
            "--------------------------- epoch 47 ---------------------------\n"
          ]
        },
        {
          "name": "stderr",
          "output_type": "stream",
          "text": [
            "100%|██████████| 147/147 [00:05<00:00, 29.05it/s]\n"
          ]
        },
        {
          "name": "stdout",
          "output_type": "stream",
          "text": [
            "loss: 0.9327\n",
            "acc: 0.9725\n",
            "micro_f1: 0.9725\n",
            "macro_f1: 0.9724\n",
            "--------------------------- epoch 48 ---------------------------\n"
          ]
        },
        {
          "name": "stderr",
          "output_type": "stream",
          "text": [
            "100%|██████████| 147/147 [00:05<00:00, 28.30it/s]\n"
          ]
        },
        {
          "name": "stdout",
          "output_type": "stream",
          "text": [
            "loss: 0.9325\n",
            "acc: 0.9727\n",
            "micro_f1: 0.9727\n",
            "macro_f1: 0.9727\n",
            "--------------------------- epoch 49 ---------------------------\n"
          ]
        },
        {
          "name": "stderr",
          "output_type": "stream",
          "text": [
            "100%|██████████| 147/147 [00:05<00:00, 28.91it/s]\n"
          ]
        },
        {
          "name": "stdout",
          "output_type": "stream",
          "text": [
            "loss: 0.9319\n",
            "acc: 0.9735\n",
            "micro_f1: 0.9735\n",
            "macro_f1: 0.9734\n",
            "--------------------------- epoch 50 ---------------------------\n"
          ]
        },
        {
          "name": "stderr",
          "output_type": "stream",
          "text": [
            "100%|██████████| 147/147 [00:05<00:00, 28.48it/s]\n"
          ]
        },
        {
          "name": "stdout",
          "output_type": "stream",
          "text": [
            "loss: 0.9316\n",
            "acc: 0.9738\n",
            "micro_f1: 0.9738\n",
            "macro_f1: 0.9737\n",
            "--------------------------- epoch 51 ---------------------------\n"
          ]
        },
        {
          "name": "stderr",
          "output_type": "stream",
          "text": [
            "100%|██████████| 147/147 [00:05<00:00, 28.55it/s]\n"
          ]
        },
        {
          "name": "stdout",
          "output_type": "stream",
          "text": [
            "loss: 0.9310\n",
            "acc: 0.9741\n",
            "micro_f1: 0.9741\n",
            "macro_f1: 0.9741\n",
            "--------------------------- epoch 52 ---------------------------\n"
          ]
        },
        {
          "name": "stderr",
          "output_type": "stream",
          "text": [
            "100%|██████████| 147/147 [00:05<00:00, 29.22it/s]\n"
          ]
        },
        {
          "name": "stdout",
          "output_type": "stream",
          "text": [
            "loss: 0.9311\n",
            "acc: 0.9740\n",
            "micro_f1: 0.9740\n",
            "macro_f1: 0.9740\n",
            "--------------------------- epoch 53 ---------------------------\n"
          ]
        },
        {
          "name": "stderr",
          "output_type": "stream",
          "text": [
            "100%|██████████| 147/147 [00:05<00:00, 27.44it/s]\n"
          ]
        },
        {
          "name": "stdout",
          "output_type": "stream",
          "text": [
            "loss: 0.9304\n",
            "acc: 0.9748\n",
            "micro_f1: 0.9748\n",
            "macro_f1: 0.9747\n",
            "--------------------------- epoch 54 ---------------------------\n"
          ]
        },
        {
          "name": "stderr",
          "output_type": "stream",
          "text": [
            "100%|██████████| 147/147 [00:05<00:00, 29.19it/s]\n"
          ]
        },
        {
          "name": "stdout",
          "output_type": "stream",
          "text": [
            "loss: 0.9309\n",
            "acc: 0.9744\n",
            "micro_f1: 0.9744\n",
            "macro_f1: 0.9743\n",
            "--------------------------- epoch 55 ---------------------------\n"
          ]
        },
        {
          "name": "stderr",
          "output_type": "stream",
          "text": [
            "100%|██████████| 147/147 [00:05<00:00, 27.81it/s]\n"
          ]
        },
        {
          "name": "stdout",
          "output_type": "stream",
          "text": [
            "loss: 0.9308\n",
            "acc: 0.9744\n",
            "micro_f1: 0.9744\n",
            "macro_f1: 0.9743\n",
            "--------------------------- epoch 56 ---------------------------\n"
          ]
        },
        {
          "name": "stderr",
          "output_type": "stream",
          "text": [
            "100%|██████████| 147/147 [00:05<00:00, 29.23it/s]\n"
          ]
        },
        {
          "name": "stdout",
          "output_type": "stream",
          "text": [
            "loss: 0.9306\n",
            "acc: 0.9746\n",
            "micro_f1: 0.9746\n",
            "macro_f1: 0.9745\n",
            "--------------------------- epoch 57 ---------------------------\n"
          ]
        },
        {
          "name": "stderr",
          "output_type": "stream",
          "text": [
            "100%|██████████| 147/147 [00:05<00:00, 28.56it/s]\n"
          ]
        },
        {
          "name": "stdout",
          "output_type": "stream",
          "text": [
            "loss: 0.9304\n",
            "acc: 0.9746\n",
            "micro_f1: 0.9746\n",
            "macro_f1: 0.9746\n",
            "--------------------------- epoch 58 ---------------------------\n"
          ]
        },
        {
          "name": "stderr",
          "output_type": "stream",
          "text": [
            "100%|██████████| 147/147 [00:05<00:00, 26.62it/s]\n"
          ]
        },
        {
          "name": "stdout",
          "output_type": "stream",
          "text": [
            "loss: 0.9298\n",
            "acc: 0.9754\n",
            "micro_f1: 0.9754\n",
            "macro_f1: 0.9754\n",
            "--------------------------- epoch 59 ---------------------------\n"
          ]
        },
        {
          "name": "stderr",
          "output_type": "stream",
          "text": [
            "100%|██████████| 147/147 [00:05<00:00, 28.72it/s]\n"
          ]
        },
        {
          "name": "stdout",
          "output_type": "stream",
          "text": [
            "loss: 0.9295\n",
            "acc: 0.9757\n",
            "micro_f1: 0.9757\n",
            "macro_f1: 0.9756\n",
            "--------------------------- epoch 60 ---------------------------\n"
          ]
        },
        {
          "name": "stderr",
          "output_type": "stream",
          "text": [
            "100%|██████████| 147/147 [00:05<00:00, 28.13it/s]\n"
          ]
        },
        {
          "name": "stdout",
          "output_type": "stream",
          "text": [
            "loss: 0.9297\n",
            "acc: 0.9755\n",
            "micro_f1: 0.9755\n",
            "macro_f1: 0.9754\n",
            "--------------------------- epoch 61 ---------------------------\n"
          ]
        },
        {
          "name": "stderr",
          "output_type": "stream",
          "text": [
            "100%|██████████| 147/147 [00:05<00:00, 28.85it/s]\n"
          ]
        },
        {
          "name": "stdout",
          "output_type": "stream",
          "text": [
            "loss: 0.9297\n",
            "acc: 0.9754\n",
            "micro_f1: 0.9754\n",
            "macro_f1: 0.9753\n",
            "--------------------------- epoch 62 ---------------------------\n"
          ]
        },
        {
          "name": "stderr",
          "output_type": "stream",
          "text": [
            "100%|██████████| 147/147 [00:05<00:00, 28.90it/s]\n"
          ]
        },
        {
          "name": "stdout",
          "output_type": "stream",
          "text": [
            "loss: 0.9294\n",
            "acc: 0.9755\n",
            "micro_f1: 0.9755\n",
            "macro_f1: 0.9755\n",
            "--------------------------- epoch 63 ---------------------------\n"
          ]
        },
        {
          "name": "stderr",
          "output_type": "stream",
          "text": [
            "100%|██████████| 147/147 [00:05<00:00, 27.65it/s]\n"
          ]
        },
        {
          "name": "stdout",
          "output_type": "stream",
          "text": [
            "loss: 0.9290\n",
            "acc: 0.9760\n",
            "micro_f1: 0.9760\n",
            "macro_f1: 0.9760\n",
            "--------------------------- epoch 64 ---------------------------\n"
          ]
        },
        {
          "name": "stderr",
          "output_type": "stream",
          "text": [
            "100%|██████████| 147/147 [00:05<00:00, 28.78it/s]\n"
          ]
        },
        {
          "name": "stdout",
          "output_type": "stream",
          "text": [
            "loss: 0.9287\n",
            "acc: 0.9765\n",
            "micro_f1: 0.9765\n",
            "macro_f1: 0.9765\n",
            "--------------------------- epoch 65 ---------------------------\n"
          ]
        },
        {
          "name": "stderr",
          "output_type": "stream",
          "text": [
            "100%|██████████| 147/147 [00:05<00:00, 27.54it/s]\n"
          ]
        },
        {
          "name": "stdout",
          "output_type": "stream",
          "text": [
            "loss: 0.9285\n",
            "acc: 0.9766\n",
            "micro_f1: 0.9766\n",
            "macro_f1: 0.9765\n",
            "--------------------------- epoch 66 ---------------------------\n"
          ]
        },
        {
          "name": "stderr",
          "output_type": "stream",
          "text": [
            "100%|██████████| 147/147 [00:05<00:00, 28.84it/s]\n"
          ]
        },
        {
          "name": "stdout",
          "output_type": "stream",
          "text": [
            "loss: 0.9284\n",
            "acc: 0.9767\n",
            "micro_f1: 0.9767\n",
            "macro_f1: 0.9766\n",
            "--------------------------- epoch 67 ---------------------------\n"
          ]
        },
        {
          "name": "stderr",
          "output_type": "stream",
          "text": [
            "100%|██████████| 147/147 [00:05<00:00, 28.98it/s]\n"
          ]
        },
        {
          "name": "stdout",
          "output_type": "stream",
          "text": [
            "loss: 0.9284\n",
            "acc: 0.9766\n",
            "micro_f1: 0.9766\n",
            "macro_f1: 0.9765\n",
            "--------------------------- epoch 68 ---------------------------\n"
          ]
        },
        {
          "name": "stderr",
          "output_type": "stream",
          "text": [
            "100%|██████████| 147/147 [00:05<00:00, 27.68it/s]\n"
          ]
        },
        {
          "name": "stdout",
          "output_type": "stream",
          "text": [
            "loss: 0.9278\n",
            "acc: 0.9773\n",
            "micro_f1: 0.9773\n",
            "macro_f1: 0.9773\n",
            "--------------------------- epoch 69 ---------------------------\n"
          ]
        },
        {
          "name": "stderr",
          "output_type": "stream",
          "text": [
            "100%|██████████| 147/147 [00:05<00:00, 27.35it/s]\n"
          ]
        },
        {
          "name": "stdout",
          "output_type": "stream",
          "text": [
            "loss: 0.9282\n",
            "acc: 0.9769\n",
            "micro_f1: 0.9769\n",
            "macro_f1: 0.9769\n",
            "--------------------------- epoch 70 ---------------------------\n"
          ]
        },
        {
          "name": "stderr",
          "output_type": "stream",
          "text": [
            "100%|██████████| 147/147 [00:05<00:00, 27.31it/s]\n"
          ]
        },
        {
          "name": "stdout",
          "output_type": "stream",
          "text": [
            "loss: 0.9276\n",
            "acc: 0.9775\n",
            "micro_f1: 0.9775\n",
            "macro_f1: 0.9774\n",
            "--------------------------- epoch 71 ---------------------------\n"
          ]
        },
        {
          "name": "stderr",
          "output_type": "stream",
          "text": [
            "100%|██████████| 147/147 [00:05<00:00, 27.00it/s]\n"
          ]
        },
        {
          "name": "stdout",
          "output_type": "stream",
          "text": [
            "loss: 0.9278\n",
            "acc: 0.9773\n",
            "micro_f1: 0.9773\n",
            "macro_f1: 0.9772\n",
            "--------------------------- epoch 72 ---------------------------\n"
          ]
        },
        {
          "name": "stderr",
          "output_type": "stream",
          "text": [
            "100%|██████████| 147/147 [00:05<00:00, 27.15it/s]\n"
          ]
        },
        {
          "name": "stdout",
          "output_type": "stream",
          "text": [
            "loss: 0.9287\n",
            "acc: 0.9763\n",
            "micro_f1: 0.9763\n",
            "macro_f1: 0.9762\n",
            "--------------------------- epoch 73 ---------------------------\n"
          ]
        },
        {
          "name": "stderr",
          "output_type": "stream",
          "text": [
            "100%|██████████| 147/147 [00:05<00:00, 26.39it/s]\n"
          ]
        },
        {
          "name": "stdout",
          "output_type": "stream",
          "text": [
            "loss: 0.9278\n",
            "acc: 0.9773\n",
            "micro_f1: 0.9773\n",
            "macro_f1: 0.9772\n",
            "--------------------------- epoch 74 ---------------------------\n"
          ]
        },
        {
          "name": "stderr",
          "output_type": "stream",
          "text": [
            "100%|██████████| 147/147 [00:05<00:00, 27.31it/s]\n"
          ]
        },
        {
          "name": "stdout",
          "output_type": "stream",
          "text": [
            "loss: 0.9274\n",
            "acc: 0.9776\n",
            "micro_f1: 0.9776\n",
            "macro_f1: 0.9776\n",
            "--------------------------- epoch 75 ---------------------------\n"
          ]
        },
        {
          "name": "stderr",
          "output_type": "stream",
          "text": [
            "100%|██████████| 147/147 [00:05<00:00, 26.46it/s]\n"
          ]
        },
        {
          "name": "stdout",
          "output_type": "stream",
          "text": [
            "loss: 0.9274\n",
            "acc: 0.9776\n",
            "micro_f1: 0.9776\n",
            "macro_f1: 0.9776\n",
            "--------------------------- epoch 76 ---------------------------\n"
          ]
        },
        {
          "name": "stderr",
          "output_type": "stream",
          "text": [
            "100%|██████████| 147/147 [00:05<00:00, 26.55it/s]\n"
          ]
        },
        {
          "name": "stdout",
          "output_type": "stream",
          "text": [
            "loss: 0.9269\n",
            "acc: 0.9782\n",
            "micro_f1: 0.9782\n",
            "macro_f1: 0.9781\n",
            "--------------------------- epoch 77 ---------------------------\n"
          ]
        },
        {
          "name": "stderr",
          "output_type": "stream",
          "text": [
            "100%|██████████| 147/147 [00:05<00:00, 27.69it/s]\n"
          ]
        },
        {
          "name": "stdout",
          "output_type": "stream",
          "text": [
            "loss: 0.9273\n",
            "acc: 0.9777\n",
            "micro_f1: 0.9777\n",
            "macro_f1: 0.9777\n",
            "--------------------------- epoch 78 ---------------------------\n"
          ]
        },
        {
          "name": "stderr",
          "output_type": "stream",
          "text": [
            "100%|██████████| 147/147 [00:05<00:00, 25.99it/s]\n"
          ]
        },
        {
          "name": "stdout",
          "output_type": "stream",
          "text": [
            "loss: 0.9272\n",
            "acc: 0.9779\n",
            "micro_f1: 0.9779\n",
            "macro_f1: 0.9778\n",
            "--------------------------- epoch 79 ---------------------------\n"
          ]
        },
        {
          "name": "stderr",
          "output_type": "stream",
          "text": [
            "100%|██████████| 147/147 [00:05<00:00, 26.53it/s]\n"
          ]
        },
        {
          "name": "stdout",
          "output_type": "stream",
          "text": [
            "loss: 0.9273\n",
            "acc: 0.9777\n",
            "micro_f1: 0.9777\n",
            "macro_f1: 0.9777\n",
            "--------------------------- epoch 80 ---------------------------\n"
          ]
        },
        {
          "name": "stderr",
          "output_type": "stream",
          "text": [
            "100%|██████████| 147/147 [00:05<00:00, 26.31it/s]\n"
          ]
        },
        {
          "name": "stdout",
          "output_type": "stream",
          "text": [
            "loss: 0.9270\n",
            "acc: 0.9781\n",
            "micro_f1: 0.9781\n",
            "macro_f1: 0.9781\n",
            "--------------------------- epoch 81 ---------------------------\n"
          ]
        },
        {
          "name": "stderr",
          "output_type": "stream",
          "text": [
            "100%|██████████| 147/147 [00:05<00:00, 26.17it/s]\n"
          ]
        },
        {
          "name": "stdout",
          "output_type": "stream",
          "text": [
            "loss: 0.9267\n",
            "acc: 0.9785\n",
            "micro_f1: 0.9785\n",
            "macro_f1: 0.9784\n",
            "--------------------------- epoch 82 ---------------------------\n"
          ]
        },
        {
          "name": "stderr",
          "output_type": "stream",
          "text": [
            "100%|██████████| 147/147 [00:05<00:00, 27.32it/s]\n"
          ]
        },
        {
          "name": "stdout",
          "output_type": "stream",
          "text": [
            "loss: 0.9264\n",
            "acc: 0.9786\n",
            "micro_f1: 0.9786\n",
            "macro_f1: 0.9785\n",
            "--------------------------- epoch 83 ---------------------------\n"
          ]
        },
        {
          "name": "stderr",
          "output_type": "stream",
          "text": [
            "100%|██████████| 147/147 [00:05<00:00, 26.59it/s]\n"
          ]
        },
        {
          "name": "stdout",
          "output_type": "stream",
          "text": [
            "loss: 0.9265\n",
            "acc: 0.9786\n",
            "micro_f1: 0.9786\n",
            "macro_f1: 0.9785\n",
            "--------------------------- epoch 84 ---------------------------\n"
          ]
        },
        {
          "name": "stderr",
          "output_type": "stream",
          "text": [
            "100%|██████████| 147/147 [00:05<00:00, 27.33it/s]\n"
          ]
        },
        {
          "name": "stdout",
          "output_type": "stream",
          "text": [
            "loss: 0.9264\n",
            "acc: 0.9786\n",
            "micro_f1: 0.9786\n",
            "macro_f1: 0.9786\n",
            "--------------------------- epoch 85 ---------------------------\n"
          ]
        },
        {
          "name": "stderr",
          "output_type": "stream",
          "text": [
            "100%|██████████| 147/147 [00:05<00:00, 25.90it/s]\n"
          ]
        },
        {
          "name": "stdout",
          "output_type": "stream",
          "text": [
            "loss: 0.9268\n",
            "acc: 0.9782\n",
            "micro_f1: 0.9782\n",
            "macro_f1: 0.9782\n",
            "--------------------------- epoch 86 ---------------------------\n"
          ]
        },
        {
          "name": "stderr",
          "output_type": "stream",
          "text": [
            "100%|██████████| 147/147 [00:05<00:00, 27.80it/s]\n"
          ]
        },
        {
          "name": "stdout",
          "output_type": "stream",
          "text": [
            "loss: 0.9265\n",
            "acc: 0.9786\n",
            "micro_f1: 0.9786\n",
            "macro_f1: 0.9785\n",
            "--------------------------- epoch 87 ---------------------------\n"
          ]
        },
        {
          "name": "stderr",
          "output_type": "stream",
          "text": [
            "100%|██████████| 147/147 [00:05<00:00, 26.67it/s]\n"
          ]
        },
        {
          "name": "stdout",
          "output_type": "stream",
          "text": [
            "loss: 0.9260\n",
            "acc: 0.9791\n",
            "micro_f1: 0.9791\n",
            "macro_f1: 0.9790\n",
            "--------------------------- epoch 88 ---------------------------\n"
          ]
        },
        {
          "name": "stderr",
          "output_type": "stream",
          "text": [
            "100%|██████████| 147/147 [00:05<00:00, 27.24it/s]\n"
          ]
        },
        {
          "name": "stdout",
          "output_type": "stream",
          "text": [
            "loss: 0.9263\n",
            "acc: 0.9786\n",
            "micro_f1: 0.9786\n",
            "macro_f1: 0.9785\n",
            "--------------------------- epoch 89 ---------------------------\n"
          ]
        },
        {
          "name": "stderr",
          "output_type": "stream",
          "text": [
            "100%|██████████| 147/147 [00:05<00:00, 27.56it/s]\n"
          ]
        },
        {
          "name": "stdout",
          "output_type": "stream",
          "text": [
            "loss: 0.9263\n",
            "acc: 0.9787\n",
            "micro_f1: 0.9787\n",
            "macro_f1: 0.9787\n",
            "--------------------------- epoch 90 ---------------------------\n"
          ]
        },
        {
          "name": "stderr",
          "output_type": "stream",
          "text": [
            "100%|██████████| 147/147 [00:05<00:00, 26.66it/s]\n"
          ]
        },
        {
          "name": "stdout",
          "output_type": "stream",
          "text": [
            "loss: 0.9263\n",
            "acc: 0.9787\n",
            "micro_f1: 0.9787\n",
            "macro_f1: 0.9787\n",
            "--------------------------- epoch 91 ---------------------------\n"
          ]
        },
        {
          "name": "stderr",
          "output_type": "stream",
          "text": [
            "100%|██████████| 147/147 [00:05<00:00, 28.77it/s]\n"
          ]
        },
        {
          "name": "stdout",
          "output_type": "stream",
          "text": [
            "loss: 0.9258\n",
            "acc: 0.9792\n",
            "micro_f1: 0.9792\n",
            "macro_f1: 0.9791\n",
            "--------------------------- epoch 92 ---------------------------\n"
          ]
        },
        {
          "name": "stderr",
          "output_type": "stream",
          "text": [
            "100%|██████████| 147/147 [00:05<00:00, 28.86it/s]\n"
          ]
        },
        {
          "name": "stdout",
          "output_type": "stream",
          "text": [
            "loss: 0.9258\n",
            "acc: 0.9792\n",
            "micro_f1: 0.9792\n",
            "macro_f1: 0.9792\n",
            "--------------------------- epoch 93 ---------------------------\n"
          ]
        },
        {
          "name": "stderr",
          "output_type": "stream",
          "text": [
            "100%|██████████| 147/147 [00:05<00:00, 27.87it/s]\n"
          ]
        },
        {
          "name": "stdout",
          "output_type": "stream",
          "text": [
            "loss: 0.9255\n",
            "acc: 0.9795\n",
            "micro_f1: 0.9795\n",
            "macro_f1: 0.9794\n",
            "--------------------------- epoch 94 ---------------------------\n"
          ]
        },
        {
          "name": "stderr",
          "output_type": "stream",
          "text": [
            "100%|██████████| 147/147 [00:05<00:00, 28.97it/s]\n"
          ]
        },
        {
          "name": "stdout",
          "output_type": "stream",
          "text": [
            "loss: 0.9257\n",
            "acc: 0.9792\n",
            "micro_f1: 0.9792\n",
            "macro_f1: 0.9792\n",
            "--------------------------- epoch 95 ---------------------------\n"
          ]
        },
        {
          "name": "stderr",
          "output_type": "stream",
          "text": [
            "100%|██████████| 147/147 [00:05<00:00, 27.38it/s]\n"
          ]
        },
        {
          "name": "stdout",
          "output_type": "stream",
          "text": [
            "loss: 0.9254\n",
            "acc: 0.9795\n",
            "micro_f1: 0.9795\n",
            "macro_f1: 0.9795\n",
            "--------------------------- epoch 96 ---------------------------\n"
          ]
        },
        {
          "name": "stderr",
          "output_type": "stream",
          "text": [
            "100%|██████████| 147/147 [00:05<00:00, 27.86it/s]\n"
          ]
        },
        {
          "name": "stdout",
          "output_type": "stream",
          "text": [
            "loss: 0.9252\n",
            "acc: 0.9799\n",
            "micro_f1: 0.9799\n",
            "macro_f1: 0.9798\n",
            "--------------------------- epoch 97 ---------------------------\n"
          ]
        },
        {
          "name": "stderr",
          "output_type": "stream",
          "text": [
            "100%|██████████| 147/147 [00:05<00:00, 28.45it/s]\n"
          ]
        },
        {
          "name": "stdout",
          "output_type": "stream",
          "text": [
            "loss: 0.9256\n",
            "acc: 0.9795\n",
            "micro_f1: 0.9795\n",
            "macro_f1: 0.9795\n",
            "--------------------------- epoch 98 ---------------------------\n"
          ]
        },
        {
          "name": "stderr",
          "output_type": "stream",
          "text": [
            "100%|██████████| 147/147 [00:05<00:00, 26.83it/s]\n"
          ]
        },
        {
          "name": "stdout",
          "output_type": "stream",
          "text": [
            "loss: 0.9255\n",
            "acc: 0.9795\n",
            "micro_f1: 0.9795\n",
            "macro_f1: 0.9794\n",
            "--------------------------- epoch 99 ---------------------------\n"
          ]
        },
        {
          "name": "stderr",
          "output_type": "stream",
          "text": [
            "100%|██████████| 147/147 [00:05<00:00, 27.35it/s]\n"
          ]
        },
        {
          "name": "stdout",
          "output_type": "stream",
          "text": [
            "loss: 0.9249\n",
            "acc: 0.9801\n",
            "micro_f1: 0.9801\n",
            "macro_f1: 0.9800\n",
            "\n",
            "evaluate ...\n"
          ]
        },
        {
          "name": "stderr",
          "output_type": "stream",
          "text": [
            "100%|██████████| 10/10 [00:01<00:00,  7.49it/s]"
          ]
        },
        {
          "name": "stdout",
          "output_type": "stream",
          "text": [
            "avg loss: 0.9410\n",
            "acc: 0.9608\n",
            "micro_f1: 0.9608\n",
            "macro_f1: 0.9608\n"
          ]
        },
        {
          "name": "stderr",
          "output_type": "stream",
          "text": [
            "\n"
          ]
        }
      ],
      "source": [
        "# from DownstreamModel import DownstreamModel\n",
        "from torch.utils.data import DataLoader\n",
        "import torch.nn as nn\n",
        "import torch.optim as optim\n",
        "# from model_op import Train, Test\n",
        "# from model_op_multi import Train_multi, Test_multi\n",
        "import argparse\n",
        "import os\n",
        "import torch\n",
        "# from MyDataset import MyDataset\n",
        "import json\n",
        "\n",
        "if __name__ == '__main__':\n",
        "    device = torch.device(\"cuda\" if torch.cuda.is_available() else \"cpu\")\n",
        "    cuda_no = 0  # 예를 들어, '0'을 사용\n",
        "    task = 'agnews'  # 사용 가능한 옵션: 'sst2', 'mr', 'agnews', 'r8', 'r52' 중 하나\n",
        "    epoches = 100  # 원하는 에폭 수\n",
        "    SIGMA = 0.1  # SIGMA 값을 설정\n",
        "    batch_size = 1024  # 배치 크기 설정\n",
        "    lr = 1e-4  # 학습률 설정\n",
        "\n",
        "    class_num = {'sst2':2, 'mr':2, 'agnews':5, 'r8':8, 'r52':52}\n",
        "    class_num = class_num[task]\n",
        "\n",
        "    l_dataset_path = f'/content/drive/MyDrive/LLMEmbed/llama2/{task}/dataset_tensor/'\n",
        "    b_dataset_path = f'/content/drive/MyDrive/LLMEmbed/bert/{task}/dataset_tensor/'\n",
        "    r_dataset_path = f'/content/drive/MyDrive/LLMEmbed/roberta/{task}/dataset_tensor/'\n",
        "    mode = 'train'\n",
        "    train_data = MyDataset(mode, l_dataset_path, b_dataset_path, r_dataset_path)\n",
        "    train_loader = DataLoader(train_data, batch_size=batch_size, shuffle=True, num_workers=4, pin_memory=True)\n",
        "    mode = 'test'\n",
        "    test_data = MyDataset(mode, l_dataset_path, b_dataset_path, r_dataset_path)\n",
        "    test_loader = DataLoader(test_data, batch_size=batch_size, shuffle=False, num_workers=4, pin_memory=True)\n",
        "\n",
        "    model = DownstreamModel(class_num, SIGMA).to(device)\n",
        "\n",
        "    loss_fn = nn.CrossEntropyLoss().to(device)\n",
        "    optimizer = optim.Adam(model.parameters(), lr)\n",
        "\n",
        "    if class_num == 2:\n",
        "        print('training ...')\n",
        "        for epoch in range(epoches):\n",
        "            model = model.to(device)\n",
        "            print(f'--------------------------- epoch {epoch} ---------------------------')\n",
        "            Train(train_loader, device, model, loss_fn, optimizer)\n",
        "        print('save model_wights')\n",
        "        # 모델 학습 후, 모델의 가중치 저장하기\n",
        "        model_save_path = \"/content/drive/MyDrive/LLMEmbed/model_weights.pth\"\n",
        "        torch.save(model.state_dict(), model_save_path)\n",
        "        print('evaluate ...')\n",
        "        Test(test_loader, device, model, loss_fn)\n",
        "\n",
        "    # multi-class\n",
        "    elif class_num > 2:\n",
        "        print('training ...')\n",
        "        for epoch in range(epoches):\n",
        "            model = model.to(device)\n",
        "            print(f'--------------------------- epoch {epoch} ---------------------------')\n",
        "            Train_multi(train_loader, device, model, loss_fn, optimizer)\n",
        "        print()\n",
        "        # 모델 학습 후, 모델의 가중치 저장하기\n",
        "        model_save_path = \"/content/drive/MyDrive/LLMEmbed/model_weights_agnews.pth\"\n",
        "        torch.save(model.state_dict(), model_save_path)\n",
        "        print('evaluate ...')\n",
        "        Test_multi(test_loader, device, model, loss_fn)"
      ]
    },
    {
      "cell_type": "markdown",
      "metadata": {
        "id": "x-qdtOC3T6aH"
      },
      "source": [
        "# **8. 추론 메서드 정의**"
      ]
    },
    {
      "cell_type": "code",
      "execution_count": null,
      "metadata": {
        "colab": {
          "base_uri": "https://localhost:8080/",
          "height": 179,
          "referenced_widgets": [
            "ef146c4757034f028b6f83880ce23c4e",
            "70e6407fbcf84982a85b0ec50d1f4916",
            "78fcfe7fcf7d4737be5249ee187a0f47",
            "878610a216a9430aa2f042cd4f18c9eb",
            "4b1f0386c81742e18366819665f98d39",
            "36c59c75c8784b80927fa4aa7d9ea120",
            "bb8e8cdd90324a008f17edcb5423a3db",
            "0fee334b3c5d4389807e8a00d8015fec",
            "986fdfa330364c4db5d44ae6f0037228",
            "79439ab994ad4f8d923b45f4f30f4091",
            "1805ce9e2717496bac6bd11a09916279"
          ]
        },
        "id": "_nZB6pSjNbrD",
        "outputId": "f1247075-8241-4a0b-cec2-34ff1016bf3b"
      },
      "outputs": [
        {
          "data": {
            "application/vnd.jupyter.widget-view+json": {
              "model_id": "ef146c4757034f028b6f83880ce23c4e",
              "version_major": 2,
              "version_minor": 0
            },
            "text/plain": [
              "Loading checkpoint shards:   0%|          | 0/2 [00:00<?, ?it/s]"
            ]
          },
          "metadata": {},
          "output_type": "display_data"
        },
        {
          "name": "stderr",
          "output_type": "stream",
          "text": [
            "/usr/local/lib/python3.10/dist-packages/transformers/tokenization_utils_base.py:1601: FutureWarning: `clean_up_tokenization_spaces` was not set. It will be set to `True` by default. This behavior will be depracted in transformers v4.45, and will be then set to `False` by default. For more details check this issue: https://github.com/huggingface/transformers/issues/31884\n",
            "  warnings.warn(\n",
            "Some weights of RobertaModel were not initialized from the model checkpoint at FacebookAI/roberta-large and are newly initialized: ['roberta.pooler.dense.bias', 'roberta.pooler.dense.weight']\n",
            "You should probably TRAIN this model on a down-stream task to be able to use it for predictions and inference.\n",
            "<ipython-input-23-dde813e42baf>:31: FutureWarning: You are using `torch.load` with `weights_only=False` (the current default value), which uses the default pickle module implicitly. It is possible to construct malicious pickle data which will execute arbitrary code during unpickling (See https://github.com/pytorch/pytorch/blob/main/SECURITY.md#untrusted-models for more details). In a future release, the default value for `weights_only` will be flipped to `True`. This limits the functions that could be executed during unpickling. Arbitrary objects will no longer be allowed to be loaded via this mode unless they are explicitly allowlisted by the user via `torch.serialization.add_safe_globals`. We recommend you start setting `weights_only=True` for any use case where you don't have full control of the loaded file. Please open an issue on GitHub for any issues related to this experimental feature.\n",
            "  downstream_model.load_state_dict(torch.load(model_save_path, map_location=device))\n"
          ]
        }
      ],
      "source": [
        "import torch\n",
        "from transformers import AutoTokenizer, AutoModelForCausalLM, BertTokenizer, BertModel, RobertaTokenizer, RobertaModel\n",
        "from transformers import AutoConfig\n",
        "\n",
        "# Load the tokenizers and models for Llama2, BERT, and Roberta\n",
        "llama2_tokenizer = AutoTokenizer.from_pretrained(\"daryl149/llama-2-7b-chat-hf\", trust_remote_code=True)\n",
        "llama2_tokenizer.pad_token = llama2_tokenizer.eos_token  # 패딩 토큰 설정\n",
        "llama2_config = AutoConfig.from_pretrained(\"daryl149/llama-2-7b-chat-hf\", output_hidden_states=True)\n",
        "llama2_model = AutoModelForCausalLM.from_pretrained(\"daryl149/llama-2-7b-chat-hf\", config=llama2_config)\n",
        "\n",
        "bert_tokenizer = BertTokenizer.from_pretrained('google-bert/bert-large-uncased')\n",
        "bert_model = BertModel.from_pretrained('google-bert/bert-large-uncased')\n",
        "\n",
        "roberta_tokenizer = RobertaTokenizer.from_pretrained('FacebookAI/roberta-large')\n",
        "roberta_model = RobertaModel.from_pretrained('FacebookAI/roberta-large')\n",
        "\n",
        "# Make sure all models are in evaluation mode and moved to the appropriate device\n",
        "device = torch.device(\"cuda\" if torch.cuda.is_available() else \"cpu\")\n",
        "llama2_model.eval().to(device)\n",
        "bert_model.eval().to(device)\n",
        "roberta_model.eval().to(device)\n",
        "\n",
        "# Initialize the downstream model\n",
        "class_num = 5  # For example, if you have 8 classes\n",
        "SIGMA = 0.1  # SIGMA value for your downstream model\n",
        "downstream_model = DownstreamModel(class_num, SIGMA).to(device)\n",
        "\n",
        "model_load_path = \"/content/drive/MyDrive/LLMEmbed/model_weights_agnews.pth\"\n",
        "\n",
        "# 가중치 로드\n",
        "downstream_model.load_state_dict(torch.load(model_save_path, map_location=device))\n",
        "downstream_model.eval()\n",
        "\n",
        "def get_llama2_embedding(text, tokenizer, model, device):\n",
        "    inputs = tokenizer(text, return_tensors='pt', padding=True, truncation=True).to(device)\n",
        "    with torch.no_grad():\n",
        "        outputs = model(**inputs)\n",
        "        # Average the last 5 layers\n",
        "        embedding = torch.stack([torch.mean(outputs.hidden_states[i], dim=1) for i in range(-1, -6, -1)], dim=1)\n",
        "    return embedding\n",
        "\n",
        "def get_bert_embedding(text, tokenizer, model, device):\n",
        "    inputs = tokenizer(text, return_tensors='pt', padding=True, truncation=True).to(device)\n",
        "    with torch.no_grad():\n",
        "        outputs = model(**inputs)\n",
        "        # Use pooler_output for BERT embeddings\n",
        "        embedding = outputs.pooler_output\n",
        "    return embedding\n",
        "\n",
        "def get_roberta_embedding(text, tokenizer, model, device):\n",
        "    inputs = tokenizer(text, return_tensors='pt', padding=True, truncation=True).to(device)\n",
        "    with torch.no_grad():\n",
        "        outputs = model(**inputs)\n",
        "        # Use the first token ([CLS] token) representation\n",
        "        embedding = outputs.last_hidden_state[:, 0, :]\n",
        "    return embedding\n",
        "\n",
        "def infer(text, downstream_model, device):\n",
        "    # 각 모델로부터 임베딩을 추출\n",
        "    llama2_emb = get_llama2_embedding(text, llama2_tokenizer, llama2_model, device)\n",
        "    bert_emb = get_bert_embedding(text, bert_tokenizer, bert_model, device)\n",
        "    roberta_emb = get_roberta_embedding(text, roberta_tokenizer, roberta_model, device)\n",
        "\n",
        "    # Forward pass through the downstream model\n",
        "    with torch.no_grad():\n",
        "        prediction = downstream_model(llama2_emb, bert_emb, roberta_emb)\n",
        "\n",
        "    return prediction\n"
      ]
    },
    {
      "cell_type": "markdown",
      "metadata": {
        "id": "AoMxzf3tUMfc"
      },
      "source": [
        "# **9. 추론 테스트**"
      ]
    },
    {
      "cell_type": "code",
      "execution_count": null,
      "metadata": {
        "colab": {
          "base_uri": "https://localhost:8080/"
        },
        "id": "3iITRwFS7BOt",
        "outputId": "feb2c0f5-dc6a-475a-d83b-0dfc75730b6a"
      },
      "outputs": [
        {
          "name": "stderr",
          "output_type": "stream",
          "text": [
            "Asking to truncate to max_length but no maximum length is provided and the model has no predefined maximum length. Default to no truncation.\n"
          ]
        },
        {
          "name": "stdout",
          "output_type": "stream",
          "text": [
            "Text 1 Predicted label: Business, Score: 1.0000\n",
            "Text 2 Predicted label: Sports, Score: 0.9954\n",
            "Text 3 Predicted label: World, Score: 1.0000\n",
            "Text 4 Predicted label: Sci/Tech, Score: 1.0000\n",
            "Text 5 Predicted label: StackOverFlow, Score: 1.0000\n"
          ]
        }
      ],
      "source": [
        "label_map = {\n",
        "    0: \"World\",\n",
        "    1: \"Sports\",\n",
        "    2: \"Business\",\n",
        "    3: \"Sci/Tech\",\n",
        "    4: \"StackOverFlow\"\n",
        "}\n",
        "\n",
        "# 주어진 텍스트를 토대로 예측을 5번 실행\n",
        "texts = [\n",
        "    \"US trade deficit swells in June The US trade deficit has exploded 19 to a record \\$55.8bn as oil costs drove imports higher, according to a latest figures.\",\n",
        "    \"Indians Beat Twins 7-1, Nearing AL Lead (AP) AP - The Cleveland Indians pulled within one game of the AL Central lead, scoring four runs in the first inning and beating the Minnesota Twins 7-1 Saturday night behind home runs by Travis Hafner and Victor Martinez.\",\n",
        "    \"Pilgrims Crowd Field for Mass With Pope LOURDES, France - A frail Pope John Paul II celebrated an open-air Mass on Sunday as several hundred thousand pilgrims, many in wheelchairs, crowded onto a field near a French shrine to the Virgin Mary that is associated with miraculous cures of the sick. The Mass was a highlight of the Pope's two-day visit to Lourdes, a town in the Pyrenees where Roman Catholic tradition says St...\",\n",
        "    \"T. Rex Had Teen Growth Spurt, Scientists Say (Reuters) Reuters - Tyrannosaurus Rex grew incredibly fast\\during a teenaged growth spurt that saw the dinosaur expand its\\bulk by six times, but the fearsome beasts \\\"lived fast and died\\young,\\\" researchers said on Wednesday.\",\n",
        "    \"working of compareTo() method of Comparable interface            I have one Employee class and the requirement is to sort the objects using comparable interface. The output with this code is :The difference of this id and other id is..** 6  other id**1The difference of this id and other id is..** 3  other id**6The difference of this id and other id is..** 3  other id**6The difference of this id and other id is..** 3  other id**1The difference of this id and other id is..** 11  other id**3The difference of this id and other id is..** 11  other id**6\",\n",
        "]\n",
        "\n",
        "# 각 텍스트에 대해 예측 실행 및 레이블 출력\n",
        "for i, text in enumerate(texts):\n",
        "    prediction = infer(text, downstream_model, device)\n",
        "    predicted_label = torch.argmax(prediction, dim=1).item()\n",
        "    predicted_score = torch.max(prediction).item()\n",
        "    label_name = label_map[predicted_label]\n",
        "    print(f\"Text {i+1} Predicted label: {label_name}, Score: {predicted_score:.4f}\")"
      ]
    }
  ],
  "metadata": {
    "accelerator": "GPU",
    "colab": {
      "gpuType": "A100",
      "machine_shape": "hm",
      "provenance": [],
      "include_colab_link": true
    },
    "kernelspec": {
      "display_name": "Python 3",
      "name": "python3"
    },
    "language_info": {
      "name": "python"
    },
    "widgets": {
      "application/vnd.jupyter.widget-state+json": {
        "03861948e80b4dc9a8b9a3034d6be827": {
          "model_module": "@jupyter-widgets/controls",
          "model_module_version": "1.5.0",
          "model_name": "FloatProgressModel",
          "state": {
            "_dom_classes": [],
            "_model_module": "@jupyter-widgets/controls",
            "_model_module_version": "1.5.0",
            "_model_name": "FloatProgressModel",
            "_view_count": null,
            "_view_module": "@jupyter-widgets/controls",
            "_view_module_version": "1.5.0",
            "_view_name": "ProgressView",
            "bar_style": "success",
            "description": "",
            "description_tooltip": null,
            "layout": "IPY_MODEL_92843527262c4335b291d0972a9ad4a7",
            "max": 482,
            "min": 0,
            "orientation": "horizontal",
            "style": "IPY_MODEL_5a6be3dfe0a24bb091c573c2492c9a3b",
            "value": 482
          }
        },
        "06d270c9f366475089887e287037fb90": {
          "model_module": "@jupyter-widgets/controls",
          "model_module_version": "1.5.0",
          "model_name": "ProgressStyleModel",
          "state": {
            "_model_module": "@jupyter-widgets/controls",
            "_model_module_version": "1.5.0",
            "_model_name": "ProgressStyleModel",
            "_view_count": null,
            "_view_module": "@jupyter-widgets/base",
            "_view_module_version": "1.2.0",
            "_view_name": "StyleView",
            "bar_color": null,
            "description_width": ""
          }
        },
        "0a6de364f2f34448af7d07d3e043e3b1": {
          "model_module": "@jupyter-widgets/controls",
          "model_module_version": "1.5.0",
          "model_name": "ProgressStyleModel",
          "state": {
            "_model_module": "@jupyter-widgets/controls",
            "_model_module_version": "1.5.0",
            "_model_name": "ProgressStyleModel",
            "_view_count": null,
            "_view_module": "@jupyter-widgets/base",
            "_view_module_version": "1.2.0",
            "_view_name": "StyleView",
            "bar_color": null,
            "description_width": ""
          }
        },
        "0ce1bb03180b46c3b9c6304fb61f4bea": {
          "model_module": "@jupyter-widgets/controls",
          "model_module_version": "1.5.0",
          "model_name": "HTMLModel",
          "state": {
            "_dom_classes": [],
            "_model_module": "@jupyter-widgets/controls",
            "_model_module_version": "1.5.0",
            "_model_name": "HTMLModel",
            "_view_count": null,
            "_view_module": "@jupyter-widgets/controls",
            "_view_module_version": "1.5.0",
            "_view_name": "HTMLView",
            "description": "",
            "description_tooltip": null,
            "layout": "IPY_MODEL_274ddeaea27f4704a57730c69d5b4e08",
            "placeholder": "​",
            "style": "IPY_MODEL_320263d1acda46b998cad7dc1b373038",
            "value": " 899k/899k [00:02&lt;00:00, 427kB/s]"
          }
        },
        "0fb1a6c7e5b347a6b394d89478e89acb": {
          "model_module": "@jupyter-widgets/controls",
          "model_module_version": "1.5.0",
          "model_name": "DescriptionStyleModel",
          "state": {
            "_model_module": "@jupyter-widgets/controls",
            "_model_module_version": "1.5.0",
            "_model_name": "DescriptionStyleModel",
            "_view_count": null,
            "_view_module": "@jupyter-widgets/base",
            "_view_module_version": "1.2.0",
            "_view_name": "StyleView",
            "description_width": ""
          }
        },
        "0fee334b3c5d4389807e8a00d8015fec": {
          "model_module": "@jupyter-widgets/base",
          "model_module_version": "1.2.0",
          "model_name": "LayoutModel",
          "state": {
            "_model_module": "@jupyter-widgets/base",
            "_model_module_version": "1.2.0",
            "_model_name": "LayoutModel",
            "_view_count": null,
            "_view_module": "@jupyter-widgets/base",
            "_view_module_version": "1.2.0",
            "_view_name": "LayoutView",
            "align_content": null,
            "align_items": null,
            "align_self": null,
            "border": null,
            "bottom": null,
            "display": null,
            "flex": null,
            "flex_flow": null,
            "grid_area": null,
            "grid_auto_columns": null,
            "grid_auto_flow": null,
            "grid_auto_rows": null,
            "grid_column": null,
            "grid_gap": null,
            "grid_row": null,
            "grid_template_areas": null,
            "grid_template_columns": null,
            "grid_template_rows": null,
            "height": null,
            "justify_content": null,
            "justify_items": null,
            "left": null,
            "margin": null,
            "max_height": null,
            "max_width": null,
            "min_height": null,
            "min_width": null,
            "object_fit": null,
            "object_position": null,
            "order": null,
            "overflow": null,
            "overflow_x": null,
            "overflow_y": null,
            "padding": null,
            "right": null,
            "top": null,
            "visibility": null,
            "width": null
          }
        },
        "10d4936dff824b38a7e191c4319cf544": {
          "model_module": "@jupyter-widgets/controls",
          "model_module_version": "1.5.0",
          "model_name": "HBoxModel",
          "state": {
            "_dom_classes": [],
            "_model_module": "@jupyter-widgets/controls",
            "_model_module_version": "1.5.0",
            "_model_name": "HBoxModel",
            "_view_count": null,
            "_view_module": "@jupyter-widgets/controls",
            "_view_module_version": "1.5.0",
            "_view_name": "HBoxView",
            "box_style": "",
            "children": [
              "IPY_MODEL_dde966e5588c461283631f875418e357",
              "IPY_MODEL_37cfbf715f5647a98b06e87416d13ab2",
              "IPY_MODEL_69921bcc39ae4a06a60cc483eb433d9a"
            ],
            "layout": "IPY_MODEL_df70ccf9cf7743568c9e585f850299e4"
          }
        },
        "12193235bc85492cab3d5d78f6659a9b": {
          "model_module": "@jupyter-widgets/base",
          "model_module_version": "1.2.0",
          "model_name": "LayoutModel",
          "state": {
            "_model_module": "@jupyter-widgets/base",
            "_model_module_version": "1.2.0",
            "_model_name": "LayoutModel",
            "_view_count": null,
            "_view_module": "@jupyter-widgets/base",
            "_view_module_version": "1.2.0",
            "_view_name": "LayoutView",
            "align_content": null,
            "align_items": null,
            "align_self": null,
            "border": null,
            "bottom": null,
            "display": null,
            "flex": null,
            "flex_flow": null,
            "grid_area": null,
            "grid_auto_columns": null,
            "grid_auto_flow": null,
            "grid_auto_rows": null,
            "grid_column": null,
            "grid_gap": null,
            "grid_row": null,
            "grid_template_areas": null,
            "grid_template_columns": null,
            "grid_template_rows": null,
            "height": null,
            "justify_content": null,
            "justify_items": null,
            "left": null,
            "margin": null,
            "max_height": null,
            "max_width": null,
            "min_height": null,
            "min_width": null,
            "object_fit": null,
            "object_position": null,
            "order": null,
            "overflow": null,
            "overflow_x": null,
            "overflow_y": null,
            "padding": null,
            "right": null,
            "top": null,
            "visibility": null,
            "width": null
          }
        },
        "151a4ddbf92848b09e62512314b5b4d7": {
          "model_module": "@jupyter-widgets/base",
          "model_module_version": "1.2.0",
          "model_name": "LayoutModel",
          "state": {
            "_model_module": "@jupyter-widgets/base",
            "_model_module_version": "1.2.0",
            "_model_name": "LayoutModel",
            "_view_count": null,
            "_view_module": "@jupyter-widgets/base",
            "_view_module_version": "1.2.0",
            "_view_name": "LayoutView",
            "align_content": null,
            "align_items": null,
            "align_self": null,
            "border": null,
            "bottom": null,
            "display": null,
            "flex": null,
            "flex_flow": null,
            "grid_area": null,
            "grid_auto_columns": null,
            "grid_auto_flow": null,
            "grid_auto_rows": null,
            "grid_column": null,
            "grid_gap": null,
            "grid_row": null,
            "grid_template_areas": null,
            "grid_template_columns": null,
            "grid_template_rows": null,
            "height": null,
            "justify_content": null,
            "justify_items": null,
            "left": null,
            "margin": null,
            "max_height": null,
            "max_width": null,
            "min_height": null,
            "min_width": null,
            "object_fit": null,
            "object_position": null,
            "order": null,
            "overflow": null,
            "overflow_x": null,
            "overflow_y": null,
            "padding": null,
            "right": null,
            "top": null,
            "visibility": null,
            "width": null
          }
        },
        "16406e450b1c49a295139324b6a79164": {
          "model_module": "@jupyter-widgets/base",
          "model_module_version": "1.2.0",
          "model_name": "LayoutModel",
          "state": {
            "_model_module": "@jupyter-widgets/base",
            "_model_module_version": "1.2.0",
            "_model_name": "LayoutModel",
            "_view_count": null,
            "_view_module": "@jupyter-widgets/base",
            "_view_module_version": "1.2.0",
            "_view_name": "LayoutView",
            "align_content": null,
            "align_items": null,
            "align_self": null,
            "border": null,
            "bottom": null,
            "display": null,
            "flex": null,
            "flex_flow": null,
            "grid_area": null,
            "grid_auto_columns": null,
            "grid_auto_flow": null,
            "grid_auto_rows": null,
            "grid_column": null,
            "grid_gap": null,
            "grid_row": null,
            "grid_template_areas": null,
            "grid_template_columns": null,
            "grid_template_rows": null,
            "height": null,
            "justify_content": null,
            "justify_items": null,
            "left": null,
            "margin": null,
            "max_height": null,
            "max_width": null,
            "min_height": null,
            "min_width": null,
            "object_fit": null,
            "object_position": null,
            "order": null,
            "overflow": null,
            "overflow_x": null,
            "overflow_y": null,
            "padding": null,
            "right": null,
            "top": null,
            "visibility": null,
            "width": null
          }
        },
        "168a884c364c4c48a09ebf10a22a115f": {
          "model_module": "@jupyter-widgets/base",
          "model_module_version": "1.2.0",
          "model_name": "LayoutModel",
          "state": {
            "_model_module": "@jupyter-widgets/base",
            "_model_module_version": "1.2.0",
            "_model_name": "LayoutModel",
            "_view_count": null,
            "_view_module": "@jupyter-widgets/base",
            "_view_module_version": "1.2.0",
            "_view_name": "LayoutView",
            "align_content": null,
            "align_items": null,
            "align_self": null,
            "border": null,
            "bottom": null,
            "display": null,
            "flex": null,
            "flex_flow": null,
            "grid_area": null,
            "grid_auto_columns": null,
            "grid_auto_flow": null,
            "grid_auto_rows": null,
            "grid_column": null,
            "grid_gap": null,
            "grid_row": null,
            "grid_template_areas": null,
            "grid_template_columns": null,
            "grid_template_rows": null,
            "height": null,
            "justify_content": null,
            "justify_items": null,
            "left": null,
            "margin": null,
            "max_height": null,
            "max_width": null,
            "min_height": null,
            "min_width": null,
            "object_fit": null,
            "object_position": null,
            "order": null,
            "overflow": null,
            "overflow_x": null,
            "overflow_y": null,
            "padding": null,
            "right": null,
            "top": null,
            "visibility": null,
            "width": null
          }
        },
        "1805ce9e2717496bac6bd11a09916279": {
          "model_module": "@jupyter-widgets/controls",
          "model_module_version": "1.5.0",
          "model_name": "DescriptionStyleModel",
          "state": {
            "_model_module": "@jupyter-widgets/controls",
            "_model_module_version": "1.5.0",
            "_model_name": "DescriptionStyleModel",
            "_view_count": null,
            "_view_module": "@jupyter-widgets/base",
            "_view_module_version": "1.2.0",
            "_view_name": "StyleView",
            "description_width": ""
          }
        },
        "1b152a8253824d1d95e32f9d291b50ad": {
          "model_module": "@jupyter-widgets/controls",
          "model_module_version": "1.5.0",
          "model_name": "DescriptionStyleModel",
          "state": {
            "_model_module": "@jupyter-widgets/controls",
            "_model_module_version": "1.5.0",
            "_model_name": "DescriptionStyleModel",
            "_view_count": null,
            "_view_module": "@jupyter-widgets/base",
            "_view_module_version": "1.2.0",
            "_view_name": "StyleView",
            "description_width": ""
          }
        },
        "24f16aee98814f96be408b8da9397d55": {
          "model_module": "@jupyter-widgets/base",
          "model_module_version": "1.2.0",
          "model_name": "LayoutModel",
          "state": {
            "_model_module": "@jupyter-widgets/base",
            "_model_module_version": "1.2.0",
            "_model_name": "LayoutModel",
            "_view_count": null,
            "_view_module": "@jupyter-widgets/base",
            "_view_module_version": "1.2.0",
            "_view_name": "LayoutView",
            "align_content": null,
            "align_items": null,
            "align_self": null,
            "border": null,
            "bottom": null,
            "display": null,
            "flex": null,
            "flex_flow": null,
            "grid_area": null,
            "grid_auto_columns": null,
            "grid_auto_flow": null,
            "grid_auto_rows": null,
            "grid_column": null,
            "grid_gap": null,
            "grid_row": null,
            "grid_template_areas": null,
            "grid_template_columns": null,
            "grid_template_rows": null,
            "height": null,
            "justify_content": null,
            "justify_items": null,
            "left": null,
            "margin": null,
            "max_height": null,
            "max_width": null,
            "min_height": null,
            "min_width": null,
            "object_fit": null,
            "object_position": null,
            "order": null,
            "overflow": null,
            "overflow_x": null,
            "overflow_y": null,
            "padding": null,
            "right": null,
            "top": null,
            "visibility": null,
            "width": "20px"
          }
        },
        "274ddeaea27f4704a57730c69d5b4e08": {
          "model_module": "@jupyter-widgets/base",
          "model_module_version": "1.2.0",
          "model_name": "LayoutModel",
          "state": {
            "_model_module": "@jupyter-widgets/base",
            "_model_module_version": "1.2.0",
            "_model_name": "LayoutModel",
            "_view_count": null,
            "_view_module": "@jupyter-widgets/base",
            "_view_module_version": "1.2.0",
            "_view_name": "LayoutView",
            "align_content": null,
            "align_items": null,
            "align_self": null,
            "border": null,
            "bottom": null,
            "display": null,
            "flex": null,
            "flex_flow": null,
            "grid_area": null,
            "grid_auto_columns": null,
            "grid_auto_flow": null,
            "grid_auto_rows": null,
            "grid_column": null,
            "grid_gap": null,
            "grid_row": null,
            "grid_template_areas": null,
            "grid_template_columns": null,
            "grid_template_rows": null,
            "height": null,
            "justify_content": null,
            "justify_items": null,
            "left": null,
            "margin": null,
            "max_height": null,
            "max_width": null,
            "min_height": null,
            "min_width": null,
            "object_fit": null,
            "object_position": null,
            "order": null,
            "overflow": null,
            "overflow_x": null,
            "overflow_y": null,
            "padding": null,
            "right": null,
            "top": null,
            "visibility": null,
            "width": null
          }
        },
        "2f2fbe8e67894c4a8d639c0b4531c45a": {
          "model_module": "@jupyter-widgets/base",
          "model_module_version": "1.2.0",
          "model_name": "LayoutModel",
          "state": {
            "_model_module": "@jupyter-widgets/base",
            "_model_module_version": "1.2.0",
            "_model_name": "LayoutModel",
            "_view_count": null,
            "_view_module": "@jupyter-widgets/base",
            "_view_module_version": "1.2.0",
            "_view_name": "LayoutView",
            "align_content": null,
            "align_items": null,
            "align_self": null,
            "border": null,
            "bottom": null,
            "display": null,
            "flex": null,
            "flex_flow": null,
            "grid_area": null,
            "grid_auto_columns": null,
            "grid_auto_flow": null,
            "grid_auto_rows": null,
            "grid_column": null,
            "grid_gap": null,
            "grid_row": null,
            "grid_template_areas": null,
            "grid_template_columns": null,
            "grid_template_rows": null,
            "height": null,
            "justify_content": null,
            "justify_items": null,
            "left": null,
            "margin": null,
            "max_height": null,
            "max_width": null,
            "min_height": null,
            "min_width": null,
            "object_fit": null,
            "object_position": null,
            "order": null,
            "overflow": null,
            "overflow_x": null,
            "overflow_y": null,
            "padding": null,
            "right": null,
            "top": null,
            "visibility": null,
            "width": null
          }
        },
        "2f4ad7b028b0443797779bf9ea985b31": {
          "model_module": "@jupyter-widgets/controls",
          "model_module_version": "1.5.0",
          "model_name": "FloatProgressModel",
          "state": {
            "_dom_classes": [],
            "_model_module": "@jupyter-widgets/controls",
            "_model_module_version": "1.5.0",
            "_model_name": "FloatProgressModel",
            "_view_count": null,
            "_view_module": "@jupyter-widgets/controls",
            "_view_module_version": "1.5.0",
            "_view_name": "ProgressView",
            "bar_style": "success",
            "description": "",
            "description_tooltip": null,
            "layout": "IPY_MODEL_467c4e0bafb641e2a3918d4dc64dafa5",
            "max": 898823,
            "min": 0,
            "orientation": "horizontal",
            "style": "IPY_MODEL_0a6de364f2f34448af7d07d3e043e3b1",
            "value": 898823
          }
        },
        "2f534ac9b46a491ba581b320efd7e2c8": {
          "model_module": "@jupyter-widgets/controls",
          "model_module_version": "1.5.0",
          "model_name": "ProgressStyleModel",
          "state": {
            "_model_module": "@jupyter-widgets/controls",
            "_model_module_version": "1.5.0",
            "_model_name": "ProgressStyleModel",
            "_view_count": null,
            "_view_module": "@jupyter-widgets/base",
            "_view_module_version": "1.2.0",
            "_view_name": "StyleView",
            "bar_color": null,
            "description_width": ""
          }
        },
        "320263d1acda46b998cad7dc1b373038": {
          "model_module": "@jupyter-widgets/controls",
          "model_module_version": "1.5.0",
          "model_name": "DescriptionStyleModel",
          "state": {
            "_model_module": "@jupyter-widgets/controls",
            "_model_module_version": "1.5.0",
            "_model_name": "DescriptionStyleModel",
            "_view_count": null,
            "_view_module": "@jupyter-widgets/base",
            "_view_module_version": "1.2.0",
            "_view_name": "StyleView",
            "description_width": ""
          }
        },
        "36c59c75c8784b80927fa4aa7d9ea120": {
          "model_module": "@jupyter-widgets/base",
          "model_module_version": "1.2.0",
          "model_name": "LayoutModel",
          "state": {
            "_model_module": "@jupyter-widgets/base",
            "_model_module_version": "1.2.0",
            "_model_name": "LayoutModel",
            "_view_count": null,
            "_view_module": "@jupyter-widgets/base",
            "_view_module_version": "1.2.0",
            "_view_name": "LayoutView",
            "align_content": null,
            "align_items": null,
            "align_self": null,
            "border": null,
            "bottom": null,
            "display": null,
            "flex": null,
            "flex_flow": null,
            "grid_area": null,
            "grid_auto_columns": null,
            "grid_auto_flow": null,
            "grid_auto_rows": null,
            "grid_column": null,
            "grid_gap": null,
            "grid_row": null,
            "grid_template_areas": null,
            "grid_template_columns": null,
            "grid_template_rows": null,
            "height": null,
            "justify_content": null,
            "justify_items": null,
            "left": null,
            "margin": null,
            "max_height": null,
            "max_width": null,
            "min_height": null,
            "min_width": null,
            "object_fit": null,
            "object_position": null,
            "order": null,
            "overflow": null,
            "overflow_x": null,
            "overflow_y": null,
            "padding": null,
            "right": null,
            "top": null,
            "visibility": null,
            "width": null
          }
        },
        "37cfbf715f5647a98b06e87416d13ab2": {
          "model_module": "@jupyter-widgets/controls",
          "model_module_version": "1.5.0",
          "model_name": "FloatProgressModel",
          "state": {
            "_dom_classes": [],
            "_model_module": "@jupyter-widgets/controls",
            "_model_module_version": "1.5.0",
            "_model_name": "FloatProgressModel",
            "_view_count": null,
            "_view_module": "@jupyter-widgets/controls",
            "_view_module_version": "1.5.0",
            "_view_name": "ProgressView",
            "bar_style": "success",
            "description": "",
            "description_tooltip": null,
            "layout": "IPY_MODEL_12193235bc85492cab3d5d78f6659a9b",
            "max": 150000,
            "min": 0,
            "orientation": "horizontal",
            "style": "IPY_MODEL_e156ec62cbb547778e0c3caf1020c5f5",
            "value": 150000
          }
        },
        "39255a3fa96a4ed799aa1df302512182": {
          "model_module": "@jupyter-widgets/controls",
          "model_module_version": "1.5.0",
          "model_name": "HTMLModel",
          "state": {
            "_dom_classes": [],
            "_model_module": "@jupyter-widgets/controls",
            "_model_module_version": "1.5.0",
            "_model_name": "HTMLModel",
            "_view_count": null,
            "_view_module": "@jupyter-widgets/controls",
            "_view_module_version": "1.5.0",
            "_view_name": "HTMLView",
            "description": "",
            "description_tooltip": null,
            "layout": "IPY_MODEL_aad77776cff24802b84ed7d87a86ab4f",
            "placeholder": "​",
            "style": "IPY_MODEL_ec794254c7584049a7c4dbe8283a6d42",
            "value": " 456k/456k [00:01&lt;00:00, 435kB/s]"
          }
        },
        "39598ee78f1847f9aa03f32a00844637": {
          "model_module": "@jupyter-widgets/base",
          "model_module_version": "1.2.0",
          "model_name": "LayoutModel",
          "state": {
            "_model_module": "@jupyter-widgets/base",
            "_model_module_version": "1.2.0",
            "_model_name": "LayoutModel",
            "_view_count": null,
            "_view_module": "@jupyter-widgets/base",
            "_view_module_version": "1.2.0",
            "_view_name": "LayoutView",
            "align_content": null,
            "align_items": null,
            "align_self": null,
            "border": null,
            "bottom": null,
            "display": null,
            "flex": null,
            "flex_flow": null,
            "grid_area": null,
            "grid_auto_columns": null,
            "grid_auto_flow": null,
            "grid_auto_rows": null,
            "grid_column": null,
            "grid_gap": null,
            "grid_row": null,
            "grid_template_areas": null,
            "grid_template_columns": null,
            "grid_template_rows": null,
            "height": null,
            "justify_content": null,
            "justify_items": null,
            "left": null,
            "margin": null,
            "max_height": null,
            "max_width": null,
            "min_height": null,
            "min_width": null,
            "object_fit": null,
            "object_position": null,
            "order": null,
            "overflow": null,
            "overflow_x": null,
            "overflow_y": null,
            "padding": null,
            "right": null,
            "top": null,
            "visibility": null,
            "width": null
          }
        },
        "3b71a51431c642b3ad1adbc6ea16a0e5": {
          "model_module": "@jupyter-widgets/controls",
          "model_module_version": "1.5.0",
          "model_name": "FloatProgressModel",
          "state": {
            "_dom_classes": [],
            "_model_module": "@jupyter-widgets/controls",
            "_model_module_version": "1.5.0",
            "_model_name": "FloatProgressModel",
            "_view_count": null,
            "_view_module": "@jupyter-widgets/controls",
            "_view_module_version": "1.5.0",
            "_view_name": "ProgressView",
            "bar_style": "success",
            "description": "",
            "description_tooltip": null,
            "layout": "IPY_MODEL_80f4dd033f7946e1b0bb7dd008d44048",
            "max": 456318,
            "min": 0,
            "orientation": "horizontal",
            "style": "IPY_MODEL_2f534ac9b46a491ba581b320efd7e2c8",
            "value": 456318
          }
        },
        "3c556a3f3e2f44af95abcc6edb99357a": {
          "model_module": "@jupyter-widgets/base",
          "model_module_version": "1.2.0",
          "model_name": "LayoutModel",
          "state": {
            "_model_module": "@jupyter-widgets/base",
            "_model_module_version": "1.2.0",
            "_model_name": "LayoutModel",
            "_view_count": null,
            "_view_module": "@jupyter-widgets/base",
            "_view_module_version": "1.2.0",
            "_view_name": "LayoutView",
            "align_content": null,
            "align_items": null,
            "align_self": null,
            "border": null,
            "bottom": null,
            "display": null,
            "flex": null,
            "flex_flow": null,
            "grid_area": null,
            "grid_auto_columns": null,
            "grid_auto_flow": null,
            "grid_auto_rows": null,
            "grid_column": null,
            "grid_gap": null,
            "grid_row": null,
            "grid_template_areas": null,
            "grid_template_columns": null,
            "grid_template_rows": null,
            "height": null,
            "justify_content": null,
            "justify_items": null,
            "left": null,
            "margin": null,
            "max_height": null,
            "max_width": null,
            "min_height": null,
            "min_width": null,
            "object_fit": null,
            "object_position": null,
            "order": null,
            "overflow": null,
            "overflow_x": null,
            "overflow_y": null,
            "padding": null,
            "right": null,
            "top": null,
            "visibility": null,
            "width": null
          }
        },
        "467c4e0bafb641e2a3918d4dc64dafa5": {
          "model_module": "@jupyter-widgets/base",
          "model_module_version": "1.2.0",
          "model_name": "LayoutModel",
          "state": {
            "_model_module": "@jupyter-widgets/base",
            "_model_module_version": "1.2.0",
            "_model_name": "LayoutModel",
            "_view_count": null,
            "_view_module": "@jupyter-widgets/base",
            "_view_module_version": "1.2.0",
            "_view_name": "LayoutView",
            "align_content": null,
            "align_items": null,
            "align_self": null,
            "border": null,
            "bottom": null,
            "display": null,
            "flex": null,
            "flex_flow": null,
            "grid_area": null,
            "grid_auto_columns": null,
            "grid_auto_flow": null,
            "grid_auto_rows": null,
            "grid_column": null,
            "grid_gap": null,
            "grid_row": null,
            "grid_template_areas": null,
            "grid_template_columns": null,
            "grid_template_rows": null,
            "height": null,
            "justify_content": null,
            "justify_items": null,
            "left": null,
            "margin": null,
            "max_height": null,
            "max_width": null,
            "min_height": null,
            "min_width": null,
            "object_fit": null,
            "object_position": null,
            "order": null,
            "overflow": null,
            "overflow_x": null,
            "overflow_y": null,
            "padding": null,
            "right": null,
            "top": null,
            "visibility": null,
            "width": null
          }
        },
        "46b5f6ca95d54f39b0a33d2f2f7843d2": {
          "model_module": "@jupyter-widgets/controls",
          "model_module_version": "1.5.0",
          "model_name": "HTMLModel",
          "state": {
            "_dom_classes": [],
            "_model_module": "@jupyter-widgets/controls",
            "_model_module_version": "1.5.0",
            "_model_name": "HTMLModel",
            "_view_count": null,
            "_view_module": "@jupyter-widgets/controls",
            "_view_module_version": "1.5.0",
            "_view_name": "HTMLView",
            "description": "",
            "description_tooltip": null,
            "layout": "IPY_MODEL_fe9e9868961c4a6eb1d55762d472ecdf",
            "placeholder": "​",
            "style": "IPY_MODEL_f56ab3875e2b4da084ad6038d9889617",
            "value": " 9500/9500 [00:02&lt;00:00, 3651.06 examples/s]"
          }
        },
        "477d2e987bf44281b50f42c3bc8e3b23": {
          "model_module": "@jupyter-widgets/controls",
          "model_module_version": "1.5.0",
          "model_name": "DescriptionStyleModel",
          "state": {
            "_model_module": "@jupyter-widgets/controls",
            "_model_module_version": "1.5.0",
            "_model_name": "DescriptionStyleModel",
            "_view_count": null,
            "_view_module": "@jupyter-widgets/base",
            "_view_module_version": "1.2.0",
            "_view_name": "StyleView",
            "description_width": ""
          }
        },
        "4a4adad190ae4991951e90881b391ac2": {
          "model_module": "@jupyter-widgets/controls",
          "model_module_version": "1.5.0",
          "model_name": "HBoxModel",
          "state": {
            "_dom_classes": [],
            "_model_module": "@jupyter-widgets/controls",
            "_model_module_version": "1.5.0",
            "_model_name": "HBoxModel",
            "_view_count": null,
            "_view_module": "@jupyter-widgets/controls",
            "_view_module_version": "1.5.0",
            "_view_name": "HBoxView",
            "box_style": "",
            "children": [
              "IPY_MODEL_735e83440b2d4b969b66401c4d5c2c3d",
              "IPY_MODEL_3b71a51431c642b3ad1adbc6ea16a0e5",
              "IPY_MODEL_39255a3fa96a4ed799aa1df302512182"
            ],
            "layout": "IPY_MODEL_fea48962b66d40e2bca859b86a82c58c"
          }
        },
        "4b1f0386c81742e18366819665f98d39": {
          "model_module": "@jupyter-widgets/base",
          "model_module_version": "1.2.0",
          "model_name": "LayoutModel",
          "state": {
            "_model_module": "@jupyter-widgets/base",
            "_model_module_version": "1.2.0",
            "_model_name": "LayoutModel",
            "_view_count": null,
            "_view_module": "@jupyter-widgets/base",
            "_view_module_version": "1.2.0",
            "_view_name": "LayoutView",
            "align_content": null,
            "align_items": null,
            "align_self": null,
            "border": null,
            "bottom": null,
            "display": null,
            "flex": null,
            "flex_flow": null,
            "grid_area": null,
            "grid_auto_columns": null,
            "grid_auto_flow": null,
            "grid_auto_rows": null,
            "grid_column": null,
            "grid_gap": null,
            "grid_row": null,
            "grid_template_areas": null,
            "grid_template_columns": null,
            "grid_template_rows": null,
            "height": null,
            "justify_content": null,
            "justify_items": null,
            "left": null,
            "margin": null,
            "max_height": null,
            "max_width": null,
            "min_height": null,
            "min_width": null,
            "object_fit": null,
            "object_position": null,
            "order": null,
            "overflow": null,
            "overflow_x": null,
            "overflow_y": null,
            "padding": null,
            "right": null,
            "top": null,
            "visibility": null,
            "width": null
          }
        },
        "4d3b972a4d144b8dab701a232428efb4": {
          "model_module": "@jupyter-widgets/controls",
          "model_module_version": "1.5.0",
          "model_name": "DescriptionStyleModel",
          "state": {
            "_model_module": "@jupyter-widgets/controls",
            "_model_module_version": "1.5.0",
            "_model_name": "DescriptionStyleModel",
            "_view_count": null,
            "_view_module": "@jupyter-widgets/base",
            "_view_module_version": "1.2.0",
            "_view_name": "StyleView",
            "description_width": ""
          }
        },
        "4fe6a0d1c8334dd89c00d41d7d00f650": {
          "model_module": "@jupyter-widgets/controls",
          "model_module_version": "1.5.0",
          "model_name": "FloatProgressModel",
          "state": {
            "_dom_classes": [],
            "_model_module": "@jupyter-widgets/controls",
            "_model_module_version": "1.5.0",
            "_model_name": "FloatProgressModel",
            "_view_count": null,
            "_view_module": "@jupyter-widgets/controls",
            "_view_module_version": "1.5.0",
            "_view_name": "ProgressView",
            "bar_style": "success",
            "description": "",
            "description_tooltip": null,
            "layout": "IPY_MODEL_24f16aee98814f96be408b8da9397d55",
            "max": 1,
            "min": 0,
            "orientation": "horizontal",
            "style": "IPY_MODEL_886c3ca135d94cc5a85fb5ab60e6e4f6",
            "value": 0
          }
        },
        "52946448dcd44b27af24697a463fe0db": {
          "model_module": "@jupyter-widgets/controls",
          "model_module_version": "1.5.0",
          "model_name": "FloatProgressModel",
          "state": {
            "_dom_classes": [],
            "_model_module": "@jupyter-widgets/controls",
            "_model_module_version": "1.5.0",
            "_model_name": "FloatProgressModel",
            "_view_count": null,
            "_view_module": "@jupyter-widgets/controls",
            "_view_module_version": "1.5.0",
            "_view_name": "ProgressView",
            "bar_style": "success",
            "description": "",
            "description_tooltip": null,
            "layout": "IPY_MODEL_c6007fee346f4ca6ad64a4a20a40ac2d",
            "max": 9500,
            "min": 0,
            "orientation": "horizontal",
            "style": "IPY_MODEL_e6382edf788e44d190655c748ed323b6",
            "value": 9500
          }
        },
        "5518765656384e40a01e790366b9c034": {
          "model_module": "@jupyter-widgets/controls",
          "model_module_version": "1.5.0",
          "model_name": "DescriptionStyleModel",
          "state": {
            "_model_module": "@jupyter-widgets/controls",
            "_model_module_version": "1.5.0",
            "_model_name": "DescriptionStyleModel",
            "_view_count": null,
            "_view_module": "@jupyter-widgets/base",
            "_view_module_version": "1.2.0",
            "_view_name": "StyleView",
            "description_width": ""
          }
        },
        "5a6be3dfe0a24bb091c573c2492c9a3b": {
          "model_module": "@jupyter-widgets/controls",
          "model_module_version": "1.5.0",
          "model_name": "ProgressStyleModel",
          "state": {
            "_model_module": "@jupyter-widgets/controls",
            "_model_module_version": "1.5.0",
            "_model_name": "ProgressStyleModel",
            "_view_count": null,
            "_view_module": "@jupyter-widgets/base",
            "_view_module_version": "1.2.0",
            "_view_name": "StyleView",
            "bar_color": null,
            "description_width": ""
          }
        },
        "5ccd1e96155c45db84509058b6971225": {
          "model_module": "@jupyter-widgets/base",
          "model_module_version": "1.2.0",
          "model_name": "LayoutModel",
          "state": {
            "_model_module": "@jupyter-widgets/base",
            "_model_module_version": "1.2.0",
            "_model_name": "LayoutModel",
            "_view_count": null,
            "_view_module": "@jupyter-widgets/base",
            "_view_module_version": "1.2.0",
            "_view_name": "LayoutView",
            "align_content": null,
            "align_items": null,
            "align_self": null,
            "border": null,
            "bottom": null,
            "display": null,
            "flex": null,
            "flex_flow": null,
            "grid_area": null,
            "grid_auto_columns": null,
            "grid_auto_flow": null,
            "grid_auto_rows": null,
            "grid_column": null,
            "grid_gap": null,
            "grid_row": null,
            "grid_template_areas": null,
            "grid_template_columns": null,
            "grid_template_rows": null,
            "height": null,
            "justify_content": null,
            "justify_items": null,
            "left": null,
            "margin": null,
            "max_height": null,
            "max_width": null,
            "min_height": null,
            "min_width": null,
            "object_fit": null,
            "object_position": null,
            "order": null,
            "overflow": null,
            "overflow_x": null,
            "overflow_y": null,
            "padding": null,
            "right": null,
            "top": null,
            "visibility": null,
            "width": null
          }
        },
        "5cf19534d11c446bb7a23bd4ec4212e3": {
          "model_module": "@jupyter-widgets/controls",
          "model_module_version": "1.5.0",
          "model_name": "DescriptionStyleModel",
          "state": {
            "_model_module": "@jupyter-widgets/controls",
            "_model_module_version": "1.5.0",
            "_model_name": "DescriptionStyleModel",
            "_view_count": null,
            "_view_module": "@jupyter-widgets/base",
            "_view_module_version": "1.2.0",
            "_view_name": "StyleView",
            "description_width": ""
          }
        },
        "5df54d29cf094b74b0d7996c35cb40a6": {
          "model_module": "@jupyter-widgets/base",
          "model_module_version": "1.2.0",
          "model_name": "LayoutModel",
          "state": {
            "_model_module": "@jupyter-widgets/base",
            "_model_module_version": "1.2.0",
            "_model_name": "LayoutModel",
            "_view_count": null,
            "_view_module": "@jupyter-widgets/base",
            "_view_module_version": "1.2.0",
            "_view_name": "LayoutView",
            "align_content": null,
            "align_items": null,
            "align_self": null,
            "border": null,
            "bottom": null,
            "display": null,
            "flex": null,
            "flex_flow": null,
            "grid_area": null,
            "grid_auto_columns": null,
            "grid_auto_flow": null,
            "grid_auto_rows": null,
            "grid_column": null,
            "grid_gap": null,
            "grid_row": null,
            "grid_template_areas": null,
            "grid_template_columns": null,
            "grid_template_rows": null,
            "height": null,
            "justify_content": null,
            "justify_items": null,
            "left": null,
            "margin": null,
            "max_height": null,
            "max_width": null,
            "min_height": null,
            "min_width": null,
            "object_fit": null,
            "object_position": null,
            "order": null,
            "overflow": null,
            "overflow_x": null,
            "overflow_y": null,
            "padding": null,
            "right": null,
            "top": null,
            "visibility": null,
            "width": null
          }
        },
        "60312882d7884b1e9f07abceb9ff7c66": {
          "model_module": "@jupyter-widgets/base",
          "model_module_version": "1.2.0",
          "model_name": "LayoutModel",
          "state": {
            "_model_module": "@jupyter-widgets/base",
            "_model_module_version": "1.2.0",
            "_model_name": "LayoutModel",
            "_view_count": null,
            "_view_module": "@jupyter-widgets/base",
            "_view_module_version": "1.2.0",
            "_view_name": "LayoutView",
            "align_content": null,
            "align_items": null,
            "align_self": null,
            "border": null,
            "bottom": null,
            "display": null,
            "flex": null,
            "flex_flow": null,
            "grid_area": null,
            "grid_auto_columns": null,
            "grid_auto_flow": null,
            "grid_auto_rows": null,
            "grid_column": null,
            "grid_gap": null,
            "grid_row": null,
            "grid_template_areas": null,
            "grid_template_columns": null,
            "grid_template_rows": null,
            "height": null,
            "justify_content": null,
            "justify_items": null,
            "left": null,
            "margin": null,
            "max_height": null,
            "max_width": null,
            "min_height": null,
            "min_width": null,
            "object_fit": null,
            "object_position": null,
            "order": null,
            "overflow": null,
            "overflow_x": null,
            "overflow_y": null,
            "padding": null,
            "right": null,
            "top": null,
            "visibility": null,
            "width": null
          }
        },
        "621721b414c04632b3c6afa1b4312156": {
          "model_module": "@jupyter-widgets/controls",
          "model_module_version": "1.5.0",
          "model_name": "DescriptionStyleModel",
          "state": {
            "_model_module": "@jupyter-widgets/controls",
            "_model_module_version": "1.5.0",
            "_model_name": "DescriptionStyleModel",
            "_view_count": null,
            "_view_module": "@jupyter-widgets/base",
            "_view_module_version": "1.2.0",
            "_view_name": "StyleView",
            "description_width": ""
          }
        },
        "64c5844f620846798bb3678018204301": {
          "model_module": "@jupyter-widgets/controls",
          "model_module_version": "1.5.0",
          "model_name": "FloatProgressModel",
          "state": {
            "_dom_classes": [],
            "_model_module": "@jupyter-widgets/controls",
            "_model_module_version": "1.5.0",
            "_model_name": "FloatProgressModel",
            "_view_count": null,
            "_view_module": "@jupyter-widgets/controls",
            "_view_module_version": "1.5.0",
            "_view_name": "ProgressView",
            "bar_style": "success",
            "description": "",
            "description_tooltip": null,
            "layout": "IPY_MODEL_cdba1d2b92f2403e97a3bf504098c7bf",
            "max": 1355863,
            "min": 0,
            "orientation": "horizontal",
            "style": "IPY_MODEL_ddbab6e2789c40a583e4b04ba04e2888",
            "value": 1355863
          }
        },
        "65796317722440bdaaaa975ce0b25479": {
          "model_module": "@jupyter-widgets/controls",
          "model_module_version": "1.5.0",
          "model_name": "DescriptionStyleModel",
          "state": {
            "_model_module": "@jupyter-widgets/controls",
            "_model_module_version": "1.5.0",
            "_model_name": "DescriptionStyleModel",
            "_view_count": null,
            "_view_module": "@jupyter-widgets/base",
            "_view_module_version": "1.2.0",
            "_view_name": "StyleView",
            "description_width": ""
          }
        },
        "65cf99ce5be24be698622cf54eca7836": {
          "model_module": "@jupyter-widgets/controls",
          "model_module_version": "1.5.0",
          "model_name": "HBoxModel",
          "state": {
            "_dom_classes": [],
            "_model_module": "@jupyter-widgets/controls",
            "_model_module_version": "1.5.0",
            "_model_name": "HBoxModel",
            "_view_count": null,
            "_view_module": "@jupyter-widgets/controls",
            "_view_module_version": "1.5.0",
            "_view_name": "HBoxView",
            "box_style": "",
            "children": [
              "IPY_MODEL_ccf843d9a1a0459fa97cb9855444d90f",
              "IPY_MODEL_2f4ad7b028b0443797779bf9ea985b31",
              "IPY_MODEL_0ce1bb03180b46c3b9c6304fb61f4bea"
            ],
            "layout": "IPY_MODEL_5ccd1e96155c45db84509058b6971225"
          }
        },
        "69921bcc39ae4a06a60cc483eb433d9a": {
          "model_module": "@jupyter-widgets/controls",
          "model_module_version": "1.5.0",
          "model_name": "HTMLModel",
          "state": {
            "_dom_classes": [],
            "_model_module": "@jupyter-widgets/controls",
            "_model_module_version": "1.5.0",
            "_model_name": "HTMLModel",
            "_view_count": null,
            "_view_module": "@jupyter-widgets/controls",
            "_view_module_version": "1.5.0",
            "_view_name": "HTMLView",
            "description": "",
            "description_tooltip": null,
            "layout": "IPY_MODEL_151a4ddbf92848b09e62512314b5b4d7",
            "placeholder": "​",
            "style": "IPY_MODEL_f6a90301ed0042b5aaf2ae68829953ac",
            "value": " 150000/150000 [00:35&lt;00:00, 2894.98 examples/s]"
          }
        },
        "70e6407fbcf84982a85b0ec50d1f4916": {
          "model_module": "@jupyter-widgets/controls",
          "model_module_version": "1.5.0",
          "model_name": "HTMLModel",
          "state": {
            "_dom_classes": [],
            "_model_module": "@jupyter-widgets/controls",
            "_model_module_version": "1.5.0",
            "_model_name": "HTMLModel",
            "_view_count": null,
            "_view_module": "@jupyter-widgets/controls",
            "_view_module_version": "1.5.0",
            "_view_name": "HTMLView",
            "description": "",
            "description_tooltip": null,
            "layout": "IPY_MODEL_36c59c75c8784b80927fa4aa7d9ea120",
            "placeholder": "​",
            "style": "IPY_MODEL_bb8e8cdd90324a008f17edcb5423a3db",
            "value": "Loading checkpoint shards: 100%"
          }
        },
        "71476232a82a41c98c85a6fa0fb88e10": {
          "model_module": "@jupyter-widgets/controls",
          "model_module_version": "1.5.0",
          "model_name": "HBoxModel",
          "state": {
            "_dom_classes": [],
            "_model_module": "@jupyter-widgets/controls",
            "_model_module_version": "1.5.0",
            "_model_name": "HBoxModel",
            "_view_count": null,
            "_view_module": "@jupyter-widgets/controls",
            "_view_module_version": "1.5.0",
            "_view_name": "HBoxView",
            "box_style": "",
            "children": [
              "IPY_MODEL_8d264d17f89b4be09703ee41d355e82e",
              "IPY_MODEL_03861948e80b4dc9a8b9a3034d6be827",
              "IPY_MODEL_a7c75f6996ef44b79915c10e4529cc62"
            ],
            "layout": "IPY_MODEL_d8706d4ed2df4afcb6cba7e278af2522"
          }
        },
        "735e83440b2d4b969b66401c4d5c2c3d": {
          "model_module": "@jupyter-widgets/controls",
          "model_module_version": "1.5.0",
          "model_name": "HTMLModel",
          "state": {
            "_dom_classes": [],
            "_model_module": "@jupyter-widgets/controls",
            "_model_module_version": "1.5.0",
            "_model_name": "HTMLModel",
            "_view_count": null,
            "_view_module": "@jupyter-widgets/controls",
            "_view_module_version": "1.5.0",
            "_view_name": "HTMLView",
            "description": "",
            "description_tooltip": null,
            "layout": "IPY_MODEL_95221ce0609d404d9ba1f680eeca30bc",
            "placeholder": "​",
            "style": "IPY_MODEL_477d2e987bf44281b50f42c3bc8e3b23",
            "value": "merges.txt: 100%"
          }
        },
        "78fcfe7fcf7d4737be5249ee187a0f47": {
          "model_module": "@jupyter-widgets/controls",
          "model_module_version": "1.5.0",
          "model_name": "FloatProgressModel",
          "state": {
            "_dom_classes": [],
            "_model_module": "@jupyter-widgets/controls",
            "_model_module_version": "1.5.0",
            "_model_name": "FloatProgressModel",
            "_view_count": null,
            "_view_module": "@jupyter-widgets/controls",
            "_view_module_version": "1.5.0",
            "_view_name": "ProgressView",
            "bar_style": "success",
            "description": "",
            "description_tooltip": null,
            "layout": "IPY_MODEL_0fee334b3c5d4389807e8a00d8015fec",
            "max": 2,
            "min": 0,
            "orientation": "horizontal",
            "style": "IPY_MODEL_986fdfa330364c4db5d44ae6f0037228",
            "value": 2
          }
        },
        "79439ab994ad4f8d923b45f4f30f4091": {
          "model_module": "@jupyter-widgets/base",
          "model_module_version": "1.2.0",
          "model_name": "LayoutModel",
          "state": {
            "_model_module": "@jupyter-widgets/base",
            "_model_module_version": "1.2.0",
            "_model_name": "LayoutModel",
            "_view_count": null,
            "_view_module": "@jupyter-widgets/base",
            "_view_module_version": "1.2.0",
            "_view_name": "LayoutView",
            "align_content": null,
            "align_items": null,
            "align_self": null,
            "border": null,
            "bottom": null,
            "display": null,
            "flex": null,
            "flex_flow": null,
            "grid_area": null,
            "grid_auto_columns": null,
            "grid_auto_flow": null,
            "grid_auto_rows": null,
            "grid_column": null,
            "grid_gap": null,
            "grid_row": null,
            "grid_template_areas": null,
            "grid_template_columns": null,
            "grid_template_rows": null,
            "height": null,
            "justify_content": null,
            "justify_items": null,
            "left": null,
            "margin": null,
            "max_height": null,
            "max_width": null,
            "min_height": null,
            "min_width": null,
            "object_fit": null,
            "object_position": null,
            "order": null,
            "overflow": null,
            "overflow_x": null,
            "overflow_y": null,
            "padding": null,
            "right": null,
            "top": null,
            "visibility": null,
            "width": null
          }
        },
        "7bbd32ca502649acbd1066fd973e81a5": {
          "model_module": "@jupyter-widgets/controls",
          "model_module_version": "1.5.0",
          "model_name": "HTMLModel",
          "state": {
            "_dom_classes": [],
            "_model_module": "@jupyter-widgets/controls",
            "_model_module_version": "1.5.0",
            "_model_name": "HTMLModel",
            "_view_count": null,
            "_view_module": "@jupyter-widgets/controls",
            "_view_module_version": "1.5.0",
            "_view_name": "HTMLView",
            "description": "",
            "description_tooltip": null,
            "layout": "IPY_MODEL_168a884c364c4c48a09ebf10a22a115f",
            "placeholder": "​",
            "style": "IPY_MODEL_f48c821703694a8a8f3c07cea24a3e1e",
            "value": " 25.0/25.0 [00:00&lt;00:00, 1.95kB/s]"
          }
        },
        "7c9474b540d0484aaeb415dc24ee4550": {
          "model_module": "@jupyter-widgets/controls",
          "model_module_version": "1.5.0",
          "model_name": "HTMLModel",
          "state": {
            "_dom_classes": [],
            "_model_module": "@jupyter-widgets/controls",
            "_model_module_version": "1.5.0",
            "_model_name": "HTMLModel",
            "_view_count": null,
            "_view_module": "@jupyter-widgets/controls",
            "_view_module_version": "1.5.0",
            "_view_name": "HTMLView",
            "description": "",
            "description_tooltip": null,
            "layout": "IPY_MODEL_3c556a3f3e2f44af95abcc6edb99357a",
            "placeholder": "​",
            "style": "IPY_MODEL_1b152a8253824d1d95e32f9d291b50ad",
            "value": "tokenizer_config.json: 100%"
          }
        },
        "7d26154baf9d4bd1a400bc4822271d17": {
          "model_module": "@jupyter-widgets/base",
          "model_module_version": "1.2.0",
          "model_name": "LayoutModel",
          "state": {
            "_model_module": "@jupyter-widgets/base",
            "_model_module_version": "1.2.0",
            "_model_name": "LayoutModel",
            "_view_count": null,
            "_view_module": "@jupyter-widgets/base",
            "_view_module_version": "1.2.0",
            "_view_name": "LayoutView",
            "align_content": null,
            "align_items": null,
            "align_self": null,
            "border": null,
            "bottom": null,
            "display": null,
            "flex": null,
            "flex_flow": null,
            "grid_area": null,
            "grid_auto_columns": null,
            "grid_auto_flow": null,
            "grid_auto_rows": null,
            "grid_column": null,
            "grid_gap": null,
            "grid_row": null,
            "grid_template_areas": null,
            "grid_template_columns": null,
            "grid_template_rows": null,
            "height": null,
            "justify_content": null,
            "justify_items": null,
            "left": null,
            "margin": null,
            "max_height": null,
            "max_width": null,
            "min_height": null,
            "min_width": null,
            "object_fit": null,
            "object_position": null,
            "order": null,
            "overflow": null,
            "overflow_x": null,
            "overflow_y": null,
            "padding": null,
            "right": null,
            "top": null,
            "visibility": null,
            "width": null
          }
        },
        "80f4dd033f7946e1b0bb7dd008d44048": {
          "model_module": "@jupyter-widgets/base",
          "model_module_version": "1.2.0",
          "model_name": "LayoutModel",
          "state": {
            "_model_module": "@jupyter-widgets/base",
            "_model_module_version": "1.2.0",
            "_model_name": "LayoutModel",
            "_view_count": null,
            "_view_module": "@jupyter-widgets/base",
            "_view_module_version": "1.2.0",
            "_view_name": "LayoutView",
            "align_content": null,
            "align_items": null,
            "align_self": null,
            "border": null,
            "bottom": null,
            "display": null,
            "flex": null,
            "flex_flow": null,
            "grid_area": null,
            "grid_auto_columns": null,
            "grid_auto_flow": null,
            "grid_auto_rows": null,
            "grid_column": null,
            "grid_gap": null,
            "grid_row": null,
            "grid_template_areas": null,
            "grid_template_columns": null,
            "grid_template_rows": null,
            "height": null,
            "justify_content": null,
            "justify_items": null,
            "left": null,
            "margin": null,
            "max_height": null,
            "max_width": null,
            "min_height": null,
            "min_width": null,
            "object_fit": null,
            "object_position": null,
            "order": null,
            "overflow": null,
            "overflow_x": null,
            "overflow_y": null,
            "padding": null,
            "right": null,
            "top": null,
            "visibility": null,
            "width": null
          }
        },
        "878610a216a9430aa2f042cd4f18c9eb": {
          "model_module": "@jupyter-widgets/controls",
          "model_module_version": "1.5.0",
          "model_name": "HTMLModel",
          "state": {
            "_dom_classes": [],
            "_model_module": "@jupyter-widgets/controls",
            "_model_module_version": "1.5.0",
            "_model_name": "HTMLModel",
            "_view_count": null,
            "_view_module": "@jupyter-widgets/controls",
            "_view_module_version": "1.5.0",
            "_view_name": "HTMLView",
            "description": "",
            "description_tooltip": null,
            "layout": "IPY_MODEL_79439ab994ad4f8d923b45f4f30f4091",
            "placeholder": "​",
            "style": "IPY_MODEL_1805ce9e2717496bac6bd11a09916279",
            "value": " 2/2 [00:04&lt;00:00,  1.86s/it]"
          }
        },
        "886c3ca135d94cc5a85fb5ab60e6e4f6": {
          "model_module": "@jupyter-widgets/controls",
          "model_module_version": "1.5.0",
          "model_name": "ProgressStyleModel",
          "state": {
            "_model_module": "@jupyter-widgets/controls",
            "_model_module_version": "1.5.0",
            "_model_name": "ProgressStyleModel",
            "_view_count": null,
            "_view_module": "@jupyter-widgets/base",
            "_view_module_version": "1.2.0",
            "_view_name": "StyleView",
            "bar_color": null,
            "description_width": ""
          }
        },
        "8aeb08431f06445f80e8712e6eabb709": {
          "model_module": "@jupyter-widgets/base",
          "model_module_version": "1.2.0",
          "model_name": "LayoutModel",
          "state": {
            "_model_module": "@jupyter-widgets/base",
            "_model_module_version": "1.2.0",
            "_model_name": "LayoutModel",
            "_view_count": null,
            "_view_module": "@jupyter-widgets/base",
            "_view_module_version": "1.2.0",
            "_view_name": "LayoutView",
            "align_content": null,
            "align_items": null,
            "align_self": null,
            "border": null,
            "bottom": null,
            "display": null,
            "flex": null,
            "flex_flow": null,
            "grid_area": null,
            "grid_auto_columns": null,
            "grid_auto_flow": null,
            "grid_auto_rows": null,
            "grid_column": null,
            "grid_gap": null,
            "grid_row": null,
            "grid_template_areas": null,
            "grid_template_columns": null,
            "grid_template_rows": null,
            "height": null,
            "justify_content": null,
            "justify_items": null,
            "left": null,
            "margin": null,
            "max_height": null,
            "max_width": null,
            "min_height": null,
            "min_width": null,
            "object_fit": null,
            "object_position": null,
            "order": null,
            "overflow": null,
            "overflow_x": null,
            "overflow_y": null,
            "padding": null,
            "right": null,
            "top": null,
            "visibility": null,
            "width": null
          }
        },
        "8b4ff0708d044a19976d52a27e4252d1": {
          "model_module": "@jupyter-widgets/base",
          "model_module_version": "1.2.0",
          "model_name": "LayoutModel",
          "state": {
            "_model_module": "@jupyter-widgets/base",
            "_model_module_version": "1.2.0",
            "_model_name": "LayoutModel",
            "_view_count": null,
            "_view_module": "@jupyter-widgets/base",
            "_view_module_version": "1.2.0",
            "_view_name": "LayoutView",
            "align_content": null,
            "align_items": null,
            "align_self": null,
            "border": null,
            "bottom": null,
            "display": null,
            "flex": null,
            "flex_flow": null,
            "grid_area": null,
            "grid_auto_columns": null,
            "grid_auto_flow": null,
            "grid_auto_rows": null,
            "grid_column": null,
            "grid_gap": null,
            "grid_row": null,
            "grid_template_areas": null,
            "grid_template_columns": null,
            "grid_template_rows": null,
            "height": null,
            "justify_content": null,
            "justify_items": null,
            "left": null,
            "margin": null,
            "max_height": null,
            "max_width": null,
            "min_height": null,
            "min_width": null,
            "object_fit": null,
            "object_position": null,
            "order": null,
            "overflow": null,
            "overflow_x": null,
            "overflow_y": null,
            "padding": null,
            "right": null,
            "top": null,
            "visibility": null,
            "width": null
          }
        },
        "8d264d17f89b4be09703ee41d355e82e": {
          "model_module": "@jupyter-widgets/controls",
          "model_module_version": "1.5.0",
          "model_name": "HTMLModel",
          "state": {
            "_dom_classes": [],
            "_model_module": "@jupyter-widgets/controls",
            "_model_module_version": "1.5.0",
            "_model_name": "HTMLModel",
            "_view_count": null,
            "_view_module": "@jupyter-widgets/controls",
            "_view_module_version": "1.5.0",
            "_view_name": "HTMLView",
            "description": "",
            "description_tooltip": null,
            "layout": "IPY_MODEL_60312882d7884b1e9f07abceb9ff7c66",
            "placeholder": "​",
            "style": "IPY_MODEL_65796317722440bdaaaa975ce0b25479",
            "value": "config.json: 100%"
          }
        },
        "92843527262c4335b291d0972a9ad4a7": {
          "model_module": "@jupyter-widgets/base",
          "model_module_version": "1.2.0",
          "model_name": "LayoutModel",
          "state": {
            "_model_module": "@jupyter-widgets/base",
            "_model_module_version": "1.2.0",
            "_model_name": "LayoutModel",
            "_view_count": null,
            "_view_module": "@jupyter-widgets/base",
            "_view_module_version": "1.2.0",
            "_view_name": "LayoutView",
            "align_content": null,
            "align_items": null,
            "align_self": null,
            "border": null,
            "bottom": null,
            "display": null,
            "flex": null,
            "flex_flow": null,
            "grid_area": null,
            "grid_auto_columns": null,
            "grid_auto_flow": null,
            "grid_auto_rows": null,
            "grid_column": null,
            "grid_gap": null,
            "grid_row": null,
            "grid_template_areas": null,
            "grid_template_columns": null,
            "grid_template_rows": null,
            "height": null,
            "justify_content": null,
            "justify_items": null,
            "left": null,
            "margin": null,
            "max_height": null,
            "max_width": null,
            "min_height": null,
            "min_width": null,
            "object_fit": null,
            "object_position": null,
            "order": null,
            "overflow": null,
            "overflow_x": null,
            "overflow_y": null,
            "padding": null,
            "right": null,
            "top": null,
            "visibility": null,
            "width": null
          }
        },
        "942bf12feceb41e6ae7ab7804f476685": {
          "model_module": "@jupyter-widgets/controls",
          "model_module_version": "1.5.0",
          "model_name": "HTMLModel",
          "state": {
            "_dom_classes": [],
            "_model_module": "@jupyter-widgets/controls",
            "_model_module_version": "1.5.0",
            "_model_name": "HTMLModel",
            "_view_count": null,
            "_view_module": "@jupyter-widgets/controls",
            "_view_module_version": "1.5.0",
            "_view_name": "HTMLView",
            "description": "",
            "description_tooltip": null,
            "layout": "IPY_MODEL_a299553adb3f4e2596e04e49e9571d26",
            "placeholder": "​",
            "style": "IPY_MODEL_621721b414c04632b3c6afa1b4312156",
            "value": ""
          }
        },
        "95221ce0609d404d9ba1f680eeca30bc": {
          "model_module": "@jupyter-widgets/base",
          "model_module_version": "1.2.0",
          "model_name": "LayoutModel",
          "state": {
            "_model_module": "@jupyter-widgets/base",
            "_model_module_version": "1.2.0",
            "_model_name": "LayoutModel",
            "_view_count": null,
            "_view_module": "@jupyter-widgets/base",
            "_view_module_version": "1.2.0",
            "_view_name": "LayoutView",
            "align_content": null,
            "align_items": null,
            "align_self": null,
            "border": null,
            "bottom": null,
            "display": null,
            "flex": null,
            "flex_flow": null,
            "grid_area": null,
            "grid_auto_columns": null,
            "grid_auto_flow": null,
            "grid_auto_rows": null,
            "grid_column": null,
            "grid_gap": null,
            "grid_row": null,
            "grid_template_areas": null,
            "grid_template_columns": null,
            "grid_template_rows": null,
            "height": null,
            "justify_content": null,
            "justify_items": null,
            "left": null,
            "margin": null,
            "max_height": null,
            "max_width": null,
            "min_height": null,
            "min_width": null,
            "object_fit": null,
            "object_position": null,
            "order": null,
            "overflow": null,
            "overflow_x": null,
            "overflow_y": null,
            "padding": null,
            "right": null,
            "top": null,
            "visibility": null,
            "width": null
          }
        },
        "986fdfa330364c4db5d44ae6f0037228": {
          "model_module": "@jupyter-widgets/controls",
          "model_module_version": "1.5.0",
          "model_name": "ProgressStyleModel",
          "state": {
            "_model_module": "@jupyter-widgets/controls",
            "_model_module_version": "1.5.0",
            "_model_name": "ProgressStyleModel",
            "_view_count": null,
            "_view_module": "@jupyter-widgets/base",
            "_view_module_version": "1.2.0",
            "_view_name": "StyleView",
            "bar_color": null,
            "description_width": ""
          }
        },
        "9b60dba85ecc424b9e20ceade62993d5": {
          "model_module": "@jupyter-widgets/controls",
          "model_module_version": "1.5.0",
          "model_name": "DescriptionStyleModel",
          "state": {
            "_model_module": "@jupyter-widgets/controls",
            "_model_module_version": "1.5.0",
            "_model_name": "DescriptionStyleModel",
            "_view_count": null,
            "_view_module": "@jupyter-widgets/base",
            "_view_module_version": "1.2.0",
            "_view_name": "StyleView",
            "description_width": ""
          }
        },
        "9ba3630759f44276a6d452e83ceb4bde": {
          "model_module": "@jupyter-widgets/base",
          "model_module_version": "1.2.0",
          "model_name": "LayoutModel",
          "state": {
            "_model_module": "@jupyter-widgets/base",
            "_model_module_version": "1.2.0",
            "_model_name": "LayoutModel",
            "_view_count": null,
            "_view_module": "@jupyter-widgets/base",
            "_view_module_version": "1.2.0",
            "_view_name": "LayoutView",
            "align_content": null,
            "align_items": null,
            "align_self": null,
            "border": null,
            "bottom": null,
            "display": null,
            "flex": null,
            "flex_flow": null,
            "grid_area": null,
            "grid_auto_columns": null,
            "grid_auto_flow": null,
            "grid_auto_rows": null,
            "grid_column": null,
            "grid_gap": null,
            "grid_row": null,
            "grid_template_areas": null,
            "grid_template_columns": null,
            "grid_template_rows": null,
            "height": null,
            "justify_content": null,
            "justify_items": null,
            "left": null,
            "margin": null,
            "max_height": null,
            "max_width": null,
            "min_height": null,
            "min_width": null,
            "object_fit": null,
            "object_position": null,
            "order": null,
            "overflow": null,
            "overflow_x": null,
            "overflow_y": null,
            "padding": null,
            "right": null,
            "top": null,
            "visibility": null,
            "width": null
          }
        },
        "a299553adb3f4e2596e04e49e9571d26": {
          "model_module": "@jupyter-widgets/base",
          "model_module_version": "1.2.0",
          "model_name": "LayoutModel",
          "state": {
            "_model_module": "@jupyter-widgets/base",
            "_model_module_version": "1.2.0",
            "_model_name": "LayoutModel",
            "_view_count": null,
            "_view_module": "@jupyter-widgets/base",
            "_view_module_version": "1.2.0",
            "_view_name": "LayoutView",
            "align_content": null,
            "align_items": null,
            "align_self": null,
            "border": null,
            "bottom": null,
            "display": null,
            "flex": null,
            "flex_flow": null,
            "grid_area": null,
            "grid_auto_columns": null,
            "grid_auto_flow": null,
            "grid_auto_rows": null,
            "grid_column": null,
            "grid_gap": null,
            "grid_row": null,
            "grid_template_areas": null,
            "grid_template_columns": null,
            "grid_template_rows": null,
            "height": null,
            "justify_content": null,
            "justify_items": null,
            "left": null,
            "margin": null,
            "max_height": null,
            "max_width": null,
            "min_height": null,
            "min_width": null,
            "object_fit": null,
            "object_position": null,
            "order": null,
            "overflow": null,
            "overflow_x": null,
            "overflow_y": null,
            "padding": null,
            "right": null,
            "top": null,
            "visibility": null,
            "width": null
          }
        },
        "a7c75f6996ef44b79915c10e4529cc62": {
          "model_module": "@jupyter-widgets/controls",
          "model_module_version": "1.5.0",
          "model_name": "HTMLModel",
          "state": {
            "_dom_classes": [],
            "_model_module": "@jupyter-widgets/controls",
            "_model_module_version": "1.5.0",
            "_model_name": "HTMLModel",
            "_view_count": null,
            "_view_module": "@jupyter-widgets/controls",
            "_view_module_version": "1.5.0",
            "_view_name": "HTMLView",
            "description": "",
            "description_tooltip": null,
            "layout": "IPY_MODEL_5df54d29cf094b74b0d7996c35cb40a6",
            "placeholder": "​",
            "style": "IPY_MODEL_9b60dba85ecc424b9e20ceade62993d5",
            "value": " 482/482 [00:00&lt;00:00, 42.9kB/s]"
          }
        },
        "aad77776cff24802b84ed7d87a86ab4f": {
          "model_module": "@jupyter-widgets/base",
          "model_module_version": "1.2.0",
          "model_name": "LayoutModel",
          "state": {
            "_model_module": "@jupyter-widgets/base",
            "_model_module_version": "1.2.0",
            "_model_name": "LayoutModel",
            "_view_count": null,
            "_view_module": "@jupyter-widgets/base",
            "_view_module_version": "1.2.0",
            "_view_name": "LayoutView",
            "align_content": null,
            "align_items": null,
            "align_self": null,
            "border": null,
            "bottom": null,
            "display": null,
            "flex": null,
            "flex_flow": null,
            "grid_area": null,
            "grid_auto_columns": null,
            "grid_auto_flow": null,
            "grid_auto_rows": null,
            "grid_column": null,
            "grid_gap": null,
            "grid_row": null,
            "grid_template_areas": null,
            "grid_template_columns": null,
            "grid_template_rows": null,
            "height": null,
            "justify_content": null,
            "justify_items": null,
            "left": null,
            "margin": null,
            "max_height": null,
            "max_width": null,
            "min_height": null,
            "min_width": null,
            "object_fit": null,
            "object_position": null,
            "order": null,
            "overflow": null,
            "overflow_x": null,
            "overflow_y": null,
            "padding": null,
            "right": null,
            "top": null,
            "visibility": null,
            "width": null
          }
        },
        "ab5dc1e016a14298a117edf429476f8a": {
          "model_module": "@jupyter-widgets/base",
          "model_module_version": "1.2.0",
          "model_name": "LayoutModel",
          "state": {
            "_model_module": "@jupyter-widgets/base",
            "_model_module_version": "1.2.0",
            "_model_name": "LayoutModel",
            "_view_count": null,
            "_view_module": "@jupyter-widgets/base",
            "_view_module_version": "1.2.0",
            "_view_name": "LayoutView",
            "align_content": null,
            "align_items": null,
            "align_self": null,
            "border": null,
            "bottom": null,
            "display": null,
            "flex": null,
            "flex_flow": null,
            "grid_area": null,
            "grid_auto_columns": null,
            "grid_auto_flow": null,
            "grid_auto_rows": null,
            "grid_column": null,
            "grid_gap": null,
            "grid_row": null,
            "grid_template_areas": null,
            "grid_template_columns": null,
            "grid_template_rows": null,
            "height": null,
            "justify_content": null,
            "justify_items": null,
            "left": null,
            "margin": null,
            "max_height": null,
            "max_width": null,
            "min_height": null,
            "min_width": null,
            "object_fit": null,
            "object_position": null,
            "order": null,
            "overflow": null,
            "overflow_x": null,
            "overflow_y": null,
            "padding": null,
            "right": null,
            "top": null,
            "visibility": null,
            "width": null
          }
        },
        "b4f6034980c44c0da21d3c1877b027d1": {
          "model_module": "@jupyter-widgets/controls",
          "model_module_version": "1.5.0",
          "model_name": "HBoxModel",
          "state": {
            "_dom_classes": [],
            "_model_module": "@jupyter-widgets/controls",
            "_model_module_version": "1.5.0",
            "_model_name": "HBoxModel",
            "_view_count": null,
            "_view_module": "@jupyter-widgets/controls",
            "_view_module_version": "1.5.0",
            "_view_name": "HBoxView",
            "box_style": "",
            "children": [
              "IPY_MODEL_7c9474b540d0484aaeb415dc24ee4550",
              "IPY_MODEL_c7934117db1b4fdba50805027457426e",
              "IPY_MODEL_7bbd32ca502649acbd1066fd973e81a5"
            ],
            "layout": "IPY_MODEL_d1b98eec1a7b473a9c9940f6df841138"
          }
        },
        "bb48fa90d65f4ed88efa0989552b3526": {
          "model_module": "@jupyter-widgets/controls",
          "model_module_version": "1.5.0",
          "model_name": "HTMLModel",
          "state": {
            "_dom_classes": [],
            "_model_module": "@jupyter-widgets/controls",
            "_model_module_version": "1.5.0",
            "_model_name": "HTMLModel",
            "_view_count": null,
            "_view_module": "@jupyter-widgets/controls",
            "_view_module_version": "1.5.0",
            "_view_name": "HTMLView",
            "description": "",
            "description_tooltip": null,
            "layout": "IPY_MODEL_7d26154baf9d4bd1a400bc4822271d17",
            "placeholder": "​",
            "style": "IPY_MODEL_4d3b972a4d144b8dab701a232428efb4",
            "value": "Map: 100%"
          }
        },
        "bb8e8cdd90324a008f17edcb5423a3db": {
          "model_module": "@jupyter-widgets/controls",
          "model_module_version": "1.5.0",
          "model_name": "DescriptionStyleModel",
          "state": {
            "_model_module": "@jupyter-widgets/controls",
            "_model_module_version": "1.5.0",
            "_model_name": "DescriptionStyleModel",
            "_view_count": null,
            "_view_module": "@jupyter-widgets/base",
            "_view_module_version": "1.2.0",
            "_view_name": "StyleView",
            "description_width": ""
          }
        },
        "c2393ccde9ae4cbc8c369d9c27092eb6": {
          "model_module": "@jupyter-widgets/controls",
          "model_module_version": "1.5.0",
          "model_name": "HBoxModel",
          "state": {
            "_dom_classes": [],
            "_model_module": "@jupyter-widgets/controls",
            "_model_module_version": "1.5.0",
            "_model_name": "HBoxModel",
            "_view_count": null,
            "_view_module": "@jupyter-widgets/controls",
            "_view_module_version": "1.5.0",
            "_view_name": "HBoxView",
            "box_style": "",
            "children": [
              "IPY_MODEL_c4867a13f0d44167935acc21c2a104f6",
              "IPY_MODEL_64c5844f620846798bb3678018204301",
              "IPY_MODEL_f53ff31c68264b0e975a280bb70165c4"
            ],
            "layout": "IPY_MODEL_cd7efcb26b2145df95fc57b722acfef8"
          }
        },
        "c40cfa86701c4f11805f4e5632e6f75b": {
          "model_module": "@jupyter-widgets/controls",
          "model_module_version": "1.5.0",
          "model_name": "HTMLModel",
          "state": {
            "_dom_classes": [],
            "_model_module": "@jupyter-widgets/controls",
            "_model_module_version": "1.5.0",
            "_model_name": "HTMLModel",
            "_view_count": null,
            "_view_module": "@jupyter-widgets/controls",
            "_view_module_version": "1.5.0",
            "_view_name": "HTMLView",
            "description": "",
            "description_tooltip": null,
            "layout": "IPY_MODEL_9ba3630759f44276a6d452e83ceb4bde",
            "placeholder": "​",
            "style": "IPY_MODEL_fe9971cd907346bfa84f952046343dcd",
            "value": " 0/0 [00:00&lt;?, ?it/s]"
          }
        },
        "c4867a13f0d44167935acc21c2a104f6": {
          "model_module": "@jupyter-widgets/controls",
          "model_module_version": "1.5.0",
          "model_name": "HTMLModel",
          "state": {
            "_dom_classes": [],
            "_model_module": "@jupyter-widgets/controls",
            "_model_module_version": "1.5.0",
            "_model_name": "HTMLModel",
            "_view_count": null,
            "_view_module": "@jupyter-widgets/controls",
            "_view_module_version": "1.5.0",
            "_view_name": "HTMLView",
            "description": "",
            "description_tooltip": null,
            "layout": "IPY_MODEL_ab5dc1e016a14298a117edf429476f8a",
            "placeholder": "​",
            "style": "IPY_MODEL_0fb1a6c7e5b347a6b394d89478e89acb",
            "value": "tokenizer.json: 100%"
          }
        },
        "c6007fee346f4ca6ad64a4a20a40ac2d": {
          "model_module": "@jupyter-widgets/base",
          "model_module_version": "1.2.0",
          "model_name": "LayoutModel",
          "state": {
            "_model_module": "@jupyter-widgets/base",
            "_model_module_version": "1.2.0",
            "_model_name": "LayoutModel",
            "_view_count": null,
            "_view_module": "@jupyter-widgets/base",
            "_view_module_version": "1.2.0",
            "_view_name": "LayoutView",
            "align_content": null,
            "align_items": null,
            "align_self": null,
            "border": null,
            "bottom": null,
            "display": null,
            "flex": null,
            "flex_flow": null,
            "grid_area": null,
            "grid_auto_columns": null,
            "grid_auto_flow": null,
            "grid_auto_rows": null,
            "grid_column": null,
            "grid_gap": null,
            "grid_row": null,
            "grid_template_areas": null,
            "grid_template_columns": null,
            "grid_template_rows": null,
            "height": null,
            "justify_content": null,
            "justify_items": null,
            "left": null,
            "margin": null,
            "max_height": null,
            "max_width": null,
            "min_height": null,
            "min_width": null,
            "object_fit": null,
            "object_position": null,
            "order": null,
            "overflow": null,
            "overflow_x": null,
            "overflow_y": null,
            "padding": null,
            "right": null,
            "top": null,
            "visibility": null,
            "width": null
          }
        },
        "c73b832c919b42eba3be50ba5c392273": {
          "model_module": "@jupyter-widgets/controls",
          "model_module_version": "1.5.0",
          "model_name": "HBoxModel",
          "state": {
            "_dom_classes": [],
            "_model_module": "@jupyter-widgets/controls",
            "_model_module_version": "1.5.0",
            "_model_name": "HBoxModel",
            "_view_count": null,
            "_view_module": "@jupyter-widgets/controls",
            "_view_module_version": "1.5.0",
            "_view_name": "HBoxView",
            "box_style": "",
            "children": [
              "IPY_MODEL_942bf12feceb41e6ae7ab7804f476685",
              "IPY_MODEL_4fe6a0d1c8334dd89c00d41d7d00f650",
              "IPY_MODEL_c40cfa86701c4f11805f4e5632e6f75b"
            ],
            "layout": "IPY_MODEL_eef5c76bbfd84be0bb17c3911c2a666e"
          }
        },
        "c7934117db1b4fdba50805027457426e": {
          "model_module": "@jupyter-widgets/controls",
          "model_module_version": "1.5.0",
          "model_name": "FloatProgressModel",
          "state": {
            "_dom_classes": [],
            "_model_module": "@jupyter-widgets/controls",
            "_model_module_version": "1.5.0",
            "_model_name": "FloatProgressModel",
            "_view_count": null,
            "_view_module": "@jupyter-widgets/controls",
            "_view_module_version": "1.5.0",
            "_view_name": "ProgressView",
            "bar_style": "success",
            "description": "",
            "description_tooltip": null,
            "layout": "IPY_MODEL_39598ee78f1847f9aa03f32a00844637",
            "max": 25,
            "min": 0,
            "orientation": "horizontal",
            "style": "IPY_MODEL_06d270c9f366475089887e287037fb90",
            "value": 25
          }
        },
        "ccf843d9a1a0459fa97cb9855444d90f": {
          "model_module": "@jupyter-widgets/controls",
          "model_module_version": "1.5.0",
          "model_name": "HTMLModel",
          "state": {
            "_dom_classes": [],
            "_model_module": "@jupyter-widgets/controls",
            "_model_module_version": "1.5.0",
            "_model_name": "HTMLModel",
            "_view_count": null,
            "_view_module": "@jupyter-widgets/controls",
            "_view_module_version": "1.5.0",
            "_view_name": "HTMLView",
            "description": "",
            "description_tooltip": null,
            "layout": "IPY_MODEL_16406e450b1c49a295139324b6a79164",
            "placeholder": "​",
            "style": "IPY_MODEL_5cf19534d11c446bb7a23bd4ec4212e3",
            "value": "vocab.json: 100%"
          }
        },
        "cd7efcb26b2145df95fc57b722acfef8": {
          "model_module": "@jupyter-widgets/base",
          "model_module_version": "1.2.0",
          "model_name": "LayoutModel",
          "state": {
            "_model_module": "@jupyter-widgets/base",
            "_model_module_version": "1.2.0",
            "_model_name": "LayoutModel",
            "_view_count": null,
            "_view_module": "@jupyter-widgets/base",
            "_view_module_version": "1.2.0",
            "_view_name": "LayoutView",
            "align_content": null,
            "align_items": null,
            "align_self": null,
            "border": null,
            "bottom": null,
            "display": null,
            "flex": null,
            "flex_flow": null,
            "grid_area": null,
            "grid_auto_columns": null,
            "grid_auto_flow": null,
            "grid_auto_rows": null,
            "grid_column": null,
            "grid_gap": null,
            "grid_row": null,
            "grid_template_areas": null,
            "grid_template_columns": null,
            "grid_template_rows": null,
            "height": null,
            "justify_content": null,
            "justify_items": null,
            "left": null,
            "margin": null,
            "max_height": null,
            "max_width": null,
            "min_height": null,
            "min_width": null,
            "object_fit": null,
            "object_position": null,
            "order": null,
            "overflow": null,
            "overflow_x": null,
            "overflow_y": null,
            "padding": null,
            "right": null,
            "top": null,
            "visibility": null,
            "width": null
          }
        },
        "cdba1d2b92f2403e97a3bf504098c7bf": {
          "model_module": "@jupyter-widgets/base",
          "model_module_version": "1.2.0",
          "model_name": "LayoutModel",
          "state": {
            "_model_module": "@jupyter-widgets/base",
            "_model_module_version": "1.2.0",
            "_model_name": "LayoutModel",
            "_view_count": null,
            "_view_module": "@jupyter-widgets/base",
            "_view_module_version": "1.2.0",
            "_view_name": "LayoutView",
            "align_content": null,
            "align_items": null,
            "align_self": null,
            "border": null,
            "bottom": null,
            "display": null,
            "flex": null,
            "flex_flow": null,
            "grid_area": null,
            "grid_auto_columns": null,
            "grid_auto_flow": null,
            "grid_auto_rows": null,
            "grid_column": null,
            "grid_gap": null,
            "grid_row": null,
            "grid_template_areas": null,
            "grid_template_columns": null,
            "grid_template_rows": null,
            "height": null,
            "justify_content": null,
            "justify_items": null,
            "left": null,
            "margin": null,
            "max_height": null,
            "max_width": null,
            "min_height": null,
            "min_width": null,
            "object_fit": null,
            "object_position": null,
            "order": null,
            "overflow": null,
            "overflow_x": null,
            "overflow_y": null,
            "padding": null,
            "right": null,
            "top": null,
            "visibility": null,
            "width": null
          }
        },
        "d1b98eec1a7b473a9c9940f6df841138": {
          "model_module": "@jupyter-widgets/base",
          "model_module_version": "1.2.0",
          "model_name": "LayoutModel",
          "state": {
            "_model_module": "@jupyter-widgets/base",
            "_model_module_version": "1.2.0",
            "_model_name": "LayoutModel",
            "_view_count": null,
            "_view_module": "@jupyter-widgets/base",
            "_view_module_version": "1.2.0",
            "_view_name": "LayoutView",
            "align_content": null,
            "align_items": null,
            "align_self": null,
            "border": null,
            "bottom": null,
            "display": null,
            "flex": null,
            "flex_flow": null,
            "grid_area": null,
            "grid_auto_columns": null,
            "grid_auto_flow": null,
            "grid_auto_rows": null,
            "grid_column": null,
            "grid_gap": null,
            "grid_row": null,
            "grid_template_areas": null,
            "grid_template_columns": null,
            "grid_template_rows": null,
            "height": null,
            "justify_content": null,
            "justify_items": null,
            "left": null,
            "margin": null,
            "max_height": null,
            "max_width": null,
            "min_height": null,
            "min_width": null,
            "object_fit": null,
            "object_position": null,
            "order": null,
            "overflow": null,
            "overflow_x": null,
            "overflow_y": null,
            "padding": null,
            "right": null,
            "top": null,
            "visibility": null,
            "width": null
          }
        },
        "d8706d4ed2df4afcb6cba7e278af2522": {
          "model_module": "@jupyter-widgets/base",
          "model_module_version": "1.2.0",
          "model_name": "LayoutModel",
          "state": {
            "_model_module": "@jupyter-widgets/base",
            "_model_module_version": "1.2.0",
            "_model_name": "LayoutModel",
            "_view_count": null,
            "_view_module": "@jupyter-widgets/base",
            "_view_module_version": "1.2.0",
            "_view_name": "LayoutView",
            "align_content": null,
            "align_items": null,
            "align_self": null,
            "border": null,
            "bottom": null,
            "display": null,
            "flex": null,
            "flex_flow": null,
            "grid_area": null,
            "grid_auto_columns": null,
            "grid_auto_flow": null,
            "grid_auto_rows": null,
            "grid_column": null,
            "grid_gap": null,
            "grid_row": null,
            "grid_template_areas": null,
            "grid_template_columns": null,
            "grid_template_rows": null,
            "height": null,
            "justify_content": null,
            "justify_items": null,
            "left": null,
            "margin": null,
            "max_height": null,
            "max_width": null,
            "min_height": null,
            "min_width": null,
            "object_fit": null,
            "object_position": null,
            "order": null,
            "overflow": null,
            "overflow_x": null,
            "overflow_y": null,
            "padding": null,
            "right": null,
            "top": null,
            "visibility": null,
            "width": null
          }
        },
        "ddbab6e2789c40a583e4b04ba04e2888": {
          "model_module": "@jupyter-widgets/controls",
          "model_module_version": "1.5.0",
          "model_name": "ProgressStyleModel",
          "state": {
            "_model_module": "@jupyter-widgets/controls",
            "_model_module_version": "1.5.0",
            "_model_name": "ProgressStyleModel",
            "_view_count": null,
            "_view_module": "@jupyter-widgets/base",
            "_view_module_version": "1.2.0",
            "_view_name": "StyleView",
            "bar_color": null,
            "description_width": ""
          }
        },
        "dde966e5588c461283631f875418e357": {
          "model_module": "@jupyter-widgets/controls",
          "model_module_version": "1.5.0",
          "model_name": "HTMLModel",
          "state": {
            "_dom_classes": [],
            "_model_module": "@jupyter-widgets/controls",
            "_model_module_version": "1.5.0",
            "_model_name": "HTMLModel",
            "_view_count": null,
            "_view_module": "@jupyter-widgets/controls",
            "_view_module_version": "1.5.0",
            "_view_name": "HTMLView",
            "description": "",
            "description_tooltip": null,
            "layout": "IPY_MODEL_8aeb08431f06445f80e8712e6eabb709",
            "placeholder": "​",
            "style": "IPY_MODEL_5518765656384e40a01e790366b9c034",
            "value": "Map: 100%"
          }
        },
        "df70ccf9cf7743568c9e585f850299e4": {
          "model_module": "@jupyter-widgets/base",
          "model_module_version": "1.2.0",
          "model_name": "LayoutModel",
          "state": {
            "_model_module": "@jupyter-widgets/base",
            "_model_module_version": "1.2.0",
            "_model_name": "LayoutModel",
            "_view_count": null,
            "_view_module": "@jupyter-widgets/base",
            "_view_module_version": "1.2.0",
            "_view_name": "LayoutView",
            "align_content": null,
            "align_items": null,
            "align_self": null,
            "border": null,
            "bottom": null,
            "display": null,
            "flex": null,
            "flex_flow": null,
            "grid_area": null,
            "grid_auto_columns": null,
            "grid_auto_flow": null,
            "grid_auto_rows": null,
            "grid_column": null,
            "grid_gap": null,
            "grid_row": null,
            "grid_template_areas": null,
            "grid_template_columns": null,
            "grid_template_rows": null,
            "height": null,
            "justify_content": null,
            "justify_items": null,
            "left": null,
            "margin": null,
            "max_height": null,
            "max_width": null,
            "min_height": null,
            "min_width": null,
            "object_fit": null,
            "object_position": null,
            "order": null,
            "overflow": null,
            "overflow_x": null,
            "overflow_y": null,
            "padding": null,
            "right": null,
            "top": null,
            "visibility": null,
            "width": null
          }
        },
        "e156ec62cbb547778e0c3caf1020c5f5": {
          "model_module": "@jupyter-widgets/controls",
          "model_module_version": "1.5.0",
          "model_name": "ProgressStyleModel",
          "state": {
            "_model_module": "@jupyter-widgets/controls",
            "_model_module_version": "1.5.0",
            "_model_name": "ProgressStyleModel",
            "_view_count": null,
            "_view_module": "@jupyter-widgets/base",
            "_view_module_version": "1.2.0",
            "_view_name": "StyleView",
            "bar_color": null,
            "description_width": ""
          }
        },
        "e6382edf788e44d190655c748ed323b6": {
          "model_module": "@jupyter-widgets/controls",
          "model_module_version": "1.5.0",
          "model_name": "ProgressStyleModel",
          "state": {
            "_model_module": "@jupyter-widgets/controls",
            "_model_module_version": "1.5.0",
            "_model_name": "ProgressStyleModel",
            "_view_count": null,
            "_view_module": "@jupyter-widgets/base",
            "_view_module_version": "1.2.0",
            "_view_name": "StyleView",
            "bar_color": null,
            "description_width": ""
          }
        },
        "ec794254c7584049a7c4dbe8283a6d42": {
          "model_module": "@jupyter-widgets/controls",
          "model_module_version": "1.5.0",
          "model_name": "DescriptionStyleModel",
          "state": {
            "_model_module": "@jupyter-widgets/controls",
            "_model_module_version": "1.5.0",
            "_model_name": "DescriptionStyleModel",
            "_view_count": null,
            "_view_module": "@jupyter-widgets/base",
            "_view_module_version": "1.2.0",
            "_view_name": "StyleView",
            "description_width": ""
          }
        },
        "eef5c76bbfd84be0bb17c3911c2a666e": {
          "model_module": "@jupyter-widgets/base",
          "model_module_version": "1.2.0",
          "model_name": "LayoutModel",
          "state": {
            "_model_module": "@jupyter-widgets/base",
            "_model_module_version": "1.2.0",
            "_model_name": "LayoutModel",
            "_view_count": null,
            "_view_module": "@jupyter-widgets/base",
            "_view_module_version": "1.2.0",
            "_view_name": "LayoutView",
            "align_content": null,
            "align_items": null,
            "align_self": null,
            "border": null,
            "bottom": null,
            "display": null,
            "flex": null,
            "flex_flow": null,
            "grid_area": null,
            "grid_auto_columns": null,
            "grid_auto_flow": null,
            "grid_auto_rows": null,
            "grid_column": null,
            "grid_gap": null,
            "grid_row": null,
            "grid_template_areas": null,
            "grid_template_columns": null,
            "grid_template_rows": null,
            "height": null,
            "justify_content": null,
            "justify_items": null,
            "left": null,
            "margin": null,
            "max_height": null,
            "max_width": null,
            "min_height": null,
            "min_width": null,
            "object_fit": null,
            "object_position": null,
            "order": null,
            "overflow": null,
            "overflow_x": null,
            "overflow_y": null,
            "padding": null,
            "right": null,
            "top": null,
            "visibility": null,
            "width": null
          }
        },
        "ef146c4757034f028b6f83880ce23c4e": {
          "model_module": "@jupyter-widgets/controls",
          "model_module_version": "1.5.0",
          "model_name": "HBoxModel",
          "state": {
            "_dom_classes": [],
            "_model_module": "@jupyter-widgets/controls",
            "_model_module_version": "1.5.0",
            "_model_name": "HBoxModel",
            "_view_count": null,
            "_view_module": "@jupyter-widgets/controls",
            "_view_module_version": "1.5.0",
            "_view_name": "HBoxView",
            "box_style": "",
            "children": [
              "IPY_MODEL_70e6407fbcf84982a85b0ec50d1f4916",
              "IPY_MODEL_78fcfe7fcf7d4737be5249ee187a0f47",
              "IPY_MODEL_878610a216a9430aa2f042cd4f18c9eb"
            ],
            "layout": "IPY_MODEL_4b1f0386c81742e18366819665f98d39"
          }
        },
        "f48c821703694a8a8f3c07cea24a3e1e": {
          "model_module": "@jupyter-widgets/controls",
          "model_module_version": "1.5.0",
          "model_name": "DescriptionStyleModel",
          "state": {
            "_model_module": "@jupyter-widgets/controls",
            "_model_module_version": "1.5.0",
            "_model_name": "DescriptionStyleModel",
            "_view_count": null,
            "_view_module": "@jupyter-widgets/base",
            "_view_module_version": "1.2.0",
            "_view_name": "StyleView",
            "description_width": ""
          }
        },
        "f53ff31c68264b0e975a280bb70165c4": {
          "model_module": "@jupyter-widgets/controls",
          "model_module_version": "1.5.0",
          "model_name": "HTMLModel",
          "state": {
            "_dom_classes": [],
            "_model_module": "@jupyter-widgets/controls",
            "_model_module_version": "1.5.0",
            "_model_name": "HTMLModel",
            "_view_count": null,
            "_view_module": "@jupyter-widgets/controls",
            "_view_module_version": "1.5.0",
            "_view_name": "HTMLView",
            "description": "",
            "description_tooltip": null,
            "layout": "IPY_MODEL_8b4ff0708d044a19976d52a27e4252d1",
            "placeholder": "​",
            "style": "IPY_MODEL_f93d21597e3348fd9af0306923afa23f",
            "value": " 1.36M/1.36M [00:00&lt;00:00, 1.61MB/s]"
          }
        },
        "f56ab3875e2b4da084ad6038d9889617": {
          "model_module": "@jupyter-widgets/controls",
          "model_module_version": "1.5.0",
          "model_name": "DescriptionStyleModel",
          "state": {
            "_model_module": "@jupyter-widgets/controls",
            "_model_module_version": "1.5.0",
            "_model_name": "DescriptionStyleModel",
            "_view_count": null,
            "_view_module": "@jupyter-widgets/base",
            "_view_module_version": "1.2.0",
            "_view_name": "StyleView",
            "description_width": ""
          }
        },
        "f6a90301ed0042b5aaf2ae68829953ac": {
          "model_module": "@jupyter-widgets/controls",
          "model_module_version": "1.5.0",
          "model_name": "DescriptionStyleModel",
          "state": {
            "_model_module": "@jupyter-widgets/controls",
            "_model_module_version": "1.5.0",
            "_model_name": "DescriptionStyleModel",
            "_view_count": null,
            "_view_module": "@jupyter-widgets/base",
            "_view_module_version": "1.2.0",
            "_view_name": "StyleView",
            "description_width": ""
          }
        },
        "f93d21597e3348fd9af0306923afa23f": {
          "model_module": "@jupyter-widgets/controls",
          "model_module_version": "1.5.0",
          "model_name": "DescriptionStyleModel",
          "state": {
            "_model_module": "@jupyter-widgets/controls",
            "_model_module_version": "1.5.0",
            "_model_name": "DescriptionStyleModel",
            "_view_count": null,
            "_view_module": "@jupyter-widgets/base",
            "_view_module_version": "1.2.0",
            "_view_name": "StyleView",
            "description_width": ""
          }
        },
        "fbc99387fbb74eb099b49c81bac4cb8b": {
          "model_module": "@jupyter-widgets/controls",
          "model_module_version": "1.5.0",
          "model_name": "HBoxModel",
          "state": {
            "_dom_classes": [],
            "_model_module": "@jupyter-widgets/controls",
            "_model_module_version": "1.5.0",
            "_model_name": "HBoxModel",
            "_view_count": null,
            "_view_module": "@jupyter-widgets/controls",
            "_view_module_version": "1.5.0",
            "_view_name": "HBoxView",
            "box_style": "",
            "children": [
              "IPY_MODEL_bb48fa90d65f4ed88efa0989552b3526",
              "IPY_MODEL_52946448dcd44b27af24697a463fe0db",
              "IPY_MODEL_46b5f6ca95d54f39b0a33d2f2f7843d2"
            ],
            "layout": "IPY_MODEL_2f2fbe8e67894c4a8d639c0b4531c45a"
          }
        },
        "fe9971cd907346bfa84f952046343dcd": {
          "model_module": "@jupyter-widgets/controls",
          "model_module_version": "1.5.0",
          "model_name": "DescriptionStyleModel",
          "state": {
            "_model_module": "@jupyter-widgets/controls",
            "_model_module_version": "1.5.0",
            "_model_name": "DescriptionStyleModel",
            "_view_count": null,
            "_view_module": "@jupyter-widgets/base",
            "_view_module_version": "1.2.0",
            "_view_name": "StyleView",
            "description_width": ""
          }
        },
        "fe9e9868961c4a6eb1d55762d472ecdf": {
          "model_module": "@jupyter-widgets/base",
          "model_module_version": "1.2.0",
          "model_name": "LayoutModel",
          "state": {
            "_model_module": "@jupyter-widgets/base",
            "_model_module_version": "1.2.0",
            "_model_name": "LayoutModel",
            "_view_count": null,
            "_view_module": "@jupyter-widgets/base",
            "_view_module_version": "1.2.0",
            "_view_name": "LayoutView",
            "align_content": null,
            "align_items": null,
            "align_self": null,
            "border": null,
            "bottom": null,
            "display": null,
            "flex": null,
            "flex_flow": null,
            "grid_area": null,
            "grid_auto_columns": null,
            "grid_auto_flow": null,
            "grid_auto_rows": null,
            "grid_column": null,
            "grid_gap": null,
            "grid_row": null,
            "grid_template_areas": null,
            "grid_template_columns": null,
            "grid_template_rows": null,
            "height": null,
            "justify_content": null,
            "justify_items": null,
            "left": null,
            "margin": null,
            "max_height": null,
            "max_width": null,
            "min_height": null,
            "min_width": null,
            "object_fit": null,
            "object_position": null,
            "order": null,
            "overflow": null,
            "overflow_x": null,
            "overflow_y": null,
            "padding": null,
            "right": null,
            "top": null,
            "visibility": null,
            "width": null
          }
        },
        "fea48962b66d40e2bca859b86a82c58c": {
          "model_module": "@jupyter-widgets/base",
          "model_module_version": "1.2.0",
          "model_name": "LayoutModel",
          "state": {
            "_model_module": "@jupyter-widgets/base",
            "_model_module_version": "1.2.0",
            "_model_name": "LayoutModel",
            "_view_count": null,
            "_view_module": "@jupyter-widgets/base",
            "_view_module_version": "1.2.0",
            "_view_name": "LayoutView",
            "align_content": null,
            "align_items": null,
            "align_self": null,
            "border": null,
            "bottom": null,
            "display": null,
            "flex": null,
            "flex_flow": null,
            "grid_area": null,
            "grid_auto_columns": null,
            "grid_auto_flow": null,
            "grid_auto_rows": null,
            "grid_column": null,
            "grid_gap": null,
            "grid_row": null,
            "grid_template_areas": null,
            "grid_template_columns": null,
            "grid_template_rows": null,
            "height": null,
            "justify_content": null,
            "justify_items": null,
            "left": null,
            "margin": null,
            "max_height": null,
            "max_width": null,
            "min_height": null,
            "min_width": null,
            "object_fit": null,
            "object_position": null,
            "order": null,
            "overflow": null,
            "overflow_x": null,
            "overflow_y": null,
            "padding": null,
            "right": null,
            "top": null,
            "visibility": null,
            "width": null
          }
        },
        "493954f0602e4bd3a5c7aa75121206bc": {
          "model_module": "@jupyter-widgets/controls",
          "model_name": "HBoxModel",
          "model_module_version": "1.5.0",
          "state": {
            "_dom_classes": [],
            "_model_module": "@jupyter-widgets/controls",
            "_model_module_version": "1.5.0",
            "_model_name": "HBoxModel",
            "_view_count": null,
            "_view_module": "@jupyter-widgets/controls",
            "_view_module_version": "1.5.0",
            "_view_name": "HBoxView",
            "box_style": "",
            "children": [
              "IPY_MODEL_15f2a05722ba4283a11a2a3174aae4f9",
              "IPY_MODEL_39b69f0df2454d1bb52c62aa9cc9f2b8",
              "IPY_MODEL_38be91daeb7646f693a5773b6e76f120"
            ],
            "layout": "IPY_MODEL_de1fd7d0172e4605a063dd7b12e4cc45"
          }
        },
        "15f2a05722ba4283a11a2a3174aae4f9": {
          "model_module": "@jupyter-widgets/controls",
          "model_name": "HTMLModel",
          "model_module_version": "1.5.0",
          "state": {
            "_dom_classes": [],
            "_model_module": "@jupyter-widgets/controls",
            "_model_module_version": "1.5.0",
            "_model_name": "HTMLModel",
            "_view_count": null,
            "_view_module": "@jupyter-widgets/controls",
            "_view_module_version": "1.5.0",
            "_view_name": "HTMLView",
            "description": "",
            "description_tooltip": null,
            "layout": "IPY_MODEL_4792483944b44e0ab7a83800049b4240",
            "placeholder": "​",
            "style": "IPY_MODEL_df58e1f8b49d4ba79f199170ad71ad61",
            "value": "Filter: 100%"
          }
        },
        "39b69f0df2454d1bb52c62aa9cc9f2b8": {
          "model_module": "@jupyter-widgets/controls",
          "model_name": "FloatProgressModel",
          "model_module_version": "1.5.0",
          "state": {
            "_dom_classes": [],
            "_model_module": "@jupyter-widgets/controls",
            "_model_module_version": "1.5.0",
            "_model_name": "FloatProgressModel",
            "_view_count": null,
            "_view_module": "@jupyter-widgets/controls",
            "_view_module_version": "1.5.0",
            "_view_name": "ProgressView",
            "bar_style": "success",
            "description": "",
            "description_tooltip": null,
            "layout": "IPY_MODEL_859967fd5dfe445ea4d2cff5a4a1b73e",
            "max": 128000,
            "min": 0,
            "orientation": "horizontal",
            "style": "IPY_MODEL_3a20b940ca5a455883b27933dd313e67",
            "value": 128000
          }
        },
        "38be91daeb7646f693a5773b6e76f120": {
          "model_module": "@jupyter-widgets/controls",
          "model_name": "HTMLModel",
          "model_module_version": "1.5.0",
          "state": {
            "_dom_classes": [],
            "_model_module": "@jupyter-widgets/controls",
            "_model_module_version": "1.5.0",
            "_model_name": "HTMLModel",
            "_view_count": null,
            "_view_module": "@jupyter-widgets/controls",
            "_view_module_version": "1.5.0",
            "_view_name": "HTMLView",
            "description": "",
            "description_tooltip": null,
            "layout": "IPY_MODEL_12815955627d4af18b236a573e1c99bc",
            "placeholder": "​",
            "style": "IPY_MODEL_5aa7a14da3aa40fd8b4d6961298d7c47",
            "value": " 128000/128000 [00:01&lt;00:00, 109039.85 examples/s]"
          }
        },
        "de1fd7d0172e4605a063dd7b12e4cc45": {
          "model_module": "@jupyter-widgets/base",
          "model_name": "LayoutModel",
          "model_module_version": "1.2.0",
          "state": {
            "_model_module": "@jupyter-widgets/base",
            "_model_module_version": "1.2.0",
            "_model_name": "LayoutModel",
            "_view_count": null,
            "_view_module": "@jupyter-widgets/base",
            "_view_module_version": "1.2.0",
            "_view_name": "LayoutView",
            "align_content": null,
            "align_items": null,
            "align_self": null,
            "border": null,
            "bottom": null,
            "display": null,
            "flex": null,
            "flex_flow": null,
            "grid_area": null,
            "grid_auto_columns": null,
            "grid_auto_flow": null,
            "grid_auto_rows": null,
            "grid_column": null,
            "grid_gap": null,
            "grid_row": null,
            "grid_template_areas": null,
            "grid_template_columns": null,
            "grid_template_rows": null,
            "height": null,
            "justify_content": null,
            "justify_items": null,
            "left": null,
            "margin": null,
            "max_height": null,
            "max_width": null,
            "min_height": null,
            "min_width": null,
            "object_fit": null,
            "object_position": null,
            "order": null,
            "overflow": null,
            "overflow_x": null,
            "overflow_y": null,
            "padding": null,
            "right": null,
            "top": null,
            "visibility": null,
            "width": null
          }
        },
        "4792483944b44e0ab7a83800049b4240": {
          "model_module": "@jupyter-widgets/base",
          "model_name": "LayoutModel",
          "model_module_version": "1.2.0",
          "state": {
            "_model_module": "@jupyter-widgets/base",
            "_model_module_version": "1.2.0",
            "_model_name": "LayoutModel",
            "_view_count": null,
            "_view_module": "@jupyter-widgets/base",
            "_view_module_version": "1.2.0",
            "_view_name": "LayoutView",
            "align_content": null,
            "align_items": null,
            "align_self": null,
            "border": null,
            "bottom": null,
            "display": null,
            "flex": null,
            "flex_flow": null,
            "grid_area": null,
            "grid_auto_columns": null,
            "grid_auto_flow": null,
            "grid_auto_rows": null,
            "grid_column": null,
            "grid_gap": null,
            "grid_row": null,
            "grid_template_areas": null,
            "grid_template_columns": null,
            "grid_template_rows": null,
            "height": null,
            "justify_content": null,
            "justify_items": null,
            "left": null,
            "margin": null,
            "max_height": null,
            "max_width": null,
            "min_height": null,
            "min_width": null,
            "object_fit": null,
            "object_position": null,
            "order": null,
            "overflow": null,
            "overflow_x": null,
            "overflow_y": null,
            "padding": null,
            "right": null,
            "top": null,
            "visibility": null,
            "width": null
          }
        },
        "df58e1f8b49d4ba79f199170ad71ad61": {
          "model_module": "@jupyter-widgets/controls",
          "model_name": "DescriptionStyleModel",
          "model_module_version": "1.5.0",
          "state": {
            "_model_module": "@jupyter-widgets/controls",
            "_model_module_version": "1.5.0",
            "_model_name": "DescriptionStyleModel",
            "_view_count": null,
            "_view_module": "@jupyter-widgets/base",
            "_view_module_version": "1.2.0",
            "_view_name": "StyleView",
            "description_width": ""
          }
        },
        "859967fd5dfe445ea4d2cff5a4a1b73e": {
          "model_module": "@jupyter-widgets/base",
          "model_name": "LayoutModel",
          "model_module_version": "1.2.0",
          "state": {
            "_model_module": "@jupyter-widgets/base",
            "_model_module_version": "1.2.0",
            "_model_name": "LayoutModel",
            "_view_count": null,
            "_view_module": "@jupyter-widgets/base",
            "_view_module_version": "1.2.0",
            "_view_name": "LayoutView",
            "align_content": null,
            "align_items": null,
            "align_self": null,
            "border": null,
            "bottom": null,
            "display": null,
            "flex": null,
            "flex_flow": null,
            "grid_area": null,
            "grid_auto_columns": null,
            "grid_auto_flow": null,
            "grid_auto_rows": null,
            "grid_column": null,
            "grid_gap": null,
            "grid_row": null,
            "grid_template_areas": null,
            "grid_template_columns": null,
            "grid_template_rows": null,
            "height": null,
            "justify_content": null,
            "justify_items": null,
            "left": null,
            "margin": null,
            "max_height": null,
            "max_width": null,
            "min_height": null,
            "min_width": null,
            "object_fit": null,
            "object_position": null,
            "order": null,
            "overflow": null,
            "overflow_x": null,
            "overflow_y": null,
            "padding": null,
            "right": null,
            "top": null,
            "visibility": null,
            "width": null
          }
        },
        "3a20b940ca5a455883b27933dd313e67": {
          "model_module": "@jupyter-widgets/controls",
          "model_name": "ProgressStyleModel",
          "model_module_version": "1.5.0",
          "state": {
            "_model_module": "@jupyter-widgets/controls",
            "_model_module_version": "1.5.0",
            "_model_name": "ProgressStyleModel",
            "_view_count": null,
            "_view_module": "@jupyter-widgets/base",
            "_view_module_version": "1.2.0",
            "_view_name": "StyleView",
            "bar_color": null,
            "description_width": ""
          }
        },
        "12815955627d4af18b236a573e1c99bc": {
          "model_module": "@jupyter-widgets/base",
          "model_name": "LayoutModel",
          "model_module_version": "1.2.0",
          "state": {
            "_model_module": "@jupyter-widgets/base",
            "_model_module_version": "1.2.0",
            "_model_name": "LayoutModel",
            "_view_count": null,
            "_view_module": "@jupyter-widgets/base",
            "_view_module_version": "1.2.0",
            "_view_name": "LayoutView",
            "align_content": null,
            "align_items": null,
            "align_self": null,
            "border": null,
            "bottom": null,
            "display": null,
            "flex": null,
            "flex_flow": null,
            "grid_area": null,
            "grid_auto_columns": null,
            "grid_auto_flow": null,
            "grid_auto_rows": null,
            "grid_column": null,
            "grid_gap": null,
            "grid_row": null,
            "grid_template_areas": null,
            "grid_template_columns": null,
            "grid_template_rows": null,
            "height": null,
            "justify_content": null,
            "justify_items": null,
            "left": null,
            "margin": null,
            "max_height": null,
            "max_width": null,
            "min_height": null,
            "min_width": null,
            "object_fit": null,
            "object_position": null,
            "order": null,
            "overflow": null,
            "overflow_x": null,
            "overflow_y": null,
            "padding": null,
            "right": null,
            "top": null,
            "visibility": null,
            "width": null
          }
        },
        "5aa7a14da3aa40fd8b4d6961298d7c47": {
          "model_module": "@jupyter-widgets/controls",
          "model_name": "DescriptionStyleModel",
          "model_module_version": "1.5.0",
          "state": {
            "_model_module": "@jupyter-widgets/controls",
            "_model_module_version": "1.5.0",
            "_model_name": "DescriptionStyleModel",
            "_view_count": null,
            "_view_module": "@jupyter-widgets/base",
            "_view_module_version": "1.2.0",
            "_view_name": "StyleView",
            "description_width": ""
          }
        },
        "408421bf2ea94824adb7cca7cfda9799": {
          "model_module": "@jupyter-widgets/controls",
          "model_name": "HBoxModel",
          "model_module_version": "1.5.0",
          "state": {
            "_dom_classes": [],
            "_model_module": "@jupyter-widgets/controls",
            "_model_module_version": "1.5.0",
            "_model_name": "HBoxModel",
            "_view_count": null,
            "_view_module": "@jupyter-widgets/controls",
            "_view_module_version": "1.5.0",
            "_view_name": "HBoxView",
            "box_style": "",
            "children": [
              "IPY_MODEL_1428f68bf67f4ffb86d6879334805a84",
              "IPY_MODEL_e64b518a6b224c869269edcad55efe74",
              "IPY_MODEL_96ab2eca3d0b4c7cb48509cf5683a667"
            ],
            "layout": "IPY_MODEL_e04b5527d0804daebd3e3be266287372"
          }
        },
        "1428f68bf67f4ffb86d6879334805a84": {
          "model_module": "@jupyter-widgets/controls",
          "model_name": "HTMLModel",
          "model_module_version": "1.5.0",
          "state": {
            "_dom_classes": [],
            "_model_module": "@jupyter-widgets/controls",
            "_model_module_version": "1.5.0",
            "_model_name": "HTMLModel",
            "_view_count": null,
            "_view_module": "@jupyter-widgets/controls",
            "_view_module_version": "1.5.0",
            "_view_name": "HTMLView",
            "description": "",
            "description_tooltip": null,
            "layout": "IPY_MODEL_5880993ce9fd41e2b6d04f2f7017ce04",
            "placeholder": "​",
            "style": "IPY_MODEL_8fd6cb4cc5474442b37548be3e4f7378",
            "value": "Filter: 100%"
          }
        },
        "e64b518a6b224c869269edcad55efe74": {
          "model_module": "@jupyter-widgets/controls",
          "model_name": "FloatProgressModel",
          "model_module_version": "1.5.0",
          "state": {
            "_dom_classes": [],
            "_model_module": "@jupyter-widgets/controls",
            "_model_module_version": "1.5.0",
            "_model_name": "FloatProgressModel",
            "_view_count": null,
            "_view_module": "@jupyter-widgets/controls",
            "_view_module_version": "1.5.0",
            "_view_name": "ProgressView",
            "bar_style": "success",
            "description": "",
            "description_tooltip": null,
            "layout": "IPY_MODEL_a74f247e522d438b8eac6f3f1309376d",
            "max": 128000,
            "min": 0,
            "orientation": "horizontal",
            "style": "IPY_MODEL_394fac202ad3439aad931850260265fc",
            "value": 128000
          }
        },
        "96ab2eca3d0b4c7cb48509cf5683a667": {
          "model_module": "@jupyter-widgets/controls",
          "model_name": "HTMLModel",
          "model_module_version": "1.5.0",
          "state": {
            "_dom_classes": [],
            "_model_module": "@jupyter-widgets/controls",
            "_model_module_version": "1.5.0",
            "_model_name": "HTMLModel",
            "_view_count": null,
            "_view_module": "@jupyter-widgets/controls",
            "_view_module_version": "1.5.0",
            "_view_name": "HTMLView",
            "description": "",
            "description_tooltip": null,
            "layout": "IPY_MODEL_a3aeb33564334bd5aaa0d8dd5824f2e0",
            "placeholder": "​",
            "style": "IPY_MODEL_ac53244e282f4a57b20f4886669d2683",
            "value": " 128000/128000 [00:01&lt;00:00, 107253.37 examples/s]"
          }
        },
        "e04b5527d0804daebd3e3be266287372": {
          "model_module": "@jupyter-widgets/base",
          "model_name": "LayoutModel",
          "model_module_version": "1.2.0",
          "state": {
            "_model_module": "@jupyter-widgets/base",
            "_model_module_version": "1.2.0",
            "_model_name": "LayoutModel",
            "_view_count": null,
            "_view_module": "@jupyter-widgets/base",
            "_view_module_version": "1.2.0",
            "_view_name": "LayoutView",
            "align_content": null,
            "align_items": null,
            "align_self": null,
            "border": null,
            "bottom": null,
            "display": null,
            "flex": null,
            "flex_flow": null,
            "grid_area": null,
            "grid_auto_columns": null,
            "grid_auto_flow": null,
            "grid_auto_rows": null,
            "grid_column": null,
            "grid_gap": null,
            "grid_row": null,
            "grid_template_areas": null,
            "grid_template_columns": null,
            "grid_template_rows": null,
            "height": null,
            "justify_content": null,
            "justify_items": null,
            "left": null,
            "margin": null,
            "max_height": null,
            "max_width": null,
            "min_height": null,
            "min_width": null,
            "object_fit": null,
            "object_position": null,
            "order": null,
            "overflow": null,
            "overflow_x": null,
            "overflow_y": null,
            "padding": null,
            "right": null,
            "top": null,
            "visibility": null,
            "width": null
          }
        },
        "5880993ce9fd41e2b6d04f2f7017ce04": {
          "model_module": "@jupyter-widgets/base",
          "model_name": "LayoutModel",
          "model_module_version": "1.2.0",
          "state": {
            "_model_module": "@jupyter-widgets/base",
            "_model_module_version": "1.2.0",
            "_model_name": "LayoutModel",
            "_view_count": null,
            "_view_module": "@jupyter-widgets/base",
            "_view_module_version": "1.2.0",
            "_view_name": "LayoutView",
            "align_content": null,
            "align_items": null,
            "align_self": null,
            "border": null,
            "bottom": null,
            "display": null,
            "flex": null,
            "flex_flow": null,
            "grid_area": null,
            "grid_auto_columns": null,
            "grid_auto_flow": null,
            "grid_auto_rows": null,
            "grid_column": null,
            "grid_gap": null,
            "grid_row": null,
            "grid_template_areas": null,
            "grid_template_columns": null,
            "grid_template_rows": null,
            "height": null,
            "justify_content": null,
            "justify_items": null,
            "left": null,
            "margin": null,
            "max_height": null,
            "max_width": null,
            "min_height": null,
            "min_width": null,
            "object_fit": null,
            "object_position": null,
            "order": null,
            "overflow": null,
            "overflow_x": null,
            "overflow_y": null,
            "padding": null,
            "right": null,
            "top": null,
            "visibility": null,
            "width": null
          }
        },
        "8fd6cb4cc5474442b37548be3e4f7378": {
          "model_module": "@jupyter-widgets/controls",
          "model_name": "DescriptionStyleModel",
          "model_module_version": "1.5.0",
          "state": {
            "_model_module": "@jupyter-widgets/controls",
            "_model_module_version": "1.5.0",
            "_model_name": "DescriptionStyleModel",
            "_view_count": null,
            "_view_module": "@jupyter-widgets/base",
            "_view_module_version": "1.2.0",
            "_view_name": "StyleView",
            "description_width": ""
          }
        },
        "a74f247e522d438b8eac6f3f1309376d": {
          "model_module": "@jupyter-widgets/base",
          "model_name": "LayoutModel",
          "model_module_version": "1.2.0",
          "state": {
            "_model_module": "@jupyter-widgets/base",
            "_model_module_version": "1.2.0",
            "_model_name": "LayoutModel",
            "_view_count": null,
            "_view_module": "@jupyter-widgets/base",
            "_view_module_version": "1.2.0",
            "_view_name": "LayoutView",
            "align_content": null,
            "align_items": null,
            "align_self": null,
            "border": null,
            "bottom": null,
            "display": null,
            "flex": null,
            "flex_flow": null,
            "grid_area": null,
            "grid_auto_columns": null,
            "grid_auto_flow": null,
            "grid_auto_rows": null,
            "grid_column": null,
            "grid_gap": null,
            "grid_row": null,
            "grid_template_areas": null,
            "grid_template_columns": null,
            "grid_template_rows": null,
            "height": null,
            "justify_content": null,
            "justify_items": null,
            "left": null,
            "margin": null,
            "max_height": null,
            "max_width": null,
            "min_height": null,
            "min_width": null,
            "object_fit": null,
            "object_position": null,
            "order": null,
            "overflow": null,
            "overflow_x": null,
            "overflow_y": null,
            "padding": null,
            "right": null,
            "top": null,
            "visibility": null,
            "width": null
          }
        },
        "394fac202ad3439aad931850260265fc": {
          "model_module": "@jupyter-widgets/controls",
          "model_name": "ProgressStyleModel",
          "model_module_version": "1.5.0",
          "state": {
            "_model_module": "@jupyter-widgets/controls",
            "_model_module_version": "1.5.0",
            "_model_name": "ProgressStyleModel",
            "_view_count": null,
            "_view_module": "@jupyter-widgets/base",
            "_view_module_version": "1.2.0",
            "_view_name": "StyleView",
            "bar_color": null,
            "description_width": ""
          }
        },
        "a3aeb33564334bd5aaa0d8dd5824f2e0": {
          "model_module": "@jupyter-widgets/base",
          "model_name": "LayoutModel",
          "model_module_version": "1.2.0",
          "state": {
            "_model_module": "@jupyter-widgets/base",
            "_model_module_version": "1.2.0",
            "_model_name": "LayoutModel",
            "_view_count": null,
            "_view_module": "@jupyter-widgets/base",
            "_view_module_version": "1.2.0",
            "_view_name": "LayoutView",
            "align_content": null,
            "align_items": null,
            "align_self": null,
            "border": null,
            "bottom": null,
            "display": null,
            "flex": null,
            "flex_flow": null,
            "grid_area": null,
            "grid_auto_columns": null,
            "grid_auto_flow": null,
            "grid_auto_rows": null,
            "grid_column": null,
            "grid_gap": null,
            "grid_row": null,
            "grid_template_areas": null,
            "grid_template_columns": null,
            "grid_template_rows": null,
            "height": null,
            "justify_content": null,
            "justify_items": null,
            "left": null,
            "margin": null,
            "max_height": null,
            "max_width": null,
            "min_height": null,
            "min_width": null,
            "object_fit": null,
            "object_position": null,
            "order": null,
            "overflow": null,
            "overflow_x": null,
            "overflow_y": null,
            "padding": null,
            "right": null,
            "top": null,
            "visibility": null,
            "width": null
          }
        },
        "ac53244e282f4a57b20f4886669d2683": {
          "model_module": "@jupyter-widgets/controls",
          "model_name": "DescriptionStyleModel",
          "model_module_version": "1.5.0",
          "state": {
            "_model_module": "@jupyter-widgets/controls",
            "_model_module_version": "1.5.0",
            "_model_name": "DescriptionStyleModel",
            "_view_count": null,
            "_view_module": "@jupyter-widgets/base",
            "_view_module_version": "1.2.0",
            "_view_name": "StyleView",
            "description_width": ""
          }
        },
        "54ab0747c1ac49b0854fd2e76c5fb365": {
          "model_module": "@jupyter-widgets/controls",
          "model_name": "HBoxModel",
          "model_module_version": "1.5.0",
          "state": {
            "_dom_classes": [],
            "_model_module": "@jupyter-widgets/controls",
            "_model_module_version": "1.5.0",
            "_model_name": "HBoxModel",
            "_view_count": null,
            "_view_module": "@jupyter-widgets/controls",
            "_view_module_version": "1.5.0",
            "_view_name": "HBoxView",
            "box_style": "",
            "children": [
              "IPY_MODEL_14bca705b8334f0fbe065cf360d5a884",
              "IPY_MODEL_e664178ead3d4345a03e2f9d40ba4ee6",
              "IPY_MODEL_f87d9a2bd1dc456796022d8e3dbbdd30"
            ],
            "layout": "IPY_MODEL_047a65b5e5d34f1aad9117f58f201697"
          }
        },
        "14bca705b8334f0fbe065cf360d5a884": {
          "model_module": "@jupyter-widgets/controls",
          "model_name": "HTMLModel",
          "model_module_version": "1.5.0",
          "state": {
            "_dom_classes": [],
            "_model_module": "@jupyter-widgets/controls",
            "_model_module_version": "1.5.0",
            "_model_name": "HTMLModel",
            "_view_count": null,
            "_view_module": "@jupyter-widgets/controls",
            "_view_module_version": "1.5.0",
            "_view_name": "HTMLView",
            "description": "",
            "description_tooltip": null,
            "layout": "IPY_MODEL_0d40803f72bb4d3d83618b4c2013f54f",
            "placeholder": "​",
            "style": "IPY_MODEL_ee0beba26d2c410db36e113c27cb9cca",
            "value": ""
          }
        },
        "e664178ead3d4345a03e2f9d40ba4ee6": {
          "model_module": "@jupyter-widgets/controls",
          "model_name": "FloatProgressModel",
          "model_module_version": "1.5.0",
          "state": {
            "_dom_classes": [],
            "_model_module": "@jupyter-widgets/controls",
            "_model_module_version": "1.5.0",
            "_model_name": "FloatProgressModel",
            "_view_count": null,
            "_view_module": "@jupyter-widgets/controls",
            "_view_module_version": "1.5.0",
            "_view_name": "ProgressView",
            "bar_style": "success",
            "description": "",
            "description_tooltip": null,
            "layout": "IPY_MODEL_9266e41c5753497e80a564a25491eaa6",
            "max": 1,
            "min": 0,
            "orientation": "horizontal",
            "style": "IPY_MODEL_029c83058103436badfa6bb5e54d6f80",
            "value": 0
          }
        },
        "f87d9a2bd1dc456796022d8e3dbbdd30": {
          "model_module": "@jupyter-widgets/controls",
          "model_name": "HTMLModel",
          "model_module_version": "1.5.0",
          "state": {
            "_dom_classes": [],
            "_model_module": "@jupyter-widgets/controls",
            "_model_module_version": "1.5.0",
            "_model_name": "HTMLModel",
            "_view_count": null,
            "_view_module": "@jupyter-widgets/controls",
            "_view_module_version": "1.5.0",
            "_view_name": "HTMLView",
            "description": "",
            "description_tooltip": null,
            "layout": "IPY_MODEL_35258f137ffd461a8166a08bed8f53b7",
            "placeholder": "​",
            "style": "IPY_MODEL_8acfd1d68c7f4b02ae7cbbd3080febf6",
            "value": " 0/0 [00:00&lt;?, ?it/s]"
          }
        },
        "047a65b5e5d34f1aad9117f58f201697": {
          "model_module": "@jupyter-widgets/base",
          "model_name": "LayoutModel",
          "model_module_version": "1.2.0",
          "state": {
            "_model_module": "@jupyter-widgets/base",
            "_model_module_version": "1.2.0",
            "_model_name": "LayoutModel",
            "_view_count": null,
            "_view_module": "@jupyter-widgets/base",
            "_view_module_version": "1.2.0",
            "_view_name": "LayoutView",
            "align_content": null,
            "align_items": null,
            "align_self": null,
            "border": null,
            "bottom": null,
            "display": null,
            "flex": null,
            "flex_flow": null,
            "grid_area": null,
            "grid_auto_columns": null,
            "grid_auto_flow": null,
            "grid_auto_rows": null,
            "grid_column": null,
            "grid_gap": null,
            "grid_row": null,
            "grid_template_areas": null,
            "grid_template_columns": null,
            "grid_template_rows": null,
            "height": null,
            "justify_content": null,
            "justify_items": null,
            "left": null,
            "margin": null,
            "max_height": null,
            "max_width": null,
            "min_height": null,
            "min_width": null,
            "object_fit": null,
            "object_position": null,
            "order": null,
            "overflow": null,
            "overflow_x": null,
            "overflow_y": null,
            "padding": null,
            "right": null,
            "top": null,
            "visibility": null,
            "width": null
          }
        },
        "0d40803f72bb4d3d83618b4c2013f54f": {
          "model_module": "@jupyter-widgets/base",
          "model_name": "LayoutModel",
          "model_module_version": "1.2.0",
          "state": {
            "_model_module": "@jupyter-widgets/base",
            "_model_module_version": "1.2.0",
            "_model_name": "LayoutModel",
            "_view_count": null,
            "_view_module": "@jupyter-widgets/base",
            "_view_module_version": "1.2.0",
            "_view_name": "LayoutView",
            "align_content": null,
            "align_items": null,
            "align_self": null,
            "border": null,
            "bottom": null,
            "display": null,
            "flex": null,
            "flex_flow": null,
            "grid_area": null,
            "grid_auto_columns": null,
            "grid_auto_flow": null,
            "grid_auto_rows": null,
            "grid_column": null,
            "grid_gap": null,
            "grid_row": null,
            "grid_template_areas": null,
            "grid_template_columns": null,
            "grid_template_rows": null,
            "height": null,
            "justify_content": null,
            "justify_items": null,
            "left": null,
            "margin": null,
            "max_height": null,
            "max_width": null,
            "min_height": null,
            "min_width": null,
            "object_fit": null,
            "object_position": null,
            "order": null,
            "overflow": null,
            "overflow_x": null,
            "overflow_y": null,
            "padding": null,
            "right": null,
            "top": null,
            "visibility": null,
            "width": null
          }
        },
        "ee0beba26d2c410db36e113c27cb9cca": {
          "model_module": "@jupyter-widgets/controls",
          "model_name": "DescriptionStyleModel",
          "model_module_version": "1.5.0",
          "state": {
            "_model_module": "@jupyter-widgets/controls",
            "_model_module_version": "1.5.0",
            "_model_name": "DescriptionStyleModel",
            "_view_count": null,
            "_view_module": "@jupyter-widgets/base",
            "_view_module_version": "1.2.0",
            "_view_name": "StyleView",
            "description_width": ""
          }
        },
        "9266e41c5753497e80a564a25491eaa6": {
          "model_module": "@jupyter-widgets/base",
          "model_name": "LayoutModel",
          "model_module_version": "1.2.0",
          "state": {
            "_model_module": "@jupyter-widgets/base",
            "_model_module_version": "1.2.0",
            "_model_name": "LayoutModel",
            "_view_count": null,
            "_view_module": "@jupyter-widgets/base",
            "_view_module_version": "1.2.0",
            "_view_name": "LayoutView",
            "align_content": null,
            "align_items": null,
            "align_self": null,
            "border": null,
            "bottom": null,
            "display": null,
            "flex": null,
            "flex_flow": null,
            "grid_area": null,
            "grid_auto_columns": null,
            "grid_auto_flow": null,
            "grid_auto_rows": null,
            "grid_column": null,
            "grid_gap": null,
            "grid_row": null,
            "grid_template_areas": null,
            "grid_template_columns": null,
            "grid_template_rows": null,
            "height": null,
            "justify_content": null,
            "justify_items": null,
            "left": null,
            "margin": null,
            "max_height": null,
            "max_width": null,
            "min_height": null,
            "min_width": null,
            "object_fit": null,
            "object_position": null,
            "order": null,
            "overflow": null,
            "overflow_x": null,
            "overflow_y": null,
            "padding": null,
            "right": null,
            "top": null,
            "visibility": null,
            "width": "20px"
          }
        },
        "029c83058103436badfa6bb5e54d6f80": {
          "model_module": "@jupyter-widgets/controls",
          "model_name": "ProgressStyleModel",
          "model_module_version": "1.5.0",
          "state": {
            "_model_module": "@jupyter-widgets/controls",
            "_model_module_version": "1.5.0",
            "_model_name": "ProgressStyleModel",
            "_view_count": null,
            "_view_module": "@jupyter-widgets/base",
            "_view_module_version": "1.2.0",
            "_view_name": "StyleView",
            "bar_color": null,
            "description_width": ""
          }
        },
        "35258f137ffd461a8166a08bed8f53b7": {
          "model_module": "@jupyter-widgets/base",
          "model_name": "LayoutModel",
          "model_module_version": "1.2.0",
          "state": {
            "_model_module": "@jupyter-widgets/base",
            "_model_module_version": "1.2.0",
            "_model_name": "LayoutModel",
            "_view_count": null,
            "_view_module": "@jupyter-widgets/base",
            "_view_module_version": "1.2.0",
            "_view_name": "LayoutView",
            "align_content": null,
            "align_items": null,
            "align_self": null,
            "border": null,
            "bottom": null,
            "display": null,
            "flex": null,
            "flex_flow": null,
            "grid_area": null,
            "grid_auto_columns": null,
            "grid_auto_flow": null,
            "grid_auto_rows": null,
            "grid_column": null,
            "grid_gap": null,
            "grid_row": null,
            "grid_template_areas": null,
            "grid_template_columns": null,
            "grid_template_rows": null,
            "height": null,
            "justify_content": null,
            "justify_items": null,
            "left": null,
            "margin": null,
            "max_height": null,
            "max_width": null,
            "min_height": null,
            "min_width": null,
            "object_fit": null,
            "object_position": null,
            "order": null,
            "overflow": null,
            "overflow_x": null,
            "overflow_y": null,
            "padding": null,
            "right": null,
            "top": null,
            "visibility": null,
            "width": null
          }
        },
        "8acfd1d68c7f4b02ae7cbbd3080febf6": {
          "model_module": "@jupyter-widgets/controls",
          "model_name": "DescriptionStyleModel",
          "model_module_version": "1.5.0",
          "state": {
            "_model_module": "@jupyter-widgets/controls",
            "_model_module_version": "1.5.0",
            "_model_name": "DescriptionStyleModel",
            "_view_count": null,
            "_view_module": "@jupyter-widgets/base",
            "_view_module_version": "1.2.0",
            "_view_name": "StyleView",
            "description_width": ""
          }
        },
        "4a1a18b708714b7ea9e7819826d7ea1e": {
          "model_module": "@jupyter-widgets/controls",
          "model_name": "HBoxModel",
          "model_module_version": "1.5.0",
          "state": {
            "_dom_classes": [],
            "_model_module": "@jupyter-widgets/controls",
            "_model_module_version": "1.5.0",
            "_model_name": "HBoxModel",
            "_view_count": null,
            "_view_module": "@jupyter-widgets/controls",
            "_view_module_version": "1.5.0",
            "_view_name": "HBoxView",
            "box_style": "",
            "children": [
              "IPY_MODEL_7ed30b65ac334a2e86a72ef35818485f",
              "IPY_MODEL_bb91a5dd31e045e28d284fb52808c496",
              "IPY_MODEL_9b31dec527af4b149504d56c60178be2"
            ],
            "layout": "IPY_MODEL_b823ee91823e45fab8bdd6c33bd98dba"
          }
        },
        "7ed30b65ac334a2e86a72ef35818485f": {
          "model_module": "@jupyter-widgets/controls",
          "model_name": "HTMLModel",
          "model_module_version": "1.5.0",
          "state": {
            "_dom_classes": [],
            "_model_module": "@jupyter-widgets/controls",
            "_model_module_version": "1.5.0",
            "_model_name": "HTMLModel",
            "_view_count": null,
            "_view_module": "@jupyter-widgets/controls",
            "_view_module_version": "1.5.0",
            "_view_name": "HTMLView",
            "description": "",
            "description_tooltip": null,
            "layout": "IPY_MODEL_6303beeb093a4191ba203a89d797ba6e",
            "placeholder": "​",
            "style": "IPY_MODEL_5b77b7f4b640400e94c689267bd41065",
            "value": "model.safetensors: 100%"
          }
        },
        "bb91a5dd31e045e28d284fb52808c496": {
          "model_module": "@jupyter-widgets/controls",
          "model_name": "FloatProgressModel",
          "model_module_version": "1.5.0",
          "state": {
            "_dom_classes": [],
            "_model_module": "@jupyter-widgets/controls",
            "_model_module_version": "1.5.0",
            "_model_name": "FloatProgressModel",
            "_view_count": null,
            "_view_module": "@jupyter-widgets/controls",
            "_view_module_version": "1.5.0",
            "_view_name": "ProgressView",
            "bar_style": "success",
            "description": "",
            "description_tooltip": null,
            "layout": "IPY_MODEL_bb290d3486024a97b0b437be253eac54",
            "max": 6425529112,
            "min": 0,
            "orientation": "horizontal",
            "style": "IPY_MODEL_8ebad9d7be1143cbaa6ac9916f25a3c0",
            "value": 6425529112
          }
        },
        "9b31dec527af4b149504d56c60178be2": {
          "model_module": "@jupyter-widgets/controls",
          "model_name": "HTMLModel",
          "model_module_version": "1.5.0",
          "state": {
            "_dom_classes": [],
            "_model_module": "@jupyter-widgets/controls",
            "_model_module_version": "1.5.0",
            "_model_name": "HTMLModel",
            "_view_count": null,
            "_view_module": "@jupyter-widgets/controls",
            "_view_module_version": "1.5.0",
            "_view_name": "HTMLView",
            "description": "",
            "description_tooltip": null,
            "layout": "IPY_MODEL_6624a08a7ac04c60aff90980a0ec2ed4",
            "placeholder": "​",
            "style": "IPY_MODEL_fd46280796d846c7b46f748ee68ff0f3",
            "value": " 6.43G/6.43G [01:08&lt;00:00, 42.3MB/s]"
          }
        },
        "b823ee91823e45fab8bdd6c33bd98dba": {
          "model_module": "@jupyter-widgets/base",
          "model_name": "LayoutModel",
          "model_module_version": "1.2.0",
          "state": {
            "_model_module": "@jupyter-widgets/base",
            "_model_module_version": "1.2.0",
            "_model_name": "LayoutModel",
            "_view_count": null,
            "_view_module": "@jupyter-widgets/base",
            "_view_module_version": "1.2.0",
            "_view_name": "LayoutView",
            "align_content": null,
            "align_items": null,
            "align_self": null,
            "border": null,
            "bottom": null,
            "display": null,
            "flex": null,
            "flex_flow": null,
            "grid_area": null,
            "grid_auto_columns": null,
            "grid_auto_flow": null,
            "grid_auto_rows": null,
            "grid_column": null,
            "grid_gap": null,
            "grid_row": null,
            "grid_template_areas": null,
            "grid_template_columns": null,
            "grid_template_rows": null,
            "height": null,
            "justify_content": null,
            "justify_items": null,
            "left": null,
            "margin": null,
            "max_height": null,
            "max_width": null,
            "min_height": null,
            "min_width": null,
            "object_fit": null,
            "object_position": null,
            "order": null,
            "overflow": null,
            "overflow_x": null,
            "overflow_y": null,
            "padding": null,
            "right": null,
            "top": null,
            "visibility": null,
            "width": null
          }
        },
        "6303beeb093a4191ba203a89d797ba6e": {
          "model_module": "@jupyter-widgets/base",
          "model_name": "LayoutModel",
          "model_module_version": "1.2.0",
          "state": {
            "_model_module": "@jupyter-widgets/base",
            "_model_module_version": "1.2.0",
            "_model_name": "LayoutModel",
            "_view_count": null,
            "_view_module": "@jupyter-widgets/base",
            "_view_module_version": "1.2.0",
            "_view_name": "LayoutView",
            "align_content": null,
            "align_items": null,
            "align_self": null,
            "border": null,
            "bottom": null,
            "display": null,
            "flex": null,
            "flex_flow": null,
            "grid_area": null,
            "grid_auto_columns": null,
            "grid_auto_flow": null,
            "grid_auto_rows": null,
            "grid_column": null,
            "grid_gap": null,
            "grid_row": null,
            "grid_template_areas": null,
            "grid_template_columns": null,
            "grid_template_rows": null,
            "height": null,
            "justify_content": null,
            "justify_items": null,
            "left": null,
            "margin": null,
            "max_height": null,
            "max_width": null,
            "min_height": null,
            "min_width": null,
            "object_fit": null,
            "object_position": null,
            "order": null,
            "overflow": null,
            "overflow_x": null,
            "overflow_y": null,
            "padding": null,
            "right": null,
            "top": null,
            "visibility": null,
            "width": null
          }
        },
        "5b77b7f4b640400e94c689267bd41065": {
          "model_module": "@jupyter-widgets/controls",
          "model_name": "DescriptionStyleModel",
          "model_module_version": "1.5.0",
          "state": {
            "_model_module": "@jupyter-widgets/controls",
            "_model_module_version": "1.5.0",
            "_model_name": "DescriptionStyleModel",
            "_view_count": null,
            "_view_module": "@jupyter-widgets/base",
            "_view_module_version": "1.2.0",
            "_view_name": "StyleView",
            "description_width": ""
          }
        },
        "bb290d3486024a97b0b437be253eac54": {
          "model_module": "@jupyter-widgets/base",
          "model_name": "LayoutModel",
          "model_module_version": "1.2.0",
          "state": {
            "_model_module": "@jupyter-widgets/base",
            "_model_module_version": "1.2.0",
            "_model_name": "LayoutModel",
            "_view_count": null,
            "_view_module": "@jupyter-widgets/base",
            "_view_module_version": "1.2.0",
            "_view_name": "LayoutView",
            "align_content": null,
            "align_items": null,
            "align_self": null,
            "border": null,
            "bottom": null,
            "display": null,
            "flex": null,
            "flex_flow": null,
            "grid_area": null,
            "grid_auto_columns": null,
            "grid_auto_flow": null,
            "grid_auto_rows": null,
            "grid_column": null,
            "grid_gap": null,
            "grid_row": null,
            "grid_template_areas": null,
            "grid_template_columns": null,
            "grid_template_rows": null,
            "height": null,
            "justify_content": null,
            "justify_items": null,
            "left": null,
            "margin": null,
            "max_height": null,
            "max_width": null,
            "min_height": null,
            "min_width": null,
            "object_fit": null,
            "object_position": null,
            "order": null,
            "overflow": null,
            "overflow_x": null,
            "overflow_y": null,
            "padding": null,
            "right": null,
            "top": null,
            "visibility": null,
            "width": null
          }
        },
        "8ebad9d7be1143cbaa6ac9916f25a3c0": {
          "model_module": "@jupyter-widgets/controls",
          "model_name": "ProgressStyleModel",
          "model_module_version": "1.5.0",
          "state": {
            "_model_module": "@jupyter-widgets/controls",
            "_model_module_version": "1.5.0",
            "_model_name": "ProgressStyleModel",
            "_view_count": null,
            "_view_module": "@jupyter-widgets/base",
            "_view_module_version": "1.2.0",
            "_view_name": "StyleView",
            "bar_color": null,
            "description_width": ""
          }
        },
        "6624a08a7ac04c60aff90980a0ec2ed4": {
          "model_module": "@jupyter-widgets/base",
          "model_name": "LayoutModel",
          "model_module_version": "1.2.0",
          "state": {
            "_model_module": "@jupyter-widgets/base",
            "_model_module_version": "1.2.0",
            "_model_name": "LayoutModel",
            "_view_count": null,
            "_view_module": "@jupyter-widgets/base",
            "_view_module_version": "1.2.0",
            "_view_name": "LayoutView",
            "align_content": null,
            "align_items": null,
            "align_self": null,
            "border": null,
            "bottom": null,
            "display": null,
            "flex": null,
            "flex_flow": null,
            "grid_area": null,
            "grid_auto_columns": null,
            "grid_auto_flow": null,
            "grid_auto_rows": null,
            "grid_column": null,
            "grid_gap": null,
            "grid_row": null,
            "grid_template_areas": null,
            "grid_template_columns": null,
            "grid_template_rows": null,
            "height": null,
            "justify_content": null,
            "justify_items": null,
            "left": null,
            "margin": null,
            "max_height": null,
            "max_width": null,
            "min_height": null,
            "min_width": null,
            "object_fit": null,
            "object_position": null,
            "order": null,
            "overflow": null,
            "overflow_x": null,
            "overflow_y": null,
            "padding": null,
            "right": null,
            "top": null,
            "visibility": null,
            "width": null
          }
        },
        "fd46280796d846c7b46f748ee68ff0f3": {
          "model_module": "@jupyter-widgets/controls",
          "model_name": "DescriptionStyleModel",
          "model_module_version": "1.5.0",
          "state": {
            "_model_module": "@jupyter-widgets/controls",
            "_model_module_version": "1.5.0",
            "_model_name": "DescriptionStyleModel",
            "_view_count": null,
            "_view_module": "@jupyter-widgets/base",
            "_view_module_version": "1.2.0",
            "_view_name": "StyleView",
            "description_width": ""
          }
        },
        "01bb3eb5205c42919164c2c9aec01c61": {
          "model_module": "@jupyter-widgets/controls",
          "model_name": "HBoxModel",
          "model_module_version": "1.5.0",
          "state": {
            "_dom_classes": [],
            "_model_module": "@jupyter-widgets/controls",
            "_model_module_version": "1.5.0",
            "_model_name": "HBoxModel",
            "_view_count": null,
            "_view_module": "@jupyter-widgets/controls",
            "_view_module_version": "1.5.0",
            "_view_name": "HBoxView",
            "box_style": "",
            "children": [
              "IPY_MODEL_63af3b0993f8420d95b1fc4bb2c2b071",
              "IPY_MODEL_51b8b1a5abe44c038d023d0d1c838e25",
              "IPY_MODEL_94049344d6c641a5afb2e491b9a005d8"
            ],
            "layout": "IPY_MODEL_eb876b0e47314738a3e3ff9281086459"
          }
        },
        "63af3b0993f8420d95b1fc4bb2c2b071": {
          "model_module": "@jupyter-widgets/controls",
          "model_name": "HTMLModel",
          "model_module_version": "1.5.0",
          "state": {
            "_dom_classes": [],
            "_model_module": "@jupyter-widgets/controls",
            "_model_module_version": "1.5.0",
            "_model_name": "HTMLModel",
            "_view_count": null,
            "_view_module": "@jupyter-widgets/controls",
            "_view_module_version": "1.5.0",
            "_view_name": "HTMLView",
            "description": "",
            "description_tooltip": null,
            "layout": "IPY_MODEL_b9dea17d746b44ed93d3c6c68d05a9c7",
            "placeholder": "​",
            "style": "IPY_MODEL_05d26fcafd4b41d1b95e3e17536feb56",
            "value": "generation_config.json: 100%"
          }
        },
        "51b8b1a5abe44c038d023d0d1c838e25": {
          "model_module": "@jupyter-widgets/controls",
          "model_name": "FloatProgressModel",
          "model_module_version": "1.5.0",
          "state": {
            "_dom_classes": [],
            "_model_module": "@jupyter-widgets/controls",
            "_model_module_version": "1.5.0",
            "_model_name": "FloatProgressModel",
            "_view_count": null,
            "_view_module": "@jupyter-widgets/controls",
            "_view_module_version": "1.5.0",
            "_view_name": "ProgressView",
            "bar_style": "success",
            "description": "",
            "description_tooltip": null,
            "layout": "IPY_MODEL_c656432994ba46849680285b02554f07",
            "max": 184,
            "min": 0,
            "orientation": "horizontal",
            "style": "IPY_MODEL_c9fe97e67a2944948b1ec97942758791",
            "value": 184
          }
        },
        "94049344d6c641a5afb2e491b9a005d8": {
          "model_module": "@jupyter-widgets/controls",
          "model_name": "HTMLModel",
          "model_module_version": "1.5.0",
          "state": {
            "_dom_classes": [],
            "_model_module": "@jupyter-widgets/controls",
            "_model_module_version": "1.5.0",
            "_model_name": "HTMLModel",
            "_view_count": null,
            "_view_module": "@jupyter-widgets/controls",
            "_view_module_version": "1.5.0",
            "_view_name": "HTMLView",
            "description": "",
            "description_tooltip": null,
            "layout": "IPY_MODEL_c5fedf5e283a40d888b41d4276000d40",
            "placeholder": "​",
            "style": "IPY_MODEL_8efa9dd1e97444dd89b8bf6bcc859d9b",
            "value": " 184/184 [00:00&lt;00:00, 16.4kB/s]"
          }
        },
        "eb876b0e47314738a3e3ff9281086459": {
          "model_module": "@jupyter-widgets/base",
          "model_name": "LayoutModel",
          "model_module_version": "1.2.0",
          "state": {
            "_model_module": "@jupyter-widgets/base",
            "_model_module_version": "1.2.0",
            "_model_name": "LayoutModel",
            "_view_count": null,
            "_view_module": "@jupyter-widgets/base",
            "_view_module_version": "1.2.0",
            "_view_name": "LayoutView",
            "align_content": null,
            "align_items": null,
            "align_self": null,
            "border": null,
            "bottom": null,
            "display": null,
            "flex": null,
            "flex_flow": null,
            "grid_area": null,
            "grid_auto_columns": null,
            "grid_auto_flow": null,
            "grid_auto_rows": null,
            "grid_column": null,
            "grid_gap": null,
            "grid_row": null,
            "grid_template_areas": null,
            "grid_template_columns": null,
            "grid_template_rows": null,
            "height": null,
            "justify_content": null,
            "justify_items": null,
            "left": null,
            "margin": null,
            "max_height": null,
            "max_width": null,
            "min_height": null,
            "min_width": null,
            "object_fit": null,
            "object_position": null,
            "order": null,
            "overflow": null,
            "overflow_x": null,
            "overflow_y": null,
            "padding": null,
            "right": null,
            "top": null,
            "visibility": null,
            "width": null
          }
        },
        "b9dea17d746b44ed93d3c6c68d05a9c7": {
          "model_module": "@jupyter-widgets/base",
          "model_name": "LayoutModel",
          "model_module_version": "1.2.0",
          "state": {
            "_model_module": "@jupyter-widgets/base",
            "_model_module_version": "1.2.0",
            "_model_name": "LayoutModel",
            "_view_count": null,
            "_view_module": "@jupyter-widgets/base",
            "_view_module_version": "1.2.0",
            "_view_name": "LayoutView",
            "align_content": null,
            "align_items": null,
            "align_self": null,
            "border": null,
            "bottom": null,
            "display": null,
            "flex": null,
            "flex_flow": null,
            "grid_area": null,
            "grid_auto_columns": null,
            "grid_auto_flow": null,
            "grid_auto_rows": null,
            "grid_column": null,
            "grid_gap": null,
            "grid_row": null,
            "grid_template_areas": null,
            "grid_template_columns": null,
            "grid_template_rows": null,
            "height": null,
            "justify_content": null,
            "justify_items": null,
            "left": null,
            "margin": null,
            "max_height": null,
            "max_width": null,
            "min_height": null,
            "min_width": null,
            "object_fit": null,
            "object_position": null,
            "order": null,
            "overflow": null,
            "overflow_x": null,
            "overflow_y": null,
            "padding": null,
            "right": null,
            "top": null,
            "visibility": null,
            "width": null
          }
        },
        "05d26fcafd4b41d1b95e3e17536feb56": {
          "model_module": "@jupyter-widgets/controls",
          "model_name": "DescriptionStyleModel",
          "model_module_version": "1.5.0",
          "state": {
            "_model_module": "@jupyter-widgets/controls",
            "_model_module_version": "1.5.0",
            "_model_name": "DescriptionStyleModel",
            "_view_count": null,
            "_view_module": "@jupyter-widgets/base",
            "_view_module_version": "1.2.0",
            "_view_name": "StyleView",
            "description_width": ""
          }
        },
        "c656432994ba46849680285b02554f07": {
          "model_module": "@jupyter-widgets/base",
          "model_name": "LayoutModel",
          "model_module_version": "1.2.0",
          "state": {
            "_model_module": "@jupyter-widgets/base",
            "_model_module_version": "1.2.0",
            "_model_name": "LayoutModel",
            "_view_count": null,
            "_view_module": "@jupyter-widgets/base",
            "_view_module_version": "1.2.0",
            "_view_name": "LayoutView",
            "align_content": null,
            "align_items": null,
            "align_self": null,
            "border": null,
            "bottom": null,
            "display": null,
            "flex": null,
            "flex_flow": null,
            "grid_area": null,
            "grid_auto_columns": null,
            "grid_auto_flow": null,
            "grid_auto_rows": null,
            "grid_column": null,
            "grid_gap": null,
            "grid_row": null,
            "grid_template_areas": null,
            "grid_template_columns": null,
            "grid_template_rows": null,
            "height": null,
            "justify_content": null,
            "justify_items": null,
            "left": null,
            "margin": null,
            "max_height": null,
            "max_width": null,
            "min_height": null,
            "min_width": null,
            "object_fit": null,
            "object_position": null,
            "order": null,
            "overflow": null,
            "overflow_x": null,
            "overflow_y": null,
            "padding": null,
            "right": null,
            "top": null,
            "visibility": null,
            "width": null
          }
        },
        "c9fe97e67a2944948b1ec97942758791": {
          "model_module": "@jupyter-widgets/controls",
          "model_name": "ProgressStyleModel",
          "model_module_version": "1.5.0",
          "state": {
            "_model_module": "@jupyter-widgets/controls",
            "_model_module_version": "1.5.0",
            "_model_name": "ProgressStyleModel",
            "_view_count": null,
            "_view_module": "@jupyter-widgets/base",
            "_view_module_version": "1.2.0",
            "_view_name": "StyleView",
            "bar_color": null,
            "description_width": ""
          }
        },
        "c5fedf5e283a40d888b41d4276000d40": {
          "model_module": "@jupyter-widgets/base",
          "model_name": "LayoutModel",
          "model_module_version": "1.2.0",
          "state": {
            "_model_module": "@jupyter-widgets/base",
            "_model_module_version": "1.2.0",
            "_model_name": "LayoutModel",
            "_view_count": null,
            "_view_module": "@jupyter-widgets/base",
            "_view_module_version": "1.2.0",
            "_view_name": "LayoutView",
            "align_content": null,
            "align_items": null,
            "align_self": null,
            "border": null,
            "bottom": null,
            "display": null,
            "flex": null,
            "flex_flow": null,
            "grid_area": null,
            "grid_auto_columns": null,
            "grid_auto_flow": null,
            "grid_auto_rows": null,
            "grid_column": null,
            "grid_gap": null,
            "grid_row": null,
            "grid_template_areas": null,
            "grid_template_columns": null,
            "grid_template_rows": null,
            "height": null,
            "justify_content": null,
            "justify_items": null,
            "left": null,
            "margin": null,
            "max_height": null,
            "max_width": null,
            "min_height": null,
            "min_width": null,
            "object_fit": null,
            "object_position": null,
            "order": null,
            "overflow": null,
            "overflow_x": null,
            "overflow_y": null,
            "padding": null,
            "right": null,
            "top": null,
            "visibility": null,
            "width": null
          }
        },
        "8efa9dd1e97444dd89b8bf6bcc859d9b": {
          "model_module": "@jupyter-widgets/controls",
          "model_name": "DescriptionStyleModel",
          "model_module_version": "1.5.0",
          "state": {
            "_model_module": "@jupyter-widgets/controls",
            "_model_module_version": "1.5.0",
            "_model_name": "DescriptionStyleModel",
            "_view_count": null,
            "_view_module": "@jupyter-widgets/base",
            "_view_module_version": "1.2.0",
            "_view_name": "StyleView",
            "description_width": ""
          }
        },
        "be0c53eb48434d93ad77257a93d0d650": {
          "model_module": "@jupyter-widgets/controls",
          "model_name": "HBoxModel",
          "model_module_version": "1.5.0",
          "state": {
            "_dom_classes": [],
            "_model_module": "@jupyter-widgets/controls",
            "_model_module_version": "1.5.0",
            "_model_name": "HBoxModel",
            "_view_count": null,
            "_view_module": "@jupyter-widgets/controls",
            "_view_module_version": "1.5.0",
            "_view_name": "HBoxView",
            "box_style": "",
            "children": [
              "IPY_MODEL_fcecf7c8c0ef4cbba908f2f0ee72a8be",
              "IPY_MODEL_90a7c4c147224d86ae393e33c89c8e53",
              "IPY_MODEL_6022454803884e3cb012e6d4ff778a57"
            ],
            "layout": "IPY_MODEL_1acd5a1f48a146ea8c8e69116e96cc52"
          }
        },
        "fcecf7c8c0ef4cbba908f2f0ee72a8be": {
          "model_module": "@jupyter-widgets/controls",
          "model_name": "HTMLModel",
          "model_module_version": "1.5.0",
          "state": {
            "_dom_classes": [],
            "_model_module": "@jupyter-widgets/controls",
            "_model_module_version": "1.5.0",
            "_model_name": "HTMLModel",
            "_view_count": null,
            "_view_module": "@jupyter-widgets/controls",
            "_view_module_version": "1.5.0",
            "_view_name": "HTMLView",
            "description": "",
            "description_tooltip": null,
            "layout": "IPY_MODEL_77af42e2e00f4fcc98b7cf23e5279a02",
            "placeholder": "​",
            "style": "IPY_MODEL_db994833e0ba42f391c70f1470bd453a",
            "value": "tokenizer_config.json: 100%"
          }
        },
        "90a7c4c147224d86ae393e33c89c8e53": {
          "model_module": "@jupyter-widgets/controls",
          "model_name": "FloatProgressModel",
          "model_module_version": "1.5.0",
          "state": {
            "_dom_classes": [],
            "_model_module": "@jupyter-widgets/controls",
            "_model_module_version": "1.5.0",
            "_model_name": "FloatProgressModel",
            "_view_count": null,
            "_view_module": "@jupyter-widgets/controls",
            "_view_module_version": "1.5.0",
            "_view_name": "ProgressView",
            "bar_style": "success",
            "description": "",
            "description_tooltip": null,
            "layout": "IPY_MODEL_fbd79354fddc47f8b56d2f8f32c47ab0",
            "max": 48,
            "min": 0,
            "orientation": "horizontal",
            "style": "IPY_MODEL_e875e350b0cb4c1d8a2c914241b57109",
            "value": 48
          }
        },
        "6022454803884e3cb012e6d4ff778a57": {
          "model_module": "@jupyter-widgets/controls",
          "model_name": "HTMLModel",
          "model_module_version": "1.5.0",
          "state": {
            "_dom_classes": [],
            "_model_module": "@jupyter-widgets/controls",
            "_model_module_version": "1.5.0",
            "_model_name": "HTMLModel",
            "_view_count": null,
            "_view_module": "@jupyter-widgets/controls",
            "_view_module_version": "1.5.0",
            "_view_name": "HTMLView",
            "description": "",
            "description_tooltip": null,
            "layout": "IPY_MODEL_26e9588a8ba545d884eaa68a157d2985",
            "placeholder": "​",
            "style": "IPY_MODEL_023a1e7249364c61b6ef87c8e7876246",
            "value": " 48.0/48.0 [00:00&lt;00:00, 3.71kB/s]"
          }
        },
        "1acd5a1f48a146ea8c8e69116e96cc52": {
          "model_module": "@jupyter-widgets/base",
          "model_name": "LayoutModel",
          "model_module_version": "1.2.0",
          "state": {
            "_model_module": "@jupyter-widgets/base",
            "_model_module_version": "1.2.0",
            "_model_name": "LayoutModel",
            "_view_count": null,
            "_view_module": "@jupyter-widgets/base",
            "_view_module_version": "1.2.0",
            "_view_name": "LayoutView",
            "align_content": null,
            "align_items": null,
            "align_self": null,
            "border": null,
            "bottom": null,
            "display": null,
            "flex": null,
            "flex_flow": null,
            "grid_area": null,
            "grid_auto_columns": null,
            "grid_auto_flow": null,
            "grid_auto_rows": null,
            "grid_column": null,
            "grid_gap": null,
            "grid_row": null,
            "grid_template_areas": null,
            "grid_template_columns": null,
            "grid_template_rows": null,
            "height": null,
            "justify_content": null,
            "justify_items": null,
            "left": null,
            "margin": null,
            "max_height": null,
            "max_width": null,
            "min_height": null,
            "min_width": null,
            "object_fit": null,
            "object_position": null,
            "order": null,
            "overflow": null,
            "overflow_x": null,
            "overflow_y": null,
            "padding": null,
            "right": null,
            "top": null,
            "visibility": null,
            "width": null
          }
        },
        "77af42e2e00f4fcc98b7cf23e5279a02": {
          "model_module": "@jupyter-widgets/base",
          "model_name": "LayoutModel",
          "model_module_version": "1.2.0",
          "state": {
            "_model_module": "@jupyter-widgets/base",
            "_model_module_version": "1.2.0",
            "_model_name": "LayoutModel",
            "_view_count": null,
            "_view_module": "@jupyter-widgets/base",
            "_view_module_version": "1.2.0",
            "_view_name": "LayoutView",
            "align_content": null,
            "align_items": null,
            "align_self": null,
            "border": null,
            "bottom": null,
            "display": null,
            "flex": null,
            "flex_flow": null,
            "grid_area": null,
            "grid_auto_columns": null,
            "grid_auto_flow": null,
            "grid_auto_rows": null,
            "grid_column": null,
            "grid_gap": null,
            "grid_row": null,
            "grid_template_areas": null,
            "grid_template_columns": null,
            "grid_template_rows": null,
            "height": null,
            "justify_content": null,
            "justify_items": null,
            "left": null,
            "margin": null,
            "max_height": null,
            "max_width": null,
            "min_height": null,
            "min_width": null,
            "object_fit": null,
            "object_position": null,
            "order": null,
            "overflow": null,
            "overflow_x": null,
            "overflow_y": null,
            "padding": null,
            "right": null,
            "top": null,
            "visibility": null,
            "width": null
          }
        },
        "db994833e0ba42f391c70f1470bd453a": {
          "model_module": "@jupyter-widgets/controls",
          "model_name": "DescriptionStyleModel",
          "model_module_version": "1.5.0",
          "state": {
            "_model_module": "@jupyter-widgets/controls",
            "_model_module_version": "1.5.0",
            "_model_name": "DescriptionStyleModel",
            "_view_count": null,
            "_view_module": "@jupyter-widgets/base",
            "_view_module_version": "1.2.0",
            "_view_name": "StyleView",
            "description_width": ""
          }
        },
        "fbd79354fddc47f8b56d2f8f32c47ab0": {
          "model_module": "@jupyter-widgets/base",
          "model_name": "LayoutModel",
          "model_module_version": "1.2.0",
          "state": {
            "_model_module": "@jupyter-widgets/base",
            "_model_module_version": "1.2.0",
            "_model_name": "LayoutModel",
            "_view_count": null,
            "_view_module": "@jupyter-widgets/base",
            "_view_module_version": "1.2.0",
            "_view_name": "LayoutView",
            "align_content": null,
            "align_items": null,
            "align_self": null,
            "border": null,
            "bottom": null,
            "display": null,
            "flex": null,
            "flex_flow": null,
            "grid_area": null,
            "grid_auto_columns": null,
            "grid_auto_flow": null,
            "grid_auto_rows": null,
            "grid_column": null,
            "grid_gap": null,
            "grid_row": null,
            "grid_template_areas": null,
            "grid_template_columns": null,
            "grid_template_rows": null,
            "height": null,
            "justify_content": null,
            "justify_items": null,
            "left": null,
            "margin": null,
            "max_height": null,
            "max_width": null,
            "min_height": null,
            "min_width": null,
            "object_fit": null,
            "object_position": null,
            "order": null,
            "overflow": null,
            "overflow_x": null,
            "overflow_y": null,
            "padding": null,
            "right": null,
            "top": null,
            "visibility": null,
            "width": null
          }
        },
        "e875e350b0cb4c1d8a2c914241b57109": {
          "model_module": "@jupyter-widgets/controls",
          "model_name": "ProgressStyleModel",
          "model_module_version": "1.5.0",
          "state": {
            "_model_module": "@jupyter-widgets/controls",
            "_model_module_version": "1.5.0",
            "_model_name": "ProgressStyleModel",
            "_view_count": null,
            "_view_module": "@jupyter-widgets/base",
            "_view_module_version": "1.2.0",
            "_view_name": "StyleView",
            "bar_color": null,
            "description_width": ""
          }
        },
        "26e9588a8ba545d884eaa68a157d2985": {
          "model_module": "@jupyter-widgets/base",
          "model_name": "LayoutModel",
          "model_module_version": "1.2.0",
          "state": {
            "_model_module": "@jupyter-widgets/base",
            "_model_module_version": "1.2.0",
            "_model_name": "LayoutModel",
            "_view_count": null,
            "_view_module": "@jupyter-widgets/base",
            "_view_module_version": "1.2.0",
            "_view_name": "LayoutView",
            "align_content": null,
            "align_items": null,
            "align_self": null,
            "border": null,
            "bottom": null,
            "display": null,
            "flex": null,
            "flex_flow": null,
            "grid_area": null,
            "grid_auto_columns": null,
            "grid_auto_flow": null,
            "grid_auto_rows": null,
            "grid_column": null,
            "grid_gap": null,
            "grid_row": null,
            "grid_template_areas": null,
            "grid_template_columns": null,
            "grid_template_rows": null,
            "height": null,
            "justify_content": null,
            "justify_items": null,
            "left": null,
            "margin": null,
            "max_height": null,
            "max_width": null,
            "min_height": null,
            "min_width": null,
            "object_fit": null,
            "object_position": null,
            "order": null,
            "overflow": null,
            "overflow_x": null,
            "overflow_y": null,
            "padding": null,
            "right": null,
            "top": null,
            "visibility": null,
            "width": null
          }
        },
        "023a1e7249364c61b6ef87c8e7876246": {
          "model_module": "@jupyter-widgets/controls",
          "model_name": "DescriptionStyleModel",
          "model_module_version": "1.5.0",
          "state": {
            "_model_module": "@jupyter-widgets/controls",
            "_model_module_version": "1.5.0",
            "_model_name": "DescriptionStyleModel",
            "_view_count": null,
            "_view_module": "@jupyter-widgets/base",
            "_view_module_version": "1.2.0",
            "_view_name": "StyleView",
            "description_width": ""
          }
        },
        "189799f99f504c1eb7a6430ca21b005b": {
          "model_module": "@jupyter-widgets/controls",
          "model_name": "HBoxModel",
          "model_module_version": "1.5.0",
          "state": {
            "_dom_classes": [],
            "_model_module": "@jupyter-widgets/controls",
            "_model_module_version": "1.5.0",
            "_model_name": "HBoxModel",
            "_view_count": null,
            "_view_module": "@jupyter-widgets/controls",
            "_view_module_version": "1.5.0",
            "_view_name": "HBoxView",
            "box_style": "",
            "children": [
              "IPY_MODEL_5ce0ee3171bd4cd6ae55fb310650fd38",
              "IPY_MODEL_0463b0b3bbe7418fb5f0b57a5b34c559",
              "IPY_MODEL_58efede6dbdc410bba67f971abb918e7"
            ],
            "layout": "IPY_MODEL_1b0a29603ee74e2889c7570456e78ac7"
          }
        },
        "5ce0ee3171bd4cd6ae55fb310650fd38": {
          "model_module": "@jupyter-widgets/controls",
          "model_name": "HTMLModel",
          "model_module_version": "1.5.0",
          "state": {
            "_dom_classes": [],
            "_model_module": "@jupyter-widgets/controls",
            "_model_module_version": "1.5.0",
            "_model_name": "HTMLModel",
            "_view_count": null,
            "_view_module": "@jupyter-widgets/controls",
            "_view_module_version": "1.5.0",
            "_view_name": "HTMLView",
            "description": "",
            "description_tooltip": null,
            "layout": "IPY_MODEL_8648659f10624b1aa41345da9e513d98",
            "placeholder": "​",
            "style": "IPY_MODEL_f1e9e51ae9a84998bbac1ff5955baf90",
            "value": "vocab.txt: 100%"
          }
        },
        "0463b0b3bbe7418fb5f0b57a5b34c559": {
          "model_module": "@jupyter-widgets/controls",
          "model_name": "FloatProgressModel",
          "model_module_version": "1.5.0",
          "state": {
            "_dom_classes": [],
            "_model_module": "@jupyter-widgets/controls",
            "_model_module_version": "1.5.0",
            "_model_name": "FloatProgressModel",
            "_view_count": null,
            "_view_module": "@jupyter-widgets/controls",
            "_view_module_version": "1.5.0",
            "_view_name": "ProgressView",
            "bar_style": "success",
            "description": "",
            "description_tooltip": null,
            "layout": "IPY_MODEL_2030b10e9f2641d5b9636a54f2afeb64",
            "max": 231508,
            "min": 0,
            "orientation": "horizontal",
            "style": "IPY_MODEL_885326486cc841078d3f1c138ef82ad1",
            "value": 231508
          }
        },
        "58efede6dbdc410bba67f971abb918e7": {
          "model_module": "@jupyter-widgets/controls",
          "model_name": "HTMLModel",
          "model_module_version": "1.5.0",
          "state": {
            "_dom_classes": [],
            "_model_module": "@jupyter-widgets/controls",
            "_model_module_version": "1.5.0",
            "_model_name": "HTMLModel",
            "_view_count": null,
            "_view_module": "@jupyter-widgets/controls",
            "_view_module_version": "1.5.0",
            "_view_name": "HTMLView",
            "description": "",
            "description_tooltip": null,
            "layout": "IPY_MODEL_f8fd8476226944fa8bd5f8ba6d59c02e",
            "placeholder": "​",
            "style": "IPY_MODEL_f30fb7def7ef4db29c10b84657e844ed",
            "value": " 232k/232k [00:00&lt;00:00, 1.38MB/s]"
          }
        },
        "1b0a29603ee74e2889c7570456e78ac7": {
          "model_module": "@jupyter-widgets/base",
          "model_name": "LayoutModel",
          "model_module_version": "1.2.0",
          "state": {
            "_model_module": "@jupyter-widgets/base",
            "_model_module_version": "1.2.0",
            "_model_name": "LayoutModel",
            "_view_count": null,
            "_view_module": "@jupyter-widgets/base",
            "_view_module_version": "1.2.0",
            "_view_name": "LayoutView",
            "align_content": null,
            "align_items": null,
            "align_self": null,
            "border": null,
            "bottom": null,
            "display": null,
            "flex": null,
            "flex_flow": null,
            "grid_area": null,
            "grid_auto_columns": null,
            "grid_auto_flow": null,
            "grid_auto_rows": null,
            "grid_column": null,
            "grid_gap": null,
            "grid_row": null,
            "grid_template_areas": null,
            "grid_template_columns": null,
            "grid_template_rows": null,
            "height": null,
            "justify_content": null,
            "justify_items": null,
            "left": null,
            "margin": null,
            "max_height": null,
            "max_width": null,
            "min_height": null,
            "min_width": null,
            "object_fit": null,
            "object_position": null,
            "order": null,
            "overflow": null,
            "overflow_x": null,
            "overflow_y": null,
            "padding": null,
            "right": null,
            "top": null,
            "visibility": null,
            "width": null
          }
        },
        "8648659f10624b1aa41345da9e513d98": {
          "model_module": "@jupyter-widgets/base",
          "model_name": "LayoutModel",
          "model_module_version": "1.2.0",
          "state": {
            "_model_module": "@jupyter-widgets/base",
            "_model_module_version": "1.2.0",
            "_model_name": "LayoutModel",
            "_view_count": null,
            "_view_module": "@jupyter-widgets/base",
            "_view_module_version": "1.2.0",
            "_view_name": "LayoutView",
            "align_content": null,
            "align_items": null,
            "align_self": null,
            "border": null,
            "bottom": null,
            "display": null,
            "flex": null,
            "flex_flow": null,
            "grid_area": null,
            "grid_auto_columns": null,
            "grid_auto_flow": null,
            "grid_auto_rows": null,
            "grid_column": null,
            "grid_gap": null,
            "grid_row": null,
            "grid_template_areas": null,
            "grid_template_columns": null,
            "grid_template_rows": null,
            "height": null,
            "justify_content": null,
            "justify_items": null,
            "left": null,
            "margin": null,
            "max_height": null,
            "max_width": null,
            "min_height": null,
            "min_width": null,
            "object_fit": null,
            "object_position": null,
            "order": null,
            "overflow": null,
            "overflow_x": null,
            "overflow_y": null,
            "padding": null,
            "right": null,
            "top": null,
            "visibility": null,
            "width": null
          }
        },
        "f1e9e51ae9a84998bbac1ff5955baf90": {
          "model_module": "@jupyter-widgets/controls",
          "model_name": "DescriptionStyleModel",
          "model_module_version": "1.5.0",
          "state": {
            "_model_module": "@jupyter-widgets/controls",
            "_model_module_version": "1.5.0",
            "_model_name": "DescriptionStyleModel",
            "_view_count": null,
            "_view_module": "@jupyter-widgets/base",
            "_view_module_version": "1.2.0",
            "_view_name": "StyleView",
            "description_width": ""
          }
        },
        "2030b10e9f2641d5b9636a54f2afeb64": {
          "model_module": "@jupyter-widgets/base",
          "model_name": "LayoutModel",
          "model_module_version": "1.2.0",
          "state": {
            "_model_module": "@jupyter-widgets/base",
            "_model_module_version": "1.2.0",
            "_model_name": "LayoutModel",
            "_view_count": null,
            "_view_module": "@jupyter-widgets/base",
            "_view_module_version": "1.2.0",
            "_view_name": "LayoutView",
            "align_content": null,
            "align_items": null,
            "align_self": null,
            "border": null,
            "bottom": null,
            "display": null,
            "flex": null,
            "flex_flow": null,
            "grid_area": null,
            "grid_auto_columns": null,
            "grid_auto_flow": null,
            "grid_auto_rows": null,
            "grid_column": null,
            "grid_gap": null,
            "grid_row": null,
            "grid_template_areas": null,
            "grid_template_columns": null,
            "grid_template_rows": null,
            "height": null,
            "justify_content": null,
            "justify_items": null,
            "left": null,
            "margin": null,
            "max_height": null,
            "max_width": null,
            "min_height": null,
            "min_width": null,
            "object_fit": null,
            "object_position": null,
            "order": null,
            "overflow": null,
            "overflow_x": null,
            "overflow_y": null,
            "padding": null,
            "right": null,
            "top": null,
            "visibility": null,
            "width": null
          }
        },
        "885326486cc841078d3f1c138ef82ad1": {
          "model_module": "@jupyter-widgets/controls",
          "model_name": "ProgressStyleModel",
          "model_module_version": "1.5.0",
          "state": {
            "_model_module": "@jupyter-widgets/controls",
            "_model_module_version": "1.5.0",
            "_model_name": "ProgressStyleModel",
            "_view_count": null,
            "_view_module": "@jupyter-widgets/base",
            "_view_module_version": "1.2.0",
            "_view_name": "StyleView",
            "bar_color": null,
            "description_width": ""
          }
        },
        "f8fd8476226944fa8bd5f8ba6d59c02e": {
          "model_module": "@jupyter-widgets/base",
          "model_name": "LayoutModel",
          "model_module_version": "1.2.0",
          "state": {
            "_model_module": "@jupyter-widgets/base",
            "_model_module_version": "1.2.0",
            "_model_name": "LayoutModel",
            "_view_count": null,
            "_view_module": "@jupyter-widgets/base",
            "_view_module_version": "1.2.0",
            "_view_name": "LayoutView",
            "align_content": null,
            "align_items": null,
            "align_self": null,
            "border": null,
            "bottom": null,
            "display": null,
            "flex": null,
            "flex_flow": null,
            "grid_area": null,
            "grid_auto_columns": null,
            "grid_auto_flow": null,
            "grid_auto_rows": null,
            "grid_column": null,
            "grid_gap": null,
            "grid_row": null,
            "grid_template_areas": null,
            "grid_template_columns": null,
            "grid_template_rows": null,
            "height": null,
            "justify_content": null,
            "justify_items": null,
            "left": null,
            "margin": null,
            "max_height": null,
            "max_width": null,
            "min_height": null,
            "min_width": null,
            "object_fit": null,
            "object_position": null,
            "order": null,
            "overflow": null,
            "overflow_x": null,
            "overflow_y": null,
            "padding": null,
            "right": null,
            "top": null,
            "visibility": null,
            "width": null
          }
        },
        "f30fb7def7ef4db29c10b84657e844ed": {
          "model_module": "@jupyter-widgets/controls",
          "model_name": "DescriptionStyleModel",
          "model_module_version": "1.5.0",
          "state": {
            "_model_module": "@jupyter-widgets/controls",
            "_model_module_version": "1.5.0",
            "_model_name": "DescriptionStyleModel",
            "_view_count": null,
            "_view_module": "@jupyter-widgets/base",
            "_view_module_version": "1.2.0",
            "_view_name": "StyleView",
            "description_width": ""
          }
        },
        "5c9e1db763fb443c84e723a2baece94a": {
          "model_module": "@jupyter-widgets/controls",
          "model_name": "HBoxModel",
          "model_module_version": "1.5.0",
          "state": {
            "_dom_classes": [],
            "_model_module": "@jupyter-widgets/controls",
            "_model_module_version": "1.5.0",
            "_model_name": "HBoxModel",
            "_view_count": null,
            "_view_module": "@jupyter-widgets/controls",
            "_view_module_version": "1.5.0",
            "_view_name": "HBoxView",
            "box_style": "",
            "children": [
              "IPY_MODEL_46790d0a0443431187875f4cf12f06b8",
              "IPY_MODEL_325dd1b34e444684b4bf808e2f7b4d9b",
              "IPY_MODEL_8abe1759b3944a65b8d7384aa6fffcb9"
            ],
            "layout": "IPY_MODEL_6aeb0ba04b6d432cb406526f70b88472"
          }
        },
        "46790d0a0443431187875f4cf12f06b8": {
          "model_module": "@jupyter-widgets/controls",
          "model_name": "HTMLModel",
          "model_module_version": "1.5.0",
          "state": {
            "_dom_classes": [],
            "_model_module": "@jupyter-widgets/controls",
            "_model_module_version": "1.5.0",
            "_model_name": "HTMLModel",
            "_view_count": null,
            "_view_module": "@jupyter-widgets/controls",
            "_view_module_version": "1.5.0",
            "_view_name": "HTMLView",
            "description": "",
            "description_tooltip": null,
            "layout": "IPY_MODEL_9f2c4ec037bc47488ce4d15f1b434561",
            "placeholder": "​",
            "style": "IPY_MODEL_eaa001bd702a4e418403a36ec036f9ae",
            "value": "tokenizer.json: 100%"
          }
        },
        "325dd1b34e444684b4bf808e2f7b4d9b": {
          "model_module": "@jupyter-widgets/controls",
          "model_name": "FloatProgressModel",
          "model_module_version": "1.5.0",
          "state": {
            "_dom_classes": [],
            "_model_module": "@jupyter-widgets/controls",
            "_model_module_version": "1.5.0",
            "_model_name": "FloatProgressModel",
            "_view_count": null,
            "_view_module": "@jupyter-widgets/controls",
            "_view_module_version": "1.5.0",
            "_view_name": "ProgressView",
            "bar_style": "success",
            "description": "",
            "description_tooltip": null,
            "layout": "IPY_MODEL_11099eb12d2a452d81772e7541b811de",
            "max": 466062,
            "min": 0,
            "orientation": "horizontal",
            "style": "IPY_MODEL_b0c45ed3ec03405eae0cd039499c3fd3",
            "value": 466062
          }
        },
        "8abe1759b3944a65b8d7384aa6fffcb9": {
          "model_module": "@jupyter-widgets/controls",
          "model_name": "HTMLModel",
          "model_module_version": "1.5.0",
          "state": {
            "_dom_classes": [],
            "_model_module": "@jupyter-widgets/controls",
            "_model_module_version": "1.5.0",
            "_model_name": "HTMLModel",
            "_view_count": null,
            "_view_module": "@jupyter-widgets/controls",
            "_view_module_version": "1.5.0",
            "_view_name": "HTMLView",
            "description": "",
            "description_tooltip": null,
            "layout": "IPY_MODEL_d57f16b2096f41e9bedfe4f352c8bdaa",
            "placeholder": "​",
            "style": "IPY_MODEL_18195ccedd8b4de48a4b3352671ca798",
            "value": " 466k/466k [00:00&lt;00:00, 1.87MB/s]"
          }
        },
        "6aeb0ba04b6d432cb406526f70b88472": {
          "model_module": "@jupyter-widgets/base",
          "model_name": "LayoutModel",
          "model_module_version": "1.2.0",
          "state": {
            "_model_module": "@jupyter-widgets/base",
            "_model_module_version": "1.2.0",
            "_model_name": "LayoutModel",
            "_view_count": null,
            "_view_module": "@jupyter-widgets/base",
            "_view_module_version": "1.2.0",
            "_view_name": "LayoutView",
            "align_content": null,
            "align_items": null,
            "align_self": null,
            "border": null,
            "bottom": null,
            "display": null,
            "flex": null,
            "flex_flow": null,
            "grid_area": null,
            "grid_auto_columns": null,
            "grid_auto_flow": null,
            "grid_auto_rows": null,
            "grid_column": null,
            "grid_gap": null,
            "grid_row": null,
            "grid_template_areas": null,
            "grid_template_columns": null,
            "grid_template_rows": null,
            "height": null,
            "justify_content": null,
            "justify_items": null,
            "left": null,
            "margin": null,
            "max_height": null,
            "max_width": null,
            "min_height": null,
            "min_width": null,
            "object_fit": null,
            "object_position": null,
            "order": null,
            "overflow": null,
            "overflow_x": null,
            "overflow_y": null,
            "padding": null,
            "right": null,
            "top": null,
            "visibility": null,
            "width": null
          }
        },
        "9f2c4ec037bc47488ce4d15f1b434561": {
          "model_module": "@jupyter-widgets/base",
          "model_name": "LayoutModel",
          "model_module_version": "1.2.0",
          "state": {
            "_model_module": "@jupyter-widgets/base",
            "_model_module_version": "1.2.0",
            "_model_name": "LayoutModel",
            "_view_count": null,
            "_view_module": "@jupyter-widgets/base",
            "_view_module_version": "1.2.0",
            "_view_name": "LayoutView",
            "align_content": null,
            "align_items": null,
            "align_self": null,
            "border": null,
            "bottom": null,
            "display": null,
            "flex": null,
            "flex_flow": null,
            "grid_area": null,
            "grid_auto_columns": null,
            "grid_auto_flow": null,
            "grid_auto_rows": null,
            "grid_column": null,
            "grid_gap": null,
            "grid_row": null,
            "grid_template_areas": null,
            "grid_template_columns": null,
            "grid_template_rows": null,
            "height": null,
            "justify_content": null,
            "justify_items": null,
            "left": null,
            "margin": null,
            "max_height": null,
            "max_width": null,
            "min_height": null,
            "min_width": null,
            "object_fit": null,
            "object_position": null,
            "order": null,
            "overflow": null,
            "overflow_x": null,
            "overflow_y": null,
            "padding": null,
            "right": null,
            "top": null,
            "visibility": null,
            "width": null
          }
        },
        "eaa001bd702a4e418403a36ec036f9ae": {
          "model_module": "@jupyter-widgets/controls",
          "model_name": "DescriptionStyleModel",
          "model_module_version": "1.5.0",
          "state": {
            "_model_module": "@jupyter-widgets/controls",
            "_model_module_version": "1.5.0",
            "_model_name": "DescriptionStyleModel",
            "_view_count": null,
            "_view_module": "@jupyter-widgets/base",
            "_view_module_version": "1.2.0",
            "_view_name": "StyleView",
            "description_width": ""
          }
        },
        "11099eb12d2a452d81772e7541b811de": {
          "model_module": "@jupyter-widgets/base",
          "model_name": "LayoutModel",
          "model_module_version": "1.2.0",
          "state": {
            "_model_module": "@jupyter-widgets/base",
            "_model_module_version": "1.2.0",
            "_model_name": "LayoutModel",
            "_view_count": null,
            "_view_module": "@jupyter-widgets/base",
            "_view_module_version": "1.2.0",
            "_view_name": "LayoutView",
            "align_content": null,
            "align_items": null,
            "align_self": null,
            "border": null,
            "bottom": null,
            "display": null,
            "flex": null,
            "flex_flow": null,
            "grid_area": null,
            "grid_auto_columns": null,
            "grid_auto_flow": null,
            "grid_auto_rows": null,
            "grid_column": null,
            "grid_gap": null,
            "grid_row": null,
            "grid_template_areas": null,
            "grid_template_columns": null,
            "grid_template_rows": null,
            "height": null,
            "justify_content": null,
            "justify_items": null,
            "left": null,
            "margin": null,
            "max_height": null,
            "max_width": null,
            "min_height": null,
            "min_width": null,
            "object_fit": null,
            "object_position": null,
            "order": null,
            "overflow": null,
            "overflow_x": null,
            "overflow_y": null,
            "padding": null,
            "right": null,
            "top": null,
            "visibility": null,
            "width": null
          }
        },
        "b0c45ed3ec03405eae0cd039499c3fd3": {
          "model_module": "@jupyter-widgets/controls",
          "model_name": "ProgressStyleModel",
          "model_module_version": "1.5.0",
          "state": {
            "_model_module": "@jupyter-widgets/controls",
            "_model_module_version": "1.5.0",
            "_model_name": "ProgressStyleModel",
            "_view_count": null,
            "_view_module": "@jupyter-widgets/base",
            "_view_module_version": "1.2.0",
            "_view_name": "StyleView",
            "bar_color": null,
            "description_width": ""
          }
        },
        "d57f16b2096f41e9bedfe4f352c8bdaa": {
          "model_module": "@jupyter-widgets/base",
          "model_name": "LayoutModel",
          "model_module_version": "1.2.0",
          "state": {
            "_model_module": "@jupyter-widgets/base",
            "_model_module_version": "1.2.0",
            "_model_name": "LayoutModel",
            "_view_count": null,
            "_view_module": "@jupyter-widgets/base",
            "_view_module_version": "1.2.0",
            "_view_name": "LayoutView",
            "align_content": null,
            "align_items": null,
            "align_self": null,
            "border": null,
            "bottom": null,
            "display": null,
            "flex": null,
            "flex_flow": null,
            "grid_area": null,
            "grid_auto_columns": null,
            "grid_auto_flow": null,
            "grid_auto_rows": null,
            "grid_column": null,
            "grid_gap": null,
            "grid_row": null,
            "grid_template_areas": null,
            "grid_template_columns": null,
            "grid_template_rows": null,
            "height": null,
            "justify_content": null,
            "justify_items": null,
            "left": null,
            "margin": null,
            "max_height": null,
            "max_width": null,
            "min_height": null,
            "min_width": null,
            "object_fit": null,
            "object_position": null,
            "order": null,
            "overflow": null,
            "overflow_x": null,
            "overflow_y": null,
            "padding": null,
            "right": null,
            "top": null,
            "visibility": null,
            "width": null
          }
        },
        "18195ccedd8b4de48a4b3352671ca798": {
          "model_module": "@jupyter-widgets/controls",
          "model_name": "DescriptionStyleModel",
          "model_module_version": "1.5.0",
          "state": {
            "_model_module": "@jupyter-widgets/controls",
            "_model_module_version": "1.5.0",
            "_model_name": "DescriptionStyleModel",
            "_view_count": null,
            "_view_module": "@jupyter-widgets/base",
            "_view_module_version": "1.2.0",
            "_view_name": "StyleView",
            "description_width": ""
          }
        },
        "c8f881e1668f4e0c8bd68a76cced1859": {
          "model_module": "@jupyter-widgets/controls",
          "model_name": "HBoxModel",
          "model_module_version": "1.5.0",
          "state": {
            "_dom_classes": [],
            "_model_module": "@jupyter-widgets/controls",
            "_model_module_version": "1.5.0",
            "_model_name": "HBoxModel",
            "_view_count": null,
            "_view_module": "@jupyter-widgets/controls",
            "_view_module_version": "1.5.0",
            "_view_name": "HBoxView",
            "box_style": "",
            "children": [
              "IPY_MODEL_bb2f5389c5d0468ea0274bf316d5d27c",
              "IPY_MODEL_73eedcd2b4d740baa7b2de981f728448",
              "IPY_MODEL_bf14e26f5679468a9cc7181b946cfd5d"
            ],
            "layout": "IPY_MODEL_ecf7b614907749319e38ac9a973d7fb4"
          }
        },
        "bb2f5389c5d0468ea0274bf316d5d27c": {
          "model_module": "@jupyter-widgets/controls",
          "model_name": "HTMLModel",
          "model_module_version": "1.5.0",
          "state": {
            "_dom_classes": [],
            "_model_module": "@jupyter-widgets/controls",
            "_model_module_version": "1.5.0",
            "_model_name": "HTMLModel",
            "_view_count": null,
            "_view_module": "@jupyter-widgets/controls",
            "_view_module_version": "1.5.0",
            "_view_name": "HTMLView",
            "description": "",
            "description_tooltip": null,
            "layout": "IPY_MODEL_e2db23e142804baaa9a5edca194af33f",
            "placeholder": "​",
            "style": "IPY_MODEL_d0db5ad35a514e48897d7bbb2bac84ae",
            "value": "config.json: 100%"
          }
        },
        "73eedcd2b4d740baa7b2de981f728448": {
          "model_module": "@jupyter-widgets/controls",
          "model_name": "FloatProgressModel",
          "model_module_version": "1.5.0",
          "state": {
            "_dom_classes": [],
            "_model_module": "@jupyter-widgets/controls",
            "_model_module_version": "1.5.0",
            "_model_name": "FloatProgressModel",
            "_view_count": null,
            "_view_module": "@jupyter-widgets/controls",
            "_view_module_version": "1.5.0",
            "_view_name": "ProgressView",
            "bar_style": "success",
            "description": "",
            "description_tooltip": null,
            "layout": "IPY_MODEL_6510059a293641b2ba1eb792d1cac290",
            "max": 571,
            "min": 0,
            "orientation": "horizontal",
            "style": "IPY_MODEL_484c7cf11f3c422289c857f913de43ea",
            "value": 571
          }
        },
        "bf14e26f5679468a9cc7181b946cfd5d": {
          "model_module": "@jupyter-widgets/controls",
          "model_name": "HTMLModel",
          "model_module_version": "1.5.0",
          "state": {
            "_dom_classes": [],
            "_model_module": "@jupyter-widgets/controls",
            "_model_module_version": "1.5.0",
            "_model_name": "HTMLModel",
            "_view_count": null,
            "_view_module": "@jupyter-widgets/controls",
            "_view_module_version": "1.5.0",
            "_view_name": "HTMLView",
            "description": "",
            "description_tooltip": null,
            "layout": "IPY_MODEL_fff60ad391874316ba9c46d7ad24527c",
            "placeholder": "​",
            "style": "IPY_MODEL_57ea9ee000994fef9e421b6f2859302d",
            "value": " 571/571 [00:00&lt;00:00, 48.2kB/s]"
          }
        },
        "ecf7b614907749319e38ac9a973d7fb4": {
          "model_module": "@jupyter-widgets/base",
          "model_name": "LayoutModel",
          "model_module_version": "1.2.0",
          "state": {
            "_model_module": "@jupyter-widgets/base",
            "_model_module_version": "1.2.0",
            "_model_name": "LayoutModel",
            "_view_count": null,
            "_view_module": "@jupyter-widgets/base",
            "_view_module_version": "1.2.0",
            "_view_name": "LayoutView",
            "align_content": null,
            "align_items": null,
            "align_self": null,
            "border": null,
            "bottom": null,
            "display": null,
            "flex": null,
            "flex_flow": null,
            "grid_area": null,
            "grid_auto_columns": null,
            "grid_auto_flow": null,
            "grid_auto_rows": null,
            "grid_column": null,
            "grid_gap": null,
            "grid_row": null,
            "grid_template_areas": null,
            "grid_template_columns": null,
            "grid_template_rows": null,
            "height": null,
            "justify_content": null,
            "justify_items": null,
            "left": null,
            "margin": null,
            "max_height": null,
            "max_width": null,
            "min_height": null,
            "min_width": null,
            "object_fit": null,
            "object_position": null,
            "order": null,
            "overflow": null,
            "overflow_x": null,
            "overflow_y": null,
            "padding": null,
            "right": null,
            "top": null,
            "visibility": null,
            "width": null
          }
        },
        "e2db23e142804baaa9a5edca194af33f": {
          "model_module": "@jupyter-widgets/base",
          "model_name": "LayoutModel",
          "model_module_version": "1.2.0",
          "state": {
            "_model_module": "@jupyter-widgets/base",
            "_model_module_version": "1.2.0",
            "_model_name": "LayoutModel",
            "_view_count": null,
            "_view_module": "@jupyter-widgets/base",
            "_view_module_version": "1.2.0",
            "_view_name": "LayoutView",
            "align_content": null,
            "align_items": null,
            "align_self": null,
            "border": null,
            "bottom": null,
            "display": null,
            "flex": null,
            "flex_flow": null,
            "grid_area": null,
            "grid_auto_columns": null,
            "grid_auto_flow": null,
            "grid_auto_rows": null,
            "grid_column": null,
            "grid_gap": null,
            "grid_row": null,
            "grid_template_areas": null,
            "grid_template_columns": null,
            "grid_template_rows": null,
            "height": null,
            "justify_content": null,
            "justify_items": null,
            "left": null,
            "margin": null,
            "max_height": null,
            "max_width": null,
            "min_height": null,
            "min_width": null,
            "object_fit": null,
            "object_position": null,
            "order": null,
            "overflow": null,
            "overflow_x": null,
            "overflow_y": null,
            "padding": null,
            "right": null,
            "top": null,
            "visibility": null,
            "width": null
          }
        },
        "d0db5ad35a514e48897d7bbb2bac84ae": {
          "model_module": "@jupyter-widgets/controls",
          "model_name": "DescriptionStyleModel",
          "model_module_version": "1.5.0",
          "state": {
            "_model_module": "@jupyter-widgets/controls",
            "_model_module_version": "1.5.0",
            "_model_name": "DescriptionStyleModel",
            "_view_count": null,
            "_view_module": "@jupyter-widgets/base",
            "_view_module_version": "1.2.0",
            "_view_name": "StyleView",
            "description_width": ""
          }
        },
        "6510059a293641b2ba1eb792d1cac290": {
          "model_module": "@jupyter-widgets/base",
          "model_name": "LayoutModel",
          "model_module_version": "1.2.0",
          "state": {
            "_model_module": "@jupyter-widgets/base",
            "_model_module_version": "1.2.0",
            "_model_name": "LayoutModel",
            "_view_count": null,
            "_view_module": "@jupyter-widgets/base",
            "_view_module_version": "1.2.0",
            "_view_name": "LayoutView",
            "align_content": null,
            "align_items": null,
            "align_self": null,
            "border": null,
            "bottom": null,
            "display": null,
            "flex": null,
            "flex_flow": null,
            "grid_area": null,
            "grid_auto_columns": null,
            "grid_auto_flow": null,
            "grid_auto_rows": null,
            "grid_column": null,
            "grid_gap": null,
            "grid_row": null,
            "grid_template_areas": null,
            "grid_template_columns": null,
            "grid_template_rows": null,
            "height": null,
            "justify_content": null,
            "justify_items": null,
            "left": null,
            "margin": null,
            "max_height": null,
            "max_width": null,
            "min_height": null,
            "min_width": null,
            "object_fit": null,
            "object_position": null,
            "order": null,
            "overflow": null,
            "overflow_x": null,
            "overflow_y": null,
            "padding": null,
            "right": null,
            "top": null,
            "visibility": null,
            "width": null
          }
        },
        "484c7cf11f3c422289c857f913de43ea": {
          "model_module": "@jupyter-widgets/controls",
          "model_name": "ProgressStyleModel",
          "model_module_version": "1.5.0",
          "state": {
            "_model_module": "@jupyter-widgets/controls",
            "_model_module_version": "1.5.0",
            "_model_name": "ProgressStyleModel",
            "_view_count": null,
            "_view_module": "@jupyter-widgets/base",
            "_view_module_version": "1.2.0",
            "_view_name": "StyleView",
            "bar_color": null,
            "description_width": ""
          }
        },
        "fff60ad391874316ba9c46d7ad24527c": {
          "model_module": "@jupyter-widgets/base",
          "model_name": "LayoutModel",
          "model_module_version": "1.2.0",
          "state": {
            "_model_module": "@jupyter-widgets/base",
            "_model_module_version": "1.2.0",
            "_model_name": "LayoutModel",
            "_view_count": null,
            "_view_module": "@jupyter-widgets/base",
            "_view_module_version": "1.2.0",
            "_view_name": "LayoutView",
            "align_content": null,
            "align_items": null,
            "align_self": null,
            "border": null,
            "bottom": null,
            "display": null,
            "flex": null,
            "flex_flow": null,
            "grid_area": null,
            "grid_auto_columns": null,
            "grid_auto_flow": null,
            "grid_auto_rows": null,
            "grid_column": null,
            "grid_gap": null,
            "grid_row": null,
            "grid_template_areas": null,
            "grid_template_columns": null,
            "grid_template_rows": null,
            "height": null,
            "justify_content": null,
            "justify_items": null,
            "left": null,
            "margin": null,
            "max_height": null,
            "max_width": null,
            "min_height": null,
            "min_width": null,
            "object_fit": null,
            "object_position": null,
            "order": null,
            "overflow": null,
            "overflow_x": null,
            "overflow_y": null,
            "padding": null,
            "right": null,
            "top": null,
            "visibility": null,
            "width": null
          }
        },
        "57ea9ee000994fef9e421b6f2859302d": {
          "model_module": "@jupyter-widgets/controls",
          "model_name": "DescriptionStyleModel",
          "model_module_version": "1.5.0",
          "state": {
            "_model_module": "@jupyter-widgets/controls",
            "_model_module_version": "1.5.0",
            "_model_name": "DescriptionStyleModel",
            "_view_count": null,
            "_view_module": "@jupyter-widgets/base",
            "_view_module_version": "1.2.0",
            "_view_name": "StyleView",
            "description_width": ""
          }
        },
        "30150c2536f6477db43c33d7e212089e": {
          "model_module": "@jupyter-widgets/controls",
          "model_name": "HBoxModel",
          "model_module_version": "1.5.0",
          "state": {
            "_dom_classes": [],
            "_model_module": "@jupyter-widgets/controls",
            "_model_module_version": "1.5.0",
            "_model_name": "HBoxModel",
            "_view_count": null,
            "_view_module": "@jupyter-widgets/controls",
            "_view_module_version": "1.5.0",
            "_view_name": "HBoxView",
            "box_style": "",
            "children": [
              "IPY_MODEL_11fd3011aa0c483f9cdd95a4a56378f4",
              "IPY_MODEL_f4cf813418e4407c85fa0918d9cf1b36",
              "IPY_MODEL_515b8ade9e164b299f79cd19fd20fc82"
            ],
            "layout": "IPY_MODEL_026f94bb442e4b96bce00c60556a4138"
          }
        },
        "11fd3011aa0c483f9cdd95a4a56378f4": {
          "model_module": "@jupyter-widgets/controls",
          "model_name": "HTMLModel",
          "model_module_version": "1.5.0",
          "state": {
            "_dom_classes": [],
            "_model_module": "@jupyter-widgets/controls",
            "_model_module_version": "1.5.0",
            "_model_name": "HTMLModel",
            "_view_count": null,
            "_view_module": "@jupyter-widgets/controls",
            "_view_module_version": "1.5.0",
            "_view_name": "HTMLView",
            "description": "",
            "description_tooltip": null,
            "layout": "IPY_MODEL_42daf281d99745d48e96bb165a3dec29",
            "placeholder": "​",
            "style": "IPY_MODEL_07a5460470f649d4b59119cde0520410",
            "value": "model.safetensors: 100%"
          }
        },
        "f4cf813418e4407c85fa0918d9cf1b36": {
          "model_module": "@jupyter-widgets/controls",
          "model_name": "FloatProgressModel",
          "model_module_version": "1.5.0",
          "state": {
            "_dom_classes": [],
            "_model_module": "@jupyter-widgets/controls",
            "_model_module_version": "1.5.0",
            "_model_name": "FloatProgressModel",
            "_view_count": null,
            "_view_module": "@jupyter-widgets/controls",
            "_view_module_version": "1.5.0",
            "_view_name": "ProgressView",
            "bar_style": "success",
            "description": "",
            "description_tooltip": null,
            "layout": "IPY_MODEL_c1ebcbd2dd884cab9c80c8e38c11cd1a",
            "max": 1344951957,
            "min": 0,
            "orientation": "horizontal",
            "style": "IPY_MODEL_6c7323e2207647bd841e25f935bba7f8",
            "value": 1344951957
          }
        },
        "515b8ade9e164b299f79cd19fd20fc82": {
          "model_module": "@jupyter-widgets/controls",
          "model_name": "HTMLModel",
          "model_module_version": "1.5.0",
          "state": {
            "_dom_classes": [],
            "_model_module": "@jupyter-widgets/controls",
            "_model_module_version": "1.5.0",
            "_model_name": "HTMLModel",
            "_view_count": null,
            "_view_module": "@jupyter-widgets/controls",
            "_view_module_version": "1.5.0",
            "_view_name": "HTMLView",
            "description": "",
            "description_tooltip": null,
            "layout": "IPY_MODEL_643235a8f468499b85709cf14203b0eb",
            "placeholder": "​",
            "style": "IPY_MODEL_6cc6aa2d7e6940178faae5cf1ef4db81",
            "value": " 1.34G/1.34G [00:05&lt;00:00, 237MB/s]"
          }
        },
        "026f94bb442e4b96bce00c60556a4138": {
          "model_module": "@jupyter-widgets/base",
          "model_name": "LayoutModel",
          "model_module_version": "1.2.0",
          "state": {
            "_model_module": "@jupyter-widgets/base",
            "_model_module_version": "1.2.0",
            "_model_name": "LayoutModel",
            "_view_count": null,
            "_view_module": "@jupyter-widgets/base",
            "_view_module_version": "1.2.0",
            "_view_name": "LayoutView",
            "align_content": null,
            "align_items": null,
            "align_self": null,
            "border": null,
            "bottom": null,
            "display": null,
            "flex": null,
            "flex_flow": null,
            "grid_area": null,
            "grid_auto_columns": null,
            "grid_auto_flow": null,
            "grid_auto_rows": null,
            "grid_column": null,
            "grid_gap": null,
            "grid_row": null,
            "grid_template_areas": null,
            "grid_template_columns": null,
            "grid_template_rows": null,
            "height": null,
            "justify_content": null,
            "justify_items": null,
            "left": null,
            "margin": null,
            "max_height": null,
            "max_width": null,
            "min_height": null,
            "min_width": null,
            "object_fit": null,
            "object_position": null,
            "order": null,
            "overflow": null,
            "overflow_x": null,
            "overflow_y": null,
            "padding": null,
            "right": null,
            "top": null,
            "visibility": null,
            "width": null
          }
        },
        "42daf281d99745d48e96bb165a3dec29": {
          "model_module": "@jupyter-widgets/base",
          "model_name": "LayoutModel",
          "model_module_version": "1.2.0",
          "state": {
            "_model_module": "@jupyter-widgets/base",
            "_model_module_version": "1.2.0",
            "_model_name": "LayoutModel",
            "_view_count": null,
            "_view_module": "@jupyter-widgets/base",
            "_view_module_version": "1.2.0",
            "_view_name": "LayoutView",
            "align_content": null,
            "align_items": null,
            "align_self": null,
            "border": null,
            "bottom": null,
            "display": null,
            "flex": null,
            "flex_flow": null,
            "grid_area": null,
            "grid_auto_columns": null,
            "grid_auto_flow": null,
            "grid_auto_rows": null,
            "grid_column": null,
            "grid_gap": null,
            "grid_row": null,
            "grid_template_areas": null,
            "grid_template_columns": null,
            "grid_template_rows": null,
            "height": null,
            "justify_content": null,
            "justify_items": null,
            "left": null,
            "margin": null,
            "max_height": null,
            "max_width": null,
            "min_height": null,
            "min_width": null,
            "object_fit": null,
            "object_position": null,
            "order": null,
            "overflow": null,
            "overflow_x": null,
            "overflow_y": null,
            "padding": null,
            "right": null,
            "top": null,
            "visibility": null,
            "width": null
          }
        },
        "07a5460470f649d4b59119cde0520410": {
          "model_module": "@jupyter-widgets/controls",
          "model_name": "DescriptionStyleModel",
          "model_module_version": "1.5.0",
          "state": {
            "_model_module": "@jupyter-widgets/controls",
            "_model_module_version": "1.5.0",
            "_model_name": "DescriptionStyleModel",
            "_view_count": null,
            "_view_module": "@jupyter-widgets/base",
            "_view_module_version": "1.2.0",
            "_view_name": "StyleView",
            "description_width": ""
          }
        },
        "c1ebcbd2dd884cab9c80c8e38c11cd1a": {
          "model_module": "@jupyter-widgets/base",
          "model_name": "LayoutModel",
          "model_module_version": "1.2.0",
          "state": {
            "_model_module": "@jupyter-widgets/base",
            "_model_module_version": "1.2.0",
            "_model_name": "LayoutModel",
            "_view_count": null,
            "_view_module": "@jupyter-widgets/base",
            "_view_module_version": "1.2.0",
            "_view_name": "LayoutView",
            "align_content": null,
            "align_items": null,
            "align_self": null,
            "border": null,
            "bottom": null,
            "display": null,
            "flex": null,
            "flex_flow": null,
            "grid_area": null,
            "grid_auto_columns": null,
            "grid_auto_flow": null,
            "grid_auto_rows": null,
            "grid_column": null,
            "grid_gap": null,
            "grid_row": null,
            "grid_template_areas": null,
            "grid_template_columns": null,
            "grid_template_rows": null,
            "height": null,
            "justify_content": null,
            "justify_items": null,
            "left": null,
            "margin": null,
            "max_height": null,
            "max_width": null,
            "min_height": null,
            "min_width": null,
            "object_fit": null,
            "object_position": null,
            "order": null,
            "overflow": null,
            "overflow_x": null,
            "overflow_y": null,
            "padding": null,
            "right": null,
            "top": null,
            "visibility": null,
            "width": null
          }
        },
        "6c7323e2207647bd841e25f935bba7f8": {
          "model_module": "@jupyter-widgets/controls",
          "model_name": "ProgressStyleModel",
          "model_module_version": "1.5.0",
          "state": {
            "_model_module": "@jupyter-widgets/controls",
            "_model_module_version": "1.5.0",
            "_model_name": "ProgressStyleModel",
            "_view_count": null,
            "_view_module": "@jupyter-widgets/base",
            "_view_module_version": "1.2.0",
            "_view_name": "StyleView",
            "bar_color": null,
            "description_width": ""
          }
        },
        "643235a8f468499b85709cf14203b0eb": {
          "model_module": "@jupyter-widgets/base",
          "model_name": "LayoutModel",
          "model_module_version": "1.2.0",
          "state": {
            "_model_module": "@jupyter-widgets/base",
            "_model_module_version": "1.2.0",
            "_model_name": "LayoutModel",
            "_view_count": null,
            "_view_module": "@jupyter-widgets/base",
            "_view_module_version": "1.2.0",
            "_view_name": "LayoutView",
            "align_content": null,
            "align_items": null,
            "align_self": null,
            "border": null,
            "bottom": null,
            "display": null,
            "flex": null,
            "flex_flow": null,
            "grid_area": null,
            "grid_auto_columns": null,
            "grid_auto_flow": null,
            "grid_auto_rows": null,
            "grid_column": null,
            "grid_gap": null,
            "grid_row": null,
            "grid_template_areas": null,
            "grid_template_columns": null,
            "grid_template_rows": null,
            "height": null,
            "justify_content": null,
            "justify_items": null,
            "left": null,
            "margin": null,
            "max_height": null,
            "max_width": null,
            "min_height": null,
            "min_width": null,
            "object_fit": null,
            "object_position": null,
            "order": null,
            "overflow": null,
            "overflow_x": null,
            "overflow_y": null,
            "padding": null,
            "right": null,
            "top": null,
            "visibility": null,
            "width": null
          }
        },
        "6cc6aa2d7e6940178faae5cf1ef4db81": {
          "model_module": "@jupyter-widgets/controls",
          "model_name": "DescriptionStyleModel",
          "model_module_version": "1.5.0",
          "state": {
            "_model_module": "@jupyter-widgets/controls",
            "_model_module_version": "1.5.0",
            "_model_name": "DescriptionStyleModel",
            "_view_count": null,
            "_view_module": "@jupyter-widgets/base",
            "_view_module_version": "1.2.0",
            "_view_name": "StyleView",
            "description_width": ""
          }
        }
      }
    }
  },
  "nbformat": 4,
  "nbformat_minor": 0
}