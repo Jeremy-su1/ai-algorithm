{
  "nbformat": 4,
  "nbformat_minor": 0,
  "metadata": {
    "colab": {
      "provenance": [],
      "machine_shape": "hm",
      "gpuType": "A100",
      "authorship_tag": "ABX9TyOAWP2L48C7BCI4ZuccsUQq",
      "include_colab_link": true
    },
    "kernelspec": {
      "name": "python3",
      "display_name": "Python 3"
    },
    "language_info": {
      "name": "python"
    },
    "accelerator": "GPU"
  },
  "cells": [
    {
      "cell_type": "markdown",
      "metadata": {
        "id": "view-in-github",
        "colab_type": "text"
      },
      "source": [
        "<a href=\"https://colab.research.google.com/github/Jeremy-su1/ai-algorithm/blob/main/Singlelable_test_result.ipynb\" target=\"_parent\"><img src=\"https://colab.research.google.com/assets/colab-badge.svg\" alt=\"Open In Colab\"/></a>"
      ]
    },
    {
      "cell_type": "code",
      "source": [
        "%%capture\n",
        "!pip install torch\n",
        "!pip install transformers\n",
        "!pip install peft\n",
        "!pip install huggingface_hub\n",
        "!pip install evaluate"
      ],
      "metadata": {
        "id": "lTtCC9KyGF0l"
      },
      "execution_count": 1,
      "outputs": []
    },
    {
      "cell_type": "code",
      "source": [
        "from google.colab import userdata\n",
        "import torch\n",
        "from transformers import AutoTokenizer, AutoModelForSequenceClassification, Trainer, TrainingArguments\n",
        "from peft import get_peft_model, LoraConfig, TaskType  # PEFT 라이브러리 필요\n",
        "import pandas as pd\n",
        "from google.colab import drive\n",
        "from sklearn.metrics import f1_score"
      ],
      "metadata": {
        "id": "h6ofVNHFGJws"
      },
      "execution_count": 2,
      "outputs": []
    },
    {
      "cell_type": "code",
      "source": [
        "import pandas as pd\n",
        "\n",
        "#drive.mount('/content/drive', force_remount=False)\n",
        "test_path = ('/content/drive/MyDrive/DataSet_new/stackexchange_test_dataset_1000_title.csv')\n",
        "df_test = pd.read_csv(test_path)\n",
        "num_labels= len(df_test['label'].unique())\n",
        "\n",
        "#df_test\n",
        "text_test= list(df_test['title_content'])\n",
        "label_test = list(df_test['label'])\n",
        "#test_dataset = generate_dataset(text_test, label_test)"
      ],
      "metadata": {
        "id": "AoWNCDKDig49"
      },
      "execution_count": 4,
      "outputs": []
    },
    {
      "cell_type": "code",
      "execution_count": 15,
      "metadata": {
        "colab": {
          "base_uri": "https://localhost:8080/"
        },
        "id": "BQKwtafzE6oF",
        "outputId": "30856fff-b687-40d8-9491-a4e950f73e87"
      },
      "outputs": [
        {
          "output_type": "stream",
          "name": "stdout",
          "text": [
            "Drive already mounted at /content/drive; to attempt to forcibly remount, call drive.mount(\"/content/drive\", force_remount=True).\n"
          ]
        },
        {
          "output_type": "stream",
          "name": "stderr",
          "text": [
            "/usr/local/lib/python3.10/dist-packages/transformers/models/auto/auto_factory.py:469: FutureWarning: The `use_auth_token` argument is deprecated and will be removed in v5 of Transformers. Please use `token` instead.\n",
            "  warnings.warn(\n",
            "Some weights of LlamaForSequenceClassification were not initialized from the model checkpoint at meta-llama/Llama-3.2-1B and are newly initialized: ['score.weight']\n",
            "You should probably TRAIN this model on a down-stream task to be able to use it for predictions and inference.\n",
            "/usr/local/lib/python3.10/dist-packages/transformers/models/auto/tokenization_auto.py:786: FutureWarning: The `use_auth_token` argument is deprecated and will be removed in v5 of Transformers. Please use `token` instead.\n",
            "  warnings.warn(\n"
          ]
        }
      ],
      "source": [
        "from peft import PeftModel, LoraConfig, get_peft_model\n",
        "drive.mount('/content/drive', force_remount=False)\n",
        "\n",
        "token =userdata.get('Hugging_Face_llama3.2')\n",
        "model_path = 'meta-llama/Llama-3.2-1B'\n",
        "\n",
        "num_labels = num_labels\n",
        "base_model = AutoModelForSequenceClassification.from_pretrained(model_path, num_labels=num_labels, use_auth_token=token)\n",
        "\n",
        "\n",
        "tokenizer = AutoTokenizer.from_pretrained(model_path, use_auth_token=token)\n",
        "tokenizer.pad_token = tokenizer.eos_token\n",
        "base_model.config.pad_token_id = tokenizer.pad_token_id\n",
        "\n",
        "#lora_path = \"/content/drive/MyDrive/single_label/checkpoint_6250\"  # Adjust this path as needed\n",
        "\n",
        "#model = PeftModel.from_pretrained(base_model, lora_path)"
      ]
    },
    {
      "cell_type": "code",
      "source": [],
      "metadata": {
        "id": "mvXgK-w2FOpT"
      },
      "execution_count": null,
      "outputs": []
    },
    {
      "cell_type": "code",
      "source": [
        "import torch\n",
        "\n",
        "# ... (your existing code) ...\n",
        "\n",
        "# 모델을 평가 모드로 설정\n",
        "model = base_model\n",
        "\n",
        "model.eval()\n",
        "model.to('cuda')  # 모델을 명시적으로 GPU로 이동\n",
        "#base_model.eval()\n",
        "#base_model.to('cuda')  # 모델을 명시적으로 GPU로 이동\n",
        "\n",
        "\n",
        "test_encodings = tokenizer(text_test, truncation=True, padding=True, max_length=100, return_tensors=\"pt\")\n",
        "\n",
        "# 예측 수행\n",
        "predictions = []\n",
        "batch_size = 16  # GPU 메모리에 따라 조정\n",
        "num_batches = len(test_encodings['input_ids']) // batch_size + (len(test_encodings['input_ids']) % batch_size != 0)\n",
        "\n",
        "with torch.no_grad():\n",
        "    for i in range(num_batches):\n",
        "        start_idx = i * batch_size\n",
        "        end_idx = min((i + 1) * batch_size, len(test_encodings['input_ids']))\n",
        "\n",
        "        # 각 배치를 GPU로 이동\n",
        "        batch_encodings = {k: v[start_idx:end_idx].to('cuda') for k, v in test_encodings.items()}\n",
        "\n",
        "        # 모델 출력 및 예측 수행\n",
        "        outputs = model(**batch_encodings)\n",
        "        logits = outputs.logits\n",
        "        probs = torch.softmax(logits, dim=1)  # 소프트맥스 함수로 확률 변환\n",
        "        preds = torch.argmax(probs, dim=1)  # 가장 높은 확률의 클래스 선택\n",
        "        predictions.extend(preds.cpu().numpy())  # 결과를 CPU로 이동하여 numpy 배열에 추가"
      ],
      "metadata": {
        "id": "Mkp0DXDKGlgI"
      },
      "execution_count": 16,
      "outputs": []
    },
    {
      "cell_type": "code",
      "source": [
        "import numpy as np\n",
        "from sklearn.metrics import accuracy_score, f1_score, precision_recall_fscore_support\n",
        "import evaluate\n",
        "\n",
        "accuracy_metric = evaluate.load(\"accuracy\")\n",
        "precision_metric = evaluate.load(\"precision\")\n",
        "recall_metric = evaluate.load(\"recall\")\n",
        "f1_metric = evaluate.load(\"f1\")\n",
        "\n",
        "def compute_metrics_test(predictions, labels):\n",
        "\n",
        "    metrics = {\n",
        "        \"accuracy\": accuracy_metric.compute(predictions=predictions, references=labels)[\"accuracy\"],\n",
        "        \"macro_precision\": precision_metric.compute(predictions=predictions, references=labels, average=\"macro\")[\"precision\"],\n",
        "        \"macro_recall\": recall_metric.compute(predictions=predictions, references=labels, average=\"macro\")[\"recall\"],\n",
        "        \"macro_f1\": f1_metric.compute(predictions=predictions, references=labels, average=\"macro\")[\"f1\"],\n",
        "        \"micro_precision\": precision_metric.compute(predictions=predictions, references=labels, average=\"micro\")[\"precision\"],\n",
        "        \"micro_recall\": recall_metric.compute(predictions=predictions, references=labels, average=\"micro\")[\"recall\"],\n",
        "        \"micro_f1\": f1_metric.compute(predictions=predictions, references=labels, average=\"micro\")[\"f1\"],\n",
        "        \"weighted_precision\": precision_metric.compute(predictions=predictions, references=labels, average=\"weighted\")[\"precision\"],\n",
        "        \"weighted_recall\": recall_metric.compute(predictions=predictions, references=labels, average=\"weighted\")[\"recall\"],\n",
        "        \"weighted_f1\": f1_metric.compute(predictions=predictions, references=labels, average=\"weighted\")[\"f1\"],\n",
        "    }\n",
        "    return metrics"
      ],
      "metadata": {
        "id": "wh2axZgPJ7vw"
      },
      "execution_count": 17,
      "outputs": []
    },
    {
      "cell_type": "code",
      "source": [
        "#test_result =compute_metrics_test(predictions, label_test)\n",
        "test_result_2 =compute_metrics_test(predictions, label_test)"
      ],
      "metadata": {
        "id": "CQGNnNVHKKBW"
      },
      "execution_count": 18,
      "outputs": []
    },
    {
      "cell_type": "code",
      "source": [
        "##Baseline result\n",
        "print(test_result_2)"
      ],
      "metadata": {
        "colab": {
          "base_uri": "https://localhost:8080/"
        },
        "id": "ppahHjElOBQL",
        "outputId": "1a66113f-ef4f-41f6-b601-aaa6b18faff0"
      },
      "execution_count": 19,
      "outputs": [
        {
          "output_type": "stream",
          "name": "stdout",
          "text": [
            "{'accuracy': 0.17, 'macro_precision': 0.13426821732430025, 'macro_recall': 0.17, 'macro_f1': 0.1431252763684701, 'micro_precision': 0.17, 'micro_recall': 0.17, 'micro_f1': 0.17, 'weighted_precision': 0.13426821732430022, 'weighted_recall': 0.17, 'weighted_f1': 0.1431252763684701}\n"
          ]
        }
      ]
    },
    {
      "cell_type": "code",
      "source": [],
      "metadata": {
        "id": "9Utsc3wtM96L"
      },
      "execution_count": null,
      "outputs": []
    },
    {
      "cell_type": "markdown",
      "source": [
        "### Trained result"
      ],
      "metadata": {
        "id": "AhEMuHmPNAG3"
      }
    },
    {
      "cell_type": "code",
      "source": [
        "print(test_result)"
      ],
      "metadata": {
        "colab": {
          "base_uri": "https://localhost:8080/"
        },
        "id": "tTKjQ8pkMJ0h",
        "outputId": "c5b07f7a-d8e8-47fc-f1ab-1020029a1c5d"
      },
      "execution_count": 11,
      "outputs": [
        {
          "output_type": "stream",
          "name": "stdout",
          "text": [
            "{'accuracy': 0.978, 'macro_precision': 0.9782915145403924, 'macro_recall': 0.978, 'macro_f1': 0.9779777245401144, 'micro_precision': 0.978, 'micro_recall': 0.978, 'micro_f1': 0.978, 'weighted_precision': 0.9782915145403925, 'weighted_recall': 0.978, 'weighted_f1': 0.9779777245401144}\n"
          ]
        }
      ]
    },
    {
      "cell_type": "code",
      "source": [],
      "metadata": {
        "id": "caGgg5LZMLpl"
      },
      "execution_count": null,
      "outputs": []
    }
  ]
}