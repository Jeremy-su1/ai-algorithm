{
  "nbformat": 4,
  "nbformat_minor": 0,
  "metadata": {
    "colab": {
      "provenance": [],
      "machine_shape": "hm",
      "gpuType": "A100",
      "authorship_tag": "ABX9TyO6AaWWZ6+c6n3pIzscI84K",
      "include_colab_link": true
    },
    "kernelspec": {
      "name": "python3",
      "display_name": "Python 3"
    },
    "language_info": {
      "name": "python"
    },
    "accelerator": "GPU"
  },
  "cells": [
    {
      "cell_type": "markdown",
      "metadata": {
        "id": "view-in-github",
        "colab_type": "text"
      },
      "source": [
        "<a href=\"https://colab.research.google.com/github/Jeremy-su1/ai-algorithm/blob/main/multilable_test_result.ipynb\" target=\"_parent\"><img src=\"https://colab.research.google.com/assets/colab-badge.svg\" alt=\"Open In Colab\"/></a>"
      ]
    },
    {
      "cell_type": "code",
      "source": [
        "%%capture\n",
        "!pip install torch\n",
        "!pip install transformers\n",
        "!pip install peft\n",
        "!pip install huggingface_hub"
      ],
      "metadata": {
        "id": "lTtCC9KyGF0l"
      },
      "execution_count": null,
      "outputs": []
    },
    {
      "cell_type": "code",
      "source": [
        "from google.colab import userdata\n",
        "import torch\n",
        "from transformers import AutoTokenizer, AutoModelForSequenceClassification, Trainer, TrainingArguments\n",
        "from peft import get_peft_model, LoraConfig, TaskType  # PEFT 라이브러리 필요\n",
        "import pandas as pd\n",
        "from google.colab import drive\n",
        "from sklearn.metrics import f1_score"
      ],
      "metadata": {
        "id": "h6ofVNHFGJws"
      },
      "execution_count": null,
      "outputs": []
    },
    {
      "cell_type": "code",
      "execution_count": null,
      "metadata": {
        "colab": {
          "base_uri": "https://localhost:8080/"
        },
        "id": "BQKwtafzE6oF",
        "outputId": "a98e15f0-e836-44a1-937b-2f2580ea489f"
      },
      "outputs": [
        {
          "output_type": "stream",
          "name": "stdout",
          "text": [
            "Drive already mounted at /content/drive; to attempt to forcibly remount, call drive.mount(\"/content/drive\", force_remount=True).\n"
          ]
        },
        {
          "output_type": "stream",
          "name": "stderr",
          "text": [
            "/usr/local/lib/python3.10/dist-packages/transformers/models/auto/auto_factory.py:469: FutureWarning: The `use_auth_token` argument is deprecated and will be removed in v5 of Transformers. Please use `token` instead.\n",
            "  warnings.warn(\n",
            "Some weights of LlamaForSequenceClassification were not initialized from the model checkpoint at meta-llama/Llama-3.2-1B and are newly initialized: ['score.weight']\n",
            "You should probably TRAIN this model on a down-stream task to be able to use it for predictions and inference.\n",
            "/usr/local/lib/python3.10/dist-packages/transformers/models/auto/tokenization_auto.py:786: FutureWarning: The `use_auth_token` argument is deprecated and will be removed in v5 of Transformers. Please use `token` instead.\n",
            "  warnings.warn(\n"
          ]
        }
      ],
      "source": [
        "from peft import PeftModel, LoraConfig, get_peft_model\n",
        "drive.mount('/content/drive', force_remount=False)\n",
        "\n",
        "token =userdata.get('Hugging_Face_llama3.2')\n",
        "model_path = 'meta-llama/Llama-3.2-1B'\n",
        "\n",
        "num_labels = 9 # len(label_names)\n",
        "base_model = AutoModelForSequenceClassification.from_pretrained(model_path, num_labels=num_labels, use_auth_token=token)\n",
        "\n",
        "\n",
        "tokenizer = AutoTokenizer.from_pretrained(model_path, use_auth_token=token)\n",
        "tokenizer.pad_token = tokenizer.eos_token\n",
        "base_model.config.pad_token_id = tokenizer.pad_token_id\n",
        "\n",
        "#lora_path = \"/content/drive/MyDrive/multi_label/checkpoint_12500\"  # Adjust this path as needed\n",
        "\n",
        "#model = AutoModelForSequenceClassification.from_pretrained(\"/content/drive/MyDrive/DataSet_new/lora_model\")\n",
        "#model = PeftModel.from_pretrained(base_model, lora_path)"
      ]
    },
    {
      "cell_type": "code",
      "source": [
        "import pandas as pd\n",
        "\n",
        "#drive.mount('/content/drive', force_remount=False)\n",
        "test_path = ('/content/drive/MyDrive/DataSet_new/rev_tag_test_samples.csv')\n",
        "\n",
        "df_test = pd.read_csv(test_path)\n",
        "label_names = list(df_test.columns[5:])\n",
        "\n",
        "#df_test\n",
        "df_test['text'] = df_test['Title'] + ' ' + df_test['Body']\n",
        "text_test = list(df_test['text'])\n",
        "label_test = list(df_test[label_names].values)"
      ],
      "metadata": {
        "id": "mvXgK-w2FOpT"
      },
      "execution_count": null,
      "outputs": []
    },
    {
      "cell_type": "code",
      "source": [
        "import torch\n",
        "\n",
        "# ... (your existing code) ...\n",
        "\n",
        "# 모델을 평가 모드로 설정\n",
        "model = base_model\n",
        "\n",
        "model.eval()\n",
        "model.to('cuda')  # 모델을 명시적으로 GPU로 이동\n",
        "#base_model.eval()\n",
        "#base_model.to('cuda')  # 모델을 명시적으로 GPU로 이동\n",
        "\n",
        "test_encodings = tokenizer(text_test, truncation=True, padding=True, max_length=512, return_tensors=\"pt\")\n",
        "\n",
        "# 예측 수행\n",
        "predictions = []\n",
        "batch_size = 16 # adjust this based on your available GPU memory\n",
        "num_batches = len(test_encodings['input_ids']) // batch_size + (len(test_encodings['input_ids']) % batch_size != 0)\n",
        "\n",
        "with torch.no_grad():\n",
        "    for i in range(num_batches):\n",
        "        start_idx = i * batch_size\n",
        "        end_idx = min((i + 1) * batch_size, len(test_encodings['input_ids']))\n",
        "\n",
        "        batch_encodings = {k: v[start_idx:end_idx].to('cuda') for k, v in test_encodings.items()}  # Move each batch to GPU\n",
        "\n",
        "        outputs = model(**batch_encodings)\n",
        "        #outputs = base_model(**batch_encodings)\n",
        "\n",
        "        logits = outputs.logits\n",
        "        probs = torch.sigmoid(logits)  # 시그모이드 함수를 사용해 확률로 변환\n",
        "        preds = (probs >= 0.5).int()  # 임계값 0.5 이상일 때 라벨로 간주\n",
        "        predictions.extend(preds.cpu().numpy())  # 결과를 CPU로 이동 and extend predictions list"
      ],
      "metadata": {
        "id": "Mkp0DXDKGlgI"
      },
      "execution_count": null,
      "outputs": []
    },
    {
      "cell_type": "code",
      "source": [
        "import numpy as np\n",
        "from sklearn.metrics import accuracy_score, f1_score, precision_recall_fscore_support\n",
        "\n",
        "def compute_metrics_test(preds,labels):\n",
        "    #labels = pred.label_ids\n",
        "    #preds = pred.predictions >= 0.5  # 시그모이드 출력 후 임계값 0.5 이상일 때 예측으로 분류\n",
        "    preds = np.array(preds)\n",
        "    labels = np.array(labels) # Convert labels to a NumPy array\n",
        "\n",
        "    accuracy = accuracy_score(labels,preds)\n",
        "    precision, recall, f1_score_result, _ = precision_recall_fscore_support(labels,preds, average='micro')\n",
        "    precision_macro, recall_macro, f1_score_result_macro, _ = precision_recall_fscore_support(labels,preds, average='macro')\n",
        "    precision_weighted, recall_weighted, f1_score_result_weighted, _ = precision_recall_fscore_support(labels,preds, average='weighted')\n",
        "\n",
        "    flat_predictions = preds.reshape(-1)\n",
        "    flat_labels = labels.reshape(-1)\n",
        "    flat_accuracy = accuracy_score(flat_labels, flat_predictions)\n",
        "\n",
        "\n",
        "    return {\n",
        "        'flat_accuracy': flat_accuracy,\n",
        "        'accuracy': accuracy,\n",
        "        'micro_precision': precision,\n",
        "        'micro_recall': recall,\n",
        "        'micro_f1': f1_score_result,\n",
        "        'macro_precision': precision_macro,\n",
        "        'macro_recall': recall_macro,\n",
        "        'macro_f1': f1_score_result_macro,\n",
        "        'weighted_precision': precision_weighted,\n",
        "        'weighted_recall': recall_weighted,\n",
        "        'weighted_f1': f1_score_result_weighted,\n",
        "        }"
      ],
      "metadata": {
        "id": "wh2axZgPJ7vw"
      },
      "execution_count": null,
      "outputs": []
    },
    {
      "cell_type": "code",
      "source": [
        "#test_result =compute_metrics_test(predictions, label_test)\n",
        "test_result_2 =compute_metrics_test(predictions, label_test)"
      ],
      "metadata": {
        "id": "CQGNnNVHKKBW"
      },
      "execution_count": null,
      "outputs": []
    },
    {
      "cell_type": "code",
      "source": [
        "##Baseline result\n",
        "print(test_result_2)"
      ],
      "metadata": {
        "colab": {
          "base_uri": "https://localhost:8080/"
        },
        "id": "ppahHjElOBQL",
        "outputId": "4f3ae3a4-d61d-464f-d731-7eb62eae133e"
      },
      "execution_count": null,
      "outputs": [
        {
          "output_type": "stream",
          "name": "stdout",
          "text": [
            "{'flat_accuracy': 0.4247037037037037, 'accuracy': 0.0, 'micro_precision': 0.13760908036858485, 'micro_recall': 0.6167943107221007, 'micro_f1': 0.22501621513745448, 'macro_precision': 0.1468339701616346, 'macro_recall': 0.630494701275153, 'macro_f1': 0.2037179778706396, 'weighted_precision': 0.216496304853086, 'weighted_recall': 0.6167943107221007, 'weighted_f1': 0.2929860463494297}\n"
          ]
        }
      ]
    },
    {
      "cell_type": "code",
      "source": [],
      "metadata": {
        "id": "9Utsc3wtM96L"
      },
      "execution_count": null,
      "outputs": []
    },
    {
      "cell_type": "markdown",
      "source": [
        "### Trained result"
      ],
      "metadata": {
        "id": "AhEMuHmPNAG3"
      }
    },
    {
      "cell_type": "code",
      "source": [
        "print(test_result)"
      ],
      "metadata": {
        "colab": {
          "base_uri": "https://localhost:8080/"
        },
        "id": "tTKjQ8pkMJ0h",
        "outputId": "3c3535b0-fd34-4016-b3e8-423cf1058c91"
      },
      "execution_count": null,
      "outputs": [
        {
          "output_type": "stream",
          "name": "stdout",
          "text": [
            "{'flat_accuracy': 0.9618518518518518, 'accuracy': 0.7103333333333334, 'micro_precision': 0.838053553038105, 'micro_recall': 0.8903172866520788, 'micro_f1': 0.863395225464191, 'macro_precision': 0.7322616668565142, 'macro_recall': 0.892252327889055, 'macro_f1': 0.7855672771899964, 'weighted_precision': 0.8489568014391514, 'weighted_recall': 0.8903172866520788, 'weighted_f1': 0.8670596838207321}\n"
          ]
        }
      ]
    },
    {
      "cell_type": "code",
      "source": [],
      "metadata": {
        "id": "caGgg5LZMLpl"
      },
      "execution_count": null,
      "outputs": []
    }
  ]
}