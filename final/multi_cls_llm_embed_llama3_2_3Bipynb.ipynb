{
  "cells": [
    {
      "cell_type": "markdown",
      "metadata": {
        "id": "view-in-github",
        "colab_type": "text"
      },
      "source": [
        "<a href=\"https://colab.research.google.com/github/Jeremy-su1/ai-algorithm/blob/main/final/multi_cls_llm_embed_llama3_2_3Bipynb.ipynb\" target=\"_parent\"><img src=\"https://colab.research.google.com/assets/colab-badge.svg\" alt=\"Open In Colab\"/></a>"
      ]
    },
    {
      "cell_type": "code",
      "execution_count": null,
      "metadata": {
        "id": "J_KCirLiq6Tg"
      },
      "outputs": [],
      "source": [
        "!pip install torch transformers tqdm datasets"
      ]
    },
    {
      "cell_type": "code",
      "source": [
        "\n",
        "train_path = ('/content/drive/MyDrive/YonseiAI/rev_tag_training_samples.csv')\n",
        "valid_path = ('/content/drive/MyDrive/YonseiAI/rev_tag_validation_samples.csv')"
      ],
      "metadata": {
        "id": "QF0imc8vG4a0"
      },
      "execution_count": null,
      "outputs": []
    },
    {
      "cell_type": "code",
      "execution_count": null,
      "metadata": {
        "id": "2c1vjAOl2vKH"
      },
      "outputs": [],
      "source": [
        "from datasets import load_dataset\n",
        "from google.colab import drive\n",
        "\n",
        "drive.mount('/content/drive', force_remount=False)\n",
        "\n",
        "# 멀티 레이블 데이터셋 로드\n",
        "sof_dataset_train = load_dataset(\n",
        "    'csv',\n",
        "    data_files='/content/drive/MyDrive/YonseiAI/rev_tag_training_samples.csv',\n",
        "    split='train'\n",
        ")\n",
        "\n",
        "# Title과 Body를 결합하여 Body 업데이트\n",
        "def update_body(example):\n",
        "    updated_body = example['Title'] + ' ' + example['Body']\n",
        "    example['Body'] = updated_body\n",
        "    return example\n",
        "\n",
        "# map 함수를 사용하여 모든 데이터에 update_body 함수 적용\n",
        "sof_dataset_train = sof_dataset_train.map(update_body)\n",
        "\n",
        "# # 변경된 데이터셋 출력\n",
        "# print(sof_dataset_train['Title'][0])\n",
        "# print(sof_dataset_train['Body'][0])\n",
        "print(sof_dataset_train)\n",
        "\n",
        "# 레이블 이름으로 구성된 리스트\n",
        "labels = ['Algorithms', 'Backend', 'Data Science', 'Databases', 'Dev Tools', 'Frontend', 'Mobile', 'Systems', 'iOS/macOS']\n",
        "\n",
        "# 레이블 이름을 키로 하고 카운터를 값으로 하는 딕셔너리 생성\n",
        "label_counter = {label: 0 for label in labels}\n",
        "\n",
        "for example in sof_dataset_train:\n",
        "    # 각 샘플에서 0과 1로 표현된 레이블 상태를 이용해 카운트를 업데이트합니다.\n",
        "    for label in labels:\n",
        "        if example[label] == 1:\n",
        "            label_counter[label] += 1\n",
        "\n",
        "print(label_counter)"
      ]
    },
    {
      "cell_type": "code",
      "source": [
        "# UTF-8 로케일 설정을 환경 변수로 지정\n",
        "import os\n",
        "os.environ[\"LANG\"] = \"C.UTF-8\"\n",
        "os.environ[\"LC_ALL\"] = \"C.UTF-8\"\n",
        "\n",
        "# 설치 시 환경 변수 확인\n",
        "!echo $LANG\n",
        "!echo $LC_ALL\n"
      ],
      "metadata": {
        "id": "PzNVkA5VZNXP"
      },
      "execution_count": null,
      "outputs": []
    },
    {
      "cell_type": "code",
      "execution_count": null,
      "metadata": {
        "id": "efy3-uyWPRzG"
      },
      "outputs": [],
      "source": [
        "from datasets import load_dataset\n",
        "\n",
        "# 멀티 레이블 데이터셋 로드\n",
        "sof_dataset_val = load_dataset(\n",
        "    'csv',\n",
        "    data_files='/content/drive/MyDrive/YonseiAI/rev_tag_validation_samples.csv',\n",
        "    split='train'\n",
        ")\n",
        "\n",
        "# Title과 Body를 결합하여 Body 업데이트\n",
        "def update_body(example):\n",
        "    updated_body = example['Title'] + ' ' + example['Body']\n",
        "    example['Body'] = updated_body\n",
        "    return example\n",
        "\n",
        "# map 함수를 사용하여 모든 데이터에 update_body 함수 적용\n",
        "sof_dataset_val = sof_dataset_val.map(update_body)\n",
        "\n",
        "# print(sof_dataset_val['Title'][0])\n",
        "# print(sof_dataset_val['Body'][0])\n",
        "print(sof_dataset_val)\n",
        "\n",
        "# 레이블 이름으로 구성된 리스트\n",
        "labels = ['Algorithms', 'Backend', 'Data Science', 'Databases', 'Dev Tools', 'Frontend', 'Mobile', 'Systems', 'iOS/macOS']\n",
        "\n",
        "# 레이블 이름을 키로 하고 카운터를 값으로 하는 딕셔너리 생성\n",
        "label_counter = {label: 0 for label in labels}\n",
        "\n",
        "for example in sof_dataset_val:\n",
        "    # 각 샘플에서 0과 1로 표현된 레이블 상태를 이용해 카운트를 업데이트합니다.\n",
        "    for label in labels:\n",
        "        if example[label] == 1:\n",
        "            label_counter[label] += 1\n",
        "\n",
        "print(label_counter)"
      ]
    },
    {
      "cell_type": "code",
      "execution_count": null,
      "metadata": {
        "id": "BrS-P_AbPtrI"
      },
      "outputs": [],
      "source": [
        "from transformers import AutoTokenizer\n",
        "from datasets import Dataset, DatasetDict\n",
        "\n",
        "sof_dataset= DatasetDict({\n",
        "    \"train\": sof_dataset_train,\n",
        "    \"test\": sof_dataset_val\n",
        "})\n",
        "\n",
        "# DatasetDict 출력\n",
        "print(sof_dataset)\n"
      ]
    },
    {
      "cell_type": "markdown",
      "metadata": {
        "id": "pajlqRl-rElD"
      },
      "source": [
        "# **1. Llama3.2 3B Embedding**"
      ]
    },
    {
      "cell_type": "code",
      "source": [
        "pip install huggingface_hub\n"
      ],
      "metadata": {
        "id": "HodPHqUwPkWa",
        "colab": {
          "base_uri": "https://localhost:8080/"
        },
        "outputId": "589cb23a-b3ca-4995-d00b-5df16e3bcaf7"
      },
      "execution_count": 14,
      "outputs": [
        {
          "output_type": "stream",
          "name": "stdout",
          "text": [
            "Requirement already satisfied: huggingface_hub in /usr/local/lib/python3.10/dist-packages (0.26.2)\n",
            "Requirement already satisfied: filelock in /usr/local/lib/python3.10/dist-packages (from huggingface_hub) (3.16.1)\n",
            "Requirement already satisfied: fsspec>=2023.5.0 in /usr/local/lib/python3.10/dist-packages (from huggingface_hub) (2024.9.0)\n",
            "Requirement already satisfied: packaging>=20.9 in /usr/local/lib/python3.10/dist-packages (from huggingface_hub) (24.2)\n",
            "Requirement already satisfied: pyyaml>=5.1 in /usr/local/lib/python3.10/dist-packages (from huggingface_hub) (6.0.2)\n",
            "Requirement already satisfied: requests in /usr/local/lib/python3.10/dist-packages (from huggingface_hub) (2.32.3)\n",
            "Requirement already satisfied: tqdm>=4.42.1 in /usr/local/lib/python3.10/dist-packages (from huggingface_hub) (4.66.6)\n",
            "Requirement already satisfied: typing-extensions>=3.7.4.3 in /usr/local/lib/python3.10/dist-packages (from huggingface_hub) (4.12.2)\n",
            "Requirement already satisfied: charset-normalizer<4,>=2 in /usr/local/lib/python3.10/dist-packages (from requests->huggingface_hub) (3.4.0)\n",
            "Requirement already satisfied: idna<4,>=2.5 in /usr/local/lib/python3.10/dist-packages (from requests->huggingface_hub) (3.10)\n",
            "Requirement already satisfied: urllib3<3,>=1.21.1 in /usr/local/lib/python3.10/dist-packages (from requests->huggingface_hub) (2.2.3)\n",
            "Requirement already satisfied: certifi>=2017.4.17 in /usr/local/lib/python3.10/dist-packages (from requests->huggingface_hub) (2024.8.30)\n"
          ]
        }
      ]
    },
    {
      "cell_type": "code",
      "source": [
        "!huggingface-cli login\n"
      ],
      "metadata": {
        "id": "Ed6tPz2iPmAn",
        "colab": {
          "base_uri": "https://localhost:8080/"
        },
        "outputId": "82e27154-780a-46a1-8ab4-8d726a06467c"
      },
      "execution_count": 15,
      "outputs": [
        {
          "output_type": "stream",
          "name": "stdout",
          "text": [
            "\n",
            "    _|    _|  _|    _|    _|_|_|    _|_|_|  _|_|_|  _|      _|    _|_|_|      _|_|_|_|    _|_|      _|_|_|  _|_|_|_|\n",
            "    _|    _|  _|    _|  _|        _|          _|    _|_|    _|  _|            _|        _|    _|  _|        _|\n",
            "    _|_|_|_|  _|    _|  _|  _|_|  _|  _|_|    _|    _|  _|  _|  _|  _|_|      _|_|_|    _|_|_|_|  _|        _|_|_|\n",
            "    _|    _|  _|    _|  _|    _|  _|    _|    _|    _|    _|_|  _|    _|      _|        _|    _|  _|        _|\n",
            "    _|    _|    _|_|      _|_|_|    _|_|_|  _|_|_|  _|      _|    _|_|_|      _|        _|    _|    _|_|_|  _|_|_|_|\n",
            "\n",
            "    To log in, `huggingface_hub` requires a token generated from https://huggingface.co/settings/tokens .\n",
            "Enter your token (input will not be visible): \n",
            "Add token as git credential? (Y/n) n\n",
            "Token is valid (permission: fineGrained).\n",
            "The token `embedllama3b` has been saved to /root/.cache/huggingface/stored_tokens\n",
            "Your token has been saved to /root/.cache/huggingface/token\n",
            "Login successful.\n",
            "The current active token is: `embedllama3b`\n"
          ]
        }
      ]
    },
    {
      "cell_type": "code",
      "source": [
        "from google.colab import drive\n",
        "drive.mount('/content/drive')\n"
      ],
      "metadata": {
        "id": "iHrBeCwershs",
        "colab": {
          "base_uri": "https://localhost:8080/"
        },
        "outputId": "29ed0827-b30f-4d76-eb28-dce761e14a86"
      },
      "execution_count": 7,
      "outputs": [
        {
          "output_type": "stream",
          "name": "stdout",
          "text": [
            "Mounted at /content/drive\n"
          ]
        }
      ]
    },
    {
      "cell_type": "code",
      "execution_count": null,
      "metadata": {
        "id": "QEROSUSlrDwU",
        "colab": {
          "base_uri": "https://localhost:8080/",
          "height": 627,
          "referenced_widgets": [
            "31a1000b04ef45b1b929be1172d061a7",
            "c0f93908645840688f25a1890b52ba90",
            "bd70df0f344e47dc89116f88dae8a38f",
            "6fa7b954a579430f9819d06b1f06a492",
            "d8061743430442f5b329f5782ab6b665",
            "f6ecca993aaf456a95464157c85dd418",
            "725ed39306d94a408028530aa573be5c",
            "ddeb261aa57c4dabb197310d51f5f6b3",
            "5eedc5de4a5446b6b2c4abcce73a9e48",
            "c289d487b3f94c539da8d1d0b79c0876",
            "b88e484b4cf04d05b8d2d0da89ce95f9",
            "773b9bc09886435fb45b75f216e37763",
            "eb4b63871c8240c68a0e872067c8a971",
            "884bfc0806eb414d8b8f60519d2eceb0",
            "bcc4f95b7e874e878f61aea212ddbba0",
            "6d0625ce28904627a2534baf8c640363",
            "667016aeea6a40f1a29bf0dadb6539c0",
            "349509c3693a4e8a99b26242e581b999",
            "fa37ff53ab0348cbb922bc1b66349777",
            "d62a6f2c58d54e76906eb87dbf00f813",
            "95a6d5b2f4fa4867b7d31e7771459543",
            "0e4a039d2e0e4cc29fa7e30703350eb3",
            "a3716a5997634646ac27c6c6f861cdc6",
            "994b22befcff4fb1aad5293218d037ae",
            "86144ae513a048ee9b68e3f8f35b2440",
            "c0ea0819bffd48089cce1991e73a7663",
            "a0dd8ecc876c47d8b8738b1c1ca9f617",
            "b6ca0fc777984361b2f8e422d436a487",
            "f59b25570f3144b0a58ce1a9b81d0d64",
            "85d2d53fa73445928a1b1074ff898f55",
            "7e3a4a94ce2d459ca83732cc01212468",
            "426c3d287be64916962e90b673ecf020",
            "d7599bce231946b38c645ea118eade53",
            "37ef9617efab40b0985b59a4f1d6f94e",
            "6502e062bb904d4fa5f4a264ce65dce5",
            "6358f9dffbbc4a3986adc08d426d372a",
            "d7032818821447059945fbf8a5f9e4a8",
            "78c47a50c9984381854bd37f5475dc01",
            "3273fba4edba4282ab470c9e87802971",
            "80b934dba7554e34b2ec1e819187fdb5",
            "6e34d8b7f93b4f3fbf81197d6291ab5a",
            "09d7b08bbd504788abdff3dc75d82b80",
            "6e21f53e093a47f691090a037b465017",
            "1b11fd11e0334e6e994e8ee6e6d7a5f2",
            "32d9374690174d06a51744349c3a224d",
            "5aed936f700041d99ae9db0fbe6c21d1",
            "2143d48c904c4698bcac7c92ba24e5b8",
            "b96a9a9c7fac42a7aa86e2c91db308fd",
            "ad06b6a64a4946938f6367704122d6c3",
            "5bb644f817ec408da0fa3748966b099f",
            "c43e7627ef844a16a0928481bb602c76",
            "5b3477f7d3d749f7843095d98f83276d",
            "9e96d756647f4705b8084ea0ece26f12",
            "608e5ea687704ef9aa68c67da1a9ffbf",
            "34b0e5e94ab34322a0d60c7d2bea880b",
            "deeb1880d56a40e5956de6de475bacdd",
            "798724599ddd4e22afd18c8b1da375b5",
            "965d376c072c439589a783b4d429cca4",
            "6c19273e24264447b78bf274cd3e9127",
            "a72fb0b04e624c69af989cafe17450d6",
            "2ec76af0c48544a1bdc79f74d8d4d7ec",
            "32c18f0168804c5caf4d7ace8f010229",
            "477c4304e9684fd68841592f6f28487b",
            "e3c3bf29dbba47e1ad316f46c2203585",
            "0a572dac23f843709afefd480c0779be",
            "76d1fa24313142c8812a4b1b6335d384",
            "6dcc2a56067e4b908c9c2e34eadfd64b",
            "f6112220a08e45d7881147e89352dbc8",
            "080ed7c88a414b3cbe73afe0f89f33f5",
            "ae7f9d1679c44531b3c667f0c52639c7",
            "173b05f2774c4c84b90517156fea2cc7",
            "7fa843d0a9c64bfbb6dc552b959e3d24",
            "7bf2a659553f44ac852578b1b8a72e5b",
            "fa77fb98d93245ee93279201dfca8f71",
            "c532aa0ebcf449c7bf9949caa6ef4bba",
            "bfc2a6b4ce5240f7aa707823edbf7ea8",
            "9764de0d91e64c9ab57ddbd14d4146ab",
            "b7883175fed0452b9950e1aff320eafb",
            "373ad44a4ca94e018922c049dc5425b4",
            "ab2bb02bbe8a49be837887635e1592a4",
            "0bf4c10bcc7049a7906b6e2650e4b9df",
            "1b46235e11ae4e1cbb8a7cc8fc89f517",
            "6a8872e017944b619c262a00e3a2862d",
            "012fb64c62da43818a9db01b838079e3",
            "ac02fac0371644bca850ab28328a2183",
            "309cdce7c6db49cd927c030bc66b0f3c",
            "01f24812f90b489e9ef3c0f1be594af9",
            "0f0d4a0c14af4507973566f284825e94",
            "cd629cdaeed741bd8b44d35c3fb9e054",
            "c8b6e426d5d14fff868cb82244739dad",
            "e08fe2964fa44c9b9dedfa2918294fb7",
            "c5778fdcee514c7cb8a053b33068cabc",
            "4d0c93b2d4d94fba89ed28121093fb81",
            "1a1fafd8155d4c63afac3585a39b7498",
            "0c382ea81e2a46ff97a5f81d4cb5d816",
            "aceba234868944589fed76aa3205048e",
            "e149c7d039e34c20b3a9037208997a42",
            "cb9148741646488d945dbe57eef09d90",
            "d272ff65551843b2aded224cb5fda037",
            "b04ca26c73e44003861bb63b256c0086",
            "b901f952e4c04edb81e8b1e094f2a75f",
            "9a3d209cecc244babcdf076881297b85",
            "29a2e1d001f6401cbd2b290893dbd97c",
            "a0207f3cbbe44d33ae0c9c8675c39d7b",
            "3026cf44ede04690a6959d6560e45b38",
            "e13e70c4ca3a4723bf1700c789615ab1",
            "44cc3c1dc27b4861aafd028410e679c7",
            "99ad319faa9947259c0d2b0d8cc12771",
            "69ad8bab1b954e53b95920c81adcee4a",
            "078846ca212e4c5fa13e6eeefe143f68",
            "89abc092efdc49418976a95b2638b893",
            "eb6931ebe44b462eb3a399c1d224f0ee",
            "7bc297cef86f427381ce1f3a65edfe46",
            "d15aff7f18fb405eac8b30b80658b737",
            "345fa802a9044fa0a61c07e3c128b2d1",
            "61618cfb9b65464f83d6a4d07ae05b00",
            "3492ad5feba1466885455321af7bc174",
            "8e6ceef59e484a66b413cec8d8b7dcda",
            "3f22de3fb3934885ab8ff22bd1a19a68",
            "b37e9abd2250443fbe59fe0f96f200e6",
            "165ccfb7f3844c79a35ecffc1bb48515"
          ]
        },
        "outputId": "56571df0-845d-467b-eac8-e9fdda0eee17"
      },
      "outputs": [
        {
          "output_type": "stream",
          "name": "stderr",
          "text": [
            "/usr/local/lib/python3.10/dist-packages/huggingface_hub/utils/_auth.py:94: UserWarning: \n",
            "The secret `HF_TOKEN` does not exist in your Colab secrets.\n",
            "To authenticate with the Hugging Face Hub, create a token in your settings tab (https://huggingface.co/settings/tokens), set it as secret in your Google Colab and restart your session.\n",
            "You will be able to reuse this secret in all of your notebooks.\n",
            "Please note that authentication is recommended but still optional to access public models or datasets.\n",
            "  warnings.warn(\n"
          ]
        },
        {
          "output_type": "display_data",
          "data": {
            "text/plain": [
              "tokenizer_config.json:   0%|          | 0.00/50.5k [00:00<?, ?B/s]"
            ],
            "application/vnd.jupyter.widget-view+json": {
              "version_major": 2,
              "version_minor": 0,
              "model_id": "31a1000b04ef45b1b929be1172d061a7"
            }
          },
          "metadata": {}
        },
        {
          "output_type": "display_data",
          "data": {
            "text/plain": [
              "tokenizer.json:   0%|          | 0.00/9.09M [00:00<?, ?B/s]"
            ],
            "application/vnd.jupyter.widget-view+json": {
              "version_major": 2,
              "version_minor": 0,
              "model_id": "773b9bc09886435fb45b75f216e37763"
            }
          },
          "metadata": {}
        },
        {
          "output_type": "display_data",
          "data": {
            "text/plain": [
              "special_tokens_map.json:   0%|          | 0.00/301 [00:00<?, ?B/s]"
            ],
            "application/vnd.jupyter.widget-view+json": {
              "version_major": 2,
              "version_minor": 0,
              "model_id": "a3716a5997634646ac27c6c6f861cdc6"
            }
          },
          "metadata": {}
        },
        {
          "output_type": "display_data",
          "data": {
            "text/plain": [
              "config.json:   0%|          | 0.00/844 [00:00<?, ?B/s]"
            ],
            "application/vnd.jupyter.widget-view+json": {
              "version_major": 2,
              "version_minor": 0,
              "model_id": "37ef9617efab40b0985b59a4f1d6f94e"
            }
          },
          "metadata": {}
        },
        {
          "output_type": "display_data",
          "data": {
            "text/plain": [
              "model.safetensors.index.json:   0%|          | 0.00/20.9k [00:00<?, ?B/s]"
            ],
            "application/vnd.jupyter.widget-view+json": {
              "version_major": 2,
              "version_minor": 0,
              "model_id": "32d9374690174d06a51744349c3a224d"
            }
          },
          "metadata": {}
        },
        {
          "output_type": "display_data",
          "data": {
            "text/plain": [
              "Downloading shards:   0%|          | 0/2 [00:00<?, ?it/s]"
            ],
            "application/vnd.jupyter.widget-view+json": {
              "version_major": 2,
              "version_minor": 0,
              "model_id": "deeb1880d56a40e5956de6de475bacdd"
            }
          },
          "metadata": {}
        },
        {
          "output_type": "display_data",
          "data": {
            "text/plain": [
              "model-00001-of-00002.safetensors:   0%|          | 0.00/4.97G [00:00<?, ?B/s]"
            ],
            "application/vnd.jupyter.widget-view+json": {
              "version_major": 2,
              "version_minor": 0,
              "model_id": "6dcc2a56067e4b908c9c2e34eadfd64b"
            }
          },
          "metadata": {}
        },
        {
          "output_type": "display_data",
          "data": {
            "text/plain": [
              "model-00002-of-00002.safetensors:   0%|          | 0.00/1.46G [00:00<?, ?B/s]"
            ],
            "application/vnd.jupyter.widget-view+json": {
              "version_major": 2,
              "version_minor": 0,
              "model_id": "b7883175fed0452b9950e1aff320eafb"
            }
          },
          "metadata": {}
        },
        {
          "output_type": "stream",
          "name": "stderr",
          "text": [
            "/usr/local/lib/python3.10/dist-packages/transformers/generation/configuration_utils.py:774: UserWarning: `return_dict_in_generate` is NOT set to `True`, but `output_hidden_states` is. When `return_dict_in_generate` is not `True`, `output_hidden_states` is ignored.\n",
            "  warnings.warn(\n"
          ]
        },
        {
          "output_type": "display_data",
          "data": {
            "text/plain": [
              "Loading checkpoint shards:   0%|          | 0/2 [00:00<?, ?it/s]"
            ],
            "application/vnd.jupyter.widget-view+json": {
              "version_major": 2,
              "version_minor": 0,
              "model_id": "cd629cdaeed741bd8b44d35c3fb9e054"
            }
          },
          "metadata": {}
        },
        {
          "output_type": "display_data",
          "data": {
            "text/plain": [
              "generation_config.json:   0%|          | 0.00/185 [00:00<?, ?B/s]"
            ],
            "application/vnd.jupyter.widget-view+json": {
              "version_major": 2,
              "version_minor": 0,
              "model_id": "b04ca26c73e44003861bb63b256c0086"
            }
          },
          "metadata": {}
        },
        {
          "output_type": "stream",
          "name": "stderr",
          "text": [
            "100%|██████████| 4000/4000 [14:49<00:00,  4.50it/s]\n"
          ]
        },
        {
          "output_type": "stream",
          "name": "stdout",
          "text": [
            "torch.Size([20000, 5, 3072])\n",
            "torch.Size([20000, 9])\n"
          ]
        },
        {
          "output_type": "display_data",
          "data": {
            "text/plain": [
              "Loading checkpoint shards:   0%|          | 0/2 [00:00<?, ?it/s]"
            ],
            "application/vnd.jupyter.widget-view+json": {
              "version_major": 2,
              "version_minor": 0,
              "model_id": "89abc092efdc49418976a95b2638b893"
            }
          },
          "metadata": {}
        },
        {
          "output_type": "stream",
          "name": "stderr",
          "text": [
            "100%|██████████| 1300/1300 [04:48<00:00,  4.51it/s]\n"
          ]
        },
        {
          "output_type": "stream",
          "name": "stdout",
          "text": [
            "torch.Size([6500, 5, 3072])\n",
            "torch.Size([6500, 9])\n"
          ]
        }
      ],
      "source": [
        "# -*- coding: utf-8 -*-\n",
        "import os\n",
        "import torch\n",
        "from transformers import AutoConfig, AutoModelForCausalLM, AutoTokenizer\n",
        "from tqdm import trange\n",
        "import pandas as pd\n",
        "\n",
        "def rep_extract(task, mode, device, sents, labels, max_len, step):\n",
        "    model_id = \"meta-llama/Llama-3.2-3B\"  # 3B 모델로 변경\n",
        "\n",
        "    # 인증 토큰 없이 토크나이저 로드 (CLI 로그인 사용)\n",
        "    tokenizer = AutoTokenizer.from_pretrained(model_id)\n",
        "    tokenizer.pad_token = tokenizer.eos_token\n",
        "\n",
        "    config_kwargs = {\n",
        "        \"trust_remote_code\": True,\n",
        "        \"cache_dir\": None,\n",
        "        \"revision\": 'main',\n",
        "        \"output_hidden_states\": True\n",
        "    }\n",
        "    model_config = AutoConfig.from_pretrained(model_id, **config_kwargs)\n",
        "    model = AutoModelForCausalLM.from_pretrained(\n",
        "        model_id,\n",
        "        trust_remote_code=True,\n",
        "        config=model_config,\n",
        "        device_map=device,\n",
        "        torch_dtype=torch.float16\n",
        "    )\n",
        "    model.eval()\n",
        "\n",
        "    sents_reps = []\n",
        "    for idx in trange(0, len(sents), step):\n",
        "        idx_end = idx + step\n",
        "        if idx_end > len(sents):\n",
        "            idx_end = len(sents)\n",
        "        sents_batch = sents[idx: idx_end]\n",
        "\n",
        "        sents_batch_encoding = tokenizer(sents_batch, return_tensors='pt', max_length=max_len, padding=\"max_length\", truncation=True)\n",
        "        sents_batch_encoding = sents_batch_encoding.to(device)\n",
        "\n",
        "        with torch.no_grad():\n",
        "            batch_outputs = model(**sents_batch_encoding, output_hidden_states=True)\n",
        "            reps_batch_5L = []\n",
        "            for layer in range(-1, -6, -1):\n",
        "                reps_batch_5L.append(torch.mean(batch_outputs.hidden_states[layer], axis=1))\n",
        "            reps_batch_5L = torch.stack(reps_batch_5L, axis=1)\n",
        "\n",
        "        sents_reps.append(reps_batch_5L.cpu())\n",
        "    sents_reps = torch.cat(sents_reps)\n",
        "\n",
        "    # 멀티 레이블 데이터를 처리하기 위한 레이블 로직 수정\n",
        "    labels = torch.tensor(labels, dtype=torch.float32)\n",
        "\n",
        "    print(sents_reps.shape)\n",
        "    print(labels.shape)\n",
        "    path = f'/content/drive/MyDrive/YonseiAI/llama3_2/{task}/dataset_tensor/'\n",
        "    if not os.path.exists(path):\n",
        "        os.makedirs(path)\n",
        "    torch.save(sents_reps.to('cpu'), path + f'{mode}_sents.pt')\n",
        "    torch.save(labels, path + f'{mode}_labels.pt')\n",
        "\n",
        "if __name__ == '__main__':\n",
        "    cuda_no = 0  # GPU 번호\n",
        "    task = 'stackoverflow'  # Task 이름\n",
        "    device = torch.device(\"cuda\" if torch.cuda.is_available() else \"cpu\")\n",
        "\n",
        "    # 레이블에 해당하는 컬럼 이름 목록\n",
        "    label_cols = ['Algorithms', 'Backend', 'Data Science', 'Databases', 'Dev Tools', 'Frontend', 'Mobile', 'Systems', 'iOS/macOS']\n",
        "\n",
        "    # 데이터셋이 Pandas DataFrame이라고 가정하고, 'Body' 컬럼과 레이블 컬럼들을 추출\n",
        "    train_df = pd.DataFrame(sof_dataset['train'])\n",
        "    test_df = pd.DataFrame(sof_dataset['test'])\n",
        "\n",
        "    # 텍스트 데이터 추출\n",
        "    train_sents = train_df['Body'].tolist()\n",
        "    test_sents = test_df['Body'].tolist()\n",
        "\n",
        "    # 레이블 데이터 추출 (NumPy 배열로 변환)\n",
        "    train_labels = train_df[label_cols].values.tolist()\n",
        "    test_labels = test_df[label_cols].values.tolist()\n",
        "\n",
        "    # train 및 test 데이터를 파일로 저장\n",
        "    rep_extract(task, 'train', device, train_sents, train_labels, max_len=1024, step=5)\n",
        "    rep_extract(task, 'test', device, test_sents, test_labels,  max_len=1024, step=5)\n"
      ]
    },
    {
      "cell_type": "markdown",
      "metadata": {
        "id": "-HCtn5GnrX9F"
      },
      "source": [
        "# **2. BERT Embedding**"
      ]
    },
    {
      "cell_type": "code",
      "execution_count": null,
      "metadata": {
        "id": "5tKd2aArrYt1",
        "colab": {
          "base_uri": "https://localhost:8080/",
          "height": 288,
          "referenced_widgets": [
            "7d579538c201444992f88bc5fdc64e18",
            "71dc7572a230410ca4314abf4b3d2358",
            "10a6e444d932401a9c1dc0c1da8356c2",
            "f71b1cac666e4e968cfe720119d0767e",
            "9bb2830c021b4218bc97abdabed69374",
            "92ccd4fe465e455889b3ff9211b15eb4",
            "23b8bc4c48654227a6f03d7813ea2f6d",
            "7c318f535f1f4853b94dcfd805d9321c",
            "fe074b32883c4711a43d6bd1011867cc",
            "d6cc5b64576547519868b34b40893dd6",
            "0f4f98de140d457dbdc7d63568c41aee",
            "28f6511f145c4c18b5102d97445367c0",
            "56b5c84a9c7a431f9f188d8c0a1eca90",
            "b7df4e09249d423db0be537e62b2eb4f",
            "764eaee318f14b8aa03c5f74054d5e6d",
            "ffb27aebb11e4638b4433855f169e2c1",
            "efa4969ef56b4eb982e937cf215b1e4e",
            "fe5bc9f78769443fa50eb59e3fbe8ced",
            "dceeabb5a81a4f6a961c97163c2b54aa",
            "2ed9ecb41eec4ac090295f0f24a1f355",
            "83d32f529a194e6a9c566f2b32c5d24e",
            "f0c8cf9952bf40d0b5a0838f3667d027",
            "4ba589f60d944a43ab125b7c63ffb63e",
            "a1660e51d6a242bfb6dd53873857e7eb",
            "7c0621ff4a484f33b316555db330465c",
            "c41ed3a213924147a0d7a236f6c36a41",
            "c70fde634258472a9974d9b517a8f9c6",
            "ececca6a18fc483ba391f20ee8a78cc9",
            "56f432df3454440db5aa98dd29dd6089",
            "c99bbba048b049d29ec8a60b8a1a42dc",
            "bf6283c4adcf4923bf9b79b6d6f45448",
            "145b2b94f79641b9aadd7d6770a86bcb",
            "4de5dcf4c78b4b7187c78d9d207b34c7",
            "c71a3de754d044ab81a358456da22831",
            "ad49f02620294171b83d304add2ac0e6",
            "8ca89e055ccd467cbec768046129b6d7",
            "f5200599bb4040629f8d15e77ecd7bf4",
            "eae1c017fffc435c81e161270283fc17",
            "ab04dd893a7d4937882a48f5c3aed67e",
            "dbf6bbed17df4ea3bec779f1d11e8740",
            "ef06acc9427944a4b53a25c648a5842c",
            "77ebd7fd02354271be5454873f0b11c5",
            "a2e25c591ca24181b3d4fcf5912276fe",
            "9da1717e06ee4c028392f1d099adc236",
            "71aff69a78a449fdbc086a81f0946c6a",
            "53fe8ce0d887469ca4488a72c94360cc",
            "578bf05f343d450db42924d761d3c551",
            "772ff6f2d162409db3faeb6db2a776de",
            "2dfca90ee8ee4d2e8048a06eeda19f9c",
            "d6e0dadffb824a1d8d210e72e2f4aa5e",
            "701dd6f1fb26402f9723bce9da06ae51",
            "acc08bd975494a7c9658a274da7bf7d4",
            "51adb3640e67420e956efee7e4d73306",
            "ec46ed256dc3428ab95500dbe6916c83",
            "1577fd5d858946e2aefac648a5deb915"
          ]
        },
        "outputId": "ca88d24f-0328-4388-f9c2-99b486687021"
      },
      "outputs": [
        {
          "output_type": "display_data",
          "data": {
            "text/plain": [
              "tokenizer_config.json:   0%|          | 0.00/48.0 [00:00<?, ?B/s]"
            ],
            "application/vnd.jupyter.widget-view+json": {
              "version_major": 2,
              "version_minor": 0,
              "model_id": "7d579538c201444992f88bc5fdc64e18"
            }
          },
          "metadata": {}
        },
        {
          "output_type": "display_data",
          "data": {
            "text/plain": [
              "vocab.txt:   0%|          | 0.00/232k [00:00<?, ?B/s]"
            ],
            "application/vnd.jupyter.widget-view+json": {
              "version_major": 2,
              "version_minor": 0,
              "model_id": "28f6511f145c4c18b5102d97445367c0"
            }
          },
          "metadata": {}
        },
        {
          "output_type": "display_data",
          "data": {
            "text/plain": [
              "tokenizer.json:   0%|          | 0.00/466k [00:00<?, ?B/s]"
            ],
            "application/vnd.jupyter.widget-view+json": {
              "version_major": 2,
              "version_minor": 0,
              "model_id": "4ba589f60d944a43ab125b7c63ffb63e"
            }
          },
          "metadata": {}
        },
        {
          "output_type": "display_data",
          "data": {
            "text/plain": [
              "config.json:   0%|          | 0.00/571 [00:00<?, ?B/s]"
            ],
            "application/vnd.jupyter.widget-view+json": {
              "version_major": 2,
              "version_minor": 0,
              "model_id": "c71a3de754d044ab81a358456da22831"
            }
          },
          "metadata": {}
        },
        {
          "output_type": "display_data",
          "data": {
            "text/plain": [
              "model.safetensors:   0%|          | 0.00/1.34G [00:00<?, ?B/s]"
            ],
            "application/vnd.jupyter.widget-view+json": {
              "version_major": 2,
              "version_minor": 0,
              "model_id": "71aff69a78a449fdbc086a81f0946c6a"
            }
          },
          "metadata": {}
        },
        {
          "output_type": "stream",
          "name": "stderr",
          "text": [
            "100%|██████████| 2000/2000 [08:06<00:00,  4.11it/s]\n"
          ]
        },
        {
          "output_type": "stream",
          "name": "stdout",
          "text": [
            "torch.Size([20000, 1024])\n",
            "torch.Size([20000, 9])\n"
          ]
        },
        {
          "output_type": "stream",
          "name": "stderr",
          "text": [
            "100%|██████████| 650/650 [02:36<00:00,  4.16it/s]\n"
          ]
        },
        {
          "output_type": "stream",
          "name": "stdout",
          "text": [
            "torch.Size([6500, 1024])\n",
            "torch.Size([6500, 9])\n"
          ]
        }
      ],
      "source": [
        "# -*- coding: utf-8 -*-\n",
        "import os\n",
        "import torch\n",
        "from transformers import BertTokenizer, BertModel\n",
        "from tqdm import trange\n",
        "from datasets import load_dataset\n",
        "import argparse\n",
        "\n",
        "def rep_extract(task, mode, device, sents, labels):\n",
        "    model_path = 'google-bert/bert-large-uncased'\n",
        "    tokenizer = BertTokenizer.from_pretrained(model_path)\n",
        "    model = BertModel.from_pretrained(model_path).to(device)\n",
        "    model.eval()\n",
        "\n",
        "    max_len = 512\n",
        "    sents_reps = []\n",
        "    step = 10\n",
        "    for idx in trange(0, len(sents), step):\n",
        "        idx_end = idx + step\n",
        "        if idx_end > len(sents):\n",
        "            idx_end = len(sents)\n",
        "        sents_batch = sents[idx: idx_end]\n",
        "\n",
        "        sents_batch_encoding = tokenizer(sents_batch, return_tensors='pt', max_length=max_len, padding=\"max_length\", truncation=True)\n",
        "        sents_batch_encoding = sents_batch_encoding.to(device)\n",
        "\n",
        "        with torch.no_grad():\n",
        "            batch_outputs = model(**sents_batch_encoding)\n",
        "            reps_batch = batch_outputs.pooler_output\n",
        "        sents_reps.append(reps_batch.cpu())\n",
        "    sents_reps = torch.cat(sents_reps)\n",
        "\n",
        "    # 멀티 레이블 데이터를 처리하기 위한 레이블 로직 수정\n",
        "    labels = torch.tensor(labels, dtype=torch.float32)\n",
        "\n",
        "    print(sents_reps.shape)\n",
        "    print(labels.shape)\n",
        "    path = f'/content/drive/MyDrive/YonseiAI/bert/{task}/dataset_tensor/'\n",
        "    if not os.path.exists(path):\n",
        "        os.makedirs(path)\n",
        "    torch.save(sents_reps.to('cpu'), path + f'{mode}_sents.pt')\n",
        "    torch.save(labels, path + f'{mode}_labels.pt')\n",
        "\n",
        "if __name__ == '__main__':\n",
        "\n",
        "    cuda_no = 0 # GPU 번호\n",
        "    task = 'stackoverflow' # Task 이름\n",
        "    device = torch.device(\"cuda\" if torch.cuda.is_available() else \"cpu\")\n",
        "\n",
        "    # 레이블에 해당하는 컬럼 이름 목록\n",
        "    label_cols = ['Algorithms', 'Backend', 'Data Science', 'Databases', 'Dev Tools', 'Frontend', 'Mobile', 'Systems', 'iOS/macOS']\n",
        "\n",
        "    # 데이터셋이 Pandas DataFrame이라고 가정하고, 'Body' 컬럼과 레이블 컬럼들을 추출\n",
        "    train_df = pd.DataFrame(sof_dataset['train'])\n",
        "    test_df = pd.DataFrame(sof_dataset['test'])\n",
        "\n",
        "    # 텍스트 데이터 추출\n",
        "    train_sents = train_df['Body'].tolist()\n",
        "    test_sents = test_df['Body'].tolist()\n",
        "\n",
        "    # 레이블 데이터 추출 (NumPy 배열로 변환)\n",
        "    train_labels = train_df[label_cols].values.tolist()\n",
        "    test_labels = test_df[label_cols].values.tolist()\n",
        "\n",
        "    rep_extract(task, 'train', device, train_sents, train_labels)\n",
        "    rep_extract(task, 'test', device, test_sents, test_labels)"
      ]
    },
    {
      "cell_type": "markdown",
      "metadata": {
        "id": "18rwf1W1rbnG"
      },
      "source": [
        "# **3. Roberta Embedding**"
      ]
    },
    {
      "cell_type": "code",
      "execution_count": null,
      "metadata": {
        "id": "xnenUSXvrcWz",
        "colab": {
          "base_uri": "https://localhost:8080/",
          "height": 394,
          "referenced_widgets": [
            "94285776d9224204a541bebfef133536",
            "87832406a31c4e04b8975e11b1b52511",
            "1cab6225535642e6bb82f7262eb76d3d",
            "e63a7ddd92b243ada45a646475b215f1",
            "8f3dde99b9414f68a82f4647662eb141",
            "406a4a8f389a46ad8e5eb107b93d6788",
            "1c762fe3d8fe460ea69ac21f3b884994",
            "2e8a1ab347bf4d06a9563263c62f97d7",
            "a2c11a9f22e949269817658bda7bd34a",
            "54802b8f724e4ebf85d8bda67c759e6c",
            "b3d5a0fb35414dd2871851dad28c8c47",
            "95580bf5991944c995a7d07b162a2eb4",
            "338b8cdc36a443dc801fecdb2d163a49",
            "46089274d23c4e019bfe014c0d18a3bf",
            "186ddddcca7847a9af5c433852245537",
            "cf8557aec2354b139c517b5c7d652365",
            "d7064dccf485484b9ebaae5bc225cff7",
            "0194067ff85a48e98b05db7c9a5509aa",
            "c7b05f40d6c04a49a42e9593032cc056",
            "a8cc39f7945140a194c22c8b9479212b",
            "187ff62609e9455095b7f85b45fe048b",
            "21e635019c3d45a3a0fbea1f8d5fd4ae",
            "7a954c0c1662463783c9435c5f2820d5",
            "7fd0ee74bd1f4be0b6d441ea75ed7fe2",
            "01fe6d69022a4552971cfee439cf6ffd",
            "faff449329434f39a97cec010eb6f507",
            "99744ab480ed453aa26918ff0582e518",
            "2f462da5486849f9b739b764b255f4a3",
            "c762f698e11f4f36ae5526ae5f11a049",
            "44550dce55c3469bbbd1465f1f5464f8",
            "d485adad47ea48bb9fd7083cb6d2644d",
            "56cc751c64b1424cbbf2a5700705345d",
            "a87d0dd4dfcc4b20ba16b261f08be628",
            "f0303c20ef8740c6847333adf025b3e2",
            "fea16c2c808b4b40b807076f0980e417",
            "42f0968a395946ab8b690b313cbab4f5",
            "4ddfa788e3ab47d0944ae00a6ce18cf7",
            "97a8a6bcc0c244de9173e68ce3e9c242",
            "a58d93c3d4f04c4bbf81c28a2ab78a1e",
            "cf265364acb44ba7bc9b1169c28f71db",
            "eb0749f99add495196649f9e43ac05ce",
            "4cc612f0589449c4a09e11e2450759f2",
            "0836ff3dbb39458688d97cf25d5ed9d3",
            "515a1d14dbea4acc9e383a6187d94c52",
            "fbf6a173c21e4ec8a2be5f5726d963d3",
            "d7e3ff11ed36455198a12781553a65f6",
            "95e5d7720dc24253b68309ff6f896780",
            "5f40f29f22df45e7946c9e6c2c8b5871",
            "b1baab71ce5643d8a346440658a27916",
            "337b53ff2ddc4fababf41c768200bee0",
            "1e1f7f3268de4153af0791cec4071b5d",
            "d65fef6b60d248c38c947a9f8bc11d20",
            "64fab6a1186048499ab46c91540e5f89",
            "f8d75b8a7a664bc38bbbb7970f981370",
            "97a1b2be6d3e46eda12b67fd7e0e7703",
            "1459d542688946dcb3e8ed39e6619d75",
            "4501f90af972438aa3fcb77f8dd619a9",
            "1f815a5c619f47efb8255eeb980be5e4",
            "0513614bfaf149f1848d19331a0978af",
            "1d59af6a57084904bd04d0b4d9ef8834",
            "20dcdf434f7f43009312167e2eef79c0",
            "34bf12b99d2d4f4a87401fed19abe6d0",
            "c1e83def48644007a0abaa55958cf877",
            "b5a0ba1086c043c29f1596f0d9ed2e5c",
            "657e736062c7475db0bb71bece8e6b92",
            "19dcbacda98541c0af79d1c2dd81aff6"
          ]
        },
        "outputId": "03195228-e5ff-488a-a9ca-ca0232319e1c"
      },
      "outputs": [
        {
          "output_type": "display_data",
          "data": {
            "text/plain": [
              "tokenizer_config.json:   0%|          | 0.00/25.0 [00:00<?, ?B/s]"
            ],
            "application/vnd.jupyter.widget-view+json": {
              "version_major": 2,
              "version_minor": 0,
              "model_id": "94285776d9224204a541bebfef133536"
            }
          },
          "metadata": {}
        },
        {
          "output_type": "display_data",
          "data": {
            "text/plain": [
              "vocab.json:   0%|          | 0.00/899k [00:00<?, ?B/s]"
            ],
            "application/vnd.jupyter.widget-view+json": {
              "version_major": 2,
              "version_minor": 0,
              "model_id": "95580bf5991944c995a7d07b162a2eb4"
            }
          },
          "metadata": {}
        },
        {
          "output_type": "display_data",
          "data": {
            "text/plain": [
              "merges.txt:   0%|          | 0.00/456k [00:00<?, ?B/s]"
            ],
            "application/vnd.jupyter.widget-view+json": {
              "version_major": 2,
              "version_minor": 0,
              "model_id": "7a954c0c1662463783c9435c5f2820d5"
            }
          },
          "metadata": {}
        },
        {
          "output_type": "display_data",
          "data": {
            "text/plain": [
              "tokenizer.json:   0%|          | 0.00/1.36M [00:00<?, ?B/s]"
            ],
            "application/vnd.jupyter.widget-view+json": {
              "version_major": 2,
              "version_minor": 0,
              "model_id": "f0303c20ef8740c6847333adf025b3e2"
            }
          },
          "metadata": {}
        },
        {
          "output_type": "display_data",
          "data": {
            "text/plain": [
              "config.json:   0%|          | 0.00/482 [00:00<?, ?B/s]"
            ],
            "application/vnd.jupyter.widget-view+json": {
              "version_major": 2,
              "version_minor": 0,
              "model_id": "fbf6a173c21e4ec8a2be5f5726d963d3"
            }
          },
          "metadata": {}
        },
        {
          "output_type": "display_data",
          "data": {
            "text/plain": [
              "model.safetensors:   0%|          | 0.00/1.42G [00:00<?, ?B/s]"
            ],
            "application/vnd.jupyter.widget-view+json": {
              "version_major": 2,
              "version_minor": 0,
              "model_id": "1459d542688946dcb3e8ed39e6619d75"
            }
          },
          "metadata": {}
        },
        {
          "output_type": "stream",
          "name": "stderr",
          "text": [
            "Some weights of RobertaModel were not initialized from the model checkpoint at roberta-large and are newly initialized: ['roberta.pooler.dense.bias', 'roberta.pooler.dense.weight']\n",
            "You should probably TRAIN this model on a down-stream task to be able to use it for predictions and inference.\n",
            "100%|██████████| 2000/2000 [07:20<00:00,  4.54it/s]\n"
          ]
        },
        {
          "output_type": "stream",
          "name": "stdout",
          "text": [
            "torch.Size([20000, 1024])\n",
            "torch.Size([20000, 9])\n"
          ]
        },
        {
          "output_type": "stream",
          "name": "stderr",
          "text": [
            "Some weights of RobertaModel were not initialized from the model checkpoint at roberta-large and are newly initialized: ['roberta.pooler.dense.bias', 'roberta.pooler.dense.weight']\n",
            "You should probably TRAIN this model on a down-stream task to be able to use it for predictions and inference.\n",
            "100%|██████████| 650/650 [02:23<00:00,  4.54it/s]\n"
          ]
        },
        {
          "output_type": "stream",
          "name": "stdout",
          "text": [
            "torch.Size([6500, 1024])\n",
            "torch.Size([6500, 9])\n"
          ]
        }
      ],
      "source": [
        "# -*- coding: utf-8 -*-\n",
        "import os\n",
        "import torch\n",
        "from transformers import RobertaTokenizer, RobertaModel\n",
        "from tqdm import trange\n",
        "from datasets import load_dataset\n",
        "\n",
        "def rep_extract(task, mode, device, sents, labels):\n",
        "    model_path = 'roberta-large'\n",
        "    tokenizer = RobertaTokenizer.from_pretrained(model_path)\n",
        "    model = RobertaModel.from_pretrained(model_path).to(device)\n",
        "    model.eval()\n",
        "\n",
        "    max_len = 512\n",
        "    sents_reps = []\n",
        "    step = 10  # 작은 배치 크기로 설정하는 것이 좋습니다, 메모리 오류를 방지하기 위해\n",
        "    for idx in trange(0, len(sents), step):\n",
        "        idx_end = idx + step\n",
        "        if idx_end > len(sents):\n",
        "            idx_end = len(sents)\n",
        "        sents_batch = sents[idx: idx_end]\n",
        "\n",
        "        sents_batch_encoding = tokenizer(sents_batch, return_tensors='pt', max_length=max_len, padding=\"max_length\", truncation=True)\n",
        "        sents_batch_encoding = sents_batch_encoding.to(device)\n",
        "\n",
        "        with torch.no_grad():\n",
        "            batch_outputs = model(**sents_batch_encoding)\n",
        "            # 첫 번째 토큰([CLS] 토큰에 해당)의 표현을 추출\n",
        "            reps_batch = batch_outputs.last_hidden_state[:, 0, :]\n",
        "        sents_reps.append(reps_batch.cpu())\n",
        "    sents_reps = torch.cat(sents_reps)\n",
        "\n",
        "    # 멀티 레이블 데이터를 처리하기 위한 레이블 로직 수정\n",
        "    labels = torch.tensor(labels, dtype=torch.float32)\n",
        "\n",
        "    print(sents_reps.shape)\n",
        "    print(labels.shape)\n",
        "    path = f'/content/drive/MyDrive/YonseiAI/roberta/{task}/dataset_tensor/'\n",
        "    if not os.path.exists(path):\n",
        "        os.makedirs(path)\n",
        "    torch.save(sents_reps.to('cpu'), path + f'{mode}_sents.pt')\n",
        "    torch.save(labels, path + f'{mode}_labels.pt')\n",
        "\n",
        "if __name__ == '__main__':\n",
        "    cuda_no = 0 # GPU 번호\n",
        "    task = 'stackoverflow' # Task 이름\n",
        "\n",
        "    device = torch.device(\"cuda\" if torch.cuda.is_available() else \"cpu\")\n",
        "\n",
        "    device = torch.device(\"cuda\" if torch.cuda.is_available() else \"cpu\")\n",
        "\n",
        "    # 레이블에 해당하는 컬럼 이름 목록\n",
        "    label_cols = ['Algorithms', 'Backend', 'Data Science', 'Databases', 'Dev Tools', 'Frontend', 'Mobile', 'Systems', 'iOS/macOS']\n",
        "\n",
        "    # 데이터셋이 Pandas DataFrame이라고 가정하고, 'Body' 컬럼과 레이블 컬럼들을 추출\n",
        "    train_df = pd.DataFrame(sof_dataset['train'])\n",
        "    test_df = pd.DataFrame(sof_dataset['test'])\n",
        "\n",
        "    # 텍스트 데이터 추출\n",
        "    train_sents = train_df['Body'].tolist()\n",
        "    test_sents = test_df['Body'].tolist()\n",
        "\n",
        "    # 레이블 데이터 추출 (NumPy 배열로 변환)\n",
        "    train_labels = train_df[label_cols].values.tolist()\n",
        "    test_labels = test_df[label_cols].values.tolist()\n",
        "\n",
        "    rep_extract(task, 'train', device, train_sents, train_labels)\n",
        "    rep_extract(task, 'test', device, test_sents, test_labels)\n"
      ]
    },
    {
      "cell_type": "markdown",
      "metadata": {
        "id": "fpnHNhPOrfYv"
      },
      "source": [
        "# **4. Dataset 정의**"
      ]
    },
    {
      "cell_type": "code",
      "execution_count": 1,
      "metadata": {
        "id": "BPg5PFpLrgDh"
      },
      "outputs": [],
      "source": [
        "import torch\n",
        "from torch.utils.data import Dataset, DataLoader\n",
        "\n",
        "class MyDataset(Dataset):\n",
        "\n",
        "    # 4개의 텐서 파일을 가져옴\n",
        "    def __init__(self, mode, l_path, b_path, r_path):\n",
        "        self.l_sents_reps = torch.load(l_path + f'{mode}_sents.pt')\n",
        "        self.b_sents_reps = torch.load(b_path + f'{mode}_sents.pt')\n",
        "        self.r_sents_reps = torch.load(r_path + f'{mode}_sents.pt')\n",
        "\n",
        "        self.labels = torch.load(l_path + f'{mode}_labels.pt')\n",
        "\n",
        "        self.sample_num = self.labels.shape[0]\n",
        "\n",
        "    # 인덱스를 받아 해당 샘플의 데이터를 반환하는 메소드\n",
        "    def __getitem__(self, index):\n",
        "        return self.l_sents_reps[index], self.b_sents_reps[index], self.r_sents_reps[index], self.labels[index]\n",
        "\n",
        "    # 데이터셋의 총 샘플 수를 반환하는 메소드\n",
        "    def __len__(self):\n",
        "        return self.sample_num"
      ]
    },
    {
      "cell_type": "markdown",
      "source": [
        "# * Model Operation - 검증셋 테스트"
      ],
      "metadata": {
        "id": "QvL7UU-8l1YB"
      }
    },
    {
      "cell_type": "code",
      "source": [
        "\n",
        "import wandb\n",
        "\n",
        "# wandb 초기화 (API 키가 환경 변수에 설정되어 있어야 함)\n",
        "# wandb.init(project=\"my_project\", entity=\"my_entity\", name=\"my_experiment\")\n",
        "wandb.init(project=\"Multi output classification\", entity =\"ai_expert\", name = \"llm_embed_llama3_2_3B\") # Uncomment to use wandb\n",
        "\n"
      ],
      "metadata": {
        "id": "HvZY-9v1T0f_",
        "colab": {
          "base_uri": "https://localhost:8080/",
          "height": 234
        },
        "outputId": "c3d65044-c16d-439b-f31b-7786741e9974"
      },
      "execution_count": 2,
      "outputs": [
        {
          "output_type": "stream",
          "name": "stderr",
          "text": [
            "\u001b[34m\u001b[1mwandb\u001b[0m: Using wandb-core as the SDK backend.  Please refer to https://wandb.me/wandb-core for more information.\n"
          ]
        },
        {
          "output_type": "display_data",
          "data": {
            "text/plain": [
              "<IPython.core.display.Javascript object>"
            ],
            "application/javascript": [
              "\n",
              "        window._wandbApiKey = new Promise((resolve, reject) => {\n",
              "            function loadScript(url) {\n",
              "            return new Promise(function(resolve, reject) {\n",
              "                let newScript = document.createElement(\"script\");\n",
              "                newScript.onerror = reject;\n",
              "                newScript.onload = resolve;\n",
              "                document.body.appendChild(newScript);\n",
              "                newScript.src = url;\n",
              "            });\n",
              "            }\n",
              "            loadScript(\"https://cdn.jsdelivr.net/npm/postmate/build/postmate.min.js\").then(() => {\n",
              "            const iframe = document.createElement('iframe')\n",
              "            iframe.style.cssText = \"width:0;height:0;border:none\"\n",
              "            document.body.appendChild(iframe)\n",
              "            const handshake = new Postmate({\n",
              "                container: iframe,\n",
              "                url: 'https://wandb.ai/authorize'\n",
              "            });\n",
              "            const timeout = setTimeout(() => reject(\"Couldn't auto authenticate\"), 5000)\n",
              "            handshake.then(function(child) {\n",
              "                child.on('authorize', data => {\n",
              "                    clearTimeout(timeout)\n",
              "                    resolve(data)\n",
              "                });\n",
              "            });\n",
              "            })\n",
              "        });\n",
              "    "
            ]
          },
          "metadata": {}
        },
        {
          "output_type": "stream",
          "name": "stderr",
          "text": [
            "\u001b[34m\u001b[1mwandb\u001b[0m: Logging into wandb.ai. (Learn how to deploy a W&B server locally: https://wandb.me/wandb-server)\n",
            "\u001b[34m\u001b[1mwandb\u001b[0m: You can find your API key in your browser here: https://wandb.ai/authorize\n",
            "wandb: Paste an API key from your profile and hit enter, or press ctrl+c to quit:"
          ]
        },
        {
          "name": "stdout",
          "output_type": "stream",
          "text": [
            " ··········\n"
          ]
        },
        {
          "output_type": "stream",
          "name": "stderr",
          "text": [
            "\u001b[34m\u001b[1mwandb\u001b[0m: Appending key for api.wandb.ai to your netrc file: /root/.netrc\n"
          ]
        },
        {
          "output_type": "display_data",
          "data": {
            "text/plain": [
              "<IPython.core.display.HTML object>"
            ],
            "text/html": [
              "Tracking run with wandb version 0.18.6"
            ]
          },
          "metadata": {}
        },
        {
          "output_type": "display_data",
          "data": {
            "text/plain": [
              "<IPython.core.display.HTML object>"
            ],
            "text/html": [
              "Run data is saved locally in <code>/content/wandb/run-20241113_080649-h4uxteqr</code>"
            ]
          },
          "metadata": {}
        },
        {
          "output_type": "display_data",
          "data": {
            "text/plain": [
              "<IPython.core.display.HTML object>"
            ],
            "text/html": [
              "Syncing run <strong><a href='https://wandb.ai/ai_expert/Multi%20output%20classification/runs/h4uxteqr' target=\"_blank\">llm_embed_llama3_2_3B</a></strong> to <a href='https://wandb.ai/ai_expert/Multi%20output%20classification' target=\"_blank\">Weights & Biases</a> (<a href='https://wandb.me/developer-guide' target=\"_blank\">docs</a>)<br/>"
            ]
          },
          "metadata": {}
        },
        {
          "output_type": "display_data",
          "data": {
            "text/plain": [
              "<IPython.core.display.HTML object>"
            ],
            "text/html": [
              " View project at <a href='https://wandb.ai/ai_expert/Multi%20output%20classification' target=\"_blank\">https://wandb.ai/ai_expert/Multi%20output%20classification</a>"
            ]
          },
          "metadata": {}
        },
        {
          "output_type": "display_data",
          "data": {
            "text/plain": [
              "<IPython.core.display.HTML object>"
            ],
            "text/html": [
              " View run at <a href='https://wandb.ai/ai_expert/Multi%20output%20classification/runs/h4uxteqr' target=\"_blank\">https://wandb.ai/ai_expert/Multi%20output%20classification/runs/h4uxteqr</a>"
            ]
          },
          "metadata": {}
        },
        {
          "output_type": "execute_result",
          "data": {
            "text/html": [
              "<button onClick=\"this.nextSibling.style.display='block';this.style.display='none';\">Display W&B run</button><iframe src='https://wandb.ai/ai_expert/Multi%20output%20classification/runs/h4uxteqr?jupyter=true' style='border:none;width:100%;height:420px;display:none;'></iframe>"
            ],
            "text/plain": [
              "<wandb.sdk.wandb_run.Run at 0x7b61bfd49c90>"
            ]
          },
          "metadata": {},
          "execution_count": 2
        }
      ]
    },
    {
      "cell_type": "code",
      "source": [
        "!pip install -q evaluate"
      ],
      "metadata": {
        "id": "GVXRDayek2pM",
        "colab": {
          "base_uri": "https://localhost:8080/"
        },
        "outputId": "74432f6f-8247-4345-d1a2-91005c63dedc"
      },
      "execution_count": 3,
      "outputs": [
        {
          "output_type": "stream",
          "name": "stdout",
          "text": [
            "\u001b[?25l   \u001b[90m━━━━━━━━━━━━━━━━━━━━━━━━━━━━━━━━━━━━━━━━\u001b[0m \u001b[32m0.0/84.0 kB\u001b[0m \u001b[31m?\u001b[0m eta \u001b[36m-:--:--\u001b[0m\r\u001b[2K   \u001b[90m━━━━━━━━━━━━━━━━━━━━━━━━━━━━━━━━━━━━━━━━\u001b[0m \u001b[32m84.0/84.0 kB\u001b[0m \u001b[31m4.0 MB/s\u001b[0m eta \u001b[36m0:00:00\u001b[0m\n",
            "\u001b[?25h\u001b[?25l   \u001b[90m━━━━━━━━━━━━━━━━━━━━━━━━━━━━━━━━━━━━━━━━\u001b[0m \u001b[32m0.0/480.6 kB\u001b[0m \u001b[31m?\u001b[0m eta \u001b[36m-:--:--\u001b[0m\r\u001b[2K   \u001b[90m━━━━━━━━━━━━━━━━━━━━━━━━━━━━━━━━━━━━━━━━\u001b[0m \u001b[32m480.6/480.6 kB\u001b[0m \u001b[31m14.4 MB/s\u001b[0m eta \u001b[36m0:00:00\u001b[0m\n",
            "\u001b[2K   \u001b[90m━━━━━━━━━━━━━━━━━━━━━━━━━━━━━━━━━━━━━━━━\u001b[0m \u001b[32m116.3/116.3 kB\u001b[0m \u001b[31m12.1 MB/s\u001b[0m eta \u001b[36m0:00:00\u001b[0m\n",
            "\u001b[2K   \u001b[90m━━━━━━━━━━━━━━━━━━━━━━━━━━━━━━━━━━━━━━━━\u001b[0m \u001b[32m179.3/179.3 kB\u001b[0m \u001b[31m18.2 MB/s\u001b[0m eta \u001b[36m0:00:00\u001b[0m\n",
            "\u001b[2K   \u001b[90m━━━━━━━━━━━━━━━━━━━━━━━━━━━━━━━━━━━━━━━━\u001b[0m \u001b[32m134.8/134.8 kB\u001b[0m \u001b[31m14.4 MB/s\u001b[0m eta \u001b[36m0:00:00\u001b[0m\n",
            "\u001b[2K   \u001b[90m━━━━━━━━━━━━━━━━━━━━━━━━━━━━━━━━━━━━━━━━\u001b[0m \u001b[32m194.1/194.1 kB\u001b[0m \u001b[31m19.0 MB/s\u001b[0m eta \u001b[36m0:00:00\u001b[0m\n",
            "\u001b[?25h\u001b[31mERROR: pip's dependency resolver does not currently take into account all the packages that are installed. This behaviour is the source of the following dependency conflicts.\n",
            "gcsfs 2024.10.0 requires fsspec==2024.10.0, but you have fsspec 2024.9.0 which is incompatible.\u001b[0m\u001b[31m\n",
            "\u001b[0m"
          ]
        }
      ]
    },
    {
      "cell_type": "code",
      "execution_count": 4,
      "metadata": {
        "id": "KioW172jrkLq"
      },
      "outputs": [],
      "source": [
        "import numpy as np\n",
        "import wandb\n",
        "import evaluate\n",
        "from tqdm import tqdm\n",
        "import torch\n",
        "\n",
        "\n",
        "# wandb.init(project=\"huggingface\") # Uncomment to use wandb\n",
        "\n",
        "\n",
        "from sklearn.metrics import accuracy_score, precision_recall_fscore_support\n",
        "\n",
        "def sigmoid(x):\n",
        "    return 1 / (1 + np.exp(-x))\n",
        "\n",
        "def compute_metrics(predictions, references):\n",
        "    # predictions와 references가 PyTorch 텐서라고 가정하고 있습니다.\n",
        "    # 시그모이드 함수 적용 (PyTorch 텐서에 대한 연산)\n",
        "    predictions = torch.sigmoid(predictions)\n",
        "    # 0.5 임계값 적용 및 데이터 타입 변환 (PyTorch 텐서에 대한 연산)\n",
        "    predictions = (predictions > 0.5).int()\n",
        "\n",
        "    # 텐서를 CPU로 이동시키고 NumPy 배열로 변환\n",
        "    predictions = predictions.cpu().numpy()\n",
        "    references = references.cpu().numpy()\n",
        "\n",
        "    # 평가 메트릭 계산\n",
        "    accuracy = accuracy_score(references, predictions)\n",
        "    micro_precision, micro_recall, micro_f1, _ = precision_recall_fscore_support(references, predictions, average='micro')\n",
        "    macro_precision, macro_recall, macro_f1, _ = precision_recall_fscore_support(references, predictions, average='macro')\n",
        "    weighted_precision, weighted_recall, weighted_f1, _ = precision_recall_fscore_support(references, predictions, average='weighted')\n",
        "\n",
        "    # 평탄화된 정확도 계산\n",
        "    flat_predictions = predictions.flatten()\n",
        "    flat_references = references.flatten()\n",
        "    flat_accuracy = accuracy_score(flat_references, flat_predictions)\n",
        "\n",
        "    # 평가 메트릭 반환\n",
        "    return {\n",
        "        'flat_accuracy': flat_accuracy,\n",
        "        'accuracy': accuracy,\n",
        "        'macro_precision': macro_precision,\n",
        "        'macro_recall': macro_recall,\n",
        "        'macro_f1': macro_f1,\n",
        "        'micro_precision': micro_precision,\n",
        "        'micro_recall': micro_recall,\n",
        "        'micro_f1': micro_f1,\n",
        "        'weighted_precision': weighted_precision,\n",
        "        'weighted_recall': weighted_recall,\n",
        "        'weighted_f1': weighted_f1,\n",
        "    }\n",
        "\n",
        "# Training and validation function for multi-label classification\n",
        "def Train_and_Evaluate(dataloader_train, dataloader_val, device, model, loss_fn, optimizer):\n",
        "    # Training\n",
        "    model.train()\n",
        "    total_train_loss = 0\n",
        "    for batch in tqdm(dataloader_train):\n",
        "        batch_l, batch_b, batch_r, batch_y = [item.to(device) for item in batch]\n",
        "        pred = model(batch_l.float(), batch_b.float(), batch_r.float())\n",
        "        loss = loss_fn(pred, batch_y.float())  # Make sure batch_y is a float tensor\n",
        "        total_train_loss += loss.item()\n",
        "\n",
        "        optimizer.zero_grad()\n",
        "        loss.backward()\n",
        "        optimizer.step()\n",
        "\n",
        "    avg_train_loss = total_train_loss / len(dataloader_train)\n",
        "\n",
        "    # Validation\n",
        "    model.eval()\n",
        "    total_val_loss = 0\n",
        "    all_predictions = []\n",
        "    all_references = []\n",
        "    with torch.no_grad():\n",
        "        for batch in tqdm(dataloader_val):\n",
        "            batch_l, batch_b, batch_r, batch_y = [item.to(device) for item in batch]\n",
        "            pred = model(batch_l.float(), batch_b.float(), batch_r.float())\n",
        "            loss = loss_fn(pred, batch_y.float())  # Make sure batch_y is a float tensor\n",
        "            total_val_loss += loss.item()\n",
        "\n",
        "            # Threshold predictions for multi-label classification\n",
        "            pred_y = (torch.sigmoid(pred) > 0.5).int()\n",
        "            all_predictions.append(pred_y)\n",
        "            all_references.append(batch_y)\n",
        "\n",
        "    # Concatenate all predictions and references\n",
        "    all_predictions = torch.cat(all_predictions, dim=0)\n",
        "    all_references = torch.cat(all_references, dim=0)\n",
        "\n",
        "    avg_val_loss = total_val_loss / len(dataloader_val)\n",
        "\n",
        "    # Compute metrics\n",
        "    metrics = compute_metrics(all_predictions, all_references)\n",
        "    metrics = {'eval/' + key: value for key, value in metrics.items()}\n",
        "    metrics['train/loss'] = avg_train_loss\n",
        "    metrics['eval/loss'] = avg_val_loss\n",
        "\n",
        "    if epoch != 0 and epoch % 40 == 0:\n",
        "        adjusted_epoch = epoch // 40  # 'epoch'을 2로 나눈 정수 값\n",
        "        metrics['train/epoch'] = adjusted_epoch\n",
        "        wandb.log(metrics, step=adjusted_epoch)\n",
        "\n",
        "    print({metric: f\"{value:.4f}\" for metric, value in metrics.items()})\n",
        "\n",
        "# Example usage\n",
        "# Train_and_Evaluate(dataloader_train, dataloader_val, device, model, loss_fn, optimizer)"
      ]
    },
    {
      "cell_type": "markdown",
      "metadata": {
        "id": "p6vRn4MErofv"
      },
      "source": [
        "# **6. Downstream Model Class**"
      ]
    },
    {
      "cell_type": "code",
      "execution_count": 11,
      "metadata": {
        "id": "ItevyiXvrpGC"
      },
      "outputs": [],
      "source": [
        "import torch\n",
        "import torch.nn as nn\n",
        "import torch.nn.functional as F\n",
        "\n",
        "class DownstreamModel(nn.Module):\n",
        "    def __init__(self, class_num, SIGMA):\n",
        "        super(DownstreamModel, self).__init__()\n",
        "        self.SIGMA = SIGMA\n",
        "        self.compress_layers = nn.ModuleList()\n",
        "        for _ in range(5):\n",
        "            layers = []\n",
        "            # Changed the input dimension of the first linear layer to 3072\n",
        "            layers.append(nn.Linear(3072, 1024))\n",
        "            layers.append(nn.ReLU())\n",
        "            layers.append(nn.Dropout(0.5))\n",
        "            self.compress_layers.append(nn.Sequential(*layers))\n",
        "\n",
        "\n",
        "        # fc1의 입력 차원을 3121로 변경\n",
        "        self.fc1 = nn.Linear(3121, 1024)\n",
        "        self.relu1 = nn.ReLU()\n",
        "        self.dropout1 = nn.Dropout(0.5)\n",
        "        self.fc2 = nn.Linear(1024, 256)\n",
        "        self.relu2 = nn.ReLU()\n",
        "        self.dropout2 = nn.Dropout(0.5)\n",
        "        self.fc3 = nn.Linear(256, class_num)\n",
        "        # 변경된 부분: softmax 대신 sigmoid 활성화 함수 사용\n",
        "        # self.softmax = nn.Softmax(dim=1)\n",
        "\n",
        "    def forward(self, input_l, input_b, input_r):\n",
        "        batch_size = input_l.shape[0]\n",
        "\n",
        "        # input_l 텐서를 첫 번째 차원을 기준으로 1 크기의 텐서로 분할\n",
        "        split_tensors = torch.split(input_l, 1, dim=1)\n",
        "        input = []\n",
        "\n",
        "        # 분할된 텐서들을 순회\n",
        "        for i, split_tensor in enumerate(split_tensors):\n",
        "            # 각 split_tensor를 배치 크기에 맞게 2차원으로 재구성\n",
        "            split_tensor = split_tensor.reshape(batch_size,-1)\n",
        "            # 재구성된 텐서를 압축(compress) layer를 거쳐 변환\n",
        "            input.append(self.compress_layers[i](split_tensor))\n",
        "\n",
        "        # input_b(bert 임베딩)와 input_r(Roberta 임베딩)을 input에 추가\n",
        "        input.append(input_b)\n",
        "        input.append(input_r)\n",
        "        input = torch.stack(input, dim=1)\n",
        "        # X * X^T\n",
        "        input_T = input.transpose(1, 2)\n",
        "        input_P = torch.matmul(input, input_T)\n",
        "        input_P = input_P.reshape(batch_size, -1)\n",
        "        # PN func\n",
        "        input_P = 2*F.sigmoid(self.SIGMA * input_P) - 1\n",
        "\n",
        "        a = torch.mean(input_l, dim=1)\n",
        "        input = torch.cat([input_P, a], dim=1)\n",
        "\n",
        "        output = self.fc1(input)\n",
        "        output = self.relu1(output)\n",
        "        output = self.dropout1(output)\n",
        "        output = self.fc2(output)\n",
        "        output = self.relu2(output)\n",
        "        output = self.dropout2(output)\n",
        "        output = self.fc3(output)\n",
        "\n",
        "        # 변경된 부분: 각 레이블의 독립적인 확률을 출력하기 위해 sigmoid 함수를 적용\n",
        "        # output = torch.sigmoid(output)\n",
        "\n",
        "        return output\n"
      ]
    },
    {
      "cell_type": "markdown",
      "metadata": {
        "id": "Fm6SAV08rsMr"
      },
      "source": [
        "# **7. Fine-tuning**"
      ]
    },
    {
      "cell_type": "code",
      "execution_count": 12,
      "metadata": {
        "id": "h3hLi4uors8Y",
        "colab": {
          "base_uri": "https://localhost:8080/",
          "height": 1000
        },
        "outputId": "2e7b72b1-5c00-4f66-9f5f-a95a0270da66"
      },
      "outputs": [
        {
          "output_type": "display_data",
          "data": {
            "text/plain": [
              "<IPython.core.display.HTML object>"
            ],
            "text/html": [
              "Finishing last run (ID:agl18izm) before initializing another..."
            ]
          },
          "metadata": {}
        },
        {
          "output_type": "display_data",
          "data": {
            "text/plain": [
              "<IPython.core.display.HTML object>"
            ],
            "text/html": [
              " View run <strong style=\"color:#cdcd00\">llm_embed_llama3_2</strong> at: <a href='https://wandb.ai/ai_expert/Multi%20output%20classification/runs/agl18izm' target=\"_blank\">https://wandb.ai/ai_expert/Multi%20output%20classification/runs/agl18izm</a><br/> View project at: <a href='https://wandb.ai/ai_expert/Multi%20output%20classification' target=\"_blank\">https://wandb.ai/ai_expert/Multi%20output%20classification</a><br/>Synced 5 W&B file(s), 0 media file(s), 0 artifact file(s) and 0 other file(s)"
            ]
          },
          "metadata": {}
        },
        {
          "output_type": "display_data",
          "data": {
            "text/plain": [
              "<IPython.core.display.HTML object>"
            ],
            "text/html": [
              "Find logs at: <code>./wandb/run-20241113_081156-agl18izm/logs</code>"
            ]
          },
          "metadata": {}
        },
        {
          "output_type": "display_data",
          "data": {
            "text/plain": [
              "<IPython.core.display.HTML object>"
            ],
            "text/html": [
              "Successfully finished last run (ID:agl18izm). Initializing new run:<br/>"
            ]
          },
          "metadata": {}
        },
        {
          "output_type": "display_data",
          "data": {
            "text/plain": [
              "<IPython.core.display.HTML object>"
            ],
            "text/html": [
              "Tracking run with wandb version 0.18.6"
            ]
          },
          "metadata": {}
        },
        {
          "output_type": "display_data",
          "data": {
            "text/plain": [
              "<IPython.core.display.HTML object>"
            ],
            "text/html": [
              "Run data is saved locally in <code>/content/wandb/run-20241113_081435-or7s5bhy</code>"
            ]
          },
          "metadata": {}
        },
        {
          "output_type": "display_data",
          "data": {
            "text/plain": [
              "<IPython.core.display.HTML object>"
            ],
            "text/html": [
              "Syncing run <strong><a href='https://wandb.ai/ai_expert/Multi%20output%20classification/runs/or7s5bhy' target=\"_blank\">llm_embed_llama3_2</a></strong> to <a href='https://wandb.ai/ai_expert/Multi%20output%20classification' target=\"_blank\">Weights & Biases</a> (<a href='https://wandb.me/developer-guide' target=\"_blank\">docs</a>)<br/>"
            ]
          },
          "metadata": {}
        },
        {
          "output_type": "display_data",
          "data": {
            "text/plain": [
              "<IPython.core.display.HTML object>"
            ],
            "text/html": [
              " View project at <a href='https://wandb.ai/ai_expert/Multi%20output%20classification' target=\"_blank\">https://wandb.ai/ai_expert/Multi%20output%20classification</a>"
            ]
          },
          "metadata": {}
        },
        {
          "output_type": "display_data",
          "data": {
            "text/plain": [
              "<IPython.core.display.HTML object>"
            ],
            "text/html": [
              " View run at <a href='https://wandb.ai/ai_expert/Multi%20output%20classification/runs/or7s5bhy' target=\"_blank\">https://wandb.ai/ai_expert/Multi%20output%20classification/runs/or7s5bhy</a>"
            ]
          },
          "metadata": {}
        },
        {
          "output_type": "stream",
          "name": "stderr",
          "text": [
            "<ipython-input-1-1ab9f002cd4f>:8: FutureWarning: You are using `torch.load` with `weights_only=False` (the current default value), which uses the default pickle module implicitly. It is possible to construct malicious pickle data which will execute arbitrary code during unpickling (See https://github.com/pytorch/pytorch/blob/main/SECURITY.md#untrusted-models for more details). In a future release, the default value for `weights_only` will be flipped to `True`. This limits the functions that could be executed during unpickling. Arbitrary objects will no longer be allowed to be loaded via this mode unless they are explicitly allowlisted by the user via `torch.serialization.add_safe_globals`. We recommend you start setting `weights_only=True` for any use case where you don't have full control of the loaded file. Please open an issue on GitHub for any issues related to this experimental feature.\n",
            "  self.l_sents_reps = torch.load(l_path + f'{mode}_sents.pt')\n",
            "<ipython-input-1-1ab9f002cd4f>:9: FutureWarning: You are using `torch.load` with `weights_only=False` (the current default value), which uses the default pickle module implicitly. It is possible to construct malicious pickle data which will execute arbitrary code during unpickling (See https://github.com/pytorch/pytorch/blob/main/SECURITY.md#untrusted-models for more details). In a future release, the default value for `weights_only` will be flipped to `True`. This limits the functions that could be executed during unpickling. Arbitrary objects will no longer be allowed to be loaded via this mode unless they are explicitly allowlisted by the user via `torch.serialization.add_safe_globals`. We recommend you start setting `weights_only=True` for any use case where you don't have full control of the loaded file. Please open an issue on GitHub for any issues related to this experimental feature.\n",
            "  self.b_sents_reps = torch.load(b_path + f'{mode}_sents.pt')\n",
            "<ipython-input-1-1ab9f002cd4f>:10: FutureWarning: You are using `torch.load` with `weights_only=False` (the current default value), which uses the default pickle module implicitly. It is possible to construct malicious pickle data which will execute arbitrary code during unpickling (See https://github.com/pytorch/pytorch/blob/main/SECURITY.md#untrusted-models for more details). In a future release, the default value for `weights_only` will be flipped to `True`. This limits the functions that could be executed during unpickling. Arbitrary objects will no longer be allowed to be loaded via this mode unless they are explicitly allowlisted by the user via `torch.serialization.add_safe_globals`. We recommend you start setting `weights_only=True` for any use case where you don't have full control of the loaded file. Please open an issue on GitHub for any issues related to this experimental feature.\n",
            "  self.r_sents_reps = torch.load(r_path + f'{mode}_sents.pt')\n",
            "<ipython-input-1-1ab9f002cd4f>:12: FutureWarning: You are using `torch.load` with `weights_only=False` (the current default value), which uses the default pickle module implicitly. It is possible to construct malicious pickle data which will execute arbitrary code during unpickling (See https://github.com/pytorch/pytorch/blob/main/SECURITY.md#untrusted-models for more details). In a future release, the default value for `weights_only` will be flipped to `True`. This limits the functions that could be executed during unpickling. Arbitrary objects will no longer be allowed to be loaded via this mode unless they are explicitly allowlisted by the user via `torch.serialization.add_safe_globals`. We recommend you start setting `weights_only=True` for any use case where you don't have full control of the loaded file. Please open an issue on GitHub for any issues related to this experimental feature.\n",
            "  self.labels = torch.load(l_path + f'{mode}_labels.pt')\n"
          ]
        },
        {
          "output_type": "stream",
          "name": "stdout",
          "text": [
            "training ...\n",
            "--------------------------- epoch 0 ---------------------------\n"
          ]
        },
        {
          "output_type": "stream",
          "name": "stderr",
          "text": [
            "100%|██████████| 20/20 [00:01<00:00, 18.16it/s]\n",
            "100%|██████████| 7/7 [00:00<00:00, 14.34it/s]\n",
            "/usr/local/lib/python3.10/dist-packages/sklearn/metrics/_classification.py:1531: UndefinedMetricWarning: Precision is ill-defined and being set to 0.0 due to no predicted samples. Use `zero_division` parameter to control this behavior.\n",
            "  _warn_prf(average, modifier, f\"{metric.capitalize()} is\", len(result))\n",
            "/usr/local/lib/python3.10/dist-packages/sklearn/metrics/_classification.py:1531: UndefinedMetricWarning: Precision is ill-defined and being set to 0.0 in labels with no predicted samples. Use `zero_division` parameter to control this behavior.\n",
            "  _warn_prf(average, modifier, f\"{metric.capitalize()} is\", len(result))\n",
            "/usr/local/lib/python3.10/dist-packages/sklearn/metrics/_classification.py:1531: UndefinedMetricWarning: Precision is ill-defined and being set to 0.0 in labels with no predicted samples. Use `zero_division` parameter to control this behavior.\n",
            "  _warn_prf(average, modifier, f\"{metric.capitalize()} is\", len(result))\n"
          ]
        },
        {
          "output_type": "stream",
          "name": "stdout",
          "text": [
            "{'eval/flat_accuracy': '0.8651', 'eval/accuracy': '0.0000', 'eval/macro_precision': '0.0000', 'eval/macro_recall': '0.0000', 'eval/macro_f1': '0.0000', 'eval/micro_precision': '0.0000', 'eval/micro_recall': '0.0000', 'eval/micro_f1': '0.0000', 'eval/weighted_precision': '0.0000', 'eval/weighted_recall': '0.0000', 'eval/weighted_f1': '0.0000', 'train/loss': '0.5293', 'eval/loss': '0.3969'}\n",
            "--------------------------- epoch 1 ---------------------------\n"
          ]
        },
        {
          "output_type": "stream",
          "name": "stderr",
          "text": [
            "100%|██████████| 20/20 [00:00<00:00, 26.93it/s]\n",
            "100%|██████████| 7/7 [00:00<00:00, 15.22it/s]\n",
            "/usr/local/lib/python3.10/dist-packages/sklearn/metrics/_classification.py:1531: UndefinedMetricWarning: Precision is ill-defined and being set to 0.0 due to no predicted samples. Use `zero_division` parameter to control this behavior.\n",
            "  _warn_prf(average, modifier, f\"{metric.capitalize()} is\", len(result))\n",
            "/usr/local/lib/python3.10/dist-packages/sklearn/metrics/_classification.py:1531: UndefinedMetricWarning: Precision is ill-defined and being set to 0.0 in labels with no predicted samples. Use `zero_division` parameter to control this behavior.\n",
            "  _warn_prf(average, modifier, f\"{metric.capitalize()} is\", len(result))\n",
            "/usr/local/lib/python3.10/dist-packages/sklearn/metrics/_classification.py:1531: UndefinedMetricWarning: Precision is ill-defined and being set to 0.0 in labels with no predicted samples. Use `zero_division` parameter to control this behavior.\n",
            "  _warn_prf(average, modifier, f\"{metric.capitalize()} is\", len(result))\n"
          ]
        },
        {
          "output_type": "stream",
          "name": "stdout",
          "text": [
            "{'eval/flat_accuracy': '0.8651', 'eval/accuracy': '0.0000', 'eval/macro_precision': '0.0000', 'eval/macro_recall': '0.0000', 'eval/macro_f1': '0.0000', 'eval/micro_precision': '0.0000', 'eval/micro_recall': '0.0000', 'eval/micro_f1': '0.0000', 'eval/weighted_precision': '0.0000', 'eval/weighted_recall': '0.0000', 'eval/weighted_f1': '0.0000', 'train/loss': '0.4760', 'eval/loss': '0.3864'}\n",
            "--------------------------- epoch 2 ---------------------------\n"
          ]
        },
        {
          "output_type": "stream",
          "name": "stderr",
          "text": [
            "100%|██████████| 20/20 [00:00<00:00, 26.44it/s]\n",
            "100%|██████████| 7/7 [00:00<00:00, 15.01it/s]\n",
            "/usr/local/lib/python3.10/dist-packages/sklearn/metrics/_classification.py:1531: UndefinedMetricWarning: Precision is ill-defined and being set to 0.0 in labels with no predicted samples. Use `zero_division` parameter to control this behavior.\n",
            "  _warn_prf(average, modifier, f\"{metric.capitalize()} is\", len(result))\n",
            "/usr/local/lib/python3.10/dist-packages/sklearn/metrics/_classification.py:1531: UndefinedMetricWarning: Precision is ill-defined and being set to 0.0 in labels with no predicted samples. Use `zero_division` parameter to control this behavior.\n",
            "  _warn_prf(average, modifier, f\"{metric.capitalize()} is\", len(result))\n"
          ]
        },
        {
          "output_type": "stream",
          "name": "stdout",
          "text": [
            "{'eval/flat_accuracy': '0.8651', 'eval/accuracy': '0.0002', 'eval/macro_precision': '0.1111', 'eval/macro_recall': '0.0001', 'eval/macro_f1': '0.0002', 'eval/micro_precision': '1.0000', 'eval/micro_recall': '0.0001', 'eval/micro_f1': '0.0003', 'eval/weighted_precision': '0.1492', 'eval/weighted_recall': '0.0001', 'eval/weighted_f1': '0.0003', 'train/loss': '0.4635', 'eval/loss': '0.3789'}\n",
            "--------------------------- epoch 3 ---------------------------\n"
          ]
        },
        {
          "output_type": "stream",
          "name": "stderr",
          "text": [
            "100%|██████████| 20/20 [00:00<00:00, 26.00it/s]\n",
            "100%|██████████| 7/7 [00:00<00:00, 13.41it/s]\n",
            "/usr/local/lib/python3.10/dist-packages/sklearn/metrics/_classification.py:1531: UndefinedMetricWarning: Precision is ill-defined and being set to 0.0 in labels with no predicted samples. Use `zero_division` parameter to control this behavior.\n",
            "  _warn_prf(average, modifier, f\"{metric.capitalize()} is\", len(result))\n",
            "/usr/local/lib/python3.10/dist-packages/sklearn/metrics/_classification.py:1531: UndefinedMetricWarning: Precision is ill-defined and being set to 0.0 in labels with no predicted samples. Use `zero_division` parameter to control this behavior.\n",
            "  _warn_prf(average, modifier, f\"{metric.capitalize()} is\", len(result))\n"
          ]
        },
        {
          "output_type": "stream",
          "name": "stdout",
          "text": [
            "{'eval/flat_accuracy': '0.8657', 'eval/accuracy': '0.0028', 'eval/macro_precision': '0.1944', 'eval/macro_recall': '0.0034', 'eval/macro_f1': '0.0067', 'eval/micro_precision': '0.9737', 'eval/micro_recall': '0.0047', 'eval/micro_f1': '0.0093', 'eval/weighted_precision': '0.2987', 'eval/weighted_recall': '0.0047', 'eval/weighted_f1': '0.0091', 'train/loss': '0.4526', 'eval/loss': '0.3662'}\n",
            "--------------------------- epoch 4 ---------------------------\n"
          ]
        },
        {
          "output_type": "stream",
          "name": "stderr",
          "text": [
            "100%|██████████| 20/20 [00:00<00:00, 23.87it/s]\n",
            "100%|██████████| 7/7 [00:00<00:00, 14.05it/s]\n",
            "/usr/local/lib/python3.10/dist-packages/sklearn/metrics/_classification.py:1531: UndefinedMetricWarning: Precision is ill-defined and being set to 0.0 in labels with no predicted samples. Use `zero_division` parameter to control this behavior.\n",
            "  _warn_prf(average, modifier, f\"{metric.capitalize()} is\", len(result))\n",
            "/usr/local/lib/python3.10/dist-packages/sklearn/metrics/_classification.py:1531: UndefinedMetricWarning: Precision is ill-defined and being set to 0.0 in labels with no predicted samples. Use `zero_division` parameter to control this behavior.\n",
            "  _warn_prf(average, modifier, f\"{metric.capitalize()} is\", len(result))\n"
          ]
        },
        {
          "output_type": "stream",
          "name": "stdout",
          "text": [
            "{'eval/flat_accuracy': '0.8669', 'eval/accuracy': '0.0108', 'eval/macro_precision': '0.4163', 'eval/macro_recall': '0.0110', 'eval/macro_f1': '0.0211', 'eval/micro_precision': '0.8947', 'eval/micro_recall': '0.0151', 'eval/micro_f1': '0.0296', 'eval/weighted_precision': '0.6241', 'eval/weighted_recall': '0.0151', 'eval/weighted_f1': '0.0290', 'train/loss': '0.4357', 'eval/loss': '0.3504'}\n",
            "--------------------------- epoch 5 ---------------------------\n"
          ]
        },
        {
          "output_type": "stream",
          "name": "stderr",
          "text": [
            "100%|██████████| 20/20 [00:00<00:00, 24.17it/s]\n",
            "100%|██████████| 7/7 [00:00<00:00, 14.74it/s]\n",
            "/usr/local/lib/python3.10/dist-packages/sklearn/metrics/_classification.py:1531: UndefinedMetricWarning: Precision is ill-defined and being set to 0.0 in labels with no predicted samples. Use `zero_division` parameter to control this behavior.\n",
            "  _warn_prf(average, modifier, f\"{metric.capitalize()} is\", len(result))\n",
            "/usr/local/lib/python3.10/dist-packages/sklearn/metrics/_classification.py:1531: UndefinedMetricWarning: Precision is ill-defined and being set to 0.0 in labels with no predicted samples. Use `zero_division` parameter to control this behavior.\n",
            "  _warn_prf(average, modifier, f\"{metric.capitalize()} is\", len(result))\n"
          ]
        },
        {
          "output_type": "stream",
          "name": "stdout",
          "text": [
            "{'eval/flat_accuracy': '0.8720', 'eval/accuracy': '0.0509', 'eval/macro_precision': '0.5574', 'eval/macro_recall': '0.0439', 'eval/macro_f1': '0.0792', 'eval/micro_precision': '0.8651', 'eval/micro_recall': '0.0609', 'eval/micro_f1': '0.1138', 'eval/weighted_precision': '0.8012', 'eval/weighted_recall': '0.0609', 'eval/weighted_f1': '0.1101', 'train/loss': '0.4151', 'eval/loss': '0.3287'}\n",
            "--------------------------- epoch 6 ---------------------------\n"
          ]
        },
        {
          "output_type": "stream",
          "name": "stderr",
          "text": [
            "100%|██████████| 20/20 [00:00<00:00, 25.23it/s]\n",
            "100%|██████████| 7/7 [00:00<00:00, 13.98it/s]\n",
            "/usr/local/lib/python3.10/dist-packages/sklearn/metrics/_classification.py:1531: UndefinedMetricWarning: Precision is ill-defined and being set to 0.0 in labels with no predicted samples. Use `zero_division` parameter to control this behavior.\n",
            "  _warn_prf(average, modifier, f\"{metric.capitalize()} is\", len(result))\n",
            "/usr/local/lib/python3.10/dist-packages/sklearn/metrics/_classification.py:1531: UndefinedMetricWarning: Precision is ill-defined and being set to 0.0 in labels with no predicted samples. Use `zero_division` parameter to control this behavior.\n",
            "  _warn_prf(average, modifier, f\"{metric.capitalize()} is\", len(result))\n"
          ]
        },
        {
          "output_type": "stream",
          "name": "stdout",
          "text": [
            "{'eval/flat_accuracy': '0.8805', 'eval/accuracy': '0.1285', 'eval/macro_precision': '0.7123', 'eval/macro_recall': '0.1148', 'eval/macro_f1': '0.1859', 'eval/micro_precision': '0.8163', 'eval/micro_recall': '0.1475', 'eval/micro_f1': '0.2498', 'eval/weighted_precision': '0.8576', 'eval/weighted_recall': '0.1475', 'eval/weighted_f1': '0.2356', 'train/loss': '0.3914', 'eval/loss': '0.3080'}\n",
            "--------------------------- epoch 7 ---------------------------\n"
          ]
        },
        {
          "output_type": "stream",
          "name": "stderr",
          "text": [
            "100%|██████████| 20/20 [00:00<00:00, 26.77it/s]\n",
            "100%|██████████| 7/7 [00:00<00:00, 14.44it/s]\n"
          ]
        },
        {
          "output_type": "stream",
          "name": "stdout",
          "text": [
            "{'eval/flat_accuracy': '0.8908', 'eval/accuracy': '0.2151', 'eval/macro_precision': '0.6995', 'eval/macro_recall': '0.2007', 'eval/macro_f1': '0.2927', 'eval/micro_precision': '0.8112', 'eval/micro_recall': '0.2482', 'eval/micro_f1': '0.3801', 'eval/weighted_precision': '0.8297', 'eval/weighted_recall': '0.2482', 'eval/weighted_f1': '0.3650', 'train/loss': '0.3675', 'eval/loss': '0.2823'}\n",
            "--------------------------- epoch 8 ---------------------------\n"
          ]
        },
        {
          "output_type": "stream",
          "name": "stderr",
          "text": [
            "100%|██████████| 20/20 [00:00<00:00, 26.08it/s]\n",
            "100%|██████████| 7/7 [00:00<00:00, 15.23it/s]\n"
          ]
        },
        {
          "output_type": "stream",
          "name": "stdout",
          "text": [
            "{'eval/flat_accuracy': '0.9011', 'eval/accuracy': '0.2977', 'eval/macro_precision': '0.6656', 'eval/macro_recall': '0.2707', 'eval/macro_f1': '0.3631', 'eval/micro_precision': '0.8140', 'eval/micro_recall': '0.3465', 'eval/micro_f1': '0.4860', 'eval/weighted_precision': '0.8080', 'eval/weighted_recall': '0.3465', 'eval/weighted_f1': '0.4654', 'train/loss': '0.3488', 'eval/loss': '0.2621'}\n",
            "--------------------------- epoch 9 ---------------------------\n"
          ]
        },
        {
          "output_type": "stream",
          "name": "stderr",
          "text": [
            "100%|██████████| 20/20 [00:00<00:00, 25.62it/s]\n",
            "100%|██████████| 7/7 [00:00<00:00, 14.92it/s]\n"
          ]
        },
        {
          "output_type": "stream",
          "name": "stdout",
          "text": [
            "{'eval/flat_accuracy': '0.9079', 'eval/accuracy': '0.3529', 'eval/macro_precision': '0.6536', 'eval/macro_recall': '0.3484', 'eval/macro_f1': '0.4230', 'eval/micro_precision': '0.7988', 'eval/micro_recall': '0.4244', 'eval/micro_f1': '0.5543', 'eval/weighted_precision': '0.7980', 'eval/weighted_recall': '0.4244', 'eval/weighted_f1': '0.5281', 'train/loss': '0.3332', 'eval/loss': '0.2524'}\n",
            "--------------------------- epoch 10 ---------------------------\n"
          ]
        },
        {
          "output_type": "stream",
          "name": "stderr",
          "text": [
            "100%|██████████| 20/20 [00:00<00:00, 26.27it/s]\n",
            "100%|██████████| 7/7 [00:00<00:00, 14.86it/s]\n"
          ]
        },
        {
          "output_type": "stream",
          "name": "stdout",
          "text": [
            "{'eval/flat_accuracy': '0.9100', 'eval/accuracy': '0.3717', 'eval/macro_precision': '0.6460', 'eval/macro_recall': '0.4089', 'eval/macro_f1': '0.4655', 'eval/micro_precision': '0.7866', 'eval/micro_recall': '0.4571', 'eval/micro_f1': '0.5782', 'eval/weighted_precision': '0.8013', 'eval/weighted_recall': '0.4571', 'eval/weighted_f1': '0.5670', 'train/loss': '0.3194', 'eval/loss': '0.2433'}\n",
            "--------------------------- epoch 11 ---------------------------\n"
          ]
        },
        {
          "output_type": "stream",
          "name": "stderr",
          "text": [
            "100%|██████████| 20/20 [00:00<00:00, 25.57it/s]\n",
            "100%|██████████| 7/7 [00:00<00:00, 14.95it/s]\n"
          ]
        },
        {
          "output_type": "stream",
          "name": "stdout",
          "text": [
            "{'eval/flat_accuracy': '0.9153', 'eval/accuracy': '0.4043', 'eval/macro_precision': '0.6487', 'eval/macro_recall': '0.4388', 'eval/macro_f1': '0.4938', 'eval/micro_precision': '0.8038', 'eval/micro_recall': '0.4925', 'eval/micro_f1': '0.6108', 'eval/weighted_precision': '0.8040', 'eval/weighted_recall': '0.4925', 'eval/weighted_f1': '0.5983', 'train/loss': '0.3077', 'eval/loss': '0.2344'}\n",
            "--------------------------- epoch 12 ---------------------------\n"
          ]
        },
        {
          "output_type": "stream",
          "name": "stderr",
          "text": [
            "100%|██████████| 20/20 [00:00<00:00, 25.32it/s]\n",
            "100%|██████████| 7/7 [00:00<00:00, 15.39it/s]\n"
          ]
        },
        {
          "output_type": "stream",
          "name": "stdout",
          "text": [
            "{'eval/flat_accuracy': '0.9186', 'eval/accuracy': '0.4328', 'eval/macro_precision': '0.6504', 'eval/macro_recall': '0.4931', 'eval/macro_f1': '0.5422', 'eval/micro_precision': '0.7830', 'eval/micro_recall': '0.5489', 'eval/micro_f1': '0.6454', 'eval/weighted_precision': '0.7872', 'eval/weighted_recall': '0.5489', 'eval/weighted_f1': '0.6400', 'train/loss': '0.2981', 'eval/loss': '0.2267'}\n",
            "--------------------------- epoch 13 ---------------------------\n"
          ]
        },
        {
          "output_type": "stream",
          "name": "stderr",
          "text": [
            "100%|██████████| 20/20 [00:00<00:00, 25.79it/s]\n",
            "100%|██████████| 7/7 [00:00<00:00, 14.37it/s]\n"
          ]
        },
        {
          "output_type": "stream",
          "name": "stdout",
          "text": [
            "{'eval/flat_accuracy': '0.9214', 'eval/accuracy': '0.4543', 'eval/macro_precision': '0.6637', 'eval/macro_recall': '0.5068', 'eval/macro_f1': '0.5579', 'eval/micro_precision': '0.7981', 'eval/micro_recall': '0.5593', 'eval/micro_f1': '0.6577', 'eval/weighted_precision': '0.8002', 'eval/weighted_recall': '0.5593', 'eval/weighted_f1': '0.6520', 'train/loss': '0.2890', 'eval/loss': '0.2210'}\n",
            "--------------------------- epoch 14 ---------------------------\n"
          ]
        },
        {
          "output_type": "stream",
          "name": "stderr",
          "text": [
            "100%|██████████| 20/20 [00:00<00:00, 26.54it/s]\n",
            "100%|██████████| 7/7 [00:00<00:00, 14.87it/s]\n"
          ]
        },
        {
          "output_type": "stream",
          "name": "stdout",
          "text": [
            "{'eval/flat_accuracy': '0.9224', 'eval/accuracy': '0.4602', 'eval/macro_precision': '0.6686', 'eval/macro_recall': '0.5323', 'eval/macro_f1': '0.5742', 'eval/micro_precision': '0.7969', 'eval/micro_recall': '0.5707', 'eval/micro_f1': '0.6651', 'eval/weighted_precision': '0.8045', 'eval/weighted_recall': '0.5707', 'eval/weighted_f1': '0.6595', 'train/loss': '0.2806', 'eval/loss': '0.2145'}\n",
            "--------------------------- epoch 15 ---------------------------\n"
          ]
        },
        {
          "output_type": "stream",
          "name": "stderr",
          "text": [
            "100%|██████████| 20/20 [00:00<00:00, 26.39it/s]\n",
            "100%|██████████| 7/7 [00:00<00:00, 14.32it/s]\n"
          ]
        },
        {
          "output_type": "stream",
          "name": "stdout",
          "text": [
            "{'eval/flat_accuracy': '0.9271', 'eval/accuracy': '0.4980', 'eval/macro_precision': '0.6760', 'eval/macro_recall': '0.5540', 'eval/macro_f1': '0.5956', 'eval/micro_precision': '0.7922', 'eval/micro_recall': '0.6236', 'eval/micro_f1': '0.6979', 'eval/weighted_precision': '0.7965', 'eval/weighted_recall': '0.6236', 'eval/weighted_f1': '0.6930', 'train/loss': '0.2743', 'eval/loss': '0.2047'}\n",
            "--------------------------- epoch 16 ---------------------------\n"
          ]
        },
        {
          "output_type": "stream",
          "name": "stderr",
          "text": [
            "100%|██████████| 20/20 [00:00<00:00, 25.09it/s]\n",
            "100%|██████████| 7/7 [00:00<00:00, 14.77it/s]\n"
          ]
        },
        {
          "output_type": "stream",
          "name": "stdout",
          "text": [
            "{'eval/flat_accuracy': '0.9281', 'eval/accuracy': '0.5020', 'eval/macro_precision': '0.6737', 'eval/macro_recall': '0.5747', 'eval/macro_f1': '0.6059', 'eval/micro_precision': '0.7981', 'eval/micro_recall': '0.6250', 'eval/micro_f1': '0.7011', 'eval/weighted_precision': '0.8018', 'eval/weighted_recall': '0.6250', 'eval/weighted_f1': '0.6969', 'train/loss': '0.2675', 'eval/loss': '0.2017'}\n",
            "--------------------------- epoch 17 ---------------------------\n"
          ]
        },
        {
          "output_type": "stream",
          "name": "stderr",
          "text": [
            "100%|██████████| 20/20 [00:00<00:00, 26.38it/s]\n",
            "100%|██████████| 7/7 [00:00<00:00, 14.80it/s]\n"
          ]
        },
        {
          "output_type": "stream",
          "name": "stdout",
          "text": [
            "{'eval/flat_accuracy': '0.9290', 'eval/accuracy': '0.5089', 'eval/macro_precision': '0.6772', 'eval/macro_recall': '0.5810', 'eval/macro_f1': '0.6081', 'eval/micro_precision': '0.8072', 'eval/micro_recall': '0.6230', 'eval/micro_f1': '0.7032', 'eval/weighted_precision': '0.8105', 'eval/weighted_recall': '0.6230', 'eval/weighted_f1': '0.7005', 'train/loss': '0.2613', 'eval/loss': '0.1980'}\n",
            "--------------------------- epoch 18 ---------------------------\n"
          ]
        },
        {
          "output_type": "stream",
          "name": "stderr",
          "text": [
            "100%|██████████| 20/20 [00:00<00:00, 26.07it/s]\n",
            "100%|██████████| 7/7 [00:00<00:00, 14.88it/s]\n"
          ]
        },
        {
          "output_type": "stream",
          "name": "stdout",
          "text": [
            "{'eval/flat_accuracy': '0.9295', 'eval/accuracy': '0.5114', 'eval/macro_precision': '0.6771', 'eval/macro_recall': '0.5931', 'eval/macro_f1': '0.6145', 'eval/micro_precision': '0.8010', 'eval/micro_recall': '0.6352', 'eval/micro_f1': '0.7085', 'eval/weighted_precision': '0.8064', 'eval/weighted_recall': '0.6352', 'eval/weighted_f1': '0.7035', 'train/loss': '0.2579', 'eval/loss': '0.1937'}\n",
            "--------------------------- epoch 19 ---------------------------\n"
          ]
        },
        {
          "output_type": "stream",
          "name": "stderr",
          "text": [
            "100%|██████████| 20/20 [00:00<00:00, 22.67it/s]\n",
            "100%|██████████| 7/7 [00:00<00:00, 14.93it/s]\n"
          ]
        },
        {
          "output_type": "stream",
          "name": "stdout",
          "text": [
            "{'eval/flat_accuracy': '0.9301', 'eval/accuracy': '0.5169', 'eval/macro_precision': '0.6769', 'eval/macro_recall': '0.6189', 'eval/macro_f1': '0.6265', 'eval/micro_precision': '0.8016', 'eval/micro_recall': '0.6402', 'eval/micro_f1': '0.7119', 'eval/weighted_precision': '0.8145', 'eval/weighted_recall': '0.6402', 'eval/weighted_f1': '0.7117', 'train/loss': '0.2529', 'eval/loss': '0.1937'}\n",
            "--------------------------- epoch 20 ---------------------------\n"
          ]
        },
        {
          "output_type": "stream",
          "name": "stderr",
          "text": [
            "100%|██████████| 20/20 [00:00<00:00, 25.78it/s]\n",
            "100%|██████████| 7/7 [00:00<00:00, 14.90it/s]\n"
          ]
        },
        {
          "output_type": "stream",
          "name": "stdout",
          "text": [
            "{'eval/flat_accuracy': '0.9317', 'eval/accuracy': '0.5320', 'eval/macro_precision': '0.6802', 'eval/macro_recall': '0.6408', 'eval/macro_f1': '0.6365', 'eval/micro_precision': '0.7903', 'eval/micro_recall': '0.6722', 'eval/micro_f1': '0.7265', 'eval/weighted_precision': '0.8028', 'eval/weighted_recall': '0.6722', 'eval/weighted_f1': '0.7259', 'train/loss': '0.2485', 'eval/loss': '0.1902'}\n",
            "--------------------------- epoch 21 ---------------------------\n"
          ]
        },
        {
          "output_type": "stream",
          "name": "stderr",
          "text": [
            "100%|██████████| 20/20 [00:00<00:00, 26.19it/s]\n",
            "100%|██████████| 7/7 [00:00<00:00, 15.18it/s]\n"
          ]
        },
        {
          "output_type": "stream",
          "name": "stdout",
          "text": [
            "{'eval/flat_accuracy': '0.9325', 'eval/accuracy': '0.5334', 'eval/macro_precision': '0.6808', 'eval/macro_recall': '0.6547', 'eval/macro_f1': '0.6558', 'eval/micro_precision': '0.7866', 'eval/micro_recall': '0.6863', 'eval/micro_f1': '0.7331', 'eval/weighted_precision': '0.8037', 'eval/weighted_recall': '0.6863', 'eval/weighted_f1': '0.7363', 'train/loss': '0.2438', 'eval/loss': '0.1876'}\n",
            "--------------------------- epoch 22 ---------------------------\n"
          ]
        },
        {
          "output_type": "stream",
          "name": "stderr",
          "text": [
            "100%|██████████| 20/20 [00:00<00:00, 26.46it/s]\n",
            "100%|██████████| 7/7 [00:00<00:00, 14.95it/s]\n"
          ]
        },
        {
          "output_type": "stream",
          "name": "stdout",
          "text": [
            "{'eval/flat_accuracy': '0.9351', 'eval/accuracy': '0.5543', 'eval/macro_precision': '0.6876', 'eval/macro_recall': '0.6487', 'eval/macro_f1': '0.6543', 'eval/micro_precision': '0.7994', 'eval/micro_recall': '0.6933', 'eval/micro_f1': '0.7426', 'eval/weighted_precision': '0.8076', 'eval/weighted_recall': '0.6933', 'eval/weighted_f1': '0.7410', 'train/loss': '0.2404', 'eval/loss': '0.1805'}\n",
            "--------------------------- epoch 23 ---------------------------\n"
          ]
        },
        {
          "output_type": "stream",
          "name": "stderr",
          "text": [
            "100%|██████████| 20/20 [00:00<00:00, 26.60it/s]\n",
            "100%|██████████| 7/7 [00:00<00:00, 14.27it/s]\n"
          ]
        },
        {
          "output_type": "stream",
          "name": "stdout",
          "text": [
            "{'eval/flat_accuracy': '0.9350', 'eval/accuracy': '0.5509', 'eval/macro_precision': '0.6976', 'eval/macro_recall': '0.6465', 'eval/macro_f1': '0.6605', 'eval/micro_precision': '0.8066', 'eval/micro_recall': '0.6817', 'eval/micro_f1': '0.7389', 'eval/weighted_precision': '0.8159', 'eval/weighted_recall': '0.6817', 'eval/weighted_f1': '0.7362', 'train/loss': '0.2364', 'eval/loss': '0.1782'}\n",
            "--------------------------- epoch 24 ---------------------------\n"
          ]
        },
        {
          "output_type": "stream",
          "name": "stderr",
          "text": [
            "100%|██████████| 20/20 [00:00<00:00, 25.07it/s]\n",
            "100%|██████████| 7/7 [00:00<00:00, 14.36it/s]\n"
          ]
        },
        {
          "output_type": "stream",
          "name": "stdout",
          "text": [
            "{'eval/flat_accuracy': '0.9352', 'eval/accuracy': '0.5483', 'eval/macro_precision': '0.6907', 'eval/macro_recall': '0.6755', 'eval/macro_f1': '0.6670', 'eval/micro_precision': '0.8036', 'eval/micro_recall': '0.6881', 'eval/micro_f1': '0.7414', 'eval/weighted_precision': '0.8117', 'eval/weighted_recall': '0.6881', 'eval/weighted_f1': '0.7418', 'train/loss': '0.2334', 'eval/loss': '0.1766'}\n",
            "--------------------------- epoch 25 ---------------------------\n"
          ]
        },
        {
          "output_type": "stream",
          "name": "stderr",
          "text": [
            "100%|██████████| 20/20 [00:00<00:00, 25.31it/s]\n",
            "100%|██████████| 7/7 [00:00<00:00, 14.32it/s]\n"
          ]
        },
        {
          "output_type": "stream",
          "name": "stdout",
          "text": [
            "{'eval/flat_accuracy': '0.9355', 'eval/accuracy': '0.5535', 'eval/macro_precision': '0.6933', 'eval/macro_recall': '0.6779', 'eval/macro_f1': '0.6672', 'eval/micro_precision': '0.8048', 'eval/micro_recall': '0.6888', 'eval/micro_f1': '0.7423', 'eval/weighted_precision': '0.8187', 'eval/weighted_recall': '0.6888', 'eval/weighted_f1': '0.7415', 'train/loss': '0.2295', 'eval/loss': '0.1759'}\n",
            "--------------------------- epoch 26 ---------------------------\n"
          ]
        },
        {
          "output_type": "stream",
          "name": "stderr",
          "text": [
            "100%|██████████| 20/20 [00:00<00:00, 25.93it/s]\n",
            "100%|██████████| 7/7 [00:00<00:00, 14.74it/s]\n"
          ]
        },
        {
          "output_type": "stream",
          "name": "stdout",
          "text": [
            "{'eval/flat_accuracy': '0.9365', 'eval/accuracy': '0.5611', 'eval/macro_precision': '0.6952', 'eval/macro_recall': '0.6962', 'eval/macro_f1': '0.6778', 'eval/micro_precision': '0.8068', 'eval/micro_recall': '0.6960', 'eval/micro_f1': '0.7473', 'eval/weighted_precision': '0.8188', 'eval/weighted_recall': '0.6960', 'eval/weighted_f1': '0.7468', 'train/loss': '0.2294', 'eval/loss': '0.1765'}\n",
            "--------------------------- epoch 27 ---------------------------\n"
          ]
        },
        {
          "output_type": "stream",
          "name": "stderr",
          "text": [
            "100%|██████████| 20/20 [00:00<00:00, 26.97it/s]\n",
            "100%|██████████| 7/7 [00:00<00:00, 14.87it/s]\n"
          ]
        },
        {
          "output_type": "stream",
          "name": "stdout",
          "text": [
            "{'eval/flat_accuracy': '0.9375', 'eval/accuracy': '0.5603', 'eval/macro_precision': '0.6952', 'eval/macro_recall': '0.7063', 'eval/macro_f1': '0.6786', 'eval/micro_precision': '0.8084', 'eval/micro_recall': '0.7032', 'eval/micro_f1': '0.7521', 'eval/weighted_precision': '0.8172', 'eval/weighted_recall': '0.7032', 'eval/weighted_f1': '0.7526', 'train/loss': '0.2254', 'eval/loss': '0.1707'}\n",
            "--------------------------- epoch 28 ---------------------------\n"
          ]
        },
        {
          "output_type": "stream",
          "name": "stderr",
          "text": [
            "100%|██████████| 20/20 [00:00<00:00, 26.16it/s]\n",
            "100%|██████████| 7/7 [00:00<00:00, 14.87it/s]\n"
          ]
        },
        {
          "output_type": "stream",
          "name": "stdout",
          "text": [
            "{'eval/flat_accuracy': '0.9372', 'eval/accuracy': '0.5663', 'eval/macro_precision': '0.6944', 'eval/macro_recall': '0.7061', 'eval/macro_f1': '0.6721', 'eval/micro_precision': '0.7965', 'eval/micro_recall': '0.7180', 'eval/micro_f1': '0.7552', 'eval/weighted_precision': '0.8128', 'eval/weighted_recall': '0.7180', 'eval/weighted_f1': '0.7572', 'train/loss': '0.2216', 'eval/loss': '0.1712'}\n",
            "--------------------------- epoch 29 ---------------------------\n"
          ]
        },
        {
          "output_type": "stream",
          "name": "stderr",
          "text": [
            "100%|██████████| 20/20 [00:00<00:00, 26.47it/s]\n",
            "100%|██████████| 7/7 [00:00<00:00, 15.19it/s]\n"
          ]
        },
        {
          "output_type": "stream",
          "name": "stdout",
          "text": [
            "{'eval/flat_accuracy': '0.9384', 'eval/accuracy': '0.5702', 'eval/macro_precision': '0.6970', 'eval/macro_recall': '0.7287', 'eval/macro_f1': '0.7008', 'eval/micro_precision': '0.7802', 'eval/micro_recall': '0.7567', 'eval/micro_f1': '0.7682', 'eval/weighted_precision': '0.7969', 'eval/weighted_recall': '0.7567', 'eval/weighted_f1': '0.7725', 'train/loss': '0.2210', 'eval/loss': '0.1692'}\n",
            "--------------------------- epoch 30 ---------------------------\n"
          ]
        },
        {
          "output_type": "stream",
          "name": "stderr",
          "text": [
            "100%|██████████| 20/20 [00:00<00:00, 26.68it/s]\n",
            "100%|██████████| 7/7 [00:00<00:00, 15.19it/s]\n"
          ]
        },
        {
          "output_type": "stream",
          "name": "stdout",
          "text": [
            "{'eval/flat_accuracy': '0.9391', 'eval/accuracy': '0.5769', 'eval/macro_precision': '0.6933', 'eval/macro_recall': '0.7352', 'eval/macro_f1': '0.7003', 'eval/micro_precision': '0.7895', 'eval/micro_recall': '0.7480', 'eval/micro_f1': '0.7682', 'eval/weighted_precision': '0.7991', 'eval/weighted_recall': '0.7480', 'eval/weighted_f1': '0.7688', 'train/loss': '0.2164', 'eval/loss': '0.1672'}\n",
            "--------------------------- epoch 31 ---------------------------\n"
          ]
        },
        {
          "output_type": "stream",
          "name": "stderr",
          "text": [
            "100%|██████████| 20/20 [00:00<00:00, 26.66it/s]\n",
            "100%|██████████| 7/7 [00:00<00:00, 15.08it/s]\n"
          ]
        },
        {
          "output_type": "stream",
          "name": "stdout",
          "text": [
            "{'eval/flat_accuracy': '0.9381', 'eval/accuracy': '0.5697', 'eval/macro_precision': '0.6873', 'eval/macro_recall': '0.7308', 'eval/macro_f1': '0.6808', 'eval/micro_precision': '0.7955', 'eval/micro_recall': '0.7288', 'eval/micro_f1': '0.7607', 'eval/weighted_precision': '0.8140', 'eval/weighted_recall': '0.7288', 'eval/weighted_f1': '0.7654', 'train/loss': '0.2136', 'eval/loss': '0.1687'}\n",
            "--------------------------- epoch 32 ---------------------------\n"
          ]
        },
        {
          "output_type": "stream",
          "name": "stderr",
          "text": [
            "100%|██████████| 20/20 [00:00<00:00, 26.12it/s]\n",
            "100%|██████████| 7/7 [00:00<00:00, 15.10it/s]\n"
          ]
        },
        {
          "output_type": "stream",
          "name": "stdout",
          "text": [
            "{'eval/flat_accuracy': '0.9390', 'eval/accuracy': '0.5743', 'eval/macro_precision': '0.6912', 'eval/macro_recall': '0.7446', 'eval/macro_f1': '0.7030', 'eval/micro_precision': '0.7771', 'eval/micro_recall': '0.7684', 'eval/micro_f1': '0.7727', 'eval/weighted_precision': '0.7970', 'eval/weighted_recall': '0.7684', 'eval/weighted_f1': '0.7777', 'train/loss': '0.2134', 'eval/loss': '0.1672'}\n",
            "--------------------------- epoch 33 ---------------------------\n"
          ]
        },
        {
          "output_type": "stream",
          "name": "stderr",
          "text": [
            "100%|██████████| 20/20 [00:00<00:00, 25.08it/s]\n",
            "100%|██████████| 7/7 [00:00<00:00, 14.80it/s]\n"
          ]
        },
        {
          "output_type": "stream",
          "name": "stdout",
          "text": [
            "{'eval/flat_accuracy': '0.9416', 'eval/accuracy': '0.5889', 'eval/macro_precision': '0.7110', 'eval/macro_recall': '0.7303', 'eval/macro_f1': '0.7066', 'eval/micro_precision': '0.8090', 'eval/micro_recall': '0.7430', 'eval/micro_f1': '0.7746', 'eval/weighted_precision': '0.8147', 'eval/weighted_recall': '0.7430', 'eval/weighted_f1': '0.7731', 'train/loss': '0.2116', 'eval/loss': '0.1591'}\n",
            "--------------------------- epoch 34 ---------------------------\n"
          ]
        },
        {
          "output_type": "stream",
          "name": "stderr",
          "text": [
            "100%|██████████| 20/20 [00:00<00:00, 26.38it/s]\n",
            "100%|██████████| 7/7 [00:00<00:00, 14.89it/s]\n"
          ]
        },
        {
          "output_type": "stream",
          "name": "stdout",
          "text": [
            "{'eval/flat_accuracy': '0.9401', 'eval/accuracy': '0.5911', 'eval/macro_precision': '0.6975', 'eval/macro_recall': '0.7353', 'eval/macro_f1': '0.6882', 'eval/micro_precision': '0.8063', 'eval/micro_recall': '0.7318', 'eval/micro_f1': '0.7672', 'eval/weighted_precision': '0.8197', 'eval/weighted_recall': '0.7318', 'eval/weighted_f1': '0.7667', 'train/loss': '0.2087', 'eval/loss': '0.1633'}\n",
            "--------------------------- epoch 35 ---------------------------\n"
          ]
        },
        {
          "output_type": "stream",
          "name": "stderr",
          "text": [
            "100%|██████████| 20/20 [00:00<00:00, 25.31it/s]\n",
            "100%|██████████| 7/7 [00:00<00:00, 13.60it/s]\n"
          ]
        },
        {
          "output_type": "stream",
          "name": "stdout",
          "text": [
            "{'eval/flat_accuracy': '0.9417', 'eval/accuracy': '0.5969', 'eval/macro_precision': '0.7076', 'eval/macro_recall': '0.7442', 'eval/macro_f1': '0.7135', 'eval/micro_precision': '0.7948', 'eval/micro_recall': '0.7659', 'eval/micro_f1': '0.7801', 'eval/weighted_precision': '0.8066', 'eval/weighted_recall': '0.7659', 'eval/weighted_f1': '0.7808', 'train/loss': '0.2072', 'eval/loss': '0.1603'}\n",
            "--------------------------- epoch 36 ---------------------------\n"
          ]
        },
        {
          "output_type": "stream",
          "name": "stderr",
          "text": [
            "100%|██████████| 20/20 [00:00<00:00, 26.01it/s]\n",
            "100%|██████████| 7/7 [00:00<00:00, 14.93it/s]\n"
          ]
        },
        {
          "output_type": "stream",
          "name": "stdout",
          "text": [
            "{'eval/flat_accuracy': '0.9422', 'eval/accuracy': '0.5954', 'eval/macro_precision': '0.7119', 'eval/macro_recall': '0.7318', 'eval/macro_f1': '0.7075', 'eval/micro_precision': '0.8135', 'eval/micro_recall': '0.7420', 'eval/micro_f1': '0.7761', 'eval/weighted_precision': '0.8224', 'eval/weighted_recall': '0.7420', 'eval/weighted_f1': '0.7764', 'train/loss': '0.2053', 'eval/loss': '0.1555'}\n",
            "--------------------------- epoch 37 ---------------------------\n"
          ]
        },
        {
          "output_type": "stream",
          "name": "stderr",
          "text": [
            "100%|██████████| 20/20 [00:00<00:00, 25.59it/s]\n",
            "100%|██████████| 7/7 [00:00<00:00, 14.97it/s]\n"
          ]
        },
        {
          "output_type": "stream",
          "name": "stdout",
          "text": [
            "{'eval/flat_accuracy': '0.9409', 'eval/accuracy': '0.5883', 'eval/macro_precision': '0.7028', 'eval/macro_recall': '0.7523', 'eval/macro_f1': '0.7090', 'eval/micro_precision': '0.8021', 'eval/micro_recall': '0.7465', 'eval/micro_f1': '0.7733', 'eval/weighted_precision': '0.8201', 'eval/weighted_recall': '0.7465', 'eval/weighted_f1': '0.7780', 'train/loss': '0.2032', 'eval/loss': '0.1583'}\n",
            "--------------------------- epoch 38 ---------------------------\n"
          ]
        },
        {
          "output_type": "stream",
          "name": "stderr",
          "text": [
            "100%|██████████| 20/20 [00:00<00:00, 25.54it/s]\n",
            "100%|██████████| 7/7 [00:00<00:00, 15.01it/s]\n"
          ]
        },
        {
          "output_type": "stream",
          "name": "stdout",
          "text": [
            "{'eval/flat_accuracy': '0.9431', 'eval/accuracy': '0.6040', 'eval/macro_precision': '0.7263', 'eval/macro_recall': '0.7369', 'eval/macro_f1': '0.7183', 'eval/micro_precision': '0.8138', 'eval/micro_recall': '0.7503', 'eval/micro_f1': '0.7808', 'eval/weighted_precision': '0.8251', 'eval/weighted_recall': '0.7503', 'eval/weighted_f1': '0.7802', 'train/loss': '0.2013', 'eval/loss': '0.1515'}\n",
            "--------------------------- epoch 39 ---------------------------\n"
          ]
        },
        {
          "output_type": "stream",
          "name": "stderr",
          "text": [
            "100%|██████████| 20/20 [00:00<00:00, 25.79it/s]\n",
            "100%|██████████| 7/7 [00:00<00:00, 15.11it/s]\n"
          ]
        },
        {
          "output_type": "stream",
          "name": "stdout",
          "text": [
            "{'eval/flat_accuracy': '0.9436', 'eval/accuracy': '0.6052', 'eval/macro_precision': '0.7172', 'eval/macro_recall': '0.7525', 'eval/macro_f1': '0.7224', 'eval/micro_precision': '0.8051', 'eval/micro_recall': '0.7681', 'eval/micro_f1': '0.7861', 'eval/weighted_precision': '0.8181', 'eval/weighted_recall': '0.7681', 'eval/weighted_f1': '0.7872', 'train/loss': '0.2000', 'eval/loss': '0.1535'}\n",
            "--------------------------- epoch 40 ---------------------------\n"
          ]
        },
        {
          "output_type": "stream",
          "name": "stderr",
          "text": [
            "100%|██████████| 20/20 [00:00<00:00, 26.32it/s]\n",
            "100%|██████████| 7/7 [00:00<00:00, 15.00it/s]\n"
          ]
        },
        {
          "output_type": "stream",
          "name": "stdout",
          "text": [
            "{'eval/flat_accuracy': '0.9431', 'eval/accuracy': '0.6072', 'eval/macro_precision': '0.7051', 'eval/macro_recall': '0.7645', 'eval/macro_f1': '0.7116', 'eval/micro_precision': '0.8141', 'eval/micro_recall': '0.7498', 'eval/micro_f1': '0.7806', 'eval/weighted_precision': '0.8284', 'eval/weighted_recall': '0.7498', 'eval/weighted_f1': '0.7825', 'train/loss': '0.1980', 'eval/loss': '0.1555', 'train/epoch': '1.0000'}\n",
            "--------------------------- epoch 41 ---------------------------\n"
          ]
        },
        {
          "output_type": "stream",
          "name": "stderr",
          "text": [
            "100%|██████████| 20/20 [00:00<00:00, 25.72it/s]\n",
            "100%|██████████| 7/7 [00:00<00:00, 14.71it/s]\n"
          ]
        },
        {
          "output_type": "stream",
          "name": "stdout",
          "text": [
            "{'eval/flat_accuracy': '0.9446', 'eval/accuracy': '0.6154', 'eval/macro_precision': '0.7125', 'eval/macro_recall': '0.7757', 'eval/macro_f1': '0.7309', 'eval/micro_precision': '0.8027', 'eval/micro_recall': '0.7816', 'eval/micro_f1': '0.7920', 'eval/weighted_precision': '0.8141', 'eval/weighted_recall': '0.7816', 'eval/weighted_f1': '0.7951', 'train/loss': '0.1969', 'eval/loss': '0.1543'}\n",
            "--------------------------- epoch 42 ---------------------------\n"
          ]
        },
        {
          "output_type": "stream",
          "name": "stderr",
          "text": [
            "100%|██████████| 20/20 [00:00<00:00, 26.17it/s]\n",
            "100%|██████████| 7/7 [00:00<00:00, 14.60it/s]\n"
          ]
        },
        {
          "output_type": "stream",
          "name": "stdout",
          "text": [
            "{'eval/flat_accuracy': '0.9441', 'eval/accuracy': '0.6088', 'eval/macro_precision': '0.7186', 'eval/macro_recall': '0.7705', 'eval/macro_f1': '0.7292', 'eval/micro_precision': '0.8033', 'eval/micro_recall': '0.7759', 'eval/micro_f1': '0.7894', 'eval/weighted_precision': '0.8174', 'eval/weighted_recall': '0.7759', 'eval/weighted_f1': '0.7927', 'train/loss': '0.1961', 'eval/loss': '0.1520'}\n",
            "--------------------------- epoch 43 ---------------------------\n"
          ]
        },
        {
          "output_type": "stream",
          "name": "stderr",
          "text": [
            "100%|██████████| 20/20 [00:00<00:00, 25.66it/s]\n",
            "100%|██████████| 7/7 [00:00<00:00, 14.92it/s]\n"
          ]
        },
        {
          "output_type": "stream",
          "name": "stdout",
          "text": [
            "{'eval/flat_accuracy': '0.9459', 'eval/accuracy': '0.6205', 'eval/macro_precision': '0.7238', 'eval/macro_recall': '0.7690', 'eval/macro_f1': '0.7305', 'eval/micro_precision': '0.8151', 'eval/micro_recall': '0.7750', 'eval/micro_f1': '0.7945', 'eval/weighted_precision': '0.8228', 'eval/weighted_recall': '0.7750', 'eval/weighted_f1': '0.7947', 'train/loss': '0.1948', 'eval/loss': '0.1482'}\n",
            "--------------------------- epoch 44 ---------------------------\n"
          ]
        },
        {
          "output_type": "stream",
          "name": "stderr",
          "text": [
            "100%|██████████| 20/20 [00:00<00:00, 25.54it/s]\n",
            "100%|██████████| 7/7 [00:00<00:00, 14.47it/s]\n"
          ]
        },
        {
          "output_type": "stream",
          "name": "stdout",
          "text": [
            "{'eval/flat_accuracy': '0.9445', 'eval/accuracy': '0.6117', 'eval/macro_precision': '0.7083', 'eval/macro_recall': '0.7690', 'eval/macro_f1': '0.7129', 'eval/micro_precision': '0.8130', 'eval/micro_recall': '0.7645', 'eval/micro_f1': '0.7880', 'eval/weighted_precision': '0.8263', 'eval/weighted_recall': '0.7645', 'eval/weighted_f1': '0.7910', 'train/loss': '0.1914', 'eval/loss': '0.1507'}\n",
            "--------------------------- epoch 45 ---------------------------\n"
          ]
        },
        {
          "output_type": "stream",
          "name": "stderr",
          "text": [
            "100%|██████████| 20/20 [00:00<00:00, 24.39it/s]\n",
            "100%|██████████| 7/7 [00:00<00:00, 14.51it/s]\n"
          ]
        },
        {
          "output_type": "stream",
          "name": "stdout",
          "text": [
            "{'eval/flat_accuracy': '0.9428', 'eval/accuracy': '0.6043', 'eval/macro_precision': '0.7130', 'eval/macro_recall': '0.7669', 'eval/macro_f1': '0.7209', 'eval/micro_precision': '0.8039', 'eval/micro_recall': '0.7620', 'eval/micro_f1': '0.7824', 'eval/weighted_precision': '0.8170', 'eval/weighted_recall': '0.7620', 'eval/weighted_f1': '0.7833', 'train/loss': '0.1917', 'eval/loss': '0.1526'}\n",
            "--------------------------- epoch 46 ---------------------------\n"
          ]
        },
        {
          "output_type": "stream",
          "name": "stderr",
          "text": [
            "100%|██████████| 20/20 [00:00<00:00, 26.00it/s]\n",
            "100%|██████████| 7/7 [00:00<00:00, 14.80it/s]\n"
          ]
        },
        {
          "output_type": "stream",
          "name": "stdout",
          "text": [
            "{'eval/flat_accuracy': '0.9446', 'eval/accuracy': '0.6138', 'eval/macro_precision': '0.7110', 'eval/macro_recall': '0.7643', 'eval/macro_f1': '0.7130', 'eval/micro_precision': '0.8222', 'eval/micro_recall': '0.7520', 'eval/micro_f1': '0.7855', 'eval/weighted_precision': '0.8357', 'eval/weighted_recall': '0.7520', 'eval/weighted_f1': '0.7890', 'train/loss': '0.1907', 'eval/loss': '0.1498'}\n",
            "--------------------------- epoch 47 ---------------------------\n"
          ]
        },
        {
          "output_type": "stream",
          "name": "stderr",
          "text": [
            "100%|██████████| 20/20 [00:00<00:00, 26.14it/s]\n",
            "100%|██████████| 7/7 [00:00<00:00, 15.02it/s]\n"
          ]
        },
        {
          "output_type": "stream",
          "name": "stdout",
          "text": [
            "{'eval/flat_accuracy': '0.9447', 'eval/accuracy': '0.6157', 'eval/macro_precision': '0.7209', 'eval/macro_recall': '0.7586', 'eval/macro_f1': '0.7174', 'eval/micro_precision': '0.8223', 'eval/micro_recall': '0.7529', 'eval/micro_f1': '0.7861', 'eval/weighted_precision': '0.8351', 'eval/weighted_recall': '0.7529', 'eval/weighted_f1': '0.7875', 'train/loss': '0.1893', 'eval/loss': '0.1456'}\n",
            "--------------------------- epoch 48 ---------------------------\n"
          ]
        },
        {
          "output_type": "stream",
          "name": "stderr",
          "text": [
            "100%|██████████| 20/20 [00:00<00:00, 25.46it/s]\n",
            "100%|██████████| 7/7 [00:00<00:00, 14.73it/s]\n"
          ]
        },
        {
          "output_type": "stream",
          "name": "stdout",
          "text": [
            "{'eval/flat_accuracy': '0.9453', 'eval/accuracy': '0.6208', 'eval/macro_precision': '0.7133', 'eval/macro_recall': '0.7788', 'eval/macro_f1': '0.7278', 'eval/micro_precision': '0.8032', 'eval/micro_recall': '0.7878', 'eval/micro_f1': '0.7954', 'eval/weighted_precision': '0.8185', 'eval/weighted_recall': '0.7878', 'eval/weighted_f1': '0.7991', 'train/loss': '0.1876', 'eval/loss': '0.1477'}\n",
            "--------------------------- epoch 49 ---------------------------\n"
          ]
        },
        {
          "output_type": "stream",
          "name": "stderr",
          "text": [
            "100%|██████████| 20/20 [00:00<00:00, 26.08it/s]\n",
            "100%|██████████| 7/7 [00:00<00:00, 14.82it/s]\n"
          ]
        },
        {
          "output_type": "stream",
          "name": "stdout",
          "text": [
            "{'eval/flat_accuracy': '0.9447', 'eval/accuracy': '0.6145', 'eval/macro_precision': '0.7039', 'eval/macro_recall': '0.7822', 'eval/macro_f1': '0.7229', 'eval/micro_precision': '0.8074', 'eval/micro_recall': '0.7748', 'eval/micro_f1': '0.7907', 'eval/weighted_precision': '0.8243', 'eval/weighted_recall': '0.7748', 'eval/weighted_f1': '0.7948', 'train/loss': '0.1859', 'eval/loss': '0.1508'}\n",
            "--------------------------- epoch 50 ---------------------------\n"
          ]
        },
        {
          "output_type": "stream",
          "name": "stderr",
          "text": [
            "100%|██████████| 20/20 [00:00<00:00, 26.27it/s]\n",
            "100%|██████████| 7/7 [00:00<00:00, 14.74it/s]\n"
          ]
        },
        {
          "output_type": "stream",
          "name": "stdout",
          "text": [
            "{'eval/flat_accuracy': '0.9419', 'eval/accuracy': '0.5994', 'eval/macro_precision': '0.7026', 'eval/macro_recall': '0.7748', 'eval/macro_f1': '0.7106', 'eval/micro_precision': '0.7964', 'eval/micro_recall': '0.7646', 'eval/micro_f1': '0.7802', 'eval/weighted_precision': '0.8293', 'eval/weighted_recall': '0.7646', 'eval/weighted_f1': '0.7907', 'train/loss': '0.1845', 'eval/loss': '0.1552'}\n",
            "--------------------------- epoch 51 ---------------------------\n"
          ]
        },
        {
          "output_type": "stream",
          "name": "stderr",
          "text": [
            "100%|██████████| 20/20 [00:00<00:00, 25.90it/s]\n",
            "100%|██████████| 7/7 [00:00<00:00, 14.68it/s]\n"
          ]
        },
        {
          "output_type": "stream",
          "name": "stdout",
          "text": [
            "{'eval/flat_accuracy': '0.9470', 'eval/accuracy': '0.6272', 'eval/macro_precision': '0.7127', 'eval/macro_recall': '0.7989', 'eval/macro_f1': '0.7406', 'eval/micro_precision': '0.8072', 'eval/micro_recall': '0.7979', 'eval/micro_f1': '0.8025', 'eval/weighted_precision': '0.8185', 'eval/weighted_recall': '0.7979', 'eval/weighted_f1': '0.8058', 'train/loss': '0.1843', 'eval/loss': '0.1471'}\n",
            "--------------------------- epoch 52 ---------------------------\n"
          ]
        },
        {
          "output_type": "stream",
          "name": "stderr",
          "text": [
            "100%|██████████| 20/20 [00:00<00:00, 26.14it/s]\n",
            "100%|██████████| 7/7 [00:00<00:00, 15.04it/s]\n"
          ]
        },
        {
          "output_type": "stream",
          "name": "stdout",
          "text": [
            "{'eval/flat_accuracy': '0.9454', 'eval/accuracy': '0.6191', 'eval/macro_precision': '0.7017', 'eval/macro_recall': '0.8060', 'eval/macro_f1': '0.7362', 'eval/micro_precision': '0.7960', 'eval/micro_recall': '0.8002', 'eval/micro_f1': '0.7981', 'eval/weighted_precision': '0.8123', 'eval/weighted_recall': '0.8002', 'eval/weighted_f1': '0.8025', 'train/loss': '0.1819', 'eval/loss': '0.1503'}\n",
            "--------------------------- epoch 53 ---------------------------\n"
          ]
        },
        {
          "output_type": "stream",
          "name": "stderr",
          "text": [
            "100%|██████████| 20/20 [00:00<00:00, 26.44it/s]\n",
            "100%|██████████| 7/7 [00:00<00:00, 14.19it/s]\n"
          ]
        },
        {
          "output_type": "stream",
          "name": "stdout",
          "text": [
            "{'eval/flat_accuracy': '0.9476', 'eval/accuracy': '0.6322', 'eval/macro_precision': '0.7252', 'eval/macro_recall': '0.7676', 'eval/macro_f1': '0.7245', 'eval/micro_precision': '0.8315', 'eval/micro_recall': '0.7668', 'eval/micro_f1': '0.7978', 'eval/weighted_precision': '0.8412', 'eval/weighted_recall': '0.7668', 'eval/weighted_f1': '0.7981', 'train/loss': '0.1809', 'eval/loss': '0.1413'}\n",
            "--------------------------- epoch 54 ---------------------------\n"
          ]
        },
        {
          "output_type": "stream",
          "name": "stderr",
          "text": [
            "100%|██████████| 20/20 [00:00<00:00, 25.51it/s]\n",
            "100%|██████████| 7/7 [00:00<00:00, 14.17it/s]\n"
          ]
        },
        {
          "output_type": "stream",
          "name": "stdout",
          "text": [
            "{'eval/flat_accuracy': '0.9471', 'eval/accuracy': '0.6322', 'eval/macro_precision': '0.7194', 'eval/macro_recall': '0.7780', 'eval/macro_f1': '0.7265', 'eval/micro_precision': '0.8258', 'eval/micro_recall': '0.7708', 'eval/micro_f1': '0.7974', 'eval/weighted_precision': '0.8358', 'eval/weighted_recall': '0.7708', 'eval/weighted_f1': '0.7973', 'train/loss': '0.1799', 'eval/loss': '0.1432'}\n",
            "--------------------------- epoch 55 ---------------------------\n"
          ]
        },
        {
          "output_type": "stream",
          "name": "stderr",
          "text": [
            "100%|██████████| 20/20 [00:00<00:00, 24.56it/s]\n",
            "100%|██████████| 7/7 [00:00<00:00, 14.60it/s]\n"
          ]
        },
        {
          "output_type": "stream",
          "name": "stdout",
          "text": [
            "{'eval/flat_accuracy': '0.9454', 'eval/accuracy': '0.6231', 'eval/macro_precision': '0.7074', 'eval/macro_recall': '0.7924', 'eval/macro_f1': '0.7329', 'eval/micro_precision': '0.7918', 'eval/micro_recall': '0.8074', 'eval/micro_f1': '0.7995', 'eval/weighted_precision': '0.8074', 'eval/weighted_recall': '0.8074', 'eval/weighted_f1': '0.8032', 'train/loss': '0.1799', 'eval/loss': '0.1460'}\n",
            "--------------------------- epoch 56 ---------------------------\n"
          ]
        },
        {
          "output_type": "stream",
          "name": "stderr",
          "text": [
            "100%|██████████| 20/20 [00:00<00:00, 24.33it/s]\n",
            "100%|██████████| 7/7 [00:00<00:00, 14.86it/s]\n"
          ]
        },
        {
          "output_type": "stream",
          "name": "stdout",
          "text": [
            "{'eval/flat_accuracy': '0.9482', 'eval/accuracy': '0.6371', 'eval/macro_precision': '0.7215', 'eval/macro_recall': '0.8004', 'eval/macro_f1': '0.7458', 'eval/micro_precision': '0.8095', 'eval/micro_recall': '0.8054', 'eval/micro_f1': '0.8075', 'eval/weighted_precision': '0.8225', 'eval/weighted_recall': '0.8054', 'eval/weighted_f1': '0.8106', 'train/loss': '0.1789', 'eval/loss': '0.1410'}\n",
            "--------------------------- epoch 57 ---------------------------\n"
          ]
        },
        {
          "output_type": "stream",
          "name": "stderr",
          "text": [
            "100%|██████████| 20/20 [00:00<00:00, 26.09it/s]\n",
            "100%|██████████| 7/7 [00:00<00:00, 14.56it/s]\n"
          ]
        },
        {
          "output_type": "stream",
          "name": "stdout",
          "text": [
            "{'eval/flat_accuracy': '0.9484', 'eval/accuracy': '0.6411', 'eval/macro_precision': '0.7244', 'eval/macro_recall': '0.7817', 'eval/macro_f1': '0.7324', 'eval/micro_precision': '0.8206', 'eval/micro_recall': '0.7900', 'eval/micro_f1': '0.8050', 'eval/weighted_precision': '0.8285', 'eval/weighted_recall': '0.7900', 'eval/weighted_f1': '0.8045', 'train/loss': '0.1768', 'eval/loss': '0.1395'}\n",
            "--------------------------- epoch 58 ---------------------------\n"
          ]
        },
        {
          "output_type": "stream",
          "name": "stderr",
          "text": [
            "100%|██████████| 20/20 [00:00<00:00, 26.15it/s]\n",
            "100%|██████████| 7/7 [00:00<00:00, 15.13it/s]\n"
          ]
        },
        {
          "output_type": "stream",
          "name": "stdout",
          "text": [
            "{'eval/flat_accuracy': '0.9478', 'eval/accuracy': '0.6366', 'eval/macro_precision': '0.7205', 'eval/macro_recall': '0.7910', 'eval/macro_f1': '0.7381', 'eval/micro_precision': '0.8133', 'eval/micro_recall': '0.7955', 'eval/micro_f1': '0.8043', 'eval/weighted_precision': '0.8274', 'eval/weighted_recall': '0.7955', 'eval/weighted_f1': '0.8078', 'train/loss': '0.1762', 'eval/loss': '0.1400'}\n",
            "--------------------------- epoch 59 ---------------------------\n"
          ]
        },
        {
          "output_type": "stream",
          "name": "stderr",
          "text": [
            "100%|██████████| 20/20 [00:00<00:00, 26.35it/s]\n",
            "100%|██████████| 7/7 [00:00<00:00, 14.60it/s]\n"
          ]
        },
        {
          "output_type": "stream",
          "name": "stdout",
          "text": [
            "{'eval/flat_accuracy': '0.9474', 'eval/accuracy': '0.6323', 'eval/macro_precision': '0.7135', 'eval/macro_recall': '0.7907', 'eval/macro_f1': '0.7316', 'eval/micro_precision': '0.8166', 'eval/micro_recall': '0.7871', 'eval/micro_f1': '0.8016', 'eval/weighted_precision': '0.8310', 'eval/weighted_recall': '0.7871', 'eval/weighted_f1': '0.8051', 'train/loss': '0.1753', 'eval/loss': '0.1425'}\n",
            "--------------------------- epoch 60 ---------------------------\n"
          ]
        },
        {
          "output_type": "stream",
          "name": "stderr",
          "text": [
            "100%|██████████| 20/20 [00:00<00:00, 26.34it/s]\n",
            "100%|██████████| 7/7 [00:00<00:00, 14.46it/s]\n"
          ]
        },
        {
          "output_type": "stream",
          "name": "stdout",
          "text": [
            "{'eval/flat_accuracy': '0.9474', 'eval/accuracy': '0.6315', 'eval/macro_precision': '0.7118', 'eval/macro_recall': '0.8008', 'eval/macro_f1': '0.7416', 'eval/micro_precision': '0.8075', 'eval/micro_recall': '0.8009', 'eval/micro_f1': '0.8042', 'eval/weighted_precision': '0.8179', 'eval/weighted_recall': '0.8009', 'eval/weighted_f1': '0.8067', 'train/loss': '0.1735', 'eval/loss': '0.1428'}\n",
            "--------------------------- epoch 61 ---------------------------\n"
          ]
        },
        {
          "output_type": "stream",
          "name": "stderr",
          "text": [
            "100%|██████████| 20/20 [00:00<00:00, 25.81it/s]\n",
            "100%|██████████| 7/7 [00:00<00:00, 14.67it/s]\n"
          ]
        },
        {
          "output_type": "stream",
          "name": "stdout",
          "text": [
            "{'eval/flat_accuracy': '0.9482', 'eval/accuracy': '0.6377', 'eval/macro_precision': '0.7176', 'eval/macro_recall': '0.8015', 'eval/macro_f1': '0.7399', 'eval/micro_precision': '0.8096', 'eval/micro_recall': '0.8053', 'eval/micro_f1': '0.8074', 'eval/weighted_precision': '0.8213', 'eval/weighted_recall': '0.8053', 'eval/weighted_f1': '0.8101', 'train/loss': '0.1720', 'eval/loss': '0.1397'}\n",
            "--------------------------- epoch 62 ---------------------------\n"
          ]
        },
        {
          "output_type": "stream",
          "name": "stderr",
          "text": [
            "100%|██████████| 20/20 [00:00<00:00, 25.53it/s]\n",
            "100%|██████████| 7/7 [00:00<00:00, 14.62it/s]\n"
          ]
        },
        {
          "output_type": "stream",
          "name": "stdout",
          "text": [
            "{'eval/flat_accuracy': '0.9479', 'eval/accuracy': '0.6354', 'eval/macro_precision': '0.7200', 'eval/macro_recall': '0.7885', 'eval/macro_f1': '0.7381', 'eval/micro_precision': '0.8092', 'eval/micro_recall': '0.8030', 'eval/micro_f1': '0.8061', 'eval/weighted_precision': '0.8276', 'eval/weighted_recall': '0.8030', 'eval/weighted_f1': '0.8115', 'train/loss': '0.1723', 'eval/loss': '0.1384'}\n",
            "--------------------------- epoch 63 ---------------------------\n"
          ]
        },
        {
          "output_type": "stream",
          "name": "stderr",
          "text": [
            "100%|██████████| 20/20 [00:00<00:00, 25.77it/s]\n",
            "100%|██████████| 7/7 [00:00<00:00, 13.81it/s]\n"
          ]
        },
        {
          "output_type": "stream",
          "name": "stdout",
          "text": [
            "{'eval/flat_accuracy': '0.9480', 'eval/accuracy': '0.6385', 'eval/macro_precision': '0.7178', 'eval/macro_recall': '0.7857', 'eval/macro_f1': '0.7307', 'eval/micro_precision': '0.8230', 'eval/micro_recall': '0.7827', 'eval/micro_f1': '0.8024', 'eval/weighted_precision': '0.8366', 'eval/weighted_recall': '0.7827', 'eval/weighted_f1': '0.8043', 'train/loss': '0.1719', 'eval/loss': '0.1386'}\n",
            "--------------------------- epoch 64 ---------------------------\n"
          ]
        },
        {
          "output_type": "stream",
          "name": "stderr",
          "text": [
            "100%|██████████| 20/20 [00:00<00:00, 24.79it/s]\n",
            "100%|██████████| 7/7 [00:00<00:00, 14.69it/s]\n"
          ]
        },
        {
          "output_type": "stream",
          "name": "stdout",
          "text": [
            "{'eval/flat_accuracy': '0.9483', 'eval/accuracy': '0.6378', 'eval/macro_precision': '0.7101', 'eval/macro_recall': '0.8102', 'eval/macro_f1': '0.7425', 'eval/micro_precision': '0.8022', 'eval/micro_recall': '0.8188', 'eval/micro_f1': '0.8104', 'eval/weighted_precision': '0.8138', 'eval/weighted_recall': '0.8188', 'eval/weighted_f1': '0.8138', 'train/loss': '0.1711', 'eval/loss': '0.1407'}\n",
            "--------------------------- epoch 65 ---------------------------\n"
          ]
        },
        {
          "output_type": "stream",
          "name": "stderr",
          "text": [
            "100%|██████████| 20/20 [00:00<00:00, 25.56it/s]\n",
            "100%|██████████| 7/7 [00:00<00:00, 13.04it/s]\n"
          ]
        },
        {
          "output_type": "stream",
          "name": "stdout",
          "text": [
            "{'eval/flat_accuracy': '0.9439', 'eval/accuracy': '0.6089', 'eval/macro_precision': '0.7042', 'eval/macro_recall': '0.8109', 'eval/macro_f1': '0.7418', 'eval/micro_precision': '0.7816', 'eval/micro_recall': '0.8114', 'eval/micro_f1': '0.7962', 'eval/weighted_precision': '0.8053', 'eval/weighted_recall': '0.8114', 'eval/weighted_f1': '0.8022', 'train/loss': '0.1695', 'eval/loss': '0.1512'}\n",
            "--------------------------- epoch 66 ---------------------------\n"
          ]
        },
        {
          "output_type": "stream",
          "name": "stderr",
          "text": [
            "100%|██████████| 20/20 [00:00<00:00, 25.59it/s]\n",
            "100%|██████████| 7/7 [00:00<00:00, 14.58it/s]\n"
          ]
        },
        {
          "output_type": "stream",
          "name": "stdout",
          "text": [
            "{'eval/flat_accuracy': '0.9488', 'eval/accuracy': '0.6405', 'eval/macro_precision': '0.7159', 'eval/macro_recall': '0.8096', 'eval/macro_f1': '0.7451', 'eval/micro_precision': '0.8093', 'eval/micro_recall': '0.8118', 'eval/micro_f1': '0.8105', 'eval/weighted_precision': '0.8208', 'eval/weighted_recall': '0.8118', 'eval/weighted_f1': '0.8139', 'train/loss': '0.1702', 'eval/loss': '0.1391'}\n",
            "--------------------------- epoch 67 ---------------------------\n"
          ]
        },
        {
          "output_type": "stream",
          "name": "stderr",
          "text": [
            "100%|██████████| 20/20 [00:00<00:00, 26.38it/s]\n",
            "100%|██████████| 7/7 [00:00<00:00, 14.68it/s]\n"
          ]
        },
        {
          "output_type": "stream",
          "name": "stdout",
          "text": [
            "{'eval/flat_accuracy': '0.9496', 'eval/accuracy': '0.6451', 'eval/macro_precision': '0.7185', 'eval/macro_recall': '0.8074', 'eval/macro_f1': '0.7473', 'eval/micro_precision': '0.8114', 'eval/micro_recall': '0.8158', 'eval/micro_f1': '0.8136', 'eval/weighted_precision': '0.8206', 'eval/weighted_recall': '0.8158', 'eval/weighted_f1': '0.8164', 'train/loss': '0.1701', 'eval/loss': '0.1366'}\n",
            "--------------------------- epoch 68 ---------------------------\n"
          ]
        },
        {
          "output_type": "stream",
          "name": "stderr",
          "text": [
            "100%|██████████| 20/20 [00:00<00:00, 25.96it/s]\n",
            "100%|██████████| 7/7 [00:00<00:00, 14.77it/s]\n"
          ]
        },
        {
          "output_type": "stream",
          "name": "stdout",
          "text": [
            "{'eval/flat_accuracy': '0.9488', 'eval/accuracy': '0.6406', 'eval/macro_precision': '0.7137', 'eval/macro_recall': '0.8026', 'eval/macro_f1': '0.7321', 'eval/micro_precision': '0.8223', 'eval/micro_recall': '0.7919', 'eval/micro_f1': '0.8068', 'eval/weighted_precision': '0.8347', 'eval/weighted_recall': '0.7919', 'eval/weighted_f1': '0.8101', 'train/loss': '0.1664', 'eval/loss': '0.1375'}\n",
            "--------------------------- epoch 69 ---------------------------\n"
          ]
        },
        {
          "output_type": "stream",
          "name": "stderr",
          "text": [
            "100%|██████████| 20/20 [00:00<00:00, 26.64it/s]\n",
            "100%|██████████| 7/7 [00:00<00:00, 14.76it/s]\n"
          ]
        },
        {
          "output_type": "stream",
          "name": "stdout",
          "text": [
            "{'eval/flat_accuracy': '0.9487', 'eval/accuracy': '0.6397', 'eval/macro_precision': '0.7169', 'eval/macro_recall': '0.8052', 'eval/macro_f1': '0.7470', 'eval/micro_precision': '0.8063', 'eval/micro_recall': '0.8159', 'eval/micro_f1': '0.8111', 'eval/weighted_precision': '0.8164', 'eval/weighted_recall': '0.8159', 'eval/weighted_f1': '0.8134', 'train/loss': '0.1644', 'eval/loss': '0.1367'}\n",
            "--------------------------- epoch 70 ---------------------------\n"
          ]
        },
        {
          "output_type": "stream",
          "name": "stderr",
          "text": [
            "100%|██████████| 20/20 [00:00<00:00, 26.05it/s]\n",
            "100%|██████████| 7/7 [00:00<00:00, 14.58it/s]\n"
          ]
        },
        {
          "output_type": "stream",
          "name": "stdout",
          "text": [
            "{'eval/flat_accuracy': '0.9488', 'eval/accuracy': '0.6403', 'eval/macro_precision': '0.7196', 'eval/macro_recall': '0.8060', 'eval/macro_f1': '0.7429', 'eval/micro_precision': '0.8133', 'eval/micro_recall': '0.8054', 'eval/micro_f1': '0.8093', 'eval/weighted_precision': '0.8274', 'eval/weighted_recall': '0.8054', 'eval/weighted_f1': '0.8133', 'train/loss': '0.1632', 'eval/loss': '0.1359'}\n",
            "--------------------------- epoch 71 ---------------------------\n"
          ]
        },
        {
          "output_type": "stream",
          "name": "stderr",
          "text": [
            "100%|██████████| 20/20 [00:00<00:00, 26.22it/s]\n",
            "100%|██████████| 7/7 [00:00<00:00, 14.56it/s]\n"
          ]
        },
        {
          "output_type": "stream",
          "name": "stdout",
          "text": [
            "{'eval/flat_accuracy': '0.9492', 'eval/accuracy': '0.6420', 'eval/macro_precision': '0.7171', 'eval/macro_recall': '0.8065', 'eval/macro_f1': '0.7447', 'eval/micro_precision': '0.8155', 'eval/micro_recall': '0.8061', 'eval/micro_f1': '0.8107', 'eval/weighted_precision': '0.8253', 'eval/weighted_recall': '0.8061', 'eval/weighted_f1': '0.8134', 'train/loss': '0.1635', 'eval/loss': '0.1373'}\n",
            "--------------------------- epoch 72 ---------------------------\n"
          ]
        },
        {
          "output_type": "stream",
          "name": "stderr",
          "text": [
            "100%|██████████| 20/20 [00:00<00:00, 26.15it/s]\n",
            "100%|██████████| 7/7 [00:00<00:00, 14.46it/s]\n"
          ]
        },
        {
          "output_type": "stream",
          "name": "stdout",
          "text": [
            "{'eval/flat_accuracy': '0.9505', 'eval/accuracy': '0.6520', 'eval/macro_precision': '0.7222', 'eval/macro_recall': '0.8041', 'eval/macro_f1': '0.7421', 'eval/micro_precision': '0.8230', 'eval/micro_recall': '0.8067', 'eval/micro_f1': '0.8147', 'eval/weighted_precision': '0.8336', 'eval/weighted_recall': '0.8067', 'eval/weighted_f1': '0.8173', 'train/loss': '0.1623', 'eval/loss': '0.1354'}\n",
            "--------------------------- epoch 73 ---------------------------\n"
          ]
        },
        {
          "output_type": "stream",
          "name": "stderr",
          "text": [
            "100%|██████████| 20/20 [00:00<00:00, 26.00it/s]\n",
            "100%|██████████| 7/7 [00:00<00:00, 14.86it/s]\n"
          ]
        },
        {
          "output_type": "stream",
          "name": "stdout",
          "text": [
            "{'eval/flat_accuracy': '0.9509', 'eval/accuracy': '0.6531', 'eval/macro_precision': '0.7267', 'eval/macro_recall': '0.8097', 'eval/macro_f1': '0.7545', 'eval/micro_precision': '0.8218', 'eval/micro_recall': '0.8120', 'eval/micro_f1': '0.8169', 'eval/weighted_precision': '0.8292', 'eval/weighted_recall': '0.8120', 'eval/weighted_f1': '0.8189', 'train/loss': '0.1614', 'eval/loss': '0.1337'}\n",
            "--------------------------- epoch 74 ---------------------------\n"
          ]
        },
        {
          "output_type": "stream",
          "name": "stderr",
          "text": [
            "100%|██████████| 20/20 [00:00<00:00, 26.25it/s]\n",
            "100%|██████████| 7/7 [00:00<00:00, 14.49it/s]\n"
          ]
        },
        {
          "output_type": "stream",
          "name": "stdout",
          "text": [
            "{'eval/flat_accuracy': '0.9469', 'eval/accuracy': '0.6305', 'eval/macro_precision': '0.7138', 'eval/macro_recall': '0.8052', 'eval/macro_f1': '0.7369', 'eval/micro_precision': '0.7974', 'eval/micro_recall': '0.8129', 'eval/micro_f1': '0.8051', 'eval/weighted_precision': '0.8188', 'eval/weighted_recall': '0.8129', 'eval/weighted_f1': '0.8108', 'train/loss': '0.1604', 'eval/loss': '0.1385'}\n",
            "--------------------------- epoch 75 ---------------------------\n"
          ]
        },
        {
          "output_type": "stream",
          "name": "stderr",
          "text": [
            "100%|██████████| 20/20 [00:00<00:00, 24.79it/s]\n",
            "100%|██████████| 7/7 [00:00<00:00, 14.12it/s]\n"
          ]
        },
        {
          "output_type": "stream",
          "name": "stdout",
          "text": [
            "{'eval/flat_accuracy': '0.9489', 'eval/accuracy': '0.6414', 'eval/macro_precision': '0.7118', 'eval/macro_recall': '0.8037', 'eval/macro_f1': '0.7354', 'eval/micro_precision': '0.8225', 'eval/micro_recall': '0.7925', 'eval/micro_f1': '0.8072', 'eval/weighted_precision': '0.8368', 'eval/weighted_recall': '0.7925', 'eval/weighted_f1': '0.8102', 'train/loss': '0.1620', 'eval/loss': '0.1363'}\n",
            "--------------------------- epoch 76 ---------------------------\n"
          ]
        },
        {
          "output_type": "stream",
          "name": "stderr",
          "text": [
            "100%|██████████| 20/20 [00:00<00:00, 26.06it/s]\n",
            "100%|██████████| 7/7 [00:00<00:00, 14.76it/s]\n"
          ]
        },
        {
          "output_type": "stream",
          "name": "stdout",
          "text": [
            "{'eval/flat_accuracy': '0.9498', 'eval/accuracy': '0.6471', 'eval/macro_precision': '0.7130', 'eval/macro_recall': '0.8126', 'eval/macro_f1': '0.7429', 'eval/micro_precision': '0.8135', 'eval/micro_recall': '0.8148', 'eval/micro_f1': '0.8141', 'eval/weighted_precision': '0.8248', 'eval/weighted_recall': '0.8148', 'eval/weighted_f1': '0.8168', 'train/loss': '0.1607', 'eval/loss': '0.1351'}\n",
            "--------------------------- epoch 77 ---------------------------\n"
          ]
        },
        {
          "output_type": "stream",
          "name": "stderr",
          "text": [
            "100%|██████████| 20/20 [00:00<00:00, 25.60it/s]\n",
            "100%|██████████| 7/7 [00:00<00:00, 14.99it/s]\n"
          ]
        },
        {
          "output_type": "stream",
          "name": "stdout",
          "text": [
            "{'eval/flat_accuracy': '0.9486', 'eval/accuracy': '0.6388', 'eval/macro_precision': '0.7158', 'eval/macro_recall': '0.8172', 'eval/macro_f1': '0.7526', 'eval/micro_precision': '0.7940', 'eval/micro_recall': '0.8357', 'eval/micro_f1': '0.8143', 'eval/weighted_precision': '0.8062', 'eval/weighted_recall': '0.8357', 'eval/weighted_f1': '0.8172', 'train/loss': '0.1599', 'eval/loss': '0.1360'}\n",
            "--------------------------- epoch 78 ---------------------------\n"
          ]
        },
        {
          "output_type": "stream",
          "name": "stderr",
          "text": [
            "100%|██████████| 20/20 [00:00<00:00, 26.62it/s]\n",
            "100%|██████████| 7/7 [00:00<00:00, 14.89it/s]\n"
          ]
        },
        {
          "output_type": "stream",
          "name": "stdout",
          "text": [
            "{'eval/flat_accuracy': '0.9498', 'eval/accuracy': '0.6489', 'eval/macro_precision': '0.7233', 'eval/macro_recall': '0.8006', 'eval/macro_f1': '0.7440', 'eval/micro_precision': '0.8253', 'eval/micro_recall': '0.7962', 'eval/micro_f1': '0.8105', 'eval/weighted_precision': '0.8373', 'eval/weighted_recall': '0.7962', 'eval/weighted_f1': '0.8134', 'train/loss': '0.1588', 'eval/loss': '0.1345'}\n",
            "--------------------------- epoch 79 ---------------------------\n"
          ]
        },
        {
          "output_type": "stream",
          "name": "stderr",
          "text": [
            "100%|██████████| 20/20 [00:00<00:00, 25.94it/s]\n",
            "100%|██████████| 7/7 [00:00<00:00, 14.42it/s]\n"
          ]
        },
        {
          "output_type": "stream",
          "name": "stdout",
          "text": [
            "{'eval/flat_accuracy': '0.9510', 'eval/accuracy': '0.6518', 'eval/macro_precision': '0.7235', 'eval/macro_recall': '0.8025', 'eval/macro_f1': '0.7451', 'eval/micro_precision': '0.8266', 'eval/micro_recall': '0.8059', 'eval/micro_f1': '0.8161', 'eval/weighted_precision': '0.8343', 'eval/weighted_recall': '0.8059', 'eval/weighted_f1': '0.8176', 'train/loss': '0.1580', 'eval/loss': '0.1305'}\n",
            "--------------------------- epoch 80 ---------------------------\n"
          ]
        },
        {
          "output_type": "stream",
          "name": "stderr",
          "text": [
            "100%|██████████| 20/20 [00:00<00:00, 25.88it/s]\n",
            "100%|██████████| 7/7 [00:00<00:00, 14.97it/s]\n"
          ]
        },
        {
          "output_type": "stream",
          "name": "stdout",
          "text": [
            "{'eval/flat_accuracy': '0.9491', 'eval/accuracy': '0.6432', 'eval/macro_precision': '0.7177', 'eval/macro_recall': '0.8013', 'eval/macro_f1': '0.7407', 'eval/micro_precision': '0.8133', 'eval/micro_recall': '0.8088', 'eval/micro_f1': '0.8111', 'eval/weighted_precision': '0.8285', 'eval/weighted_recall': '0.8088', 'eval/weighted_f1': '0.8153', 'train/loss': '0.1570', 'eval/loss': '0.1338', 'train/epoch': '2.0000'}\n",
            "--------------------------- epoch 81 ---------------------------\n"
          ]
        },
        {
          "output_type": "stream",
          "name": "stderr",
          "text": [
            "100%|██████████| 20/20 [00:00<00:00, 27.00it/s]\n",
            "100%|██████████| 7/7 [00:00<00:00, 15.03it/s]\n"
          ]
        },
        {
          "output_type": "stream",
          "name": "stdout",
          "text": [
            "{'eval/flat_accuracy': '0.9494', 'eval/accuracy': '0.6465', 'eval/macro_precision': '0.7155', 'eval/macro_recall': '0.8143', 'eval/macro_f1': '0.7485', 'eval/micro_precision': '0.8093', 'eval/micro_recall': '0.8177', 'eval/micro_f1': '0.8135', 'eval/weighted_precision': '0.8205', 'eval/weighted_recall': '0.8177', 'eval/weighted_f1': '0.8164', 'train/loss': '0.1567', 'eval/loss': '0.1341'}\n",
            "--------------------------- epoch 82 ---------------------------\n"
          ]
        },
        {
          "output_type": "stream",
          "name": "stderr",
          "text": [
            "100%|██████████| 20/20 [00:00<00:00, 25.84it/s]\n",
            "100%|██████████| 7/7 [00:00<00:00, 15.11it/s]\n"
          ]
        },
        {
          "output_type": "stream",
          "name": "stdout",
          "text": [
            "{'eval/flat_accuracy': '0.9511', 'eval/accuracy': '0.6558', 'eval/macro_precision': '0.7223', 'eval/macro_recall': '0.8146', 'eval/macro_f1': '0.7496', 'eval/micro_precision': '0.8201', 'eval/micro_recall': '0.8169', 'eval/micro_f1': '0.8185', 'eval/weighted_precision': '0.8276', 'eval/weighted_recall': '0.8169', 'eval/weighted_f1': '0.8198', 'train/loss': '0.1547', 'eval/loss': '0.1314'}\n",
            "--------------------------- epoch 83 ---------------------------\n"
          ]
        },
        {
          "output_type": "stream",
          "name": "stderr",
          "text": [
            "100%|██████████| 20/20 [00:00<00:00, 25.72it/s]\n",
            "100%|██████████| 7/7 [00:00<00:00, 14.70it/s]\n"
          ]
        },
        {
          "output_type": "stream",
          "name": "stdout",
          "text": [
            "{'eval/flat_accuracy': '0.9508', 'eval/accuracy': '0.6542', 'eval/macro_precision': '0.7238', 'eval/macro_recall': '0.8049', 'eval/macro_f1': '0.7401', 'eval/micro_precision': '0.8259', 'eval/micro_recall': '0.8052', 'eval/micro_f1': '0.8154', 'eval/weighted_precision': '0.8373', 'eval/weighted_recall': '0.8052', 'eval/weighted_f1': '0.8183', 'train/loss': '0.1549', 'eval/loss': '0.1323'}\n",
            "--------------------------- epoch 84 ---------------------------\n"
          ]
        },
        {
          "output_type": "stream",
          "name": "stderr",
          "text": [
            "100%|██████████| 20/20 [00:00<00:00, 25.55it/s]\n",
            "100%|██████████| 7/7 [00:00<00:00, 14.54it/s]\n"
          ]
        },
        {
          "output_type": "stream",
          "name": "stdout",
          "text": [
            "{'eval/flat_accuracy': '0.9504', 'eval/accuracy': '0.6482', 'eval/macro_precision': '0.7192', 'eval/macro_recall': '0.8154', 'eval/macro_f1': '0.7445', 'eval/micro_precision': '0.8161', 'eval/micro_recall': '0.8163', 'eval/micro_f1': '0.8162', 'eval/weighted_precision': '0.8243', 'eval/weighted_recall': '0.8163', 'eval/weighted_f1': '0.8179', 'train/loss': '0.1543', 'eval/loss': '0.1330'}\n",
            "--------------------------- epoch 85 ---------------------------\n"
          ]
        },
        {
          "output_type": "stream",
          "name": "stderr",
          "text": [
            "100%|██████████| 20/20 [00:00<00:00, 24.76it/s]\n",
            "100%|██████████| 7/7 [00:00<00:00, 14.74it/s]\n"
          ]
        },
        {
          "output_type": "stream",
          "name": "stdout",
          "text": [
            "{'eval/flat_accuracy': '0.9486', 'eval/accuracy': '0.6414', 'eval/macro_precision': '0.7197', 'eval/macro_recall': '0.8146', 'eval/macro_f1': '0.7499', 'eval/micro_precision': '0.8072', 'eval/micro_recall': '0.8138', 'eval/micro_f1': '0.8105', 'eval/weighted_precision': '0.8264', 'eval/weighted_recall': '0.8138', 'eval/weighted_f1': '0.8159', 'train/loss': '0.1558', 'eval/loss': '0.1389'}\n",
            "--------------------------- epoch 86 ---------------------------\n"
          ]
        },
        {
          "output_type": "stream",
          "name": "stderr",
          "text": [
            "100%|██████████| 20/20 [00:00<00:00, 25.33it/s]\n",
            "100%|██████████| 7/7 [00:00<00:00, 14.81it/s]\n"
          ]
        },
        {
          "output_type": "stream",
          "name": "stdout",
          "text": [
            "{'eval/flat_accuracy': '0.9505', 'eval/accuracy': '0.6529', 'eval/macro_precision': '0.7158', 'eval/macro_recall': '0.8235', 'eval/macro_f1': '0.7532', 'eval/micro_precision': '0.8073', 'eval/micro_recall': '0.8315', 'eval/micro_f1': '0.8192', 'eval/weighted_precision': '0.8182', 'eval/weighted_recall': '0.8315', 'eval/weighted_f1': '0.8225', 'train/loss': '0.1539', 'eval/loss': '0.1338'}\n",
            "--------------------------- epoch 87 ---------------------------\n"
          ]
        },
        {
          "output_type": "stream",
          "name": "stderr",
          "text": [
            "100%|██████████| 20/20 [00:00<00:00, 26.08it/s]\n",
            "100%|██████████| 7/7 [00:00<00:00, 14.60it/s]\n"
          ]
        },
        {
          "output_type": "stream",
          "name": "stdout",
          "text": [
            "{'eval/flat_accuracy': '0.9484', 'eval/accuracy': '0.6366', 'eval/macro_precision': '0.7231', 'eval/macro_recall': '0.8160', 'eval/macro_f1': '0.7572', 'eval/micro_precision': '0.7941', 'eval/micro_recall': '0.8343', 'eval/micro_f1': '0.8137', 'eval/weighted_precision': '0.8118', 'eval/weighted_recall': '0.8343', 'eval/weighted_f1': '0.8190', 'train/loss': '0.1533', 'eval/loss': '0.1358'}\n",
            "--------------------------- epoch 88 ---------------------------\n"
          ]
        },
        {
          "output_type": "stream",
          "name": "stderr",
          "text": [
            "100%|██████████| 20/20 [00:00<00:00, 25.66it/s]\n",
            "100%|██████████| 7/7 [00:00<00:00, 14.77it/s]\n"
          ]
        },
        {
          "output_type": "stream",
          "name": "stdout",
          "text": [
            "{'eval/flat_accuracy': '0.9515', 'eval/accuracy': '0.6574', 'eval/macro_precision': '0.7260', 'eval/macro_recall': '0.8140', 'eval/macro_f1': '0.7548', 'eval/micro_precision': '0.8164', 'eval/micro_recall': '0.8263', 'eval/micro_f1': '0.8213', 'eval/weighted_precision': '0.8245', 'eval/weighted_recall': '0.8263', 'eval/weighted_f1': '0.8237', 'train/loss': '0.1514', 'eval/loss': '0.1289'}\n",
            "--------------------------- epoch 89 ---------------------------\n"
          ]
        },
        {
          "output_type": "stream",
          "name": "stderr",
          "text": [
            "100%|██████████| 20/20 [00:00<00:00, 25.61it/s]\n",
            "100%|██████████| 7/7 [00:00<00:00, 14.54it/s]\n"
          ]
        },
        {
          "output_type": "stream",
          "name": "stdout",
          "text": [
            "{'eval/flat_accuracy': '0.9522', 'eval/accuracy': '0.6617', 'eval/macro_precision': '0.7249', 'eval/macro_recall': '0.8164', 'eval/macro_f1': '0.7554', 'eval/micro_precision': '0.8238', 'eval/micro_recall': '0.8210', 'eval/micro_f1': '0.8224', 'eval/weighted_precision': '0.8299', 'eval/weighted_recall': '0.8210', 'eval/weighted_f1': '0.8236', 'train/loss': '0.1499', 'eval/loss': '0.1288'}\n",
            "--------------------------- epoch 90 ---------------------------\n"
          ]
        },
        {
          "output_type": "stream",
          "name": "stderr",
          "text": [
            "100%|██████████| 20/20 [00:00<00:00, 26.44it/s]\n",
            "100%|██████████| 7/7 [00:00<00:00, 15.19it/s]\n"
          ]
        },
        {
          "output_type": "stream",
          "name": "stdout",
          "text": [
            "{'eval/flat_accuracy': '0.9476', 'eval/accuracy': '0.6357', 'eval/macro_precision': '0.7050', 'eval/macro_recall': '0.8096', 'eval/macro_f1': '0.7275', 'eval/micro_precision': '0.8090', 'eval/micro_recall': '0.8005', 'eval/micro_f1': '0.8047', 'eval/weighted_precision': '0.8346', 'eval/weighted_recall': '0.8005', 'eval/weighted_f1': '0.8128', 'train/loss': '0.1498', 'eval/loss': '0.1379'}\n",
            "--------------------------- epoch 91 ---------------------------\n"
          ]
        },
        {
          "output_type": "stream",
          "name": "stderr",
          "text": [
            "100%|██████████| 20/20 [00:00<00:00, 26.00it/s]\n",
            "100%|██████████| 7/7 [00:00<00:00, 14.83it/s]\n"
          ]
        },
        {
          "output_type": "stream",
          "name": "stdout",
          "text": [
            "{'eval/flat_accuracy': '0.9517', 'eval/accuracy': '0.6589', 'eval/macro_precision': '0.7180', 'eval/macro_recall': '0.8199', 'eval/macro_f1': '0.7519', 'eval/micro_precision': '0.8204', 'eval/micro_recall': '0.8218', 'eval/micro_f1': '0.8211', 'eval/weighted_precision': '0.8291', 'eval/weighted_recall': '0.8218', 'eval/weighted_f1': '0.8231', 'train/loss': '0.1510', 'eval/loss': '0.1318'}\n",
            "--------------------------- epoch 92 ---------------------------\n"
          ]
        },
        {
          "output_type": "stream",
          "name": "stderr",
          "text": [
            "100%|██████████| 20/20 [00:00<00:00, 26.50it/s]\n",
            "100%|██████████| 7/7 [00:00<00:00, 14.43it/s]\n"
          ]
        },
        {
          "output_type": "stream",
          "name": "stdout",
          "text": [
            "{'eval/flat_accuracy': '0.9516', 'eval/accuracy': '0.6637', 'eval/macro_precision': '0.7244', 'eval/macro_recall': '0.8140', 'eval/macro_f1': '0.7494', 'eval/micro_precision': '0.8214', 'eval/micro_recall': '0.8194', 'eval/micro_f1': '0.8204', 'eval/weighted_precision': '0.8306', 'eval/weighted_recall': '0.8194', 'eval/weighted_f1': '0.8218', 'train/loss': '0.1488', 'eval/loss': '0.1316'}\n",
            "--------------------------- epoch 93 ---------------------------\n"
          ]
        },
        {
          "output_type": "stream",
          "name": "stderr",
          "text": [
            "100%|██████████| 20/20 [00:00<00:00, 26.22it/s]\n",
            "100%|██████████| 7/7 [00:00<00:00, 14.18it/s]\n"
          ]
        },
        {
          "output_type": "stream",
          "name": "stdout",
          "text": [
            "{'eval/flat_accuracy': '0.9499', 'eval/accuracy': '0.6506', 'eval/macro_precision': '0.7142', 'eval/macro_recall': '0.8147', 'eval/macro_f1': '0.7428', 'eval/micro_precision': '0.8113', 'eval/micro_recall': '0.8194', 'eval/micro_f1': '0.8153', 'eval/weighted_precision': '0.8275', 'eval/weighted_recall': '0.8194', 'eval/weighted_f1': '0.8199', 'train/loss': '0.1491', 'eval/loss': '0.1322'}\n",
            "--------------------------- epoch 94 ---------------------------\n"
          ]
        },
        {
          "output_type": "stream",
          "name": "stderr",
          "text": [
            "100%|██████████| 20/20 [00:00<00:00, 26.13it/s]\n",
            "100%|██████████| 7/7 [00:00<00:00, 14.47it/s]\n"
          ]
        },
        {
          "output_type": "stream",
          "name": "stdout",
          "text": [
            "{'eval/flat_accuracy': '0.9506', 'eval/accuracy': '0.6502', 'eval/macro_precision': '0.7209', 'eval/macro_recall': '0.8200', 'eval/macro_f1': '0.7538', 'eval/micro_precision': '0.8108', 'eval/micro_recall': '0.8265', 'eval/micro_f1': '0.8186', 'eval/weighted_precision': '0.8235', 'eval/weighted_recall': '0.8265', 'eval/weighted_f1': '0.8223', 'train/loss': '0.1478', 'eval/loss': '0.1300'}\n",
            "--------------------------- epoch 95 ---------------------------\n"
          ]
        },
        {
          "output_type": "stream",
          "name": "stderr",
          "text": [
            "100%|██████████| 20/20 [00:00<00:00, 25.48it/s]\n",
            "100%|██████████| 7/7 [00:00<00:00, 14.42it/s]\n"
          ]
        },
        {
          "output_type": "stream",
          "name": "stdout",
          "text": [
            "{'eval/flat_accuracy': '0.9510', 'eval/accuracy': '0.6543', 'eval/macro_precision': '0.7155', 'eval/macro_recall': '0.8271', 'eval/macro_f1': '0.7525', 'eval/micro_precision': '0.8139', 'eval/micro_recall': '0.8252', 'eval/micro_f1': '0.8195', 'eval/weighted_precision': '0.8279', 'eval/weighted_recall': '0.8252', 'eval/weighted_f1': '0.8239', 'train/loss': '0.1481', 'eval/loss': '0.1317'}\n",
            "--------------------------- epoch 96 ---------------------------\n"
          ]
        },
        {
          "output_type": "stream",
          "name": "stderr",
          "text": [
            "100%|██████████| 20/20 [00:00<00:00, 25.81it/s]\n",
            "100%|██████████| 7/7 [00:00<00:00, 14.56it/s]\n"
          ]
        },
        {
          "output_type": "stream",
          "name": "stdout",
          "text": [
            "{'eval/flat_accuracy': '0.9508', 'eval/accuracy': '0.6549', 'eval/macro_precision': '0.7108', 'eval/macro_recall': '0.8233', 'eval/macro_f1': '0.7473', 'eval/micro_precision': '0.8135', 'eval/micro_recall': '0.8247', 'eval/micro_f1': '0.8191', 'eval/weighted_precision': '0.8258', 'eval/weighted_recall': '0.8247', 'eval/weighted_f1': '0.8230', 'train/loss': '0.1461', 'eval/loss': '0.1317'}\n",
            "--------------------------- epoch 97 ---------------------------\n"
          ]
        },
        {
          "output_type": "stream",
          "name": "stderr",
          "text": [
            "100%|██████████| 20/20 [00:00<00:00, 26.13it/s]\n",
            "100%|██████████| 7/7 [00:00<00:00, 14.63it/s]\n"
          ]
        },
        {
          "output_type": "stream",
          "name": "stdout",
          "text": [
            "{'eval/flat_accuracy': '0.9492', 'eval/accuracy': '0.6440', 'eval/macro_precision': '0.7073', 'eval/macro_recall': '0.8314', 'eval/macro_f1': '0.7522', 'eval/micro_precision': '0.8002', 'eval/micro_recall': '0.8313', 'eval/micro_f1': '0.8155', 'eval/weighted_precision': '0.8162', 'eval/weighted_recall': '0.8313', 'eval/weighted_f1': '0.8203', 'train/loss': '0.1460', 'eval/loss': '0.1373'}\n",
            "--------------------------- epoch 98 ---------------------------\n"
          ]
        },
        {
          "output_type": "stream",
          "name": "stderr",
          "text": [
            "100%|██████████| 20/20 [00:00<00:00, 25.68it/s]\n",
            "100%|██████████| 7/7 [00:00<00:00, 15.29it/s]\n"
          ]
        },
        {
          "output_type": "stream",
          "name": "stdout",
          "text": [
            "{'eval/flat_accuracy': '0.9491', 'eval/accuracy': '0.6452', 'eval/macro_precision': '0.7118', 'eval/macro_recall': '0.8230', 'eval/macro_f1': '0.7461', 'eval/micro_precision': '0.8019', 'eval/micro_recall': '0.8275', 'eval/micro_f1': '0.8145', 'eval/weighted_precision': '0.8181', 'eval/weighted_recall': '0.8275', 'eval/weighted_f1': '0.8187', 'train/loss': '0.1460', 'eval/loss': '0.1359'}\n",
            "--------------------------- epoch 99 ---------------------------\n"
          ]
        },
        {
          "output_type": "stream",
          "name": "stderr",
          "text": [
            "100%|██████████| 20/20 [00:00<00:00, 26.05it/s]\n",
            "100%|██████████| 7/7 [00:00<00:00, 15.02it/s]\n"
          ]
        },
        {
          "output_type": "stream",
          "name": "stdout",
          "text": [
            "{'eval/flat_accuracy': '0.9509', 'eval/accuracy': '0.6545', 'eval/macro_precision': '0.7128', 'eval/macro_recall': '0.8294', 'eval/macro_f1': '0.7538', 'eval/micro_precision': '0.8090', 'eval/micro_recall': '0.8329', 'eval/micro_f1': '0.8208', 'eval/weighted_precision': '0.8226', 'eval/weighted_recall': '0.8329', 'eval/weighted_f1': '0.8252', 'train/loss': '0.1448', 'eval/loss': '0.1312'}\n",
            "--------------------------- epoch 100 ---------------------------\n"
          ]
        },
        {
          "output_type": "stream",
          "name": "stderr",
          "text": [
            "100%|██████████| 20/20 [00:00<00:00, 26.06it/s]\n",
            "100%|██████████| 7/7 [00:00<00:00, 14.68it/s]\n"
          ]
        },
        {
          "output_type": "stream",
          "name": "stdout",
          "text": [
            "{'eval/flat_accuracy': '0.9513', 'eval/accuracy': '0.6588', 'eval/macro_precision': '0.7285', 'eval/macro_recall': '0.8206', 'eval/macro_f1': '0.7619', 'eval/micro_precision': '0.8160', 'eval/micro_recall': '0.8249', 'eval/micro_f1': '0.8205', 'eval/weighted_precision': '0.8245', 'eval/weighted_recall': '0.8249', 'eval/weighted_f1': '0.8227', 'train/loss': '0.1434', 'eval/loss': '0.1295'}\n",
            "--------------------------- epoch 101 ---------------------------\n"
          ]
        },
        {
          "output_type": "stream",
          "name": "stderr",
          "text": [
            "100%|██████████| 20/20 [00:00<00:00, 24.03it/s]\n",
            "100%|██████████| 7/7 [00:00<00:00, 14.23it/s]\n"
          ]
        },
        {
          "output_type": "stream",
          "name": "stdout",
          "text": [
            "{'eval/flat_accuracy': '0.9509', 'eval/accuracy': '0.6565', 'eval/macro_precision': '0.7154', 'eval/macro_recall': '0.8192', 'eval/macro_f1': '0.7462', 'eval/micro_precision': '0.8161', 'eval/micro_recall': '0.8211', 'eval/micro_f1': '0.8186', 'eval/weighted_precision': '0.8278', 'eval/weighted_recall': '0.8211', 'eval/weighted_f1': '0.8210', 'train/loss': '0.1433', 'eval/loss': '0.1327'}\n",
            "--------------------------- epoch 102 ---------------------------\n"
          ]
        },
        {
          "output_type": "stream",
          "name": "stderr",
          "text": [
            "100%|██████████| 20/20 [00:00<00:00, 24.73it/s]\n",
            "100%|██████████| 7/7 [00:00<00:00, 15.12it/s]\n"
          ]
        },
        {
          "output_type": "stream",
          "name": "stdout",
          "text": [
            "{'eval/flat_accuracy': '0.9517', 'eval/accuracy': '0.6589', 'eval/macro_precision': '0.7275', 'eval/macro_recall': '0.8179', 'eval/macro_f1': '0.7575', 'eval/micro_precision': '0.8201', 'eval/micro_recall': '0.8220', 'eval/micro_f1': '0.8211', 'eval/weighted_precision': '0.8321', 'eval/weighted_recall': '0.8220', 'eval/weighted_f1': '0.8248', 'train/loss': '0.1416', 'eval/loss': '0.1285'}\n",
            "--------------------------- epoch 103 ---------------------------\n"
          ]
        },
        {
          "output_type": "stream",
          "name": "stderr",
          "text": [
            "100%|██████████| 20/20 [00:00<00:00, 25.80it/s]\n",
            "100%|██████████| 7/7 [00:00<00:00, 14.30it/s]\n"
          ]
        },
        {
          "output_type": "stream",
          "name": "stdout",
          "text": [
            "{'eval/flat_accuracy': '0.9512', 'eval/accuracy': '0.6568', 'eval/macro_precision': '0.7200', 'eval/macro_recall': '0.8239', 'eval/macro_f1': '0.7537', 'eval/micro_precision': '0.8149', 'eval/micro_recall': '0.8258', 'eval/micro_f1': '0.8203', 'eval/weighted_precision': '0.8276', 'eval/weighted_recall': '0.8258', 'eval/weighted_f1': '0.8244', 'train/loss': '0.1410', 'eval/loss': '0.1307'}\n",
            "--------------------------- epoch 104 ---------------------------\n"
          ]
        },
        {
          "output_type": "stream",
          "name": "stderr",
          "text": [
            "100%|██████████| 20/20 [00:00<00:00, 26.12it/s]\n",
            "100%|██████████| 7/7 [00:00<00:00, 14.03it/s]\n"
          ]
        },
        {
          "output_type": "stream",
          "name": "stdout",
          "text": [
            "{'eval/flat_accuracy': '0.9515', 'eval/accuracy': '0.6583', 'eval/macro_precision': '0.7213', 'eval/macro_recall': '0.8253', 'eval/macro_f1': '0.7576', 'eval/micro_precision': '0.8126', 'eval/micro_recall': '0.8329', 'eval/micro_f1': '0.8226', 'eval/weighted_precision': '0.8243', 'eval/weighted_recall': '0.8329', 'eval/weighted_f1': '0.8266', 'train/loss': '0.1431', 'eval/loss': '0.1292'}\n",
            "--------------------------- epoch 105 ---------------------------\n"
          ]
        },
        {
          "output_type": "stream",
          "name": "stderr",
          "text": [
            "100%|██████████| 20/20 [00:00<00:00, 24.61it/s]\n",
            "100%|██████████| 7/7 [00:00<00:00, 14.90it/s]\n"
          ]
        },
        {
          "output_type": "stream",
          "name": "stdout",
          "text": [
            "{'eval/flat_accuracy': '0.9482', 'eval/accuracy': '0.6368', 'eval/macro_precision': '0.7107', 'eval/macro_recall': '0.8291', 'eval/macro_f1': '0.7518', 'eval/micro_precision': '0.7886', 'eval/micro_recall': '0.8422', 'eval/micro_f1': '0.8145', 'eval/weighted_precision': '0.8102', 'eval/weighted_recall': '0.8422', 'eval/weighted_f1': '0.8211', 'train/loss': '0.1400', 'eval/loss': '0.1352'}\n",
            "--------------------------- epoch 106 ---------------------------\n"
          ]
        },
        {
          "output_type": "stream",
          "name": "stderr",
          "text": [
            "100%|██████████| 20/20 [00:00<00:00, 26.49it/s]\n",
            "100%|██████████| 7/7 [00:00<00:00, 14.70it/s]\n"
          ]
        },
        {
          "output_type": "stream",
          "name": "stdout",
          "text": [
            "{'eval/flat_accuracy': '0.9505', 'eval/accuracy': '0.6515', 'eval/macro_precision': '0.7105', 'eval/macro_recall': '0.8268', 'eval/macro_f1': '0.7495', 'eval/micro_precision': '0.8087', 'eval/micro_recall': '0.8297', 'eval/micro_f1': '0.8191', 'eval/weighted_precision': '0.8200', 'eval/weighted_recall': '0.8297', 'eval/weighted_f1': '0.8218', 'train/loss': '0.1412', 'eval/loss': '0.1324'}\n",
            "--------------------------- epoch 107 ---------------------------\n"
          ]
        },
        {
          "output_type": "stream",
          "name": "stderr",
          "text": [
            "100%|██████████| 20/20 [00:00<00:00, 25.26it/s]\n",
            "100%|██████████| 7/7 [00:00<00:00, 14.24it/s]\n"
          ]
        },
        {
          "output_type": "stream",
          "name": "stdout",
          "text": [
            "{'eval/flat_accuracy': '0.9474', 'eval/accuracy': '0.6343', 'eval/macro_precision': '0.7004', 'eval/macro_recall': '0.8229', 'eval/macro_f1': '0.7390', 'eval/micro_precision': '0.7885', 'eval/micro_recall': '0.8333', 'eval/micro_f1': '0.8103', 'eval/weighted_precision': '0.8122', 'eval/weighted_recall': '0.8333', 'eval/weighted_f1': '0.8176', 'train/loss': '0.1407', 'eval/loss': '0.1364'}\n",
            "--------------------------- epoch 108 ---------------------------\n"
          ]
        },
        {
          "output_type": "stream",
          "name": "stderr",
          "text": [
            "100%|██████████| 20/20 [00:00<00:00, 25.70it/s]\n",
            "100%|██████████| 7/7 [00:00<00:00, 14.53it/s]\n"
          ]
        },
        {
          "output_type": "stream",
          "name": "stdout",
          "text": [
            "{'eval/flat_accuracy': '0.9486', 'eval/accuracy': '0.6403', 'eval/macro_precision': '0.7068', 'eval/macro_recall': '0.8243', 'eval/macro_f1': '0.7368', 'eval/micro_precision': '0.8076', 'eval/micro_recall': '0.8125', 'eval/micro_f1': '0.8101', 'eval/weighted_precision': '0.8294', 'eval/weighted_recall': '0.8125', 'eval/weighted_f1': '0.8147', 'train/loss': '0.1404', 'eval/loss': '0.1371'}\n",
            "--------------------------- epoch 109 ---------------------------\n"
          ]
        },
        {
          "output_type": "stream",
          "name": "stderr",
          "text": [
            "100%|██████████| 20/20 [00:00<00:00, 25.77it/s]\n",
            "100%|██████████| 7/7 [00:00<00:00, 14.84it/s]\n"
          ]
        },
        {
          "output_type": "stream",
          "name": "stdout",
          "text": [
            "{'eval/flat_accuracy': '0.9520', 'eval/accuracy': '0.6594', 'eval/macro_precision': '0.7220', 'eval/macro_recall': '0.8315', 'eval/macro_f1': '0.7616', 'eval/micro_precision': '0.8151', 'eval/micro_recall': '0.8334', 'eval/micro_f1': '0.8242', 'eval/weighted_precision': '0.8237', 'eval/weighted_recall': '0.8334', 'eval/weighted_f1': '0.8266', 'train/loss': '0.1369', 'eval/loss': '0.1281'}\n",
            "--------------------------- epoch 110 ---------------------------\n"
          ]
        },
        {
          "output_type": "stream",
          "name": "stderr",
          "text": [
            "100%|██████████| 20/20 [00:00<00:00, 26.48it/s]\n",
            "100%|██████████| 7/7 [00:00<00:00, 15.16it/s]\n"
          ]
        },
        {
          "output_type": "stream",
          "name": "stdout",
          "text": [
            "{'eval/flat_accuracy': '0.9512', 'eval/accuracy': '0.6580', 'eval/macro_precision': '0.7172', 'eval/macro_recall': '0.8261', 'eval/macro_f1': '0.7541', 'eval/micro_precision': '0.8150', 'eval/micro_recall': '0.8259', 'eval/micro_f1': '0.8204', 'eval/weighted_precision': '0.8253', 'eval/weighted_recall': '0.8259', 'eval/weighted_f1': '0.8230', 'train/loss': '0.1377', 'eval/loss': '0.1297'}\n",
            "--------------------------- epoch 111 ---------------------------\n"
          ]
        },
        {
          "output_type": "stream",
          "name": "stderr",
          "text": [
            "100%|██████████| 20/20 [00:00<00:00, 25.33it/s]\n",
            "100%|██████████| 7/7 [00:00<00:00, 14.93it/s]\n"
          ]
        },
        {
          "output_type": "stream",
          "name": "stdout",
          "text": [
            "{'eval/flat_accuracy': '0.9522', 'eval/accuracy': '0.6622', 'eval/macro_precision': '0.7197', 'eval/macro_recall': '0.8294', 'eval/macro_f1': '0.7503', 'eval/micro_precision': '0.8243', 'eval/micro_recall': '0.8202', 'eval/micro_f1': '0.8223', 'eval/weighted_precision': '0.8364', 'eval/weighted_recall': '0.8202', 'eval/weighted_f1': '0.8251', 'train/loss': '0.1370', 'eval/loss': '0.1288'}\n",
            "--------------------------- epoch 112 ---------------------------\n"
          ]
        },
        {
          "output_type": "stream",
          "name": "stderr",
          "text": [
            "100%|██████████| 20/20 [00:00<00:00, 26.83it/s]\n",
            "100%|██████████| 7/7 [00:00<00:00, 12.66it/s]\n"
          ]
        },
        {
          "output_type": "stream",
          "name": "stdout",
          "text": [
            "{'eval/flat_accuracy': '0.9511', 'eval/accuracy': '0.6557', 'eval/macro_precision': '0.7115', 'eval/macro_recall': '0.8288', 'eval/macro_f1': '0.7518', 'eval/micro_precision': '0.8102', 'eval/micro_recall': '0.8329', 'eval/micro_f1': '0.8214', 'eval/weighted_precision': '0.8242', 'eval/weighted_recall': '0.8329', 'eval/weighted_f1': '0.8260', 'train/loss': '0.1352', 'eval/loss': '0.1305'}\n",
            "--------------------------- epoch 113 ---------------------------\n"
          ]
        },
        {
          "output_type": "stream",
          "name": "stderr",
          "text": [
            "100%|██████████| 20/20 [00:00<00:00, 25.89it/s]\n",
            "100%|██████████| 7/7 [00:00<00:00, 14.72it/s]\n"
          ]
        },
        {
          "output_type": "stream",
          "name": "stdout",
          "text": [
            "{'eval/flat_accuracy': '0.9506', 'eval/accuracy': '0.6508', 'eval/macro_precision': '0.7134', 'eval/macro_recall': '0.8295', 'eval/macro_f1': '0.7502', 'eval/micro_precision': '0.8055', 'eval/micro_recall': '0.8357', 'eval/micro_f1': '0.8203', 'eval/weighted_precision': '0.8192', 'eval/weighted_recall': '0.8357', 'eval/weighted_f1': '0.8250', 'train/loss': '0.1355', 'eval/loss': '0.1314'}\n",
            "--------------------------- epoch 114 ---------------------------\n"
          ]
        },
        {
          "output_type": "stream",
          "name": "stderr",
          "text": [
            "100%|██████████| 20/20 [00:00<00:00, 25.27it/s]\n",
            "100%|██████████| 7/7 [00:00<00:00, 14.58it/s]\n"
          ]
        },
        {
          "output_type": "stream",
          "name": "stdout",
          "text": [
            "{'eval/flat_accuracy': '0.9512', 'eval/accuracy': '0.6538', 'eval/macro_precision': '0.7162', 'eval/macro_recall': '0.8330', 'eval/macro_f1': '0.7528', 'eval/micro_precision': '0.8082', 'eval/micro_recall': '0.8366', 'eval/micro_f1': '0.8222', 'eval/weighted_precision': '0.8236', 'eval/weighted_recall': '0.8366', 'eval/weighted_f1': '0.8270', 'train/loss': '0.1341', 'eval/loss': '0.1301'}\n",
            "--------------------------- epoch 115 ---------------------------\n"
          ]
        },
        {
          "output_type": "stream",
          "name": "stderr",
          "text": [
            "100%|██████████| 20/20 [00:00<00:00, 24.79it/s]\n",
            "100%|██████████| 7/7 [00:00<00:00, 14.81it/s]\n"
          ]
        },
        {
          "output_type": "stream",
          "name": "stdout",
          "text": [
            "{'eval/flat_accuracy': '0.9529', 'eval/accuracy': '0.6666', 'eval/macro_precision': '0.7234', 'eval/macro_recall': '0.8262', 'eval/macro_f1': '0.7594', 'eval/micro_precision': '0.8202', 'eval/micro_recall': '0.8338', 'eval/micro_f1': '0.8269', 'eval/weighted_precision': '0.8275', 'eval/weighted_recall': '0.8338', 'eval/weighted_f1': '0.8293', 'train/loss': '0.1347', 'eval/loss': '0.1272'}\n",
            "--------------------------- epoch 116 ---------------------------\n"
          ]
        },
        {
          "output_type": "stream",
          "name": "stderr",
          "text": [
            "100%|██████████| 20/20 [00:00<00:00, 25.23it/s]\n",
            "100%|██████████| 7/7 [00:00<00:00, 14.49it/s]\n"
          ]
        },
        {
          "output_type": "stream",
          "name": "stdout",
          "text": [
            "{'eval/flat_accuracy': '0.9495', 'eval/accuracy': '0.6462', 'eval/macro_precision': '0.7078', 'eval/macro_recall': '0.8192', 'eval/macro_f1': '0.7369', 'eval/micro_precision': '0.8072', 'eval/micro_recall': '0.8216', 'eval/micro_f1': '0.8144', 'eval/weighted_precision': '0.8317', 'eval/weighted_recall': '0.8216', 'eval/weighted_f1': '0.8226', 'train/loss': '0.1345', 'eval/loss': '0.1329'}\n",
            "--------------------------- epoch 117 ---------------------------\n"
          ]
        },
        {
          "output_type": "stream",
          "name": "stderr",
          "text": [
            "100%|██████████| 20/20 [00:00<00:00, 26.48it/s]\n",
            "100%|██████████| 7/7 [00:00<00:00, 14.68it/s]\n"
          ]
        },
        {
          "output_type": "stream",
          "name": "stdout",
          "text": [
            "{'eval/flat_accuracy': '0.9510', 'eval/accuracy': '0.6568', 'eval/macro_precision': '0.7106', 'eval/macro_recall': '0.8232', 'eval/macro_f1': '0.7418', 'eval/micro_precision': '0.8195', 'eval/micro_recall': '0.8172', 'eval/micro_f1': '0.8183', 'eval/weighted_precision': '0.8352', 'eval/weighted_recall': '0.8172', 'eval/weighted_f1': '0.8220', 'train/loss': '0.1348', 'eval/loss': '0.1328'}\n",
            "--------------------------- epoch 118 ---------------------------\n"
          ]
        },
        {
          "output_type": "stream",
          "name": "stderr",
          "text": [
            "100%|██████████| 20/20 [00:00<00:00, 26.01it/s]\n",
            "100%|██████████| 7/7 [00:00<00:00, 14.87it/s]\n"
          ]
        },
        {
          "output_type": "stream",
          "name": "stdout",
          "text": [
            "{'eval/flat_accuracy': '0.9520', 'eval/accuracy': '0.6595', 'eval/macro_precision': '0.7187', 'eval/macro_recall': '0.8305', 'eval/macro_f1': '0.7538', 'eval/micro_precision': '0.8122', 'eval/micro_recall': '0.8377', 'eval/micro_f1': '0.8248', 'eval/weighted_precision': '0.8233', 'eval/weighted_recall': '0.8377', 'eval/weighted_f1': '0.8286', 'train/loss': '0.1346', 'eval/loss': '0.1288'}\n",
            "--------------------------- epoch 119 ---------------------------\n"
          ]
        },
        {
          "output_type": "stream",
          "name": "stderr",
          "text": [
            "100%|██████████| 20/20 [00:00<00:00, 25.77it/s]\n",
            "100%|██████████| 7/7 [00:00<00:00, 14.85it/s]\n"
          ]
        },
        {
          "output_type": "stream",
          "name": "stdout",
          "text": [
            "{'eval/flat_accuracy': '0.9519', 'eval/accuracy': '0.6645', 'eval/macro_precision': '0.7242', 'eval/macro_recall': '0.8153', 'eval/macro_f1': '0.7468', 'eval/micro_precision': '0.8256', 'eval/micro_recall': '0.8162', 'eval/micro_f1': '0.8209', 'eval/weighted_precision': '0.8364', 'eval/weighted_recall': '0.8162', 'eval/weighted_f1': '0.8221', 'train/loss': '0.1321', 'eval/loss': '0.1313'}\n",
            "--------------------------- epoch 120 ---------------------------\n"
          ]
        },
        {
          "output_type": "stream",
          "name": "stderr",
          "text": [
            "100%|██████████| 20/20 [00:00<00:00, 26.05it/s]\n",
            "100%|██████████| 7/7 [00:00<00:00, 15.02it/s]\n"
          ]
        },
        {
          "output_type": "stream",
          "name": "stdout",
          "text": [
            "{'eval/flat_accuracy': '0.9527', 'eval/accuracy': '0.6645', 'eval/macro_precision': '0.7180', 'eval/macro_recall': '0.8391', 'eval/macro_f1': '0.7558', 'eval/micro_precision': '0.8208', 'eval/micro_recall': '0.8305', 'eval/micro_f1': '0.8256', 'eval/weighted_precision': '0.8332', 'eval/weighted_recall': '0.8305', 'eval/weighted_f1': '0.8295', 'train/loss': '0.1329', 'eval/loss': '0.1306', 'train/epoch': '3.0000'}\n",
            "--------------------------- epoch 121 ---------------------------\n"
          ]
        },
        {
          "output_type": "stream",
          "name": "stderr",
          "text": [
            "100%|██████████| 20/20 [00:00<00:00, 25.06it/s]\n",
            "100%|██████████| 7/7 [00:00<00:00, 14.73it/s]\n"
          ]
        },
        {
          "output_type": "stream",
          "name": "stdout",
          "text": [
            "{'eval/flat_accuracy': '0.9499', 'eval/accuracy': '0.6466', 'eval/macro_precision': '0.7117', 'eval/macro_recall': '0.8357', 'eval/macro_f1': '0.7561', 'eval/micro_precision': '0.7976', 'eval/micro_recall': '0.8427', 'eval/micro_f1': '0.8195', 'eval/weighted_precision': '0.8145', 'eval/weighted_recall': '0.8427', 'eval/weighted_f1': '0.8247', 'train/loss': '0.1320', 'eval/loss': '0.1327'}\n",
            "--------------------------- epoch 122 ---------------------------\n"
          ]
        },
        {
          "output_type": "stream",
          "name": "stderr",
          "text": [
            "100%|██████████| 20/20 [00:00<00:00, 26.07it/s]\n",
            "100%|██████████| 7/7 [00:00<00:00, 14.99it/s]\n"
          ]
        },
        {
          "output_type": "stream",
          "name": "stdout",
          "text": [
            "{'eval/flat_accuracy': '0.9498', 'eval/accuracy': '0.6468', 'eval/macro_precision': '0.7037', 'eval/macro_recall': '0.8345', 'eval/macro_f1': '0.7525', 'eval/micro_precision': '0.7969', 'eval/micro_recall': '0.8427', 'eval/micro_f1': '0.8192', 'eval/weighted_precision': '0.8104', 'eval/weighted_recall': '0.8427', 'eval/weighted_f1': '0.8235', 'train/loss': '0.1318', 'eval/loss': '0.1336'}\n",
            "--------------------------- epoch 123 ---------------------------\n"
          ]
        },
        {
          "output_type": "stream",
          "name": "stderr",
          "text": [
            "100%|██████████| 20/20 [00:00<00:00, 25.72it/s]\n",
            "100%|██████████| 7/7 [00:00<00:00, 14.77it/s]\n"
          ]
        },
        {
          "output_type": "stream",
          "name": "stdout",
          "text": [
            "{'eval/flat_accuracy': '0.9507', 'eval/accuracy': '0.6522', 'eval/macro_precision': '0.7201', 'eval/macro_recall': '0.8301', 'eval/macro_f1': '0.7613', 'eval/micro_precision': '0.8015', 'eval/micro_recall': '0.8439', 'eval/micro_f1': '0.8222', 'eval/weighted_precision': '0.8120', 'eval/weighted_recall': '0.8439', 'eval/weighted_f1': '0.8253', 'train/loss': '0.1315', 'eval/loss': '0.1292'}\n",
            "--------------------------- epoch 124 ---------------------------\n"
          ]
        },
        {
          "output_type": "stream",
          "name": "stderr",
          "text": [
            "100%|██████████| 20/20 [00:00<00:00, 24.91it/s]\n",
            "100%|██████████| 7/7 [00:00<00:00, 13.87it/s]\n"
          ]
        },
        {
          "output_type": "stream",
          "name": "stdout",
          "text": [
            "{'eval/flat_accuracy': '0.9505', 'eval/accuracy': '0.6569', 'eval/macro_precision': '0.7145', 'eval/macro_recall': '0.8230', 'eval/macro_f1': '0.7456', 'eval/micro_precision': '0.8063', 'eval/micro_recall': '0.8333', 'eval/micro_f1': '0.8196', 'eval/weighted_precision': '0.8214', 'eval/weighted_recall': '0.8333', 'eval/weighted_f1': '0.8245', 'train/loss': '0.1297', 'eval/loss': '0.1328'}\n",
            "--------------------------- epoch 125 ---------------------------\n"
          ]
        },
        {
          "output_type": "stream",
          "name": "stderr",
          "text": [
            "100%|██████████| 20/20 [00:00<00:00, 23.29it/s]\n",
            "100%|██████████| 7/7 [00:00<00:00, 14.04it/s]\n"
          ]
        },
        {
          "output_type": "stream",
          "name": "stdout",
          "text": [
            "{'eval/flat_accuracy': '0.9509', 'eval/accuracy': '0.6558', 'eval/macro_precision': '0.7163', 'eval/macro_recall': '0.8332', 'eval/macro_f1': '0.7584', 'eval/micro_precision': '0.8083', 'eval/micro_recall': '0.8343', 'eval/micro_f1': '0.8211', 'eval/weighted_precision': '0.8182', 'eval/weighted_recall': '0.8343', 'eval/weighted_f1': '0.8228', 'train/loss': '0.1309', 'eval/loss': '0.1322'}\n",
            "--------------------------- epoch 126 ---------------------------\n"
          ]
        },
        {
          "output_type": "stream",
          "name": "stderr",
          "text": [
            "100%|██████████| 20/20 [00:00<00:00, 25.39it/s]\n",
            "100%|██████████| 7/7 [00:00<00:00, 14.76it/s]\n"
          ]
        },
        {
          "output_type": "stream",
          "name": "stdout",
          "text": [
            "{'eval/flat_accuracy': '0.9516', 'eval/accuracy': '0.6614', 'eval/macro_precision': '0.7190', 'eval/macro_recall': '0.8391', 'eval/macro_f1': '0.7552', 'eval/micro_precision': '0.8097', 'eval/micro_recall': '0.8381', 'eval/micro_f1': '0.8237', 'eval/weighted_precision': '0.8222', 'eval/weighted_recall': '0.8381', 'eval/weighted_f1': '0.8277', 'train/loss': '0.1299', 'eval/loss': '0.1316'}\n",
            "--------------------------- epoch 127 ---------------------------\n"
          ]
        },
        {
          "output_type": "stream",
          "name": "stderr",
          "text": [
            "100%|██████████| 20/20 [00:00<00:00, 26.91it/s]\n",
            "100%|██████████| 7/7 [00:00<00:00, 14.69it/s]\n"
          ]
        },
        {
          "output_type": "stream",
          "name": "stdout",
          "text": [
            "{'eval/flat_accuracy': '0.9510', 'eval/accuracy': '0.6569', 'eval/macro_precision': '0.7088', 'eval/macro_recall': '0.8339', 'eval/macro_f1': '0.7520', 'eval/micro_precision': '0.8102', 'eval/micro_recall': '0.8315', 'eval/micro_f1': '0.8207', 'eval/weighted_precision': '0.8257', 'eval/weighted_recall': '0.8315', 'eval/weighted_f1': '0.8255', 'train/loss': '0.1300', 'eval/loss': '0.1315'}\n",
            "--------------------------- epoch 128 ---------------------------\n"
          ]
        },
        {
          "output_type": "stream",
          "name": "stderr",
          "text": [
            "100%|██████████| 20/20 [00:00<00:00, 25.87it/s]\n",
            "100%|██████████| 7/7 [00:00<00:00, 14.64it/s]\n"
          ]
        },
        {
          "output_type": "stream",
          "name": "stdout",
          "text": [
            "{'eval/flat_accuracy': '0.9508', 'eval/accuracy': '0.6520', 'eval/macro_precision': '0.7153', 'eval/macro_recall': '0.8318', 'eval/macro_f1': '0.7514', 'eval/micro_precision': '0.8074', 'eval/micro_recall': '0.8341', 'eval/micro_f1': '0.8205', 'eval/weighted_precision': '0.8226', 'eval/weighted_recall': '0.8341', 'eval/weighted_f1': '0.8252', 'train/loss': '0.1265', 'eval/loss': '0.1320'}\n",
            "--------------------------- epoch 129 ---------------------------\n"
          ]
        },
        {
          "output_type": "stream",
          "name": "stderr",
          "text": [
            "100%|██████████| 20/20 [00:00<00:00, 25.30it/s]\n",
            "100%|██████████| 7/7 [00:00<00:00, 15.25it/s]\n"
          ]
        },
        {
          "output_type": "stream",
          "name": "stdout",
          "text": [
            "{'eval/flat_accuracy': '0.9518', 'eval/accuracy': '0.6626', 'eval/macro_precision': '0.7127', 'eval/macro_recall': '0.8305', 'eval/macro_f1': '0.7561', 'eval/micro_precision': '0.8116', 'eval/micro_recall': '0.8375', 'eval/micro_f1': '0.8243', 'eval/weighted_precision': '0.8217', 'eval/weighted_recall': '0.8375', 'eval/weighted_f1': '0.8276', 'train/loss': '0.1270', 'eval/loss': '0.1291'}\n",
            "--------------------------- epoch 130 ---------------------------\n"
          ]
        },
        {
          "output_type": "stream",
          "name": "stderr",
          "text": [
            "100%|██████████| 20/20 [00:00<00:00, 26.77it/s]\n",
            "100%|██████████| 7/7 [00:00<00:00, 14.93it/s]\n"
          ]
        },
        {
          "output_type": "stream",
          "name": "stdout",
          "text": [
            "{'eval/flat_accuracy': '0.9514', 'eval/accuracy': '0.6583', 'eval/macro_precision': '0.7060', 'eval/macro_recall': '0.8334', 'eval/macro_f1': '0.7473', 'eval/micro_precision': '0.8091', 'eval/micro_recall': '0.8379', 'eval/micro_f1': '0.8232', 'eval/weighted_precision': '0.8225', 'eval/weighted_recall': '0.8379', 'eval/weighted_f1': '0.8274', 'train/loss': '0.1266', 'eval/loss': '0.1310'}\n",
            "--------------------------- epoch 131 ---------------------------\n"
          ]
        },
        {
          "output_type": "stream",
          "name": "stderr",
          "text": [
            "100%|██████████| 20/20 [00:00<00:00, 26.23it/s]\n",
            "100%|██████████| 7/7 [00:00<00:00, 14.63it/s]\n"
          ]
        },
        {
          "output_type": "stream",
          "name": "stdout",
          "text": [
            "{'eval/flat_accuracy': '0.9513', 'eval/accuracy': '0.6572', 'eval/macro_precision': '0.7114', 'eval/macro_recall': '0.8334', 'eval/macro_f1': '0.7488', 'eval/micro_precision': '0.8157', 'eval/micro_recall': '0.8254', 'eval/micro_f1': '0.8206', 'eval/weighted_precision': '0.8294', 'eval/weighted_recall': '0.8254', 'eval/weighted_f1': '0.8240', 'train/loss': '0.1262', 'eval/loss': '0.1332'}\n",
            "--------------------------- epoch 132 ---------------------------\n"
          ]
        },
        {
          "output_type": "stream",
          "name": "stderr",
          "text": [
            "100%|██████████| 20/20 [00:00<00:00, 26.34it/s]\n",
            "100%|██████████| 7/7 [00:00<00:00, 14.00it/s]\n"
          ]
        },
        {
          "output_type": "stream",
          "name": "stdout",
          "text": [
            "{'eval/flat_accuracy': '0.9519', 'eval/accuracy': '0.6600', 'eval/macro_precision': '0.7174', 'eval/macro_recall': '0.8366', 'eval/macro_f1': '0.7600', 'eval/micro_precision': '0.8088', 'eval/micro_recall': '0.8433', 'eval/micro_f1': '0.8257', 'eval/weighted_precision': '0.8182', 'eval/weighted_recall': '0.8433', 'eval/weighted_f1': '0.8284', 'train/loss': '0.1241', 'eval/loss': '0.1302'}\n",
            "--------------------------- epoch 133 ---------------------------\n"
          ]
        },
        {
          "output_type": "stream",
          "name": "stderr",
          "text": [
            "100%|██████████| 20/20 [00:00<00:00, 25.46it/s]\n",
            "100%|██████████| 7/7 [00:00<00:00, 14.37it/s]\n"
          ]
        },
        {
          "output_type": "stream",
          "name": "stdout",
          "text": [
            "{'eval/flat_accuracy': '0.9517', 'eval/accuracy': '0.6622', 'eval/macro_precision': '0.7177', 'eval/macro_recall': '0.8372', 'eval/macro_f1': '0.7611', 'eval/micro_precision': '0.8084', 'eval/micro_recall': '0.8413', 'eval/micro_f1': '0.8245', 'eval/weighted_precision': '0.8190', 'eval/weighted_recall': '0.8413', 'eval/weighted_f1': '0.8275', 'train/loss': '0.1243', 'eval/loss': '0.1316'}\n",
            "--------------------------- epoch 134 ---------------------------\n"
          ]
        },
        {
          "output_type": "stream",
          "name": "stderr",
          "text": [
            "100%|██████████| 20/20 [00:00<00:00, 24.07it/s]\n",
            "100%|██████████| 7/7 [00:00<00:00, 14.04it/s]\n"
          ]
        },
        {
          "output_type": "stream",
          "name": "stdout",
          "text": [
            "{'eval/flat_accuracy': '0.9524', 'eval/accuracy': '0.6666', 'eval/macro_precision': '0.7147', 'eval/macro_recall': '0.8305', 'eval/macro_f1': '0.7422', 'eval/micro_precision': '0.8267', 'eval/micro_recall': '0.8186', 'eval/micro_f1': '0.8226', 'eval/weighted_precision': '0.8403', 'eval/weighted_recall': '0.8186', 'eval/weighted_f1': '0.8259', 'train/loss': '0.1229', 'eval/loss': '0.1311'}\n",
            "--------------------------- epoch 135 ---------------------------\n"
          ]
        },
        {
          "output_type": "stream",
          "name": "stderr",
          "text": [
            "100%|██████████| 20/20 [00:00<00:00, 23.84it/s]\n",
            "100%|██████████| 7/7 [00:00<00:00, 14.74it/s]\n"
          ]
        },
        {
          "output_type": "stream",
          "name": "stdout",
          "text": [
            "{'eval/flat_accuracy': '0.9514', 'eval/accuracy': '0.6565', 'eval/macro_precision': '0.7218', 'eval/macro_recall': '0.8270', 'eval/macro_f1': '0.7586', 'eval/micro_precision': '0.8095', 'eval/micro_recall': '0.8371', 'eval/micro_f1': '0.8231', 'eval/weighted_precision': '0.8220', 'eval/weighted_recall': '0.8371', 'eval/weighted_f1': '0.8267', 'train/loss': '0.1237', 'eval/loss': '0.1297'}\n",
            "--------------------------- epoch 136 ---------------------------\n"
          ]
        },
        {
          "output_type": "stream",
          "name": "stderr",
          "text": [
            "100%|██████████| 20/20 [00:00<00:00, 26.37it/s]\n",
            "100%|██████████| 7/7 [00:00<00:00, 14.41it/s]\n"
          ]
        },
        {
          "output_type": "stream",
          "name": "stdout",
          "text": [
            "{'eval/flat_accuracy': '0.9510', 'eval/accuracy': '0.6571', 'eval/macro_precision': '0.7125', 'eval/macro_recall': '0.8378', 'eval/macro_f1': '0.7582', 'eval/micro_precision': '0.8037', 'eval/micro_recall': '0.8425', 'eval/micro_f1': '0.8227', 'eval/weighted_precision': '0.8136', 'eval/weighted_recall': '0.8425', 'eval/weighted_f1': '0.8256', 'train/loss': '0.1225', 'eval/loss': '0.1322'}\n",
            "--------------------------- epoch 137 ---------------------------\n"
          ]
        },
        {
          "output_type": "stream",
          "name": "stderr",
          "text": [
            "100%|██████████| 20/20 [00:00<00:00, 25.89it/s]\n",
            "100%|██████████| 7/7 [00:00<00:00, 14.69it/s]\n"
          ]
        },
        {
          "output_type": "stream",
          "name": "stdout",
          "text": [
            "{'eval/flat_accuracy': '0.9508', 'eval/accuracy': '0.6542', 'eval/macro_precision': '0.7117', 'eval/macro_recall': '0.8341', 'eval/macro_f1': '0.7528', 'eval/micro_precision': '0.8080', 'eval/micro_recall': '0.8330', 'eval/micro_f1': '0.8203', 'eval/weighted_precision': '0.8232', 'eval/weighted_recall': '0.8330', 'eval/weighted_f1': '0.8249', 'train/loss': '0.1235', 'eval/loss': '0.1337'}\n",
            "--------------------------- epoch 138 ---------------------------\n"
          ]
        },
        {
          "output_type": "stream",
          "name": "stderr",
          "text": [
            "100%|██████████| 20/20 [00:00<00:00, 26.60it/s]\n",
            "100%|██████████| 7/7 [00:00<00:00, 13.78it/s]\n"
          ]
        },
        {
          "output_type": "stream",
          "name": "stdout",
          "text": [
            "{'eval/flat_accuracy': '0.9521', 'eval/accuracy': '0.6605', 'eval/macro_precision': '0.7123', 'eval/macro_recall': '0.8297', 'eval/macro_f1': '0.7515', 'eval/micro_precision': '0.8161', 'eval/micro_recall': '0.8325', 'eval/micro_f1': '0.8242', 'eval/weighted_precision': '0.8268', 'eval/weighted_recall': '0.8325', 'eval/weighted_f1': '0.8276', 'train/loss': '0.1227', 'eval/loss': '0.1295'}\n",
            "--------------------------- epoch 139 ---------------------------\n"
          ]
        },
        {
          "output_type": "stream",
          "name": "stderr",
          "text": [
            "100%|██████████| 20/20 [00:00<00:00, 25.22it/s]\n",
            "100%|██████████| 7/7 [00:00<00:00, 14.59it/s]\n"
          ]
        },
        {
          "output_type": "stream",
          "name": "stdout",
          "text": [
            "{'eval/flat_accuracy': '0.9507', 'eval/accuracy': '0.6543', 'eval/macro_precision': '0.7071', 'eval/macro_recall': '0.8333', 'eval/macro_f1': '0.7460', 'eval/micro_precision': '0.8048', 'eval/micro_recall': '0.8382', 'eval/micro_f1': '0.8212', 'eval/weighted_precision': '0.8208', 'eval/weighted_recall': '0.8382', 'eval/weighted_f1': '0.8261', 'train/loss': '0.1217', 'eval/loss': '0.1340'}\n",
            "--------------------------- epoch 140 ---------------------------\n"
          ]
        },
        {
          "output_type": "stream",
          "name": "stderr",
          "text": [
            "100%|██████████| 20/20 [00:00<00:00, 25.75it/s]\n",
            "100%|██████████| 7/7 [00:00<00:00, 14.73it/s]\n"
          ]
        },
        {
          "output_type": "stream",
          "name": "stdout",
          "text": [
            "{'eval/flat_accuracy': '0.9522', 'eval/accuracy': '0.6631', 'eval/macro_precision': '0.7126', 'eval/macro_recall': '0.8375', 'eval/macro_f1': '0.7540', 'eval/micro_precision': '0.8138', 'eval/micro_recall': '0.8373', 'eval/micro_f1': '0.8254', 'eval/weighted_precision': '0.8271', 'eval/weighted_recall': '0.8373', 'eval/weighted_f1': '0.8299', 'train/loss': '0.1204', 'eval/loss': '0.1308'}\n",
            "--------------------------- epoch 141 ---------------------------\n"
          ]
        },
        {
          "output_type": "stream",
          "name": "stderr",
          "text": [
            "100%|██████████| 20/20 [00:00<00:00, 26.55it/s]\n",
            "100%|██████████| 7/7 [00:00<00:00, 14.66it/s]\n"
          ]
        },
        {
          "output_type": "stream",
          "name": "stdout",
          "text": [
            "{'eval/flat_accuracy': '0.9509', 'eval/accuracy': '0.6582', 'eval/macro_precision': '0.7079', 'eval/macro_recall': '0.8407', 'eval/macro_f1': '0.7445', 'eval/micro_precision': '0.8057', 'eval/micro_recall': '0.8386', 'eval/micro_f1': '0.8218', 'eval/weighted_precision': '0.8201', 'eval/weighted_recall': '0.8386', 'eval/weighted_f1': '0.8255', 'train/loss': '0.1196', 'eval/loss': '0.1329'}\n",
            "--------------------------- epoch 142 ---------------------------\n"
          ]
        },
        {
          "output_type": "stream",
          "name": "stderr",
          "text": [
            "100%|██████████| 20/20 [00:00<00:00, 25.98it/s]\n",
            "100%|██████████| 7/7 [00:00<00:00, 14.24it/s]\n"
          ]
        },
        {
          "output_type": "stream",
          "name": "stdout",
          "text": [
            "{'eval/flat_accuracy': '0.9517', 'eval/accuracy': '0.6606', 'eval/macro_precision': '0.7109', 'eval/macro_recall': '0.8329', 'eval/macro_f1': '0.7496', 'eval/micro_precision': '0.8137', 'eval/micro_recall': '0.8325', 'eval/micro_f1': '0.8230', 'eval/weighted_precision': '0.8286', 'eval/weighted_recall': '0.8325', 'eval/weighted_f1': '0.8271', 'train/loss': '0.1200', 'eval/loss': '0.1321'}\n",
            "--------------------------- epoch 143 ---------------------------\n"
          ]
        },
        {
          "output_type": "stream",
          "name": "stderr",
          "text": [
            "100%|██████████| 20/20 [00:00<00:00, 25.74it/s]\n",
            "100%|██████████| 7/7 [00:00<00:00, 14.05it/s]\n"
          ]
        },
        {
          "output_type": "stream",
          "name": "stdout",
          "text": [
            "{'eval/flat_accuracy': '0.9519', 'eval/accuracy': '0.6638', 'eval/macro_precision': '0.7102', 'eval/macro_recall': '0.8442', 'eval/macro_f1': '0.7553', 'eval/micro_precision': '0.8134', 'eval/micro_recall': '0.8353', 'eval/micro_f1': '0.8242', 'eval/weighted_precision': '0.8262', 'eval/weighted_recall': '0.8353', 'eval/weighted_f1': '0.8274', 'train/loss': '0.1194', 'eval/loss': '0.1328'}\n",
            "--------------------------- epoch 144 ---------------------------\n"
          ]
        },
        {
          "output_type": "stream",
          "name": "stderr",
          "text": [
            "100%|██████████| 20/20 [00:00<00:00, 24.87it/s]\n",
            "100%|██████████| 7/7 [00:00<00:00, 14.30it/s]\n"
          ]
        },
        {
          "output_type": "stream",
          "name": "stdout",
          "text": [
            "{'eval/flat_accuracy': '0.9503', 'eval/accuracy': '0.6500', 'eval/macro_precision': '0.7027', 'eval/macro_recall': '0.8441', 'eval/macro_f1': '0.7490', 'eval/micro_precision': '0.8012', 'eval/micro_recall': '0.8401', 'eval/micro_f1': '0.8202', 'eval/weighted_precision': '0.8141', 'eval/weighted_recall': '0.8401', 'eval/weighted_f1': '0.8244', 'train/loss': '0.1197', 'eval/loss': '0.1342'}\n",
            "--------------------------- epoch 145 ---------------------------\n"
          ]
        },
        {
          "output_type": "stream",
          "name": "stderr",
          "text": [
            "100%|██████████| 20/20 [00:00<00:00, 25.05it/s]\n",
            "100%|██████████| 7/7 [00:00<00:00, 15.02it/s]\n"
          ]
        },
        {
          "output_type": "stream",
          "name": "stdout",
          "text": [
            "{'eval/flat_accuracy': '0.9506', 'eval/accuracy': '0.6522', 'eval/macro_precision': '0.7171', 'eval/macro_recall': '0.8329', 'eval/macro_f1': '0.7615', 'eval/micro_precision': '0.8036', 'eval/micro_recall': '0.8386', 'eval/micro_f1': '0.8207', 'eval/weighted_precision': '0.8154', 'eval/weighted_recall': '0.8386', 'eval/weighted_f1': '0.8245', 'train/loss': '0.1184', 'eval/loss': '0.1324'}\n",
            "--------------------------- epoch 146 ---------------------------\n"
          ]
        },
        {
          "output_type": "stream",
          "name": "stderr",
          "text": [
            "100%|██████████| 20/20 [00:00<00:00, 26.04it/s]\n",
            "100%|██████████| 7/7 [00:00<00:00, 14.48it/s]\n"
          ]
        },
        {
          "output_type": "stream",
          "name": "stdout",
          "text": [
            "{'eval/flat_accuracy': '0.9494', 'eval/accuracy': '0.6511', 'eval/macro_precision': '0.7092', 'eval/macro_recall': '0.8329', 'eval/macro_f1': '0.7492', 'eval/micro_precision': '0.8009', 'eval/micro_recall': '0.8319', 'eval/micro_f1': '0.8161', 'eval/weighted_precision': '0.8168', 'eval/weighted_recall': '0.8319', 'eval/weighted_f1': '0.8207', 'train/loss': '0.1179', 'eval/loss': '0.1363'}\n",
            "--------------------------- epoch 147 ---------------------------\n"
          ]
        },
        {
          "output_type": "stream",
          "name": "stderr",
          "text": [
            "100%|██████████| 20/20 [00:00<00:00, 24.65it/s]\n",
            "100%|██████████| 7/7 [00:00<00:00, 14.41it/s]\n"
          ]
        },
        {
          "output_type": "stream",
          "name": "stdout",
          "text": [
            "{'eval/flat_accuracy': '0.9515', 'eval/accuracy': '0.6611', 'eval/macro_precision': '0.7051', 'eval/macro_recall': '0.8407', 'eval/macro_f1': '0.7453', 'eval/micro_precision': '0.8140', 'eval/micro_recall': '0.8299', 'eval/micro_f1': '0.8219', 'eval/weighted_precision': '0.8275', 'eval/weighted_recall': '0.8299', 'eval/weighted_f1': '0.8252', 'train/loss': '0.1175', 'eval/loss': '0.1346'}\n",
            "--------------------------- epoch 148 ---------------------------\n"
          ]
        },
        {
          "output_type": "stream",
          "name": "stderr",
          "text": [
            "100%|██████████| 20/20 [00:00<00:00, 25.39it/s]\n",
            "100%|██████████| 7/7 [00:00<00:00, 14.95it/s]\n"
          ]
        },
        {
          "output_type": "stream",
          "name": "stdout",
          "text": [
            "{'eval/flat_accuracy': '0.9507', 'eval/accuracy': '0.6554', 'eval/macro_precision': '0.7037', 'eval/macro_recall': '0.8357', 'eval/macro_f1': '0.7478', 'eval/micro_precision': '0.8085', 'eval/micro_recall': '0.8318', 'eval/micro_f1': '0.8200', 'eval/weighted_precision': '0.8258', 'eval/weighted_recall': '0.8318', 'eval/weighted_f1': '0.8252', 'train/loss': '0.1175', 'eval/loss': '0.1354'}\n",
            "--------------------------- epoch 149 ---------------------------\n"
          ]
        },
        {
          "output_type": "stream",
          "name": "stderr",
          "text": [
            "100%|██████████| 20/20 [00:00<00:00, 26.22it/s]\n",
            "100%|██████████| 7/7 [00:00<00:00, 14.62it/s]\n"
          ]
        },
        {
          "output_type": "stream",
          "name": "stdout",
          "text": [
            "{'eval/flat_accuracy': '0.9517', 'eval/accuracy': '0.6574', 'eval/macro_precision': '0.7153', 'eval/macro_recall': '0.8471', 'eval/macro_f1': '0.7611', 'eval/micro_precision': '0.8030', 'eval/micro_recall': '0.8513', 'eval/micro_f1': '0.8264', 'eval/weighted_precision': '0.8145', 'eval/weighted_recall': '0.8513', 'eval/weighted_f1': '0.8303', 'train/loss': '0.1161', 'eval/loss': '0.1319'}\n",
            "--------------------------- epoch 150 ---------------------------\n"
          ]
        },
        {
          "output_type": "stream",
          "name": "stderr",
          "text": [
            "100%|██████████| 20/20 [00:00<00:00, 25.82it/s]\n",
            "100%|██████████| 7/7 [00:00<00:00, 14.79it/s]\n"
          ]
        },
        {
          "output_type": "stream",
          "name": "stdout",
          "text": [
            "{'eval/flat_accuracy': '0.9502', 'eval/accuracy': '0.6452', 'eval/macro_precision': '0.7095', 'eval/macro_recall': '0.8444', 'eval/macro_f1': '0.7556', 'eval/micro_precision': '0.7949', 'eval/micro_recall': '0.8508', 'eval/micro_f1': '0.8219', 'eval/weighted_precision': '0.8077', 'eval/weighted_recall': '0.8508', 'eval/weighted_f1': '0.8261', 'train/loss': '0.1152', 'eval/loss': '0.1335'}\n",
            "--------------------------- epoch 151 ---------------------------\n"
          ]
        },
        {
          "output_type": "stream",
          "name": "stderr",
          "text": [
            "100%|██████████| 20/20 [00:00<00:00, 25.76it/s]\n",
            "100%|██████████| 7/7 [00:00<00:00, 14.68it/s]\n"
          ]
        },
        {
          "output_type": "stream",
          "name": "stdout",
          "text": [
            "{'eval/flat_accuracy': '0.9495', 'eval/accuracy': '0.6449', 'eval/macro_precision': '0.6999', 'eval/macro_recall': '0.8448', 'eval/macro_f1': '0.7458', 'eval/micro_precision': '0.7933', 'eval/micro_recall': '0.8466', 'eval/micro_f1': '0.8191', 'eval/weighted_precision': '0.8102', 'eval/weighted_recall': '0.8466', 'eval/weighted_f1': '0.8247', 'train/loss': '0.1151', 'eval/loss': '0.1349'}\n",
            "--------------------------- epoch 152 ---------------------------\n"
          ]
        },
        {
          "output_type": "stream",
          "name": "stderr",
          "text": [
            "100%|██████████| 20/20 [00:00<00:00, 26.50it/s]\n",
            "100%|██████████| 7/7 [00:00<00:00, 14.93it/s]\n"
          ]
        },
        {
          "output_type": "stream",
          "name": "stdout",
          "text": [
            "{'eval/flat_accuracy': '0.9525', 'eval/accuracy': '0.6643', 'eval/macro_precision': '0.7132', 'eval/macro_recall': '0.8390', 'eval/macro_f1': '0.7566', 'eval/micro_precision': '0.8143', 'eval/micro_recall': '0.8392', 'eval/micro_f1': '0.8266', 'eval/weighted_precision': '0.8239', 'eval/weighted_recall': '0.8392', 'eval/weighted_f1': '0.8297', 'train/loss': '0.1154', 'eval/loss': '0.1317'}\n",
            "--------------------------- epoch 153 ---------------------------\n"
          ]
        },
        {
          "output_type": "stream",
          "name": "stderr",
          "text": [
            "100%|██████████| 20/20 [00:00<00:00, 25.55it/s]\n",
            "100%|██████████| 7/7 [00:00<00:00, 14.21it/s]\n"
          ]
        },
        {
          "output_type": "stream",
          "name": "stdout",
          "text": [
            "{'eval/flat_accuracy': '0.9524', 'eval/accuracy': '0.6671', 'eval/macro_precision': '0.7134', 'eval/macro_recall': '0.8351', 'eval/macro_f1': '0.7409', 'eval/micro_precision': '0.8184', 'eval/micro_recall': '0.8314', 'eval/micro_f1': '0.8249', 'eval/weighted_precision': '0.8335', 'eval/weighted_recall': '0.8314', 'eval/weighted_f1': '0.8295', 'train/loss': '0.1136', 'eval/loss': '0.1327'}\n",
            "--------------------------- epoch 154 ---------------------------\n"
          ]
        },
        {
          "output_type": "stream",
          "name": "stderr",
          "text": [
            "100%|██████████| 20/20 [00:00<00:00, 24.93it/s]\n",
            "100%|██████████| 7/7 [00:00<00:00, 14.42it/s]\n"
          ]
        },
        {
          "output_type": "stream",
          "name": "stdout",
          "text": [
            "{'eval/flat_accuracy': '0.9521', 'eval/accuracy': '0.6611', 'eval/macro_precision': '0.7177', 'eval/macro_recall': '0.8403', 'eval/macro_f1': '0.7580', 'eval/micro_precision': '0.8081', 'eval/micro_recall': '0.8456', 'eval/micro_f1': '0.8264', 'eval/weighted_precision': '0.8179', 'eval/weighted_recall': '0.8456', 'eval/weighted_f1': '0.8295', 'train/loss': '0.1135', 'eval/loss': '0.1310'}\n",
            "--------------------------- epoch 155 ---------------------------\n"
          ]
        },
        {
          "output_type": "stream",
          "name": "stderr",
          "text": [
            "100%|██████████| 20/20 [00:00<00:00, 26.74it/s]\n",
            "100%|██████████| 7/7 [00:00<00:00, 14.79it/s]\n"
          ]
        },
        {
          "output_type": "stream",
          "name": "stdout",
          "text": [
            "{'eval/flat_accuracy': '0.9513', 'eval/accuracy': '0.6578', 'eval/macro_precision': '0.7116', 'eval/macro_recall': '0.8402', 'eval/macro_f1': '0.7561', 'eval/micro_precision': '0.8096', 'eval/micro_recall': '0.8360', 'eval/micro_f1': '0.8226', 'eval/weighted_precision': '0.8225', 'eval/weighted_recall': '0.8360', 'eval/weighted_f1': '0.8265', 'train/loss': '0.1146', 'eval/loss': '0.1337'}\n",
            "--------------------------- epoch 156 ---------------------------\n"
          ]
        },
        {
          "output_type": "stream",
          "name": "stderr",
          "text": [
            "100%|██████████| 20/20 [00:00<00:00, 26.20it/s]\n",
            "100%|██████████| 7/7 [00:00<00:00, 14.57it/s]\n"
          ]
        },
        {
          "output_type": "stream",
          "name": "stdout",
          "text": [
            "{'eval/flat_accuracy': '0.9521', 'eval/accuracy': '0.6688', 'eval/macro_precision': '0.7117', 'eval/macro_recall': '0.8409', 'eval/macro_f1': '0.7527', 'eval/micro_precision': '0.8160', 'eval/micro_recall': '0.8332', 'eval/micro_f1': '0.8245', 'eval/weighted_precision': '0.8295', 'eval/weighted_recall': '0.8332', 'eval/weighted_f1': '0.8279', 'train/loss': '0.1135', 'eval/loss': '0.1336'}\n",
            "--------------------------- epoch 157 ---------------------------\n"
          ]
        },
        {
          "output_type": "stream",
          "name": "stderr",
          "text": [
            "100%|██████████| 20/20 [00:00<00:00, 24.98it/s]\n",
            "100%|██████████| 7/7 [00:00<00:00, 15.03it/s]\n"
          ]
        },
        {
          "output_type": "stream",
          "name": "stdout",
          "text": [
            "{'eval/flat_accuracy': '0.9512', 'eval/accuracy': '0.6580', 'eval/macro_precision': '0.7008', 'eval/macro_recall': '0.8398', 'eval/macro_f1': '0.7404', 'eval/micro_precision': '0.8091', 'eval/micro_recall': '0.8353', 'eval/micro_f1': '0.8220', 'eval/weighted_precision': '0.8264', 'eval/weighted_recall': '0.8353', 'eval/weighted_f1': '0.8275', 'train/loss': '0.1127', 'eval/loss': '0.1343'}\n",
            "--------------------------- epoch 158 ---------------------------\n"
          ]
        },
        {
          "output_type": "stream",
          "name": "stderr",
          "text": [
            "100%|██████████| 20/20 [00:00<00:00, 25.79it/s]\n",
            "100%|██████████| 7/7 [00:00<00:00, 14.78it/s]\n"
          ]
        },
        {
          "output_type": "stream",
          "name": "stdout",
          "text": [
            "{'eval/flat_accuracy': '0.9511', 'eval/accuracy': '0.6578', 'eval/macro_precision': '0.7166', 'eval/macro_recall': '0.8392', 'eval/macro_f1': '0.7530', 'eval/micro_precision': '0.8071', 'eval/micro_recall': '0.8380', 'eval/micro_f1': '0.8222', 'eval/weighted_precision': '0.8226', 'eval/weighted_recall': '0.8380', 'eval/weighted_f1': '0.8257', 'train/loss': '0.1143', 'eval/loss': '0.1343'}\n",
            "--------------------------- epoch 159 ---------------------------\n"
          ]
        },
        {
          "output_type": "stream",
          "name": "stderr",
          "text": [
            "100%|██████████| 20/20 [00:00<00:00, 24.12it/s]\n",
            "100%|██████████| 7/7 [00:00<00:00, 14.66it/s]\n"
          ]
        },
        {
          "output_type": "stream",
          "name": "stdout",
          "text": [
            "{'eval/flat_accuracy': '0.9507', 'eval/accuracy': '0.6497', 'eval/macro_precision': '0.7015', 'eval/macro_recall': '0.8505', 'eval/macro_f1': '0.7530', 'eval/micro_precision': '0.7970', 'eval/micro_recall': '0.8518', 'eval/micro_f1': '0.8235', 'eval/weighted_precision': '0.8099', 'eval/weighted_recall': '0.8518', 'eval/weighted_f1': '0.8281', 'train/loss': '0.1116', 'eval/loss': '0.1331'}\n",
            "--------------------------- epoch 160 ---------------------------\n"
          ]
        },
        {
          "output_type": "stream",
          "name": "stderr",
          "text": [
            "100%|██████████| 20/20 [00:00<00:00, 26.75it/s]\n",
            "100%|██████████| 7/7 [00:00<00:00, 14.61it/s]\n"
          ]
        },
        {
          "output_type": "stream",
          "name": "stdout",
          "text": [
            "{'eval/flat_accuracy': '0.9499', 'eval/accuracy': '0.6462', 'eval/macro_precision': '0.7126', 'eval/macro_recall': '0.8475', 'eval/macro_f1': '0.7587', 'eval/micro_precision': '0.7920', 'eval/micro_recall': '0.8528', 'eval/micro_f1': '0.8213', 'eval/weighted_precision': '0.8057', 'eval/weighted_recall': '0.8528', 'eval/weighted_f1': '0.8257', 'train/loss': '0.1111', 'eval/loss': '0.1339', 'train/epoch': '4.0000'}\n",
            "--------------------------- epoch 161 ---------------------------\n"
          ]
        },
        {
          "output_type": "stream",
          "name": "stderr",
          "text": [
            "100%|██████████| 20/20 [00:00<00:00, 25.56it/s]\n",
            "100%|██████████| 7/7 [00:00<00:00, 14.93it/s]\n"
          ]
        },
        {
          "output_type": "stream",
          "name": "stdout",
          "text": [
            "{'eval/flat_accuracy': '0.9524', 'eval/accuracy': '0.6655', 'eval/macro_precision': '0.7237', 'eval/macro_recall': '0.8306', 'eval/macro_f1': '0.7566', 'eval/micro_precision': '0.8193', 'eval/micro_recall': '0.8303', 'eval/micro_f1': '0.8247', 'eval/weighted_precision': '0.8323', 'eval/weighted_recall': '0.8303', 'eval/weighted_f1': '0.8288', 'train/loss': '0.1104', 'eval/loss': '0.1314'}\n",
            "--------------------------- epoch 162 ---------------------------\n"
          ]
        },
        {
          "output_type": "stream",
          "name": "stderr",
          "text": [
            "100%|██████████| 20/20 [00:00<00:00, 26.25it/s]\n",
            "100%|██████████| 7/7 [00:00<00:00, 14.38it/s]\n"
          ]
        },
        {
          "output_type": "stream",
          "name": "stdout",
          "text": [
            "{'eval/flat_accuracy': '0.9507', 'eval/accuracy': '0.6545', 'eval/macro_precision': '0.7064', 'eval/macro_recall': '0.8435', 'eval/macro_f1': '0.7550', 'eval/micro_precision': '0.7984', 'eval/micro_recall': '0.8489', 'eval/micro_f1': '0.8229', 'eval/weighted_precision': '0.8091', 'eval/weighted_recall': '0.8489', 'eval/weighted_f1': '0.8260', 'train/loss': '0.1102', 'eval/loss': '0.1338'}\n",
            "--------------------------- epoch 163 ---------------------------\n"
          ]
        },
        {
          "output_type": "stream",
          "name": "stderr",
          "text": [
            "100%|██████████| 20/20 [00:00<00:00, 25.21it/s]\n",
            "100%|██████████| 7/7 [00:00<00:00, 14.53it/s]\n"
          ]
        },
        {
          "output_type": "stream",
          "name": "stdout",
          "text": [
            "{'eval/flat_accuracy': '0.9499', 'eval/accuracy': '0.6515', 'eval/macro_precision': '0.7017', 'eval/macro_recall': '0.8433', 'eval/macro_f1': '0.7489', 'eval/micro_precision': '0.7984', 'eval/micro_recall': '0.8414', 'eval/micro_f1': '0.8193', 'eval/weighted_precision': '0.8146', 'eval/weighted_recall': '0.8414', 'eval/weighted_f1': '0.8233', 'train/loss': '0.1098', 'eval/loss': '0.1369'}\n",
            "--------------------------- epoch 164 ---------------------------\n"
          ]
        },
        {
          "output_type": "stream",
          "name": "stderr",
          "text": [
            "100%|██████████| 20/20 [00:00<00:00, 24.39it/s]\n",
            "100%|██████████| 7/7 [00:00<00:00, 13.89it/s]\n"
          ]
        },
        {
          "output_type": "stream",
          "name": "stdout",
          "text": [
            "{'eval/flat_accuracy': '0.9505', 'eval/accuracy': '0.6503', 'eval/macro_precision': '0.7095', 'eval/macro_recall': '0.8441', 'eval/macro_f1': '0.7585', 'eval/micro_precision': '0.7980', 'eval/micro_recall': '0.8482', 'eval/micro_f1': '0.8224', 'eval/weighted_precision': '0.8073', 'eval/weighted_recall': '0.8482', 'eval/weighted_f1': '0.8253', 'train/loss': '0.1098', 'eval/loss': '0.1346'}\n",
            "--------------------------- epoch 165 ---------------------------\n"
          ]
        },
        {
          "output_type": "stream",
          "name": "stderr",
          "text": [
            "100%|██████████| 20/20 [00:00<00:00, 25.47it/s]\n",
            "100%|██████████| 7/7 [00:00<00:00, 15.12it/s]\n"
          ]
        },
        {
          "output_type": "stream",
          "name": "stdout",
          "text": [
            "{'eval/flat_accuracy': '0.9518', 'eval/accuracy': '0.6602', 'eval/macro_precision': '0.7063', 'eval/macro_recall': '0.8416', 'eval/macro_f1': '0.7460', 'eval/micro_precision': '0.8098', 'eval/micro_recall': '0.8404', 'eval/micro_f1': '0.8248', 'eval/weighted_precision': '0.8249', 'eval/weighted_recall': '0.8404', 'eval/weighted_f1': '0.8295', 'train/loss': '0.1093', 'eval/loss': '0.1343'}\n",
            "--------------------------- epoch 166 ---------------------------\n"
          ]
        },
        {
          "output_type": "stream",
          "name": "stderr",
          "text": [
            "100%|██████████| 20/20 [00:00<00:00, 25.94it/s]\n",
            "100%|██████████| 7/7 [00:00<00:00, 14.69it/s]\n"
          ]
        },
        {
          "output_type": "stream",
          "name": "stdout",
          "text": [
            "{'eval/flat_accuracy': '0.9517', 'eval/accuracy': '0.6595', 'eval/macro_precision': '0.7102', 'eval/macro_recall': '0.8348', 'eval/macro_f1': '0.7480', 'eval/micro_precision': '0.8140', 'eval/micro_recall': '0.8320', 'eval/micro_f1': '0.8229', 'eval/weighted_precision': '0.8307', 'eval/weighted_recall': '0.8320', 'eval/weighted_f1': '0.8280', 'train/loss': '0.1087', 'eval/loss': '0.1333'}\n",
            "--------------------------- epoch 167 ---------------------------\n"
          ]
        },
        {
          "output_type": "stream",
          "name": "stderr",
          "text": [
            "100%|██████████| 20/20 [00:00<00:00, 25.94it/s]\n",
            "100%|██████████| 7/7 [00:00<00:00, 14.50it/s]\n"
          ]
        },
        {
          "output_type": "stream",
          "name": "stdout",
          "text": [
            "{'eval/flat_accuracy': '0.9527', 'eval/accuracy': '0.6649', 'eval/macro_precision': '0.7190', 'eval/macro_recall': '0.8467', 'eval/macro_f1': '0.7632', 'eval/micro_precision': '0.8128', 'eval/micro_recall': '0.8442', 'eval/micro_f1': '0.8282', 'eval/weighted_precision': '0.8239', 'eval/weighted_recall': '0.8442', 'eval/weighted_f1': '0.8319', 'train/loss': '0.1060', 'eval/loss': '0.1313'}\n",
            "--------------------------- epoch 168 ---------------------------\n"
          ]
        },
        {
          "output_type": "stream",
          "name": "stderr",
          "text": [
            "100%|██████████| 20/20 [00:00<00:00, 25.74it/s]\n",
            "100%|██████████| 7/7 [00:00<00:00, 14.63it/s]\n"
          ]
        },
        {
          "output_type": "stream",
          "name": "stdout",
          "text": [
            "{'eval/flat_accuracy': '0.9501', 'eval/accuracy': '0.6528', 'eval/macro_precision': '0.7178', 'eval/macro_recall': '0.8375', 'eval/macro_f1': '0.7618', 'eval/micro_precision': '0.7978', 'eval/micro_recall': '0.8446', 'eval/micro_f1': '0.8205', 'eval/weighted_precision': '0.8116', 'eval/weighted_recall': '0.8446', 'eval/weighted_f1': '0.8238', 'train/loss': '0.1050', 'eval/loss': '0.1354'}\n",
            "--------------------------- epoch 169 ---------------------------\n"
          ]
        },
        {
          "output_type": "stream",
          "name": "stderr",
          "text": [
            "100%|██████████| 20/20 [00:00<00:00, 25.68it/s]\n",
            "100%|██████████| 7/7 [00:00<00:00, 14.50it/s]\n"
          ]
        },
        {
          "output_type": "stream",
          "name": "stdout",
          "text": [
            "{'eval/flat_accuracy': '0.9514', 'eval/accuracy': '0.6578', 'eval/macro_precision': '0.7094', 'eval/macro_recall': '0.8371', 'eval/macro_f1': '0.7511', 'eval/micro_precision': '0.8061', 'eval/micro_recall': '0.8424', 'eval/micro_f1': '0.8238', 'eval/weighted_precision': '0.8160', 'eval/weighted_recall': '0.8424', 'eval/weighted_f1': '0.8267', 'train/loss': '0.1071', 'eval/loss': '0.1322'}\n",
            "--------------------------- epoch 170 ---------------------------\n"
          ]
        },
        {
          "output_type": "stream",
          "name": "stderr",
          "text": [
            "100%|██████████| 20/20 [00:00<00:00, 25.31it/s]\n",
            "100%|██████████| 7/7 [00:00<00:00, 14.81it/s]\n"
          ]
        },
        {
          "output_type": "stream",
          "name": "stdout",
          "text": [
            "{'eval/flat_accuracy': '0.9495', 'eval/accuracy': '0.6466', 'eval/macro_precision': '0.6967', 'eval/macro_recall': '0.8449', 'eval/macro_f1': '0.7483', 'eval/micro_precision': '0.7933', 'eval/micro_recall': '0.8458', 'eval/micro_f1': '0.8187', 'eval/weighted_precision': '0.8093', 'eval/weighted_recall': '0.8458', 'eval/weighted_f1': '0.8232', 'train/loss': '0.1070', 'eval/loss': '0.1378'}\n",
            "--------------------------- epoch 171 ---------------------------\n"
          ]
        },
        {
          "output_type": "stream",
          "name": "stderr",
          "text": [
            "100%|██████████| 20/20 [00:00<00:00, 26.69it/s]\n",
            "100%|██████████| 7/7 [00:00<00:00, 14.47it/s]\n"
          ]
        },
        {
          "output_type": "stream",
          "name": "stdout",
          "text": [
            "{'eval/flat_accuracy': '0.9529', 'eval/accuracy': '0.6694', 'eval/macro_precision': '0.7150', 'eval/macro_recall': '0.8353', 'eval/macro_f1': '0.7535', 'eval/micro_precision': '0.8210', 'eval/micro_recall': '0.8322', 'eval/micro_f1': '0.8265', 'eval/weighted_precision': '0.8322', 'eval/weighted_recall': '0.8322', 'eval/weighted_f1': '0.8295', 'train/loss': '0.1057', 'eval/loss': '0.1330'}\n",
            "--------------------------- epoch 172 ---------------------------\n"
          ]
        },
        {
          "output_type": "stream",
          "name": "stderr",
          "text": [
            "100%|██████████| 20/20 [00:00<00:00, 26.68it/s]\n",
            "100%|██████████| 7/7 [00:00<00:00, 14.90it/s]\n"
          ]
        },
        {
          "output_type": "stream",
          "name": "stdout",
          "text": [
            "{'eval/flat_accuracy': '0.9511', 'eval/accuracy': '0.6540', 'eval/macro_precision': '0.7223', 'eval/macro_recall': '0.8395', 'eval/macro_f1': '0.7641', 'eval/micro_precision': '0.8027', 'eval/micro_recall': '0.8456', 'eval/micro_f1': '0.8236', 'eval/weighted_precision': '0.8156', 'eval/weighted_recall': '0.8456', 'eval/weighted_f1': '0.8280', 'train/loss': '0.1073', 'eval/loss': '0.1329'}\n",
            "--------------------------- epoch 173 ---------------------------\n"
          ]
        },
        {
          "output_type": "stream",
          "name": "stderr",
          "text": [
            "100%|██████████| 20/20 [00:00<00:00, 24.99it/s]\n",
            "100%|██████████| 7/7 [00:00<00:00, 14.33it/s]\n"
          ]
        },
        {
          "output_type": "stream",
          "name": "stdout",
          "text": [
            "{'eval/flat_accuracy': '0.9517', 'eval/accuracy': '0.6635', 'eval/macro_precision': '0.7091', 'eval/macro_recall': '0.8396', 'eval/macro_f1': '0.7484', 'eval/micro_precision': '0.8152', 'eval/micro_recall': '0.8304', 'eval/micro_f1': '0.8227', 'eval/weighted_precision': '0.8290', 'eval/weighted_recall': '0.8304', 'eval/weighted_f1': '0.8260', 'train/loss': '0.1051', 'eval/loss': '0.1361'}\n",
            "--------------------------- epoch 174 ---------------------------\n"
          ]
        },
        {
          "output_type": "stream",
          "name": "stderr",
          "text": [
            "100%|██████████| 20/20 [00:00<00:00, 24.29it/s]\n",
            "100%|██████████| 7/7 [00:00<00:00, 14.32it/s]\n"
          ]
        },
        {
          "output_type": "stream",
          "name": "stdout",
          "text": [
            "{'eval/flat_accuracy': '0.9511', 'eval/accuracy': '0.6535', 'eval/macro_precision': '0.7117', 'eval/macro_recall': '0.8448', 'eval/macro_f1': '0.7579', 'eval/micro_precision': '0.8001', 'eval/micro_recall': '0.8495', 'eval/micro_f1': '0.8241', 'eval/weighted_precision': '0.8148', 'eval/weighted_recall': '0.8495', 'eval/weighted_f1': '0.8290', 'train/loss': '0.1027', 'eval/loss': '0.1346'}\n",
            "--------------------------- epoch 175 ---------------------------\n"
          ]
        },
        {
          "output_type": "stream",
          "name": "stderr",
          "text": [
            "100%|██████████| 20/20 [00:00<00:00, 26.28it/s]\n",
            "100%|██████████| 7/7 [00:00<00:00, 14.45it/s]\n"
          ]
        },
        {
          "output_type": "stream",
          "name": "stdout",
          "text": [
            "{'eval/flat_accuracy': '0.9504', 'eval/accuracy': '0.6583', 'eval/macro_precision': '0.6988', 'eval/macro_recall': '0.8391', 'eval/macro_f1': '0.7457', 'eval/micro_precision': '0.8075', 'eval/micro_recall': '0.8300', 'eval/micro_f1': '0.8186', 'eval/weighted_precision': '0.8234', 'eval/weighted_recall': '0.8300', 'eval/weighted_f1': '0.8226', 'train/loss': '0.1024', 'eval/loss': '0.1410'}\n",
            "--------------------------- epoch 176 ---------------------------\n"
          ]
        },
        {
          "output_type": "stream",
          "name": "stderr",
          "text": [
            "100%|██████████| 20/20 [00:00<00:00, 26.43it/s]\n",
            "100%|██████████| 7/7 [00:00<00:00, 15.23it/s]\n"
          ]
        },
        {
          "output_type": "stream",
          "name": "stdout",
          "text": [
            "{'eval/flat_accuracy': '0.9494', 'eval/accuracy': '0.6509', 'eval/macro_precision': '0.7082', 'eval/macro_recall': '0.8370', 'eval/macro_f1': '0.7566', 'eval/micro_precision': '0.7955', 'eval/micro_recall': '0.8414', 'eval/micro_f1': '0.8178', 'eval/weighted_precision': '0.8099', 'eval/weighted_recall': '0.8414', 'eval/weighted_f1': '0.8203', 'train/loss': '0.1061', 'eval/loss': '0.1390'}\n",
            "--------------------------- epoch 177 ---------------------------\n"
          ]
        },
        {
          "output_type": "stream",
          "name": "stderr",
          "text": [
            "100%|██████████| 20/20 [00:00<00:00, 25.74it/s]\n",
            "100%|██████████| 7/7 [00:00<00:00, 14.80it/s]\n"
          ]
        },
        {
          "output_type": "stream",
          "name": "stdout",
          "text": [
            "{'eval/flat_accuracy': '0.9506', 'eval/accuracy': '0.6557', 'eval/macro_precision': '0.7031', 'eval/macro_recall': '0.8402', 'eval/macro_f1': '0.7487', 'eval/micro_precision': '0.8053', 'eval/micro_recall': '0.8360', 'eval/micro_f1': '0.8204', 'eval/weighted_precision': '0.8221', 'eval/weighted_recall': '0.8360', 'eval/weighted_f1': '0.8256', 'train/loss': '0.1043', 'eval/loss': '0.1368'}\n",
            "--------------------------- epoch 178 ---------------------------\n"
          ]
        },
        {
          "output_type": "stream",
          "name": "stderr",
          "text": [
            "100%|██████████| 20/20 [00:00<00:00, 26.72it/s]\n",
            "100%|██████████| 7/7 [00:00<00:00, 14.24it/s]\n"
          ]
        },
        {
          "output_type": "stream",
          "name": "stdout",
          "text": [
            "{'eval/flat_accuracy': '0.9521', 'eval/accuracy': '0.6638', 'eval/macro_precision': '0.7093', 'eval/macro_recall': '0.8449', 'eval/macro_f1': '0.7536', 'eval/micro_precision': '0.8124', 'eval/micro_recall': '0.8384', 'eval/micro_f1': '0.8252', 'eval/weighted_precision': '0.8240', 'eval/weighted_recall': '0.8384', 'eval/weighted_f1': '0.8288', 'train/loss': '0.1042', 'eval/loss': '0.1337'}\n",
            "--------------------------- epoch 179 ---------------------------\n"
          ]
        },
        {
          "output_type": "stream",
          "name": "stderr",
          "text": [
            "100%|██████████| 20/20 [00:00<00:00, 25.12it/s]\n",
            "100%|██████████| 7/7 [00:00<00:00, 14.96it/s]\n"
          ]
        },
        {
          "output_type": "stream",
          "name": "stdout",
          "text": [
            "{'eval/flat_accuracy': '0.9520', 'eval/accuracy': '0.6602', 'eval/macro_precision': '0.7130', 'eval/macro_recall': '0.8466', 'eval/macro_f1': '0.7571', 'eval/micro_precision': '0.8080', 'eval/micro_recall': '0.8447', 'eval/micro_f1': '0.8260', 'eval/weighted_precision': '0.8196', 'eval/weighted_recall': '0.8447', 'eval/weighted_f1': '0.8297', 'train/loss': '0.1013', 'eval/loss': '0.1336'}\n",
            "--------------------------- epoch 180 ---------------------------\n"
          ]
        },
        {
          "output_type": "stream",
          "name": "stderr",
          "text": [
            "100%|██████████| 20/20 [00:00<00:00, 25.42it/s]\n",
            "100%|██████████| 7/7 [00:00<00:00, 15.26it/s]\n"
          ]
        },
        {
          "output_type": "stream",
          "name": "stdout",
          "text": [
            "{'eval/flat_accuracy': '0.9494', 'eval/accuracy': '0.6469', 'eval/macro_precision': '0.6977', 'eval/macro_recall': '0.8485', 'eval/macro_f1': '0.7462', 'eval/micro_precision': '0.7965', 'eval/micro_recall': '0.8392', 'eval/micro_f1': '0.8173', 'eval/weighted_precision': '0.8170', 'eval/weighted_recall': '0.8392', 'eval/weighted_f1': '0.8238', 'train/loss': '0.1007', 'eval/loss': '0.1401'}\n",
            "--------------------------- epoch 181 ---------------------------\n"
          ]
        },
        {
          "output_type": "stream",
          "name": "stderr",
          "text": [
            "100%|██████████| 20/20 [00:00<00:00, 26.07it/s]\n",
            "100%|██████████| 7/7 [00:00<00:00, 14.56it/s]\n"
          ]
        },
        {
          "output_type": "stream",
          "name": "stdout",
          "text": [
            "{'eval/flat_accuracy': '0.9513', 'eval/accuracy': '0.6578', 'eval/macro_precision': '0.7049', 'eval/macro_recall': '0.8456', 'eval/macro_f1': '0.7508', 'eval/micro_precision': '0.8086', 'eval/micro_recall': '0.8375', 'eval/micro_f1': '0.8228', 'eval/weighted_precision': '0.8248', 'eval/weighted_recall': '0.8375', 'eval/weighted_f1': '0.8282', 'train/loss': '0.1022', 'eval/loss': '0.1360'}\n",
            "--------------------------- epoch 182 ---------------------------\n"
          ]
        },
        {
          "output_type": "stream",
          "name": "stderr",
          "text": [
            "100%|██████████| 20/20 [00:00<00:00, 25.50it/s]\n",
            "100%|██████████| 7/7 [00:00<00:00, 14.69it/s]\n"
          ]
        },
        {
          "output_type": "stream",
          "name": "stdout",
          "text": [
            "{'eval/flat_accuracy': '0.9514', 'eval/accuracy': '0.6572', 'eval/macro_precision': '0.7172', 'eval/macro_recall': '0.8373', 'eval/macro_f1': '0.7620', 'eval/micro_precision': '0.8049', 'eval/micro_recall': '0.8441', 'eval/micro_f1': '0.8240', 'eval/weighted_precision': '0.8138', 'eval/weighted_recall': '0.8441', 'eval/weighted_f1': '0.8270', 'train/loss': '0.1002', 'eval/loss': '0.1330'}\n",
            "--------------------------- epoch 183 ---------------------------\n"
          ]
        },
        {
          "output_type": "stream",
          "name": "stderr",
          "text": [
            "100%|██████████| 20/20 [00:00<00:00, 24.91it/s]\n",
            "100%|██████████| 7/7 [00:00<00:00, 14.34it/s]\n"
          ]
        },
        {
          "output_type": "stream",
          "name": "stdout",
          "text": [
            "{'eval/flat_accuracy': '0.9525', 'eval/accuracy': '0.6674', 'eval/macro_precision': '0.7182', 'eval/macro_recall': '0.8351', 'eval/macro_f1': '0.7531', 'eval/micro_precision': '0.8236', 'eval/micro_recall': '0.8248', 'eval/micro_f1': '0.8242', 'eval/weighted_precision': '0.8375', 'eval/weighted_recall': '0.8248', 'eval/weighted_f1': '0.8283', 'train/loss': '0.1011', 'eval/loss': '0.1361'}\n",
            "--------------------------- epoch 184 ---------------------------\n"
          ]
        },
        {
          "output_type": "stream",
          "name": "stderr",
          "text": [
            "100%|██████████| 20/20 [00:00<00:00, 24.63it/s]\n",
            "100%|██████████| 7/7 [00:00<00:00, 14.40it/s]\n"
          ]
        },
        {
          "output_type": "stream",
          "name": "stdout",
          "text": [
            "{'eval/flat_accuracy': '0.9512', 'eval/accuracy': '0.6585', 'eval/macro_precision': '0.7129', 'eval/macro_recall': '0.8489', 'eval/macro_f1': '0.7570', 'eval/micro_precision': '0.8021', 'eval/micro_recall': '0.8474', 'eval/micro_f1': '0.8241', 'eval/weighted_precision': '0.8149', 'eval/weighted_recall': '0.8474', 'eval/weighted_f1': '0.8283', 'train/loss': '0.1009', 'eval/loss': '0.1362'}\n",
            "--------------------------- epoch 185 ---------------------------\n"
          ]
        },
        {
          "output_type": "stream",
          "name": "stderr",
          "text": [
            "100%|██████████| 20/20 [00:00<00:00, 25.38it/s]\n",
            "100%|██████████| 7/7 [00:00<00:00, 14.70it/s]\n"
          ]
        },
        {
          "output_type": "stream",
          "name": "stdout",
          "text": [
            "{'eval/flat_accuracy': '0.9517', 'eval/accuracy': '0.6637', 'eval/macro_precision': '0.7095', 'eval/macro_recall': '0.8420', 'eval/macro_f1': '0.7498', 'eval/micro_precision': '0.8160', 'eval/micro_recall': '0.8290', 'eval/micro_f1': '0.8224', 'eval/weighted_precision': '0.8303', 'eval/weighted_recall': '0.8290', 'eval/weighted_f1': '0.8262', 'train/loss': '0.0988', 'eval/loss': '0.1384'}\n",
            "--------------------------- epoch 186 ---------------------------\n"
          ]
        },
        {
          "output_type": "stream",
          "name": "stderr",
          "text": [
            "100%|██████████| 20/20 [00:00<00:00, 26.10it/s]\n",
            "100%|██████████| 7/7 [00:00<00:00, 14.85it/s]\n"
          ]
        },
        {
          "output_type": "stream",
          "name": "stdout",
          "text": [
            "{'eval/flat_accuracy': '0.9509', 'eval/accuracy': '0.6586', 'eval/macro_precision': '0.7110', 'eval/macro_recall': '0.8459', 'eval/macro_f1': '0.7560', 'eval/micro_precision': '0.8041', 'eval/micro_recall': '0.8410', 'eval/micro_f1': '0.8222', 'eval/weighted_precision': '0.8156', 'eval/weighted_recall': '0.8410', 'eval/weighted_f1': '0.8246', 'train/loss': '0.0998', 'eval/loss': '0.1386'}\n",
            "--------------------------- epoch 187 ---------------------------\n"
          ]
        },
        {
          "output_type": "stream",
          "name": "stderr",
          "text": [
            "100%|██████████| 20/20 [00:00<00:00, 24.98it/s]\n",
            "100%|██████████| 7/7 [00:00<00:00, 13.29it/s]\n"
          ]
        },
        {
          "output_type": "stream",
          "name": "stdout",
          "text": [
            "{'eval/flat_accuracy': '0.9507', 'eval/accuracy': '0.6508', 'eval/macro_precision': '0.7100', 'eval/macro_recall': '0.8463', 'eval/macro_f1': '0.7558', 'eval/micro_precision': '0.7971', 'eval/micro_recall': '0.8514', 'eval/micro_f1': '0.8233', 'eval/weighted_precision': '0.8104', 'eval/weighted_recall': '0.8514', 'eval/weighted_f1': '0.8275', 'train/loss': '0.0994', 'eval/loss': '0.1368'}\n",
            "--------------------------- epoch 188 ---------------------------\n"
          ]
        },
        {
          "output_type": "stream",
          "name": "stderr",
          "text": [
            "100%|██████████| 20/20 [00:00<00:00, 23.87it/s]\n",
            "100%|██████████| 7/7 [00:00<00:00, 14.07it/s]\n"
          ]
        },
        {
          "output_type": "stream",
          "name": "stdout",
          "text": [
            "{'eval/flat_accuracy': '0.9500', 'eval/accuracy': '0.6505', 'eval/macro_precision': '0.7054', 'eval/macro_recall': '0.8470', 'eval/macro_f1': '0.7546', 'eval/micro_precision': '0.7907', 'eval/micro_recall': '0.8560', 'eval/micro_f1': '0.8220', 'eval/weighted_precision': '0.8047', 'eval/weighted_recall': '0.8560', 'eval/weighted_f1': '0.8261', 'train/loss': '0.0981', 'eval/loss': '0.1399'}\n",
            "--------------------------- epoch 189 ---------------------------\n"
          ]
        },
        {
          "output_type": "stream",
          "name": "stderr",
          "text": [
            "100%|██████████| 20/20 [00:00<00:00, 23.12it/s]\n",
            "100%|██████████| 7/7 [00:00<00:00, 13.37it/s]\n"
          ]
        },
        {
          "output_type": "stream",
          "name": "stdout",
          "text": [
            "{'eval/flat_accuracy': '0.9512', 'eval/accuracy': '0.6589', 'eval/macro_precision': '0.7101', 'eval/macro_recall': '0.8396', 'eval/macro_f1': '0.7568', 'eval/micro_precision': '0.8050', 'eval/micro_recall': '0.8429', 'eval/micro_f1': '0.8235', 'eval/weighted_precision': '0.8161', 'eval/weighted_recall': '0.8429', 'eval/weighted_f1': '0.8265', 'train/loss': '0.1000', 'eval/loss': '0.1365'}\n",
            "--------------------------- epoch 190 ---------------------------\n"
          ]
        },
        {
          "output_type": "stream",
          "name": "stderr",
          "text": [
            "100%|██████████| 20/20 [00:00<00:00, 23.11it/s]\n",
            "100%|██████████| 7/7 [00:00<00:00, 13.48it/s]\n"
          ]
        },
        {
          "output_type": "stream",
          "name": "stdout",
          "text": [
            "{'eval/flat_accuracy': '0.9522', 'eval/accuracy': '0.6635', 'eval/macro_precision': '0.7158', 'eval/macro_recall': '0.8396', 'eval/macro_f1': '0.7562', 'eval/micro_precision': '0.8117', 'eval/micro_recall': '0.8410', 'eval/micro_f1': '0.8261', 'eval/weighted_precision': '0.8222', 'eval/weighted_recall': '0.8410', 'eval/weighted_f1': '0.8293', 'train/loss': '0.0986', 'eval/loss': '0.1347'}\n",
            "--------------------------- epoch 191 ---------------------------\n"
          ]
        },
        {
          "output_type": "stream",
          "name": "stderr",
          "text": [
            "100%|██████████| 20/20 [00:00<00:00, 25.42it/s]\n",
            "100%|██████████| 7/7 [00:00<00:00, 14.39it/s]\n"
          ]
        },
        {
          "output_type": "stream",
          "name": "stdout",
          "text": [
            "{'eval/flat_accuracy': '0.9523', 'eval/accuracy': '0.6680', 'eval/macro_precision': '0.7206', 'eval/macro_recall': '0.8376', 'eval/macro_f1': '0.7576', 'eval/micro_precision': '0.8125', 'eval/micro_recall': '0.8404', 'eval/micro_f1': '0.8262', 'eval/weighted_precision': '0.8221', 'eval/weighted_recall': '0.8404', 'eval/weighted_f1': '0.8284', 'train/loss': '0.0988', 'eval/loss': '0.1350'}\n",
            "--------------------------- epoch 192 ---------------------------\n"
          ]
        },
        {
          "output_type": "stream",
          "name": "stderr",
          "text": [
            "100%|██████████| 20/20 [00:00<00:00, 22.86it/s]\n",
            "100%|██████████| 7/7 [00:00<00:00, 14.28it/s]\n"
          ]
        },
        {
          "output_type": "stream",
          "name": "stdout",
          "text": [
            "{'eval/flat_accuracy': '0.9491', 'eval/accuracy': '0.6425', 'eval/macro_precision': '0.7015', 'eval/macro_recall': '0.8458', 'eval/macro_f1': '0.7539', 'eval/micro_precision': '0.7897', 'eval/micro_recall': '0.8489', 'eval/micro_f1': '0.8182', 'eval/weighted_precision': '0.8029', 'eval/weighted_recall': '0.8489', 'eval/weighted_f1': '0.8225', 'train/loss': '0.0974', 'eval/loss': '0.1401'}\n",
            "--------------------------- epoch 193 ---------------------------\n"
          ]
        },
        {
          "output_type": "stream",
          "name": "stderr",
          "text": [
            "100%|██████████| 20/20 [00:00<00:00, 23.59it/s]\n",
            "100%|██████████| 7/7 [00:00<00:00, 13.28it/s]\n"
          ]
        },
        {
          "output_type": "stream",
          "name": "stdout",
          "text": [
            "{'eval/flat_accuracy': '0.9507', 'eval/accuracy': '0.6532', 'eval/macro_precision': '0.7059', 'eval/macro_recall': '0.8408', 'eval/macro_f1': '0.7557', 'eval/micro_precision': '0.8007', 'eval/micro_recall': '0.8449', 'eval/micro_f1': '0.8222', 'eval/weighted_precision': '0.8121', 'eval/weighted_recall': '0.8449', 'eval/weighted_f1': '0.8261', 'train/loss': '0.0963', 'eval/loss': '0.1367'}\n",
            "--------------------------- epoch 194 ---------------------------\n"
          ]
        },
        {
          "output_type": "stream",
          "name": "stderr",
          "text": [
            "100%|██████████| 20/20 [00:00<00:00, 24.74it/s]\n",
            "100%|██████████| 7/7 [00:00<00:00, 14.65it/s]\n"
          ]
        },
        {
          "output_type": "stream",
          "name": "stdout",
          "text": [
            "{'eval/flat_accuracy': '0.9511', 'eval/accuracy': '0.6586', 'eval/macro_precision': '0.7143', 'eval/macro_recall': '0.8421', 'eval/macro_f1': '0.7592', 'eval/micro_precision': '0.8051', 'eval/micro_recall': '0.8417', 'eval/micro_f1': '0.8230', 'eval/weighted_precision': '0.8177', 'eval/weighted_recall': '0.8417', 'eval/weighted_f1': '0.8269', 'train/loss': '0.0952', 'eval/loss': '0.1383'}\n",
            "--------------------------- epoch 195 ---------------------------\n"
          ]
        },
        {
          "output_type": "stream",
          "name": "stderr",
          "text": [
            "100%|██████████| 20/20 [00:00<00:00, 24.91it/s]\n",
            "100%|██████████| 7/7 [00:00<00:00, 14.83it/s]\n"
          ]
        },
        {
          "output_type": "stream",
          "name": "stdout",
          "text": [
            "{'eval/flat_accuracy': '0.9499', 'eval/accuracy': '0.6518', 'eval/macro_precision': '0.7094', 'eval/macro_recall': '0.8427', 'eval/macro_f1': '0.7503', 'eval/micro_precision': '0.8036', 'eval/micro_recall': '0.8323', 'eval/micro_f1': '0.8177', 'eval/weighted_precision': '0.8217', 'eval/weighted_recall': '0.8323', 'eval/weighted_f1': '0.8222', 'train/loss': '0.0976', 'eval/loss': '0.1427'}\n",
            "--------------------------- epoch 196 ---------------------------\n"
          ]
        },
        {
          "output_type": "stream",
          "name": "stderr",
          "text": [
            "100%|██████████| 20/20 [00:00<00:00, 23.93it/s]\n",
            "100%|██████████| 7/7 [00:00<00:00, 14.23it/s]\n"
          ]
        },
        {
          "output_type": "stream",
          "name": "stdout",
          "text": [
            "{'eval/flat_accuracy': '0.9534', 'eval/accuracy': '0.6706', 'eval/macro_precision': '0.7223', 'eval/macro_recall': '0.8438', 'eval/macro_f1': '0.7606', 'eval/micro_precision': '0.8153', 'eval/micro_recall': '0.8463', 'eval/micro_f1': '0.8305', 'eval/weighted_precision': '0.8256', 'eval/weighted_recall': '0.8463', 'eval/weighted_f1': '0.8337', 'train/loss': '0.0973', 'eval/loss': '0.1349'}\n",
            "--------------------------- epoch 197 ---------------------------\n"
          ]
        },
        {
          "output_type": "stream",
          "name": "stderr",
          "text": [
            "100%|██████████| 20/20 [00:00<00:00, 25.58it/s]\n",
            "100%|██████████| 7/7 [00:00<00:00, 14.64it/s]\n"
          ]
        },
        {
          "output_type": "stream",
          "name": "stdout",
          "text": [
            "{'eval/flat_accuracy': '0.9481', 'eval/accuracy': '0.6425', 'eval/macro_precision': '0.6936', 'eval/macro_recall': '0.8437', 'eval/macro_f1': '0.7454', 'eval/micro_precision': '0.7864', 'eval/micro_recall': '0.8452', 'eval/micro_f1': '0.8148', 'eval/weighted_precision': '0.8034', 'eval/weighted_recall': '0.8452', 'eval/weighted_f1': '0.8199', 'train/loss': '0.0966', 'eval/loss': '0.1446'}\n",
            "--------------------------- epoch 198 ---------------------------\n"
          ]
        },
        {
          "output_type": "stream",
          "name": "stderr",
          "text": [
            "100%|██████████| 20/20 [00:00<00:00, 24.33it/s]\n",
            "100%|██████████| 7/7 [00:00<00:00, 12.99it/s]\n"
          ]
        },
        {
          "output_type": "stream",
          "name": "stdout",
          "text": [
            "{'eval/flat_accuracy': '0.9514', 'eval/accuracy': '0.6592', 'eval/macro_precision': '0.7143', 'eval/macro_recall': '0.8403', 'eval/macro_f1': '0.7577', 'eval/micro_precision': '0.8069', 'eval/micro_recall': '0.8406', 'eval/micro_f1': '0.8234', 'eval/weighted_precision': '0.8179', 'eval/weighted_recall': '0.8406', 'eval/weighted_f1': '0.8258', 'train/loss': '0.0960', 'eval/loss': '0.1394'}\n",
            "--------------------------- epoch 199 ---------------------------\n"
          ]
        },
        {
          "output_type": "stream",
          "name": "stderr",
          "text": [
            "100%|██████████| 20/20 [00:00<00:00, 24.87it/s]\n",
            "100%|██████████| 7/7 [00:00<00:00, 13.62it/s]\n"
          ]
        },
        {
          "output_type": "stream",
          "name": "stdout",
          "text": [
            "{'eval/flat_accuracy': '0.9510', 'eval/accuracy': '0.6560', 'eval/macro_precision': '0.7045', 'eval/macro_recall': '0.8511', 'eval/macro_f1': '0.7559', 'eval/micro_precision': '0.7980', 'eval/micro_recall': '0.8532', 'eval/micro_f1': '0.8247', 'eval/weighted_precision': '0.8112', 'eval/weighted_recall': '0.8532', 'eval/weighted_f1': '0.8294', 'train/loss': '0.0948', 'eval/loss': '0.1378'}\n",
            "--------------------------- epoch 200 ---------------------------\n"
          ]
        },
        {
          "output_type": "stream",
          "name": "stderr",
          "text": [
            "100%|██████████| 20/20 [00:00<00:00, 26.48it/s]\n",
            "100%|██████████| 7/7 [00:00<00:00, 14.50it/s]\n"
          ]
        },
        {
          "output_type": "stream",
          "name": "stdout",
          "text": [
            "{'eval/flat_accuracy': '0.9524', 'eval/accuracy': '0.6638', 'eval/macro_precision': '0.7139', 'eval/macro_recall': '0.8402', 'eval/macro_f1': '0.7586', 'eval/micro_precision': '0.8084', 'eval/micro_recall': '0.8479', 'eval/micro_f1': '0.8277', 'eval/weighted_precision': '0.8178', 'eval/weighted_recall': '0.8479', 'eval/weighted_f1': '0.8311', 'train/loss': '0.0946', 'eval/loss': '0.1341', 'train/epoch': '5.0000'}\n"
          ]
        },
        {
          "output_type": "display_data",
          "data": {
            "text/plain": [
              "<IPython.core.display.HTML object>"
            ],
            "text/html": [
              "\n",
              "    <style>\n",
              "        .wandb-row {\n",
              "            display: flex;\n",
              "            flex-direction: row;\n",
              "            flex-wrap: wrap;\n",
              "            justify-content: flex-start;\n",
              "            width: 100%;\n",
              "        }\n",
              "        .wandb-col {\n",
              "            display: flex;\n",
              "            flex-direction: column;\n",
              "            flex-basis: 100%;\n",
              "            flex: 1;\n",
              "            padding: 10px;\n",
              "        }\n",
              "    </style>\n",
              "<div class=\"wandb-row\"><div class=\"wandb-col\"><h3>Run history:</h3><br/><table class=\"wandb\"><tr><td>eval/accuracy</td><td>▁▅█▆█</td></tr><tr><td>eval/flat_accuracy</td><td>▁▅█▆█</td></tr><tr><td>eval/loss</td><td>█▂▁▂▂</td></tr><tr><td>eval/macro_f1</td><td>▁▅███</td></tr><tr><td>eval/macro_precision</td><td>▁██▅▆</td></tr><tr><td>eval/macro_recall</td><td>▁▄▇█▇</td></tr><tr><td>eval/micro_f1</td><td>▁▆█▇█</td></tr><tr><td>eval/micro_precision</td><td>▆▆█▁▅</td></tr><tr><td>eval/micro_recall</td><td>▁▅▆██</td></tr><tr><td>eval/weighted_f1</td><td>▁▆█▇█</td></tr><tr><td>eval/weighted_precision</td><td>▇▇█▁▄</td></tr><tr><td>eval/weighted_recall</td><td>▁▅▆██</td></tr><tr><td>train/epoch</td><td>▁▃▅▆█</td></tr><tr><td>train/loss</td><td>█▅▄▂▁</td></tr></table><br/></div><div class=\"wandb-col\"><h3>Run summary:</h3><br/><table class=\"wandb\"><tr><td>eval/accuracy</td><td>0.66385</td></tr><tr><td>eval/flat_accuracy</td><td>0.95236</td></tr><tr><td>eval/loss</td><td>0.13406</td></tr><tr><td>eval/macro_f1</td><td>0.7586</td></tr><tr><td>eval/macro_precision</td><td>0.71391</td></tr><tr><td>eval/macro_recall</td><td>0.84022</td></tr><tr><td>eval/micro_f1</td><td>0.82768</td></tr><tr><td>eval/micro_precision</td><td>0.80843</td></tr><tr><td>eval/micro_recall</td><td>0.84786</td></tr><tr><td>eval/weighted_f1</td><td>0.83111</td></tr><tr><td>eval/weighted_precision</td><td>0.81776</td></tr><tr><td>eval/weighted_recall</td><td>0.84786</td></tr><tr><td>train/epoch</td><td>5</td></tr><tr><td>train/loss</td><td>0.09457</td></tr></table><br/></div></div>"
            ]
          },
          "metadata": {}
        },
        {
          "output_type": "display_data",
          "data": {
            "text/plain": [
              "<IPython.core.display.HTML object>"
            ],
            "text/html": [
              " View run <strong style=\"color:#cdcd00\">llm_embed_llama3_2</strong> at: <a href='https://wandb.ai/ai_expert/Multi%20output%20classification/runs/or7s5bhy' target=\"_blank\">https://wandb.ai/ai_expert/Multi%20output%20classification/runs/or7s5bhy</a><br/> View project at: <a href='https://wandb.ai/ai_expert/Multi%20output%20classification' target=\"_blank\">https://wandb.ai/ai_expert/Multi%20output%20classification</a><br/>Synced 5 W&B file(s), 0 media file(s), 0 artifact file(s) and 0 other file(s)"
            ]
          },
          "metadata": {}
        },
        {
          "output_type": "display_data",
          "data": {
            "text/plain": [
              "<IPython.core.display.HTML object>"
            ],
            "text/html": [
              "Find logs at: <code>./wandb/run-20241113_081435-or7s5bhy/logs</code>"
            ]
          },
          "metadata": {}
        }
      ],
      "source": [
        "# 필요한 모듈 import 구문 추가\n",
        "# from DownstreamModel import DownstreamModel\n",
        "from torch.utils.data import DataLoader\n",
        "import torch.nn as nn\n",
        "import torch.optim as optim\n",
        "# from model_op import Train, Test\n",
        "# from model_op_multi import Train_multi, Test_multi\n",
        "import argparse\n",
        "import os\n",
        "import torch\n",
        "# from MyDataset import MyDataset\n",
        "import json\n",
        "\n",
        "if __name__ == '__main__':\n",
        "\n",
        "    wandb.init(project=\"Multi output classification\", entity=\"ai_expert\", name=\"llm_embed_llama3_2\")\n",
        "\n",
        "    device = torch.device(\"cuda\" if torch.cuda.is_available() else \"cpu\")\n",
        "    task = 'stackoverflow'  # 사용 가능한 옵션: 'sst2', 'mr', 'agnews', 'r8', 'r52', 'stackoverflow' 중 하나\n",
        "    epochs = 201  # 원하는 에폭 수\n",
        "    SIGMA = 0.1  # SIGMA 값을 설정\n",
        "    batch_size = 1024  # 배치 크기 설정\n",
        "    lr = 1e-4  # 학습률 설정\n",
        "\n",
        "    class_num = {'sst2': 2, 'mr': 2, 'agnews': 5, 'r8': 8, 'r52': 52, 'stackoverflow': 9}\n",
        "    class_num = class_num[task]\n",
        "\n",
        "    l_dataset_path = f'/content/drive/MyDrive/YonseiAI/llama3_2/{task}/dataset_tensor/'\n",
        "    b_dataset_path = f'/content/drive/MyDrive/YonseiAI/bert/{task}/dataset_tensor/'\n",
        "    r_dataset_path = f'/content/drive/MyDrive/YonseiAI/roberta/{task}/dataset_tensor/'\n",
        "\n",
        "    # Train dataset\n",
        "    train_data = MyDataset('train', l_dataset_path, b_dataset_path, r_dataset_path)\n",
        "    train_loader = DataLoader(train_data, batch_size=batch_size, shuffle=True, num_workers=4, pin_memory=True)\n",
        "\n",
        "    # Test dataset\n",
        "    test_data = MyDataset('test', l_dataset_path, b_dataset_path, r_dataset_path)\n",
        "    test_loader = DataLoader(test_data, batch_size=batch_size, shuffle=False, num_workers=4, pin_memory=True)\n",
        "\n",
        "    model = DownstreamModel(class_num, SIGMA).to(device)\n",
        "\n",
        "    loss_fn = nn.BCEWithLogitsLoss().to(device)  # 멀티 레이블 손실 함수\n",
        "    optimizer = optim.Adam(model.parameters(), lr=lr)\n",
        "\n",
        "    print('training ...')\n",
        "    for epoch in range(epochs):\n",
        "        model = model.to(device)\n",
        "        print(f'--------------------------- epoch {epoch} ---------------------------')\n",
        "        Train_and_Evaluate(train_loader, test_loader, device, model, loss_fn, optimizer)\n",
        "\n",
        "    # 모델 학습 후, 모델의 가중치 저장하기\n",
        "    model_save_path = f\"/content/drive/MyDrive/YonseiAI/{task}_model_weights_llama3_2_3b.pth\"\n",
        "    torch.save(model.state_dict(), model_save_path)\n",
        "    wandb.finish()"
      ]
    },
    {
      "cell_type": "code",
      "source": [
        "import torch\n",
        "from transformers import AutoTokenizer, AutoModelForCausalLM, BertTokenizer, BertModel, RobertaTokenizer, RobertaModel, AutoConfig\n",
        "\n",
        "# Llama, BERT, RoBERTa 토크나이저 및 모델 로드\n",
        "llama_tokenizer = AutoTokenizer.from_pretrained(\"meta-llama/Llama-3.2-3B\", trust_remote_code=True)\n",
        "llama_tokenizer.pad_token = llama_tokenizer.eos_token  # 패딩 토큰 설정\n",
        "llama_config = AutoConfig.from_pretrained(\"meta-llama/Llama-3.2-3B\", trust_remote_code=True)\n",
        "llama_model = AutoModelForCausalLM.from_pretrained(\"meta-llama/Llama-3.2-3B\", config=llama_config, trust_remote_code=True)\n",
        "\n",
        "bert_tokenizer = BertTokenizer.from_pretrained('bert-large-uncased')\n",
        "bert_model = BertModel.from_pretrained('bert-large-uncased')\n",
        "\n",
        "roberta_tokenizer = RobertaTokenizer.from_pretrained('roberta-large')\n",
        "roberta_model = RobertaModel.from_pretrained('roberta-large')\n",
        "\n",
        "# 모든 모델을 평가 모드로 설정하고 장치로 이동\n",
        "device = torch.device(\"cuda\" if torch.cuda.is_available() else \"cpu\")\n",
        "llama_model.eval().to(device)\n",
        "bert_model.eval().to(device)\n",
        "roberta_model.eval().to(device)\n",
        "\n",
        "# 다운스트림 모델 초기화 및 가중치 로드\n",
        "class_num = 9  # 예시 클래스 수\n",
        "SIGMA = 0.1  # SIGMA 값\n",
        "downstream_model = DownstreamModel(class_num, SIGMA).to(device)\n",
        "model_load_path = \"/content/drive/MyDrive/YonseiAI/stackoverflow_model_weights_llama3_2_3b.pth\"\n",
        "downstream_model.load_state_dict(torch.load(model_load_path, map_location=device))\n",
        "downstream_model.eval()\n",
        "\n",
        "# Llama 임베딩 추출 함수\n",
        "def get_llama_embedding(text, tokenizer, model, device):\n",
        "    inputs = tokenizer(text, return_tensors='pt', padding=True, truncation=True).to(device)\n",
        "    with torch.no_grad():\n",
        "        outputs = model(**inputs, output_hidden_states=True)\n",
        "        # 마지막 5개의 레이어 평균\n",
        "        embedding = torch.stack([torch.mean(outputs.hidden_states[i], dim=1) for i in range(-1, -6, -1)], dim=1)\n",
        "    return embedding\n",
        "\n",
        "# BERT 임베딩 추출 함수\n",
        "def get_bert_embedding(text, tokenizer, model, device):\n",
        "    inputs = tokenizer(text, return_tensors='pt', padding=True, truncation=True).to(device)\n",
        "    with torch.no_grad():\n",
        "        outputs = model(**inputs)\n",
        "        embedding = outputs.pooler_output  # BERT 임베딩\n",
        "    return embedding\n",
        "\n",
        "# RoBERTa 임베딩 추출 함수\n",
        "def get_roberta_embedding(text, tokenizer, model, device):\n",
        "    inputs = tokenizer(text, return_tensors='pt', padding=True, truncation=True).to(device)\n",
        "    with torch.no_grad():\n",
        "        outputs = model(**inputs)\n",
        "        embedding = outputs.last_hidden_state[:, 0, :]  # 첫 번째 토큰 ([CLS] 토큰)\n",
        "    return embedding\n",
        "\n",
        "# 추론 함수\n",
        "def infer(text, downstream_model, device):\n",
        "    # 각 모델로부터 임베딩 추출\n",
        "    llama_emb = get_llama_embedding(text, llama_tokenizer, llama_model, device)\n",
        "    bert_emb = get_bert_embedding(text, bert_tokenizer, bert_model, device)\n",
        "    roberta_emb = get_roberta_embedding(text, roberta_tokenizer, roberta_model, device)\n",
        "\n",
        "    # 모든 임베딩을 float 타입으로 변환\n",
        "    llama_emb = llama_emb.float()\n",
        "    bert_emb = bert_emb.float()\n",
        "    roberta_emb = roberta_emb.float()\n",
        "\n",
        "    # 다운스트림 모델을 통한 예측 수행\n",
        "    with torch.no_grad():\n",
        "        prediction = downstream_model(llama_emb, bert_emb, roberta_emb)\n",
        "        prediction = torch.sigmoid(prediction)  # 확률로 변환\n",
        "\n",
        "    return prediction\n"
      ],
      "metadata": {
        "id": "BwyL8MFdu1fy",
        "colab": {
          "base_uri": "https://localhost:8080/",
          "height": 622,
          "referenced_widgets": [
            "c34f193bdae04df795ad68459170f82b",
            "eaf2dfe3eae14f3b98de82840981a644",
            "aff7c67464ef4288a486a77565086960",
            "be73fe1530a24f39841de37ed8653d01",
            "8577741cfd3b4b48be1b9f2551bb8a66",
            "22ddfb97f16d4d059e5fdf51f3c31911",
            "e1f947deb24746f99769ccc49f539c1b",
            "ba9dc5b9f4d9497c9358a38e97ceb062",
            "281854f47d654569b91d1f42b5d0e785",
            "12e6c14451244c31822b25307a7f3286",
            "0f4303c207f74dc7b7027d684de2c757",
            "c989fab123cb46189a3cc335ba52db2c",
            "e25edaf0563d4fee9520eadb98c9a272",
            "9effb27dc89948ea875dae33b21ff6da",
            "2240864782fa41c8a25e50febf7193d0",
            "c51ddd45a9db4b099696c84c8c9e32ae",
            "30b7605e0f58467db5a1cfae6ea132d1",
            "e63f4b9314cb4a0db675956b1e53cdbe",
            "4df039b1b00e4e6888adc9e63cc964b8",
            "a5792268f6b540d488db9455e2d86de4",
            "b66a140aad42467b874bdc08d545ce8b",
            "86a81f5f6e684e55a8b4c494f6eefb8d",
            "997c0a8ae8f64f4e8ee9d280e148f89a",
            "eb81e18a840f4244b2e65e9fe6872bb1",
            "2e8bcdb73143485d913a69cf6feb3cfc",
            "fa7df903ecb74a5b812b1d4682e33292",
            "69dcd0082da94e7b8caabd5e9483d5f8",
            "de0e5a9fd162448db744ce58cdae770a",
            "449cd5060a4c46638045263a94e8aae7",
            "648c156fe05649e7bcb708257751f8d4",
            "503adea9cb0f499e97d026a5183cc287",
            "fdb561464fb04ec4871b795e83f05ea2",
            "0e1ea4c62e9141368f1713f52cc0ceb3",
            "f59d7f1c3a1e47cda59ce082781f3e46",
            "46b8488844e24ad79a760534be0160bb",
            "a0c1baa29715454cb77bd1773cbd72d8",
            "7416c0590f8a4e93809dd31b6276c383",
            "892bcd39a6c046a8858e56e59962e25a",
            "82daacd9d74441c09b8302b0cc335875",
            "a5c31113552d485a93e7b5eda819a2a3",
            "9bc179676f5b424c866261717673f835",
            "426786745c434179af42916afbb0ff9d",
            "1fb6eb5d303f4f21bf9104ca9816467d",
            "83adbb99f4074aa3bc0a83624300d8b6",
            "0eabb9c9e6a047d1ab823d5ffc7f5b87",
            "5477080873ab4b6289220a4b1fd007c3",
            "738b2efb56214fcfb9c8cb5ee2a83dc9",
            "8694415fed454544aec7d960fe9aa1ea",
            "04e6a803d90f4ed493558784dd4a3053",
            "9bec2a4fbd28414984560276a93b9fa7",
            "7444be430d12454aaeb9a17db7b1d5f6",
            "81a10815a3794216bdae88d13eaf527b",
            "7a6f7aa50c3a4f3584ae7d36bec9543e",
            "3f2f2ba7f777407a954dc1f5d1a6e9a7",
            "675591c4fafc4f6e97dd0f58900e40fd",
            "92b734da0fa646ceac6ebc645ae6a6de",
            "e5f3b2a5931b4910b403848024225713",
            "0dcd1be17a874fd0a6913fcf4fc45fce",
            "e4deb2e7cbcb4e91a878aef14d59488f",
            "d78ba13eb6f0410c89866400080ed4c1",
            "1e5f83aa767c46288fddde49e7af2087",
            "53c5be926deb4100983cf16d5f711f65",
            "560d1db5f39a44bfb164462a6edef372",
            "021b023b6fc74dc488ad9006ffdaa9c2",
            "093d0016d3f34560a76b5978205eb1db",
            "eb69c14c959f4836a717d565668e72f8",
            "3ebbbc5bff5b40a28c6e15fb3c3c771a",
            "5751f4a7e2dd42fca058fe88eb2c733c",
            "fb27960071cb42d4968a2e6e45cd8e9c",
            "d3bc4cfbbfb84fada94eda1b447d28a6",
            "d4a8407c2f6f465d91746d3d36514c8f",
            "b2b308952a484feb9a3365ba94747637",
            "1c639c8db07740cbadb886106d0236ba",
            "92a877105a234e0daa69529e84c420c8",
            "a54f06191f0e424f96adf7061c96fb50",
            "0b5764ff63a84d948bf51cf30f7cbe66",
            "33761ab2ea194b48b719371294a80f51",
            "a63e7028502e44508acd1fc58f689c2c",
            "b787c3a9cdba4a5e9a468edcf3d31f44",
            "7b8f1995ced14585a5207ce74d98df91",
            "2e190c6e270941b2a82066a92e4316cc",
            "04507d6cc4164062bfe70b1d1a8515d1",
            "3d1fb2b74cd54612a2fecc7db5a003de",
            "b2f4b6335fa24df6b2f1b00595e8e056",
            "8958c5eed0b74c489cb4409b5c725225",
            "19caa3ebecf74ec485b60912786686e8",
            "0139fc53be504442a5e2df1a7fb05627",
            "f607fc159a9b486e9fc0fed485aa886e",
            "a7162067191f4998af4493b0a2535ca1",
            "70ce8f6279cc4c16bebed27732a26710",
            "c65b26e050f0417d85246d8e319a6e0f",
            "8f9bc4a75d414644ba8e6bc210bdd9ba",
            "47d080acc36445288998c8ee99d1efb9",
            "d5c14450755b460883451b81163ba518",
            "af1f7d8880214722b3e2464c11984e34",
            "a02252838b764a6995167616fff8cb58",
            "a27a5aa870c14302adeb781e6ee634c9",
            "868bc131f521411fa93cbd942b17fb26",
            "f24750823292485a8ee03ea071842347",
            "3643f3fd0eec48ff9755c56a03510b07",
            "1ed04403ace74481986ecf4c5279420f",
            "df4fff63785548a297f72274d65b3f81",
            "668474c637434cd9a29913ecb3d97466",
            "a312e6b7fede443e827cacc01cd9dfac",
            "743a0c51a11b4f6486b83bf925888ff5",
            "ed3949acab014a90aa936a0423b3b76f",
            "c96936803d80432e83b134d7461c648e",
            "007f3fa09fbc496d8eadeb4cc44fbb1e",
            "0116a5064c044161854d6f3f68fee7e1",
            "ad508ac477fc42d6912762bd02d5110c",
            "1073fe5ecc14455e89721f4cbbe8f68e",
            "7720ea6203d74ead91372a94306f6e11",
            "cf2d8afe3dc64da1ba5d052b604b8538",
            "b1ddf7ff90ea41aaaa0b207b2412d0c5",
            "e19f0fdad0bf4f5d83d4dac32ce996db",
            "788326fdaf5b4efb9edae196a3be1635",
            "93d2f5fbee4c40118aa455302eccaf32",
            "2c41b9cb65bb41b09792289a2c3ae463",
            "c5c447840e7842e98d9f267e670c9e7b",
            "bf7859272d0d43d8939e4cb6255ef1e4",
            "084c855ce39d4dc9a81897120cd1de18",
            "87e20e80b4fb4359a3f141128e676f16",
            "f4db346d70b24bcea0633b673f9a7aa3",
            "30df83780c8249b5aaf10dc35718754a",
            "301fcd97400049a6a00197abb4d32f6f",
            "72561e9b39b946e2ad99b85f5ec4de82",
            "d80699e9764f43d89812077db7f15fba",
            "c742040daf4d443996054896ae9f38ab",
            "a238532f8690454997a2cc893a898c04",
            "03c6688f2b274d45bae616c726465454",
            "3b5686414af749a0ade4ae07e58a1752",
            "2af1485e5a1c45bd8a6efea4b13d8d25",
            "59ae2972214e481f91a0243597f1ca67",
            "4ff5505c614941e2933cf24cfdc6460a",
            "bfcfd32573534eea81808c92ad0871fb",
            "887ac4f92f1b42b9bb473316f5c5719d",
            "7540162780cd4850b8f687aa0b2b8c66",
            "c30f6aff0a68434a9814753754413b82",
            "6f693af80d2b4ba1b306b30fe4a42bb5",
            "690fdea5007a488ebe8feba0c17e9244",
            "5c75a3fd71c34417a6f6601d79b4381b",
            "1ddc1124efe940f39b1e7f01cbd378aa",
            "a1002e857c8e47fc8f15c6d002bd0c37",
            "a33eabdb723540fdb07d4024e487c1e2",
            "86c8c797cfc34beea38d9f22c2077766",
            "956e4821c68d4996ab787af122461297",
            "46be3ebddff94f0994c2ed351fceb655",
            "cb392812614e4e03b2c5022e765ac30b",
            "4cb17b3768b145458816f7dd62fc73f5",
            "107d8f2a0c134011aed17328922d51c9",
            "7fcc70b472f74cc1b2dab881444b1c14",
            "9b0db268567f4dccb52fa0b9cc418143",
            "222e3346817a46c5aefe8815a537cf62",
            "5fc8b863b84a4c6f8272bfcb18ae4d61",
            "cf153e27c9124e848c522156f2757165",
            "767a48d5de144f038eba4c613d773c51",
            "74391ebe45564e2aa57e7fd6c1c667d2",
            "aa1769440a9b4cf686d8581c8b7cb563",
            "59a9349897644292a71c52b82cb4e14a",
            "8a075a2b0ea54d80a4fdbf0a2e09d7e4",
            "1e9a068c8a02483f91b4db83fe1a3cd9",
            "4ec462684c7847d5a1c4f098bc2a730a",
            "4805ea3bf6f54edd8af3cb4d585684d0",
            "74572531ed08415d8bb81828d971ea7f",
            "a2bd8e05ee8745bb9cba18b3624eb936",
            "5fda87112a954976a632b0e8e9dde607",
            "93ee6c2bc4d64b10bdd15121eafe3dec",
            "95174eda03d64628b06abcbf799609c0",
            "f57381f40aab47f2be8a1cc22d6ae508",
            "dd7782c5d9384509adb98f85086e34c9",
            "dc8d2cdd70564d509c8f2035f8eddac8",
            "639dc35674474899bdd4dad0d6934040",
            "0cbbf7b8003547cebce1766f018959bf",
            "b95549bbb0034a4198db40de28bc9ba0",
            "130fe9323a1c46af86a23e5050cfbc52",
            "32601f6604ca4203af296f6e1c47de72"
          ]
        },
        "outputId": "b28e01a2-33e8-4d7a-dc94-16b6bf5d7bab"
      },
      "execution_count": 17,
      "outputs": [
        {
          "output_type": "display_data",
          "data": {
            "text/plain": [
              "Downloading shards:   0%|          | 0/2 [00:00<?, ?it/s]"
            ],
            "application/vnd.jupyter.widget-view+json": {
              "version_major": 2,
              "version_minor": 0,
              "model_id": "c34f193bdae04df795ad68459170f82b"
            }
          },
          "metadata": {}
        },
        {
          "output_type": "display_data",
          "data": {
            "text/plain": [
              "model-00001-of-00002.safetensors:  10%|9         | 493M/4.97G [00:00<?, ?B/s]"
            ],
            "application/vnd.jupyter.widget-view+json": {
              "version_major": 2,
              "version_minor": 0,
              "model_id": "c989fab123cb46189a3cc335ba52db2c"
            }
          },
          "metadata": {}
        },
        {
          "output_type": "display_data",
          "data": {
            "text/plain": [
              "model-00002-of-00002.safetensors:   0%|          | 0.00/1.46G [00:00<?, ?B/s]"
            ],
            "application/vnd.jupyter.widget-view+json": {
              "version_major": 2,
              "version_minor": 0,
              "model_id": "997c0a8ae8f64f4e8ee9d280e148f89a"
            }
          },
          "metadata": {}
        },
        {
          "output_type": "display_data",
          "data": {
            "text/plain": [
              "Loading checkpoint shards:   0%|          | 0/2 [00:00<?, ?it/s]"
            ],
            "application/vnd.jupyter.widget-view+json": {
              "version_major": 2,
              "version_minor": 0,
              "model_id": "f59d7f1c3a1e47cda59ce082781f3e46"
            }
          },
          "metadata": {}
        },
        {
          "output_type": "display_data",
          "data": {
            "text/plain": [
              "generation_config.json:   0%|          | 0.00/185 [00:00<?, ?B/s]"
            ],
            "application/vnd.jupyter.widget-view+json": {
              "version_major": 2,
              "version_minor": 0,
              "model_id": "0eabb9c9e6a047d1ab823d5ffc7f5b87"
            }
          },
          "metadata": {}
        },
        {
          "output_type": "display_data",
          "data": {
            "text/plain": [
              "tokenizer_config.json:   0%|          | 0.00/48.0 [00:00<?, ?B/s]"
            ],
            "application/vnd.jupyter.widget-view+json": {
              "version_major": 2,
              "version_minor": 0,
              "model_id": "92b734da0fa646ceac6ebc645ae6a6de"
            }
          },
          "metadata": {}
        },
        {
          "output_type": "display_data",
          "data": {
            "text/plain": [
              "vocab.txt:   0%|          | 0.00/232k [00:00<?, ?B/s]"
            ],
            "application/vnd.jupyter.widget-view+json": {
              "version_major": 2,
              "version_minor": 0,
              "model_id": "3ebbbc5bff5b40a28c6e15fb3c3c771a"
            }
          },
          "metadata": {}
        },
        {
          "output_type": "display_data",
          "data": {
            "text/plain": [
              "tokenizer.json:   0%|          | 0.00/466k [00:00<?, ?B/s]"
            ],
            "application/vnd.jupyter.widget-view+json": {
              "version_major": 2,
              "version_minor": 0,
              "model_id": "a63e7028502e44508acd1fc58f689c2c"
            }
          },
          "metadata": {}
        },
        {
          "output_type": "display_data",
          "data": {
            "text/plain": [
              "config.json:   0%|          | 0.00/571 [00:00<?, ?B/s]"
            ],
            "application/vnd.jupyter.widget-view+json": {
              "version_major": 2,
              "version_minor": 0,
              "model_id": "a7162067191f4998af4493b0a2535ca1"
            }
          },
          "metadata": {}
        },
        {
          "output_type": "display_data",
          "data": {
            "text/plain": [
              "model.safetensors:   0%|          | 0.00/1.34G [00:00<?, ?B/s]"
            ],
            "application/vnd.jupyter.widget-view+json": {
              "version_major": 2,
              "version_minor": 0,
              "model_id": "3643f3fd0eec48ff9755c56a03510b07"
            }
          },
          "metadata": {}
        },
        {
          "output_type": "display_data",
          "data": {
            "text/plain": [
              "tokenizer_config.json:   0%|          | 0.00/25.0 [00:00<?, ?B/s]"
            ],
            "application/vnd.jupyter.widget-view+json": {
              "version_major": 2,
              "version_minor": 0,
              "model_id": "1073fe5ecc14455e89721f4cbbe8f68e"
            }
          },
          "metadata": {}
        },
        {
          "output_type": "display_data",
          "data": {
            "text/plain": [
              "vocab.json:   0%|          | 0.00/899k [00:00<?, ?B/s]"
            ],
            "application/vnd.jupyter.widget-view+json": {
              "version_major": 2,
              "version_minor": 0,
              "model_id": "87e20e80b4fb4359a3f141128e676f16"
            }
          },
          "metadata": {}
        },
        {
          "output_type": "display_data",
          "data": {
            "text/plain": [
              "merges.txt:   0%|          | 0.00/456k [00:00<?, ?B/s]"
            ],
            "application/vnd.jupyter.widget-view+json": {
              "version_major": 2,
              "version_minor": 0,
              "model_id": "59ae2972214e481f91a0243597f1ca67"
            }
          },
          "metadata": {}
        },
        {
          "output_type": "display_data",
          "data": {
            "text/plain": [
              "tokenizer.json:   0%|          | 0.00/1.36M [00:00<?, ?B/s]"
            ],
            "application/vnd.jupyter.widget-view+json": {
              "version_major": 2,
              "version_minor": 0,
              "model_id": "a33eabdb723540fdb07d4024e487c1e2"
            }
          },
          "metadata": {}
        },
        {
          "output_type": "display_data",
          "data": {
            "text/plain": [
              "config.json:   0%|          | 0.00/482 [00:00<?, ?B/s]"
            ],
            "application/vnd.jupyter.widget-view+json": {
              "version_major": 2,
              "version_minor": 0,
              "model_id": "cf153e27c9124e848c522156f2757165"
            }
          },
          "metadata": {}
        },
        {
          "output_type": "display_data",
          "data": {
            "text/plain": [
              "model.safetensors:   0%|          | 0.00/1.42G [00:00<?, ?B/s]"
            ],
            "application/vnd.jupyter.widget-view+json": {
              "version_major": 2,
              "version_minor": 0,
              "model_id": "5fda87112a954976a632b0e8e9dde607"
            }
          },
          "metadata": {}
        },
        {
          "output_type": "stream",
          "name": "stderr",
          "text": [
            "Some weights of RobertaModel were not initialized from the model checkpoint at roberta-large and are newly initialized: ['roberta.pooler.dense.bias', 'roberta.pooler.dense.weight']\n",
            "You should probably TRAIN this model on a down-stream task to be able to use it for predictions and inference.\n",
            "<ipython-input-17-d9b95250128d>:27: FutureWarning: You are using `torch.load` with `weights_only=False` (the current default value), which uses the default pickle module implicitly. It is possible to construct malicious pickle data which will execute arbitrary code during unpickling (See https://github.com/pytorch/pytorch/blob/main/SECURITY.md#untrusted-models for more details). In a future release, the default value for `weights_only` will be flipped to `True`. This limits the functions that could be executed during unpickling. Arbitrary objects will no longer be allowed to be loaded via this mode unless they are explicitly allowlisted by the user via `torch.serialization.add_safe_globals`. We recommend you start setting `weights_only=True` for any use case where you don't have full control of the loaded file. Please open an issue on GitHub for any issues related to this experimental feature.\n",
            "  downstream_model.load_state_dict(torch.load(model_load_path, map_location=device))\n"
          ]
        }
      ]
    },
    {
      "cell_type": "code",
      "source": [
        "from google.colab import drive\n",
        "drive.mount('/content/drive')"
      ],
      "metadata": {
        "id": "YpsCB-yCmnAN"
      },
      "execution_count": null,
      "outputs": []
    },
    {
      "cell_type": "code",
      "source": [
        "\n",
        "# 예측된 클래스를 레이블로 맵핑하여 출력하는 함수\n",
        "def print_predicted_labels(predicted_classes, labels):\n",
        "    # 예측된 클래스 중 1인 레이블만 선택\n",
        "    predicted_labels = [labels[i] for i, pred in enumerate(predicted_classes) if pred == 1]\n",
        "\n",
        "    # 선택된 레이블 출력\n",
        "    print(\"Predicted labels:\", predicted_labels)\n",
        "\n",
        "\n",
        "# 레이블 목록\n",
        "labels = ['Algorithms', 'Backend', 'Data Science', 'Databases', 'Dev Tools', 'Frontend', 'Mobile', 'Systems', 'iOS/macOS']\n",
        "\n",
        "# 주어진 텍스트를 토대로 예측을 5번 실행\n",
        "texts = [\n",
        "    \"working of compareTo() method of Comparable interface            I have one Employee class and the requirement is to sort the objects using comparable interface. The output with this code is :The difference of this id and other id is..** 6  other id**1The difference of this id and other id is..** 3  other id**6The difference of this id and other id is..** 3  other id**6The difference of this id and other id is..** 3  other id**1The difference of this id and other id is..** 11  other id**3The difference of this id and other id is..** 11  other id**6\",\n",
        "]\n",
        "\n",
        "# 각 텍스트에 대해 예측 실행 및 레이블 출력\n",
        "for i, text in enumerate(texts):\n",
        "    prediction = infer(text, downstream_model, device)\n",
        "\n",
        "    # 예측 결과를 CPU로 이동\n",
        "    prediction = prediction.cpu()\n",
        "    predicted_classes = (prediction > 0.5).int().numpy()\n",
        "\n",
        "    # 예측 결과 출력\n",
        "    print(\"Predicted probabilities:\", prediction.numpy())\n",
        "    print(\"Predicted classes:\", predicted_classes)\n",
        "\n",
        "\n",
        "    print_predicted_labels(predicted_classes[0], labels)"
      ],
      "metadata": {
        "id": "RLUFhO90KkRk",
        "colab": {
          "base_uri": "https://localhost:8080/"
        },
        "outputId": "e8620bbd-0e65-4278-8fc5-047125e3c111"
      },
      "execution_count": 18,
      "outputs": [
        {
          "output_type": "stream",
          "name": "stdout",
          "text": [
            "Predicted probabilities: [[1.0000000e+00 1.2594886e-14 5.3181827e-01 9.0126347e-15 1.3499197e-11\n",
            "  5.2472944e-12 4.6629893e-13 6.4584224e-06 2.4949493e-15]]\n",
            "Predicted classes: [[1 0 1 0 0 0 0 0 0]]\n",
            "Predicted labels: ['Algorithms', 'Data Science']\n"
          ]
        }
      ]
    }
  ],
  "metadata": {
    "colab": {
      "provenance": [],
      "machine_shape": "hm",
      "gpuType": "A100",
      "include_colab_link": true
    },
    "kernelspec": {
      "display_name": "Python 3",
      "name": "python3"
    },
    "language_info": {
      "name": "python"
    },
    "widgets": {
      "application/vnd.jupyter.widget-state+json": {
        "31a1000b04ef45b1b929be1172d061a7": {
          "model_module": "@jupyter-widgets/controls",
          "model_name": "HBoxModel",
          "model_module_version": "1.5.0",
          "state": {
            "_dom_classes": [],
            "_model_module": "@jupyter-widgets/controls",
            "_model_module_version": "1.5.0",
            "_model_name": "HBoxModel",
            "_view_count": null,
            "_view_module": "@jupyter-widgets/controls",
            "_view_module_version": "1.5.0",
            "_view_name": "HBoxView",
            "box_style": "",
            "children": [
              "IPY_MODEL_c0f93908645840688f25a1890b52ba90",
              "IPY_MODEL_bd70df0f344e47dc89116f88dae8a38f",
              "IPY_MODEL_6fa7b954a579430f9819d06b1f06a492"
            ],
            "layout": "IPY_MODEL_d8061743430442f5b329f5782ab6b665"
          }
        },
        "c0f93908645840688f25a1890b52ba90": {
          "model_module": "@jupyter-widgets/controls",
          "model_name": "HTMLModel",
          "model_module_version": "1.5.0",
          "state": {
            "_dom_classes": [],
            "_model_module": "@jupyter-widgets/controls",
            "_model_module_version": "1.5.0",
            "_model_name": "HTMLModel",
            "_view_count": null,
            "_view_module": "@jupyter-widgets/controls",
            "_view_module_version": "1.5.0",
            "_view_name": "HTMLView",
            "description": "",
            "description_tooltip": null,
            "layout": "IPY_MODEL_f6ecca993aaf456a95464157c85dd418",
            "placeholder": "​",
            "style": "IPY_MODEL_725ed39306d94a408028530aa573be5c",
            "value": "tokenizer_config.json: 100%"
          }
        },
        "bd70df0f344e47dc89116f88dae8a38f": {
          "model_module": "@jupyter-widgets/controls",
          "model_name": "FloatProgressModel",
          "model_module_version": "1.5.0",
          "state": {
            "_dom_classes": [],
            "_model_module": "@jupyter-widgets/controls",
            "_model_module_version": "1.5.0",
            "_model_name": "FloatProgressModel",
            "_view_count": null,
            "_view_module": "@jupyter-widgets/controls",
            "_view_module_version": "1.5.0",
            "_view_name": "ProgressView",
            "bar_style": "success",
            "description": "",
            "description_tooltip": null,
            "layout": "IPY_MODEL_ddeb261aa57c4dabb197310d51f5f6b3",
            "max": 50500,
            "min": 0,
            "orientation": "horizontal",
            "style": "IPY_MODEL_5eedc5de4a5446b6b2c4abcce73a9e48",
            "value": 50500
          }
        },
        "6fa7b954a579430f9819d06b1f06a492": {
          "model_module": "@jupyter-widgets/controls",
          "model_name": "HTMLModel",
          "model_module_version": "1.5.0",
          "state": {
            "_dom_classes": [],
            "_model_module": "@jupyter-widgets/controls",
            "_model_module_version": "1.5.0",
            "_model_name": "HTMLModel",
            "_view_count": null,
            "_view_module": "@jupyter-widgets/controls",
            "_view_module_version": "1.5.0",
            "_view_name": "HTMLView",
            "description": "",
            "description_tooltip": null,
            "layout": "IPY_MODEL_c289d487b3f94c539da8d1d0b79c0876",
            "placeholder": "​",
            "style": "IPY_MODEL_b88e484b4cf04d05b8d2d0da89ce95f9",
            "value": " 50.5k/50.5k [00:00&lt;00:00, 3.74MB/s]"
          }
        },
        "d8061743430442f5b329f5782ab6b665": {
          "model_module": "@jupyter-widgets/base",
          "model_name": "LayoutModel",
          "model_module_version": "1.2.0",
          "state": {
            "_model_module": "@jupyter-widgets/base",
            "_model_module_version": "1.2.0",
            "_model_name": "LayoutModel",
            "_view_count": null,
            "_view_module": "@jupyter-widgets/base",
            "_view_module_version": "1.2.0",
            "_view_name": "LayoutView",
            "align_content": null,
            "align_items": null,
            "align_self": null,
            "border": null,
            "bottom": null,
            "display": null,
            "flex": null,
            "flex_flow": null,
            "grid_area": null,
            "grid_auto_columns": null,
            "grid_auto_flow": null,
            "grid_auto_rows": null,
            "grid_column": null,
            "grid_gap": null,
            "grid_row": null,
            "grid_template_areas": null,
            "grid_template_columns": null,
            "grid_template_rows": null,
            "height": null,
            "justify_content": null,
            "justify_items": null,
            "left": null,
            "margin": null,
            "max_height": null,
            "max_width": null,
            "min_height": null,
            "min_width": null,
            "object_fit": null,
            "object_position": null,
            "order": null,
            "overflow": null,
            "overflow_x": null,
            "overflow_y": null,
            "padding": null,
            "right": null,
            "top": null,
            "visibility": null,
            "width": null
          }
        },
        "f6ecca993aaf456a95464157c85dd418": {
          "model_module": "@jupyter-widgets/base",
          "model_name": "LayoutModel",
          "model_module_version": "1.2.0",
          "state": {
            "_model_module": "@jupyter-widgets/base",
            "_model_module_version": "1.2.0",
            "_model_name": "LayoutModel",
            "_view_count": null,
            "_view_module": "@jupyter-widgets/base",
            "_view_module_version": "1.2.0",
            "_view_name": "LayoutView",
            "align_content": null,
            "align_items": null,
            "align_self": null,
            "border": null,
            "bottom": null,
            "display": null,
            "flex": null,
            "flex_flow": null,
            "grid_area": null,
            "grid_auto_columns": null,
            "grid_auto_flow": null,
            "grid_auto_rows": null,
            "grid_column": null,
            "grid_gap": null,
            "grid_row": null,
            "grid_template_areas": null,
            "grid_template_columns": null,
            "grid_template_rows": null,
            "height": null,
            "justify_content": null,
            "justify_items": null,
            "left": null,
            "margin": null,
            "max_height": null,
            "max_width": null,
            "min_height": null,
            "min_width": null,
            "object_fit": null,
            "object_position": null,
            "order": null,
            "overflow": null,
            "overflow_x": null,
            "overflow_y": null,
            "padding": null,
            "right": null,
            "top": null,
            "visibility": null,
            "width": null
          }
        },
        "725ed39306d94a408028530aa573be5c": {
          "model_module": "@jupyter-widgets/controls",
          "model_name": "DescriptionStyleModel",
          "model_module_version": "1.5.0",
          "state": {
            "_model_module": "@jupyter-widgets/controls",
            "_model_module_version": "1.5.0",
            "_model_name": "DescriptionStyleModel",
            "_view_count": null,
            "_view_module": "@jupyter-widgets/base",
            "_view_module_version": "1.2.0",
            "_view_name": "StyleView",
            "description_width": ""
          }
        },
        "ddeb261aa57c4dabb197310d51f5f6b3": {
          "model_module": "@jupyter-widgets/base",
          "model_name": "LayoutModel",
          "model_module_version": "1.2.0",
          "state": {
            "_model_module": "@jupyter-widgets/base",
            "_model_module_version": "1.2.0",
            "_model_name": "LayoutModel",
            "_view_count": null,
            "_view_module": "@jupyter-widgets/base",
            "_view_module_version": "1.2.0",
            "_view_name": "LayoutView",
            "align_content": null,
            "align_items": null,
            "align_self": null,
            "border": null,
            "bottom": null,
            "display": null,
            "flex": null,
            "flex_flow": null,
            "grid_area": null,
            "grid_auto_columns": null,
            "grid_auto_flow": null,
            "grid_auto_rows": null,
            "grid_column": null,
            "grid_gap": null,
            "grid_row": null,
            "grid_template_areas": null,
            "grid_template_columns": null,
            "grid_template_rows": null,
            "height": null,
            "justify_content": null,
            "justify_items": null,
            "left": null,
            "margin": null,
            "max_height": null,
            "max_width": null,
            "min_height": null,
            "min_width": null,
            "object_fit": null,
            "object_position": null,
            "order": null,
            "overflow": null,
            "overflow_x": null,
            "overflow_y": null,
            "padding": null,
            "right": null,
            "top": null,
            "visibility": null,
            "width": null
          }
        },
        "5eedc5de4a5446b6b2c4abcce73a9e48": {
          "model_module": "@jupyter-widgets/controls",
          "model_name": "ProgressStyleModel",
          "model_module_version": "1.5.0",
          "state": {
            "_model_module": "@jupyter-widgets/controls",
            "_model_module_version": "1.5.0",
            "_model_name": "ProgressStyleModel",
            "_view_count": null,
            "_view_module": "@jupyter-widgets/base",
            "_view_module_version": "1.2.0",
            "_view_name": "StyleView",
            "bar_color": null,
            "description_width": ""
          }
        },
        "c289d487b3f94c539da8d1d0b79c0876": {
          "model_module": "@jupyter-widgets/base",
          "model_name": "LayoutModel",
          "model_module_version": "1.2.0",
          "state": {
            "_model_module": "@jupyter-widgets/base",
            "_model_module_version": "1.2.0",
            "_model_name": "LayoutModel",
            "_view_count": null,
            "_view_module": "@jupyter-widgets/base",
            "_view_module_version": "1.2.0",
            "_view_name": "LayoutView",
            "align_content": null,
            "align_items": null,
            "align_self": null,
            "border": null,
            "bottom": null,
            "display": null,
            "flex": null,
            "flex_flow": null,
            "grid_area": null,
            "grid_auto_columns": null,
            "grid_auto_flow": null,
            "grid_auto_rows": null,
            "grid_column": null,
            "grid_gap": null,
            "grid_row": null,
            "grid_template_areas": null,
            "grid_template_columns": null,
            "grid_template_rows": null,
            "height": null,
            "justify_content": null,
            "justify_items": null,
            "left": null,
            "margin": null,
            "max_height": null,
            "max_width": null,
            "min_height": null,
            "min_width": null,
            "object_fit": null,
            "object_position": null,
            "order": null,
            "overflow": null,
            "overflow_x": null,
            "overflow_y": null,
            "padding": null,
            "right": null,
            "top": null,
            "visibility": null,
            "width": null
          }
        },
        "b88e484b4cf04d05b8d2d0da89ce95f9": {
          "model_module": "@jupyter-widgets/controls",
          "model_name": "DescriptionStyleModel",
          "model_module_version": "1.5.0",
          "state": {
            "_model_module": "@jupyter-widgets/controls",
            "_model_module_version": "1.5.0",
            "_model_name": "DescriptionStyleModel",
            "_view_count": null,
            "_view_module": "@jupyter-widgets/base",
            "_view_module_version": "1.2.0",
            "_view_name": "StyleView",
            "description_width": ""
          }
        },
        "773b9bc09886435fb45b75f216e37763": {
          "model_module": "@jupyter-widgets/controls",
          "model_name": "HBoxModel",
          "model_module_version": "1.5.0",
          "state": {
            "_dom_classes": [],
            "_model_module": "@jupyter-widgets/controls",
            "_model_module_version": "1.5.0",
            "_model_name": "HBoxModel",
            "_view_count": null,
            "_view_module": "@jupyter-widgets/controls",
            "_view_module_version": "1.5.0",
            "_view_name": "HBoxView",
            "box_style": "",
            "children": [
              "IPY_MODEL_eb4b63871c8240c68a0e872067c8a971",
              "IPY_MODEL_884bfc0806eb414d8b8f60519d2eceb0",
              "IPY_MODEL_bcc4f95b7e874e878f61aea212ddbba0"
            ],
            "layout": "IPY_MODEL_6d0625ce28904627a2534baf8c640363"
          }
        },
        "eb4b63871c8240c68a0e872067c8a971": {
          "model_module": "@jupyter-widgets/controls",
          "model_name": "HTMLModel",
          "model_module_version": "1.5.0",
          "state": {
            "_dom_classes": [],
            "_model_module": "@jupyter-widgets/controls",
            "_model_module_version": "1.5.0",
            "_model_name": "HTMLModel",
            "_view_count": null,
            "_view_module": "@jupyter-widgets/controls",
            "_view_module_version": "1.5.0",
            "_view_name": "HTMLView",
            "description": "",
            "description_tooltip": null,
            "layout": "IPY_MODEL_667016aeea6a40f1a29bf0dadb6539c0",
            "placeholder": "​",
            "style": "IPY_MODEL_349509c3693a4e8a99b26242e581b999",
            "value": "tokenizer.json: 100%"
          }
        },
        "884bfc0806eb414d8b8f60519d2eceb0": {
          "model_module": "@jupyter-widgets/controls",
          "model_name": "FloatProgressModel",
          "model_module_version": "1.5.0",
          "state": {
            "_dom_classes": [],
            "_model_module": "@jupyter-widgets/controls",
            "_model_module_version": "1.5.0",
            "_model_name": "FloatProgressModel",
            "_view_count": null,
            "_view_module": "@jupyter-widgets/controls",
            "_view_module_version": "1.5.0",
            "_view_name": "ProgressView",
            "bar_style": "success",
            "description": "",
            "description_tooltip": null,
            "layout": "IPY_MODEL_fa37ff53ab0348cbb922bc1b66349777",
            "max": 9085657,
            "min": 0,
            "orientation": "horizontal",
            "style": "IPY_MODEL_d62a6f2c58d54e76906eb87dbf00f813",
            "value": 9085657
          }
        },
        "bcc4f95b7e874e878f61aea212ddbba0": {
          "model_module": "@jupyter-widgets/controls",
          "model_name": "HTMLModel",
          "model_module_version": "1.5.0",
          "state": {
            "_dom_classes": [],
            "_model_module": "@jupyter-widgets/controls",
            "_model_module_version": "1.5.0",
            "_model_name": "HTMLModel",
            "_view_count": null,
            "_view_module": "@jupyter-widgets/controls",
            "_view_module_version": "1.5.0",
            "_view_name": "HTMLView",
            "description": "",
            "description_tooltip": null,
            "layout": "IPY_MODEL_95a6d5b2f4fa4867b7d31e7771459543",
            "placeholder": "​",
            "style": "IPY_MODEL_0e4a039d2e0e4cc29fa7e30703350eb3",
            "value": " 9.09M/9.09M [00:00&lt;00:00, 41.8MB/s]"
          }
        },
        "6d0625ce28904627a2534baf8c640363": {
          "model_module": "@jupyter-widgets/base",
          "model_name": "LayoutModel",
          "model_module_version": "1.2.0",
          "state": {
            "_model_module": "@jupyter-widgets/base",
            "_model_module_version": "1.2.0",
            "_model_name": "LayoutModel",
            "_view_count": null,
            "_view_module": "@jupyter-widgets/base",
            "_view_module_version": "1.2.0",
            "_view_name": "LayoutView",
            "align_content": null,
            "align_items": null,
            "align_self": null,
            "border": null,
            "bottom": null,
            "display": null,
            "flex": null,
            "flex_flow": null,
            "grid_area": null,
            "grid_auto_columns": null,
            "grid_auto_flow": null,
            "grid_auto_rows": null,
            "grid_column": null,
            "grid_gap": null,
            "grid_row": null,
            "grid_template_areas": null,
            "grid_template_columns": null,
            "grid_template_rows": null,
            "height": null,
            "justify_content": null,
            "justify_items": null,
            "left": null,
            "margin": null,
            "max_height": null,
            "max_width": null,
            "min_height": null,
            "min_width": null,
            "object_fit": null,
            "object_position": null,
            "order": null,
            "overflow": null,
            "overflow_x": null,
            "overflow_y": null,
            "padding": null,
            "right": null,
            "top": null,
            "visibility": null,
            "width": null
          }
        },
        "667016aeea6a40f1a29bf0dadb6539c0": {
          "model_module": "@jupyter-widgets/base",
          "model_name": "LayoutModel",
          "model_module_version": "1.2.0",
          "state": {
            "_model_module": "@jupyter-widgets/base",
            "_model_module_version": "1.2.0",
            "_model_name": "LayoutModel",
            "_view_count": null,
            "_view_module": "@jupyter-widgets/base",
            "_view_module_version": "1.2.0",
            "_view_name": "LayoutView",
            "align_content": null,
            "align_items": null,
            "align_self": null,
            "border": null,
            "bottom": null,
            "display": null,
            "flex": null,
            "flex_flow": null,
            "grid_area": null,
            "grid_auto_columns": null,
            "grid_auto_flow": null,
            "grid_auto_rows": null,
            "grid_column": null,
            "grid_gap": null,
            "grid_row": null,
            "grid_template_areas": null,
            "grid_template_columns": null,
            "grid_template_rows": null,
            "height": null,
            "justify_content": null,
            "justify_items": null,
            "left": null,
            "margin": null,
            "max_height": null,
            "max_width": null,
            "min_height": null,
            "min_width": null,
            "object_fit": null,
            "object_position": null,
            "order": null,
            "overflow": null,
            "overflow_x": null,
            "overflow_y": null,
            "padding": null,
            "right": null,
            "top": null,
            "visibility": null,
            "width": null
          }
        },
        "349509c3693a4e8a99b26242e581b999": {
          "model_module": "@jupyter-widgets/controls",
          "model_name": "DescriptionStyleModel",
          "model_module_version": "1.5.0",
          "state": {
            "_model_module": "@jupyter-widgets/controls",
            "_model_module_version": "1.5.0",
            "_model_name": "DescriptionStyleModel",
            "_view_count": null,
            "_view_module": "@jupyter-widgets/base",
            "_view_module_version": "1.2.0",
            "_view_name": "StyleView",
            "description_width": ""
          }
        },
        "fa37ff53ab0348cbb922bc1b66349777": {
          "model_module": "@jupyter-widgets/base",
          "model_name": "LayoutModel",
          "model_module_version": "1.2.0",
          "state": {
            "_model_module": "@jupyter-widgets/base",
            "_model_module_version": "1.2.0",
            "_model_name": "LayoutModel",
            "_view_count": null,
            "_view_module": "@jupyter-widgets/base",
            "_view_module_version": "1.2.0",
            "_view_name": "LayoutView",
            "align_content": null,
            "align_items": null,
            "align_self": null,
            "border": null,
            "bottom": null,
            "display": null,
            "flex": null,
            "flex_flow": null,
            "grid_area": null,
            "grid_auto_columns": null,
            "grid_auto_flow": null,
            "grid_auto_rows": null,
            "grid_column": null,
            "grid_gap": null,
            "grid_row": null,
            "grid_template_areas": null,
            "grid_template_columns": null,
            "grid_template_rows": null,
            "height": null,
            "justify_content": null,
            "justify_items": null,
            "left": null,
            "margin": null,
            "max_height": null,
            "max_width": null,
            "min_height": null,
            "min_width": null,
            "object_fit": null,
            "object_position": null,
            "order": null,
            "overflow": null,
            "overflow_x": null,
            "overflow_y": null,
            "padding": null,
            "right": null,
            "top": null,
            "visibility": null,
            "width": null
          }
        },
        "d62a6f2c58d54e76906eb87dbf00f813": {
          "model_module": "@jupyter-widgets/controls",
          "model_name": "ProgressStyleModel",
          "model_module_version": "1.5.0",
          "state": {
            "_model_module": "@jupyter-widgets/controls",
            "_model_module_version": "1.5.0",
            "_model_name": "ProgressStyleModel",
            "_view_count": null,
            "_view_module": "@jupyter-widgets/base",
            "_view_module_version": "1.2.0",
            "_view_name": "StyleView",
            "bar_color": null,
            "description_width": ""
          }
        },
        "95a6d5b2f4fa4867b7d31e7771459543": {
          "model_module": "@jupyter-widgets/base",
          "model_name": "LayoutModel",
          "model_module_version": "1.2.0",
          "state": {
            "_model_module": "@jupyter-widgets/base",
            "_model_module_version": "1.2.0",
            "_model_name": "LayoutModel",
            "_view_count": null,
            "_view_module": "@jupyter-widgets/base",
            "_view_module_version": "1.2.0",
            "_view_name": "LayoutView",
            "align_content": null,
            "align_items": null,
            "align_self": null,
            "border": null,
            "bottom": null,
            "display": null,
            "flex": null,
            "flex_flow": null,
            "grid_area": null,
            "grid_auto_columns": null,
            "grid_auto_flow": null,
            "grid_auto_rows": null,
            "grid_column": null,
            "grid_gap": null,
            "grid_row": null,
            "grid_template_areas": null,
            "grid_template_columns": null,
            "grid_template_rows": null,
            "height": null,
            "justify_content": null,
            "justify_items": null,
            "left": null,
            "margin": null,
            "max_height": null,
            "max_width": null,
            "min_height": null,
            "min_width": null,
            "object_fit": null,
            "object_position": null,
            "order": null,
            "overflow": null,
            "overflow_x": null,
            "overflow_y": null,
            "padding": null,
            "right": null,
            "top": null,
            "visibility": null,
            "width": null
          }
        },
        "0e4a039d2e0e4cc29fa7e30703350eb3": {
          "model_module": "@jupyter-widgets/controls",
          "model_name": "DescriptionStyleModel",
          "model_module_version": "1.5.0",
          "state": {
            "_model_module": "@jupyter-widgets/controls",
            "_model_module_version": "1.5.0",
            "_model_name": "DescriptionStyleModel",
            "_view_count": null,
            "_view_module": "@jupyter-widgets/base",
            "_view_module_version": "1.2.0",
            "_view_name": "StyleView",
            "description_width": ""
          }
        },
        "a3716a5997634646ac27c6c6f861cdc6": {
          "model_module": "@jupyter-widgets/controls",
          "model_name": "HBoxModel",
          "model_module_version": "1.5.0",
          "state": {
            "_dom_classes": [],
            "_model_module": "@jupyter-widgets/controls",
            "_model_module_version": "1.5.0",
            "_model_name": "HBoxModel",
            "_view_count": null,
            "_view_module": "@jupyter-widgets/controls",
            "_view_module_version": "1.5.0",
            "_view_name": "HBoxView",
            "box_style": "",
            "children": [
              "IPY_MODEL_994b22befcff4fb1aad5293218d037ae",
              "IPY_MODEL_86144ae513a048ee9b68e3f8f35b2440",
              "IPY_MODEL_c0ea0819bffd48089cce1991e73a7663"
            ],
            "layout": "IPY_MODEL_a0dd8ecc876c47d8b8738b1c1ca9f617"
          }
        },
        "994b22befcff4fb1aad5293218d037ae": {
          "model_module": "@jupyter-widgets/controls",
          "model_name": "HTMLModel",
          "model_module_version": "1.5.0",
          "state": {
            "_dom_classes": [],
            "_model_module": "@jupyter-widgets/controls",
            "_model_module_version": "1.5.0",
            "_model_name": "HTMLModel",
            "_view_count": null,
            "_view_module": "@jupyter-widgets/controls",
            "_view_module_version": "1.5.0",
            "_view_name": "HTMLView",
            "description": "",
            "description_tooltip": null,
            "layout": "IPY_MODEL_b6ca0fc777984361b2f8e422d436a487",
            "placeholder": "​",
            "style": "IPY_MODEL_f59b25570f3144b0a58ce1a9b81d0d64",
            "value": "special_tokens_map.json: 100%"
          }
        },
        "86144ae513a048ee9b68e3f8f35b2440": {
          "model_module": "@jupyter-widgets/controls",
          "model_name": "FloatProgressModel",
          "model_module_version": "1.5.0",
          "state": {
            "_dom_classes": [],
            "_model_module": "@jupyter-widgets/controls",
            "_model_module_version": "1.5.0",
            "_model_name": "FloatProgressModel",
            "_view_count": null,
            "_view_module": "@jupyter-widgets/controls",
            "_view_module_version": "1.5.0",
            "_view_name": "ProgressView",
            "bar_style": "success",
            "description": "",
            "description_tooltip": null,
            "layout": "IPY_MODEL_85d2d53fa73445928a1b1074ff898f55",
            "max": 301,
            "min": 0,
            "orientation": "horizontal",
            "style": "IPY_MODEL_7e3a4a94ce2d459ca83732cc01212468",
            "value": 301
          }
        },
        "c0ea0819bffd48089cce1991e73a7663": {
          "model_module": "@jupyter-widgets/controls",
          "model_name": "HTMLModel",
          "model_module_version": "1.5.0",
          "state": {
            "_dom_classes": [],
            "_model_module": "@jupyter-widgets/controls",
            "_model_module_version": "1.5.0",
            "_model_name": "HTMLModel",
            "_view_count": null,
            "_view_module": "@jupyter-widgets/controls",
            "_view_module_version": "1.5.0",
            "_view_name": "HTMLView",
            "description": "",
            "description_tooltip": null,
            "layout": "IPY_MODEL_426c3d287be64916962e90b673ecf020",
            "placeholder": "​",
            "style": "IPY_MODEL_d7599bce231946b38c645ea118eade53",
            "value": " 301/301 [00:00&lt;00:00, 25.3kB/s]"
          }
        },
        "a0dd8ecc876c47d8b8738b1c1ca9f617": {
          "model_module": "@jupyter-widgets/base",
          "model_name": "LayoutModel",
          "model_module_version": "1.2.0",
          "state": {
            "_model_module": "@jupyter-widgets/base",
            "_model_module_version": "1.2.0",
            "_model_name": "LayoutModel",
            "_view_count": null,
            "_view_module": "@jupyter-widgets/base",
            "_view_module_version": "1.2.0",
            "_view_name": "LayoutView",
            "align_content": null,
            "align_items": null,
            "align_self": null,
            "border": null,
            "bottom": null,
            "display": null,
            "flex": null,
            "flex_flow": null,
            "grid_area": null,
            "grid_auto_columns": null,
            "grid_auto_flow": null,
            "grid_auto_rows": null,
            "grid_column": null,
            "grid_gap": null,
            "grid_row": null,
            "grid_template_areas": null,
            "grid_template_columns": null,
            "grid_template_rows": null,
            "height": null,
            "justify_content": null,
            "justify_items": null,
            "left": null,
            "margin": null,
            "max_height": null,
            "max_width": null,
            "min_height": null,
            "min_width": null,
            "object_fit": null,
            "object_position": null,
            "order": null,
            "overflow": null,
            "overflow_x": null,
            "overflow_y": null,
            "padding": null,
            "right": null,
            "top": null,
            "visibility": null,
            "width": null
          }
        },
        "b6ca0fc777984361b2f8e422d436a487": {
          "model_module": "@jupyter-widgets/base",
          "model_name": "LayoutModel",
          "model_module_version": "1.2.0",
          "state": {
            "_model_module": "@jupyter-widgets/base",
            "_model_module_version": "1.2.0",
            "_model_name": "LayoutModel",
            "_view_count": null,
            "_view_module": "@jupyter-widgets/base",
            "_view_module_version": "1.2.0",
            "_view_name": "LayoutView",
            "align_content": null,
            "align_items": null,
            "align_self": null,
            "border": null,
            "bottom": null,
            "display": null,
            "flex": null,
            "flex_flow": null,
            "grid_area": null,
            "grid_auto_columns": null,
            "grid_auto_flow": null,
            "grid_auto_rows": null,
            "grid_column": null,
            "grid_gap": null,
            "grid_row": null,
            "grid_template_areas": null,
            "grid_template_columns": null,
            "grid_template_rows": null,
            "height": null,
            "justify_content": null,
            "justify_items": null,
            "left": null,
            "margin": null,
            "max_height": null,
            "max_width": null,
            "min_height": null,
            "min_width": null,
            "object_fit": null,
            "object_position": null,
            "order": null,
            "overflow": null,
            "overflow_x": null,
            "overflow_y": null,
            "padding": null,
            "right": null,
            "top": null,
            "visibility": null,
            "width": null
          }
        },
        "f59b25570f3144b0a58ce1a9b81d0d64": {
          "model_module": "@jupyter-widgets/controls",
          "model_name": "DescriptionStyleModel",
          "model_module_version": "1.5.0",
          "state": {
            "_model_module": "@jupyter-widgets/controls",
            "_model_module_version": "1.5.0",
            "_model_name": "DescriptionStyleModel",
            "_view_count": null,
            "_view_module": "@jupyter-widgets/base",
            "_view_module_version": "1.2.0",
            "_view_name": "StyleView",
            "description_width": ""
          }
        },
        "85d2d53fa73445928a1b1074ff898f55": {
          "model_module": "@jupyter-widgets/base",
          "model_name": "LayoutModel",
          "model_module_version": "1.2.0",
          "state": {
            "_model_module": "@jupyter-widgets/base",
            "_model_module_version": "1.2.0",
            "_model_name": "LayoutModel",
            "_view_count": null,
            "_view_module": "@jupyter-widgets/base",
            "_view_module_version": "1.2.0",
            "_view_name": "LayoutView",
            "align_content": null,
            "align_items": null,
            "align_self": null,
            "border": null,
            "bottom": null,
            "display": null,
            "flex": null,
            "flex_flow": null,
            "grid_area": null,
            "grid_auto_columns": null,
            "grid_auto_flow": null,
            "grid_auto_rows": null,
            "grid_column": null,
            "grid_gap": null,
            "grid_row": null,
            "grid_template_areas": null,
            "grid_template_columns": null,
            "grid_template_rows": null,
            "height": null,
            "justify_content": null,
            "justify_items": null,
            "left": null,
            "margin": null,
            "max_height": null,
            "max_width": null,
            "min_height": null,
            "min_width": null,
            "object_fit": null,
            "object_position": null,
            "order": null,
            "overflow": null,
            "overflow_x": null,
            "overflow_y": null,
            "padding": null,
            "right": null,
            "top": null,
            "visibility": null,
            "width": null
          }
        },
        "7e3a4a94ce2d459ca83732cc01212468": {
          "model_module": "@jupyter-widgets/controls",
          "model_name": "ProgressStyleModel",
          "model_module_version": "1.5.0",
          "state": {
            "_model_module": "@jupyter-widgets/controls",
            "_model_module_version": "1.5.0",
            "_model_name": "ProgressStyleModel",
            "_view_count": null,
            "_view_module": "@jupyter-widgets/base",
            "_view_module_version": "1.2.0",
            "_view_name": "StyleView",
            "bar_color": null,
            "description_width": ""
          }
        },
        "426c3d287be64916962e90b673ecf020": {
          "model_module": "@jupyter-widgets/base",
          "model_name": "LayoutModel",
          "model_module_version": "1.2.0",
          "state": {
            "_model_module": "@jupyter-widgets/base",
            "_model_module_version": "1.2.0",
            "_model_name": "LayoutModel",
            "_view_count": null,
            "_view_module": "@jupyter-widgets/base",
            "_view_module_version": "1.2.0",
            "_view_name": "LayoutView",
            "align_content": null,
            "align_items": null,
            "align_self": null,
            "border": null,
            "bottom": null,
            "display": null,
            "flex": null,
            "flex_flow": null,
            "grid_area": null,
            "grid_auto_columns": null,
            "grid_auto_flow": null,
            "grid_auto_rows": null,
            "grid_column": null,
            "grid_gap": null,
            "grid_row": null,
            "grid_template_areas": null,
            "grid_template_columns": null,
            "grid_template_rows": null,
            "height": null,
            "justify_content": null,
            "justify_items": null,
            "left": null,
            "margin": null,
            "max_height": null,
            "max_width": null,
            "min_height": null,
            "min_width": null,
            "object_fit": null,
            "object_position": null,
            "order": null,
            "overflow": null,
            "overflow_x": null,
            "overflow_y": null,
            "padding": null,
            "right": null,
            "top": null,
            "visibility": null,
            "width": null
          }
        },
        "d7599bce231946b38c645ea118eade53": {
          "model_module": "@jupyter-widgets/controls",
          "model_name": "DescriptionStyleModel",
          "model_module_version": "1.5.0",
          "state": {
            "_model_module": "@jupyter-widgets/controls",
            "_model_module_version": "1.5.0",
            "_model_name": "DescriptionStyleModel",
            "_view_count": null,
            "_view_module": "@jupyter-widgets/base",
            "_view_module_version": "1.2.0",
            "_view_name": "StyleView",
            "description_width": ""
          }
        },
        "37ef9617efab40b0985b59a4f1d6f94e": {
          "model_module": "@jupyter-widgets/controls",
          "model_name": "HBoxModel",
          "model_module_version": "1.5.0",
          "state": {
            "_dom_classes": [],
            "_model_module": "@jupyter-widgets/controls",
            "_model_module_version": "1.5.0",
            "_model_name": "HBoxModel",
            "_view_count": null,
            "_view_module": "@jupyter-widgets/controls",
            "_view_module_version": "1.5.0",
            "_view_name": "HBoxView",
            "box_style": "",
            "children": [
              "IPY_MODEL_6502e062bb904d4fa5f4a264ce65dce5",
              "IPY_MODEL_6358f9dffbbc4a3986adc08d426d372a",
              "IPY_MODEL_d7032818821447059945fbf8a5f9e4a8"
            ],
            "layout": "IPY_MODEL_78c47a50c9984381854bd37f5475dc01"
          }
        },
        "6502e062bb904d4fa5f4a264ce65dce5": {
          "model_module": "@jupyter-widgets/controls",
          "model_name": "HTMLModel",
          "model_module_version": "1.5.0",
          "state": {
            "_dom_classes": [],
            "_model_module": "@jupyter-widgets/controls",
            "_model_module_version": "1.5.0",
            "_model_name": "HTMLModel",
            "_view_count": null,
            "_view_module": "@jupyter-widgets/controls",
            "_view_module_version": "1.5.0",
            "_view_name": "HTMLView",
            "description": "",
            "description_tooltip": null,
            "layout": "IPY_MODEL_3273fba4edba4282ab470c9e87802971",
            "placeholder": "​",
            "style": "IPY_MODEL_80b934dba7554e34b2ec1e819187fdb5",
            "value": "config.json: 100%"
          }
        },
        "6358f9dffbbc4a3986adc08d426d372a": {
          "model_module": "@jupyter-widgets/controls",
          "model_name": "FloatProgressModel",
          "model_module_version": "1.5.0",
          "state": {
            "_dom_classes": [],
            "_model_module": "@jupyter-widgets/controls",
            "_model_module_version": "1.5.0",
            "_model_name": "FloatProgressModel",
            "_view_count": null,
            "_view_module": "@jupyter-widgets/controls",
            "_view_module_version": "1.5.0",
            "_view_name": "ProgressView",
            "bar_style": "success",
            "description": "",
            "description_tooltip": null,
            "layout": "IPY_MODEL_6e34d8b7f93b4f3fbf81197d6291ab5a",
            "max": 844,
            "min": 0,
            "orientation": "horizontal",
            "style": "IPY_MODEL_09d7b08bbd504788abdff3dc75d82b80",
            "value": 844
          }
        },
        "d7032818821447059945fbf8a5f9e4a8": {
          "model_module": "@jupyter-widgets/controls",
          "model_name": "HTMLModel",
          "model_module_version": "1.5.0",
          "state": {
            "_dom_classes": [],
            "_model_module": "@jupyter-widgets/controls",
            "_model_module_version": "1.5.0",
            "_model_name": "HTMLModel",
            "_view_count": null,
            "_view_module": "@jupyter-widgets/controls",
            "_view_module_version": "1.5.0",
            "_view_name": "HTMLView",
            "description": "",
            "description_tooltip": null,
            "layout": "IPY_MODEL_6e21f53e093a47f691090a037b465017",
            "placeholder": "​",
            "style": "IPY_MODEL_1b11fd11e0334e6e994e8ee6e6d7a5f2",
            "value": " 844/844 [00:00&lt;00:00, 75.4kB/s]"
          }
        },
        "78c47a50c9984381854bd37f5475dc01": {
          "model_module": "@jupyter-widgets/base",
          "model_name": "LayoutModel",
          "model_module_version": "1.2.0",
          "state": {
            "_model_module": "@jupyter-widgets/base",
            "_model_module_version": "1.2.0",
            "_model_name": "LayoutModel",
            "_view_count": null,
            "_view_module": "@jupyter-widgets/base",
            "_view_module_version": "1.2.0",
            "_view_name": "LayoutView",
            "align_content": null,
            "align_items": null,
            "align_self": null,
            "border": null,
            "bottom": null,
            "display": null,
            "flex": null,
            "flex_flow": null,
            "grid_area": null,
            "grid_auto_columns": null,
            "grid_auto_flow": null,
            "grid_auto_rows": null,
            "grid_column": null,
            "grid_gap": null,
            "grid_row": null,
            "grid_template_areas": null,
            "grid_template_columns": null,
            "grid_template_rows": null,
            "height": null,
            "justify_content": null,
            "justify_items": null,
            "left": null,
            "margin": null,
            "max_height": null,
            "max_width": null,
            "min_height": null,
            "min_width": null,
            "object_fit": null,
            "object_position": null,
            "order": null,
            "overflow": null,
            "overflow_x": null,
            "overflow_y": null,
            "padding": null,
            "right": null,
            "top": null,
            "visibility": null,
            "width": null
          }
        },
        "3273fba4edba4282ab470c9e87802971": {
          "model_module": "@jupyter-widgets/base",
          "model_name": "LayoutModel",
          "model_module_version": "1.2.0",
          "state": {
            "_model_module": "@jupyter-widgets/base",
            "_model_module_version": "1.2.0",
            "_model_name": "LayoutModel",
            "_view_count": null,
            "_view_module": "@jupyter-widgets/base",
            "_view_module_version": "1.2.0",
            "_view_name": "LayoutView",
            "align_content": null,
            "align_items": null,
            "align_self": null,
            "border": null,
            "bottom": null,
            "display": null,
            "flex": null,
            "flex_flow": null,
            "grid_area": null,
            "grid_auto_columns": null,
            "grid_auto_flow": null,
            "grid_auto_rows": null,
            "grid_column": null,
            "grid_gap": null,
            "grid_row": null,
            "grid_template_areas": null,
            "grid_template_columns": null,
            "grid_template_rows": null,
            "height": null,
            "justify_content": null,
            "justify_items": null,
            "left": null,
            "margin": null,
            "max_height": null,
            "max_width": null,
            "min_height": null,
            "min_width": null,
            "object_fit": null,
            "object_position": null,
            "order": null,
            "overflow": null,
            "overflow_x": null,
            "overflow_y": null,
            "padding": null,
            "right": null,
            "top": null,
            "visibility": null,
            "width": null
          }
        },
        "80b934dba7554e34b2ec1e819187fdb5": {
          "model_module": "@jupyter-widgets/controls",
          "model_name": "DescriptionStyleModel",
          "model_module_version": "1.5.0",
          "state": {
            "_model_module": "@jupyter-widgets/controls",
            "_model_module_version": "1.5.0",
            "_model_name": "DescriptionStyleModel",
            "_view_count": null,
            "_view_module": "@jupyter-widgets/base",
            "_view_module_version": "1.2.0",
            "_view_name": "StyleView",
            "description_width": ""
          }
        },
        "6e34d8b7f93b4f3fbf81197d6291ab5a": {
          "model_module": "@jupyter-widgets/base",
          "model_name": "LayoutModel",
          "model_module_version": "1.2.0",
          "state": {
            "_model_module": "@jupyter-widgets/base",
            "_model_module_version": "1.2.0",
            "_model_name": "LayoutModel",
            "_view_count": null,
            "_view_module": "@jupyter-widgets/base",
            "_view_module_version": "1.2.0",
            "_view_name": "LayoutView",
            "align_content": null,
            "align_items": null,
            "align_self": null,
            "border": null,
            "bottom": null,
            "display": null,
            "flex": null,
            "flex_flow": null,
            "grid_area": null,
            "grid_auto_columns": null,
            "grid_auto_flow": null,
            "grid_auto_rows": null,
            "grid_column": null,
            "grid_gap": null,
            "grid_row": null,
            "grid_template_areas": null,
            "grid_template_columns": null,
            "grid_template_rows": null,
            "height": null,
            "justify_content": null,
            "justify_items": null,
            "left": null,
            "margin": null,
            "max_height": null,
            "max_width": null,
            "min_height": null,
            "min_width": null,
            "object_fit": null,
            "object_position": null,
            "order": null,
            "overflow": null,
            "overflow_x": null,
            "overflow_y": null,
            "padding": null,
            "right": null,
            "top": null,
            "visibility": null,
            "width": null
          }
        },
        "09d7b08bbd504788abdff3dc75d82b80": {
          "model_module": "@jupyter-widgets/controls",
          "model_name": "ProgressStyleModel",
          "model_module_version": "1.5.0",
          "state": {
            "_model_module": "@jupyter-widgets/controls",
            "_model_module_version": "1.5.0",
            "_model_name": "ProgressStyleModel",
            "_view_count": null,
            "_view_module": "@jupyter-widgets/base",
            "_view_module_version": "1.2.0",
            "_view_name": "StyleView",
            "bar_color": null,
            "description_width": ""
          }
        },
        "6e21f53e093a47f691090a037b465017": {
          "model_module": "@jupyter-widgets/base",
          "model_name": "LayoutModel",
          "model_module_version": "1.2.0",
          "state": {
            "_model_module": "@jupyter-widgets/base",
            "_model_module_version": "1.2.0",
            "_model_name": "LayoutModel",
            "_view_count": null,
            "_view_module": "@jupyter-widgets/base",
            "_view_module_version": "1.2.0",
            "_view_name": "LayoutView",
            "align_content": null,
            "align_items": null,
            "align_self": null,
            "border": null,
            "bottom": null,
            "display": null,
            "flex": null,
            "flex_flow": null,
            "grid_area": null,
            "grid_auto_columns": null,
            "grid_auto_flow": null,
            "grid_auto_rows": null,
            "grid_column": null,
            "grid_gap": null,
            "grid_row": null,
            "grid_template_areas": null,
            "grid_template_columns": null,
            "grid_template_rows": null,
            "height": null,
            "justify_content": null,
            "justify_items": null,
            "left": null,
            "margin": null,
            "max_height": null,
            "max_width": null,
            "min_height": null,
            "min_width": null,
            "object_fit": null,
            "object_position": null,
            "order": null,
            "overflow": null,
            "overflow_x": null,
            "overflow_y": null,
            "padding": null,
            "right": null,
            "top": null,
            "visibility": null,
            "width": null
          }
        },
        "1b11fd11e0334e6e994e8ee6e6d7a5f2": {
          "model_module": "@jupyter-widgets/controls",
          "model_name": "DescriptionStyleModel",
          "model_module_version": "1.5.0",
          "state": {
            "_model_module": "@jupyter-widgets/controls",
            "_model_module_version": "1.5.0",
            "_model_name": "DescriptionStyleModel",
            "_view_count": null,
            "_view_module": "@jupyter-widgets/base",
            "_view_module_version": "1.2.0",
            "_view_name": "StyleView",
            "description_width": ""
          }
        },
        "32d9374690174d06a51744349c3a224d": {
          "model_module": "@jupyter-widgets/controls",
          "model_name": "HBoxModel",
          "model_module_version": "1.5.0",
          "state": {
            "_dom_classes": [],
            "_model_module": "@jupyter-widgets/controls",
            "_model_module_version": "1.5.0",
            "_model_name": "HBoxModel",
            "_view_count": null,
            "_view_module": "@jupyter-widgets/controls",
            "_view_module_version": "1.5.0",
            "_view_name": "HBoxView",
            "box_style": "",
            "children": [
              "IPY_MODEL_5aed936f700041d99ae9db0fbe6c21d1",
              "IPY_MODEL_2143d48c904c4698bcac7c92ba24e5b8",
              "IPY_MODEL_b96a9a9c7fac42a7aa86e2c91db308fd"
            ],
            "layout": "IPY_MODEL_ad06b6a64a4946938f6367704122d6c3"
          }
        },
        "5aed936f700041d99ae9db0fbe6c21d1": {
          "model_module": "@jupyter-widgets/controls",
          "model_name": "HTMLModel",
          "model_module_version": "1.5.0",
          "state": {
            "_dom_classes": [],
            "_model_module": "@jupyter-widgets/controls",
            "_model_module_version": "1.5.0",
            "_model_name": "HTMLModel",
            "_view_count": null,
            "_view_module": "@jupyter-widgets/controls",
            "_view_module_version": "1.5.0",
            "_view_name": "HTMLView",
            "description": "",
            "description_tooltip": null,
            "layout": "IPY_MODEL_5bb644f817ec408da0fa3748966b099f",
            "placeholder": "​",
            "style": "IPY_MODEL_c43e7627ef844a16a0928481bb602c76",
            "value": "model.safetensors.index.json: 100%"
          }
        },
        "2143d48c904c4698bcac7c92ba24e5b8": {
          "model_module": "@jupyter-widgets/controls",
          "model_name": "FloatProgressModel",
          "model_module_version": "1.5.0",
          "state": {
            "_dom_classes": [],
            "_model_module": "@jupyter-widgets/controls",
            "_model_module_version": "1.5.0",
            "_model_name": "FloatProgressModel",
            "_view_count": null,
            "_view_module": "@jupyter-widgets/controls",
            "_view_module_version": "1.5.0",
            "_view_name": "ProgressView",
            "bar_style": "success",
            "description": "",
            "description_tooltip": null,
            "layout": "IPY_MODEL_5b3477f7d3d749f7843095d98f83276d",
            "max": 20919,
            "min": 0,
            "orientation": "horizontal",
            "style": "IPY_MODEL_9e96d756647f4705b8084ea0ece26f12",
            "value": 20919
          }
        },
        "b96a9a9c7fac42a7aa86e2c91db308fd": {
          "model_module": "@jupyter-widgets/controls",
          "model_name": "HTMLModel",
          "model_module_version": "1.5.0",
          "state": {
            "_dom_classes": [],
            "_model_module": "@jupyter-widgets/controls",
            "_model_module_version": "1.5.0",
            "_model_name": "HTMLModel",
            "_view_count": null,
            "_view_module": "@jupyter-widgets/controls",
            "_view_module_version": "1.5.0",
            "_view_name": "HTMLView",
            "description": "",
            "description_tooltip": null,
            "layout": "IPY_MODEL_608e5ea687704ef9aa68c67da1a9ffbf",
            "placeholder": "​",
            "style": "IPY_MODEL_34b0e5e94ab34322a0d60c7d2bea880b",
            "value": " 20.9k/20.9k [00:00&lt;00:00, 1.76MB/s]"
          }
        },
        "ad06b6a64a4946938f6367704122d6c3": {
          "model_module": "@jupyter-widgets/base",
          "model_name": "LayoutModel",
          "model_module_version": "1.2.0",
          "state": {
            "_model_module": "@jupyter-widgets/base",
            "_model_module_version": "1.2.0",
            "_model_name": "LayoutModel",
            "_view_count": null,
            "_view_module": "@jupyter-widgets/base",
            "_view_module_version": "1.2.0",
            "_view_name": "LayoutView",
            "align_content": null,
            "align_items": null,
            "align_self": null,
            "border": null,
            "bottom": null,
            "display": null,
            "flex": null,
            "flex_flow": null,
            "grid_area": null,
            "grid_auto_columns": null,
            "grid_auto_flow": null,
            "grid_auto_rows": null,
            "grid_column": null,
            "grid_gap": null,
            "grid_row": null,
            "grid_template_areas": null,
            "grid_template_columns": null,
            "grid_template_rows": null,
            "height": null,
            "justify_content": null,
            "justify_items": null,
            "left": null,
            "margin": null,
            "max_height": null,
            "max_width": null,
            "min_height": null,
            "min_width": null,
            "object_fit": null,
            "object_position": null,
            "order": null,
            "overflow": null,
            "overflow_x": null,
            "overflow_y": null,
            "padding": null,
            "right": null,
            "top": null,
            "visibility": null,
            "width": null
          }
        },
        "5bb644f817ec408da0fa3748966b099f": {
          "model_module": "@jupyter-widgets/base",
          "model_name": "LayoutModel",
          "model_module_version": "1.2.0",
          "state": {
            "_model_module": "@jupyter-widgets/base",
            "_model_module_version": "1.2.0",
            "_model_name": "LayoutModel",
            "_view_count": null,
            "_view_module": "@jupyter-widgets/base",
            "_view_module_version": "1.2.0",
            "_view_name": "LayoutView",
            "align_content": null,
            "align_items": null,
            "align_self": null,
            "border": null,
            "bottom": null,
            "display": null,
            "flex": null,
            "flex_flow": null,
            "grid_area": null,
            "grid_auto_columns": null,
            "grid_auto_flow": null,
            "grid_auto_rows": null,
            "grid_column": null,
            "grid_gap": null,
            "grid_row": null,
            "grid_template_areas": null,
            "grid_template_columns": null,
            "grid_template_rows": null,
            "height": null,
            "justify_content": null,
            "justify_items": null,
            "left": null,
            "margin": null,
            "max_height": null,
            "max_width": null,
            "min_height": null,
            "min_width": null,
            "object_fit": null,
            "object_position": null,
            "order": null,
            "overflow": null,
            "overflow_x": null,
            "overflow_y": null,
            "padding": null,
            "right": null,
            "top": null,
            "visibility": null,
            "width": null
          }
        },
        "c43e7627ef844a16a0928481bb602c76": {
          "model_module": "@jupyter-widgets/controls",
          "model_name": "DescriptionStyleModel",
          "model_module_version": "1.5.0",
          "state": {
            "_model_module": "@jupyter-widgets/controls",
            "_model_module_version": "1.5.0",
            "_model_name": "DescriptionStyleModel",
            "_view_count": null,
            "_view_module": "@jupyter-widgets/base",
            "_view_module_version": "1.2.0",
            "_view_name": "StyleView",
            "description_width": ""
          }
        },
        "5b3477f7d3d749f7843095d98f83276d": {
          "model_module": "@jupyter-widgets/base",
          "model_name": "LayoutModel",
          "model_module_version": "1.2.0",
          "state": {
            "_model_module": "@jupyter-widgets/base",
            "_model_module_version": "1.2.0",
            "_model_name": "LayoutModel",
            "_view_count": null,
            "_view_module": "@jupyter-widgets/base",
            "_view_module_version": "1.2.0",
            "_view_name": "LayoutView",
            "align_content": null,
            "align_items": null,
            "align_self": null,
            "border": null,
            "bottom": null,
            "display": null,
            "flex": null,
            "flex_flow": null,
            "grid_area": null,
            "grid_auto_columns": null,
            "grid_auto_flow": null,
            "grid_auto_rows": null,
            "grid_column": null,
            "grid_gap": null,
            "grid_row": null,
            "grid_template_areas": null,
            "grid_template_columns": null,
            "grid_template_rows": null,
            "height": null,
            "justify_content": null,
            "justify_items": null,
            "left": null,
            "margin": null,
            "max_height": null,
            "max_width": null,
            "min_height": null,
            "min_width": null,
            "object_fit": null,
            "object_position": null,
            "order": null,
            "overflow": null,
            "overflow_x": null,
            "overflow_y": null,
            "padding": null,
            "right": null,
            "top": null,
            "visibility": null,
            "width": null
          }
        },
        "9e96d756647f4705b8084ea0ece26f12": {
          "model_module": "@jupyter-widgets/controls",
          "model_name": "ProgressStyleModel",
          "model_module_version": "1.5.0",
          "state": {
            "_model_module": "@jupyter-widgets/controls",
            "_model_module_version": "1.5.0",
            "_model_name": "ProgressStyleModel",
            "_view_count": null,
            "_view_module": "@jupyter-widgets/base",
            "_view_module_version": "1.2.0",
            "_view_name": "StyleView",
            "bar_color": null,
            "description_width": ""
          }
        },
        "608e5ea687704ef9aa68c67da1a9ffbf": {
          "model_module": "@jupyter-widgets/base",
          "model_name": "LayoutModel",
          "model_module_version": "1.2.0",
          "state": {
            "_model_module": "@jupyter-widgets/base",
            "_model_module_version": "1.2.0",
            "_model_name": "LayoutModel",
            "_view_count": null,
            "_view_module": "@jupyter-widgets/base",
            "_view_module_version": "1.2.0",
            "_view_name": "LayoutView",
            "align_content": null,
            "align_items": null,
            "align_self": null,
            "border": null,
            "bottom": null,
            "display": null,
            "flex": null,
            "flex_flow": null,
            "grid_area": null,
            "grid_auto_columns": null,
            "grid_auto_flow": null,
            "grid_auto_rows": null,
            "grid_column": null,
            "grid_gap": null,
            "grid_row": null,
            "grid_template_areas": null,
            "grid_template_columns": null,
            "grid_template_rows": null,
            "height": null,
            "justify_content": null,
            "justify_items": null,
            "left": null,
            "margin": null,
            "max_height": null,
            "max_width": null,
            "min_height": null,
            "min_width": null,
            "object_fit": null,
            "object_position": null,
            "order": null,
            "overflow": null,
            "overflow_x": null,
            "overflow_y": null,
            "padding": null,
            "right": null,
            "top": null,
            "visibility": null,
            "width": null
          }
        },
        "34b0e5e94ab34322a0d60c7d2bea880b": {
          "model_module": "@jupyter-widgets/controls",
          "model_name": "DescriptionStyleModel",
          "model_module_version": "1.5.0",
          "state": {
            "_model_module": "@jupyter-widgets/controls",
            "_model_module_version": "1.5.0",
            "_model_name": "DescriptionStyleModel",
            "_view_count": null,
            "_view_module": "@jupyter-widgets/base",
            "_view_module_version": "1.2.0",
            "_view_name": "StyleView",
            "description_width": ""
          }
        },
        "deeb1880d56a40e5956de6de475bacdd": {
          "model_module": "@jupyter-widgets/controls",
          "model_name": "HBoxModel",
          "model_module_version": "1.5.0",
          "state": {
            "_dom_classes": [],
            "_model_module": "@jupyter-widgets/controls",
            "_model_module_version": "1.5.0",
            "_model_name": "HBoxModel",
            "_view_count": null,
            "_view_module": "@jupyter-widgets/controls",
            "_view_module_version": "1.5.0",
            "_view_name": "HBoxView",
            "box_style": "",
            "children": [
              "IPY_MODEL_798724599ddd4e22afd18c8b1da375b5",
              "IPY_MODEL_965d376c072c439589a783b4d429cca4",
              "IPY_MODEL_6c19273e24264447b78bf274cd3e9127"
            ],
            "layout": "IPY_MODEL_a72fb0b04e624c69af989cafe17450d6"
          }
        },
        "798724599ddd4e22afd18c8b1da375b5": {
          "model_module": "@jupyter-widgets/controls",
          "model_name": "HTMLModel",
          "model_module_version": "1.5.0",
          "state": {
            "_dom_classes": [],
            "_model_module": "@jupyter-widgets/controls",
            "_model_module_version": "1.5.0",
            "_model_name": "HTMLModel",
            "_view_count": null,
            "_view_module": "@jupyter-widgets/controls",
            "_view_module_version": "1.5.0",
            "_view_name": "HTMLView",
            "description": "",
            "description_tooltip": null,
            "layout": "IPY_MODEL_2ec76af0c48544a1bdc79f74d8d4d7ec",
            "placeholder": "​",
            "style": "IPY_MODEL_32c18f0168804c5caf4d7ace8f010229",
            "value": "Downloading shards: 100%"
          }
        },
        "965d376c072c439589a783b4d429cca4": {
          "model_module": "@jupyter-widgets/controls",
          "model_name": "FloatProgressModel",
          "model_module_version": "1.5.0",
          "state": {
            "_dom_classes": [],
            "_model_module": "@jupyter-widgets/controls",
            "_model_module_version": "1.5.0",
            "_model_name": "FloatProgressModel",
            "_view_count": null,
            "_view_module": "@jupyter-widgets/controls",
            "_view_module_version": "1.5.0",
            "_view_name": "ProgressView",
            "bar_style": "success",
            "description": "",
            "description_tooltip": null,
            "layout": "IPY_MODEL_477c4304e9684fd68841592f6f28487b",
            "max": 2,
            "min": 0,
            "orientation": "horizontal",
            "style": "IPY_MODEL_e3c3bf29dbba47e1ad316f46c2203585",
            "value": 2
          }
        },
        "6c19273e24264447b78bf274cd3e9127": {
          "model_module": "@jupyter-widgets/controls",
          "model_name": "HTMLModel",
          "model_module_version": "1.5.0",
          "state": {
            "_dom_classes": [],
            "_model_module": "@jupyter-widgets/controls",
            "_model_module_version": "1.5.0",
            "_model_name": "HTMLModel",
            "_view_count": null,
            "_view_module": "@jupyter-widgets/controls",
            "_view_module_version": "1.5.0",
            "_view_name": "HTMLView",
            "description": "",
            "description_tooltip": null,
            "layout": "IPY_MODEL_0a572dac23f843709afefd480c0779be",
            "placeholder": "​",
            "style": "IPY_MODEL_76d1fa24313142c8812a4b1b6335d384",
            "value": " 2/2 [02:33&lt;00:00, 69.46s/it]"
          }
        },
        "a72fb0b04e624c69af989cafe17450d6": {
          "model_module": "@jupyter-widgets/base",
          "model_name": "LayoutModel",
          "model_module_version": "1.2.0",
          "state": {
            "_model_module": "@jupyter-widgets/base",
            "_model_module_version": "1.2.0",
            "_model_name": "LayoutModel",
            "_view_count": null,
            "_view_module": "@jupyter-widgets/base",
            "_view_module_version": "1.2.0",
            "_view_name": "LayoutView",
            "align_content": null,
            "align_items": null,
            "align_self": null,
            "border": null,
            "bottom": null,
            "display": null,
            "flex": null,
            "flex_flow": null,
            "grid_area": null,
            "grid_auto_columns": null,
            "grid_auto_flow": null,
            "grid_auto_rows": null,
            "grid_column": null,
            "grid_gap": null,
            "grid_row": null,
            "grid_template_areas": null,
            "grid_template_columns": null,
            "grid_template_rows": null,
            "height": null,
            "justify_content": null,
            "justify_items": null,
            "left": null,
            "margin": null,
            "max_height": null,
            "max_width": null,
            "min_height": null,
            "min_width": null,
            "object_fit": null,
            "object_position": null,
            "order": null,
            "overflow": null,
            "overflow_x": null,
            "overflow_y": null,
            "padding": null,
            "right": null,
            "top": null,
            "visibility": null,
            "width": null
          }
        },
        "2ec76af0c48544a1bdc79f74d8d4d7ec": {
          "model_module": "@jupyter-widgets/base",
          "model_name": "LayoutModel",
          "model_module_version": "1.2.0",
          "state": {
            "_model_module": "@jupyter-widgets/base",
            "_model_module_version": "1.2.0",
            "_model_name": "LayoutModel",
            "_view_count": null,
            "_view_module": "@jupyter-widgets/base",
            "_view_module_version": "1.2.0",
            "_view_name": "LayoutView",
            "align_content": null,
            "align_items": null,
            "align_self": null,
            "border": null,
            "bottom": null,
            "display": null,
            "flex": null,
            "flex_flow": null,
            "grid_area": null,
            "grid_auto_columns": null,
            "grid_auto_flow": null,
            "grid_auto_rows": null,
            "grid_column": null,
            "grid_gap": null,
            "grid_row": null,
            "grid_template_areas": null,
            "grid_template_columns": null,
            "grid_template_rows": null,
            "height": null,
            "justify_content": null,
            "justify_items": null,
            "left": null,
            "margin": null,
            "max_height": null,
            "max_width": null,
            "min_height": null,
            "min_width": null,
            "object_fit": null,
            "object_position": null,
            "order": null,
            "overflow": null,
            "overflow_x": null,
            "overflow_y": null,
            "padding": null,
            "right": null,
            "top": null,
            "visibility": null,
            "width": null
          }
        },
        "32c18f0168804c5caf4d7ace8f010229": {
          "model_module": "@jupyter-widgets/controls",
          "model_name": "DescriptionStyleModel",
          "model_module_version": "1.5.0",
          "state": {
            "_model_module": "@jupyter-widgets/controls",
            "_model_module_version": "1.5.0",
            "_model_name": "DescriptionStyleModel",
            "_view_count": null,
            "_view_module": "@jupyter-widgets/base",
            "_view_module_version": "1.2.0",
            "_view_name": "StyleView",
            "description_width": ""
          }
        },
        "477c4304e9684fd68841592f6f28487b": {
          "model_module": "@jupyter-widgets/base",
          "model_name": "LayoutModel",
          "model_module_version": "1.2.0",
          "state": {
            "_model_module": "@jupyter-widgets/base",
            "_model_module_version": "1.2.0",
            "_model_name": "LayoutModel",
            "_view_count": null,
            "_view_module": "@jupyter-widgets/base",
            "_view_module_version": "1.2.0",
            "_view_name": "LayoutView",
            "align_content": null,
            "align_items": null,
            "align_self": null,
            "border": null,
            "bottom": null,
            "display": null,
            "flex": null,
            "flex_flow": null,
            "grid_area": null,
            "grid_auto_columns": null,
            "grid_auto_flow": null,
            "grid_auto_rows": null,
            "grid_column": null,
            "grid_gap": null,
            "grid_row": null,
            "grid_template_areas": null,
            "grid_template_columns": null,
            "grid_template_rows": null,
            "height": null,
            "justify_content": null,
            "justify_items": null,
            "left": null,
            "margin": null,
            "max_height": null,
            "max_width": null,
            "min_height": null,
            "min_width": null,
            "object_fit": null,
            "object_position": null,
            "order": null,
            "overflow": null,
            "overflow_x": null,
            "overflow_y": null,
            "padding": null,
            "right": null,
            "top": null,
            "visibility": null,
            "width": null
          }
        },
        "e3c3bf29dbba47e1ad316f46c2203585": {
          "model_module": "@jupyter-widgets/controls",
          "model_name": "ProgressStyleModel",
          "model_module_version": "1.5.0",
          "state": {
            "_model_module": "@jupyter-widgets/controls",
            "_model_module_version": "1.5.0",
            "_model_name": "ProgressStyleModel",
            "_view_count": null,
            "_view_module": "@jupyter-widgets/base",
            "_view_module_version": "1.2.0",
            "_view_name": "StyleView",
            "bar_color": null,
            "description_width": ""
          }
        },
        "0a572dac23f843709afefd480c0779be": {
          "model_module": "@jupyter-widgets/base",
          "model_name": "LayoutModel",
          "model_module_version": "1.2.0",
          "state": {
            "_model_module": "@jupyter-widgets/base",
            "_model_module_version": "1.2.0",
            "_model_name": "LayoutModel",
            "_view_count": null,
            "_view_module": "@jupyter-widgets/base",
            "_view_module_version": "1.2.0",
            "_view_name": "LayoutView",
            "align_content": null,
            "align_items": null,
            "align_self": null,
            "border": null,
            "bottom": null,
            "display": null,
            "flex": null,
            "flex_flow": null,
            "grid_area": null,
            "grid_auto_columns": null,
            "grid_auto_flow": null,
            "grid_auto_rows": null,
            "grid_column": null,
            "grid_gap": null,
            "grid_row": null,
            "grid_template_areas": null,
            "grid_template_columns": null,
            "grid_template_rows": null,
            "height": null,
            "justify_content": null,
            "justify_items": null,
            "left": null,
            "margin": null,
            "max_height": null,
            "max_width": null,
            "min_height": null,
            "min_width": null,
            "object_fit": null,
            "object_position": null,
            "order": null,
            "overflow": null,
            "overflow_x": null,
            "overflow_y": null,
            "padding": null,
            "right": null,
            "top": null,
            "visibility": null,
            "width": null
          }
        },
        "76d1fa24313142c8812a4b1b6335d384": {
          "model_module": "@jupyter-widgets/controls",
          "model_name": "DescriptionStyleModel",
          "model_module_version": "1.5.0",
          "state": {
            "_model_module": "@jupyter-widgets/controls",
            "_model_module_version": "1.5.0",
            "_model_name": "DescriptionStyleModel",
            "_view_count": null,
            "_view_module": "@jupyter-widgets/base",
            "_view_module_version": "1.2.0",
            "_view_name": "StyleView",
            "description_width": ""
          }
        },
        "6dcc2a56067e4b908c9c2e34eadfd64b": {
          "model_module": "@jupyter-widgets/controls",
          "model_name": "HBoxModel",
          "model_module_version": "1.5.0",
          "state": {
            "_dom_classes": [],
            "_model_module": "@jupyter-widgets/controls",
            "_model_module_version": "1.5.0",
            "_model_name": "HBoxModel",
            "_view_count": null,
            "_view_module": "@jupyter-widgets/controls",
            "_view_module_version": "1.5.0",
            "_view_name": "HBoxView",
            "box_style": "",
            "children": [
              "IPY_MODEL_f6112220a08e45d7881147e89352dbc8",
              "IPY_MODEL_080ed7c88a414b3cbe73afe0f89f33f5",
              "IPY_MODEL_ae7f9d1679c44531b3c667f0c52639c7"
            ],
            "layout": "IPY_MODEL_173b05f2774c4c84b90517156fea2cc7"
          }
        },
        "f6112220a08e45d7881147e89352dbc8": {
          "model_module": "@jupyter-widgets/controls",
          "model_name": "HTMLModel",
          "model_module_version": "1.5.0",
          "state": {
            "_dom_classes": [],
            "_model_module": "@jupyter-widgets/controls",
            "_model_module_version": "1.5.0",
            "_model_name": "HTMLModel",
            "_view_count": null,
            "_view_module": "@jupyter-widgets/controls",
            "_view_module_version": "1.5.0",
            "_view_name": "HTMLView",
            "description": "",
            "description_tooltip": null,
            "layout": "IPY_MODEL_7fa843d0a9c64bfbb6dc552b959e3d24",
            "placeholder": "​",
            "style": "IPY_MODEL_7bf2a659553f44ac852578b1b8a72e5b",
            "value": "model-00001-of-00002.safetensors: 100%"
          }
        },
        "080ed7c88a414b3cbe73afe0f89f33f5": {
          "model_module": "@jupyter-widgets/controls",
          "model_name": "FloatProgressModel",
          "model_module_version": "1.5.0",
          "state": {
            "_dom_classes": [],
            "_model_module": "@jupyter-widgets/controls",
            "_model_module_version": "1.5.0",
            "_model_name": "FloatProgressModel",
            "_view_count": null,
            "_view_module": "@jupyter-widgets/controls",
            "_view_module_version": "1.5.0",
            "_view_name": "ProgressView",
            "bar_style": "success",
            "description": "",
            "description_tooltip": null,
            "layout": "IPY_MODEL_fa77fb98d93245ee93279201dfca8f71",
            "max": 4965799096,
            "min": 0,
            "orientation": "horizontal",
            "style": "IPY_MODEL_c532aa0ebcf449c7bf9949caa6ef4bba",
            "value": 4965799096
          }
        },
        "ae7f9d1679c44531b3c667f0c52639c7": {
          "model_module": "@jupyter-widgets/controls",
          "model_name": "HTMLModel",
          "model_module_version": "1.5.0",
          "state": {
            "_dom_classes": [],
            "_model_module": "@jupyter-widgets/controls",
            "_model_module_version": "1.5.0",
            "_model_name": "HTMLModel",
            "_view_count": null,
            "_view_module": "@jupyter-widgets/controls",
            "_view_module_version": "1.5.0",
            "_view_name": "HTMLView",
            "description": "",
            "description_tooltip": null,
            "layout": "IPY_MODEL_bfc2a6b4ce5240f7aa707823edbf7ea8",
            "placeholder": "​",
            "style": "IPY_MODEL_9764de0d91e64c9ab57ddbd14d4146ab",
            "value": " 4.97G/4.97G [01:58&lt;00:00, 42.7MB/s]"
          }
        },
        "173b05f2774c4c84b90517156fea2cc7": {
          "model_module": "@jupyter-widgets/base",
          "model_name": "LayoutModel",
          "model_module_version": "1.2.0",
          "state": {
            "_model_module": "@jupyter-widgets/base",
            "_model_module_version": "1.2.0",
            "_model_name": "LayoutModel",
            "_view_count": null,
            "_view_module": "@jupyter-widgets/base",
            "_view_module_version": "1.2.0",
            "_view_name": "LayoutView",
            "align_content": null,
            "align_items": null,
            "align_self": null,
            "border": null,
            "bottom": null,
            "display": null,
            "flex": null,
            "flex_flow": null,
            "grid_area": null,
            "grid_auto_columns": null,
            "grid_auto_flow": null,
            "grid_auto_rows": null,
            "grid_column": null,
            "grid_gap": null,
            "grid_row": null,
            "grid_template_areas": null,
            "grid_template_columns": null,
            "grid_template_rows": null,
            "height": null,
            "justify_content": null,
            "justify_items": null,
            "left": null,
            "margin": null,
            "max_height": null,
            "max_width": null,
            "min_height": null,
            "min_width": null,
            "object_fit": null,
            "object_position": null,
            "order": null,
            "overflow": null,
            "overflow_x": null,
            "overflow_y": null,
            "padding": null,
            "right": null,
            "top": null,
            "visibility": null,
            "width": null
          }
        },
        "7fa843d0a9c64bfbb6dc552b959e3d24": {
          "model_module": "@jupyter-widgets/base",
          "model_name": "LayoutModel",
          "model_module_version": "1.2.0",
          "state": {
            "_model_module": "@jupyter-widgets/base",
            "_model_module_version": "1.2.0",
            "_model_name": "LayoutModel",
            "_view_count": null,
            "_view_module": "@jupyter-widgets/base",
            "_view_module_version": "1.2.0",
            "_view_name": "LayoutView",
            "align_content": null,
            "align_items": null,
            "align_self": null,
            "border": null,
            "bottom": null,
            "display": null,
            "flex": null,
            "flex_flow": null,
            "grid_area": null,
            "grid_auto_columns": null,
            "grid_auto_flow": null,
            "grid_auto_rows": null,
            "grid_column": null,
            "grid_gap": null,
            "grid_row": null,
            "grid_template_areas": null,
            "grid_template_columns": null,
            "grid_template_rows": null,
            "height": null,
            "justify_content": null,
            "justify_items": null,
            "left": null,
            "margin": null,
            "max_height": null,
            "max_width": null,
            "min_height": null,
            "min_width": null,
            "object_fit": null,
            "object_position": null,
            "order": null,
            "overflow": null,
            "overflow_x": null,
            "overflow_y": null,
            "padding": null,
            "right": null,
            "top": null,
            "visibility": null,
            "width": null
          }
        },
        "7bf2a659553f44ac852578b1b8a72e5b": {
          "model_module": "@jupyter-widgets/controls",
          "model_name": "DescriptionStyleModel",
          "model_module_version": "1.5.0",
          "state": {
            "_model_module": "@jupyter-widgets/controls",
            "_model_module_version": "1.5.0",
            "_model_name": "DescriptionStyleModel",
            "_view_count": null,
            "_view_module": "@jupyter-widgets/base",
            "_view_module_version": "1.2.0",
            "_view_name": "StyleView",
            "description_width": ""
          }
        },
        "fa77fb98d93245ee93279201dfca8f71": {
          "model_module": "@jupyter-widgets/base",
          "model_name": "LayoutModel",
          "model_module_version": "1.2.0",
          "state": {
            "_model_module": "@jupyter-widgets/base",
            "_model_module_version": "1.2.0",
            "_model_name": "LayoutModel",
            "_view_count": null,
            "_view_module": "@jupyter-widgets/base",
            "_view_module_version": "1.2.0",
            "_view_name": "LayoutView",
            "align_content": null,
            "align_items": null,
            "align_self": null,
            "border": null,
            "bottom": null,
            "display": null,
            "flex": null,
            "flex_flow": null,
            "grid_area": null,
            "grid_auto_columns": null,
            "grid_auto_flow": null,
            "grid_auto_rows": null,
            "grid_column": null,
            "grid_gap": null,
            "grid_row": null,
            "grid_template_areas": null,
            "grid_template_columns": null,
            "grid_template_rows": null,
            "height": null,
            "justify_content": null,
            "justify_items": null,
            "left": null,
            "margin": null,
            "max_height": null,
            "max_width": null,
            "min_height": null,
            "min_width": null,
            "object_fit": null,
            "object_position": null,
            "order": null,
            "overflow": null,
            "overflow_x": null,
            "overflow_y": null,
            "padding": null,
            "right": null,
            "top": null,
            "visibility": null,
            "width": null
          }
        },
        "c532aa0ebcf449c7bf9949caa6ef4bba": {
          "model_module": "@jupyter-widgets/controls",
          "model_name": "ProgressStyleModel",
          "model_module_version": "1.5.0",
          "state": {
            "_model_module": "@jupyter-widgets/controls",
            "_model_module_version": "1.5.0",
            "_model_name": "ProgressStyleModel",
            "_view_count": null,
            "_view_module": "@jupyter-widgets/base",
            "_view_module_version": "1.2.0",
            "_view_name": "StyleView",
            "bar_color": null,
            "description_width": ""
          }
        },
        "bfc2a6b4ce5240f7aa707823edbf7ea8": {
          "model_module": "@jupyter-widgets/base",
          "model_name": "LayoutModel",
          "model_module_version": "1.2.0",
          "state": {
            "_model_module": "@jupyter-widgets/base",
            "_model_module_version": "1.2.0",
            "_model_name": "LayoutModel",
            "_view_count": null,
            "_view_module": "@jupyter-widgets/base",
            "_view_module_version": "1.2.0",
            "_view_name": "LayoutView",
            "align_content": null,
            "align_items": null,
            "align_self": null,
            "border": null,
            "bottom": null,
            "display": null,
            "flex": null,
            "flex_flow": null,
            "grid_area": null,
            "grid_auto_columns": null,
            "grid_auto_flow": null,
            "grid_auto_rows": null,
            "grid_column": null,
            "grid_gap": null,
            "grid_row": null,
            "grid_template_areas": null,
            "grid_template_columns": null,
            "grid_template_rows": null,
            "height": null,
            "justify_content": null,
            "justify_items": null,
            "left": null,
            "margin": null,
            "max_height": null,
            "max_width": null,
            "min_height": null,
            "min_width": null,
            "object_fit": null,
            "object_position": null,
            "order": null,
            "overflow": null,
            "overflow_x": null,
            "overflow_y": null,
            "padding": null,
            "right": null,
            "top": null,
            "visibility": null,
            "width": null
          }
        },
        "9764de0d91e64c9ab57ddbd14d4146ab": {
          "model_module": "@jupyter-widgets/controls",
          "model_name": "DescriptionStyleModel",
          "model_module_version": "1.5.0",
          "state": {
            "_model_module": "@jupyter-widgets/controls",
            "_model_module_version": "1.5.0",
            "_model_name": "DescriptionStyleModel",
            "_view_count": null,
            "_view_module": "@jupyter-widgets/base",
            "_view_module_version": "1.2.0",
            "_view_name": "StyleView",
            "description_width": ""
          }
        },
        "b7883175fed0452b9950e1aff320eafb": {
          "model_module": "@jupyter-widgets/controls",
          "model_name": "HBoxModel",
          "model_module_version": "1.5.0",
          "state": {
            "_dom_classes": [],
            "_model_module": "@jupyter-widgets/controls",
            "_model_module_version": "1.5.0",
            "_model_name": "HBoxModel",
            "_view_count": null,
            "_view_module": "@jupyter-widgets/controls",
            "_view_module_version": "1.5.0",
            "_view_name": "HBoxView",
            "box_style": "",
            "children": [
              "IPY_MODEL_373ad44a4ca94e018922c049dc5425b4",
              "IPY_MODEL_ab2bb02bbe8a49be837887635e1592a4",
              "IPY_MODEL_0bf4c10bcc7049a7906b6e2650e4b9df"
            ],
            "layout": "IPY_MODEL_1b46235e11ae4e1cbb8a7cc8fc89f517"
          }
        },
        "373ad44a4ca94e018922c049dc5425b4": {
          "model_module": "@jupyter-widgets/controls",
          "model_name": "HTMLModel",
          "model_module_version": "1.5.0",
          "state": {
            "_dom_classes": [],
            "_model_module": "@jupyter-widgets/controls",
            "_model_module_version": "1.5.0",
            "_model_name": "HTMLModel",
            "_view_count": null,
            "_view_module": "@jupyter-widgets/controls",
            "_view_module_version": "1.5.0",
            "_view_name": "HTMLView",
            "description": "",
            "description_tooltip": null,
            "layout": "IPY_MODEL_6a8872e017944b619c262a00e3a2862d",
            "placeholder": "​",
            "style": "IPY_MODEL_012fb64c62da43818a9db01b838079e3",
            "value": "model-00002-of-00002.safetensors: 100%"
          }
        },
        "ab2bb02bbe8a49be837887635e1592a4": {
          "model_module": "@jupyter-widgets/controls",
          "model_name": "FloatProgressModel",
          "model_module_version": "1.5.0",
          "state": {
            "_dom_classes": [],
            "_model_module": "@jupyter-widgets/controls",
            "_model_module_version": "1.5.0",
            "_model_name": "FloatProgressModel",
            "_view_count": null,
            "_view_module": "@jupyter-widgets/controls",
            "_view_module_version": "1.5.0",
            "_view_name": "ProgressView",
            "bar_style": "success",
            "description": "",
            "description_tooltip": null,
            "layout": "IPY_MODEL_ac02fac0371644bca850ab28328a2183",
            "max": 1459729952,
            "min": 0,
            "orientation": "horizontal",
            "style": "IPY_MODEL_309cdce7c6db49cd927c030bc66b0f3c",
            "value": 1459729952
          }
        },
        "0bf4c10bcc7049a7906b6e2650e4b9df": {
          "model_module": "@jupyter-widgets/controls",
          "model_name": "HTMLModel",
          "model_module_version": "1.5.0",
          "state": {
            "_dom_classes": [],
            "_model_module": "@jupyter-widgets/controls",
            "_model_module_version": "1.5.0",
            "_model_name": "HTMLModel",
            "_view_count": null,
            "_view_module": "@jupyter-widgets/controls",
            "_view_module_version": "1.5.0",
            "_view_name": "HTMLView",
            "description": "",
            "description_tooltip": null,
            "layout": "IPY_MODEL_01f24812f90b489e9ef3c0f1be594af9",
            "placeholder": "​",
            "style": "IPY_MODEL_0f0d4a0c14af4507973566f284825e94",
            "value": " 1.46G/1.46G [00:34&lt;00:00, 42.6MB/s]"
          }
        },
        "1b46235e11ae4e1cbb8a7cc8fc89f517": {
          "model_module": "@jupyter-widgets/base",
          "model_name": "LayoutModel",
          "model_module_version": "1.2.0",
          "state": {
            "_model_module": "@jupyter-widgets/base",
            "_model_module_version": "1.2.0",
            "_model_name": "LayoutModel",
            "_view_count": null,
            "_view_module": "@jupyter-widgets/base",
            "_view_module_version": "1.2.0",
            "_view_name": "LayoutView",
            "align_content": null,
            "align_items": null,
            "align_self": null,
            "border": null,
            "bottom": null,
            "display": null,
            "flex": null,
            "flex_flow": null,
            "grid_area": null,
            "grid_auto_columns": null,
            "grid_auto_flow": null,
            "grid_auto_rows": null,
            "grid_column": null,
            "grid_gap": null,
            "grid_row": null,
            "grid_template_areas": null,
            "grid_template_columns": null,
            "grid_template_rows": null,
            "height": null,
            "justify_content": null,
            "justify_items": null,
            "left": null,
            "margin": null,
            "max_height": null,
            "max_width": null,
            "min_height": null,
            "min_width": null,
            "object_fit": null,
            "object_position": null,
            "order": null,
            "overflow": null,
            "overflow_x": null,
            "overflow_y": null,
            "padding": null,
            "right": null,
            "top": null,
            "visibility": null,
            "width": null
          }
        },
        "6a8872e017944b619c262a00e3a2862d": {
          "model_module": "@jupyter-widgets/base",
          "model_name": "LayoutModel",
          "model_module_version": "1.2.0",
          "state": {
            "_model_module": "@jupyter-widgets/base",
            "_model_module_version": "1.2.0",
            "_model_name": "LayoutModel",
            "_view_count": null,
            "_view_module": "@jupyter-widgets/base",
            "_view_module_version": "1.2.0",
            "_view_name": "LayoutView",
            "align_content": null,
            "align_items": null,
            "align_self": null,
            "border": null,
            "bottom": null,
            "display": null,
            "flex": null,
            "flex_flow": null,
            "grid_area": null,
            "grid_auto_columns": null,
            "grid_auto_flow": null,
            "grid_auto_rows": null,
            "grid_column": null,
            "grid_gap": null,
            "grid_row": null,
            "grid_template_areas": null,
            "grid_template_columns": null,
            "grid_template_rows": null,
            "height": null,
            "justify_content": null,
            "justify_items": null,
            "left": null,
            "margin": null,
            "max_height": null,
            "max_width": null,
            "min_height": null,
            "min_width": null,
            "object_fit": null,
            "object_position": null,
            "order": null,
            "overflow": null,
            "overflow_x": null,
            "overflow_y": null,
            "padding": null,
            "right": null,
            "top": null,
            "visibility": null,
            "width": null
          }
        },
        "012fb64c62da43818a9db01b838079e3": {
          "model_module": "@jupyter-widgets/controls",
          "model_name": "DescriptionStyleModel",
          "model_module_version": "1.5.0",
          "state": {
            "_model_module": "@jupyter-widgets/controls",
            "_model_module_version": "1.5.0",
            "_model_name": "DescriptionStyleModel",
            "_view_count": null,
            "_view_module": "@jupyter-widgets/base",
            "_view_module_version": "1.2.0",
            "_view_name": "StyleView",
            "description_width": ""
          }
        },
        "ac02fac0371644bca850ab28328a2183": {
          "model_module": "@jupyter-widgets/base",
          "model_name": "LayoutModel",
          "model_module_version": "1.2.0",
          "state": {
            "_model_module": "@jupyter-widgets/base",
            "_model_module_version": "1.2.0",
            "_model_name": "LayoutModel",
            "_view_count": null,
            "_view_module": "@jupyter-widgets/base",
            "_view_module_version": "1.2.0",
            "_view_name": "LayoutView",
            "align_content": null,
            "align_items": null,
            "align_self": null,
            "border": null,
            "bottom": null,
            "display": null,
            "flex": null,
            "flex_flow": null,
            "grid_area": null,
            "grid_auto_columns": null,
            "grid_auto_flow": null,
            "grid_auto_rows": null,
            "grid_column": null,
            "grid_gap": null,
            "grid_row": null,
            "grid_template_areas": null,
            "grid_template_columns": null,
            "grid_template_rows": null,
            "height": null,
            "justify_content": null,
            "justify_items": null,
            "left": null,
            "margin": null,
            "max_height": null,
            "max_width": null,
            "min_height": null,
            "min_width": null,
            "object_fit": null,
            "object_position": null,
            "order": null,
            "overflow": null,
            "overflow_x": null,
            "overflow_y": null,
            "padding": null,
            "right": null,
            "top": null,
            "visibility": null,
            "width": null
          }
        },
        "309cdce7c6db49cd927c030bc66b0f3c": {
          "model_module": "@jupyter-widgets/controls",
          "model_name": "ProgressStyleModel",
          "model_module_version": "1.5.0",
          "state": {
            "_model_module": "@jupyter-widgets/controls",
            "_model_module_version": "1.5.0",
            "_model_name": "ProgressStyleModel",
            "_view_count": null,
            "_view_module": "@jupyter-widgets/base",
            "_view_module_version": "1.2.0",
            "_view_name": "StyleView",
            "bar_color": null,
            "description_width": ""
          }
        },
        "01f24812f90b489e9ef3c0f1be594af9": {
          "model_module": "@jupyter-widgets/base",
          "model_name": "LayoutModel",
          "model_module_version": "1.2.0",
          "state": {
            "_model_module": "@jupyter-widgets/base",
            "_model_module_version": "1.2.0",
            "_model_name": "LayoutModel",
            "_view_count": null,
            "_view_module": "@jupyter-widgets/base",
            "_view_module_version": "1.2.0",
            "_view_name": "LayoutView",
            "align_content": null,
            "align_items": null,
            "align_self": null,
            "border": null,
            "bottom": null,
            "display": null,
            "flex": null,
            "flex_flow": null,
            "grid_area": null,
            "grid_auto_columns": null,
            "grid_auto_flow": null,
            "grid_auto_rows": null,
            "grid_column": null,
            "grid_gap": null,
            "grid_row": null,
            "grid_template_areas": null,
            "grid_template_columns": null,
            "grid_template_rows": null,
            "height": null,
            "justify_content": null,
            "justify_items": null,
            "left": null,
            "margin": null,
            "max_height": null,
            "max_width": null,
            "min_height": null,
            "min_width": null,
            "object_fit": null,
            "object_position": null,
            "order": null,
            "overflow": null,
            "overflow_x": null,
            "overflow_y": null,
            "padding": null,
            "right": null,
            "top": null,
            "visibility": null,
            "width": null
          }
        },
        "0f0d4a0c14af4507973566f284825e94": {
          "model_module": "@jupyter-widgets/controls",
          "model_name": "DescriptionStyleModel",
          "model_module_version": "1.5.0",
          "state": {
            "_model_module": "@jupyter-widgets/controls",
            "_model_module_version": "1.5.0",
            "_model_name": "DescriptionStyleModel",
            "_view_count": null,
            "_view_module": "@jupyter-widgets/base",
            "_view_module_version": "1.2.0",
            "_view_name": "StyleView",
            "description_width": ""
          }
        },
        "cd629cdaeed741bd8b44d35c3fb9e054": {
          "model_module": "@jupyter-widgets/controls",
          "model_name": "HBoxModel",
          "model_module_version": "1.5.0",
          "state": {
            "_dom_classes": [],
            "_model_module": "@jupyter-widgets/controls",
            "_model_module_version": "1.5.0",
            "_model_name": "HBoxModel",
            "_view_count": null,
            "_view_module": "@jupyter-widgets/controls",
            "_view_module_version": "1.5.0",
            "_view_name": "HBoxView",
            "box_style": "",
            "children": [
              "IPY_MODEL_c8b6e426d5d14fff868cb82244739dad",
              "IPY_MODEL_e08fe2964fa44c9b9dedfa2918294fb7",
              "IPY_MODEL_c5778fdcee514c7cb8a053b33068cabc"
            ],
            "layout": "IPY_MODEL_4d0c93b2d4d94fba89ed28121093fb81"
          }
        },
        "c8b6e426d5d14fff868cb82244739dad": {
          "model_module": "@jupyter-widgets/controls",
          "model_name": "HTMLModel",
          "model_module_version": "1.5.0",
          "state": {
            "_dom_classes": [],
            "_model_module": "@jupyter-widgets/controls",
            "_model_module_version": "1.5.0",
            "_model_name": "HTMLModel",
            "_view_count": null,
            "_view_module": "@jupyter-widgets/controls",
            "_view_module_version": "1.5.0",
            "_view_name": "HTMLView",
            "description": "",
            "description_tooltip": null,
            "layout": "IPY_MODEL_1a1fafd8155d4c63afac3585a39b7498",
            "placeholder": "​",
            "style": "IPY_MODEL_0c382ea81e2a46ff97a5f81d4cb5d816",
            "value": "Loading checkpoint shards: 100%"
          }
        },
        "e08fe2964fa44c9b9dedfa2918294fb7": {
          "model_module": "@jupyter-widgets/controls",
          "model_name": "FloatProgressModel",
          "model_module_version": "1.5.0",
          "state": {
            "_dom_classes": [],
            "_model_module": "@jupyter-widgets/controls",
            "_model_module_version": "1.5.0",
            "_model_name": "FloatProgressModel",
            "_view_count": null,
            "_view_module": "@jupyter-widgets/controls",
            "_view_module_version": "1.5.0",
            "_view_name": "ProgressView",
            "bar_style": "success",
            "description": "",
            "description_tooltip": null,
            "layout": "IPY_MODEL_aceba234868944589fed76aa3205048e",
            "max": 2,
            "min": 0,
            "orientation": "horizontal",
            "style": "IPY_MODEL_e149c7d039e34c20b3a9037208997a42",
            "value": 2
          }
        },
        "c5778fdcee514c7cb8a053b33068cabc": {
          "model_module": "@jupyter-widgets/controls",
          "model_name": "HTMLModel",
          "model_module_version": "1.5.0",
          "state": {
            "_dom_classes": [],
            "_model_module": "@jupyter-widgets/controls",
            "_model_module_version": "1.5.0",
            "_model_name": "HTMLModel",
            "_view_count": null,
            "_view_module": "@jupyter-widgets/controls",
            "_view_module_version": "1.5.0",
            "_view_name": "HTMLView",
            "description": "",
            "description_tooltip": null,
            "layout": "IPY_MODEL_cb9148741646488d945dbe57eef09d90",
            "placeholder": "​",
            "style": "IPY_MODEL_d272ff65551843b2aded224cb5fda037",
            "value": " 2/2 [00:03&lt;00:00,  1.81s/it]"
          }
        },
        "4d0c93b2d4d94fba89ed28121093fb81": {
          "model_module": "@jupyter-widgets/base",
          "model_name": "LayoutModel",
          "model_module_version": "1.2.0",
          "state": {
            "_model_module": "@jupyter-widgets/base",
            "_model_module_version": "1.2.0",
            "_model_name": "LayoutModel",
            "_view_count": null,
            "_view_module": "@jupyter-widgets/base",
            "_view_module_version": "1.2.0",
            "_view_name": "LayoutView",
            "align_content": null,
            "align_items": null,
            "align_self": null,
            "border": null,
            "bottom": null,
            "display": null,
            "flex": null,
            "flex_flow": null,
            "grid_area": null,
            "grid_auto_columns": null,
            "grid_auto_flow": null,
            "grid_auto_rows": null,
            "grid_column": null,
            "grid_gap": null,
            "grid_row": null,
            "grid_template_areas": null,
            "grid_template_columns": null,
            "grid_template_rows": null,
            "height": null,
            "justify_content": null,
            "justify_items": null,
            "left": null,
            "margin": null,
            "max_height": null,
            "max_width": null,
            "min_height": null,
            "min_width": null,
            "object_fit": null,
            "object_position": null,
            "order": null,
            "overflow": null,
            "overflow_x": null,
            "overflow_y": null,
            "padding": null,
            "right": null,
            "top": null,
            "visibility": null,
            "width": null
          }
        },
        "1a1fafd8155d4c63afac3585a39b7498": {
          "model_module": "@jupyter-widgets/base",
          "model_name": "LayoutModel",
          "model_module_version": "1.2.0",
          "state": {
            "_model_module": "@jupyter-widgets/base",
            "_model_module_version": "1.2.0",
            "_model_name": "LayoutModel",
            "_view_count": null,
            "_view_module": "@jupyter-widgets/base",
            "_view_module_version": "1.2.0",
            "_view_name": "LayoutView",
            "align_content": null,
            "align_items": null,
            "align_self": null,
            "border": null,
            "bottom": null,
            "display": null,
            "flex": null,
            "flex_flow": null,
            "grid_area": null,
            "grid_auto_columns": null,
            "grid_auto_flow": null,
            "grid_auto_rows": null,
            "grid_column": null,
            "grid_gap": null,
            "grid_row": null,
            "grid_template_areas": null,
            "grid_template_columns": null,
            "grid_template_rows": null,
            "height": null,
            "justify_content": null,
            "justify_items": null,
            "left": null,
            "margin": null,
            "max_height": null,
            "max_width": null,
            "min_height": null,
            "min_width": null,
            "object_fit": null,
            "object_position": null,
            "order": null,
            "overflow": null,
            "overflow_x": null,
            "overflow_y": null,
            "padding": null,
            "right": null,
            "top": null,
            "visibility": null,
            "width": null
          }
        },
        "0c382ea81e2a46ff97a5f81d4cb5d816": {
          "model_module": "@jupyter-widgets/controls",
          "model_name": "DescriptionStyleModel",
          "model_module_version": "1.5.0",
          "state": {
            "_model_module": "@jupyter-widgets/controls",
            "_model_module_version": "1.5.0",
            "_model_name": "DescriptionStyleModel",
            "_view_count": null,
            "_view_module": "@jupyter-widgets/base",
            "_view_module_version": "1.2.0",
            "_view_name": "StyleView",
            "description_width": ""
          }
        },
        "aceba234868944589fed76aa3205048e": {
          "model_module": "@jupyter-widgets/base",
          "model_name": "LayoutModel",
          "model_module_version": "1.2.0",
          "state": {
            "_model_module": "@jupyter-widgets/base",
            "_model_module_version": "1.2.0",
            "_model_name": "LayoutModel",
            "_view_count": null,
            "_view_module": "@jupyter-widgets/base",
            "_view_module_version": "1.2.0",
            "_view_name": "LayoutView",
            "align_content": null,
            "align_items": null,
            "align_self": null,
            "border": null,
            "bottom": null,
            "display": null,
            "flex": null,
            "flex_flow": null,
            "grid_area": null,
            "grid_auto_columns": null,
            "grid_auto_flow": null,
            "grid_auto_rows": null,
            "grid_column": null,
            "grid_gap": null,
            "grid_row": null,
            "grid_template_areas": null,
            "grid_template_columns": null,
            "grid_template_rows": null,
            "height": null,
            "justify_content": null,
            "justify_items": null,
            "left": null,
            "margin": null,
            "max_height": null,
            "max_width": null,
            "min_height": null,
            "min_width": null,
            "object_fit": null,
            "object_position": null,
            "order": null,
            "overflow": null,
            "overflow_x": null,
            "overflow_y": null,
            "padding": null,
            "right": null,
            "top": null,
            "visibility": null,
            "width": null
          }
        },
        "e149c7d039e34c20b3a9037208997a42": {
          "model_module": "@jupyter-widgets/controls",
          "model_name": "ProgressStyleModel",
          "model_module_version": "1.5.0",
          "state": {
            "_model_module": "@jupyter-widgets/controls",
            "_model_module_version": "1.5.0",
            "_model_name": "ProgressStyleModel",
            "_view_count": null,
            "_view_module": "@jupyter-widgets/base",
            "_view_module_version": "1.2.0",
            "_view_name": "StyleView",
            "bar_color": null,
            "description_width": ""
          }
        },
        "cb9148741646488d945dbe57eef09d90": {
          "model_module": "@jupyter-widgets/base",
          "model_name": "LayoutModel",
          "model_module_version": "1.2.0",
          "state": {
            "_model_module": "@jupyter-widgets/base",
            "_model_module_version": "1.2.0",
            "_model_name": "LayoutModel",
            "_view_count": null,
            "_view_module": "@jupyter-widgets/base",
            "_view_module_version": "1.2.0",
            "_view_name": "LayoutView",
            "align_content": null,
            "align_items": null,
            "align_self": null,
            "border": null,
            "bottom": null,
            "display": null,
            "flex": null,
            "flex_flow": null,
            "grid_area": null,
            "grid_auto_columns": null,
            "grid_auto_flow": null,
            "grid_auto_rows": null,
            "grid_column": null,
            "grid_gap": null,
            "grid_row": null,
            "grid_template_areas": null,
            "grid_template_columns": null,
            "grid_template_rows": null,
            "height": null,
            "justify_content": null,
            "justify_items": null,
            "left": null,
            "margin": null,
            "max_height": null,
            "max_width": null,
            "min_height": null,
            "min_width": null,
            "object_fit": null,
            "object_position": null,
            "order": null,
            "overflow": null,
            "overflow_x": null,
            "overflow_y": null,
            "padding": null,
            "right": null,
            "top": null,
            "visibility": null,
            "width": null
          }
        },
        "d272ff65551843b2aded224cb5fda037": {
          "model_module": "@jupyter-widgets/controls",
          "model_name": "DescriptionStyleModel",
          "model_module_version": "1.5.0",
          "state": {
            "_model_module": "@jupyter-widgets/controls",
            "_model_module_version": "1.5.0",
            "_model_name": "DescriptionStyleModel",
            "_view_count": null,
            "_view_module": "@jupyter-widgets/base",
            "_view_module_version": "1.2.0",
            "_view_name": "StyleView",
            "description_width": ""
          }
        },
        "b04ca26c73e44003861bb63b256c0086": {
          "model_module": "@jupyter-widgets/controls",
          "model_name": "HBoxModel",
          "model_module_version": "1.5.0",
          "state": {
            "_dom_classes": [],
            "_model_module": "@jupyter-widgets/controls",
            "_model_module_version": "1.5.0",
            "_model_name": "HBoxModel",
            "_view_count": null,
            "_view_module": "@jupyter-widgets/controls",
            "_view_module_version": "1.5.0",
            "_view_name": "HBoxView",
            "box_style": "",
            "children": [
              "IPY_MODEL_b901f952e4c04edb81e8b1e094f2a75f",
              "IPY_MODEL_9a3d209cecc244babcdf076881297b85",
              "IPY_MODEL_29a2e1d001f6401cbd2b290893dbd97c"
            ],
            "layout": "IPY_MODEL_a0207f3cbbe44d33ae0c9c8675c39d7b"
          }
        },
        "b901f952e4c04edb81e8b1e094f2a75f": {
          "model_module": "@jupyter-widgets/controls",
          "model_name": "HTMLModel",
          "model_module_version": "1.5.0",
          "state": {
            "_dom_classes": [],
            "_model_module": "@jupyter-widgets/controls",
            "_model_module_version": "1.5.0",
            "_model_name": "HTMLModel",
            "_view_count": null,
            "_view_module": "@jupyter-widgets/controls",
            "_view_module_version": "1.5.0",
            "_view_name": "HTMLView",
            "description": "",
            "description_tooltip": null,
            "layout": "IPY_MODEL_3026cf44ede04690a6959d6560e45b38",
            "placeholder": "​",
            "style": "IPY_MODEL_e13e70c4ca3a4723bf1700c789615ab1",
            "value": "generation_config.json: 100%"
          }
        },
        "9a3d209cecc244babcdf076881297b85": {
          "model_module": "@jupyter-widgets/controls",
          "model_name": "FloatProgressModel",
          "model_module_version": "1.5.0",
          "state": {
            "_dom_classes": [],
            "_model_module": "@jupyter-widgets/controls",
            "_model_module_version": "1.5.0",
            "_model_name": "FloatProgressModel",
            "_view_count": null,
            "_view_module": "@jupyter-widgets/controls",
            "_view_module_version": "1.5.0",
            "_view_name": "ProgressView",
            "bar_style": "success",
            "description": "",
            "description_tooltip": null,
            "layout": "IPY_MODEL_44cc3c1dc27b4861aafd028410e679c7",
            "max": 185,
            "min": 0,
            "orientation": "horizontal",
            "style": "IPY_MODEL_99ad319faa9947259c0d2b0d8cc12771",
            "value": 185
          }
        },
        "29a2e1d001f6401cbd2b290893dbd97c": {
          "model_module": "@jupyter-widgets/controls",
          "model_name": "HTMLModel",
          "model_module_version": "1.5.0",
          "state": {
            "_dom_classes": [],
            "_model_module": "@jupyter-widgets/controls",
            "_model_module_version": "1.5.0",
            "_model_name": "HTMLModel",
            "_view_count": null,
            "_view_module": "@jupyter-widgets/controls",
            "_view_module_version": "1.5.0",
            "_view_name": "HTMLView",
            "description": "",
            "description_tooltip": null,
            "layout": "IPY_MODEL_69ad8bab1b954e53b95920c81adcee4a",
            "placeholder": "​",
            "style": "IPY_MODEL_078846ca212e4c5fa13e6eeefe143f68",
            "value": " 185/185 [00:00&lt;00:00, 17.1kB/s]"
          }
        },
        "a0207f3cbbe44d33ae0c9c8675c39d7b": {
          "model_module": "@jupyter-widgets/base",
          "model_name": "LayoutModel",
          "model_module_version": "1.2.0",
          "state": {
            "_model_module": "@jupyter-widgets/base",
            "_model_module_version": "1.2.0",
            "_model_name": "LayoutModel",
            "_view_count": null,
            "_view_module": "@jupyter-widgets/base",
            "_view_module_version": "1.2.0",
            "_view_name": "LayoutView",
            "align_content": null,
            "align_items": null,
            "align_self": null,
            "border": null,
            "bottom": null,
            "display": null,
            "flex": null,
            "flex_flow": null,
            "grid_area": null,
            "grid_auto_columns": null,
            "grid_auto_flow": null,
            "grid_auto_rows": null,
            "grid_column": null,
            "grid_gap": null,
            "grid_row": null,
            "grid_template_areas": null,
            "grid_template_columns": null,
            "grid_template_rows": null,
            "height": null,
            "justify_content": null,
            "justify_items": null,
            "left": null,
            "margin": null,
            "max_height": null,
            "max_width": null,
            "min_height": null,
            "min_width": null,
            "object_fit": null,
            "object_position": null,
            "order": null,
            "overflow": null,
            "overflow_x": null,
            "overflow_y": null,
            "padding": null,
            "right": null,
            "top": null,
            "visibility": null,
            "width": null
          }
        },
        "3026cf44ede04690a6959d6560e45b38": {
          "model_module": "@jupyter-widgets/base",
          "model_name": "LayoutModel",
          "model_module_version": "1.2.0",
          "state": {
            "_model_module": "@jupyter-widgets/base",
            "_model_module_version": "1.2.0",
            "_model_name": "LayoutModel",
            "_view_count": null,
            "_view_module": "@jupyter-widgets/base",
            "_view_module_version": "1.2.0",
            "_view_name": "LayoutView",
            "align_content": null,
            "align_items": null,
            "align_self": null,
            "border": null,
            "bottom": null,
            "display": null,
            "flex": null,
            "flex_flow": null,
            "grid_area": null,
            "grid_auto_columns": null,
            "grid_auto_flow": null,
            "grid_auto_rows": null,
            "grid_column": null,
            "grid_gap": null,
            "grid_row": null,
            "grid_template_areas": null,
            "grid_template_columns": null,
            "grid_template_rows": null,
            "height": null,
            "justify_content": null,
            "justify_items": null,
            "left": null,
            "margin": null,
            "max_height": null,
            "max_width": null,
            "min_height": null,
            "min_width": null,
            "object_fit": null,
            "object_position": null,
            "order": null,
            "overflow": null,
            "overflow_x": null,
            "overflow_y": null,
            "padding": null,
            "right": null,
            "top": null,
            "visibility": null,
            "width": null
          }
        },
        "e13e70c4ca3a4723bf1700c789615ab1": {
          "model_module": "@jupyter-widgets/controls",
          "model_name": "DescriptionStyleModel",
          "model_module_version": "1.5.0",
          "state": {
            "_model_module": "@jupyter-widgets/controls",
            "_model_module_version": "1.5.0",
            "_model_name": "DescriptionStyleModel",
            "_view_count": null,
            "_view_module": "@jupyter-widgets/base",
            "_view_module_version": "1.2.0",
            "_view_name": "StyleView",
            "description_width": ""
          }
        },
        "44cc3c1dc27b4861aafd028410e679c7": {
          "model_module": "@jupyter-widgets/base",
          "model_name": "LayoutModel",
          "model_module_version": "1.2.0",
          "state": {
            "_model_module": "@jupyter-widgets/base",
            "_model_module_version": "1.2.0",
            "_model_name": "LayoutModel",
            "_view_count": null,
            "_view_module": "@jupyter-widgets/base",
            "_view_module_version": "1.2.0",
            "_view_name": "LayoutView",
            "align_content": null,
            "align_items": null,
            "align_self": null,
            "border": null,
            "bottom": null,
            "display": null,
            "flex": null,
            "flex_flow": null,
            "grid_area": null,
            "grid_auto_columns": null,
            "grid_auto_flow": null,
            "grid_auto_rows": null,
            "grid_column": null,
            "grid_gap": null,
            "grid_row": null,
            "grid_template_areas": null,
            "grid_template_columns": null,
            "grid_template_rows": null,
            "height": null,
            "justify_content": null,
            "justify_items": null,
            "left": null,
            "margin": null,
            "max_height": null,
            "max_width": null,
            "min_height": null,
            "min_width": null,
            "object_fit": null,
            "object_position": null,
            "order": null,
            "overflow": null,
            "overflow_x": null,
            "overflow_y": null,
            "padding": null,
            "right": null,
            "top": null,
            "visibility": null,
            "width": null
          }
        },
        "99ad319faa9947259c0d2b0d8cc12771": {
          "model_module": "@jupyter-widgets/controls",
          "model_name": "ProgressStyleModel",
          "model_module_version": "1.5.0",
          "state": {
            "_model_module": "@jupyter-widgets/controls",
            "_model_module_version": "1.5.0",
            "_model_name": "ProgressStyleModel",
            "_view_count": null,
            "_view_module": "@jupyter-widgets/base",
            "_view_module_version": "1.2.0",
            "_view_name": "StyleView",
            "bar_color": null,
            "description_width": ""
          }
        },
        "69ad8bab1b954e53b95920c81adcee4a": {
          "model_module": "@jupyter-widgets/base",
          "model_name": "LayoutModel",
          "model_module_version": "1.2.0",
          "state": {
            "_model_module": "@jupyter-widgets/base",
            "_model_module_version": "1.2.0",
            "_model_name": "LayoutModel",
            "_view_count": null,
            "_view_module": "@jupyter-widgets/base",
            "_view_module_version": "1.2.0",
            "_view_name": "LayoutView",
            "align_content": null,
            "align_items": null,
            "align_self": null,
            "border": null,
            "bottom": null,
            "display": null,
            "flex": null,
            "flex_flow": null,
            "grid_area": null,
            "grid_auto_columns": null,
            "grid_auto_flow": null,
            "grid_auto_rows": null,
            "grid_column": null,
            "grid_gap": null,
            "grid_row": null,
            "grid_template_areas": null,
            "grid_template_columns": null,
            "grid_template_rows": null,
            "height": null,
            "justify_content": null,
            "justify_items": null,
            "left": null,
            "margin": null,
            "max_height": null,
            "max_width": null,
            "min_height": null,
            "min_width": null,
            "object_fit": null,
            "object_position": null,
            "order": null,
            "overflow": null,
            "overflow_x": null,
            "overflow_y": null,
            "padding": null,
            "right": null,
            "top": null,
            "visibility": null,
            "width": null
          }
        },
        "078846ca212e4c5fa13e6eeefe143f68": {
          "model_module": "@jupyter-widgets/controls",
          "model_name": "DescriptionStyleModel",
          "model_module_version": "1.5.0",
          "state": {
            "_model_module": "@jupyter-widgets/controls",
            "_model_module_version": "1.5.0",
            "_model_name": "DescriptionStyleModel",
            "_view_count": null,
            "_view_module": "@jupyter-widgets/base",
            "_view_module_version": "1.2.0",
            "_view_name": "StyleView",
            "description_width": ""
          }
        },
        "89abc092efdc49418976a95b2638b893": {
          "model_module": "@jupyter-widgets/controls",
          "model_name": "HBoxModel",
          "model_module_version": "1.5.0",
          "state": {
            "_dom_classes": [],
            "_model_module": "@jupyter-widgets/controls",
            "_model_module_version": "1.5.0",
            "_model_name": "HBoxModel",
            "_view_count": null,
            "_view_module": "@jupyter-widgets/controls",
            "_view_module_version": "1.5.0",
            "_view_name": "HBoxView",
            "box_style": "",
            "children": [
              "IPY_MODEL_eb6931ebe44b462eb3a399c1d224f0ee",
              "IPY_MODEL_7bc297cef86f427381ce1f3a65edfe46",
              "IPY_MODEL_d15aff7f18fb405eac8b30b80658b737"
            ],
            "layout": "IPY_MODEL_345fa802a9044fa0a61c07e3c128b2d1"
          }
        },
        "eb6931ebe44b462eb3a399c1d224f0ee": {
          "model_module": "@jupyter-widgets/controls",
          "model_name": "HTMLModel",
          "model_module_version": "1.5.0",
          "state": {
            "_dom_classes": [],
            "_model_module": "@jupyter-widgets/controls",
            "_model_module_version": "1.5.0",
            "_model_name": "HTMLModel",
            "_view_count": null,
            "_view_module": "@jupyter-widgets/controls",
            "_view_module_version": "1.5.0",
            "_view_name": "HTMLView",
            "description": "",
            "description_tooltip": null,
            "layout": "IPY_MODEL_61618cfb9b65464f83d6a4d07ae05b00",
            "placeholder": "​",
            "style": "IPY_MODEL_3492ad5feba1466885455321af7bc174",
            "value": "Loading checkpoint shards: 100%"
          }
        },
        "7bc297cef86f427381ce1f3a65edfe46": {
          "model_module": "@jupyter-widgets/controls",
          "model_name": "FloatProgressModel",
          "model_module_version": "1.5.0",
          "state": {
            "_dom_classes": [],
            "_model_module": "@jupyter-widgets/controls",
            "_model_module_version": "1.5.0",
            "_model_name": "FloatProgressModel",
            "_view_count": null,
            "_view_module": "@jupyter-widgets/controls",
            "_view_module_version": "1.5.0",
            "_view_name": "ProgressView",
            "bar_style": "success",
            "description": "",
            "description_tooltip": null,
            "layout": "IPY_MODEL_8e6ceef59e484a66b413cec8d8b7dcda",
            "max": 2,
            "min": 0,
            "orientation": "horizontal",
            "style": "IPY_MODEL_3f22de3fb3934885ab8ff22bd1a19a68",
            "value": 2
          }
        },
        "d15aff7f18fb405eac8b30b80658b737": {
          "model_module": "@jupyter-widgets/controls",
          "model_name": "HTMLModel",
          "model_module_version": "1.5.0",
          "state": {
            "_dom_classes": [],
            "_model_module": "@jupyter-widgets/controls",
            "_model_module_version": "1.5.0",
            "_model_name": "HTMLModel",
            "_view_count": null,
            "_view_module": "@jupyter-widgets/controls",
            "_view_module_version": "1.5.0",
            "_view_name": "HTMLView",
            "description": "",
            "description_tooltip": null,
            "layout": "IPY_MODEL_b37e9abd2250443fbe59fe0f96f200e6",
            "placeholder": "​",
            "style": "IPY_MODEL_165ccfb7f3844c79a35ecffc1bb48515",
            "value": " 2/2 [00:04&lt;00:00,  2.02s/it]"
          }
        },
        "345fa802a9044fa0a61c07e3c128b2d1": {
          "model_module": "@jupyter-widgets/base",
          "model_name": "LayoutModel",
          "model_module_version": "1.2.0",
          "state": {
            "_model_module": "@jupyter-widgets/base",
            "_model_module_version": "1.2.0",
            "_model_name": "LayoutModel",
            "_view_count": null,
            "_view_module": "@jupyter-widgets/base",
            "_view_module_version": "1.2.0",
            "_view_name": "LayoutView",
            "align_content": null,
            "align_items": null,
            "align_self": null,
            "border": null,
            "bottom": null,
            "display": null,
            "flex": null,
            "flex_flow": null,
            "grid_area": null,
            "grid_auto_columns": null,
            "grid_auto_flow": null,
            "grid_auto_rows": null,
            "grid_column": null,
            "grid_gap": null,
            "grid_row": null,
            "grid_template_areas": null,
            "grid_template_columns": null,
            "grid_template_rows": null,
            "height": null,
            "justify_content": null,
            "justify_items": null,
            "left": null,
            "margin": null,
            "max_height": null,
            "max_width": null,
            "min_height": null,
            "min_width": null,
            "object_fit": null,
            "object_position": null,
            "order": null,
            "overflow": null,
            "overflow_x": null,
            "overflow_y": null,
            "padding": null,
            "right": null,
            "top": null,
            "visibility": null,
            "width": null
          }
        },
        "61618cfb9b65464f83d6a4d07ae05b00": {
          "model_module": "@jupyter-widgets/base",
          "model_name": "LayoutModel",
          "model_module_version": "1.2.0",
          "state": {
            "_model_module": "@jupyter-widgets/base",
            "_model_module_version": "1.2.0",
            "_model_name": "LayoutModel",
            "_view_count": null,
            "_view_module": "@jupyter-widgets/base",
            "_view_module_version": "1.2.0",
            "_view_name": "LayoutView",
            "align_content": null,
            "align_items": null,
            "align_self": null,
            "border": null,
            "bottom": null,
            "display": null,
            "flex": null,
            "flex_flow": null,
            "grid_area": null,
            "grid_auto_columns": null,
            "grid_auto_flow": null,
            "grid_auto_rows": null,
            "grid_column": null,
            "grid_gap": null,
            "grid_row": null,
            "grid_template_areas": null,
            "grid_template_columns": null,
            "grid_template_rows": null,
            "height": null,
            "justify_content": null,
            "justify_items": null,
            "left": null,
            "margin": null,
            "max_height": null,
            "max_width": null,
            "min_height": null,
            "min_width": null,
            "object_fit": null,
            "object_position": null,
            "order": null,
            "overflow": null,
            "overflow_x": null,
            "overflow_y": null,
            "padding": null,
            "right": null,
            "top": null,
            "visibility": null,
            "width": null
          }
        },
        "3492ad5feba1466885455321af7bc174": {
          "model_module": "@jupyter-widgets/controls",
          "model_name": "DescriptionStyleModel",
          "model_module_version": "1.5.0",
          "state": {
            "_model_module": "@jupyter-widgets/controls",
            "_model_module_version": "1.5.0",
            "_model_name": "DescriptionStyleModel",
            "_view_count": null,
            "_view_module": "@jupyter-widgets/base",
            "_view_module_version": "1.2.0",
            "_view_name": "StyleView",
            "description_width": ""
          }
        },
        "8e6ceef59e484a66b413cec8d8b7dcda": {
          "model_module": "@jupyter-widgets/base",
          "model_name": "LayoutModel",
          "model_module_version": "1.2.0",
          "state": {
            "_model_module": "@jupyter-widgets/base",
            "_model_module_version": "1.2.0",
            "_model_name": "LayoutModel",
            "_view_count": null,
            "_view_module": "@jupyter-widgets/base",
            "_view_module_version": "1.2.0",
            "_view_name": "LayoutView",
            "align_content": null,
            "align_items": null,
            "align_self": null,
            "border": null,
            "bottom": null,
            "display": null,
            "flex": null,
            "flex_flow": null,
            "grid_area": null,
            "grid_auto_columns": null,
            "grid_auto_flow": null,
            "grid_auto_rows": null,
            "grid_column": null,
            "grid_gap": null,
            "grid_row": null,
            "grid_template_areas": null,
            "grid_template_columns": null,
            "grid_template_rows": null,
            "height": null,
            "justify_content": null,
            "justify_items": null,
            "left": null,
            "margin": null,
            "max_height": null,
            "max_width": null,
            "min_height": null,
            "min_width": null,
            "object_fit": null,
            "object_position": null,
            "order": null,
            "overflow": null,
            "overflow_x": null,
            "overflow_y": null,
            "padding": null,
            "right": null,
            "top": null,
            "visibility": null,
            "width": null
          }
        },
        "3f22de3fb3934885ab8ff22bd1a19a68": {
          "model_module": "@jupyter-widgets/controls",
          "model_name": "ProgressStyleModel",
          "model_module_version": "1.5.0",
          "state": {
            "_model_module": "@jupyter-widgets/controls",
            "_model_module_version": "1.5.0",
            "_model_name": "ProgressStyleModel",
            "_view_count": null,
            "_view_module": "@jupyter-widgets/base",
            "_view_module_version": "1.2.0",
            "_view_name": "StyleView",
            "bar_color": null,
            "description_width": ""
          }
        },
        "b37e9abd2250443fbe59fe0f96f200e6": {
          "model_module": "@jupyter-widgets/base",
          "model_name": "LayoutModel",
          "model_module_version": "1.2.0",
          "state": {
            "_model_module": "@jupyter-widgets/base",
            "_model_module_version": "1.2.0",
            "_model_name": "LayoutModel",
            "_view_count": null,
            "_view_module": "@jupyter-widgets/base",
            "_view_module_version": "1.2.0",
            "_view_name": "LayoutView",
            "align_content": null,
            "align_items": null,
            "align_self": null,
            "border": null,
            "bottom": null,
            "display": null,
            "flex": null,
            "flex_flow": null,
            "grid_area": null,
            "grid_auto_columns": null,
            "grid_auto_flow": null,
            "grid_auto_rows": null,
            "grid_column": null,
            "grid_gap": null,
            "grid_row": null,
            "grid_template_areas": null,
            "grid_template_columns": null,
            "grid_template_rows": null,
            "height": null,
            "justify_content": null,
            "justify_items": null,
            "left": null,
            "margin": null,
            "max_height": null,
            "max_width": null,
            "min_height": null,
            "min_width": null,
            "object_fit": null,
            "object_position": null,
            "order": null,
            "overflow": null,
            "overflow_x": null,
            "overflow_y": null,
            "padding": null,
            "right": null,
            "top": null,
            "visibility": null,
            "width": null
          }
        },
        "165ccfb7f3844c79a35ecffc1bb48515": {
          "model_module": "@jupyter-widgets/controls",
          "model_name": "DescriptionStyleModel",
          "model_module_version": "1.5.0",
          "state": {
            "_model_module": "@jupyter-widgets/controls",
            "_model_module_version": "1.5.0",
            "_model_name": "DescriptionStyleModel",
            "_view_count": null,
            "_view_module": "@jupyter-widgets/base",
            "_view_module_version": "1.2.0",
            "_view_name": "StyleView",
            "description_width": ""
          }
        },
        "7d579538c201444992f88bc5fdc64e18": {
          "model_module": "@jupyter-widgets/controls",
          "model_name": "HBoxModel",
          "model_module_version": "1.5.0",
          "state": {
            "_dom_classes": [],
            "_model_module": "@jupyter-widgets/controls",
            "_model_module_version": "1.5.0",
            "_model_name": "HBoxModel",
            "_view_count": null,
            "_view_module": "@jupyter-widgets/controls",
            "_view_module_version": "1.5.0",
            "_view_name": "HBoxView",
            "box_style": "",
            "children": [
              "IPY_MODEL_71dc7572a230410ca4314abf4b3d2358",
              "IPY_MODEL_10a6e444d932401a9c1dc0c1da8356c2",
              "IPY_MODEL_f71b1cac666e4e968cfe720119d0767e"
            ],
            "layout": "IPY_MODEL_9bb2830c021b4218bc97abdabed69374"
          }
        },
        "71dc7572a230410ca4314abf4b3d2358": {
          "model_module": "@jupyter-widgets/controls",
          "model_name": "HTMLModel",
          "model_module_version": "1.5.0",
          "state": {
            "_dom_classes": [],
            "_model_module": "@jupyter-widgets/controls",
            "_model_module_version": "1.5.0",
            "_model_name": "HTMLModel",
            "_view_count": null,
            "_view_module": "@jupyter-widgets/controls",
            "_view_module_version": "1.5.0",
            "_view_name": "HTMLView",
            "description": "",
            "description_tooltip": null,
            "layout": "IPY_MODEL_92ccd4fe465e455889b3ff9211b15eb4",
            "placeholder": "​",
            "style": "IPY_MODEL_23b8bc4c48654227a6f03d7813ea2f6d",
            "value": "tokenizer_config.json: 100%"
          }
        },
        "10a6e444d932401a9c1dc0c1da8356c2": {
          "model_module": "@jupyter-widgets/controls",
          "model_name": "FloatProgressModel",
          "model_module_version": "1.5.0",
          "state": {
            "_dom_classes": [],
            "_model_module": "@jupyter-widgets/controls",
            "_model_module_version": "1.5.0",
            "_model_name": "FloatProgressModel",
            "_view_count": null,
            "_view_module": "@jupyter-widgets/controls",
            "_view_module_version": "1.5.0",
            "_view_name": "ProgressView",
            "bar_style": "success",
            "description": "",
            "description_tooltip": null,
            "layout": "IPY_MODEL_7c318f535f1f4853b94dcfd805d9321c",
            "max": 48,
            "min": 0,
            "orientation": "horizontal",
            "style": "IPY_MODEL_fe074b32883c4711a43d6bd1011867cc",
            "value": 48
          }
        },
        "f71b1cac666e4e968cfe720119d0767e": {
          "model_module": "@jupyter-widgets/controls",
          "model_name": "HTMLModel",
          "model_module_version": "1.5.0",
          "state": {
            "_dom_classes": [],
            "_model_module": "@jupyter-widgets/controls",
            "_model_module_version": "1.5.0",
            "_model_name": "HTMLModel",
            "_view_count": null,
            "_view_module": "@jupyter-widgets/controls",
            "_view_module_version": "1.5.0",
            "_view_name": "HTMLView",
            "description": "",
            "description_tooltip": null,
            "layout": "IPY_MODEL_d6cc5b64576547519868b34b40893dd6",
            "placeholder": "​",
            "style": "IPY_MODEL_0f4f98de140d457dbdc7d63568c41aee",
            "value": " 48.0/48.0 [00:00&lt;00:00, 4.09kB/s]"
          }
        },
        "9bb2830c021b4218bc97abdabed69374": {
          "model_module": "@jupyter-widgets/base",
          "model_name": "LayoutModel",
          "model_module_version": "1.2.0",
          "state": {
            "_model_module": "@jupyter-widgets/base",
            "_model_module_version": "1.2.0",
            "_model_name": "LayoutModel",
            "_view_count": null,
            "_view_module": "@jupyter-widgets/base",
            "_view_module_version": "1.2.0",
            "_view_name": "LayoutView",
            "align_content": null,
            "align_items": null,
            "align_self": null,
            "border": null,
            "bottom": null,
            "display": null,
            "flex": null,
            "flex_flow": null,
            "grid_area": null,
            "grid_auto_columns": null,
            "grid_auto_flow": null,
            "grid_auto_rows": null,
            "grid_column": null,
            "grid_gap": null,
            "grid_row": null,
            "grid_template_areas": null,
            "grid_template_columns": null,
            "grid_template_rows": null,
            "height": null,
            "justify_content": null,
            "justify_items": null,
            "left": null,
            "margin": null,
            "max_height": null,
            "max_width": null,
            "min_height": null,
            "min_width": null,
            "object_fit": null,
            "object_position": null,
            "order": null,
            "overflow": null,
            "overflow_x": null,
            "overflow_y": null,
            "padding": null,
            "right": null,
            "top": null,
            "visibility": null,
            "width": null
          }
        },
        "92ccd4fe465e455889b3ff9211b15eb4": {
          "model_module": "@jupyter-widgets/base",
          "model_name": "LayoutModel",
          "model_module_version": "1.2.0",
          "state": {
            "_model_module": "@jupyter-widgets/base",
            "_model_module_version": "1.2.0",
            "_model_name": "LayoutModel",
            "_view_count": null,
            "_view_module": "@jupyter-widgets/base",
            "_view_module_version": "1.2.0",
            "_view_name": "LayoutView",
            "align_content": null,
            "align_items": null,
            "align_self": null,
            "border": null,
            "bottom": null,
            "display": null,
            "flex": null,
            "flex_flow": null,
            "grid_area": null,
            "grid_auto_columns": null,
            "grid_auto_flow": null,
            "grid_auto_rows": null,
            "grid_column": null,
            "grid_gap": null,
            "grid_row": null,
            "grid_template_areas": null,
            "grid_template_columns": null,
            "grid_template_rows": null,
            "height": null,
            "justify_content": null,
            "justify_items": null,
            "left": null,
            "margin": null,
            "max_height": null,
            "max_width": null,
            "min_height": null,
            "min_width": null,
            "object_fit": null,
            "object_position": null,
            "order": null,
            "overflow": null,
            "overflow_x": null,
            "overflow_y": null,
            "padding": null,
            "right": null,
            "top": null,
            "visibility": null,
            "width": null
          }
        },
        "23b8bc4c48654227a6f03d7813ea2f6d": {
          "model_module": "@jupyter-widgets/controls",
          "model_name": "DescriptionStyleModel",
          "model_module_version": "1.5.0",
          "state": {
            "_model_module": "@jupyter-widgets/controls",
            "_model_module_version": "1.5.0",
            "_model_name": "DescriptionStyleModel",
            "_view_count": null,
            "_view_module": "@jupyter-widgets/base",
            "_view_module_version": "1.2.0",
            "_view_name": "StyleView",
            "description_width": ""
          }
        },
        "7c318f535f1f4853b94dcfd805d9321c": {
          "model_module": "@jupyter-widgets/base",
          "model_name": "LayoutModel",
          "model_module_version": "1.2.0",
          "state": {
            "_model_module": "@jupyter-widgets/base",
            "_model_module_version": "1.2.0",
            "_model_name": "LayoutModel",
            "_view_count": null,
            "_view_module": "@jupyter-widgets/base",
            "_view_module_version": "1.2.0",
            "_view_name": "LayoutView",
            "align_content": null,
            "align_items": null,
            "align_self": null,
            "border": null,
            "bottom": null,
            "display": null,
            "flex": null,
            "flex_flow": null,
            "grid_area": null,
            "grid_auto_columns": null,
            "grid_auto_flow": null,
            "grid_auto_rows": null,
            "grid_column": null,
            "grid_gap": null,
            "grid_row": null,
            "grid_template_areas": null,
            "grid_template_columns": null,
            "grid_template_rows": null,
            "height": null,
            "justify_content": null,
            "justify_items": null,
            "left": null,
            "margin": null,
            "max_height": null,
            "max_width": null,
            "min_height": null,
            "min_width": null,
            "object_fit": null,
            "object_position": null,
            "order": null,
            "overflow": null,
            "overflow_x": null,
            "overflow_y": null,
            "padding": null,
            "right": null,
            "top": null,
            "visibility": null,
            "width": null
          }
        },
        "fe074b32883c4711a43d6bd1011867cc": {
          "model_module": "@jupyter-widgets/controls",
          "model_name": "ProgressStyleModel",
          "model_module_version": "1.5.0",
          "state": {
            "_model_module": "@jupyter-widgets/controls",
            "_model_module_version": "1.5.0",
            "_model_name": "ProgressStyleModel",
            "_view_count": null,
            "_view_module": "@jupyter-widgets/base",
            "_view_module_version": "1.2.0",
            "_view_name": "StyleView",
            "bar_color": null,
            "description_width": ""
          }
        },
        "d6cc5b64576547519868b34b40893dd6": {
          "model_module": "@jupyter-widgets/base",
          "model_name": "LayoutModel",
          "model_module_version": "1.2.0",
          "state": {
            "_model_module": "@jupyter-widgets/base",
            "_model_module_version": "1.2.0",
            "_model_name": "LayoutModel",
            "_view_count": null,
            "_view_module": "@jupyter-widgets/base",
            "_view_module_version": "1.2.0",
            "_view_name": "LayoutView",
            "align_content": null,
            "align_items": null,
            "align_self": null,
            "border": null,
            "bottom": null,
            "display": null,
            "flex": null,
            "flex_flow": null,
            "grid_area": null,
            "grid_auto_columns": null,
            "grid_auto_flow": null,
            "grid_auto_rows": null,
            "grid_column": null,
            "grid_gap": null,
            "grid_row": null,
            "grid_template_areas": null,
            "grid_template_columns": null,
            "grid_template_rows": null,
            "height": null,
            "justify_content": null,
            "justify_items": null,
            "left": null,
            "margin": null,
            "max_height": null,
            "max_width": null,
            "min_height": null,
            "min_width": null,
            "object_fit": null,
            "object_position": null,
            "order": null,
            "overflow": null,
            "overflow_x": null,
            "overflow_y": null,
            "padding": null,
            "right": null,
            "top": null,
            "visibility": null,
            "width": null
          }
        },
        "0f4f98de140d457dbdc7d63568c41aee": {
          "model_module": "@jupyter-widgets/controls",
          "model_name": "DescriptionStyleModel",
          "model_module_version": "1.5.0",
          "state": {
            "_model_module": "@jupyter-widgets/controls",
            "_model_module_version": "1.5.0",
            "_model_name": "DescriptionStyleModel",
            "_view_count": null,
            "_view_module": "@jupyter-widgets/base",
            "_view_module_version": "1.2.0",
            "_view_name": "StyleView",
            "description_width": ""
          }
        },
        "28f6511f145c4c18b5102d97445367c0": {
          "model_module": "@jupyter-widgets/controls",
          "model_name": "HBoxModel",
          "model_module_version": "1.5.0",
          "state": {
            "_dom_classes": [],
            "_model_module": "@jupyter-widgets/controls",
            "_model_module_version": "1.5.0",
            "_model_name": "HBoxModel",
            "_view_count": null,
            "_view_module": "@jupyter-widgets/controls",
            "_view_module_version": "1.5.0",
            "_view_name": "HBoxView",
            "box_style": "",
            "children": [
              "IPY_MODEL_56b5c84a9c7a431f9f188d8c0a1eca90",
              "IPY_MODEL_b7df4e09249d423db0be537e62b2eb4f",
              "IPY_MODEL_764eaee318f14b8aa03c5f74054d5e6d"
            ],
            "layout": "IPY_MODEL_ffb27aebb11e4638b4433855f169e2c1"
          }
        },
        "56b5c84a9c7a431f9f188d8c0a1eca90": {
          "model_module": "@jupyter-widgets/controls",
          "model_name": "HTMLModel",
          "model_module_version": "1.5.0",
          "state": {
            "_dom_classes": [],
            "_model_module": "@jupyter-widgets/controls",
            "_model_module_version": "1.5.0",
            "_model_name": "HTMLModel",
            "_view_count": null,
            "_view_module": "@jupyter-widgets/controls",
            "_view_module_version": "1.5.0",
            "_view_name": "HTMLView",
            "description": "",
            "description_tooltip": null,
            "layout": "IPY_MODEL_efa4969ef56b4eb982e937cf215b1e4e",
            "placeholder": "​",
            "style": "IPY_MODEL_fe5bc9f78769443fa50eb59e3fbe8ced",
            "value": "vocab.txt: 100%"
          }
        },
        "b7df4e09249d423db0be537e62b2eb4f": {
          "model_module": "@jupyter-widgets/controls",
          "model_name": "FloatProgressModel",
          "model_module_version": "1.5.0",
          "state": {
            "_dom_classes": [],
            "_model_module": "@jupyter-widgets/controls",
            "_model_module_version": "1.5.0",
            "_model_name": "FloatProgressModel",
            "_view_count": null,
            "_view_module": "@jupyter-widgets/controls",
            "_view_module_version": "1.5.0",
            "_view_name": "ProgressView",
            "bar_style": "success",
            "description": "",
            "description_tooltip": null,
            "layout": "IPY_MODEL_dceeabb5a81a4f6a961c97163c2b54aa",
            "max": 231508,
            "min": 0,
            "orientation": "horizontal",
            "style": "IPY_MODEL_2ed9ecb41eec4ac090295f0f24a1f355",
            "value": 231508
          }
        },
        "764eaee318f14b8aa03c5f74054d5e6d": {
          "model_module": "@jupyter-widgets/controls",
          "model_name": "HTMLModel",
          "model_module_version": "1.5.0",
          "state": {
            "_dom_classes": [],
            "_model_module": "@jupyter-widgets/controls",
            "_model_module_version": "1.5.0",
            "_model_name": "HTMLModel",
            "_view_count": null,
            "_view_module": "@jupyter-widgets/controls",
            "_view_module_version": "1.5.0",
            "_view_name": "HTMLView",
            "description": "",
            "description_tooltip": null,
            "layout": "IPY_MODEL_83d32f529a194e6a9c566f2b32c5d24e",
            "placeholder": "​",
            "style": "IPY_MODEL_f0c8cf9952bf40d0b5a0838f3667d027",
            "value": " 232k/232k [00:00&lt;00:00, 5.10MB/s]"
          }
        },
        "ffb27aebb11e4638b4433855f169e2c1": {
          "model_module": "@jupyter-widgets/base",
          "model_name": "LayoutModel",
          "model_module_version": "1.2.0",
          "state": {
            "_model_module": "@jupyter-widgets/base",
            "_model_module_version": "1.2.0",
            "_model_name": "LayoutModel",
            "_view_count": null,
            "_view_module": "@jupyter-widgets/base",
            "_view_module_version": "1.2.0",
            "_view_name": "LayoutView",
            "align_content": null,
            "align_items": null,
            "align_self": null,
            "border": null,
            "bottom": null,
            "display": null,
            "flex": null,
            "flex_flow": null,
            "grid_area": null,
            "grid_auto_columns": null,
            "grid_auto_flow": null,
            "grid_auto_rows": null,
            "grid_column": null,
            "grid_gap": null,
            "grid_row": null,
            "grid_template_areas": null,
            "grid_template_columns": null,
            "grid_template_rows": null,
            "height": null,
            "justify_content": null,
            "justify_items": null,
            "left": null,
            "margin": null,
            "max_height": null,
            "max_width": null,
            "min_height": null,
            "min_width": null,
            "object_fit": null,
            "object_position": null,
            "order": null,
            "overflow": null,
            "overflow_x": null,
            "overflow_y": null,
            "padding": null,
            "right": null,
            "top": null,
            "visibility": null,
            "width": null
          }
        },
        "efa4969ef56b4eb982e937cf215b1e4e": {
          "model_module": "@jupyter-widgets/base",
          "model_name": "LayoutModel",
          "model_module_version": "1.2.0",
          "state": {
            "_model_module": "@jupyter-widgets/base",
            "_model_module_version": "1.2.0",
            "_model_name": "LayoutModel",
            "_view_count": null,
            "_view_module": "@jupyter-widgets/base",
            "_view_module_version": "1.2.0",
            "_view_name": "LayoutView",
            "align_content": null,
            "align_items": null,
            "align_self": null,
            "border": null,
            "bottom": null,
            "display": null,
            "flex": null,
            "flex_flow": null,
            "grid_area": null,
            "grid_auto_columns": null,
            "grid_auto_flow": null,
            "grid_auto_rows": null,
            "grid_column": null,
            "grid_gap": null,
            "grid_row": null,
            "grid_template_areas": null,
            "grid_template_columns": null,
            "grid_template_rows": null,
            "height": null,
            "justify_content": null,
            "justify_items": null,
            "left": null,
            "margin": null,
            "max_height": null,
            "max_width": null,
            "min_height": null,
            "min_width": null,
            "object_fit": null,
            "object_position": null,
            "order": null,
            "overflow": null,
            "overflow_x": null,
            "overflow_y": null,
            "padding": null,
            "right": null,
            "top": null,
            "visibility": null,
            "width": null
          }
        },
        "fe5bc9f78769443fa50eb59e3fbe8ced": {
          "model_module": "@jupyter-widgets/controls",
          "model_name": "DescriptionStyleModel",
          "model_module_version": "1.5.0",
          "state": {
            "_model_module": "@jupyter-widgets/controls",
            "_model_module_version": "1.5.0",
            "_model_name": "DescriptionStyleModel",
            "_view_count": null,
            "_view_module": "@jupyter-widgets/base",
            "_view_module_version": "1.2.0",
            "_view_name": "StyleView",
            "description_width": ""
          }
        },
        "dceeabb5a81a4f6a961c97163c2b54aa": {
          "model_module": "@jupyter-widgets/base",
          "model_name": "LayoutModel",
          "model_module_version": "1.2.0",
          "state": {
            "_model_module": "@jupyter-widgets/base",
            "_model_module_version": "1.2.0",
            "_model_name": "LayoutModel",
            "_view_count": null,
            "_view_module": "@jupyter-widgets/base",
            "_view_module_version": "1.2.0",
            "_view_name": "LayoutView",
            "align_content": null,
            "align_items": null,
            "align_self": null,
            "border": null,
            "bottom": null,
            "display": null,
            "flex": null,
            "flex_flow": null,
            "grid_area": null,
            "grid_auto_columns": null,
            "grid_auto_flow": null,
            "grid_auto_rows": null,
            "grid_column": null,
            "grid_gap": null,
            "grid_row": null,
            "grid_template_areas": null,
            "grid_template_columns": null,
            "grid_template_rows": null,
            "height": null,
            "justify_content": null,
            "justify_items": null,
            "left": null,
            "margin": null,
            "max_height": null,
            "max_width": null,
            "min_height": null,
            "min_width": null,
            "object_fit": null,
            "object_position": null,
            "order": null,
            "overflow": null,
            "overflow_x": null,
            "overflow_y": null,
            "padding": null,
            "right": null,
            "top": null,
            "visibility": null,
            "width": null
          }
        },
        "2ed9ecb41eec4ac090295f0f24a1f355": {
          "model_module": "@jupyter-widgets/controls",
          "model_name": "ProgressStyleModel",
          "model_module_version": "1.5.0",
          "state": {
            "_model_module": "@jupyter-widgets/controls",
            "_model_module_version": "1.5.0",
            "_model_name": "ProgressStyleModel",
            "_view_count": null,
            "_view_module": "@jupyter-widgets/base",
            "_view_module_version": "1.2.0",
            "_view_name": "StyleView",
            "bar_color": null,
            "description_width": ""
          }
        },
        "83d32f529a194e6a9c566f2b32c5d24e": {
          "model_module": "@jupyter-widgets/base",
          "model_name": "LayoutModel",
          "model_module_version": "1.2.0",
          "state": {
            "_model_module": "@jupyter-widgets/base",
            "_model_module_version": "1.2.0",
            "_model_name": "LayoutModel",
            "_view_count": null,
            "_view_module": "@jupyter-widgets/base",
            "_view_module_version": "1.2.0",
            "_view_name": "LayoutView",
            "align_content": null,
            "align_items": null,
            "align_self": null,
            "border": null,
            "bottom": null,
            "display": null,
            "flex": null,
            "flex_flow": null,
            "grid_area": null,
            "grid_auto_columns": null,
            "grid_auto_flow": null,
            "grid_auto_rows": null,
            "grid_column": null,
            "grid_gap": null,
            "grid_row": null,
            "grid_template_areas": null,
            "grid_template_columns": null,
            "grid_template_rows": null,
            "height": null,
            "justify_content": null,
            "justify_items": null,
            "left": null,
            "margin": null,
            "max_height": null,
            "max_width": null,
            "min_height": null,
            "min_width": null,
            "object_fit": null,
            "object_position": null,
            "order": null,
            "overflow": null,
            "overflow_x": null,
            "overflow_y": null,
            "padding": null,
            "right": null,
            "top": null,
            "visibility": null,
            "width": null
          }
        },
        "f0c8cf9952bf40d0b5a0838f3667d027": {
          "model_module": "@jupyter-widgets/controls",
          "model_name": "DescriptionStyleModel",
          "model_module_version": "1.5.0",
          "state": {
            "_model_module": "@jupyter-widgets/controls",
            "_model_module_version": "1.5.0",
            "_model_name": "DescriptionStyleModel",
            "_view_count": null,
            "_view_module": "@jupyter-widgets/base",
            "_view_module_version": "1.2.0",
            "_view_name": "StyleView",
            "description_width": ""
          }
        },
        "4ba589f60d944a43ab125b7c63ffb63e": {
          "model_module": "@jupyter-widgets/controls",
          "model_name": "HBoxModel",
          "model_module_version": "1.5.0",
          "state": {
            "_dom_classes": [],
            "_model_module": "@jupyter-widgets/controls",
            "_model_module_version": "1.5.0",
            "_model_name": "HBoxModel",
            "_view_count": null,
            "_view_module": "@jupyter-widgets/controls",
            "_view_module_version": "1.5.0",
            "_view_name": "HBoxView",
            "box_style": "",
            "children": [
              "IPY_MODEL_a1660e51d6a242bfb6dd53873857e7eb",
              "IPY_MODEL_7c0621ff4a484f33b316555db330465c",
              "IPY_MODEL_c41ed3a213924147a0d7a236f6c36a41"
            ],
            "layout": "IPY_MODEL_c70fde634258472a9974d9b517a8f9c6"
          }
        },
        "a1660e51d6a242bfb6dd53873857e7eb": {
          "model_module": "@jupyter-widgets/controls",
          "model_name": "HTMLModel",
          "model_module_version": "1.5.0",
          "state": {
            "_dom_classes": [],
            "_model_module": "@jupyter-widgets/controls",
            "_model_module_version": "1.5.0",
            "_model_name": "HTMLModel",
            "_view_count": null,
            "_view_module": "@jupyter-widgets/controls",
            "_view_module_version": "1.5.0",
            "_view_name": "HTMLView",
            "description": "",
            "description_tooltip": null,
            "layout": "IPY_MODEL_ececca6a18fc483ba391f20ee8a78cc9",
            "placeholder": "​",
            "style": "IPY_MODEL_56f432df3454440db5aa98dd29dd6089",
            "value": "tokenizer.json: 100%"
          }
        },
        "7c0621ff4a484f33b316555db330465c": {
          "model_module": "@jupyter-widgets/controls",
          "model_name": "FloatProgressModel",
          "model_module_version": "1.5.0",
          "state": {
            "_dom_classes": [],
            "_model_module": "@jupyter-widgets/controls",
            "_model_module_version": "1.5.0",
            "_model_name": "FloatProgressModel",
            "_view_count": null,
            "_view_module": "@jupyter-widgets/controls",
            "_view_module_version": "1.5.0",
            "_view_name": "ProgressView",
            "bar_style": "success",
            "description": "",
            "description_tooltip": null,
            "layout": "IPY_MODEL_c99bbba048b049d29ec8a60b8a1a42dc",
            "max": 466062,
            "min": 0,
            "orientation": "horizontal",
            "style": "IPY_MODEL_bf6283c4adcf4923bf9b79b6d6f45448",
            "value": 466062
          }
        },
        "c41ed3a213924147a0d7a236f6c36a41": {
          "model_module": "@jupyter-widgets/controls",
          "model_name": "HTMLModel",
          "model_module_version": "1.5.0",
          "state": {
            "_dom_classes": [],
            "_model_module": "@jupyter-widgets/controls",
            "_model_module_version": "1.5.0",
            "_model_name": "HTMLModel",
            "_view_count": null,
            "_view_module": "@jupyter-widgets/controls",
            "_view_module_version": "1.5.0",
            "_view_name": "HTMLView",
            "description": "",
            "description_tooltip": null,
            "layout": "IPY_MODEL_145b2b94f79641b9aadd7d6770a86bcb",
            "placeholder": "​",
            "style": "IPY_MODEL_4de5dcf4c78b4b7187c78d9d207b34c7",
            "value": " 466k/466k [00:00&lt;00:00, 22.1MB/s]"
          }
        },
        "c70fde634258472a9974d9b517a8f9c6": {
          "model_module": "@jupyter-widgets/base",
          "model_name": "LayoutModel",
          "model_module_version": "1.2.0",
          "state": {
            "_model_module": "@jupyter-widgets/base",
            "_model_module_version": "1.2.0",
            "_model_name": "LayoutModel",
            "_view_count": null,
            "_view_module": "@jupyter-widgets/base",
            "_view_module_version": "1.2.0",
            "_view_name": "LayoutView",
            "align_content": null,
            "align_items": null,
            "align_self": null,
            "border": null,
            "bottom": null,
            "display": null,
            "flex": null,
            "flex_flow": null,
            "grid_area": null,
            "grid_auto_columns": null,
            "grid_auto_flow": null,
            "grid_auto_rows": null,
            "grid_column": null,
            "grid_gap": null,
            "grid_row": null,
            "grid_template_areas": null,
            "grid_template_columns": null,
            "grid_template_rows": null,
            "height": null,
            "justify_content": null,
            "justify_items": null,
            "left": null,
            "margin": null,
            "max_height": null,
            "max_width": null,
            "min_height": null,
            "min_width": null,
            "object_fit": null,
            "object_position": null,
            "order": null,
            "overflow": null,
            "overflow_x": null,
            "overflow_y": null,
            "padding": null,
            "right": null,
            "top": null,
            "visibility": null,
            "width": null
          }
        },
        "ececca6a18fc483ba391f20ee8a78cc9": {
          "model_module": "@jupyter-widgets/base",
          "model_name": "LayoutModel",
          "model_module_version": "1.2.0",
          "state": {
            "_model_module": "@jupyter-widgets/base",
            "_model_module_version": "1.2.0",
            "_model_name": "LayoutModel",
            "_view_count": null,
            "_view_module": "@jupyter-widgets/base",
            "_view_module_version": "1.2.0",
            "_view_name": "LayoutView",
            "align_content": null,
            "align_items": null,
            "align_self": null,
            "border": null,
            "bottom": null,
            "display": null,
            "flex": null,
            "flex_flow": null,
            "grid_area": null,
            "grid_auto_columns": null,
            "grid_auto_flow": null,
            "grid_auto_rows": null,
            "grid_column": null,
            "grid_gap": null,
            "grid_row": null,
            "grid_template_areas": null,
            "grid_template_columns": null,
            "grid_template_rows": null,
            "height": null,
            "justify_content": null,
            "justify_items": null,
            "left": null,
            "margin": null,
            "max_height": null,
            "max_width": null,
            "min_height": null,
            "min_width": null,
            "object_fit": null,
            "object_position": null,
            "order": null,
            "overflow": null,
            "overflow_x": null,
            "overflow_y": null,
            "padding": null,
            "right": null,
            "top": null,
            "visibility": null,
            "width": null
          }
        },
        "56f432df3454440db5aa98dd29dd6089": {
          "model_module": "@jupyter-widgets/controls",
          "model_name": "DescriptionStyleModel",
          "model_module_version": "1.5.0",
          "state": {
            "_model_module": "@jupyter-widgets/controls",
            "_model_module_version": "1.5.0",
            "_model_name": "DescriptionStyleModel",
            "_view_count": null,
            "_view_module": "@jupyter-widgets/base",
            "_view_module_version": "1.2.0",
            "_view_name": "StyleView",
            "description_width": ""
          }
        },
        "c99bbba048b049d29ec8a60b8a1a42dc": {
          "model_module": "@jupyter-widgets/base",
          "model_name": "LayoutModel",
          "model_module_version": "1.2.0",
          "state": {
            "_model_module": "@jupyter-widgets/base",
            "_model_module_version": "1.2.0",
            "_model_name": "LayoutModel",
            "_view_count": null,
            "_view_module": "@jupyter-widgets/base",
            "_view_module_version": "1.2.0",
            "_view_name": "LayoutView",
            "align_content": null,
            "align_items": null,
            "align_self": null,
            "border": null,
            "bottom": null,
            "display": null,
            "flex": null,
            "flex_flow": null,
            "grid_area": null,
            "grid_auto_columns": null,
            "grid_auto_flow": null,
            "grid_auto_rows": null,
            "grid_column": null,
            "grid_gap": null,
            "grid_row": null,
            "grid_template_areas": null,
            "grid_template_columns": null,
            "grid_template_rows": null,
            "height": null,
            "justify_content": null,
            "justify_items": null,
            "left": null,
            "margin": null,
            "max_height": null,
            "max_width": null,
            "min_height": null,
            "min_width": null,
            "object_fit": null,
            "object_position": null,
            "order": null,
            "overflow": null,
            "overflow_x": null,
            "overflow_y": null,
            "padding": null,
            "right": null,
            "top": null,
            "visibility": null,
            "width": null
          }
        },
        "bf6283c4adcf4923bf9b79b6d6f45448": {
          "model_module": "@jupyter-widgets/controls",
          "model_name": "ProgressStyleModel",
          "model_module_version": "1.5.0",
          "state": {
            "_model_module": "@jupyter-widgets/controls",
            "_model_module_version": "1.5.0",
            "_model_name": "ProgressStyleModel",
            "_view_count": null,
            "_view_module": "@jupyter-widgets/base",
            "_view_module_version": "1.2.0",
            "_view_name": "StyleView",
            "bar_color": null,
            "description_width": ""
          }
        },
        "145b2b94f79641b9aadd7d6770a86bcb": {
          "model_module": "@jupyter-widgets/base",
          "model_name": "LayoutModel",
          "model_module_version": "1.2.0",
          "state": {
            "_model_module": "@jupyter-widgets/base",
            "_model_module_version": "1.2.0",
            "_model_name": "LayoutModel",
            "_view_count": null,
            "_view_module": "@jupyter-widgets/base",
            "_view_module_version": "1.2.0",
            "_view_name": "LayoutView",
            "align_content": null,
            "align_items": null,
            "align_self": null,
            "border": null,
            "bottom": null,
            "display": null,
            "flex": null,
            "flex_flow": null,
            "grid_area": null,
            "grid_auto_columns": null,
            "grid_auto_flow": null,
            "grid_auto_rows": null,
            "grid_column": null,
            "grid_gap": null,
            "grid_row": null,
            "grid_template_areas": null,
            "grid_template_columns": null,
            "grid_template_rows": null,
            "height": null,
            "justify_content": null,
            "justify_items": null,
            "left": null,
            "margin": null,
            "max_height": null,
            "max_width": null,
            "min_height": null,
            "min_width": null,
            "object_fit": null,
            "object_position": null,
            "order": null,
            "overflow": null,
            "overflow_x": null,
            "overflow_y": null,
            "padding": null,
            "right": null,
            "top": null,
            "visibility": null,
            "width": null
          }
        },
        "4de5dcf4c78b4b7187c78d9d207b34c7": {
          "model_module": "@jupyter-widgets/controls",
          "model_name": "DescriptionStyleModel",
          "model_module_version": "1.5.0",
          "state": {
            "_model_module": "@jupyter-widgets/controls",
            "_model_module_version": "1.5.0",
            "_model_name": "DescriptionStyleModel",
            "_view_count": null,
            "_view_module": "@jupyter-widgets/base",
            "_view_module_version": "1.2.0",
            "_view_name": "StyleView",
            "description_width": ""
          }
        },
        "c71a3de754d044ab81a358456da22831": {
          "model_module": "@jupyter-widgets/controls",
          "model_name": "HBoxModel",
          "model_module_version": "1.5.0",
          "state": {
            "_dom_classes": [],
            "_model_module": "@jupyter-widgets/controls",
            "_model_module_version": "1.5.0",
            "_model_name": "HBoxModel",
            "_view_count": null,
            "_view_module": "@jupyter-widgets/controls",
            "_view_module_version": "1.5.0",
            "_view_name": "HBoxView",
            "box_style": "",
            "children": [
              "IPY_MODEL_ad49f02620294171b83d304add2ac0e6",
              "IPY_MODEL_8ca89e055ccd467cbec768046129b6d7",
              "IPY_MODEL_f5200599bb4040629f8d15e77ecd7bf4"
            ],
            "layout": "IPY_MODEL_eae1c017fffc435c81e161270283fc17"
          }
        },
        "ad49f02620294171b83d304add2ac0e6": {
          "model_module": "@jupyter-widgets/controls",
          "model_name": "HTMLModel",
          "model_module_version": "1.5.0",
          "state": {
            "_dom_classes": [],
            "_model_module": "@jupyter-widgets/controls",
            "_model_module_version": "1.5.0",
            "_model_name": "HTMLModel",
            "_view_count": null,
            "_view_module": "@jupyter-widgets/controls",
            "_view_module_version": "1.5.0",
            "_view_name": "HTMLView",
            "description": "",
            "description_tooltip": null,
            "layout": "IPY_MODEL_ab04dd893a7d4937882a48f5c3aed67e",
            "placeholder": "​",
            "style": "IPY_MODEL_dbf6bbed17df4ea3bec779f1d11e8740",
            "value": "config.json: 100%"
          }
        },
        "8ca89e055ccd467cbec768046129b6d7": {
          "model_module": "@jupyter-widgets/controls",
          "model_name": "FloatProgressModel",
          "model_module_version": "1.5.0",
          "state": {
            "_dom_classes": [],
            "_model_module": "@jupyter-widgets/controls",
            "_model_module_version": "1.5.0",
            "_model_name": "FloatProgressModel",
            "_view_count": null,
            "_view_module": "@jupyter-widgets/controls",
            "_view_module_version": "1.5.0",
            "_view_name": "ProgressView",
            "bar_style": "success",
            "description": "",
            "description_tooltip": null,
            "layout": "IPY_MODEL_ef06acc9427944a4b53a25c648a5842c",
            "max": 571,
            "min": 0,
            "orientation": "horizontal",
            "style": "IPY_MODEL_77ebd7fd02354271be5454873f0b11c5",
            "value": 571
          }
        },
        "f5200599bb4040629f8d15e77ecd7bf4": {
          "model_module": "@jupyter-widgets/controls",
          "model_name": "HTMLModel",
          "model_module_version": "1.5.0",
          "state": {
            "_dom_classes": [],
            "_model_module": "@jupyter-widgets/controls",
            "_model_module_version": "1.5.0",
            "_model_name": "HTMLModel",
            "_view_count": null,
            "_view_module": "@jupyter-widgets/controls",
            "_view_module_version": "1.5.0",
            "_view_name": "HTMLView",
            "description": "",
            "description_tooltip": null,
            "layout": "IPY_MODEL_a2e25c591ca24181b3d4fcf5912276fe",
            "placeholder": "​",
            "style": "IPY_MODEL_9da1717e06ee4c028392f1d099adc236",
            "value": " 571/571 [00:00&lt;00:00, 51.9kB/s]"
          }
        },
        "eae1c017fffc435c81e161270283fc17": {
          "model_module": "@jupyter-widgets/base",
          "model_name": "LayoutModel",
          "model_module_version": "1.2.0",
          "state": {
            "_model_module": "@jupyter-widgets/base",
            "_model_module_version": "1.2.0",
            "_model_name": "LayoutModel",
            "_view_count": null,
            "_view_module": "@jupyter-widgets/base",
            "_view_module_version": "1.2.0",
            "_view_name": "LayoutView",
            "align_content": null,
            "align_items": null,
            "align_self": null,
            "border": null,
            "bottom": null,
            "display": null,
            "flex": null,
            "flex_flow": null,
            "grid_area": null,
            "grid_auto_columns": null,
            "grid_auto_flow": null,
            "grid_auto_rows": null,
            "grid_column": null,
            "grid_gap": null,
            "grid_row": null,
            "grid_template_areas": null,
            "grid_template_columns": null,
            "grid_template_rows": null,
            "height": null,
            "justify_content": null,
            "justify_items": null,
            "left": null,
            "margin": null,
            "max_height": null,
            "max_width": null,
            "min_height": null,
            "min_width": null,
            "object_fit": null,
            "object_position": null,
            "order": null,
            "overflow": null,
            "overflow_x": null,
            "overflow_y": null,
            "padding": null,
            "right": null,
            "top": null,
            "visibility": null,
            "width": null
          }
        },
        "ab04dd893a7d4937882a48f5c3aed67e": {
          "model_module": "@jupyter-widgets/base",
          "model_name": "LayoutModel",
          "model_module_version": "1.2.0",
          "state": {
            "_model_module": "@jupyter-widgets/base",
            "_model_module_version": "1.2.0",
            "_model_name": "LayoutModel",
            "_view_count": null,
            "_view_module": "@jupyter-widgets/base",
            "_view_module_version": "1.2.0",
            "_view_name": "LayoutView",
            "align_content": null,
            "align_items": null,
            "align_self": null,
            "border": null,
            "bottom": null,
            "display": null,
            "flex": null,
            "flex_flow": null,
            "grid_area": null,
            "grid_auto_columns": null,
            "grid_auto_flow": null,
            "grid_auto_rows": null,
            "grid_column": null,
            "grid_gap": null,
            "grid_row": null,
            "grid_template_areas": null,
            "grid_template_columns": null,
            "grid_template_rows": null,
            "height": null,
            "justify_content": null,
            "justify_items": null,
            "left": null,
            "margin": null,
            "max_height": null,
            "max_width": null,
            "min_height": null,
            "min_width": null,
            "object_fit": null,
            "object_position": null,
            "order": null,
            "overflow": null,
            "overflow_x": null,
            "overflow_y": null,
            "padding": null,
            "right": null,
            "top": null,
            "visibility": null,
            "width": null
          }
        },
        "dbf6bbed17df4ea3bec779f1d11e8740": {
          "model_module": "@jupyter-widgets/controls",
          "model_name": "DescriptionStyleModel",
          "model_module_version": "1.5.0",
          "state": {
            "_model_module": "@jupyter-widgets/controls",
            "_model_module_version": "1.5.0",
            "_model_name": "DescriptionStyleModel",
            "_view_count": null,
            "_view_module": "@jupyter-widgets/base",
            "_view_module_version": "1.2.0",
            "_view_name": "StyleView",
            "description_width": ""
          }
        },
        "ef06acc9427944a4b53a25c648a5842c": {
          "model_module": "@jupyter-widgets/base",
          "model_name": "LayoutModel",
          "model_module_version": "1.2.0",
          "state": {
            "_model_module": "@jupyter-widgets/base",
            "_model_module_version": "1.2.0",
            "_model_name": "LayoutModel",
            "_view_count": null,
            "_view_module": "@jupyter-widgets/base",
            "_view_module_version": "1.2.0",
            "_view_name": "LayoutView",
            "align_content": null,
            "align_items": null,
            "align_self": null,
            "border": null,
            "bottom": null,
            "display": null,
            "flex": null,
            "flex_flow": null,
            "grid_area": null,
            "grid_auto_columns": null,
            "grid_auto_flow": null,
            "grid_auto_rows": null,
            "grid_column": null,
            "grid_gap": null,
            "grid_row": null,
            "grid_template_areas": null,
            "grid_template_columns": null,
            "grid_template_rows": null,
            "height": null,
            "justify_content": null,
            "justify_items": null,
            "left": null,
            "margin": null,
            "max_height": null,
            "max_width": null,
            "min_height": null,
            "min_width": null,
            "object_fit": null,
            "object_position": null,
            "order": null,
            "overflow": null,
            "overflow_x": null,
            "overflow_y": null,
            "padding": null,
            "right": null,
            "top": null,
            "visibility": null,
            "width": null
          }
        },
        "77ebd7fd02354271be5454873f0b11c5": {
          "model_module": "@jupyter-widgets/controls",
          "model_name": "ProgressStyleModel",
          "model_module_version": "1.5.0",
          "state": {
            "_model_module": "@jupyter-widgets/controls",
            "_model_module_version": "1.5.0",
            "_model_name": "ProgressStyleModel",
            "_view_count": null,
            "_view_module": "@jupyter-widgets/base",
            "_view_module_version": "1.2.0",
            "_view_name": "StyleView",
            "bar_color": null,
            "description_width": ""
          }
        },
        "a2e25c591ca24181b3d4fcf5912276fe": {
          "model_module": "@jupyter-widgets/base",
          "model_name": "LayoutModel",
          "model_module_version": "1.2.0",
          "state": {
            "_model_module": "@jupyter-widgets/base",
            "_model_module_version": "1.2.0",
            "_model_name": "LayoutModel",
            "_view_count": null,
            "_view_module": "@jupyter-widgets/base",
            "_view_module_version": "1.2.0",
            "_view_name": "LayoutView",
            "align_content": null,
            "align_items": null,
            "align_self": null,
            "border": null,
            "bottom": null,
            "display": null,
            "flex": null,
            "flex_flow": null,
            "grid_area": null,
            "grid_auto_columns": null,
            "grid_auto_flow": null,
            "grid_auto_rows": null,
            "grid_column": null,
            "grid_gap": null,
            "grid_row": null,
            "grid_template_areas": null,
            "grid_template_columns": null,
            "grid_template_rows": null,
            "height": null,
            "justify_content": null,
            "justify_items": null,
            "left": null,
            "margin": null,
            "max_height": null,
            "max_width": null,
            "min_height": null,
            "min_width": null,
            "object_fit": null,
            "object_position": null,
            "order": null,
            "overflow": null,
            "overflow_x": null,
            "overflow_y": null,
            "padding": null,
            "right": null,
            "top": null,
            "visibility": null,
            "width": null
          }
        },
        "9da1717e06ee4c028392f1d099adc236": {
          "model_module": "@jupyter-widgets/controls",
          "model_name": "DescriptionStyleModel",
          "model_module_version": "1.5.0",
          "state": {
            "_model_module": "@jupyter-widgets/controls",
            "_model_module_version": "1.5.0",
            "_model_name": "DescriptionStyleModel",
            "_view_count": null,
            "_view_module": "@jupyter-widgets/base",
            "_view_module_version": "1.2.0",
            "_view_name": "StyleView",
            "description_width": ""
          }
        },
        "71aff69a78a449fdbc086a81f0946c6a": {
          "model_module": "@jupyter-widgets/controls",
          "model_name": "HBoxModel",
          "model_module_version": "1.5.0",
          "state": {
            "_dom_classes": [],
            "_model_module": "@jupyter-widgets/controls",
            "_model_module_version": "1.5.0",
            "_model_name": "HBoxModel",
            "_view_count": null,
            "_view_module": "@jupyter-widgets/controls",
            "_view_module_version": "1.5.0",
            "_view_name": "HBoxView",
            "box_style": "",
            "children": [
              "IPY_MODEL_53fe8ce0d887469ca4488a72c94360cc",
              "IPY_MODEL_578bf05f343d450db42924d761d3c551",
              "IPY_MODEL_772ff6f2d162409db3faeb6db2a776de"
            ],
            "layout": "IPY_MODEL_2dfca90ee8ee4d2e8048a06eeda19f9c"
          }
        },
        "53fe8ce0d887469ca4488a72c94360cc": {
          "model_module": "@jupyter-widgets/controls",
          "model_name": "HTMLModel",
          "model_module_version": "1.5.0",
          "state": {
            "_dom_classes": [],
            "_model_module": "@jupyter-widgets/controls",
            "_model_module_version": "1.5.0",
            "_model_name": "HTMLModel",
            "_view_count": null,
            "_view_module": "@jupyter-widgets/controls",
            "_view_module_version": "1.5.0",
            "_view_name": "HTMLView",
            "description": "",
            "description_tooltip": null,
            "layout": "IPY_MODEL_d6e0dadffb824a1d8d210e72e2f4aa5e",
            "placeholder": "​",
            "style": "IPY_MODEL_701dd6f1fb26402f9723bce9da06ae51",
            "value": "model.safetensors: 100%"
          }
        },
        "578bf05f343d450db42924d761d3c551": {
          "model_module": "@jupyter-widgets/controls",
          "model_name": "FloatProgressModel",
          "model_module_version": "1.5.0",
          "state": {
            "_dom_classes": [],
            "_model_module": "@jupyter-widgets/controls",
            "_model_module_version": "1.5.0",
            "_model_name": "FloatProgressModel",
            "_view_count": null,
            "_view_module": "@jupyter-widgets/controls",
            "_view_module_version": "1.5.0",
            "_view_name": "ProgressView",
            "bar_style": "success",
            "description": "",
            "description_tooltip": null,
            "layout": "IPY_MODEL_acc08bd975494a7c9658a274da7bf7d4",
            "max": 1344951957,
            "min": 0,
            "orientation": "horizontal",
            "style": "IPY_MODEL_51adb3640e67420e956efee7e4d73306",
            "value": 1344951957
          }
        },
        "772ff6f2d162409db3faeb6db2a776de": {
          "model_module": "@jupyter-widgets/controls",
          "model_name": "HTMLModel",
          "model_module_version": "1.5.0",
          "state": {
            "_dom_classes": [],
            "_model_module": "@jupyter-widgets/controls",
            "_model_module_version": "1.5.0",
            "_model_name": "HTMLModel",
            "_view_count": null,
            "_view_module": "@jupyter-widgets/controls",
            "_view_module_version": "1.5.0",
            "_view_name": "HTMLView",
            "description": "",
            "description_tooltip": null,
            "layout": "IPY_MODEL_ec46ed256dc3428ab95500dbe6916c83",
            "placeholder": "​",
            "style": "IPY_MODEL_1577fd5d858946e2aefac648a5deb915",
            "value": " 1.34G/1.34G [00:06&lt;00:00, 226MB/s]"
          }
        },
        "2dfca90ee8ee4d2e8048a06eeda19f9c": {
          "model_module": "@jupyter-widgets/base",
          "model_name": "LayoutModel",
          "model_module_version": "1.2.0",
          "state": {
            "_model_module": "@jupyter-widgets/base",
            "_model_module_version": "1.2.0",
            "_model_name": "LayoutModel",
            "_view_count": null,
            "_view_module": "@jupyter-widgets/base",
            "_view_module_version": "1.2.0",
            "_view_name": "LayoutView",
            "align_content": null,
            "align_items": null,
            "align_self": null,
            "border": null,
            "bottom": null,
            "display": null,
            "flex": null,
            "flex_flow": null,
            "grid_area": null,
            "grid_auto_columns": null,
            "grid_auto_flow": null,
            "grid_auto_rows": null,
            "grid_column": null,
            "grid_gap": null,
            "grid_row": null,
            "grid_template_areas": null,
            "grid_template_columns": null,
            "grid_template_rows": null,
            "height": null,
            "justify_content": null,
            "justify_items": null,
            "left": null,
            "margin": null,
            "max_height": null,
            "max_width": null,
            "min_height": null,
            "min_width": null,
            "object_fit": null,
            "object_position": null,
            "order": null,
            "overflow": null,
            "overflow_x": null,
            "overflow_y": null,
            "padding": null,
            "right": null,
            "top": null,
            "visibility": null,
            "width": null
          }
        },
        "d6e0dadffb824a1d8d210e72e2f4aa5e": {
          "model_module": "@jupyter-widgets/base",
          "model_name": "LayoutModel",
          "model_module_version": "1.2.0",
          "state": {
            "_model_module": "@jupyter-widgets/base",
            "_model_module_version": "1.2.0",
            "_model_name": "LayoutModel",
            "_view_count": null,
            "_view_module": "@jupyter-widgets/base",
            "_view_module_version": "1.2.0",
            "_view_name": "LayoutView",
            "align_content": null,
            "align_items": null,
            "align_self": null,
            "border": null,
            "bottom": null,
            "display": null,
            "flex": null,
            "flex_flow": null,
            "grid_area": null,
            "grid_auto_columns": null,
            "grid_auto_flow": null,
            "grid_auto_rows": null,
            "grid_column": null,
            "grid_gap": null,
            "grid_row": null,
            "grid_template_areas": null,
            "grid_template_columns": null,
            "grid_template_rows": null,
            "height": null,
            "justify_content": null,
            "justify_items": null,
            "left": null,
            "margin": null,
            "max_height": null,
            "max_width": null,
            "min_height": null,
            "min_width": null,
            "object_fit": null,
            "object_position": null,
            "order": null,
            "overflow": null,
            "overflow_x": null,
            "overflow_y": null,
            "padding": null,
            "right": null,
            "top": null,
            "visibility": null,
            "width": null
          }
        },
        "701dd6f1fb26402f9723bce9da06ae51": {
          "model_module": "@jupyter-widgets/controls",
          "model_name": "DescriptionStyleModel",
          "model_module_version": "1.5.0",
          "state": {
            "_model_module": "@jupyter-widgets/controls",
            "_model_module_version": "1.5.0",
            "_model_name": "DescriptionStyleModel",
            "_view_count": null,
            "_view_module": "@jupyter-widgets/base",
            "_view_module_version": "1.2.0",
            "_view_name": "StyleView",
            "description_width": ""
          }
        },
        "acc08bd975494a7c9658a274da7bf7d4": {
          "model_module": "@jupyter-widgets/base",
          "model_name": "LayoutModel",
          "model_module_version": "1.2.0",
          "state": {
            "_model_module": "@jupyter-widgets/base",
            "_model_module_version": "1.2.0",
            "_model_name": "LayoutModel",
            "_view_count": null,
            "_view_module": "@jupyter-widgets/base",
            "_view_module_version": "1.2.0",
            "_view_name": "LayoutView",
            "align_content": null,
            "align_items": null,
            "align_self": null,
            "border": null,
            "bottom": null,
            "display": null,
            "flex": null,
            "flex_flow": null,
            "grid_area": null,
            "grid_auto_columns": null,
            "grid_auto_flow": null,
            "grid_auto_rows": null,
            "grid_column": null,
            "grid_gap": null,
            "grid_row": null,
            "grid_template_areas": null,
            "grid_template_columns": null,
            "grid_template_rows": null,
            "height": null,
            "justify_content": null,
            "justify_items": null,
            "left": null,
            "margin": null,
            "max_height": null,
            "max_width": null,
            "min_height": null,
            "min_width": null,
            "object_fit": null,
            "object_position": null,
            "order": null,
            "overflow": null,
            "overflow_x": null,
            "overflow_y": null,
            "padding": null,
            "right": null,
            "top": null,
            "visibility": null,
            "width": null
          }
        },
        "51adb3640e67420e956efee7e4d73306": {
          "model_module": "@jupyter-widgets/controls",
          "model_name": "ProgressStyleModel",
          "model_module_version": "1.5.0",
          "state": {
            "_model_module": "@jupyter-widgets/controls",
            "_model_module_version": "1.5.0",
            "_model_name": "ProgressStyleModel",
            "_view_count": null,
            "_view_module": "@jupyter-widgets/base",
            "_view_module_version": "1.2.0",
            "_view_name": "StyleView",
            "bar_color": null,
            "description_width": ""
          }
        },
        "ec46ed256dc3428ab95500dbe6916c83": {
          "model_module": "@jupyter-widgets/base",
          "model_name": "LayoutModel",
          "model_module_version": "1.2.0",
          "state": {
            "_model_module": "@jupyter-widgets/base",
            "_model_module_version": "1.2.0",
            "_model_name": "LayoutModel",
            "_view_count": null,
            "_view_module": "@jupyter-widgets/base",
            "_view_module_version": "1.2.0",
            "_view_name": "LayoutView",
            "align_content": null,
            "align_items": null,
            "align_self": null,
            "border": null,
            "bottom": null,
            "display": null,
            "flex": null,
            "flex_flow": null,
            "grid_area": null,
            "grid_auto_columns": null,
            "grid_auto_flow": null,
            "grid_auto_rows": null,
            "grid_column": null,
            "grid_gap": null,
            "grid_row": null,
            "grid_template_areas": null,
            "grid_template_columns": null,
            "grid_template_rows": null,
            "height": null,
            "justify_content": null,
            "justify_items": null,
            "left": null,
            "margin": null,
            "max_height": null,
            "max_width": null,
            "min_height": null,
            "min_width": null,
            "object_fit": null,
            "object_position": null,
            "order": null,
            "overflow": null,
            "overflow_x": null,
            "overflow_y": null,
            "padding": null,
            "right": null,
            "top": null,
            "visibility": null,
            "width": null
          }
        },
        "1577fd5d858946e2aefac648a5deb915": {
          "model_module": "@jupyter-widgets/controls",
          "model_name": "DescriptionStyleModel",
          "model_module_version": "1.5.0",
          "state": {
            "_model_module": "@jupyter-widgets/controls",
            "_model_module_version": "1.5.0",
            "_model_name": "DescriptionStyleModel",
            "_view_count": null,
            "_view_module": "@jupyter-widgets/base",
            "_view_module_version": "1.2.0",
            "_view_name": "StyleView",
            "description_width": ""
          }
        },
        "94285776d9224204a541bebfef133536": {
          "model_module": "@jupyter-widgets/controls",
          "model_name": "HBoxModel",
          "model_module_version": "1.5.0",
          "state": {
            "_dom_classes": [],
            "_model_module": "@jupyter-widgets/controls",
            "_model_module_version": "1.5.0",
            "_model_name": "HBoxModel",
            "_view_count": null,
            "_view_module": "@jupyter-widgets/controls",
            "_view_module_version": "1.5.0",
            "_view_name": "HBoxView",
            "box_style": "",
            "children": [
              "IPY_MODEL_87832406a31c4e04b8975e11b1b52511",
              "IPY_MODEL_1cab6225535642e6bb82f7262eb76d3d",
              "IPY_MODEL_e63a7ddd92b243ada45a646475b215f1"
            ],
            "layout": "IPY_MODEL_8f3dde99b9414f68a82f4647662eb141"
          }
        },
        "87832406a31c4e04b8975e11b1b52511": {
          "model_module": "@jupyter-widgets/controls",
          "model_name": "HTMLModel",
          "model_module_version": "1.5.0",
          "state": {
            "_dom_classes": [],
            "_model_module": "@jupyter-widgets/controls",
            "_model_module_version": "1.5.0",
            "_model_name": "HTMLModel",
            "_view_count": null,
            "_view_module": "@jupyter-widgets/controls",
            "_view_module_version": "1.5.0",
            "_view_name": "HTMLView",
            "description": "",
            "description_tooltip": null,
            "layout": "IPY_MODEL_406a4a8f389a46ad8e5eb107b93d6788",
            "placeholder": "​",
            "style": "IPY_MODEL_1c762fe3d8fe460ea69ac21f3b884994",
            "value": "tokenizer_config.json: 100%"
          }
        },
        "1cab6225535642e6bb82f7262eb76d3d": {
          "model_module": "@jupyter-widgets/controls",
          "model_name": "FloatProgressModel",
          "model_module_version": "1.5.0",
          "state": {
            "_dom_classes": [],
            "_model_module": "@jupyter-widgets/controls",
            "_model_module_version": "1.5.0",
            "_model_name": "FloatProgressModel",
            "_view_count": null,
            "_view_module": "@jupyter-widgets/controls",
            "_view_module_version": "1.5.0",
            "_view_name": "ProgressView",
            "bar_style": "success",
            "description": "",
            "description_tooltip": null,
            "layout": "IPY_MODEL_2e8a1ab347bf4d06a9563263c62f97d7",
            "max": 25,
            "min": 0,
            "orientation": "horizontal",
            "style": "IPY_MODEL_a2c11a9f22e949269817658bda7bd34a",
            "value": 25
          }
        },
        "e63a7ddd92b243ada45a646475b215f1": {
          "model_module": "@jupyter-widgets/controls",
          "model_name": "HTMLModel",
          "model_module_version": "1.5.0",
          "state": {
            "_dom_classes": [],
            "_model_module": "@jupyter-widgets/controls",
            "_model_module_version": "1.5.0",
            "_model_name": "HTMLModel",
            "_view_count": null,
            "_view_module": "@jupyter-widgets/controls",
            "_view_module_version": "1.5.0",
            "_view_name": "HTMLView",
            "description": "",
            "description_tooltip": null,
            "layout": "IPY_MODEL_54802b8f724e4ebf85d8bda67c759e6c",
            "placeholder": "​",
            "style": "IPY_MODEL_b3d5a0fb35414dd2871851dad28c8c47",
            "value": " 25.0/25.0 [00:00&lt;00:00, 2.10kB/s]"
          }
        },
        "8f3dde99b9414f68a82f4647662eb141": {
          "model_module": "@jupyter-widgets/base",
          "model_name": "LayoutModel",
          "model_module_version": "1.2.0",
          "state": {
            "_model_module": "@jupyter-widgets/base",
            "_model_module_version": "1.2.0",
            "_model_name": "LayoutModel",
            "_view_count": null,
            "_view_module": "@jupyter-widgets/base",
            "_view_module_version": "1.2.0",
            "_view_name": "LayoutView",
            "align_content": null,
            "align_items": null,
            "align_self": null,
            "border": null,
            "bottom": null,
            "display": null,
            "flex": null,
            "flex_flow": null,
            "grid_area": null,
            "grid_auto_columns": null,
            "grid_auto_flow": null,
            "grid_auto_rows": null,
            "grid_column": null,
            "grid_gap": null,
            "grid_row": null,
            "grid_template_areas": null,
            "grid_template_columns": null,
            "grid_template_rows": null,
            "height": null,
            "justify_content": null,
            "justify_items": null,
            "left": null,
            "margin": null,
            "max_height": null,
            "max_width": null,
            "min_height": null,
            "min_width": null,
            "object_fit": null,
            "object_position": null,
            "order": null,
            "overflow": null,
            "overflow_x": null,
            "overflow_y": null,
            "padding": null,
            "right": null,
            "top": null,
            "visibility": null,
            "width": null
          }
        },
        "406a4a8f389a46ad8e5eb107b93d6788": {
          "model_module": "@jupyter-widgets/base",
          "model_name": "LayoutModel",
          "model_module_version": "1.2.0",
          "state": {
            "_model_module": "@jupyter-widgets/base",
            "_model_module_version": "1.2.0",
            "_model_name": "LayoutModel",
            "_view_count": null,
            "_view_module": "@jupyter-widgets/base",
            "_view_module_version": "1.2.0",
            "_view_name": "LayoutView",
            "align_content": null,
            "align_items": null,
            "align_self": null,
            "border": null,
            "bottom": null,
            "display": null,
            "flex": null,
            "flex_flow": null,
            "grid_area": null,
            "grid_auto_columns": null,
            "grid_auto_flow": null,
            "grid_auto_rows": null,
            "grid_column": null,
            "grid_gap": null,
            "grid_row": null,
            "grid_template_areas": null,
            "grid_template_columns": null,
            "grid_template_rows": null,
            "height": null,
            "justify_content": null,
            "justify_items": null,
            "left": null,
            "margin": null,
            "max_height": null,
            "max_width": null,
            "min_height": null,
            "min_width": null,
            "object_fit": null,
            "object_position": null,
            "order": null,
            "overflow": null,
            "overflow_x": null,
            "overflow_y": null,
            "padding": null,
            "right": null,
            "top": null,
            "visibility": null,
            "width": null
          }
        },
        "1c762fe3d8fe460ea69ac21f3b884994": {
          "model_module": "@jupyter-widgets/controls",
          "model_name": "DescriptionStyleModel",
          "model_module_version": "1.5.0",
          "state": {
            "_model_module": "@jupyter-widgets/controls",
            "_model_module_version": "1.5.0",
            "_model_name": "DescriptionStyleModel",
            "_view_count": null,
            "_view_module": "@jupyter-widgets/base",
            "_view_module_version": "1.2.0",
            "_view_name": "StyleView",
            "description_width": ""
          }
        },
        "2e8a1ab347bf4d06a9563263c62f97d7": {
          "model_module": "@jupyter-widgets/base",
          "model_name": "LayoutModel",
          "model_module_version": "1.2.0",
          "state": {
            "_model_module": "@jupyter-widgets/base",
            "_model_module_version": "1.2.0",
            "_model_name": "LayoutModel",
            "_view_count": null,
            "_view_module": "@jupyter-widgets/base",
            "_view_module_version": "1.2.0",
            "_view_name": "LayoutView",
            "align_content": null,
            "align_items": null,
            "align_self": null,
            "border": null,
            "bottom": null,
            "display": null,
            "flex": null,
            "flex_flow": null,
            "grid_area": null,
            "grid_auto_columns": null,
            "grid_auto_flow": null,
            "grid_auto_rows": null,
            "grid_column": null,
            "grid_gap": null,
            "grid_row": null,
            "grid_template_areas": null,
            "grid_template_columns": null,
            "grid_template_rows": null,
            "height": null,
            "justify_content": null,
            "justify_items": null,
            "left": null,
            "margin": null,
            "max_height": null,
            "max_width": null,
            "min_height": null,
            "min_width": null,
            "object_fit": null,
            "object_position": null,
            "order": null,
            "overflow": null,
            "overflow_x": null,
            "overflow_y": null,
            "padding": null,
            "right": null,
            "top": null,
            "visibility": null,
            "width": null
          }
        },
        "a2c11a9f22e949269817658bda7bd34a": {
          "model_module": "@jupyter-widgets/controls",
          "model_name": "ProgressStyleModel",
          "model_module_version": "1.5.0",
          "state": {
            "_model_module": "@jupyter-widgets/controls",
            "_model_module_version": "1.5.0",
            "_model_name": "ProgressStyleModel",
            "_view_count": null,
            "_view_module": "@jupyter-widgets/base",
            "_view_module_version": "1.2.0",
            "_view_name": "StyleView",
            "bar_color": null,
            "description_width": ""
          }
        },
        "54802b8f724e4ebf85d8bda67c759e6c": {
          "model_module": "@jupyter-widgets/base",
          "model_name": "LayoutModel",
          "model_module_version": "1.2.0",
          "state": {
            "_model_module": "@jupyter-widgets/base",
            "_model_module_version": "1.2.0",
            "_model_name": "LayoutModel",
            "_view_count": null,
            "_view_module": "@jupyter-widgets/base",
            "_view_module_version": "1.2.0",
            "_view_name": "LayoutView",
            "align_content": null,
            "align_items": null,
            "align_self": null,
            "border": null,
            "bottom": null,
            "display": null,
            "flex": null,
            "flex_flow": null,
            "grid_area": null,
            "grid_auto_columns": null,
            "grid_auto_flow": null,
            "grid_auto_rows": null,
            "grid_column": null,
            "grid_gap": null,
            "grid_row": null,
            "grid_template_areas": null,
            "grid_template_columns": null,
            "grid_template_rows": null,
            "height": null,
            "justify_content": null,
            "justify_items": null,
            "left": null,
            "margin": null,
            "max_height": null,
            "max_width": null,
            "min_height": null,
            "min_width": null,
            "object_fit": null,
            "object_position": null,
            "order": null,
            "overflow": null,
            "overflow_x": null,
            "overflow_y": null,
            "padding": null,
            "right": null,
            "top": null,
            "visibility": null,
            "width": null
          }
        },
        "b3d5a0fb35414dd2871851dad28c8c47": {
          "model_module": "@jupyter-widgets/controls",
          "model_name": "DescriptionStyleModel",
          "model_module_version": "1.5.0",
          "state": {
            "_model_module": "@jupyter-widgets/controls",
            "_model_module_version": "1.5.0",
            "_model_name": "DescriptionStyleModel",
            "_view_count": null,
            "_view_module": "@jupyter-widgets/base",
            "_view_module_version": "1.2.0",
            "_view_name": "StyleView",
            "description_width": ""
          }
        },
        "95580bf5991944c995a7d07b162a2eb4": {
          "model_module": "@jupyter-widgets/controls",
          "model_name": "HBoxModel",
          "model_module_version": "1.5.0",
          "state": {
            "_dom_classes": [],
            "_model_module": "@jupyter-widgets/controls",
            "_model_module_version": "1.5.0",
            "_model_name": "HBoxModel",
            "_view_count": null,
            "_view_module": "@jupyter-widgets/controls",
            "_view_module_version": "1.5.0",
            "_view_name": "HBoxView",
            "box_style": "",
            "children": [
              "IPY_MODEL_338b8cdc36a443dc801fecdb2d163a49",
              "IPY_MODEL_46089274d23c4e019bfe014c0d18a3bf",
              "IPY_MODEL_186ddddcca7847a9af5c433852245537"
            ],
            "layout": "IPY_MODEL_cf8557aec2354b139c517b5c7d652365"
          }
        },
        "338b8cdc36a443dc801fecdb2d163a49": {
          "model_module": "@jupyter-widgets/controls",
          "model_name": "HTMLModel",
          "model_module_version": "1.5.0",
          "state": {
            "_dom_classes": [],
            "_model_module": "@jupyter-widgets/controls",
            "_model_module_version": "1.5.0",
            "_model_name": "HTMLModel",
            "_view_count": null,
            "_view_module": "@jupyter-widgets/controls",
            "_view_module_version": "1.5.0",
            "_view_name": "HTMLView",
            "description": "",
            "description_tooltip": null,
            "layout": "IPY_MODEL_d7064dccf485484b9ebaae5bc225cff7",
            "placeholder": "​",
            "style": "IPY_MODEL_0194067ff85a48e98b05db7c9a5509aa",
            "value": "vocab.json: 100%"
          }
        },
        "46089274d23c4e019bfe014c0d18a3bf": {
          "model_module": "@jupyter-widgets/controls",
          "model_name": "FloatProgressModel",
          "model_module_version": "1.5.0",
          "state": {
            "_dom_classes": [],
            "_model_module": "@jupyter-widgets/controls",
            "_model_module_version": "1.5.0",
            "_model_name": "FloatProgressModel",
            "_view_count": null,
            "_view_module": "@jupyter-widgets/controls",
            "_view_module_version": "1.5.0",
            "_view_name": "ProgressView",
            "bar_style": "success",
            "description": "",
            "description_tooltip": null,
            "layout": "IPY_MODEL_c7b05f40d6c04a49a42e9593032cc056",
            "max": 898823,
            "min": 0,
            "orientation": "horizontal",
            "style": "IPY_MODEL_a8cc39f7945140a194c22c8b9479212b",
            "value": 898823
          }
        },
        "186ddddcca7847a9af5c433852245537": {
          "model_module": "@jupyter-widgets/controls",
          "model_name": "HTMLModel",
          "model_module_version": "1.5.0",
          "state": {
            "_dom_classes": [],
            "_model_module": "@jupyter-widgets/controls",
            "_model_module_version": "1.5.0",
            "_model_name": "HTMLModel",
            "_view_count": null,
            "_view_module": "@jupyter-widgets/controls",
            "_view_module_version": "1.5.0",
            "_view_name": "HTMLView",
            "description": "",
            "description_tooltip": null,
            "layout": "IPY_MODEL_187ff62609e9455095b7f85b45fe048b",
            "placeholder": "​",
            "style": "IPY_MODEL_21e635019c3d45a3a0fbea1f8d5fd4ae",
            "value": " 899k/899k [00:00&lt;00:00, 6.68MB/s]"
          }
        },
        "cf8557aec2354b139c517b5c7d652365": {
          "model_module": "@jupyter-widgets/base",
          "model_name": "LayoutModel",
          "model_module_version": "1.2.0",
          "state": {
            "_model_module": "@jupyter-widgets/base",
            "_model_module_version": "1.2.0",
            "_model_name": "LayoutModel",
            "_view_count": null,
            "_view_module": "@jupyter-widgets/base",
            "_view_module_version": "1.2.0",
            "_view_name": "LayoutView",
            "align_content": null,
            "align_items": null,
            "align_self": null,
            "border": null,
            "bottom": null,
            "display": null,
            "flex": null,
            "flex_flow": null,
            "grid_area": null,
            "grid_auto_columns": null,
            "grid_auto_flow": null,
            "grid_auto_rows": null,
            "grid_column": null,
            "grid_gap": null,
            "grid_row": null,
            "grid_template_areas": null,
            "grid_template_columns": null,
            "grid_template_rows": null,
            "height": null,
            "justify_content": null,
            "justify_items": null,
            "left": null,
            "margin": null,
            "max_height": null,
            "max_width": null,
            "min_height": null,
            "min_width": null,
            "object_fit": null,
            "object_position": null,
            "order": null,
            "overflow": null,
            "overflow_x": null,
            "overflow_y": null,
            "padding": null,
            "right": null,
            "top": null,
            "visibility": null,
            "width": null
          }
        },
        "d7064dccf485484b9ebaae5bc225cff7": {
          "model_module": "@jupyter-widgets/base",
          "model_name": "LayoutModel",
          "model_module_version": "1.2.0",
          "state": {
            "_model_module": "@jupyter-widgets/base",
            "_model_module_version": "1.2.0",
            "_model_name": "LayoutModel",
            "_view_count": null,
            "_view_module": "@jupyter-widgets/base",
            "_view_module_version": "1.2.0",
            "_view_name": "LayoutView",
            "align_content": null,
            "align_items": null,
            "align_self": null,
            "border": null,
            "bottom": null,
            "display": null,
            "flex": null,
            "flex_flow": null,
            "grid_area": null,
            "grid_auto_columns": null,
            "grid_auto_flow": null,
            "grid_auto_rows": null,
            "grid_column": null,
            "grid_gap": null,
            "grid_row": null,
            "grid_template_areas": null,
            "grid_template_columns": null,
            "grid_template_rows": null,
            "height": null,
            "justify_content": null,
            "justify_items": null,
            "left": null,
            "margin": null,
            "max_height": null,
            "max_width": null,
            "min_height": null,
            "min_width": null,
            "object_fit": null,
            "object_position": null,
            "order": null,
            "overflow": null,
            "overflow_x": null,
            "overflow_y": null,
            "padding": null,
            "right": null,
            "top": null,
            "visibility": null,
            "width": null
          }
        },
        "0194067ff85a48e98b05db7c9a5509aa": {
          "model_module": "@jupyter-widgets/controls",
          "model_name": "DescriptionStyleModel",
          "model_module_version": "1.5.0",
          "state": {
            "_model_module": "@jupyter-widgets/controls",
            "_model_module_version": "1.5.0",
            "_model_name": "DescriptionStyleModel",
            "_view_count": null,
            "_view_module": "@jupyter-widgets/base",
            "_view_module_version": "1.2.0",
            "_view_name": "StyleView",
            "description_width": ""
          }
        },
        "c7b05f40d6c04a49a42e9593032cc056": {
          "model_module": "@jupyter-widgets/base",
          "model_name": "LayoutModel",
          "model_module_version": "1.2.0",
          "state": {
            "_model_module": "@jupyter-widgets/base",
            "_model_module_version": "1.2.0",
            "_model_name": "LayoutModel",
            "_view_count": null,
            "_view_module": "@jupyter-widgets/base",
            "_view_module_version": "1.2.0",
            "_view_name": "LayoutView",
            "align_content": null,
            "align_items": null,
            "align_self": null,
            "border": null,
            "bottom": null,
            "display": null,
            "flex": null,
            "flex_flow": null,
            "grid_area": null,
            "grid_auto_columns": null,
            "grid_auto_flow": null,
            "grid_auto_rows": null,
            "grid_column": null,
            "grid_gap": null,
            "grid_row": null,
            "grid_template_areas": null,
            "grid_template_columns": null,
            "grid_template_rows": null,
            "height": null,
            "justify_content": null,
            "justify_items": null,
            "left": null,
            "margin": null,
            "max_height": null,
            "max_width": null,
            "min_height": null,
            "min_width": null,
            "object_fit": null,
            "object_position": null,
            "order": null,
            "overflow": null,
            "overflow_x": null,
            "overflow_y": null,
            "padding": null,
            "right": null,
            "top": null,
            "visibility": null,
            "width": null
          }
        },
        "a8cc39f7945140a194c22c8b9479212b": {
          "model_module": "@jupyter-widgets/controls",
          "model_name": "ProgressStyleModel",
          "model_module_version": "1.5.0",
          "state": {
            "_model_module": "@jupyter-widgets/controls",
            "_model_module_version": "1.5.0",
            "_model_name": "ProgressStyleModel",
            "_view_count": null,
            "_view_module": "@jupyter-widgets/base",
            "_view_module_version": "1.2.0",
            "_view_name": "StyleView",
            "bar_color": null,
            "description_width": ""
          }
        },
        "187ff62609e9455095b7f85b45fe048b": {
          "model_module": "@jupyter-widgets/base",
          "model_name": "LayoutModel",
          "model_module_version": "1.2.0",
          "state": {
            "_model_module": "@jupyter-widgets/base",
            "_model_module_version": "1.2.0",
            "_model_name": "LayoutModel",
            "_view_count": null,
            "_view_module": "@jupyter-widgets/base",
            "_view_module_version": "1.2.0",
            "_view_name": "LayoutView",
            "align_content": null,
            "align_items": null,
            "align_self": null,
            "border": null,
            "bottom": null,
            "display": null,
            "flex": null,
            "flex_flow": null,
            "grid_area": null,
            "grid_auto_columns": null,
            "grid_auto_flow": null,
            "grid_auto_rows": null,
            "grid_column": null,
            "grid_gap": null,
            "grid_row": null,
            "grid_template_areas": null,
            "grid_template_columns": null,
            "grid_template_rows": null,
            "height": null,
            "justify_content": null,
            "justify_items": null,
            "left": null,
            "margin": null,
            "max_height": null,
            "max_width": null,
            "min_height": null,
            "min_width": null,
            "object_fit": null,
            "object_position": null,
            "order": null,
            "overflow": null,
            "overflow_x": null,
            "overflow_y": null,
            "padding": null,
            "right": null,
            "top": null,
            "visibility": null,
            "width": null
          }
        },
        "21e635019c3d45a3a0fbea1f8d5fd4ae": {
          "model_module": "@jupyter-widgets/controls",
          "model_name": "DescriptionStyleModel",
          "model_module_version": "1.5.0",
          "state": {
            "_model_module": "@jupyter-widgets/controls",
            "_model_module_version": "1.5.0",
            "_model_name": "DescriptionStyleModel",
            "_view_count": null,
            "_view_module": "@jupyter-widgets/base",
            "_view_module_version": "1.2.0",
            "_view_name": "StyleView",
            "description_width": ""
          }
        },
        "7a954c0c1662463783c9435c5f2820d5": {
          "model_module": "@jupyter-widgets/controls",
          "model_name": "HBoxModel",
          "model_module_version": "1.5.0",
          "state": {
            "_dom_classes": [],
            "_model_module": "@jupyter-widgets/controls",
            "_model_module_version": "1.5.0",
            "_model_name": "HBoxModel",
            "_view_count": null,
            "_view_module": "@jupyter-widgets/controls",
            "_view_module_version": "1.5.0",
            "_view_name": "HBoxView",
            "box_style": "",
            "children": [
              "IPY_MODEL_7fd0ee74bd1f4be0b6d441ea75ed7fe2",
              "IPY_MODEL_01fe6d69022a4552971cfee439cf6ffd",
              "IPY_MODEL_faff449329434f39a97cec010eb6f507"
            ],
            "layout": "IPY_MODEL_99744ab480ed453aa26918ff0582e518"
          }
        },
        "7fd0ee74bd1f4be0b6d441ea75ed7fe2": {
          "model_module": "@jupyter-widgets/controls",
          "model_name": "HTMLModel",
          "model_module_version": "1.5.0",
          "state": {
            "_dom_classes": [],
            "_model_module": "@jupyter-widgets/controls",
            "_model_module_version": "1.5.0",
            "_model_name": "HTMLModel",
            "_view_count": null,
            "_view_module": "@jupyter-widgets/controls",
            "_view_module_version": "1.5.0",
            "_view_name": "HTMLView",
            "description": "",
            "description_tooltip": null,
            "layout": "IPY_MODEL_2f462da5486849f9b739b764b255f4a3",
            "placeholder": "​",
            "style": "IPY_MODEL_c762f698e11f4f36ae5526ae5f11a049",
            "value": "merges.txt: 100%"
          }
        },
        "01fe6d69022a4552971cfee439cf6ffd": {
          "model_module": "@jupyter-widgets/controls",
          "model_name": "FloatProgressModel",
          "model_module_version": "1.5.0",
          "state": {
            "_dom_classes": [],
            "_model_module": "@jupyter-widgets/controls",
            "_model_module_version": "1.5.0",
            "_model_name": "FloatProgressModel",
            "_view_count": null,
            "_view_module": "@jupyter-widgets/controls",
            "_view_module_version": "1.5.0",
            "_view_name": "ProgressView",
            "bar_style": "success",
            "description": "",
            "description_tooltip": null,
            "layout": "IPY_MODEL_44550dce55c3469bbbd1465f1f5464f8",
            "max": 456318,
            "min": 0,
            "orientation": "horizontal",
            "style": "IPY_MODEL_d485adad47ea48bb9fd7083cb6d2644d",
            "value": 456318
          }
        },
        "faff449329434f39a97cec010eb6f507": {
          "model_module": "@jupyter-widgets/controls",
          "model_name": "HTMLModel",
          "model_module_version": "1.5.0",
          "state": {
            "_dom_classes": [],
            "_model_module": "@jupyter-widgets/controls",
            "_model_module_version": "1.5.0",
            "_model_name": "HTMLModel",
            "_view_count": null,
            "_view_module": "@jupyter-widgets/controls",
            "_view_module_version": "1.5.0",
            "_view_name": "HTMLView",
            "description": "",
            "description_tooltip": null,
            "layout": "IPY_MODEL_56cc751c64b1424cbbf2a5700705345d",
            "placeholder": "​",
            "style": "IPY_MODEL_a87d0dd4dfcc4b20ba16b261f08be628",
            "value": " 456k/456k [00:00&lt;00:00, 5.22MB/s]"
          }
        },
        "99744ab480ed453aa26918ff0582e518": {
          "model_module": "@jupyter-widgets/base",
          "model_name": "LayoutModel",
          "model_module_version": "1.2.0",
          "state": {
            "_model_module": "@jupyter-widgets/base",
            "_model_module_version": "1.2.0",
            "_model_name": "LayoutModel",
            "_view_count": null,
            "_view_module": "@jupyter-widgets/base",
            "_view_module_version": "1.2.0",
            "_view_name": "LayoutView",
            "align_content": null,
            "align_items": null,
            "align_self": null,
            "border": null,
            "bottom": null,
            "display": null,
            "flex": null,
            "flex_flow": null,
            "grid_area": null,
            "grid_auto_columns": null,
            "grid_auto_flow": null,
            "grid_auto_rows": null,
            "grid_column": null,
            "grid_gap": null,
            "grid_row": null,
            "grid_template_areas": null,
            "grid_template_columns": null,
            "grid_template_rows": null,
            "height": null,
            "justify_content": null,
            "justify_items": null,
            "left": null,
            "margin": null,
            "max_height": null,
            "max_width": null,
            "min_height": null,
            "min_width": null,
            "object_fit": null,
            "object_position": null,
            "order": null,
            "overflow": null,
            "overflow_x": null,
            "overflow_y": null,
            "padding": null,
            "right": null,
            "top": null,
            "visibility": null,
            "width": null
          }
        },
        "2f462da5486849f9b739b764b255f4a3": {
          "model_module": "@jupyter-widgets/base",
          "model_name": "LayoutModel",
          "model_module_version": "1.2.0",
          "state": {
            "_model_module": "@jupyter-widgets/base",
            "_model_module_version": "1.2.0",
            "_model_name": "LayoutModel",
            "_view_count": null,
            "_view_module": "@jupyter-widgets/base",
            "_view_module_version": "1.2.0",
            "_view_name": "LayoutView",
            "align_content": null,
            "align_items": null,
            "align_self": null,
            "border": null,
            "bottom": null,
            "display": null,
            "flex": null,
            "flex_flow": null,
            "grid_area": null,
            "grid_auto_columns": null,
            "grid_auto_flow": null,
            "grid_auto_rows": null,
            "grid_column": null,
            "grid_gap": null,
            "grid_row": null,
            "grid_template_areas": null,
            "grid_template_columns": null,
            "grid_template_rows": null,
            "height": null,
            "justify_content": null,
            "justify_items": null,
            "left": null,
            "margin": null,
            "max_height": null,
            "max_width": null,
            "min_height": null,
            "min_width": null,
            "object_fit": null,
            "object_position": null,
            "order": null,
            "overflow": null,
            "overflow_x": null,
            "overflow_y": null,
            "padding": null,
            "right": null,
            "top": null,
            "visibility": null,
            "width": null
          }
        },
        "c762f698e11f4f36ae5526ae5f11a049": {
          "model_module": "@jupyter-widgets/controls",
          "model_name": "DescriptionStyleModel",
          "model_module_version": "1.5.0",
          "state": {
            "_model_module": "@jupyter-widgets/controls",
            "_model_module_version": "1.5.0",
            "_model_name": "DescriptionStyleModel",
            "_view_count": null,
            "_view_module": "@jupyter-widgets/base",
            "_view_module_version": "1.2.0",
            "_view_name": "StyleView",
            "description_width": ""
          }
        },
        "44550dce55c3469bbbd1465f1f5464f8": {
          "model_module": "@jupyter-widgets/base",
          "model_name": "LayoutModel",
          "model_module_version": "1.2.0",
          "state": {
            "_model_module": "@jupyter-widgets/base",
            "_model_module_version": "1.2.0",
            "_model_name": "LayoutModel",
            "_view_count": null,
            "_view_module": "@jupyter-widgets/base",
            "_view_module_version": "1.2.0",
            "_view_name": "LayoutView",
            "align_content": null,
            "align_items": null,
            "align_self": null,
            "border": null,
            "bottom": null,
            "display": null,
            "flex": null,
            "flex_flow": null,
            "grid_area": null,
            "grid_auto_columns": null,
            "grid_auto_flow": null,
            "grid_auto_rows": null,
            "grid_column": null,
            "grid_gap": null,
            "grid_row": null,
            "grid_template_areas": null,
            "grid_template_columns": null,
            "grid_template_rows": null,
            "height": null,
            "justify_content": null,
            "justify_items": null,
            "left": null,
            "margin": null,
            "max_height": null,
            "max_width": null,
            "min_height": null,
            "min_width": null,
            "object_fit": null,
            "object_position": null,
            "order": null,
            "overflow": null,
            "overflow_x": null,
            "overflow_y": null,
            "padding": null,
            "right": null,
            "top": null,
            "visibility": null,
            "width": null
          }
        },
        "d485adad47ea48bb9fd7083cb6d2644d": {
          "model_module": "@jupyter-widgets/controls",
          "model_name": "ProgressStyleModel",
          "model_module_version": "1.5.0",
          "state": {
            "_model_module": "@jupyter-widgets/controls",
            "_model_module_version": "1.5.0",
            "_model_name": "ProgressStyleModel",
            "_view_count": null,
            "_view_module": "@jupyter-widgets/base",
            "_view_module_version": "1.2.0",
            "_view_name": "StyleView",
            "bar_color": null,
            "description_width": ""
          }
        },
        "56cc751c64b1424cbbf2a5700705345d": {
          "model_module": "@jupyter-widgets/base",
          "model_name": "LayoutModel",
          "model_module_version": "1.2.0",
          "state": {
            "_model_module": "@jupyter-widgets/base",
            "_model_module_version": "1.2.0",
            "_model_name": "LayoutModel",
            "_view_count": null,
            "_view_module": "@jupyter-widgets/base",
            "_view_module_version": "1.2.0",
            "_view_name": "LayoutView",
            "align_content": null,
            "align_items": null,
            "align_self": null,
            "border": null,
            "bottom": null,
            "display": null,
            "flex": null,
            "flex_flow": null,
            "grid_area": null,
            "grid_auto_columns": null,
            "grid_auto_flow": null,
            "grid_auto_rows": null,
            "grid_column": null,
            "grid_gap": null,
            "grid_row": null,
            "grid_template_areas": null,
            "grid_template_columns": null,
            "grid_template_rows": null,
            "height": null,
            "justify_content": null,
            "justify_items": null,
            "left": null,
            "margin": null,
            "max_height": null,
            "max_width": null,
            "min_height": null,
            "min_width": null,
            "object_fit": null,
            "object_position": null,
            "order": null,
            "overflow": null,
            "overflow_x": null,
            "overflow_y": null,
            "padding": null,
            "right": null,
            "top": null,
            "visibility": null,
            "width": null
          }
        },
        "a87d0dd4dfcc4b20ba16b261f08be628": {
          "model_module": "@jupyter-widgets/controls",
          "model_name": "DescriptionStyleModel",
          "model_module_version": "1.5.0",
          "state": {
            "_model_module": "@jupyter-widgets/controls",
            "_model_module_version": "1.5.0",
            "_model_name": "DescriptionStyleModel",
            "_view_count": null,
            "_view_module": "@jupyter-widgets/base",
            "_view_module_version": "1.2.0",
            "_view_name": "StyleView",
            "description_width": ""
          }
        },
        "f0303c20ef8740c6847333adf025b3e2": {
          "model_module": "@jupyter-widgets/controls",
          "model_name": "HBoxModel",
          "model_module_version": "1.5.0",
          "state": {
            "_dom_classes": [],
            "_model_module": "@jupyter-widgets/controls",
            "_model_module_version": "1.5.0",
            "_model_name": "HBoxModel",
            "_view_count": null,
            "_view_module": "@jupyter-widgets/controls",
            "_view_module_version": "1.5.0",
            "_view_name": "HBoxView",
            "box_style": "",
            "children": [
              "IPY_MODEL_fea16c2c808b4b40b807076f0980e417",
              "IPY_MODEL_42f0968a395946ab8b690b313cbab4f5",
              "IPY_MODEL_4ddfa788e3ab47d0944ae00a6ce18cf7"
            ],
            "layout": "IPY_MODEL_97a8a6bcc0c244de9173e68ce3e9c242"
          }
        },
        "fea16c2c808b4b40b807076f0980e417": {
          "model_module": "@jupyter-widgets/controls",
          "model_name": "HTMLModel",
          "model_module_version": "1.5.0",
          "state": {
            "_dom_classes": [],
            "_model_module": "@jupyter-widgets/controls",
            "_model_module_version": "1.5.0",
            "_model_name": "HTMLModel",
            "_view_count": null,
            "_view_module": "@jupyter-widgets/controls",
            "_view_module_version": "1.5.0",
            "_view_name": "HTMLView",
            "description": "",
            "description_tooltip": null,
            "layout": "IPY_MODEL_a58d93c3d4f04c4bbf81c28a2ab78a1e",
            "placeholder": "​",
            "style": "IPY_MODEL_cf265364acb44ba7bc9b1169c28f71db",
            "value": "tokenizer.json: 100%"
          }
        },
        "42f0968a395946ab8b690b313cbab4f5": {
          "model_module": "@jupyter-widgets/controls",
          "model_name": "FloatProgressModel",
          "model_module_version": "1.5.0",
          "state": {
            "_dom_classes": [],
            "_model_module": "@jupyter-widgets/controls",
            "_model_module_version": "1.5.0",
            "_model_name": "FloatProgressModel",
            "_view_count": null,
            "_view_module": "@jupyter-widgets/controls",
            "_view_module_version": "1.5.0",
            "_view_name": "ProgressView",
            "bar_style": "success",
            "description": "",
            "description_tooltip": null,
            "layout": "IPY_MODEL_eb0749f99add495196649f9e43ac05ce",
            "max": 1355863,
            "min": 0,
            "orientation": "horizontal",
            "style": "IPY_MODEL_4cc612f0589449c4a09e11e2450759f2",
            "value": 1355863
          }
        },
        "4ddfa788e3ab47d0944ae00a6ce18cf7": {
          "model_module": "@jupyter-widgets/controls",
          "model_name": "HTMLModel",
          "model_module_version": "1.5.0",
          "state": {
            "_dom_classes": [],
            "_model_module": "@jupyter-widgets/controls",
            "_model_module_version": "1.5.0",
            "_model_name": "HTMLModel",
            "_view_count": null,
            "_view_module": "@jupyter-widgets/controls",
            "_view_module_version": "1.5.0",
            "_view_name": "HTMLView",
            "description": "",
            "description_tooltip": null,
            "layout": "IPY_MODEL_0836ff3dbb39458688d97cf25d5ed9d3",
            "placeholder": "​",
            "style": "IPY_MODEL_515a1d14dbea4acc9e383a6187d94c52",
            "value": " 1.36M/1.36M [00:00&lt;00:00, 7.39MB/s]"
          }
        },
        "97a8a6bcc0c244de9173e68ce3e9c242": {
          "model_module": "@jupyter-widgets/base",
          "model_name": "LayoutModel",
          "model_module_version": "1.2.0",
          "state": {
            "_model_module": "@jupyter-widgets/base",
            "_model_module_version": "1.2.0",
            "_model_name": "LayoutModel",
            "_view_count": null,
            "_view_module": "@jupyter-widgets/base",
            "_view_module_version": "1.2.0",
            "_view_name": "LayoutView",
            "align_content": null,
            "align_items": null,
            "align_self": null,
            "border": null,
            "bottom": null,
            "display": null,
            "flex": null,
            "flex_flow": null,
            "grid_area": null,
            "grid_auto_columns": null,
            "grid_auto_flow": null,
            "grid_auto_rows": null,
            "grid_column": null,
            "grid_gap": null,
            "grid_row": null,
            "grid_template_areas": null,
            "grid_template_columns": null,
            "grid_template_rows": null,
            "height": null,
            "justify_content": null,
            "justify_items": null,
            "left": null,
            "margin": null,
            "max_height": null,
            "max_width": null,
            "min_height": null,
            "min_width": null,
            "object_fit": null,
            "object_position": null,
            "order": null,
            "overflow": null,
            "overflow_x": null,
            "overflow_y": null,
            "padding": null,
            "right": null,
            "top": null,
            "visibility": null,
            "width": null
          }
        },
        "a58d93c3d4f04c4bbf81c28a2ab78a1e": {
          "model_module": "@jupyter-widgets/base",
          "model_name": "LayoutModel",
          "model_module_version": "1.2.0",
          "state": {
            "_model_module": "@jupyter-widgets/base",
            "_model_module_version": "1.2.0",
            "_model_name": "LayoutModel",
            "_view_count": null,
            "_view_module": "@jupyter-widgets/base",
            "_view_module_version": "1.2.0",
            "_view_name": "LayoutView",
            "align_content": null,
            "align_items": null,
            "align_self": null,
            "border": null,
            "bottom": null,
            "display": null,
            "flex": null,
            "flex_flow": null,
            "grid_area": null,
            "grid_auto_columns": null,
            "grid_auto_flow": null,
            "grid_auto_rows": null,
            "grid_column": null,
            "grid_gap": null,
            "grid_row": null,
            "grid_template_areas": null,
            "grid_template_columns": null,
            "grid_template_rows": null,
            "height": null,
            "justify_content": null,
            "justify_items": null,
            "left": null,
            "margin": null,
            "max_height": null,
            "max_width": null,
            "min_height": null,
            "min_width": null,
            "object_fit": null,
            "object_position": null,
            "order": null,
            "overflow": null,
            "overflow_x": null,
            "overflow_y": null,
            "padding": null,
            "right": null,
            "top": null,
            "visibility": null,
            "width": null
          }
        },
        "cf265364acb44ba7bc9b1169c28f71db": {
          "model_module": "@jupyter-widgets/controls",
          "model_name": "DescriptionStyleModel",
          "model_module_version": "1.5.0",
          "state": {
            "_model_module": "@jupyter-widgets/controls",
            "_model_module_version": "1.5.0",
            "_model_name": "DescriptionStyleModel",
            "_view_count": null,
            "_view_module": "@jupyter-widgets/base",
            "_view_module_version": "1.2.0",
            "_view_name": "StyleView",
            "description_width": ""
          }
        },
        "eb0749f99add495196649f9e43ac05ce": {
          "model_module": "@jupyter-widgets/base",
          "model_name": "LayoutModel",
          "model_module_version": "1.2.0",
          "state": {
            "_model_module": "@jupyter-widgets/base",
            "_model_module_version": "1.2.0",
            "_model_name": "LayoutModel",
            "_view_count": null,
            "_view_module": "@jupyter-widgets/base",
            "_view_module_version": "1.2.0",
            "_view_name": "LayoutView",
            "align_content": null,
            "align_items": null,
            "align_self": null,
            "border": null,
            "bottom": null,
            "display": null,
            "flex": null,
            "flex_flow": null,
            "grid_area": null,
            "grid_auto_columns": null,
            "grid_auto_flow": null,
            "grid_auto_rows": null,
            "grid_column": null,
            "grid_gap": null,
            "grid_row": null,
            "grid_template_areas": null,
            "grid_template_columns": null,
            "grid_template_rows": null,
            "height": null,
            "justify_content": null,
            "justify_items": null,
            "left": null,
            "margin": null,
            "max_height": null,
            "max_width": null,
            "min_height": null,
            "min_width": null,
            "object_fit": null,
            "object_position": null,
            "order": null,
            "overflow": null,
            "overflow_x": null,
            "overflow_y": null,
            "padding": null,
            "right": null,
            "top": null,
            "visibility": null,
            "width": null
          }
        },
        "4cc612f0589449c4a09e11e2450759f2": {
          "model_module": "@jupyter-widgets/controls",
          "model_name": "ProgressStyleModel",
          "model_module_version": "1.5.0",
          "state": {
            "_model_module": "@jupyter-widgets/controls",
            "_model_module_version": "1.5.0",
            "_model_name": "ProgressStyleModel",
            "_view_count": null,
            "_view_module": "@jupyter-widgets/base",
            "_view_module_version": "1.2.0",
            "_view_name": "StyleView",
            "bar_color": null,
            "description_width": ""
          }
        },
        "0836ff3dbb39458688d97cf25d5ed9d3": {
          "model_module": "@jupyter-widgets/base",
          "model_name": "LayoutModel",
          "model_module_version": "1.2.0",
          "state": {
            "_model_module": "@jupyter-widgets/base",
            "_model_module_version": "1.2.0",
            "_model_name": "LayoutModel",
            "_view_count": null,
            "_view_module": "@jupyter-widgets/base",
            "_view_module_version": "1.2.0",
            "_view_name": "LayoutView",
            "align_content": null,
            "align_items": null,
            "align_self": null,
            "border": null,
            "bottom": null,
            "display": null,
            "flex": null,
            "flex_flow": null,
            "grid_area": null,
            "grid_auto_columns": null,
            "grid_auto_flow": null,
            "grid_auto_rows": null,
            "grid_column": null,
            "grid_gap": null,
            "grid_row": null,
            "grid_template_areas": null,
            "grid_template_columns": null,
            "grid_template_rows": null,
            "height": null,
            "justify_content": null,
            "justify_items": null,
            "left": null,
            "margin": null,
            "max_height": null,
            "max_width": null,
            "min_height": null,
            "min_width": null,
            "object_fit": null,
            "object_position": null,
            "order": null,
            "overflow": null,
            "overflow_x": null,
            "overflow_y": null,
            "padding": null,
            "right": null,
            "top": null,
            "visibility": null,
            "width": null
          }
        },
        "515a1d14dbea4acc9e383a6187d94c52": {
          "model_module": "@jupyter-widgets/controls",
          "model_name": "DescriptionStyleModel",
          "model_module_version": "1.5.0",
          "state": {
            "_model_module": "@jupyter-widgets/controls",
            "_model_module_version": "1.5.0",
            "_model_name": "DescriptionStyleModel",
            "_view_count": null,
            "_view_module": "@jupyter-widgets/base",
            "_view_module_version": "1.2.0",
            "_view_name": "StyleView",
            "description_width": ""
          }
        },
        "fbf6a173c21e4ec8a2be5f5726d963d3": {
          "model_module": "@jupyter-widgets/controls",
          "model_name": "HBoxModel",
          "model_module_version": "1.5.0",
          "state": {
            "_dom_classes": [],
            "_model_module": "@jupyter-widgets/controls",
            "_model_module_version": "1.5.0",
            "_model_name": "HBoxModel",
            "_view_count": null,
            "_view_module": "@jupyter-widgets/controls",
            "_view_module_version": "1.5.0",
            "_view_name": "HBoxView",
            "box_style": "",
            "children": [
              "IPY_MODEL_d7e3ff11ed36455198a12781553a65f6",
              "IPY_MODEL_95e5d7720dc24253b68309ff6f896780",
              "IPY_MODEL_5f40f29f22df45e7946c9e6c2c8b5871"
            ],
            "layout": "IPY_MODEL_b1baab71ce5643d8a346440658a27916"
          }
        },
        "d7e3ff11ed36455198a12781553a65f6": {
          "model_module": "@jupyter-widgets/controls",
          "model_name": "HTMLModel",
          "model_module_version": "1.5.0",
          "state": {
            "_dom_classes": [],
            "_model_module": "@jupyter-widgets/controls",
            "_model_module_version": "1.5.0",
            "_model_name": "HTMLModel",
            "_view_count": null,
            "_view_module": "@jupyter-widgets/controls",
            "_view_module_version": "1.5.0",
            "_view_name": "HTMLView",
            "description": "",
            "description_tooltip": null,
            "layout": "IPY_MODEL_337b53ff2ddc4fababf41c768200bee0",
            "placeholder": "​",
            "style": "IPY_MODEL_1e1f7f3268de4153af0791cec4071b5d",
            "value": "config.json: 100%"
          }
        },
        "95e5d7720dc24253b68309ff6f896780": {
          "model_module": "@jupyter-widgets/controls",
          "model_name": "FloatProgressModel",
          "model_module_version": "1.5.0",
          "state": {
            "_dom_classes": [],
            "_model_module": "@jupyter-widgets/controls",
            "_model_module_version": "1.5.0",
            "_model_name": "FloatProgressModel",
            "_view_count": null,
            "_view_module": "@jupyter-widgets/controls",
            "_view_module_version": "1.5.0",
            "_view_name": "ProgressView",
            "bar_style": "success",
            "description": "",
            "description_tooltip": null,
            "layout": "IPY_MODEL_d65fef6b60d248c38c947a9f8bc11d20",
            "max": 482,
            "min": 0,
            "orientation": "horizontal",
            "style": "IPY_MODEL_64fab6a1186048499ab46c91540e5f89",
            "value": 482
          }
        },
        "5f40f29f22df45e7946c9e6c2c8b5871": {
          "model_module": "@jupyter-widgets/controls",
          "model_name": "HTMLModel",
          "model_module_version": "1.5.0",
          "state": {
            "_dom_classes": [],
            "_model_module": "@jupyter-widgets/controls",
            "_model_module_version": "1.5.0",
            "_model_name": "HTMLModel",
            "_view_count": null,
            "_view_module": "@jupyter-widgets/controls",
            "_view_module_version": "1.5.0",
            "_view_name": "HTMLView",
            "description": "",
            "description_tooltip": null,
            "layout": "IPY_MODEL_f8d75b8a7a664bc38bbbb7970f981370",
            "placeholder": "​",
            "style": "IPY_MODEL_97a1b2be6d3e46eda12b67fd7e0e7703",
            "value": " 482/482 [00:00&lt;00:00, 39.2kB/s]"
          }
        },
        "b1baab71ce5643d8a346440658a27916": {
          "model_module": "@jupyter-widgets/base",
          "model_name": "LayoutModel",
          "model_module_version": "1.2.0",
          "state": {
            "_model_module": "@jupyter-widgets/base",
            "_model_module_version": "1.2.0",
            "_model_name": "LayoutModel",
            "_view_count": null,
            "_view_module": "@jupyter-widgets/base",
            "_view_module_version": "1.2.0",
            "_view_name": "LayoutView",
            "align_content": null,
            "align_items": null,
            "align_self": null,
            "border": null,
            "bottom": null,
            "display": null,
            "flex": null,
            "flex_flow": null,
            "grid_area": null,
            "grid_auto_columns": null,
            "grid_auto_flow": null,
            "grid_auto_rows": null,
            "grid_column": null,
            "grid_gap": null,
            "grid_row": null,
            "grid_template_areas": null,
            "grid_template_columns": null,
            "grid_template_rows": null,
            "height": null,
            "justify_content": null,
            "justify_items": null,
            "left": null,
            "margin": null,
            "max_height": null,
            "max_width": null,
            "min_height": null,
            "min_width": null,
            "object_fit": null,
            "object_position": null,
            "order": null,
            "overflow": null,
            "overflow_x": null,
            "overflow_y": null,
            "padding": null,
            "right": null,
            "top": null,
            "visibility": null,
            "width": null
          }
        },
        "337b53ff2ddc4fababf41c768200bee0": {
          "model_module": "@jupyter-widgets/base",
          "model_name": "LayoutModel",
          "model_module_version": "1.2.0",
          "state": {
            "_model_module": "@jupyter-widgets/base",
            "_model_module_version": "1.2.0",
            "_model_name": "LayoutModel",
            "_view_count": null,
            "_view_module": "@jupyter-widgets/base",
            "_view_module_version": "1.2.0",
            "_view_name": "LayoutView",
            "align_content": null,
            "align_items": null,
            "align_self": null,
            "border": null,
            "bottom": null,
            "display": null,
            "flex": null,
            "flex_flow": null,
            "grid_area": null,
            "grid_auto_columns": null,
            "grid_auto_flow": null,
            "grid_auto_rows": null,
            "grid_column": null,
            "grid_gap": null,
            "grid_row": null,
            "grid_template_areas": null,
            "grid_template_columns": null,
            "grid_template_rows": null,
            "height": null,
            "justify_content": null,
            "justify_items": null,
            "left": null,
            "margin": null,
            "max_height": null,
            "max_width": null,
            "min_height": null,
            "min_width": null,
            "object_fit": null,
            "object_position": null,
            "order": null,
            "overflow": null,
            "overflow_x": null,
            "overflow_y": null,
            "padding": null,
            "right": null,
            "top": null,
            "visibility": null,
            "width": null
          }
        },
        "1e1f7f3268de4153af0791cec4071b5d": {
          "model_module": "@jupyter-widgets/controls",
          "model_name": "DescriptionStyleModel",
          "model_module_version": "1.5.0",
          "state": {
            "_model_module": "@jupyter-widgets/controls",
            "_model_module_version": "1.5.0",
            "_model_name": "DescriptionStyleModel",
            "_view_count": null,
            "_view_module": "@jupyter-widgets/base",
            "_view_module_version": "1.2.0",
            "_view_name": "StyleView",
            "description_width": ""
          }
        },
        "d65fef6b60d248c38c947a9f8bc11d20": {
          "model_module": "@jupyter-widgets/base",
          "model_name": "LayoutModel",
          "model_module_version": "1.2.0",
          "state": {
            "_model_module": "@jupyter-widgets/base",
            "_model_module_version": "1.2.0",
            "_model_name": "LayoutModel",
            "_view_count": null,
            "_view_module": "@jupyter-widgets/base",
            "_view_module_version": "1.2.0",
            "_view_name": "LayoutView",
            "align_content": null,
            "align_items": null,
            "align_self": null,
            "border": null,
            "bottom": null,
            "display": null,
            "flex": null,
            "flex_flow": null,
            "grid_area": null,
            "grid_auto_columns": null,
            "grid_auto_flow": null,
            "grid_auto_rows": null,
            "grid_column": null,
            "grid_gap": null,
            "grid_row": null,
            "grid_template_areas": null,
            "grid_template_columns": null,
            "grid_template_rows": null,
            "height": null,
            "justify_content": null,
            "justify_items": null,
            "left": null,
            "margin": null,
            "max_height": null,
            "max_width": null,
            "min_height": null,
            "min_width": null,
            "object_fit": null,
            "object_position": null,
            "order": null,
            "overflow": null,
            "overflow_x": null,
            "overflow_y": null,
            "padding": null,
            "right": null,
            "top": null,
            "visibility": null,
            "width": null
          }
        },
        "64fab6a1186048499ab46c91540e5f89": {
          "model_module": "@jupyter-widgets/controls",
          "model_name": "ProgressStyleModel",
          "model_module_version": "1.5.0",
          "state": {
            "_model_module": "@jupyter-widgets/controls",
            "_model_module_version": "1.5.0",
            "_model_name": "ProgressStyleModel",
            "_view_count": null,
            "_view_module": "@jupyter-widgets/base",
            "_view_module_version": "1.2.0",
            "_view_name": "StyleView",
            "bar_color": null,
            "description_width": ""
          }
        },
        "f8d75b8a7a664bc38bbbb7970f981370": {
          "model_module": "@jupyter-widgets/base",
          "model_name": "LayoutModel",
          "model_module_version": "1.2.0",
          "state": {
            "_model_module": "@jupyter-widgets/base",
            "_model_module_version": "1.2.0",
            "_model_name": "LayoutModel",
            "_view_count": null,
            "_view_module": "@jupyter-widgets/base",
            "_view_module_version": "1.2.0",
            "_view_name": "LayoutView",
            "align_content": null,
            "align_items": null,
            "align_self": null,
            "border": null,
            "bottom": null,
            "display": null,
            "flex": null,
            "flex_flow": null,
            "grid_area": null,
            "grid_auto_columns": null,
            "grid_auto_flow": null,
            "grid_auto_rows": null,
            "grid_column": null,
            "grid_gap": null,
            "grid_row": null,
            "grid_template_areas": null,
            "grid_template_columns": null,
            "grid_template_rows": null,
            "height": null,
            "justify_content": null,
            "justify_items": null,
            "left": null,
            "margin": null,
            "max_height": null,
            "max_width": null,
            "min_height": null,
            "min_width": null,
            "object_fit": null,
            "object_position": null,
            "order": null,
            "overflow": null,
            "overflow_x": null,
            "overflow_y": null,
            "padding": null,
            "right": null,
            "top": null,
            "visibility": null,
            "width": null
          }
        },
        "97a1b2be6d3e46eda12b67fd7e0e7703": {
          "model_module": "@jupyter-widgets/controls",
          "model_name": "DescriptionStyleModel",
          "model_module_version": "1.5.0",
          "state": {
            "_model_module": "@jupyter-widgets/controls",
            "_model_module_version": "1.5.0",
            "_model_name": "DescriptionStyleModel",
            "_view_count": null,
            "_view_module": "@jupyter-widgets/base",
            "_view_module_version": "1.2.0",
            "_view_name": "StyleView",
            "description_width": ""
          }
        },
        "1459d542688946dcb3e8ed39e6619d75": {
          "model_module": "@jupyter-widgets/controls",
          "model_name": "HBoxModel",
          "model_module_version": "1.5.0",
          "state": {
            "_dom_classes": [],
            "_model_module": "@jupyter-widgets/controls",
            "_model_module_version": "1.5.0",
            "_model_name": "HBoxModel",
            "_view_count": null,
            "_view_module": "@jupyter-widgets/controls",
            "_view_module_version": "1.5.0",
            "_view_name": "HBoxView",
            "box_style": "",
            "children": [
              "IPY_MODEL_4501f90af972438aa3fcb77f8dd619a9",
              "IPY_MODEL_1f815a5c619f47efb8255eeb980be5e4",
              "IPY_MODEL_0513614bfaf149f1848d19331a0978af"
            ],
            "layout": "IPY_MODEL_1d59af6a57084904bd04d0b4d9ef8834"
          }
        },
        "4501f90af972438aa3fcb77f8dd619a9": {
          "model_module": "@jupyter-widgets/controls",
          "model_name": "HTMLModel",
          "model_module_version": "1.5.0",
          "state": {
            "_dom_classes": [],
            "_model_module": "@jupyter-widgets/controls",
            "_model_module_version": "1.5.0",
            "_model_name": "HTMLModel",
            "_view_count": null,
            "_view_module": "@jupyter-widgets/controls",
            "_view_module_version": "1.5.0",
            "_view_name": "HTMLView",
            "description": "",
            "description_tooltip": null,
            "layout": "IPY_MODEL_20dcdf434f7f43009312167e2eef79c0",
            "placeholder": "​",
            "style": "IPY_MODEL_34bf12b99d2d4f4a87401fed19abe6d0",
            "value": "model.safetensors: 100%"
          }
        },
        "1f815a5c619f47efb8255eeb980be5e4": {
          "model_module": "@jupyter-widgets/controls",
          "model_name": "FloatProgressModel",
          "model_module_version": "1.5.0",
          "state": {
            "_dom_classes": [],
            "_model_module": "@jupyter-widgets/controls",
            "_model_module_version": "1.5.0",
            "_model_name": "FloatProgressModel",
            "_view_count": null,
            "_view_module": "@jupyter-widgets/controls",
            "_view_module_version": "1.5.0",
            "_view_name": "ProgressView",
            "bar_style": "success",
            "description": "",
            "description_tooltip": null,
            "layout": "IPY_MODEL_c1e83def48644007a0abaa55958cf877",
            "max": 1421700479,
            "min": 0,
            "orientation": "horizontal",
            "style": "IPY_MODEL_b5a0ba1086c043c29f1596f0d9ed2e5c",
            "value": 1421700479
          }
        },
        "0513614bfaf149f1848d19331a0978af": {
          "model_module": "@jupyter-widgets/controls",
          "model_name": "HTMLModel",
          "model_module_version": "1.5.0",
          "state": {
            "_dom_classes": [],
            "_model_module": "@jupyter-widgets/controls",
            "_model_module_version": "1.5.0",
            "_model_name": "HTMLModel",
            "_view_count": null,
            "_view_module": "@jupyter-widgets/controls",
            "_view_module_version": "1.5.0",
            "_view_name": "HTMLView",
            "description": "",
            "description_tooltip": null,
            "layout": "IPY_MODEL_657e736062c7475db0bb71bece8e6b92",
            "placeholder": "​",
            "style": "IPY_MODEL_19dcbacda98541c0af79d1c2dd81aff6",
            "value": " 1.42G/1.42G [00:08&lt;00:00, 164MB/s]"
          }
        },
        "1d59af6a57084904bd04d0b4d9ef8834": {
          "model_module": "@jupyter-widgets/base",
          "model_name": "LayoutModel",
          "model_module_version": "1.2.0",
          "state": {
            "_model_module": "@jupyter-widgets/base",
            "_model_module_version": "1.2.0",
            "_model_name": "LayoutModel",
            "_view_count": null,
            "_view_module": "@jupyter-widgets/base",
            "_view_module_version": "1.2.0",
            "_view_name": "LayoutView",
            "align_content": null,
            "align_items": null,
            "align_self": null,
            "border": null,
            "bottom": null,
            "display": null,
            "flex": null,
            "flex_flow": null,
            "grid_area": null,
            "grid_auto_columns": null,
            "grid_auto_flow": null,
            "grid_auto_rows": null,
            "grid_column": null,
            "grid_gap": null,
            "grid_row": null,
            "grid_template_areas": null,
            "grid_template_columns": null,
            "grid_template_rows": null,
            "height": null,
            "justify_content": null,
            "justify_items": null,
            "left": null,
            "margin": null,
            "max_height": null,
            "max_width": null,
            "min_height": null,
            "min_width": null,
            "object_fit": null,
            "object_position": null,
            "order": null,
            "overflow": null,
            "overflow_x": null,
            "overflow_y": null,
            "padding": null,
            "right": null,
            "top": null,
            "visibility": null,
            "width": null
          }
        },
        "20dcdf434f7f43009312167e2eef79c0": {
          "model_module": "@jupyter-widgets/base",
          "model_name": "LayoutModel",
          "model_module_version": "1.2.0",
          "state": {
            "_model_module": "@jupyter-widgets/base",
            "_model_module_version": "1.2.0",
            "_model_name": "LayoutModel",
            "_view_count": null,
            "_view_module": "@jupyter-widgets/base",
            "_view_module_version": "1.2.0",
            "_view_name": "LayoutView",
            "align_content": null,
            "align_items": null,
            "align_self": null,
            "border": null,
            "bottom": null,
            "display": null,
            "flex": null,
            "flex_flow": null,
            "grid_area": null,
            "grid_auto_columns": null,
            "grid_auto_flow": null,
            "grid_auto_rows": null,
            "grid_column": null,
            "grid_gap": null,
            "grid_row": null,
            "grid_template_areas": null,
            "grid_template_columns": null,
            "grid_template_rows": null,
            "height": null,
            "justify_content": null,
            "justify_items": null,
            "left": null,
            "margin": null,
            "max_height": null,
            "max_width": null,
            "min_height": null,
            "min_width": null,
            "object_fit": null,
            "object_position": null,
            "order": null,
            "overflow": null,
            "overflow_x": null,
            "overflow_y": null,
            "padding": null,
            "right": null,
            "top": null,
            "visibility": null,
            "width": null
          }
        },
        "34bf12b99d2d4f4a87401fed19abe6d0": {
          "model_module": "@jupyter-widgets/controls",
          "model_name": "DescriptionStyleModel",
          "model_module_version": "1.5.0",
          "state": {
            "_model_module": "@jupyter-widgets/controls",
            "_model_module_version": "1.5.0",
            "_model_name": "DescriptionStyleModel",
            "_view_count": null,
            "_view_module": "@jupyter-widgets/base",
            "_view_module_version": "1.2.0",
            "_view_name": "StyleView",
            "description_width": ""
          }
        },
        "c1e83def48644007a0abaa55958cf877": {
          "model_module": "@jupyter-widgets/base",
          "model_name": "LayoutModel",
          "model_module_version": "1.2.0",
          "state": {
            "_model_module": "@jupyter-widgets/base",
            "_model_module_version": "1.2.0",
            "_model_name": "LayoutModel",
            "_view_count": null,
            "_view_module": "@jupyter-widgets/base",
            "_view_module_version": "1.2.0",
            "_view_name": "LayoutView",
            "align_content": null,
            "align_items": null,
            "align_self": null,
            "border": null,
            "bottom": null,
            "display": null,
            "flex": null,
            "flex_flow": null,
            "grid_area": null,
            "grid_auto_columns": null,
            "grid_auto_flow": null,
            "grid_auto_rows": null,
            "grid_column": null,
            "grid_gap": null,
            "grid_row": null,
            "grid_template_areas": null,
            "grid_template_columns": null,
            "grid_template_rows": null,
            "height": null,
            "justify_content": null,
            "justify_items": null,
            "left": null,
            "margin": null,
            "max_height": null,
            "max_width": null,
            "min_height": null,
            "min_width": null,
            "object_fit": null,
            "object_position": null,
            "order": null,
            "overflow": null,
            "overflow_x": null,
            "overflow_y": null,
            "padding": null,
            "right": null,
            "top": null,
            "visibility": null,
            "width": null
          }
        },
        "b5a0ba1086c043c29f1596f0d9ed2e5c": {
          "model_module": "@jupyter-widgets/controls",
          "model_name": "ProgressStyleModel",
          "model_module_version": "1.5.0",
          "state": {
            "_model_module": "@jupyter-widgets/controls",
            "_model_module_version": "1.5.0",
            "_model_name": "ProgressStyleModel",
            "_view_count": null,
            "_view_module": "@jupyter-widgets/base",
            "_view_module_version": "1.2.0",
            "_view_name": "StyleView",
            "bar_color": null,
            "description_width": ""
          }
        },
        "657e736062c7475db0bb71bece8e6b92": {
          "model_module": "@jupyter-widgets/base",
          "model_name": "LayoutModel",
          "model_module_version": "1.2.0",
          "state": {
            "_model_module": "@jupyter-widgets/base",
            "_model_module_version": "1.2.0",
            "_model_name": "LayoutModel",
            "_view_count": null,
            "_view_module": "@jupyter-widgets/base",
            "_view_module_version": "1.2.0",
            "_view_name": "LayoutView",
            "align_content": null,
            "align_items": null,
            "align_self": null,
            "border": null,
            "bottom": null,
            "display": null,
            "flex": null,
            "flex_flow": null,
            "grid_area": null,
            "grid_auto_columns": null,
            "grid_auto_flow": null,
            "grid_auto_rows": null,
            "grid_column": null,
            "grid_gap": null,
            "grid_row": null,
            "grid_template_areas": null,
            "grid_template_columns": null,
            "grid_template_rows": null,
            "height": null,
            "justify_content": null,
            "justify_items": null,
            "left": null,
            "margin": null,
            "max_height": null,
            "max_width": null,
            "min_height": null,
            "min_width": null,
            "object_fit": null,
            "object_position": null,
            "order": null,
            "overflow": null,
            "overflow_x": null,
            "overflow_y": null,
            "padding": null,
            "right": null,
            "top": null,
            "visibility": null,
            "width": null
          }
        },
        "19dcbacda98541c0af79d1c2dd81aff6": {
          "model_module": "@jupyter-widgets/controls",
          "model_name": "DescriptionStyleModel",
          "model_module_version": "1.5.0",
          "state": {
            "_model_module": "@jupyter-widgets/controls",
            "_model_module_version": "1.5.0",
            "_model_name": "DescriptionStyleModel",
            "_view_count": null,
            "_view_module": "@jupyter-widgets/base",
            "_view_module_version": "1.2.0",
            "_view_name": "StyleView",
            "description_width": ""
          }
        },
        "c34f193bdae04df795ad68459170f82b": {
          "model_module": "@jupyter-widgets/controls",
          "model_name": "HBoxModel",
          "model_module_version": "1.5.0",
          "state": {
            "_dom_classes": [],
            "_model_module": "@jupyter-widgets/controls",
            "_model_module_version": "1.5.0",
            "_model_name": "HBoxModel",
            "_view_count": null,
            "_view_module": "@jupyter-widgets/controls",
            "_view_module_version": "1.5.0",
            "_view_name": "HBoxView",
            "box_style": "",
            "children": [
              "IPY_MODEL_eaf2dfe3eae14f3b98de82840981a644",
              "IPY_MODEL_aff7c67464ef4288a486a77565086960",
              "IPY_MODEL_be73fe1530a24f39841de37ed8653d01"
            ],
            "layout": "IPY_MODEL_8577741cfd3b4b48be1b9f2551bb8a66"
          }
        },
        "eaf2dfe3eae14f3b98de82840981a644": {
          "model_module": "@jupyter-widgets/controls",
          "model_name": "HTMLModel",
          "model_module_version": "1.5.0",
          "state": {
            "_dom_classes": [],
            "_model_module": "@jupyter-widgets/controls",
            "_model_module_version": "1.5.0",
            "_model_name": "HTMLModel",
            "_view_count": null,
            "_view_module": "@jupyter-widgets/controls",
            "_view_module_version": "1.5.0",
            "_view_name": "HTMLView",
            "description": "",
            "description_tooltip": null,
            "layout": "IPY_MODEL_22ddfb97f16d4d059e5fdf51f3c31911",
            "placeholder": "​",
            "style": "IPY_MODEL_e1f947deb24746f99769ccc49f539c1b",
            "value": "Downloading shards: 100%"
          }
        },
        "aff7c67464ef4288a486a77565086960": {
          "model_module": "@jupyter-widgets/controls",
          "model_name": "FloatProgressModel",
          "model_module_version": "1.5.0",
          "state": {
            "_dom_classes": [],
            "_model_module": "@jupyter-widgets/controls",
            "_model_module_version": "1.5.0",
            "_model_name": "FloatProgressModel",
            "_view_count": null,
            "_view_module": "@jupyter-widgets/controls",
            "_view_module_version": "1.5.0",
            "_view_name": "ProgressView",
            "bar_style": "success",
            "description": "",
            "description_tooltip": null,
            "layout": "IPY_MODEL_ba9dc5b9f4d9497c9358a38e97ceb062",
            "max": 2,
            "min": 0,
            "orientation": "horizontal",
            "style": "IPY_MODEL_281854f47d654569b91d1f42b5d0e785",
            "value": 2
          }
        },
        "be73fe1530a24f39841de37ed8653d01": {
          "model_module": "@jupyter-widgets/controls",
          "model_name": "HTMLModel",
          "model_module_version": "1.5.0",
          "state": {
            "_dom_classes": [],
            "_model_module": "@jupyter-widgets/controls",
            "_model_module_version": "1.5.0",
            "_model_name": "HTMLModel",
            "_view_count": null,
            "_view_module": "@jupyter-widgets/controls",
            "_view_module_version": "1.5.0",
            "_view_name": "HTMLView",
            "description": "",
            "description_tooltip": null,
            "layout": "IPY_MODEL_12e6c14451244c31822b25307a7f3286",
            "placeholder": "​",
            "style": "IPY_MODEL_0f4303c207f74dc7b7027d684de2c757",
            "value": " 2/2 [02:20&lt;00:00, 63.81s/it]"
          }
        },
        "8577741cfd3b4b48be1b9f2551bb8a66": {
          "model_module": "@jupyter-widgets/base",
          "model_name": "LayoutModel",
          "model_module_version": "1.2.0",
          "state": {
            "_model_module": "@jupyter-widgets/base",
            "_model_module_version": "1.2.0",
            "_model_name": "LayoutModel",
            "_view_count": null,
            "_view_module": "@jupyter-widgets/base",
            "_view_module_version": "1.2.0",
            "_view_name": "LayoutView",
            "align_content": null,
            "align_items": null,
            "align_self": null,
            "border": null,
            "bottom": null,
            "display": null,
            "flex": null,
            "flex_flow": null,
            "grid_area": null,
            "grid_auto_columns": null,
            "grid_auto_flow": null,
            "grid_auto_rows": null,
            "grid_column": null,
            "grid_gap": null,
            "grid_row": null,
            "grid_template_areas": null,
            "grid_template_columns": null,
            "grid_template_rows": null,
            "height": null,
            "justify_content": null,
            "justify_items": null,
            "left": null,
            "margin": null,
            "max_height": null,
            "max_width": null,
            "min_height": null,
            "min_width": null,
            "object_fit": null,
            "object_position": null,
            "order": null,
            "overflow": null,
            "overflow_x": null,
            "overflow_y": null,
            "padding": null,
            "right": null,
            "top": null,
            "visibility": null,
            "width": null
          }
        },
        "22ddfb97f16d4d059e5fdf51f3c31911": {
          "model_module": "@jupyter-widgets/base",
          "model_name": "LayoutModel",
          "model_module_version": "1.2.0",
          "state": {
            "_model_module": "@jupyter-widgets/base",
            "_model_module_version": "1.2.0",
            "_model_name": "LayoutModel",
            "_view_count": null,
            "_view_module": "@jupyter-widgets/base",
            "_view_module_version": "1.2.0",
            "_view_name": "LayoutView",
            "align_content": null,
            "align_items": null,
            "align_self": null,
            "border": null,
            "bottom": null,
            "display": null,
            "flex": null,
            "flex_flow": null,
            "grid_area": null,
            "grid_auto_columns": null,
            "grid_auto_flow": null,
            "grid_auto_rows": null,
            "grid_column": null,
            "grid_gap": null,
            "grid_row": null,
            "grid_template_areas": null,
            "grid_template_columns": null,
            "grid_template_rows": null,
            "height": null,
            "justify_content": null,
            "justify_items": null,
            "left": null,
            "margin": null,
            "max_height": null,
            "max_width": null,
            "min_height": null,
            "min_width": null,
            "object_fit": null,
            "object_position": null,
            "order": null,
            "overflow": null,
            "overflow_x": null,
            "overflow_y": null,
            "padding": null,
            "right": null,
            "top": null,
            "visibility": null,
            "width": null
          }
        },
        "e1f947deb24746f99769ccc49f539c1b": {
          "model_module": "@jupyter-widgets/controls",
          "model_name": "DescriptionStyleModel",
          "model_module_version": "1.5.0",
          "state": {
            "_model_module": "@jupyter-widgets/controls",
            "_model_module_version": "1.5.0",
            "_model_name": "DescriptionStyleModel",
            "_view_count": null,
            "_view_module": "@jupyter-widgets/base",
            "_view_module_version": "1.2.0",
            "_view_name": "StyleView",
            "description_width": ""
          }
        },
        "ba9dc5b9f4d9497c9358a38e97ceb062": {
          "model_module": "@jupyter-widgets/base",
          "model_name": "LayoutModel",
          "model_module_version": "1.2.0",
          "state": {
            "_model_module": "@jupyter-widgets/base",
            "_model_module_version": "1.2.0",
            "_model_name": "LayoutModel",
            "_view_count": null,
            "_view_module": "@jupyter-widgets/base",
            "_view_module_version": "1.2.0",
            "_view_name": "LayoutView",
            "align_content": null,
            "align_items": null,
            "align_self": null,
            "border": null,
            "bottom": null,
            "display": null,
            "flex": null,
            "flex_flow": null,
            "grid_area": null,
            "grid_auto_columns": null,
            "grid_auto_flow": null,
            "grid_auto_rows": null,
            "grid_column": null,
            "grid_gap": null,
            "grid_row": null,
            "grid_template_areas": null,
            "grid_template_columns": null,
            "grid_template_rows": null,
            "height": null,
            "justify_content": null,
            "justify_items": null,
            "left": null,
            "margin": null,
            "max_height": null,
            "max_width": null,
            "min_height": null,
            "min_width": null,
            "object_fit": null,
            "object_position": null,
            "order": null,
            "overflow": null,
            "overflow_x": null,
            "overflow_y": null,
            "padding": null,
            "right": null,
            "top": null,
            "visibility": null,
            "width": null
          }
        },
        "281854f47d654569b91d1f42b5d0e785": {
          "model_module": "@jupyter-widgets/controls",
          "model_name": "ProgressStyleModel",
          "model_module_version": "1.5.0",
          "state": {
            "_model_module": "@jupyter-widgets/controls",
            "_model_module_version": "1.5.0",
            "_model_name": "ProgressStyleModel",
            "_view_count": null,
            "_view_module": "@jupyter-widgets/base",
            "_view_module_version": "1.2.0",
            "_view_name": "StyleView",
            "bar_color": null,
            "description_width": ""
          }
        },
        "12e6c14451244c31822b25307a7f3286": {
          "model_module": "@jupyter-widgets/base",
          "model_name": "LayoutModel",
          "model_module_version": "1.2.0",
          "state": {
            "_model_module": "@jupyter-widgets/base",
            "_model_module_version": "1.2.0",
            "_model_name": "LayoutModel",
            "_view_count": null,
            "_view_module": "@jupyter-widgets/base",
            "_view_module_version": "1.2.0",
            "_view_name": "LayoutView",
            "align_content": null,
            "align_items": null,
            "align_self": null,
            "border": null,
            "bottom": null,
            "display": null,
            "flex": null,
            "flex_flow": null,
            "grid_area": null,
            "grid_auto_columns": null,
            "grid_auto_flow": null,
            "grid_auto_rows": null,
            "grid_column": null,
            "grid_gap": null,
            "grid_row": null,
            "grid_template_areas": null,
            "grid_template_columns": null,
            "grid_template_rows": null,
            "height": null,
            "justify_content": null,
            "justify_items": null,
            "left": null,
            "margin": null,
            "max_height": null,
            "max_width": null,
            "min_height": null,
            "min_width": null,
            "object_fit": null,
            "object_position": null,
            "order": null,
            "overflow": null,
            "overflow_x": null,
            "overflow_y": null,
            "padding": null,
            "right": null,
            "top": null,
            "visibility": null,
            "width": null
          }
        },
        "0f4303c207f74dc7b7027d684de2c757": {
          "model_module": "@jupyter-widgets/controls",
          "model_name": "DescriptionStyleModel",
          "model_module_version": "1.5.0",
          "state": {
            "_model_module": "@jupyter-widgets/controls",
            "_model_module_version": "1.5.0",
            "_model_name": "DescriptionStyleModel",
            "_view_count": null,
            "_view_module": "@jupyter-widgets/base",
            "_view_module_version": "1.2.0",
            "_view_name": "StyleView",
            "description_width": ""
          }
        },
        "c989fab123cb46189a3cc335ba52db2c": {
          "model_module": "@jupyter-widgets/controls",
          "model_name": "HBoxModel",
          "model_module_version": "1.5.0",
          "state": {
            "_dom_classes": [],
            "_model_module": "@jupyter-widgets/controls",
            "_model_module_version": "1.5.0",
            "_model_name": "HBoxModel",
            "_view_count": null,
            "_view_module": "@jupyter-widgets/controls",
            "_view_module_version": "1.5.0",
            "_view_name": "HBoxView",
            "box_style": "",
            "children": [
              "IPY_MODEL_e25edaf0563d4fee9520eadb98c9a272",
              "IPY_MODEL_9effb27dc89948ea875dae33b21ff6da",
              "IPY_MODEL_2240864782fa41c8a25e50febf7193d0"
            ],
            "layout": "IPY_MODEL_c51ddd45a9db4b099696c84c8c9e32ae"
          }
        },
        "e25edaf0563d4fee9520eadb98c9a272": {
          "model_module": "@jupyter-widgets/controls",
          "model_name": "HTMLModel",
          "model_module_version": "1.5.0",
          "state": {
            "_dom_classes": [],
            "_model_module": "@jupyter-widgets/controls",
            "_model_module_version": "1.5.0",
            "_model_name": "HTMLModel",
            "_view_count": null,
            "_view_module": "@jupyter-widgets/controls",
            "_view_module_version": "1.5.0",
            "_view_name": "HTMLView",
            "description": "",
            "description_tooltip": null,
            "layout": "IPY_MODEL_30b7605e0f58467db5a1cfae6ea132d1",
            "placeholder": "​",
            "style": "IPY_MODEL_e63f4b9314cb4a0db675956b1e53cdbe",
            "value": "model-00001-of-00002.safetensors: 100%"
          }
        },
        "9effb27dc89948ea875dae33b21ff6da": {
          "model_module": "@jupyter-widgets/controls",
          "model_name": "FloatProgressModel",
          "model_module_version": "1.5.0",
          "state": {
            "_dom_classes": [],
            "_model_module": "@jupyter-widgets/controls",
            "_model_module_version": "1.5.0",
            "_model_name": "FloatProgressModel",
            "_view_count": null,
            "_view_module": "@jupyter-widgets/controls",
            "_view_module_version": "1.5.0",
            "_view_name": "ProgressView",
            "bar_style": "success",
            "description": "",
            "description_tooltip": null,
            "layout": "IPY_MODEL_4df039b1b00e4e6888adc9e63cc964b8",
            "max": 4965799096,
            "min": 0,
            "orientation": "horizontal",
            "style": "IPY_MODEL_a5792268f6b540d488db9455e2d86de4",
            "value": 4965799096
          }
        },
        "2240864782fa41c8a25e50febf7193d0": {
          "model_module": "@jupyter-widgets/controls",
          "model_name": "HTMLModel",
          "model_module_version": "1.5.0",
          "state": {
            "_dom_classes": [],
            "_model_module": "@jupyter-widgets/controls",
            "_model_module_version": "1.5.0",
            "_model_name": "HTMLModel",
            "_view_count": null,
            "_view_module": "@jupyter-widgets/controls",
            "_view_module_version": "1.5.0",
            "_view_name": "HTMLView",
            "description": "",
            "description_tooltip": null,
            "layout": "IPY_MODEL_b66a140aad42467b874bdc08d545ce8b",
            "placeholder": "​",
            "style": "IPY_MODEL_86a81f5f6e684e55a8b4c494f6eefb8d",
            "value": " 4.97G/4.97G [01:45&lt;00:00, 42.6MB/s]"
          }
        },
        "c51ddd45a9db4b099696c84c8c9e32ae": {
          "model_module": "@jupyter-widgets/base",
          "model_name": "LayoutModel",
          "model_module_version": "1.2.0",
          "state": {
            "_model_module": "@jupyter-widgets/base",
            "_model_module_version": "1.2.0",
            "_model_name": "LayoutModel",
            "_view_count": null,
            "_view_module": "@jupyter-widgets/base",
            "_view_module_version": "1.2.0",
            "_view_name": "LayoutView",
            "align_content": null,
            "align_items": null,
            "align_self": null,
            "border": null,
            "bottom": null,
            "display": null,
            "flex": null,
            "flex_flow": null,
            "grid_area": null,
            "grid_auto_columns": null,
            "grid_auto_flow": null,
            "grid_auto_rows": null,
            "grid_column": null,
            "grid_gap": null,
            "grid_row": null,
            "grid_template_areas": null,
            "grid_template_columns": null,
            "grid_template_rows": null,
            "height": null,
            "justify_content": null,
            "justify_items": null,
            "left": null,
            "margin": null,
            "max_height": null,
            "max_width": null,
            "min_height": null,
            "min_width": null,
            "object_fit": null,
            "object_position": null,
            "order": null,
            "overflow": null,
            "overflow_x": null,
            "overflow_y": null,
            "padding": null,
            "right": null,
            "top": null,
            "visibility": null,
            "width": null
          }
        },
        "30b7605e0f58467db5a1cfae6ea132d1": {
          "model_module": "@jupyter-widgets/base",
          "model_name": "LayoutModel",
          "model_module_version": "1.2.0",
          "state": {
            "_model_module": "@jupyter-widgets/base",
            "_model_module_version": "1.2.0",
            "_model_name": "LayoutModel",
            "_view_count": null,
            "_view_module": "@jupyter-widgets/base",
            "_view_module_version": "1.2.0",
            "_view_name": "LayoutView",
            "align_content": null,
            "align_items": null,
            "align_self": null,
            "border": null,
            "bottom": null,
            "display": null,
            "flex": null,
            "flex_flow": null,
            "grid_area": null,
            "grid_auto_columns": null,
            "grid_auto_flow": null,
            "grid_auto_rows": null,
            "grid_column": null,
            "grid_gap": null,
            "grid_row": null,
            "grid_template_areas": null,
            "grid_template_columns": null,
            "grid_template_rows": null,
            "height": null,
            "justify_content": null,
            "justify_items": null,
            "left": null,
            "margin": null,
            "max_height": null,
            "max_width": null,
            "min_height": null,
            "min_width": null,
            "object_fit": null,
            "object_position": null,
            "order": null,
            "overflow": null,
            "overflow_x": null,
            "overflow_y": null,
            "padding": null,
            "right": null,
            "top": null,
            "visibility": null,
            "width": null
          }
        },
        "e63f4b9314cb4a0db675956b1e53cdbe": {
          "model_module": "@jupyter-widgets/controls",
          "model_name": "DescriptionStyleModel",
          "model_module_version": "1.5.0",
          "state": {
            "_model_module": "@jupyter-widgets/controls",
            "_model_module_version": "1.5.0",
            "_model_name": "DescriptionStyleModel",
            "_view_count": null,
            "_view_module": "@jupyter-widgets/base",
            "_view_module_version": "1.2.0",
            "_view_name": "StyleView",
            "description_width": ""
          }
        },
        "4df039b1b00e4e6888adc9e63cc964b8": {
          "model_module": "@jupyter-widgets/base",
          "model_name": "LayoutModel",
          "model_module_version": "1.2.0",
          "state": {
            "_model_module": "@jupyter-widgets/base",
            "_model_module_version": "1.2.0",
            "_model_name": "LayoutModel",
            "_view_count": null,
            "_view_module": "@jupyter-widgets/base",
            "_view_module_version": "1.2.0",
            "_view_name": "LayoutView",
            "align_content": null,
            "align_items": null,
            "align_self": null,
            "border": null,
            "bottom": null,
            "display": null,
            "flex": null,
            "flex_flow": null,
            "grid_area": null,
            "grid_auto_columns": null,
            "grid_auto_flow": null,
            "grid_auto_rows": null,
            "grid_column": null,
            "grid_gap": null,
            "grid_row": null,
            "grid_template_areas": null,
            "grid_template_columns": null,
            "grid_template_rows": null,
            "height": null,
            "justify_content": null,
            "justify_items": null,
            "left": null,
            "margin": null,
            "max_height": null,
            "max_width": null,
            "min_height": null,
            "min_width": null,
            "object_fit": null,
            "object_position": null,
            "order": null,
            "overflow": null,
            "overflow_x": null,
            "overflow_y": null,
            "padding": null,
            "right": null,
            "top": null,
            "visibility": null,
            "width": null
          }
        },
        "a5792268f6b540d488db9455e2d86de4": {
          "model_module": "@jupyter-widgets/controls",
          "model_name": "ProgressStyleModel",
          "model_module_version": "1.5.0",
          "state": {
            "_model_module": "@jupyter-widgets/controls",
            "_model_module_version": "1.5.0",
            "_model_name": "ProgressStyleModel",
            "_view_count": null,
            "_view_module": "@jupyter-widgets/base",
            "_view_module_version": "1.2.0",
            "_view_name": "StyleView",
            "bar_color": null,
            "description_width": ""
          }
        },
        "b66a140aad42467b874bdc08d545ce8b": {
          "model_module": "@jupyter-widgets/base",
          "model_name": "LayoutModel",
          "model_module_version": "1.2.0",
          "state": {
            "_model_module": "@jupyter-widgets/base",
            "_model_module_version": "1.2.0",
            "_model_name": "LayoutModel",
            "_view_count": null,
            "_view_module": "@jupyter-widgets/base",
            "_view_module_version": "1.2.0",
            "_view_name": "LayoutView",
            "align_content": null,
            "align_items": null,
            "align_self": null,
            "border": null,
            "bottom": null,
            "display": null,
            "flex": null,
            "flex_flow": null,
            "grid_area": null,
            "grid_auto_columns": null,
            "grid_auto_flow": null,
            "grid_auto_rows": null,
            "grid_column": null,
            "grid_gap": null,
            "grid_row": null,
            "grid_template_areas": null,
            "grid_template_columns": null,
            "grid_template_rows": null,
            "height": null,
            "justify_content": null,
            "justify_items": null,
            "left": null,
            "margin": null,
            "max_height": null,
            "max_width": null,
            "min_height": null,
            "min_width": null,
            "object_fit": null,
            "object_position": null,
            "order": null,
            "overflow": null,
            "overflow_x": null,
            "overflow_y": null,
            "padding": null,
            "right": null,
            "top": null,
            "visibility": null,
            "width": null
          }
        },
        "86a81f5f6e684e55a8b4c494f6eefb8d": {
          "model_module": "@jupyter-widgets/controls",
          "model_name": "DescriptionStyleModel",
          "model_module_version": "1.5.0",
          "state": {
            "_model_module": "@jupyter-widgets/controls",
            "_model_module_version": "1.5.0",
            "_model_name": "DescriptionStyleModel",
            "_view_count": null,
            "_view_module": "@jupyter-widgets/base",
            "_view_module_version": "1.2.0",
            "_view_name": "StyleView",
            "description_width": ""
          }
        },
        "997c0a8ae8f64f4e8ee9d280e148f89a": {
          "model_module": "@jupyter-widgets/controls",
          "model_name": "HBoxModel",
          "model_module_version": "1.5.0",
          "state": {
            "_dom_classes": [],
            "_model_module": "@jupyter-widgets/controls",
            "_model_module_version": "1.5.0",
            "_model_name": "HBoxModel",
            "_view_count": null,
            "_view_module": "@jupyter-widgets/controls",
            "_view_module_version": "1.5.0",
            "_view_name": "HBoxView",
            "box_style": "",
            "children": [
              "IPY_MODEL_eb81e18a840f4244b2e65e9fe6872bb1",
              "IPY_MODEL_2e8bcdb73143485d913a69cf6feb3cfc",
              "IPY_MODEL_fa7df903ecb74a5b812b1d4682e33292"
            ],
            "layout": "IPY_MODEL_69dcd0082da94e7b8caabd5e9483d5f8"
          }
        },
        "eb81e18a840f4244b2e65e9fe6872bb1": {
          "model_module": "@jupyter-widgets/controls",
          "model_name": "HTMLModel",
          "model_module_version": "1.5.0",
          "state": {
            "_dom_classes": [],
            "_model_module": "@jupyter-widgets/controls",
            "_model_module_version": "1.5.0",
            "_model_name": "HTMLModel",
            "_view_count": null,
            "_view_module": "@jupyter-widgets/controls",
            "_view_module_version": "1.5.0",
            "_view_name": "HTMLView",
            "description": "",
            "description_tooltip": null,
            "layout": "IPY_MODEL_de0e5a9fd162448db744ce58cdae770a",
            "placeholder": "​",
            "style": "IPY_MODEL_449cd5060a4c46638045263a94e8aae7",
            "value": "model-00002-of-00002.safetensors: 100%"
          }
        },
        "2e8bcdb73143485d913a69cf6feb3cfc": {
          "model_module": "@jupyter-widgets/controls",
          "model_name": "FloatProgressModel",
          "model_module_version": "1.5.0",
          "state": {
            "_dom_classes": [],
            "_model_module": "@jupyter-widgets/controls",
            "_model_module_version": "1.5.0",
            "_model_name": "FloatProgressModel",
            "_view_count": null,
            "_view_module": "@jupyter-widgets/controls",
            "_view_module_version": "1.5.0",
            "_view_name": "ProgressView",
            "bar_style": "success",
            "description": "",
            "description_tooltip": null,
            "layout": "IPY_MODEL_648c156fe05649e7bcb708257751f8d4",
            "max": 1459729952,
            "min": 0,
            "orientation": "horizontal",
            "style": "IPY_MODEL_503adea9cb0f499e97d026a5183cc287",
            "value": 1459729952
          }
        },
        "fa7df903ecb74a5b812b1d4682e33292": {
          "model_module": "@jupyter-widgets/controls",
          "model_name": "HTMLModel",
          "model_module_version": "1.5.0",
          "state": {
            "_dom_classes": [],
            "_model_module": "@jupyter-widgets/controls",
            "_model_module_version": "1.5.0",
            "_model_name": "HTMLModel",
            "_view_count": null,
            "_view_module": "@jupyter-widgets/controls",
            "_view_module_version": "1.5.0",
            "_view_name": "HTMLView",
            "description": "",
            "description_tooltip": null,
            "layout": "IPY_MODEL_fdb561464fb04ec4871b795e83f05ea2",
            "placeholder": "​",
            "style": "IPY_MODEL_0e1ea4c62e9141368f1713f52cc0ceb3",
            "value": " 1.46G/1.46G [00:34&lt;00:00, 42.4MB/s]"
          }
        },
        "69dcd0082da94e7b8caabd5e9483d5f8": {
          "model_module": "@jupyter-widgets/base",
          "model_name": "LayoutModel",
          "model_module_version": "1.2.0",
          "state": {
            "_model_module": "@jupyter-widgets/base",
            "_model_module_version": "1.2.0",
            "_model_name": "LayoutModel",
            "_view_count": null,
            "_view_module": "@jupyter-widgets/base",
            "_view_module_version": "1.2.0",
            "_view_name": "LayoutView",
            "align_content": null,
            "align_items": null,
            "align_self": null,
            "border": null,
            "bottom": null,
            "display": null,
            "flex": null,
            "flex_flow": null,
            "grid_area": null,
            "grid_auto_columns": null,
            "grid_auto_flow": null,
            "grid_auto_rows": null,
            "grid_column": null,
            "grid_gap": null,
            "grid_row": null,
            "grid_template_areas": null,
            "grid_template_columns": null,
            "grid_template_rows": null,
            "height": null,
            "justify_content": null,
            "justify_items": null,
            "left": null,
            "margin": null,
            "max_height": null,
            "max_width": null,
            "min_height": null,
            "min_width": null,
            "object_fit": null,
            "object_position": null,
            "order": null,
            "overflow": null,
            "overflow_x": null,
            "overflow_y": null,
            "padding": null,
            "right": null,
            "top": null,
            "visibility": null,
            "width": null
          }
        },
        "de0e5a9fd162448db744ce58cdae770a": {
          "model_module": "@jupyter-widgets/base",
          "model_name": "LayoutModel",
          "model_module_version": "1.2.0",
          "state": {
            "_model_module": "@jupyter-widgets/base",
            "_model_module_version": "1.2.0",
            "_model_name": "LayoutModel",
            "_view_count": null,
            "_view_module": "@jupyter-widgets/base",
            "_view_module_version": "1.2.0",
            "_view_name": "LayoutView",
            "align_content": null,
            "align_items": null,
            "align_self": null,
            "border": null,
            "bottom": null,
            "display": null,
            "flex": null,
            "flex_flow": null,
            "grid_area": null,
            "grid_auto_columns": null,
            "grid_auto_flow": null,
            "grid_auto_rows": null,
            "grid_column": null,
            "grid_gap": null,
            "grid_row": null,
            "grid_template_areas": null,
            "grid_template_columns": null,
            "grid_template_rows": null,
            "height": null,
            "justify_content": null,
            "justify_items": null,
            "left": null,
            "margin": null,
            "max_height": null,
            "max_width": null,
            "min_height": null,
            "min_width": null,
            "object_fit": null,
            "object_position": null,
            "order": null,
            "overflow": null,
            "overflow_x": null,
            "overflow_y": null,
            "padding": null,
            "right": null,
            "top": null,
            "visibility": null,
            "width": null
          }
        },
        "449cd5060a4c46638045263a94e8aae7": {
          "model_module": "@jupyter-widgets/controls",
          "model_name": "DescriptionStyleModel",
          "model_module_version": "1.5.0",
          "state": {
            "_model_module": "@jupyter-widgets/controls",
            "_model_module_version": "1.5.0",
            "_model_name": "DescriptionStyleModel",
            "_view_count": null,
            "_view_module": "@jupyter-widgets/base",
            "_view_module_version": "1.2.0",
            "_view_name": "StyleView",
            "description_width": ""
          }
        },
        "648c156fe05649e7bcb708257751f8d4": {
          "model_module": "@jupyter-widgets/base",
          "model_name": "LayoutModel",
          "model_module_version": "1.2.0",
          "state": {
            "_model_module": "@jupyter-widgets/base",
            "_model_module_version": "1.2.0",
            "_model_name": "LayoutModel",
            "_view_count": null,
            "_view_module": "@jupyter-widgets/base",
            "_view_module_version": "1.2.0",
            "_view_name": "LayoutView",
            "align_content": null,
            "align_items": null,
            "align_self": null,
            "border": null,
            "bottom": null,
            "display": null,
            "flex": null,
            "flex_flow": null,
            "grid_area": null,
            "grid_auto_columns": null,
            "grid_auto_flow": null,
            "grid_auto_rows": null,
            "grid_column": null,
            "grid_gap": null,
            "grid_row": null,
            "grid_template_areas": null,
            "grid_template_columns": null,
            "grid_template_rows": null,
            "height": null,
            "justify_content": null,
            "justify_items": null,
            "left": null,
            "margin": null,
            "max_height": null,
            "max_width": null,
            "min_height": null,
            "min_width": null,
            "object_fit": null,
            "object_position": null,
            "order": null,
            "overflow": null,
            "overflow_x": null,
            "overflow_y": null,
            "padding": null,
            "right": null,
            "top": null,
            "visibility": null,
            "width": null
          }
        },
        "503adea9cb0f499e97d026a5183cc287": {
          "model_module": "@jupyter-widgets/controls",
          "model_name": "ProgressStyleModel",
          "model_module_version": "1.5.0",
          "state": {
            "_model_module": "@jupyter-widgets/controls",
            "_model_module_version": "1.5.0",
            "_model_name": "ProgressStyleModel",
            "_view_count": null,
            "_view_module": "@jupyter-widgets/base",
            "_view_module_version": "1.2.0",
            "_view_name": "StyleView",
            "bar_color": null,
            "description_width": ""
          }
        },
        "fdb561464fb04ec4871b795e83f05ea2": {
          "model_module": "@jupyter-widgets/base",
          "model_name": "LayoutModel",
          "model_module_version": "1.2.0",
          "state": {
            "_model_module": "@jupyter-widgets/base",
            "_model_module_version": "1.2.0",
            "_model_name": "LayoutModel",
            "_view_count": null,
            "_view_module": "@jupyter-widgets/base",
            "_view_module_version": "1.2.0",
            "_view_name": "LayoutView",
            "align_content": null,
            "align_items": null,
            "align_self": null,
            "border": null,
            "bottom": null,
            "display": null,
            "flex": null,
            "flex_flow": null,
            "grid_area": null,
            "grid_auto_columns": null,
            "grid_auto_flow": null,
            "grid_auto_rows": null,
            "grid_column": null,
            "grid_gap": null,
            "grid_row": null,
            "grid_template_areas": null,
            "grid_template_columns": null,
            "grid_template_rows": null,
            "height": null,
            "justify_content": null,
            "justify_items": null,
            "left": null,
            "margin": null,
            "max_height": null,
            "max_width": null,
            "min_height": null,
            "min_width": null,
            "object_fit": null,
            "object_position": null,
            "order": null,
            "overflow": null,
            "overflow_x": null,
            "overflow_y": null,
            "padding": null,
            "right": null,
            "top": null,
            "visibility": null,
            "width": null
          }
        },
        "0e1ea4c62e9141368f1713f52cc0ceb3": {
          "model_module": "@jupyter-widgets/controls",
          "model_name": "DescriptionStyleModel",
          "model_module_version": "1.5.0",
          "state": {
            "_model_module": "@jupyter-widgets/controls",
            "_model_module_version": "1.5.0",
            "_model_name": "DescriptionStyleModel",
            "_view_count": null,
            "_view_module": "@jupyter-widgets/base",
            "_view_module_version": "1.2.0",
            "_view_name": "StyleView",
            "description_width": ""
          }
        },
        "f59d7f1c3a1e47cda59ce082781f3e46": {
          "model_module": "@jupyter-widgets/controls",
          "model_name": "HBoxModel",
          "model_module_version": "1.5.0",
          "state": {
            "_dom_classes": [],
            "_model_module": "@jupyter-widgets/controls",
            "_model_module_version": "1.5.0",
            "_model_name": "HBoxModel",
            "_view_count": null,
            "_view_module": "@jupyter-widgets/controls",
            "_view_module_version": "1.5.0",
            "_view_name": "HBoxView",
            "box_style": "",
            "children": [
              "IPY_MODEL_46b8488844e24ad79a760534be0160bb",
              "IPY_MODEL_a0c1baa29715454cb77bd1773cbd72d8",
              "IPY_MODEL_7416c0590f8a4e93809dd31b6276c383"
            ],
            "layout": "IPY_MODEL_892bcd39a6c046a8858e56e59962e25a"
          }
        },
        "46b8488844e24ad79a760534be0160bb": {
          "model_module": "@jupyter-widgets/controls",
          "model_name": "HTMLModel",
          "model_module_version": "1.5.0",
          "state": {
            "_dom_classes": [],
            "_model_module": "@jupyter-widgets/controls",
            "_model_module_version": "1.5.0",
            "_model_name": "HTMLModel",
            "_view_count": null,
            "_view_module": "@jupyter-widgets/controls",
            "_view_module_version": "1.5.0",
            "_view_name": "HTMLView",
            "description": "",
            "description_tooltip": null,
            "layout": "IPY_MODEL_82daacd9d74441c09b8302b0cc335875",
            "placeholder": "​",
            "style": "IPY_MODEL_a5c31113552d485a93e7b5eda819a2a3",
            "value": "Loading checkpoint shards: 100%"
          }
        },
        "a0c1baa29715454cb77bd1773cbd72d8": {
          "model_module": "@jupyter-widgets/controls",
          "model_name": "FloatProgressModel",
          "model_module_version": "1.5.0",
          "state": {
            "_dom_classes": [],
            "_model_module": "@jupyter-widgets/controls",
            "_model_module_version": "1.5.0",
            "_model_name": "FloatProgressModel",
            "_view_count": null,
            "_view_module": "@jupyter-widgets/controls",
            "_view_module_version": "1.5.0",
            "_view_name": "ProgressView",
            "bar_style": "success",
            "description": "",
            "description_tooltip": null,
            "layout": "IPY_MODEL_9bc179676f5b424c866261717673f835",
            "max": 2,
            "min": 0,
            "orientation": "horizontal",
            "style": "IPY_MODEL_426786745c434179af42916afbb0ff9d",
            "value": 2
          }
        },
        "7416c0590f8a4e93809dd31b6276c383": {
          "model_module": "@jupyter-widgets/controls",
          "model_name": "HTMLModel",
          "model_module_version": "1.5.0",
          "state": {
            "_dom_classes": [],
            "_model_module": "@jupyter-widgets/controls",
            "_model_module_version": "1.5.0",
            "_model_name": "HTMLModel",
            "_view_count": null,
            "_view_module": "@jupyter-widgets/controls",
            "_view_module_version": "1.5.0",
            "_view_name": "HTMLView",
            "description": "",
            "description_tooltip": null,
            "layout": "IPY_MODEL_1fb6eb5d303f4f21bf9104ca9816467d",
            "placeholder": "​",
            "style": "IPY_MODEL_83adbb99f4074aa3bc0a83624300d8b6",
            "value": " 2/2 [00:08&lt;00:00,  3.68s/it]"
          }
        },
        "892bcd39a6c046a8858e56e59962e25a": {
          "model_module": "@jupyter-widgets/base",
          "model_name": "LayoutModel",
          "model_module_version": "1.2.0",
          "state": {
            "_model_module": "@jupyter-widgets/base",
            "_model_module_version": "1.2.0",
            "_model_name": "LayoutModel",
            "_view_count": null,
            "_view_module": "@jupyter-widgets/base",
            "_view_module_version": "1.2.0",
            "_view_name": "LayoutView",
            "align_content": null,
            "align_items": null,
            "align_self": null,
            "border": null,
            "bottom": null,
            "display": null,
            "flex": null,
            "flex_flow": null,
            "grid_area": null,
            "grid_auto_columns": null,
            "grid_auto_flow": null,
            "grid_auto_rows": null,
            "grid_column": null,
            "grid_gap": null,
            "grid_row": null,
            "grid_template_areas": null,
            "grid_template_columns": null,
            "grid_template_rows": null,
            "height": null,
            "justify_content": null,
            "justify_items": null,
            "left": null,
            "margin": null,
            "max_height": null,
            "max_width": null,
            "min_height": null,
            "min_width": null,
            "object_fit": null,
            "object_position": null,
            "order": null,
            "overflow": null,
            "overflow_x": null,
            "overflow_y": null,
            "padding": null,
            "right": null,
            "top": null,
            "visibility": null,
            "width": null
          }
        },
        "82daacd9d74441c09b8302b0cc335875": {
          "model_module": "@jupyter-widgets/base",
          "model_name": "LayoutModel",
          "model_module_version": "1.2.0",
          "state": {
            "_model_module": "@jupyter-widgets/base",
            "_model_module_version": "1.2.0",
            "_model_name": "LayoutModel",
            "_view_count": null,
            "_view_module": "@jupyter-widgets/base",
            "_view_module_version": "1.2.0",
            "_view_name": "LayoutView",
            "align_content": null,
            "align_items": null,
            "align_self": null,
            "border": null,
            "bottom": null,
            "display": null,
            "flex": null,
            "flex_flow": null,
            "grid_area": null,
            "grid_auto_columns": null,
            "grid_auto_flow": null,
            "grid_auto_rows": null,
            "grid_column": null,
            "grid_gap": null,
            "grid_row": null,
            "grid_template_areas": null,
            "grid_template_columns": null,
            "grid_template_rows": null,
            "height": null,
            "justify_content": null,
            "justify_items": null,
            "left": null,
            "margin": null,
            "max_height": null,
            "max_width": null,
            "min_height": null,
            "min_width": null,
            "object_fit": null,
            "object_position": null,
            "order": null,
            "overflow": null,
            "overflow_x": null,
            "overflow_y": null,
            "padding": null,
            "right": null,
            "top": null,
            "visibility": null,
            "width": null
          }
        },
        "a5c31113552d485a93e7b5eda819a2a3": {
          "model_module": "@jupyter-widgets/controls",
          "model_name": "DescriptionStyleModel",
          "model_module_version": "1.5.0",
          "state": {
            "_model_module": "@jupyter-widgets/controls",
            "_model_module_version": "1.5.0",
            "_model_name": "DescriptionStyleModel",
            "_view_count": null,
            "_view_module": "@jupyter-widgets/base",
            "_view_module_version": "1.2.0",
            "_view_name": "StyleView",
            "description_width": ""
          }
        },
        "9bc179676f5b424c866261717673f835": {
          "model_module": "@jupyter-widgets/base",
          "model_name": "LayoutModel",
          "model_module_version": "1.2.0",
          "state": {
            "_model_module": "@jupyter-widgets/base",
            "_model_module_version": "1.2.0",
            "_model_name": "LayoutModel",
            "_view_count": null,
            "_view_module": "@jupyter-widgets/base",
            "_view_module_version": "1.2.0",
            "_view_name": "LayoutView",
            "align_content": null,
            "align_items": null,
            "align_self": null,
            "border": null,
            "bottom": null,
            "display": null,
            "flex": null,
            "flex_flow": null,
            "grid_area": null,
            "grid_auto_columns": null,
            "grid_auto_flow": null,
            "grid_auto_rows": null,
            "grid_column": null,
            "grid_gap": null,
            "grid_row": null,
            "grid_template_areas": null,
            "grid_template_columns": null,
            "grid_template_rows": null,
            "height": null,
            "justify_content": null,
            "justify_items": null,
            "left": null,
            "margin": null,
            "max_height": null,
            "max_width": null,
            "min_height": null,
            "min_width": null,
            "object_fit": null,
            "object_position": null,
            "order": null,
            "overflow": null,
            "overflow_x": null,
            "overflow_y": null,
            "padding": null,
            "right": null,
            "top": null,
            "visibility": null,
            "width": null
          }
        },
        "426786745c434179af42916afbb0ff9d": {
          "model_module": "@jupyter-widgets/controls",
          "model_name": "ProgressStyleModel",
          "model_module_version": "1.5.0",
          "state": {
            "_model_module": "@jupyter-widgets/controls",
            "_model_module_version": "1.5.0",
            "_model_name": "ProgressStyleModel",
            "_view_count": null,
            "_view_module": "@jupyter-widgets/base",
            "_view_module_version": "1.2.0",
            "_view_name": "StyleView",
            "bar_color": null,
            "description_width": ""
          }
        },
        "1fb6eb5d303f4f21bf9104ca9816467d": {
          "model_module": "@jupyter-widgets/base",
          "model_name": "LayoutModel",
          "model_module_version": "1.2.0",
          "state": {
            "_model_module": "@jupyter-widgets/base",
            "_model_module_version": "1.2.0",
            "_model_name": "LayoutModel",
            "_view_count": null,
            "_view_module": "@jupyter-widgets/base",
            "_view_module_version": "1.2.0",
            "_view_name": "LayoutView",
            "align_content": null,
            "align_items": null,
            "align_self": null,
            "border": null,
            "bottom": null,
            "display": null,
            "flex": null,
            "flex_flow": null,
            "grid_area": null,
            "grid_auto_columns": null,
            "grid_auto_flow": null,
            "grid_auto_rows": null,
            "grid_column": null,
            "grid_gap": null,
            "grid_row": null,
            "grid_template_areas": null,
            "grid_template_columns": null,
            "grid_template_rows": null,
            "height": null,
            "justify_content": null,
            "justify_items": null,
            "left": null,
            "margin": null,
            "max_height": null,
            "max_width": null,
            "min_height": null,
            "min_width": null,
            "object_fit": null,
            "object_position": null,
            "order": null,
            "overflow": null,
            "overflow_x": null,
            "overflow_y": null,
            "padding": null,
            "right": null,
            "top": null,
            "visibility": null,
            "width": null
          }
        },
        "83adbb99f4074aa3bc0a83624300d8b6": {
          "model_module": "@jupyter-widgets/controls",
          "model_name": "DescriptionStyleModel",
          "model_module_version": "1.5.0",
          "state": {
            "_model_module": "@jupyter-widgets/controls",
            "_model_module_version": "1.5.0",
            "_model_name": "DescriptionStyleModel",
            "_view_count": null,
            "_view_module": "@jupyter-widgets/base",
            "_view_module_version": "1.2.0",
            "_view_name": "StyleView",
            "description_width": ""
          }
        },
        "0eabb9c9e6a047d1ab823d5ffc7f5b87": {
          "model_module": "@jupyter-widgets/controls",
          "model_name": "HBoxModel",
          "model_module_version": "1.5.0",
          "state": {
            "_dom_classes": [],
            "_model_module": "@jupyter-widgets/controls",
            "_model_module_version": "1.5.0",
            "_model_name": "HBoxModel",
            "_view_count": null,
            "_view_module": "@jupyter-widgets/controls",
            "_view_module_version": "1.5.0",
            "_view_name": "HBoxView",
            "box_style": "",
            "children": [
              "IPY_MODEL_5477080873ab4b6289220a4b1fd007c3",
              "IPY_MODEL_738b2efb56214fcfb9c8cb5ee2a83dc9",
              "IPY_MODEL_8694415fed454544aec7d960fe9aa1ea"
            ],
            "layout": "IPY_MODEL_04e6a803d90f4ed493558784dd4a3053"
          }
        },
        "5477080873ab4b6289220a4b1fd007c3": {
          "model_module": "@jupyter-widgets/controls",
          "model_name": "HTMLModel",
          "model_module_version": "1.5.0",
          "state": {
            "_dom_classes": [],
            "_model_module": "@jupyter-widgets/controls",
            "_model_module_version": "1.5.0",
            "_model_name": "HTMLModel",
            "_view_count": null,
            "_view_module": "@jupyter-widgets/controls",
            "_view_module_version": "1.5.0",
            "_view_name": "HTMLView",
            "description": "",
            "description_tooltip": null,
            "layout": "IPY_MODEL_9bec2a4fbd28414984560276a93b9fa7",
            "placeholder": "​",
            "style": "IPY_MODEL_7444be430d12454aaeb9a17db7b1d5f6",
            "value": "generation_config.json: 100%"
          }
        },
        "738b2efb56214fcfb9c8cb5ee2a83dc9": {
          "model_module": "@jupyter-widgets/controls",
          "model_name": "FloatProgressModel",
          "model_module_version": "1.5.0",
          "state": {
            "_dom_classes": [],
            "_model_module": "@jupyter-widgets/controls",
            "_model_module_version": "1.5.0",
            "_model_name": "FloatProgressModel",
            "_view_count": null,
            "_view_module": "@jupyter-widgets/controls",
            "_view_module_version": "1.5.0",
            "_view_name": "ProgressView",
            "bar_style": "success",
            "description": "",
            "description_tooltip": null,
            "layout": "IPY_MODEL_81a10815a3794216bdae88d13eaf527b",
            "max": 185,
            "min": 0,
            "orientation": "horizontal",
            "style": "IPY_MODEL_7a6f7aa50c3a4f3584ae7d36bec9543e",
            "value": 185
          }
        },
        "8694415fed454544aec7d960fe9aa1ea": {
          "model_module": "@jupyter-widgets/controls",
          "model_name": "HTMLModel",
          "model_module_version": "1.5.0",
          "state": {
            "_dom_classes": [],
            "_model_module": "@jupyter-widgets/controls",
            "_model_module_version": "1.5.0",
            "_model_name": "HTMLModel",
            "_view_count": null,
            "_view_module": "@jupyter-widgets/controls",
            "_view_module_version": "1.5.0",
            "_view_name": "HTMLView",
            "description": "",
            "description_tooltip": null,
            "layout": "IPY_MODEL_3f2f2ba7f777407a954dc1f5d1a6e9a7",
            "placeholder": "​",
            "style": "IPY_MODEL_675591c4fafc4f6e97dd0f58900e40fd",
            "value": " 185/185 [00:00&lt;00:00, 16.9kB/s]"
          }
        },
        "04e6a803d90f4ed493558784dd4a3053": {
          "model_module": "@jupyter-widgets/base",
          "model_name": "LayoutModel",
          "model_module_version": "1.2.0",
          "state": {
            "_model_module": "@jupyter-widgets/base",
            "_model_module_version": "1.2.0",
            "_model_name": "LayoutModel",
            "_view_count": null,
            "_view_module": "@jupyter-widgets/base",
            "_view_module_version": "1.2.0",
            "_view_name": "LayoutView",
            "align_content": null,
            "align_items": null,
            "align_self": null,
            "border": null,
            "bottom": null,
            "display": null,
            "flex": null,
            "flex_flow": null,
            "grid_area": null,
            "grid_auto_columns": null,
            "grid_auto_flow": null,
            "grid_auto_rows": null,
            "grid_column": null,
            "grid_gap": null,
            "grid_row": null,
            "grid_template_areas": null,
            "grid_template_columns": null,
            "grid_template_rows": null,
            "height": null,
            "justify_content": null,
            "justify_items": null,
            "left": null,
            "margin": null,
            "max_height": null,
            "max_width": null,
            "min_height": null,
            "min_width": null,
            "object_fit": null,
            "object_position": null,
            "order": null,
            "overflow": null,
            "overflow_x": null,
            "overflow_y": null,
            "padding": null,
            "right": null,
            "top": null,
            "visibility": null,
            "width": null
          }
        },
        "9bec2a4fbd28414984560276a93b9fa7": {
          "model_module": "@jupyter-widgets/base",
          "model_name": "LayoutModel",
          "model_module_version": "1.2.0",
          "state": {
            "_model_module": "@jupyter-widgets/base",
            "_model_module_version": "1.2.0",
            "_model_name": "LayoutModel",
            "_view_count": null,
            "_view_module": "@jupyter-widgets/base",
            "_view_module_version": "1.2.0",
            "_view_name": "LayoutView",
            "align_content": null,
            "align_items": null,
            "align_self": null,
            "border": null,
            "bottom": null,
            "display": null,
            "flex": null,
            "flex_flow": null,
            "grid_area": null,
            "grid_auto_columns": null,
            "grid_auto_flow": null,
            "grid_auto_rows": null,
            "grid_column": null,
            "grid_gap": null,
            "grid_row": null,
            "grid_template_areas": null,
            "grid_template_columns": null,
            "grid_template_rows": null,
            "height": null,
            "justify_content": null,
            "justify_items": null,
            "left": null,
            "margin": null,
            "max_height": null,
            "max_width": null,
            "min_height": null,
            "min_width": null,
            "object_fit": null,
            "object_position": null,
            "order": null,
            "overflow": null,
            "overflow_x": null,
            "overflow_y": null,
            "padding": null,
            "right": null,
            "top": null,
            "visibility": null,
            "width": null
          }
        },
        "7444be430d12454aaeb9a17db7b1d5f6": {
          "model_module": "@jupyter-widgets/controls",
          "model_name": "DescriptionStyleModel",
          "model_module_version": "1.5.0",
          "state": {
            "_model_module": "@jupyter-widgets/controls",
            "_model_module_version": "1.5.0",
            "_model_name": "DescriptionStyleModel",
            "_view_count": null,
            "_view_module": "@jupyter-widgets/base",
            "_view_module_version": "1.2.0",
            "_view_name": "StyleView",
            "description_width": ""
          }
        },
        "81a10815a3794216bdae88d13eaf527b": {
          "model_module": "@jupyter-widgets/base",
          "model_name": "LayoutModel",
          "model_module_version": "1.2.0",
          "state": {
            "_model_module": "@jupyter-widgets/base",
            "_model_module_version": "1.2.0",
            "_model_name": "LayoutModel",
            "_view_count": null,
            "_view_module": "@jupyter-widgets/base",
            "_view_module_version": "1.2.0",
            "_view_name": "LayoutView",
            "align_content": null,
            "align_items": null,
            "align_self": null,
            "border": null,
            "bottom": null,
            "display": null,
            "flex": null,
            "flex_flow": null,
            "grid_area": null,
            "grid_auto_columns": null,
            "grid_auto_flow": null,
            "grid_auto_rows": null,
            "grid_column": null,
            "grid_gap": null,
            "grid_row": null,
            "grid_template_areas": null,
            "grid_template_columns": null,
            "grid_template_rows": null,
            "height": null,
            "justify_content": null,
            "justify_items": null,
            "left": null,
            "margin": null,
            "max_height": null,
            "max_width": null,
            "min_height": null,
            "min_width": null,
            "object_fit": null,
            "object_position": null,
            "order": null,
            "overflow": null,
            "overflow_x": null,
            "overflow_y": null,
            "padding": null,
            "right": null,
            "top": null,
            "visibility": null,
            "width": null
          }
        },
        "7a6f7aa50c3a4f3584ae7d36bec9543e": {
          "model_module": "@jupyter-widgets/controls",
          "model_name": "ProgressStyleModel",
          "model_module_version": "1.5.0",
          "state": {
            "_model_module": "@jupyter-widgets/controls",
            "_model_module_version": "1.5.0",
            "_model_name": "ProgressStyleModel",
            "_view_count": null,
            "_view_module": "@jupyter-widgets/base",
            "_view_module_version": "1.2.0",
            "_view_name": "StyleView",
            "bar_color": null,
            "description_width": ""
          }
        },
        "3f2f2ba7f777407a954dc1f5d1a6e9a7": {
          "model_module": "@jupyter-widgets/base",
          "model_name": "LayoutModel",
          "model_module_version": "1.2.0",
          "state": {
            "_model_module": "@jupyter-widgets/base",
            "_model_module_version": "1.2.0",
            "_model_name": "LayoutModel",
            "_view_count": null,
            "_view_module": "@jupyter-widgets/base",
            "_view_module_version": "1.2.0",
            "_view_name": "LayoutView",
            "align_content": null,
            "align_items": null,
            "align_self": null,
            "border": null,
            "bottom": null,
            "display": null,
            "flex": null,
            "flex_flow": null,
            "grid_area": null,
            "grid_auto_columns": null,
            "grid_auto_flow": null,
            "grid_auto_rows": null,
            "grid_column": null,
            "grid_gap": null,
            "grid_row": null,
            "grid_template_areas": null,
            "grid_template_columns": null,
            "grid_template_rows": null,
            "height": null,
            "justify_content": null,
            "justify_items": null,
            "left": null,
            "margin": null,
            "max_height": null,
            "max_width": null,
            "min_height": null,
            "min_width": null,
            "object_fit": null,
            "object_position": null,
            "order": null,
            "overflow": null,
            "overflow_x": null,
            "overflow_y": null,
            "padding": null,
            "right": null,
            "top": null,
            "visibility": null,
            "width": null
          }
        },
        "675591c4fafc4f6e97dd0f58900e40fd": {
          "model_module": "@jupyter-widgets/controls",
          "model_name": "DescriptionStyleModel",
          "model_module_version": "1.5.0",
          "state": {
            "_model_module": "@jupyter-widgets/controls",
            "_model_module_version": "1.5.0",
            "_model_name": "DescriptionStyleModel",
            "_view_count": null,
            "_view_module": "@jupyter-widgets/base",
            "_view_module_version": "1.2.0",
            "_view_name": "StyleView",
            "description_width": ""
          }
        },
        "92b734da0fa646ceac6ebc645ae6a6de": {
          "model_module": "@jupyter-widgets/controls",
          "model_name": "HBoxModel",
          "model_module_version": "1.5.0",
          "state": {
            "_dom_classes": [],
            "_model_module": "@jupyter-widgets/controls",
            "_model_module_version": "1.5.0",
            "_model_name": "HBoxModel",
            "_view_count": null,
            "_view_module": "@jupyter-widgets/controls",
            "_view_module_version": "1.5.0",
            "_view_name": "HBoxView",
            "box_style": "",
            "children": [
              "IPY_MODEL_e5f3b2a5931b4910b403848024225713",
              "IPY_MODEL_0dcd1be17a874fd0a6913fcf4fc45fce",
              "IPY_MODEL_e4deb2e7cbcb4e91a878aef14d59488f"
            ],
            "layout": "IPY_MODEL_d78ba13eb6f0410c89866400080ed4c1"
          }
        },
        "e5f3b2a5931b4910b403848024225713": {
          "model_module": "@jupyter-widgets/controls",
          "model_name": "HTMLModel",
          "model_module_version": "1.5.0",
          "state": {
            "_dom_classes": [],
            "_model_module": "@jupyter-widgets/controls",
            "_model_module_version": "1.5.0",
            "_model_name": "HTMLModel",
            "_view_count": null,
            "_view_module": "@jupyter-widgets/controls",
            "_view_module_version": "1.5.0",
            "_view_name": "HTMLView",
            "description": "",
            "description_tooltip": null,
            "layout": "IPY_MODEL_1e5f83aa767c46288fddde49e7af2087",
            "placeholder": "​",
            "style": "IPY_MODEL_53c5be926deb4100983cf16d5f711f65",
            "value": "tokenizer_config.json: 100%"
          }
        },
        "0dcd1be17a874fd0a6913fcf4fc45fce": {
          "model_module": "@jupyter-widgets/controls",
          "model_name": "FloatProgressModel",
          "model_module_version": "1.5.0",
          "state": {
            "_dom_classes": [],
            "_model_module": "@jupyter-widgets/controls",
            "_model_module_version": "1.5.0",
            "_model_name": "FloatProgressModel",
            "_view_count": null,
            "_view_module": "@jupyter-widgets/controls",
            "_view_module_version": "1.5.0",
            "_view_name": "ProgressView",
            "bar_style": "success",
            "description": "",
            "description_tooltip": null,
            "layout": "IPY_MODEL_560d1db5f39a44bfb164462a6edef372",
            "max": 48,
            "min": 0,
            "orientation": "horizontal",
            "style": "IPY_MODEL_021b023b6fc74dc488ad9006ffdaa9c2",
            "value": 48
          }
        },
        "e4deb2e7cbcb4e91a878aef14d59488f": {
          "model_module": "@jupyter-widgets/controls",
          "model_name": "HTMLModel",
          "model_module_version": "1.5.0",
          "state": {
            "_dom_classes": [],
            "_model_module": "@jupyter-widgets/controls",
            "_model_module_version": "1.5.0",
            "_model_name": "HTMLModel",
            "_view_count": null,
            "_view_module": "@jupyter-widgets/controls",
            "_view_module_version": "1.5.0",
            "_view_name": "HTMLView",
            "description": "",
            "description_tooltip": null,
            "layout": "IPY_MODEL_093d0016d3f34560a76b5978205eb1db",
            "placeholder": "​",
            "style": "IPY_MODEL_eb69c14c959f4836a717d565668e72f8",
            "value": " 48.0/48.0 [00:00&lt;00:00, 3.91kB/s]"
          }
        },
        "d78ba13eb6f0410c89866400080ed4c1": {
          "model_module": "@jupyter-widgets/base",
          "model_name": "LayoutModel",
          "model_module_version": "1.2.0",
          "state": {
            "_model_module": "@jupyter-widgets/base",
            "_model_module_version": "1.2.0",
            "_model_name": "LayoutModel",
            "_view_count": null,
            "_view_module": "@jupyter-widgets/base",
            "_view_module_version": "1.2.0",
            "_view_name": "LayoutView",
            "align_content": null,
            "align_items": null,
            "align_self": null,
            "border": null,
            "bottom": null,
            "display": null,
            "flex": null,
            "flex_flow": null,
            "grid_area": null,
            "grid_auto_columns": null,
            "grid_auto_flow": null,
            "grid_auto_rows": null,
            "grid_column": null,
            "grid_gap": null,
            "grid_row": null,
            "grid_template_areas": null,
            "grid_template_columns": null,
            "grid_template_rows": null,
            "height": null,
            "justify_content": null,
            "justify_items": null,
            "left": null,
            "margin": null,
            "max_height": null,
            "max_width": null,
            "min_height": null,
            "min_width": null,
            "object_fit": null,
            "object_position": null,
            "order": null,
            "overflow": null,
            "overflow_x": null,
            "overflow_y": null,
            "padding": null,
            "right": null,
            "top": null,
            "visibility": null,
            "width": null
          }
        },
        "1e5f83aa767c46288fddde49e7af2087": {
          "model_module": "@jupyter-widgets/base",
          "model_name": "LayoutModel",
          "model_module_version": "1.2.0",
          "state": {
            "_model_module": "@jupyter-widgets/base",
            "_model_module_version": "1.2.0",
            "_model_name": "LayoutModel",
            "_view_count": null,
            "_view_module": "@jupyter-widgets/base",
            "_view_module_version": "1.2.0",
            "_view_name": "LayoutView",
            "align_content": null,
            "align_items": null,
            "align_self": null,
            "border": null,
            "bottom": null,
            "display": null,
            "flex": null,
            "flex_flow": null,
            "grid_area": null,
            "grid_auto_columns": null,
            "grid_auto_flow": null,
            "grid_auto_rows": null,
            "grid_column": null,
            "grid_gap": null,
            "grid_row": null,
            "grid_template_areas": null,
            "grid_template_columns": null,
            "grid_template_rows": null,
            "height": null,
            "justify_content": null,
            "justify_items": null,
            "left": null,
            "margin": null,
            "max_height": null,
            "max_width": null,
            "min_height": null,
            "min_width": null,
            "object_fit": null,
            "object_position": null,
            "order": null,
            "overflow": null,
            "overflow_x": null,
            "overflow_y": null,
            "padding": null,
            "right": null,
            "top": null,
            "visibility": null,
            "width": null
          }
        },
        "53c5be926deb4100983cf16d5f711f65": {
          "model_module": "@jupyter-widgets/controls",
          "model_name": "DescriptionStyleModel",
          "model_module_version": "1.5.0",
          "state": {
            "_model_module": "@jupyter-widgets/controls",
            "_model_module_version": "1.5.0",
            "_model_name": "DescriptionStyleModel",
            "_view_count": null,
            "_view_module": "@jupyter-widgets/base",
            "_view_module_version": "1.2.0",
            "_view_name": "StyleView",
            "description_width": ""
          }
        },
        "560d1db5f39a44bfb164462a6edef372": {
          "model_module": "@jupyter-widgets/base",
          "model_name": "LayoutModel",
          "model_module_version": "1.2.0",
          "state": {
            "_model_module": "@jupyter-widgets/base",
            "_model_module_version": "1.2.0",
            "_model_name": "LayoutModel",
            "_view_count": null,
            "_view_module": "@jupyter-widgets/base",
            "_view_module_version": "1.2.0",
            "_view_name": "LayoutView",
            "align_content": null,
            "align_items": null,
            "align_self": null,
            "border": null,
            "bottom": null,
            "display": null,
            "flex": null,
            "flex_flow": null,
            "grid_area": null,
            "grid_auto_columns": null,
            "grid_auto_flow": null,
            "grid_auto_rows": null,
            "grid_column": null,
            "grid_gap": null,
            "grid_row": null,
            "grid_template_areas": null,
            "grid_template_columns": null,
            "grid_template_rows": null,
            "height": null,
            "justify_content": null,
            "justify_items": null,
            "left": null,
            "margin": null,
            "max_height": null,
            "max_width": null,
            "min_height": null,
            "min_width": null,
            "object_fit": null,
            "object_position": null,
            "order": null,
            "overflow": null,
            "overflow_x": null,
            "overflow_y": null,
            "padding": null,
            "right": null,
            "top": null,
            "visibility": null,
            "width": null
          }
        },
        "021b023b6fc74dc488ad9006ffdaa9c2": {
          "model_module": "@jupyter-widgets/controls",
          "model_name": "ProgressStyleModel",
          "model_module_version": "1.5.0",
          "state": {
            "_model_module": "@jupyter-widgets/controls",
            "_model_module_version": "1.5.0",
            "_model_name": "ProgressStyleModel",
            "_view_count": null,
            "_view_module": "@jupyter-widgets/base",
            "_view_module_version": "1.2.0",
            "_view_name": "StyleView",
            "bar_color": null,
            "description_width": ""
          }
        },
        "093d0016d3f34560a76b5978205eb1db": {
          "model_module": "@jupyter-widgets/base",
          "model_name": "LayoutModel",
          "model_module_version": "1.2.0",
          "state": {
            "_model_module": "@jupyter-widgets/base",
            "_model_module_version": "1.2.0",
            "_model_name": "LayoutModel",
            "_view_count": null,
            "_view_module": "@jupyter-widgets/base",
            "_view_module_version": "1.2.0",
            "_view_name": "LayoutView",
            "align_content": null,
            "align_items": null,
            "align_self": null,
            "border": null,
            "bottom": null,
            "display": null,
            "flex": null,
            "flex_flow": null,
            "grid_area": null,
            "grid_auto_columns": null,
            "grid_auto_flow": null,
            "grid_auto_rows": null,
            "grid_column": null,
            "grid_gap": null,
            "grid_row": null,
            "grid_template_areas": null,
            "grid_template_columns": null,
            "grid_template_rows": null,
            "height": null,
            "justify_content": null,
            "justify_items": null,
            "left": null,
            "margin": null,
            "max_height": null,
            "max_width": null,
            "min_height": null,
            "min_width": null,
            "object_fit": null,
            "object_position": null,
            "order": null,
            "overflow": null,
            "overflow_x": null,
            "overflow_y": null,
            "padding": null,
            "right": null,
            "top": null,
            "visibility": null,
            "width": null
          }
        },
        "eb69c14c959f4836a717d565668e72f8": {
          "model_module": "@jupyter-widgets/controls",
          "model_name": "DescriptionStyleModel",
          "model_module_version": "1.5.0",
          "state": {
            "_model_module": "@jupyter-widgets/controls",
            "_model_module_version": "1.5.0",
            "_model_name": "DescriptionStyleModel",
            "_view_count": null,
            "_view_module": "@jupyter-widgets/base",
            "_view_module_version": "1.2.0",
            "_view_name": "StyleView",
            "description_width": ""
          }
        },
        "3ebbbc5bff5b40a28c6e15fb3c3c771a": {
          "model_module": "@jupyter-widgets/controls",
          "model_name": "HBoxModel",
          "model_module_version": "1.5.0",
          "state": {
            "_dom_classes": [],
            "_model_module": "@jupyter-widgets/controls",
            "_model_module_version": "1.5.0",
            "_model_name": "HBoxModel",
            "_view_count": null,
            "_view_module": "@jupyter-widgets/controls",
            "_view_module_version": "1.5.0",
            "_view_name": "HBoxView",
            "box_style": "",
            "children": [
              "IPY_MODEL_5751f4a7e2dd42fca058fe88eb2c733c",
              "IPY_MODEL_fb27960071cb42d4968a2e6e45cd8e9c",
              "IPY_MODEL_d3bc4cfbbfb84fada94eda1b447d28a6"
            ],
            "layout": "IPY_MODEL_d4a8407c2f6f465d91746d3d36514c8f"
          }
        },
        "5751f4a7e2dd42fca058fe88eb2c733c": {
          "model_module": "@jupyter-widgets/controls",
          "model_name": "HTMLModel",
          "model_module_version": "1.5.0",
          "state": {
            "_dom_classes": [],
            "_model_module": "@jupyter-widgets/controls",
            "_model_module_version": "1.5.0",
            "_model_name": "HTMLModel",
            "_view_count": null,
            "_view_module": "@jupyter-widgets/controls",
            "_view_module_version": "1.5.0",
            "_view_name": "HTMLView",
            "description": "",
            "description_tooltip": null,
            "layout": "IPY_MODEL_b2b308952a484feb9a3365ba94747637",
            "placeholder": "​",
            "style": "IPY_MODEL_1c639c8db07740cbadb886106d0236ba",
            "value": "vocab.txt: 100%"
          }
        },
        "fb27960071cb42d4968a2e6e45cd8e9c": {
          "model_module": "@jupyter-widgets/controls",
          "model_name": "FloatProgressModel",
          "model_module_version": "1.5.0",
          "state": {
            "_dom_classes": [],
            "_model_module": "@jupyter-widgets/controls",
            "_model_module_version": "1.5.0",
            "_model_name": "FloatProgressModel",
            "_view_count": null,
            "_view_module": "@jupyter-widgets/controls",
            "_view_module_version": "1.5.0",
            "_view_name": "ProgressView",
            "bar_style": "success",
            "description": "",
            "description_tooltip": null,
            "layout": "IPY_MODEL_92a877105a234e0daa69529e84c420c8",
            "max": 231508,
            "min": 0,
            "orientation": "horizontal",
            "style": "IPY_MODEL_a54f06191f0e424f96adf7061c96fb50",
            "value": 231508
          }
        },
        "d3bc4cfbbfb84fada94eda1b447d28a6": {
          "model_module": "@jupyter-widgets/controls",
          "model_name": "HTMLModel",
          "model_module_version": "1.5.0",
          "state": {
            "_dom_classes": [],
            "_model_module": "@jupyter-widgets/controls",
            "_model_module_version": "1.5.0",
            "_model_name": "HTMLModel",
            "_view_count": null,
            "_view_module": "@jupyter-widgets/controls",
            "_view_module_version": "1.5.0",
            "_view_name": "HTMLView",
            "description": "",
            "description_tooltip": null,
            "layout": "IPY_MODEL_0b5764ff63a84d948bf51cf30f7cbe66",
            "placeholder": "​",
            "style": "IPY_MODEL_33761ab2ea194b48b719371294a80f51",
            "value": " 232k/232k [00:00&lt;00:00, 17.7MB/s]"
          }
        },
        "d4a8407c2f6f465d91746d3d36514c8f": {
          "model_module": "@jupyter-widgets/base",
          "model_name": "LayoutModel",
          "model_module_version": "1.2.0",
          "state": {
            "_model_module": "@jupyter-widgets/base",
            "_model_module_version": "1.2.0",
            "_model_name": "LayoutModel",
            "_view_count": null,
            "_view_module": "@jupyter-widgets/base",
            "_view_module_version": "1.2.0",
            "_view_name": "LayoutView",
            "align_content": null,
            "align_items": null,
            "align_self": null,
            "border": null,
            "bottom": null,
            "display": null,
            "flex": null,
            "flex_flow": null,
            "grid_area": null,
            "grid_auto_columns": null,
            "grid_auto_flow": null,
            "grid_auto_rows": null,
            "grid_column": null,
            "grid_gap": null,
            "grid_row": null,
            "grid_template_areas": null,
            "grid_template_columns": null,
            "grid_template_rows": null,
            "height": null,
            "justify_content": null,
            "justify_items": null,
            "left": null,
            "margin": null,
            "max_height": null,
            "max_width": null,
            "min_height": null,
            "min_width": null,
            "object_fit": null,
            "object_position": null,
            "order": null,
            "overflow": null,
            "overflow_x": null,
            "overflow_y": null,
            "padding": null,
            "right": null,
            "top": null,
            "visibility": null,
            "width": null
          }
        },
        "b2b308952a484feb9a3365ba94747637": {
          "model_module": "@jupyter-widgets/base",
          "model_name": "LayoutModel",
          "model_module_version": "1.2.0",
          "state": {
            "_model_module": "@jupyter-widgets/base",
            "_model_module_version": "1.2.0",
            "_model_name": "LayoutModel",
            "_view_count": null,
            "_view_module": "@jupyter-widgets/base",
            "_view_module_version": "1.2.0",
            "_view_name": "LayoutView",
            "align_content": null,
            "align_items": null,
            "align_self": null,
            "border": null,
            "bottom": null,
            "display": null,
            "flex": null,
            "flex_flow": null,
            "grid_area": null,
            "grid_auto_columns": null,
            "grid_auto_flow": null,
            "grid_auto_rows": null,
            "grid_column": null,
            "grid_gap": null,
            "grid_row": null,
            "grid_template_areas": null,
            "grid_template_columns": null,
            "grid_template_rows": null,
            "height": null,
            "justify_content": null,
            "justify_items": null,
            "left": null,
            "margin": null,
            "max_height": null,
            "max_width": null,
            "min_height": null,
            "min_width": null,
            "object_fit": null,
            "object_position": null,
            "order": null,
            "overflow": null,
            "overflow_x": null,
            "overflow_y": null,
            "padding": null,
            "right": null,
            "top": null,
            "visibility": null,
            "width": null
          }
        },
        "1c639c8db07740cbadb886106d0236ba": {
          "model_module": "@jupyter-widgets/controls",
          "model_name": "DescriptionStyleModel",
          "model_module_version": "1.5.0",
          "state": {
            "_model_module": "@jupyter-widgets/controls",
            "_model_module_version": "1.5.0",
            "_model_name": "DescriptionStyleModel",
            "_view_count": null,
            "_view_module": "@jupyter-widgets/base",
            "_view_module_version": "1.2.0",
            "_view_name": "StyleView",
            "description_width": ""
          }
        },
        "92a877105a234e0daa69529e84c420c8": {
          "model_module": "@jupyter-widgets/base",
          "model_name": "LayoutModel",
          "model_module_version": "1.2.0",
          "state": {
            "_model_module": "@jupyter-widgets/base",
            "_model_module_version": "1.2.0",
            "_model_name": "LayoutModel",
            "_view_count": null,
            "_view_module": "@jupyter-widgets/base",
            "_view_module_version": "1.2.0",
            "_view_name": "LayoutView",
            "align_content": null,
            "align_items": null,
            "align_self": null,
            "border": null,
            "bottom": null,
            "display": null,
            "flex": null,
            "flex_flow": null,
            "grid_area": null,
            "grid_auto_columns": null,
            "grid_auto_flow": null,
            "grid_auto_rows": null,
            "grid_column": null,
            "grid_gap": null,
            "grid_row": null,
            "grid_template_areas": null,
            "grid_template_columns": null,
            "grid_template_rows": null,
            "height": null,
            "justify_content": null,
            "justify_items": null,
            "left": null,
            "margin": null,
            "max_height": null,
            "max_width": null,
            "min_height": null,
            "min_width": null,
            "object_fit": null,
            "object_position": null,
            "order": null,
            "overflow": null,
            "overflow_x": null,
            "overflow_y": null,
            "padding": null,
            "right": null,
            "top": null,
            "visibility": null,
            "width": null
          }
        },
        "a54f06191f0e424f96adf7061c96fb50": {
          "model_module": "@jupyter-widgets/controls",
          "model_name": "ProgressStyleModel",
          "model_module_version": "1.5.0",
          "state": {
            "_model_module": "@jupyter-widgets/controls",
            "_model_module_version": "1.5.0",
            "_model_name": "ProgressStyleModel",
            "_view_count": null,
            "_view_module": "@jupyter-widgets/base",
            "_view_module_version": "1.2.0",
            "_view_name": "StyleView",
            "bar_color": null,
            "description_width": ""
          }
        },
        "0b5764ff63a84d948bf51cf30f7cbe66": {
          "model_module": "@jupyter-widgets/base",
          "model_name": "LayoutModel",
          "model_module_version": "1.2.0",
          "state": {
            "_model_module": "@jupyter-widgets/base",
            "_model_module_version": "1.2.0",
            "_model_name": "LayoutModel",
            "_view_count": null,
            "_view_module": "@jupyter-widgets/base",
            "_view_module_version": "1.2.0",
            "_view_name": "LayoutView",
            "align_content": null,
            "align_items": null,
            "align_self": null,
            "border": null,
            "bottom": null,
            "display": null,
            "flex": null,
            "flex_flow": null,
            "grid_area": null,
            "grid_auto_columns": null,
            "grid_auto_flow": null,
            "grid_auto_rows": null,
            "grid_column": null,
            "grid_gap": null,
            "grid_row": null,
            "grid_template_areas": null,
            "grid_template_columns": null,
            "grid_template_rows": null,
            "height": null,
            "justify_content": null,
            "justify_items": null,
            "left": null,
            "margin": null,
            "max_height": null,
            "max_width": null,
            "min_height": null,
            "min_width": null,
            "object_fit": null,
            "object_position": null,
            "order": null,
            "overflow": null,
            "overflow_x": null,
            "overflow_y": null,
            "padding": null,
            "right": null,
            "top": null,
            "visibility": null,
            "width": null
          }
        },
        "33761ab2ea194b48b719371294a80f51": {
          "model_module": "@jupyter-widgets/controls",
          "model_name": "DescriptionStyleModel",
          "model_module_version": "1.5.0",
          "state": {
            "_model_module": "@jupyter-widgets/controls",
            "_model_module_version": "1.5.0",
            "_model_name": "DescriptionStyleModel",
            "_view_count": null,
            "_view_module": "@jupyter-widgets/base",
            "_view_module_version": "1.2.0",
            "_view_name": "StyleView",
            "description_width": ""
          }
        },
        "a63e7028502e44508acd1fc58f689c2c": {
          "model_module": "@jupyter-widgets/controls",
          "model_name": "HBoxModel",
          "model_module_version": "1.5.0",
          "state": {
            "_dom_classes": [],
            "_model_module": "@jupyter-widgets/controls",
            "_model_module_version": "1.5.0",
            "_model_name": "HBoxModel",
            "_view_count": null,
            "_view_module": "@jupyter-widgets/controls",
            "_view_module_version": "1.5.0",
            "_view_name": "HBoxView",
            "box_style": "",
            "children": [
              "IPY_MODEL_b787c3a9cdba4a5e9a468edcf3d31f44",
              "IPY_MODEL_7b8f1995ced14585a5207ce74d98df91",
              "IPY_MODEL_2e190c6e270941b2a82066a92e4316cc"
            ],
            "layout": "IPY_MODEL_04507d6cc4164062bfe70b1d1a8515d1"
          }
        },
        "b787c3a9cdba4a5e9a468edcf3d31f44": {
          "model_module": "@jupyter-widgets/controls",
          "model_name": "HTMLModel",
          "model_module_version": "1.5.0",
          "state": {
            "_dom_classes": [],
            "_model_module": "@jupyter-widgets/controls",
            "_model_module_version": "1.5.0",
            "_model_name": "HTMLModel",
            "_view_count": null,
            "_view_module": "@jupyter-widgets/controls",
            "_view_module_version": "1.5.0",
            "_view_name": "HTMLView",
            "description": "",
            "description_tooltip": null,
            "layout": "IPY_MODEL_3d1fb2b74cd54612a2fecc7db5a003de",
            "placeholder": "​",
            "style": "IPY_MODEL_b2f4b6335fa24df6b2f1b00595e8e056",
            "value": "tokenizer.json: 100%"
          }
        },
        "7b8f1995ced14585a5207ce74d98df91": {
          "model_module": "@jupyter-widgets/controls",
          "model_name": "FloatProgressModel",
          "model_module_version": "1.5.0",
          "state": {
            "_dom_classes": [],
            "_model_module": "@jupyter-widgets/controls",
            "_model_module_version": "1.5.0",
            "_model_name": "FloatProgressModel",
            "_view_count": null,
            "_view_module": "@jupyter-widgets/controls",
            "_view_module_version": "1.5.0",
            "_view_name": "ProgressView",
            "bar_style": "success",
            "description": "",
            "description_tooltip": null,
            "layout": "IPY_MODEL_8958c5eed0b74c489cb4409b5c725225",
            "max": 466062,
            "min": 0,
            "orientation": "horizontal",
            "style": "IPY_MODEL_19caa3ebecf74ec485b60912786686e8",
            "value": 466062
          }
        },
        "2e190c6e270941b2a82066a92e4316cc": {
          "model_module": "@jupyter-widgets/controls",
          "model_name": "HTMLModel",
          "model_module_version": "1.5.0",
          "state": {
            "_dom_classes": [],
            "_model_module": "@jupyter-widgets/controls",
            "_model_module_version": "1.5.0",
            "_model_name": "HTMLModel",
            "_view_count": null,
            "_view_module": "@jupyter-widgets/controls",
            "_view_module_version": "1.5.0",
            "_view_name": "HTMLView",
            "description": "",
            "description_tooltip": null,
            "layout": "IPY_MODEL_0139fc53be504442a5e2df1a7fb05627",
            "placeholder": "​",
            "style": "IPY_MODEL_f607fc159a9b486e9fc0fed485aa886e",
            "value": " 466k/466k [00:00&lt;00:00, 34.6MB/s]"
          }
        },
        "04507d6cc4164062bfe70b1d1a8515d1": {
          "model_module": "@jupyter-widgets/base",
          "model_name": "LayoutModel",
          "model_module_version": "1.2.0",
          "state": {
            "_model_module": "@jupyter-widgets/base",
            "_model_module_version": "1.2.0",
            "_model_name": "LayoutModel",
            "_view_count": null,
            "_view_module": "@jupyter-widgets/base",
            "_view_module_version": "1.2.0",
            "_view_name": "LayoutView",
            "align_content": null,
            "align_items": null,
            "align_self": null,
            "border": null,
            "bottom": null,
            "display": null,
            "flex": null,
            "flex_flow": null,
            "grid_area": null,
            "grid_auto_columns": null,
            "grid_auto_flow": null,
            "grid_auto_rows": null,
            "grid_column": null,
            "grid_gap": null,
            "grid_row": null,
            "grid_template_areas": null,
            "grid_template_columns": null,
            "grid_template_rows": null,
            "height": null,
            "justify_content": null,
            "justify_items": null,
            "left": null,
            "margin": null,
            "max_height": null,
            "max_width": null,
            "min_height": null,
            "min_width": null,
            "object_fit": null,
            "object_position": null,
            "order": null,
            "overflow": null,
            "overflow_x": null,
            "overflow_y": null,
            "padding": null,
            "right": null,
            "top": null,
            "visibility": null,
            "width": null
          }
        },
        "3d1fb2b74cd54612a2fecc7db5a003de": {
          "model_module": "@jupyter-widgets/base",
          "model_name": "LayoutModel",
          "model_module_version": "1.2.0",
          "state": {
            "_model_module": "@jupyter-widgets/base",
            "_model_module_version": "1.2.0",
            "_model_name": "LayoutModel",
            "_view_count": null,
            "_view_module": "@jupyter-widgets/base",
            "_view_module_version": "1.2.0",
            "_view_name": "LayoutView",
            "align_content": null,
            "align_items": null,
            "align_self": null,
            "border": null,
            "bottom": null,
            "display": null,
            "flex": null,
            "flex_flow": null,
            "grid_area": null,
            "grid_auto_columns": null,
            "grid_auto_flow": null,
            "grid_auto_rows": null,
            "grid_column": null,
            "grid_gap": null,
            "grid_row": null,
            "grid_template_areas": null,
            "grid_template_columns": null,
            "grid_template_rows": null,
            "height": null,
            "justify_content": null,
            "justify_items": null,
            "left": null,
            "margin": null,
            "max_height": null,
            "max_width": null,
            "min_height": null,
            "min_width": null,
            "object_fit": null,
            "object_position": null,
            "order": null,
            "overflow": null,
            "overflow_x": null,
            "overflow_y": null,
            "padding": null,
            "right": null,
            "top": null,
            "visibility": null,
            "width": null
          }
        },
        "b2f4b6335fa24df6b2f1b00595e8e056": {
          "model_module": "@jupyter-widgets/controls",
          "model_name": "DescriptionStyleModel",
          "model_module_version": "1.5.0",
          "state": {
            "_model_module": "@jupyter-widgets/controls",
            "_model_module_version": "1.5.0",
            "_model_name": "DescriptionStyleModel",
            "_view_count": null,
            "_view_module": "@jupyter-widgets/base",
            "_view_module_version": "1.2.0",
            "_view_name": "StyleView",
            "description_width": ""
          }
        },
        "8958c5eed0b74c489cb4409b5c725225": {
          "model_module": "@jupyter-widgets/base",
          "model_name": "LayoutModel",
          "model_module_version": "1.2.0",
          "state": {
            "_model_module": "@jupyter-widgets/base",
            "_model_module_version": "1.2.0",
            "_model_name": "LayoutModel",
            "_view_count": null,
            "_view_module": "@jupyter-widgets/base",
            "_view_module_version": "1.2.0",
            "_view_name": "LayoutView",
            "align_content": null,
            "align_items": null,
            "align_self": null,
            "border": null,
            "bottom": null,
            "display": null,
            "flex": null,
            "flex_flow": null,
            "grid_area": null,
            "grid_auto_columns": null,
            "grid_auto_flow": null,
            "grid_auto_rows": null,
            "grid_column": null,
            "grid_gap": null,
            "grid_row": null,
            "grid_template_areas": null,
            "grid_template_columns": null,
            "grid_template_rows": null,
            "height": null,
            "justify_content": null,
            "justify_items": null,
            "left": null,
            "margin": null,
            "max_height": null,
            "max_width": null,
            "min_height": null,
            "min_width": null,
            "object_fit": null,
            "object_position": null,
            "order": null,
            "overflow": null,
            "overflow_x": null,
            "overflow_y": null,
            "padding": null,
            "right": null,
            "top": null,
            "visibility": null,
            "width": null
          }
        },
        "19caa3ebecf74ec485b60912786686e8": {
          "model_module": "@jupyter-widgets/controls",
          "model_name": "ProgressStyleModel",
          "model_module_version": "1.5.0",
          "state": {
            "_model_module": "@jupyter-widgets/controls",
            "_model_module_version": "1.5.0",
            "_model_name": "ProgressStyleModel",
            "_view_count": null,
            "_view_module": "@jupyter-widgets/base",
            "_view_module_version": "1.2.0",
            "_view_name": "StyleView",
            "bar_color": null,
            "description_width": ""
          }
        },
        "0139fc53be504442a5e2df1a7fb05627": {
          "model_module": "@jupyter-widgets/base",
          "model_name": "LayoutModel",
          "model_module_version": "1.2.0",
          "state": {
            "_model_module": "@jupyter-widgets/base",
            "_model_module_version": "1.2.0",
            "_model_name": "LayoutModel",
            "_view_count": null,
            "_view_module": "@jupyter-widgets/base",
            "_view_module_version": "1.2.0",
            "_view_name": "LayoutView",
            "align_content": null,
            "align_items": null,
            "align_self": null,
            "border": null,
            "bottom": null,
            "display": null,
            "flex": null,
            "flex_flow": null,
            "grid_area": null,
            "grid_auto_columns": null,
            "grid_auto_flow": null,
            "grid_auto_rows": null,
            "grid_column": null,
            "grid_gap": null,
            "grid_row": null,
            "grid_template_areas": null,
            "grid_template_columns": null,
            "grid_template_rows": null,
            "height": null,
            "justify_content": null,
            "justify_items": null,
            "left": null,
            "margin": null,
            "max_height": null,
            "max_width": null,
            "min_height": null,
            "min_width": null,
            "object_fit": null,
            "object_position": null,
            "order": null,
            "overflow": null,
            "overflow_x": null,
            "overflow_y": null,
            "padding": null,
            "right": null,
            "top": null,
            "visibility": null,
            "width": null
          }
        },
        "f607fc159a9b486e9fc0fed485aa886e": {
          "model_module": "@jupyter-widgets/controls",
          "model_name": "DescriptionStyleModel",
          "model_module_version": "1.5.0",
          "state": {
            "_model_module": "@jupyter-widgets/controls",
            "_model_module_version": "1.5.0",
            "_model_name": "DescriptionStyleModel",
            "_view_count": null,
            "_view_module": "@jupyter-widgets/base",
            "_view_module_version": "1.2.0",
            "_view_name": "StyleView",
            "description_width": ""
          }
        },
        "a7162067191f4998af4493b0a2535ca1": {
          "model_module": "@jupyter-widgets/controls",
          "model_name": "HBoxModel",
          "model_module_version": "1.5.0",
          "state": {
            "_dom_classes": [],
            "_model_module": "@jupyter-widgets/controls",
            "_model_module_version": "1.5.0",
            "_model_name": "HBoxModel",
            "_view_count": null,
            "_view_module": "@jupyter-widgets/controls",
            "_view_module_version": "1.5.0",
            "_view_name": "HBoxView",
            "box_style": "",
            "children": [
              "IPY_MODEL_70ce8f6279cc4c16bebed27732a26710",
              "IPY_MODEL_c65b26e050f0417d85246d8e319a6e0f",
              "IPY_MODEL_8f9bc4a75d414644ba8e6bc210bdd9ba"
            ],
            "layout": "IPY_MODEL_47d080acc36445288998c8ee99d1efb9"
          }
        },
        "70ce8f6279cc4c16bebed27732a26710": {
          "model_module": "@jupyter-widgets/controls",
          "model_name": "HTMLModel",
          "model_module_version": "1.5.0",
          "state": {
            "_dom_classes": [],
            "_model_module": "@jupyter-widgets/controls",
            "_model_module_version": "1.5.0",
            "_model_name": "HTMLModel",
            "_view_count": null,
            "_view_module": "@jupyter-widgets/controls",
            "_view_module_version": "1.5.0",
            "_view_name": "HTMLView",
            "description": "",
            "description_tooltip": null,
            "layout": "IPY_MODEL_d5c14450755b460883451b81163ba518",
            "placeholder": "​",
            "style": "IPY_MODEL_af1f7d8880214722b3e2464c11984e34",
            "value": "config.json: 100%"
          }
        },
        "c65b26e050f0417d85246d8e319a6e0f": {
          "model_module": "@jupyter-widgets/controls",
          "model_name": "FloatProgressModel",
          "model_module_version": "1.5.0",
          "state": {
            "_dom_classes": [],
            "_model_module": "@jupyter-widgets/controls",
            "_model_module_version": "1.5.0",
            "_model_name": "FloatProgressModel",
            "_view_count": null,
            "_view_module": "@jupyter-widgets/controls",
            "_view_module_version": "1.5.0",
            "_view_name": "ProgressView",
            "bar_style": "success",
            "description": "",
            "description_tooltip": null,
            "layout": "IPY_MODEL_a02252838b764a6995167616fff8cb58",
            "max": 571,
            "min": 0,
            "orientation": "horizontal",
            "style": "IPY_MODEL_a27a5aa870c14302adeb781e6ee634c9",
            "value": 571
          }
        },
        "8f9bc4a75d414644ba8e6bc210bdd9ba": {
          "model_module": "@jupyter-widgets/controls",
          "model_name": "HTMLModel",
          "model_module_version": "1.5.0",
          "state": {
            "_dom_classes": [],
            "_model_module": "@jupyter-widgets/controls",
            "_model_module_version": "1.5.0",
            "_model_name": "HTMLModel",
            "_view_count": null,
            "_view_module": "@jupyter-widgets/controls",
            "_view_module_version": "1.5.0",
            "_view_name": "HTMLView",
            "description": "",
            "description_tooltip": null,
            "layout": "IPY_MODEL_868bc131f521411fa93cbd942b17fb26",
            "placeholder": "​",
            "style": "IPY_MODEL_f24750823292485a8ee03ea071842347",
            "value": " 571/571 [00:00&lt;00:00, 48.8kB/s]"
          }
        },
        "47d080acc36445288998c8ee99d1efb9": {
          "model_module": "@jupyter-widgets/base",
          "model_name": "LayoutModel",
          "model_module_version": "1.2.0",
          "state": {
            "_model_module": "@jupyter-widgets/base",
            "_model_module_version": "1.2.0",
            "_model_name": "LayoutModel",
            "_view_count": null,
            "_view_module": "@jupyter-widgets/base",
            "_view_module_version": "1.2.0",
            "_view_name": "LayoutView",
            "align_content": null,
            "align_items": null,
            "align_self": null,
            "border": null,
            "bottom": null,
            "display": null,
            "flex": null,
            "flex_flow": null,
            "grid_area": null,
            "grid_auto_columns": null,
            "grid_auto_flow": null,
            "grid_auto_rows": null,
            "grid_column": null,
            "grid_gap": null,
            "grid_row": null,
            "grid_template_areas": null,
            "grid_template_columns": null,
            "grid_template_rows": null,
            "height": null,
            "justify_content": null,
            "justify_items": null,
            "left": null,
            "margin": null,
            "max_height": null,
            "max_width": null,
            "min_height": null,
            "min_width": null,
            "object_fit": null,
            "object_position": null,
            "order": null,
            "overflow": null,
            "overflow_x": null,
            "overflow_y": null,
            "padding": null,
            "right": null,
            "top": null,
            "visibility": null,
            "width": null
          }
        },
        "d5c14450755b460883451b81163ba518": {
          "model_module": "@jupyter-widgets/base",
          "model_name": "LayoutModel",
          "model_module_version": "1.2.0",
          "state": {
            "_model_module": "@jupyter-widgets/base",
            "_model_module_version": "1.2.0",
            "_model_name": "LayoutModel",
            "_view_count": null,
            "_view_module": "@jupyter-widgets/base",
            "_view_module_version": "1.2.0",
            "_view_name": "LayoutView",
            "align_content": null,
            "align_items": null,
            "align_self": null,
            "border": null,
            "bottom": null,
            "display": null,
            "flex": null,
            "flex_flow": null,
            "grid_area": null,
            "grid_auto_columns": null,
            "grid_auto_flow": null,
            "grid_auto_rows": null,
            "grid_column": null,
            "grid_gap": null,
            "grid_row": null,
            "grid_template_areas": null,
            "grid_template_columns": null,
            "grid_template_rows": null,
            "height": null,
            "justify_content": null,
            "justify_items": null,
            "left": null,
            "margin": null,
            "max_height": null,
            "max_width": null,
            "min_height": null,
            "min_width": null,
            "object_fit": null,
            "object_position": null,
            "order": null,
            "overflow": null,
            "overflow_x": null,
            "overflow_y": null,
            "padding": null,
            "right": null,
            "top": null,
            "visibility": null,
            "width": null
          }
        },
        "af1f7d8880214722b3e2464c11984e34": {
          "model_module": "@jupyter-widgets/controls",
          "model_name": "DescriptionStyleModel",
          "model_module_version": "1.5.0",
          "state": {
            "_model_module": "@jupyter-widgets/controls",
            "_model_module_version": "1.5.0",
            "_model_name": "DescriptionStyleModel",
            "_view_count": null,
            "_view_module": "@jupyter-widgets/base",
            "_view_module_version": "1.2.0",
            "_view_name": "StyleView",
            "description_width": ""
          }
        },
        "a02252838b764a6995167616fff8cb58": {
          "model_module": "@jupyter-widgets/base",
          "model_name": "LayoutModel",
          "model_module_version": "1.2.0",
          "state": {
            "_model_module": "@jupyter-widgets/base",
            "_model_module_version": "1.2.0",
            "_model_name": "LayoutModel",
            "_view_count": null,
            "_view_module": "@jupyter-widgets/base",
            "_view_module_version": "1.2.0",
            "_view_name": "LayoutView",
            "align_content": null,
            "align_items": null,
            "align_self": null,
            "border": null,
            "bottom": null,
            "display": null,
            "flex": null,
            "flex_flow": null,
            "grid_area": null,
            "grid_auto_columns": null,
            "grid_auto_flow": null,
            "grid_auto_rows": null,
            "grid_column": null,
            "grid_gap": null,
            "grid_row": null,
            "grid_template_areas": null,
            "grid_template_columns": null,
            "grid_template_rows": null,
            "height": null,
            "justify_content": null,
            "justify_items": null,
            "left": null,
            "margin": null,
            "max_height": null,
            "max_width": null,
            "min_height": null,
            "min_width": null,
            "object_fit": null,
            "object_position": null,
            "order": null,
            "overflow": null,
            "overflow_x": null,
            "overflow_y": null,
            "padding": null,
            "right": null,
            "top": null,
            "visibility": null,
            "width": null
          }
        },
        "a27a5aa870c14302adeb781e6ee634c9": {
          "model_module": "@jupyter-widgets/controls",
          "model_name": "ProgressStyleModel",
          "model_module_version": "1.5.0",
          "state": {
            "_model_module": "@jupyter-widgets/controls",
            "_model_module_version": "1.5.0",
            "_model_name": "ProgressStyleModel",
            "_view_count": null,
            "_view_module": "@jupyter-widgets/base",
            "_view_module_version": "1.2.0",
            "_view_name": "StyleView",
            "bar_color": null,
            "description_width": ""
          }
        },
        "868bc131f521411fa93cbd942b17fb26": {
          "model_module": "@jupyter-widgets/base",
          "model_name": "LayoutModel",
          "model_module_version": "1.2.0",
          "state": {
            "_model_module": "@jupyter-widgets/base",
            "_model_module_version": "1.2.0",
            "_model_name": "LayoutModel",
            "_view_count": null,
            "_view_module": "@jupyter-widgets/base",
            "_view_module_version": "1.2.0",
            "_view_name": "LayoutView",
            "align_content": null,
            "align_items": null,
            "align_self": null,
            "border": null,
            "bottom": null,
            "display": null,
            "flex": null,
            "flex_flow": null,
            "grid_area": null,
            "grid_auto_columns": null,
            "grid_auto_flow": null,
            "grid_auto_rows": null,
            "grid_column": null,
            "grid_gap": null,
            "grid_row": null,
            "grid_template_areas": null,
            "grid_template_columns": null,
            "grid_template_rows": null,
            "height": null,
            "justify_content": null,
            "justify_items": null,
            "left": null,
            "margin": null,
            "max_height": null,
            "max_width": null,
            "min_height": null,
            "min_width": null,
            "object_fit": null,
            "object_position": null,
            "order": null,
            "overflow": null,
            "overflow_x": null,
            "overflow_y": null,
            "padding": null,
            "right": null,
            "top": null,
            "visibility": null,
            "width": null
          }
        },
        "f24750823292485a8ee03ea071842347": {
          "model_module": "@jupyter-widgets/controls",
          "model_name": "DescriptionStyleModel",
          "model_module_version": "1.5.0",
          "state": {
            "_model_module": "@jupyter-widgets/controls",
            "_model_module_version": "1.5.0",
            "_model_name": "DescriptionStyleModel",
            "_view_count": null,
            "_view_module": "@jupyter-widgets/base",
            "_view_module_version": "1.2.0",
            "_view_name": "StyleView",
            "description_width": ""
          }
        },
        "3643f3fd0eec48ff9755c56a03510b07": {
          "model_module": "@jupyter-widgets/controls",
          "model_name": "HBoxModel",
          "model_module_version": "1.5.0",
          "state": {
            "_dom_classes": [],
            "_model_module": "@jupyter-widgets/controls",
            "_model_module_version": "1.5.0",
            "_model_name": "HBoxModel",
            "_view_count": null,
            "_view_module": "@jupyter-widgets/controls",
            "_view_module_version": "1.5.0",
            "_view_name": "HBoxView",
            "box_style": "",
            "children": [
              "IPY_MODEL_1ed04403ace74481986ecf4c5279420f",
              "IPY_MODEL_df4fff63785548a297f72274d65b3f81",
              "IPY_MODEL_668474c637434cd9a29913ecb3d97466"
            ],
            "layout": "IPY_MODEL_a312e6b7fede443e827cacc01cd9dfac"
          }
        },
        "1ed04403ace74481986ecf4c5279420f": {
          "model_module": "@jupyter-widgets/controls",
          "model_name": "HTMLModel",
          "model_module_version": "1.5.0",
          "state": {
            "_dom_classes": [],
            "_model_module": "@jupyter-widgets/controls",
            "_model_module_version": "1.5.0",
            "_model_name": "HTMLModel",
            "_view_count": null,
            "_view_module": "@jupyter-widgets/controls",
            "_view_module_version": "1.5.0",
            "_view_name": "HTMLView",
            "description": "",
            "description_tooltip": null,
            "layout": "IPY_MODEL_743a0c51a11b4f6486b83bf925888ff5",
            "placeholder": "​",
            "style": "IPY_MODEL_ed3949acab014a90aa936a0423b3b76f",
            "value": "model.safetensors: 100%"
          }
        },
        "df4fff63785548a297f72274d65b3f81": {
          "model_module": "@jupyter-widgets/controls",
          "model_name": "FloatProgressModel",
          "model_module_version": "1.5.0",
          "state": {
            "_dom_classes": [],
            "_model_module": "@jupyter-widgets/controls",
            "_model_module_version": "1.5.0",
            "_model_name": "FloatProgressModel",
            "_view_count": null,
            "_view_module": "@jupyter-widgets/controls",
            "_view_module_version": "1.5.0",
            "_view_name": "ProgressView",
            "bar_style": "success",
            "description": "",
            "description_tooltip": null,
            "layout": "IPY_MODEL_c96936803d80432e83b134d7461c648e",
            "max": 1344951957,
            "min": 0,
            "orientation": "horizontal",
            "style": "IPY_MODEL_007f3fa09fbc496d8eadeb4cc44fbb1e",
            "value": 1344951957
          }
        },
        "668474c637434cd9a29913ecb3d97466": {
          "model_module": "@jupyter-widgets/controls",
          "model_name": "HTMLModel",
          "model_module_version": "1.5.0",
          "state": {
            "_dom_classes": [],
            "_model_module": "@jupyter-widgets/controls",
            "_model_module_version": "1.5.0",
            "_model_name": "HTMLModel",
            "_view_count": null,
            "_view_module": "@jupyter-widgets/controls",
            "_view_module_version": "1.5.0",
            "_view_name": "HTMLView",
            "description": "",
            "description_tooltip": null,
            "layout": "IPY_MODEL_0116a5064c044161854d6f3f68fee7e1",
            "placeholder": "​",
            "style": "IPY_MODEL_ad508ac477fc42d6912762bd02d5110c",
            "value": " 1.34G/1.34G [00:06&lt;00:00, 215MB/s]"
          }
        },
        "a312e6b7fede443e827cacc01cd9dfac": {
          "model_module": "@jupyter-widgets/base",
          "model_name": "LayoutModel",
          "model_module_version": "1.2.0",
          "state": {
            "_model_module": "@jupyter-widgets/base",
            "_model_module_version": "1.2.0",
            "_model_name": "LayoutModel",
            "_view_count": null,
            "_view_module": "@jupyter-widgets/base",
            "_view_module_version": "1.2.0",
            "_view_name": "LayoutView",
            "align_content": null,
            "align_items": null,
            "align_self": null,
            "border": null,
            "bottom": null,
            "display": null,
            "flex": null,
            "flex_flow": null,
            "grid_area": null,
            "grid_auto_columns": null,
            "grid_auto_flow": null,
            "grid_auto_rows": null,
            "grid_column": null,
            "grid_gap": null,
            "grid_row": null,
            "grid_template_areas": null,
            "grid_template_columns": null,
            "grid_template_rows": null,
            "height": null,
            "justify_content": null,
            "justify_items": null,
            "left": null,
            "margin": null,
            "max_height": null,
            "max_width": null,
            "min_height": null,
            "min_width": null,
            "object_fit": null,
            "object_position": null,
            "order": null,
            "overflow": null,
            "overflow_x": null,
            "overflow_y": null,
            "padding": null,
            "right": null,
            "top": null,
            "visibility": null,
            "width": null
          }
        },
        "743a0c51a11b4f6486b83bf925888ff5": {
          "model_module": "@jupyter-widgets/base",
          "model_name": "LayoutModel",
          "model_module_version": "1.2.0",
          "state": {
            "_model_module": "@jupyter-widgets/base",
            "_model_module_version": "1.2.0",
            "_model_name": "LayoutModel",
            "_view_count": null,
            "_view_module": "@jupyter-widgets/base",
            "_view_module_version": "1.2.0",
            "_view_name": "LayoutView",
            "align_content": null,
            "align_items": null,
            "align_self": null,
            "border": null,
            "bottom": null,
            "display": null,
            "flex": null,
            "flex_flow": null,
            "grid_area": null,
            "grid_auto_columns": null,
            "grid_auto_flow": null,
            "grid_auto_rows": null,
            "grid_column": null,
            "grid_gap": null,
            "grid_row": null,
            "grid_template_areas": null,
            "grid_template_columns": null,
            "grid_template_rows": null,
            "height": null,
            "justify_content": null,
            "justify_items": null,
            "left": null,
            "margin": null,
            "max_height": null,
            "max_width": null,
            "min_height": null,
            "min_width": null,
            "object_fit": null,
            "object_position": null,
            "order": null,
            "overflow": null,
            "overflow_x": null,
            "overflow_y": null,
            "padding": null,
            "right": null,
            "top": null,
            "visibility": null,
            "width": null
          }
        },
        "ed3949acab014a90aa936a0423b3b76f": {
          "model_module": "@jupyter-widgets/controls",
          "model_name": "DescriptionStyleModel",
          "model_module_version": "1.5.0",
          "state": {
            "_model_module": "@jupyter-widgets/controls",
            "_model_module_version": "1.5.0",
            "_model_name": "DescriptionStyleModel",
            "_view_count": null,
            "_view_module": "@jupyter-widgets/base",
            "_view_module_version": "1.2.0",
            "_view_name": "StyleView",
            "description_width": ""
          }
        },
        "c96936803d80432e83b134d7461c648e": {
          "model_module": "@jupyter-widgets/base",
          "model_name": "LayoutModel",
          "model_module_version": "1.2.0",
          "state": {
            "_model_module": "@jupyter-widgets/base",
            "_model_module_version": "1.2.0",
            "_model_name": "LayoutModel",
            "_view_count": null,
            "_view_module": "@jupyter-widgets/base",
            "_view_module_version": "1.2.0",
            "_view_name": "LayoutView",
            "align_content": null,
            "align_items": null,
            "align_self": null,
            "border": null,
            "bottom": null,
            "display": null,
            "flex": null,
            "flex_flow": null,
            "grid_area": null,
            "grid_auto_columns": null,
            "grid_auto_flow": null,
            "grid_auto_rows": null,
            "grid_column": null,
            "grid_gap": null,
            "grid_row": null,
            "grid_template_areas": null,
            "grid_template_columns": null,
            "grid_template_rows": null,
            "height": null,
            "justify_content": null,
            "justify_items": null,
            "left": null,
            "margin": null,
            "max_height": null,
            "max_width": null,
            "min_height": null,
            "min_width": null,
            "object_fit": null,
            "object_position": null,
            "order": null,
            "overflow": null,
            "overflow_x": null,
            "overflow_y": null,
            "padding": null,
            "right": null,
            "top": null,
            "visibility": null,
            "width": null
          }
        },
        "007f3fa09fbc496d8eadeb4cc44fbb1e": {
          "model_module": "@jupyter-widgets/controls",
          "model_name": "ProgressStyleModel",
          "model_module_version": "1.5.0",
          "state": {
            "_model_module": "@jupyter-widgets/controls",
            "_model_module_version": "1.5.0",
            "_model_name": "ProgressStyleModel",
            "_view_count": null,
            "_view_module": "@jupyter-widgets/base",
            "_view_module_version": "1.2.0",
            "_view_name": "StyleView",
            "bar_color": null,
            "description_width": ""
          }
        },
        "0116a5064c044161854d6f3f68fee7e1": {
          "model_module": "@jupyter-widgets/base",
          "model_name": "LayoutModel",
          "model_module_version": "1.2.0",
          "state": {
            "_model_module": "@jupyter-widgets/base",
            "_model_module_version": "1.2.0",
            "_model_name": "LayoutModel",
            "_view_count": null,
            "_view_module": "@jupyter-widgets/base",
            "_view_module_version": "1.2.0",
            "_view_name": "LayoutView",
            "align_content": null,
            "align_items": null,
            "align_self": null,
            "border": null,
            "bottom": null,
            "display": null,
            "flex": null,
            "flex_flow": null,
            "grid_area": null,
            "grid_auto_columns": null,
            "grid_auto_flow": null,
            "grid_auto_rows": null,
            "grid_column": null,
            "grid_gap": null,
            "grid_row": null,
            "grid_template_areas": null,
            "grid_template_columns": null,
            "grid_template_rows": null,
            "height": null,
            "justify_content": null,
            "justify_items": null,
            "left": null,
            "margin": null,
            "max_height": null,
            "max_width": null,
            "min_height": null,
            "min_width": null,
            "object_fit": null,
            "object_position": null,
            "order": null,
            "overflow": null,
            "overflow_x": null,
            "overflow_y": null,
            "padding": null,
            "right": null,
            "top": null,
            "visibility": null,
            "width": null
          }
        },
        "ad508ac477fc42d6912762bd02d5110c": {
          "model_module": "@jupyter-widgets/controls",
          "model_name": "DescriptionStyleModel",
          "model_module_version": "1.5.0",
          "state": {
            "_model_module": "@jupyter-widgets/controls",
            "_model_module_version": "1.5.0",
            "_model_name": "DescriptionStyleModel",
            "_view_count": null,
            "_view_module": "@jupyter-widgets/base",
            "_view_module_version": "1.2.0",
            "_view_name": "StyleView",
            "description_width": ""
          }
        },
        "1073fe5ecc14455e89721f4cbbe8f68e": {
          "model_module": "@jupyter-widgets/controls",
          "model_name": "HBoxModel",
          "model_module_version": "1.5.0",
          "state": {
            "_dom_classes": [],
            "_model_module": "@jupyter-widgets/controls",
            "_model_module_version": "1.5.0",
            "_model_name": "HBoxModel",
            "_view_count": null,
            "_view_module": "@jupyter-widgets/controls",
            "_view_module_version": "1.5.0",
            "_view_name": "HBoxView",
            "box_style": "",
            "children": [
              "IPY_MODEL_7720ea6203d74ead91372a94306f6e11",
              "IPY_MODEL_cf2d8afe3dc64da1ba5d052b604b8538",
              "IPY_MODEL_b1ddf7ff90ea41aaaa0b207b2412d0c5"
            ],
            "layout": "IPY_MODEL_e19f0fdad0bf4f5d83d4dac32ce996db"
          }
        },
        "7720ea6203d74ead91372a94306f6e11": {
          "model_module": "@jupyter-widgets/controls",
          "model_name": "HTMLModel",
          "model_module_version": "1.5.0",
          "state": {
            "_dom_classes": [],
            "_model_module": "@jupyter-widgets/controls",
            "_model_module_version": "1.5.0",
            "_model_name": "HTMLModel",
            "_view_count": null,
            "_view_module": "@jupyter-widgets/controls",
            "_view_module_version": "1.5.0",
            "_view_name": "HTMLView",
            "description": "",
            "description_tooltip": null,
            "layout": "IPY_MODEL_788326fdaf5b4efb9edae196a3be1635",
            "placeholder": "​",
            "style": "IPY_MODEL_93d2f5fbee4c40118aa455302eccaf32",
            "value": "tokenizer_config.json: 100%"
          }
        },
        "cf2d8afe3dc64da1ba5d052b604b8538": {
          "model_module": "@jupyter-widgets/controls",
          "model_name": "FloatProgressModel",
          "model_module_version": "1.5.0",
          "state": {
            "_dom_classes": [],
            "_model_module": "@jupyter-widgets/controls",
            "_model_module_version": "1.5.0",
            "_model_name": "FloatProgressModel",
            "_view_count": null,
            "_view_module": "@jupyter-widgets/controls",
            "_view_module_version": "1.5.0",
            "_view_name": "ProgressView",
            "bar_style": "success",
            "description": "",
            "description_tooltip": null,
            "layout": "IPY_MODEL_2c41b9cb65bb41b09792289a2c3ae463",
            "max": 25,
            "min": 0,
            "orientation": "horizontal",
            "style": "IPY_MODEL_c5c447840e7842e98d9f267e670c9e7b",
            "value": 25
          }
        },
        "b1ddf7ff90ea41aaaa0b207b2412d0c5": {
          "model_module": "@jupyter-widgets/controls",
          "model_name": "HTMLModel",
          "model_module_version": "1.5.0",
          "state": {
            "_dom_classes": [],
            "_model_module": "@jupyter-widgets/controls",
            "_model_module_version": "1.5.0",
            "_model_name": "HTMLModel",
            "_view_count": null,
            "_view_module": "@jupyter-widgets/controls",
            "_view_module_version": "1.5.0",
            "_view_name": "HTMLView",
            "description": "",
            "description_tooltip": null,
            "layout": "IPY_MODEL_bf7859272d0d43d8939e4cb6255ef1e4",
            "placeholder": "​",
            "style": "IPY_MODEL_084c855ce39d4dc9a81897120cd1de18",
            "value": " 25.0/25.0 [00:00&lt;00:00, 2.03kB/s]"
          }
        },
        "e19f0fdad0bf4f5d83d4dac32ce996db": {
          "model_module": "@jupyter-widgets/base",
          "model_name": "LayoutModel",
          "model_module_version": "1.2.0",
          "state": {
            "_model_module": "@jupyter-widgets/base",
            "_model_module_version": "1.2.0",
            "_model_name": "LayoutModel",
            "_view_count": null,
            "_view_module": "@jupyter-widgets/base",
            "_view_module_version": "1.2.0",
            "_view_name": "LayoutView",
            "align_content": null,
            "align_items": null,
            "align_self": null,
            "border": null,
            "bottom": null,
            "display": null,
            "flex": null,
            "flex_flow": null,
            "grid_area": null,
            "grid_auto_columns": null,
            "grid_auto_flow": null,
            "grid_auto_rows": null,
            "grid_column": null,
            "grid_gap": null,
            "grid_row": null,
            "grid_template_areas": null,
            "grid_template_columns": null,
            "grid_template_rows": null,
            "height": null,
            "justify_content": null,
            "justify_items": null,
            "left": null,
            "margin": null,
            "max_height": null,
            "max_width": null,
            "min_height": null,
            "min_width": null,
            "object_fit": null,
            "object_position": null,
            "order": null,
            "overflow": null,
            "overflow_x": null,
            "overflow_y": null,
            "padding": null,
            "right": null,
            "top": null,
            "visibility": null,
            "width": null
          }
        },
        "788326fdaf5b4efb9edae196a3be1635": {
          "model_module": "@jupyter-widgets/base",
          "model_name": "LayoutModel",
          "model_module_version": "1.2.0",
          "state": {
            "_model_module": "@jupyter-widgets/base",
            "_model_module_version": "1.2.0",
            "_model_name": "LayoutModel",
            "_view_count": null,
            "_view_module": "@jupyter-widgets/base",
            "_view_module_version": "1.2.0",
            "_view_name": "LayoutView",
            "align_content": null,
            "align_items": null,
            "align_self": null,
            "border": null,
            "bottom": null,
            "display": null,
            "flex": null,
            "flex_flow": null,
            "grid_area": null,
            "grid_auto_columns": null,
            "grid_auto_flow": null,
            "grid_auto_rows": null,
            "grid_column": null,
            "grid_gap": null,
            "grid_row": null,
            "grid_template_areas": null,
            "grid_template_columns": null,
            "grid_template_rows": null,
            "height": null,
            "justify_content": null,
            "justify_items": null,
            "left": null,
            "margin": null,
            "max_height": null,
            "max_width": null,
            "min_height": null,
            "min_width": null,
            "object_fit": null,
            "object_position": null,
            "order": null,
            "overflow": null,
            "overflow_x": null,
            "overflow_y": null,
            "padding": null,
            "right": null,
            "top": null,
            "visibility": null,
            "width": null
          }
        },
        "93d2f5fbee4c40118aa455302eccaf32": {
          "model_module": "@jupyter-widgets/controls",
          "model_name": "DescriptionStyleModel",
          "model_module_version": "1.5.0",
          "state": {
            "_model_module": "@jupyter-widgets/controls",
            "_model_module_version": "1.5.0",
            "_model_name": "DescriptionStyleModel",
            "_view_count": null,
            "_view_module": "@jupyter-widgets/base",
            "_view_module_version": "1.2.0",
            "_view_name": "StyleView",
            "description_width": ""
          }
        },
        "2c41b9cb65bb41b09792289a2c3ae463": {
          "model_module": "@jupyter-widgets/base",
          "model_name": "LayoutModel",
          "model_module_version": "1.2.0",
          "state": {
            "_model_module": "@jupyter-widgets/base",
            "_model_module_version": "1.2.0",
            "_model_name": "LayoutModel",
            "_view_count": null,
            "_view_module": "@jupyter-widgets/base",
            "_view_module_version": "1.2.0",
            "_view_name": "LayoutView",
            "align_content": null,
            "align_items": null,
            "align_self": null,
            "border": null,
            "bottom": null,
            "display": null,
            "flex": null,
            "flex_flow": null,
            "grid_area": null,
            "grid_auto_columns": null,
            "grid_auto_flow": null,
            "grid_auto_rows": null,
            "grid_column": null,
            "grid_gap": null,
            "grid_row": null,
            "grid_template_areas": null,
            "grid_template_columns": null,
            "grid_template_rows": null,
            "height": null,
            "justify_content": null,
            "justify_items": null,
            "left": null,
            "margin": null,
            "max_height": null,
            "max_width": null,
            "min_height": null,
            "min_width": null,
            "object_fit": null,
            "object_position": null,
            "order": null,
            "overflow": null,
            "overflow_x": null,
            "overflow_y": null,
            "padding": null,
            "right": null,
            "top": null,
            "visibility": null,
            "width": null
          }
        },
        "c5c447840e7842e98d9f267e670c9e7b": {
          "model_module": "@jupyter-widgets/controls",
          "model_name": "ProgressStyleModel",
          "model_module_version": "1.5.0",
          "state": {
            "_model_module": "@jupyter-widgets/controls",
            "_model_module_version": "1.5.0",
            "_model_name": "ProgressStyleModel",
            "_view_count": null,
            "_view_module": "@jupyter-widgets/base",
            "_view_module_version": "1.2.0",
            "_view_name": "StyleView",
            "bar_color": null,
            "description_width": ""
          }
        },
        "bf7859272d0d43d8939e4cb6255ef1e4": {
          "model_module": "@jupyter-widgets/base",
          "model_name": "LayoutModel",
          "model_module_version": "1.2.0",
          "state": {
            "_model_module": "@jupyter-widgets/base",
            "_model_module_version": "1.2.0",
            "_model_name": "LayoutModel",
            "_view_count": null,
            "_view_module": "@jupyter-widgets/base",
            "_view_module_version": "1.2.0",
            "_view_name": "LayoutView",
            "align_content": null,
            "align_items": null,
            "align_self": null,
            "border": null,
            "bottom": null,
            "display": null,
            "flex": null,
            "flex_flow": null,
            "grid_area": null,
            "grid_auto_columns": null,
            "grid_auto_flow": null,
            "grid_auto_rows": null,
            "grid_column": null,
            "grid_gap": null,
            "grid_row": null,
            "grid_template_areas": null,
            "grid_template_columns": null,
            "grid_template_rows": null,
            "height": null,
            "justify_content": null,
            "justify_items": null,
            "left": null,
            "margin": null,
            "max_height": null,
            "max_width": null,
            "min_height": null,
            "min_width": null,
            "object_fit": null,
            "object_position": null,
            "order": null,
            "overflow": null,
            "overflow_x": null,
            "overflow_y": null,
            "padding": null,
            "right": null,
            "top": null,
            "visibility": null,
            "width": null
          }
        },
        "084c855ce39d4dc9a81897120cd1de18": {
          "model_module": "@jupyter-widgets/controls",
          "model_name": "DescriptionStyleModel",
          "model_module_version": "1.5.0",
          "state": {
            "_model_module": "@jupyter-widgets/controls",
            "_model_module_version": "1.5.0",
            "_model_name": "DescriptionStyleModel",
            "_view_count": null,
            "_view_module": "@jupyter-widgets/base",
            "_view_module_version": "1.2.0",
            "_view_name": "StyleView",
            "description_width": ""
          }
        },
        "87e20e80b4fb4359a3f141128e676f16": {
          "model_module": "@jupyter-widgets/controls",
          "model_name": "HBoxModel",
          "model_module_version": "1.5.0",
          "state": {
            "_dom_classes": [],
            "_model_module": "@jupyter-widgets/controls",
            "_model_module_version": "1.5.0",
            "_model_name": "HBoxModel",
            "_view_count": null,
            "_view_module": "@jupyter-widgets/controls",
            "_view_module_version": "1.5.0",
            "_view_name": "HBoxView",
            "box_style": "",
            "children": [
              "IPY_MODEL_f4db346d70b24bcea0633b673f9a7aa3",
              "IPY_MODEL_30df83780c8249b5aaf10dc35718754a",
              "IPY_MODEL_301fcd97400049a6a00197abb4d32f6f"
            ],
            "layout": "IPY_MODEL_72561e9b39b946e2ad99b85f5ec4de82"
          }
        },
        "f4db346d70b24bcea0633b673f9a7aa3": {
          "model_module": "@jupyter-widgets/controls",
          "model_name": "HTMLModel",
          "model_module_version": "1.5.0",
          "state": {
            "_dom_classes": [],
            "_model_module": "@jupyter-widgets/controls",
            "_model_module_version": "1.5.0",
            "_model_name": "HTMLModel",
            "_view_count": null,
            "_view_module": "@jupyter-widgets/controls",
            "_view_module_version": "1.5.0",
            "_view_name": "HTMLView",
            "description": "",
            "description_tooltip": null,
            "layout": "IPY_MODEL_d80699e9764f43d89812077db7f15fba",
            "placeholder": "​",
            "style": "IPY_MODEL_c742040daf4d443996054896ae9f38ab",
            "value": "vocab.json: 100%"
          }
        },
        "30df83780c8249b5aaf10dc35718754a": {
          "model_module": "@jupyter-widgets/controls",
          "model_name": "FloatProgressModel",
          "model_module_version": "1.5.0",
          "state": {
            "_dom_classes": [],
            "_model_module": "@jupyter-widgets/controls",
            "_model_module_version": "1.5.0",
            "_model_name": "FloatProgressModel",
            "_view_count": null,
            "_view_module": "@jupyter-widgets/controls",
            "_view_module_version": "1.5.0",
            "_view_name": "ProgressView",
            "bar_style": "success",
            "description": "",
            "description_tooltip": null,
            "layout": "IPY_MODEL_a238532f8690454997a2cc893a898c04",
            "max": 898823,
            "min": 0,
            "orientation": "horizontal",
            "style": "IPY_MODEL_03c6688f2b274d45bae616c726465454",
            "value": 898823
          }
        },
        "301fcd97400049a6a00197abb4d32f6f": {
          "model_module": "@jupyter-widgets/controls",
          "model_name": "HTMLModel",
          "model_module_version": "1.5.0",
          "state": {
            "_dom_classes": [],
            "_model_module": "@jupyter-widgets/controls",
            "_model_module_version": "1.5.0",
            "_model_name": "HTMLModel",
            "_view_count": null,
            "_view_module": "@jupyter-widgets/controls",
            "_view_module_version": "1.5.0",
            "_view_name": "HTMLView",
            "description": "",
            "description_tooltip": null,
            "layout": "IPY_MODEL_3b5686414af749a0ade4ae07e58a1752",
            "placeholder": "​",
            "style": "IPY_MODEL_2af1485e5a1c45bd8a6efea4b13d8d25",
            "value": " 899k/899k [00:00&lt;00:00, 33.6MB/s]"
          }
        },
        "72561e9b39b946e2ad99b85f5ec4de82": {
          "model_module": "@jupyter-widgets/base",
          "model_name": "LayoutModel",
          "model_module_version": "1.2.0",
          "state": {
            "_model_module": "@jupyter-widgets/base",
            "_model_module_version": "1.2.0",
            "_model_name": "LayoutModel",
            "_view_count": null,
            "_view_module": "@jupyter-widgets/base",
            "_view_module_version": "1.2.0",
            "_view_name": "LayoutView",
            "align_content": null,
            "align_items": null,
            "align_self": null,
            "border": null,
            "bottom": null,
            "display": null,
            "flex": null,
            "flex_flow": null,
            "grid_area": null,
            "grid_auto_columns": null,
            "grid_auto_flow": null,
            "grid_auto_rows": null,
            "grid_column": null,
            "grid_gap": null,
            "grid_row": null,
            "grid_template_areas": null,
            "grid_template_columns": null,
            "grid_template_rows": null,
            "height": null,
            "justify_content": null,
            "justify_items": null,
            "left": null,
            "margin": null,
            "max_height": null,
            "max_width": null,
            "min_height": null,
            "min_width": null,
            "object_fit": null,
            "object_position": null,
            "order": null,
            "overflow": null,
            "overflow_x": null,
            "overflow_y": null,
            "padding": null,
            "right": null,
            "top": null,
            "visibility": null,
            "width": null
          }
        },
        "d80699e9764f43d89812077db7f15fba": {
          "model_module": "@jupyter-widgets/base",
          "model_name": "LayoutModel",
          "model_module_version": "1.2.0",
          "state": {
            "_model_module": "@jupyter-widgets/base",
            "_model_module_version": "1.2.0",
            "_model_name": "LayoutModel",
            "_view_count": null,
            "_view_module": "@jupyter-widgets/base",
            "_view_module_version": "1.2.0",
            "_view_name": "LayoutView",
            "align_content": null,
            "align_items": null,
            "align_self": null,
            "border": null,
            "bottom": null,
            "display": null,
            "flex": null,
            "flex_flow": null,
            "grid_area": null,
            "grid_auto_columns": null,
            "grid_auto_flow": null,
            "grid_auto_rows": null,
            "grid_column": null,
            "grid_gap": null,
            "grid_row": null,
            "grid_template_areas": null,
            "grid_template_columns": null,
            "grid_template_rows": null,
            "height": null,
            "justify_content": null,
            "justify_items": null,
            "left": null,
            "margin": null,
            "max_height": null,
            "max_width": null,
            "min_height": null,
            "min_width": null,
            "object_fit": null,
            "object_position": null,
            "order": null,
            "overflow": null,
            "overflow_x": null,
            "overflow_y": null,
            "padding": null,
            "right": null,
            "top": null,
            "visibility": null,
            "width": null
          }
        },
        "c742040daf4d443996054896ae9f38ab": {
          "model_module": "@jupyter-widgets/controls",
          "model_name": "DescriptionStyleModel",
          "model_module_version": "1.5.0",
          "state": {
            "_model_module": "@jupyter-widgets/controls",
            "_model_module_version": "1.5.0",
            "_model_name": "DescriptionStyleModel",
            "_view_count": null,
            "_view_module": "@jupyter-widgets/base",
            "_view_module_version": "1.2.0",
            "_view_name": "StyleView",
            "description_width": ""
          }
        },
        "a238532f8690454997a2cc893a898c04": {
          "model_module": "@jupyter-widgets/base",
          "model_name": "LayoutModel",
          "model_module_version": "1.2.0",
          "state": {
            "_model_module": "@jupyter-widgets/base",
            "_model_module_version": "1.2.0",
            "_model_name": "LayoutModel",
            "_view_count": null,
            "_view_module": "@jupyter-widgets/base",
            "_view_module_version": "1.2.0",
            "_view_name": "LayoutView",
            "align_content": null,
            "align_items": null,
            "align_self": null,
            "border": null,
            "bottom": null,
            "display": null,
            "flex": null,
            "flex_flow": null,
            "grid_area": null,
            "grid_auto_columns": null,
            "grid_auto_flow": null,
            "grid_auto_rows": null,
            "grid_column": null,
            "grid_gap": null,
            "grid_row": null,
            "grid_template_areas": null,
            "grid_template_columns": null,
            "grid_template_rows": null,
            "height": null,
            "justify_content": null,
            "justify_items": null,
            "left": null,
            "margin": null,
            "max_height": null,
            "max_width": null,
            "min_height": null,
            "min_width": null,
            "object_fit": null,
            "object_position": null,
            "order": null,
            "overflow": null,
            "overflow_x": null,
            "overflow_y": null,
            "padding": null,
            "right": null,
            "top": null,
            "visibility": null,
            "width": null
          }
        },
        "03c6688f2b274d45bae616c726465454": {
          "model_module": "@jupyter-widgets/controls",
          "model_name": "ProgressStyleModel",
          "model_module_version": "1.5.0",
          "state": {
            "_model_module": "@jupyter-widgets/controls",
            "_model_module_version": "1.5.0",
            "_model_name": "ProgressStyleModel",
            "_view_count": null,
            "_view_module": "@jupyter-widgets/base",
            "_view_module_version": "1.2.0",
            "_view_name": "StyleView",
            "bar_color": null,
            "description_width": ""
          }
        },
        "3b5686414af749a0ade4ae07e58a1752": {
          "model_module": "@jupyter-widgets/base",
          "model_name": "LayoutModel",
          "model_module_version": "1.2.0",
          "state": {
            "_model_module": "@jupyter-widgets/base",
            "_model_module_version": "1.2.0",
            "_model_name": "LayoutModel",
            "_view_count": null,
            "_view_module": "@jupyter-widgets/base",
            "_view_module_version": "1.2.0",
            "_view_name": "LayoutView",
            "align_content": null,
            "align_items": null,
            "align_self": null,
            "border": null,
            "bottom": null,
            "display": null,
            "flex": null,
            "flex_flow": null,
            "grid_area": null,
            "grid_auto_columns": null,
            "grid_auto_flow": null,
            "grid_auto_rows": null,
            "grid_column": null,
            "grid_gap": null,
            "grid_row": null,
            "grid_template_areas": null,
            "grid_template_columns": null,
            "grid_template_rows": null,
            "height": null,
            "justify_content": null,
            "justify_items": null,
            "left": null,
            "margin": null,
            "max_height": null,
            "max_width": null,
            "min_height": null,
            "min_width": null,
            "object_fit": null,
            "object_position": null,
            "order": null,
            "overflow": null,
            "overflow_x": null,
            "overflow_y": null,
            "padding": null,
            "right": null,
            "top": null,
            "visibility": null,
            "width": null
          }
        },
        "2af1485e5a1c45bd8a6efea4b13d8d25": {
          "model_module": "@jupyter-widgets/controls",
          "model_name": "DescriptionStyleModel",
          "model_module_version": "1.5.0",
          "state": {
            "_model_module": "@jupyter-widgets/controls",
            "_model_module_version": "1.5.0",
            "_model_name": "DescriptionStyleModel",
            "_view_count": null,
            "_view_module": "@jupyter-widgets/base",
            "_view_module_version": "1.2.0",
            "_view_name": "StyleView",
            "description_width": ""
          }
        },
        "59ae2972214e481f91a0243597f1ca67": {
          "model_module": "@jupyter-widgets/controls",
          "model_name": "HBoxModel",
          "model_module_version": "1.5.0",
          "state": {
            "_dom_classes": [],
            "_model_module": "@jupyter-widgets/controls",
            "_model_module_version": "1.5.0",
            "_model_name": "HBoxModel",
            "_view_count": null,
            "_view_module": "@jupyter-widgets/controls",
            "_view_module_version": "1.5.0",
            "_view_name": "HBoxView",
            "box_style": "",
            "children": [
              "IPY_MODEL_4ff5505c614941e2933cf24cfdc6460a",
              "IPY_MODEL_bfcfd32573534eea81808c92ad0871fb",
              "IPY_MODEL_887ac4f92f1b42b9bb473316f5c5719d"
            ],
            "layout": "IPY_MODEL_7540162780cd4850b8f687aa0b2b8c66"
          }
        },
        "4ff5505c614941e2933cf24cfdc6460a": {
          "model_module": "@jupyter-widgets/controls",
          "model_name": "HTMLModel",
          "model_module_version": "1.5.0",
          "state": {
            "_dom_classes": [],
            "_model_module": "@jupyter-widgets/controls",
            "_model_module_version": "1.5.0",
            "_model_name": "HTMLModel",
            "_view_count": null,
            "_view_module": "@jupyter-widgets/controls",
            "_view_module_version": "1.5.0",
            "_view_name": "HTMLView",
            "description": "",
            "description_tooltip": null,
            "layout": "IPY_MODEL_c30f6aff0a68434a9814753754413b82",
            "placeholder": "​",
            "style": "IPY_MODEL_6f693af80d2b4ba1b306b30fe4a42bb5",
            "value": "merges.txt: 100%"
          }
        },
        "bfcfd32573534eea81808c92ad0871fb": {
          "model_module": "@jupyter-widgets/controls",
          "model_name": "FloatProgressModel",
          "model_module_version": "1.5.0",
          "state": {
            "_dom_classes": [],
            "_model_module": "@jupyter-widgets/controls",
            "_model_module_version": "1.5.0",
            "_model_name": "FloatProgressModel",
            "_view_count": null,
            "_view_module": "@jupyter-widgets/controls",
            "_view_module_version": "1.5.0",
            "_view_name": "ProgressView",
            "bar_style": "success",
            "description": "",
            "description_tooltip": null,
            "layout": "IPY_MODEL_690fdea5007a488ebe8feba0c17e9244",
            "max": 456318,
            "min": 0,
            "orientation": "horizontal",
            "style": "IPY_MODEL_5c75a3fd71c34417a6f6601d79b4381b",
            "value": 456318
          }
        },
        "887ac4f92f1b42b9bb473316f5c5719d": {
          "model_module": "@jupyter-widgets/controls",
          "model_name": "HTMLModel",
          "model_module_version": "1.5.0",
          "state": {
            "_dom_classes": [],
            "_model_module": "@jupyter-widgets/controls",
            "_model_module_version": "1.5.0",
            "_model_name": "HTMLModel",
            "_view_count": null,
            "_view_module": "@jupyter-widgets/controls",
            "_view_module_version": "1.5.0",
            "_view_name": "HTMLView",
            "description": "",
            "description_tooltip": null,
            "layout": "IPY_MODEL_1ddc1124efe940f39b1e7f01cbd378aa",
            "placeholder": "​",
            "style": "IPY_MODEL_a1002e857c8e47fc8f15c6d002bd0c37",
            "value": " 456k/456k [00:00&lt;00:00, 26.1MB/s]"
          }
        },
        "7540162780cd4850b8f687aa0b2b8c66": {
          "model_module": "@jupyter-widgets/base",
          "model_name": "LayoutModel",
          "model_module_version": "1.2.0",
          "state": {
            "_model_module": "@jupyter-widgets/base",
            "_model_module_version": "1.2.0",
            "_model_name": "LayoutModel",
            "_view_count": null,
            "_view_module": "@jupyter-widgets/base",
            "_view_module_version": "1.2.0",
            "_view_name": "LayoutView",
            "align_content": null,
            "align_items": null,
            "align_self": null,
            "border": null,
            "bottom": null,
            "display": null,
            "flex": null,
            "flex_flow": null,
            "grid_area": null,
            "grid_auto_columns": null,
            "grid_auto_flow": null,
            "grid_auto_rows": null,
            "grid_column": null,
            "grid_gap": null,
            "grid_row": null,
            "grid_template_areas": null,
            "grid_template_columns": null,
            "grid_template_rows": null,
            "height": null,
            "justify_content": null,
            "justify_items": null,
            "left": null,
            "margin": null,
            "max_height": null,
            "max_width": null,
            "min_height": null,
            "min_width": null,
            "object_fit": null,
            "object_position": null,
            "order": null,
            "overflow": null,
            "overflow_x": null,
            "overflow_y": null,
            "padding": null,
            "right": null,
            "top": null,
            "visibility": null,
            "width": null
          }
        },
        "c30f6aff0a68434a9814753754413b82": {
          "model_module": "@jupyter-widgets/base",
          "model_name": "LayoutModel",
          "model_module_version": "1.2.0",
          "state": {
            "_model_module": "@jupyter-widgets/base",
            "_model_module_version": "1.2.0",
            "_model_name": "LayoutModel",
            "_view_count": null,
            "_view_module": "@jupyter-widgets/base",
            "_view_module_version": "1.2.0",
            "_view_name": "LayoutView",
            "align_content": null,
            "align_items": null,
            "align_self": null,
            "border": null,
            "bottom": null,
            "display": null,
            "flex": null,
            "flex_flow": null,
            "grid_area": null,
            "grid_auto_columns": null,
            "grid_auto_flow": null,
            "grid_auto_rows": null,
            "grid_column": null,
            "grid_gap": null,
            "grid_row": null,
            "grid_template_areas": null,
            "grid_template_columns": null,
            "grid_template_rows": null,
            "height": null,
            "justify_content": null,
            "justify_items": null,
            "left": null,
            "margin": null,
            "max_height": null,
            "max_width": null,
            "min_height": null,
            "min_width": null,
            "object_fit": null,
            "object_position": null,
            "order": null,
            "overflow": null,
            "overflow_x": null,
            "overflow_y": null,
            "padding": null,
            "right": null,
            "top": null,
            "visibility": null,
            "width": null
          }
        },
        "6f693af80d2b4ba1b306b30fe4a42bb5": {
          "model_module": "@jupyter-widgets/controls",
          "model_name": "DescriptionStyleModel",
          "model_module_version": "1.5.0",
          "state": {
            "_model_module": "@jupyter-widgets/controls",
            "_model_module_version": "1.5.0",
            "_model_name": "DescriptionStyleModel",
            "_view_count": null,
            "_view_module": "@jupyter-widgets/base",
            "_view_module_version": "1.2.0",
            "_view_name": "StyleView",
            "description_width": ""
          }
        },
        "690fdea5007a488ebe8feba0c17e9244": {
          "model_module": "@jupyter-widgets/base",
          "model_name": "LayoutModel",
          "model_module_version": "1.2.0",
          "state": {
            "_model_module": "@jupyter-widgets/base",
            "_model_module_version": "1.2.0",
            "_model_name": "LayoutModel",
            "_view_count": null,
            "_view_module": "@jupyter-widgets/base",
            "_view_module_version": "1.2.0",
            "_view_name": "LayoutView",
            "align_content": null,
            "align_items": null,
            "align_self": null,
            "border": null,
            "bottom": null,
            "display": null,
            "flex": null,
            "flex_flow": null,
            "grid_area": null,
            "grid_auto_columns": null,
            "grid_auto_flow": null,
            "grid_auto_rows": null,
            "grid_column": null,
            "grid_gap": null,
            "grid_row": null,
            "grid_template_areas": null,
            "grid_template_columns": null,
            "grid_template_rows": null,
            "height": null,
            "justify_content": null,
            "justify_items": null,
            "left": null,
            "margin": null,
            "max_height": null,
            "max_width": null,
            "min_height": null,
            "min_width": null,
            "object_fit": null,
            "object_position": null,
            "order": null,
            "overflow": null,
            "overflow_x": null,
            "overflow_y": null,
            "padding": null,
            "right": null,
            "top": null,
            "visibility": null,
            "width": null
          }
        },
        "5c75a3fd71c34417a6f6601d79b4381b": {
          "model_module": "@jupyter-widgets/controls",
          "model_name": "ProgressStyleModel",
          "model_module_version": "1.5.0",
          "state": {
            "_model_module": "@jupyter-widgets/controls",
            "_model_module_version": "1.5.0",
            "_model_name": "ProgressStyleModel",
            "_view_count": null,
            "_view_module": "@jupyter-widgets/base",
            "_view_module_version": "1.2.0",
            "_view_name": "StyleView",
            "bar_color": null,
            "description_width": ""
          }
        },
        "1ddc1124efe940f39b1e7f01cbd378aa": {
          "model_module": "@jupyter-widgets/base",
          "model_name": "LayoutModel",
          "model_module_version": "1.2.0",
          "state": {
            "_model_module": "@jupyter-widgets/base",
            "_model_module_version": "1.2.0",
            "_model_name": "LayoutModel",
            "_view_count": null,
            "_view_module": "@jupyter-widgets/base",
            "_view_module_version": "1.2.0",
            "_view_name": "LayoutView",
            "align_content": null,
            "align_items": null,
            "align_self": null,
            "border": null,
            "bottom": null,
            "display": null,
            "flex": null,
            "flex_flow": null,
            "grid_area": null,
            "grid_auto_columns": null,
            "grid_auto_flow": null,
            "grid_auto_rows": null,
            "grid_column": null,
            "grid_gap": null,
            "grid_row": null,
            "grid_template_areas": null,
            "grid_template_columns": null,
            "grid_template_rows": null,
            "height": null,
            "justify_content": null,
            "justify_items": null,
            "left": null,
            "margin": null,
            "max_height": null,
            "max_width": null,
            "min_height": null,
            "min_width": null,
            "object_fit": null,
            "object_position": null,
            "order": null,
            "overflow": null,
            "overflow_x": null,
            "overflow_y": null,
            "padding": null,
            "right": null,
            "top": null,
            "visibility": null,
            "width": null
          }
        },
        "a1002e857c8e47fc8f15c6d002bd0c37": {
          "model_module": "@jupyter-widgets/controls",
          "model_name": "DescriptionStyleModel",
          "model_module_version": "1.5.0",
          "state": {
            "_model_module": "@jupyter-widgets/controls",
            "_model_module_version": "1.5.0",
            "_model_name": "DescriptionStyleModel",
            "_view_count": null,
            "_view_module": "@jupyter-widgets/base",
            "_view_module_version": "1.2.0",
            "_view_name": "StyleView",
            "description_width": ""
          }
        },
        "a33eabdb723540fdb07d4024e487c1e2": {
          "model_module": "@jupyter-widgets/controls",
          "model_name": "HBoxModel",
          "model_module_version": "1.5.0",
          "state": {
            "_dom_classes": [],
            "_model_module": "@jupyter-widgets/controls",
            "_model_module_version": "1.5.0",
            "_model_name": "HBoxModel",
            "_view_count": null,
            "_view_module": "@jupyter-widgets/controls",
            "_view_module_version": "1.5.0",
            "_view_name": "HBoxView",
            "box_style": "",
            "children": [
              "IPY_MODEL_86c8c797cfc34beea38d9f22c2077766",
              "IPY_MODEL_956e4821c68d4996ab787af122461297",
              "IPY_MODEL_46be3ebddff94f0994c2ed351fceb655"
            ],
            "layout": "IPY_MODEL_cb392812614e4e03b2c5022e765ac30b"
          }
        },
        "86c8c797cfc34beea38d9f22c2077766": {
          "model_module": "@jupyter-widgets/controls",
          "model_name": "HTMLModel",
          "model_module_version": "1.5.0",
          "state": {
            "_dom_classes": [],
            "_model_module": "@jupyter-widgets/controls",
            "_model_module_version": "1.5.0",
            "_model_name": "HTMLModel",
            "_view_count": null,
            "_view_module": "@jupyter-widgets/controls",
            "_view_module_version": "1.5.0",
            "_view_name": "HTMLView",
            "description": "",
            "description_tooltip": null,
            "layout": "IPY_MODEL_4cb17b3768b145458816f7dd62fc73f5",
            "placeholder": "​",
            "style": "IPY_MODEL_107d8f2a0c134011aed17328922d51c9",
            "value": "tokenizer.json: 100%"
          }
        },
        "956e4821c68d4996ab787af122461297": {
          "model_module": "@jupyter-widgets/controls",
          "model_name": "FloatProgressModel",
          "model_module_version": "1.5.0",
          "state": {
            "_dom_classes": [],
            "_model_module": "@jupyter-widgets/controls",
            "_model_module_version": "1.5.0",
            "_model_name": "FloatProgressModel",
            "_view_count": null,
            "_view_module": "@jupyter-widgets/controls",
            "_view_module_version": "1.5.0",
            "_view_name": "ProgressView",
            "bar_style": "success",
            "description": "",
            "description_tooltip": null,
            "layout": "IPY_MODEL_7fcc70b472f74cc1b2dab881444b1c14",
            "max": 1355863,
            "min": 0,
            "orientation": "horizontal",
            "style": "IPY_MODEL_9b0db268567f4dccb52fa0b9cc418143",
            "value": 1355863
          }
        },
        "46be3ebddff94f0994c2ed351fceb655": {
          "model_module": "@jupyter-widgets/controls",
          "model_name": "HTMLModel",
          "model_module_version": "1.5.0",
          "state": {
            "_dom_classes": [],
            "_model_module": "@jupyter-widgets/controls",
            "_model_module_version": "1.5.0",
            "_model_name": "HTMLModel",
            "_view_count": null,
            "_view_module": "@jupyter-widgets/controls",
            "_view_module_version": "1.5.0",
            "_view_name": "HTMLView",
            "description": "",
            "description_tooltip": null,
            "layout": "IPY_MODEL_222e3346817a46c5aefe8815a537cf62",
            "placeholder": "​",
            "style": "IPY_MODEL_5fc8b863b84a4c6f8272bfcb18ae4d61",
            "value": " 1.36M/1.36M [00:00&lt;00:00, 22.1MB/s]"
          }
        },
        "cb392812614e4e03b2c5022e765ac30b": {
          "model_module": "@jupyter-widgets/base",
          "model_name": "LayoutModel",
          "model_module_version": "1.2.0",
          "state": {
            "_model_module": "@jupyter-widgets/base",
            "_model_module_version": "1.2.0",
            "_model_name": "LayoutModel",
            "_view_count": null,
            "_view_module": "@jupyter-widgets/base",
            "_view_module_version": "1.2.0",
            "_view_name": "LayoutView",
            "align_content": null,
            "align_items": null,
            "align_self": null,
            "border": null,
            "bottom": null,
            "display": null,
            "flex": null,
            "flex_flow": null,
            "grid_area": null,
            "grid_auto_columns": null,
            "grid_auto_flow": null,
            "grid_auto_rows": null,
            "grid_column": null,
            "grid_gap": null,
            "grid_row": null,
            "grid_template_areas": null,
            "grid_template_columns": null,
            "grid_template_rows": null,
            "height": null,
            "justify_content": null,
            "justify_items": null,
            "left": null,
            "margin": null,
            "max_height": null,
            "max_width": null,
            "min_height": null,
            "min_width": null,
            "object_fit": null,
            "object_position": null,
            "order": null,
            "overflow": null,
            "overflow_x": null,
            "overflow_y": null,
            "padding": null,
            "right": null,
            "top": null,
            "visibility": null,
            "width": null
          }
        },
        "4cb17b3768b145458816f7dd62fc73f5": {
          "model_module": "@jupyter-widgets/base",
          "model_name": "LayoutModel",
          "model_module_version": "1.2.0",
          "state": {
            "_model_module": "@jupyter-widgets/base",
            "_model_module_version": "1.2.0",
            "_model_name": "LayoutModel",
            "_view_count": null,
            "_view_module": "@jupyter-widgets/base",
            "_view_module_version": "1.2.0",
            "_view_name": "LayoutView",
            "align_content": null,
            "align_items": null,
            "align_self": null,
            "border": null,
            "bottom": null,
            "display": null,
            "flex": null,
            "flex_flow": null,
            "grid_area": null,
            "grid_auto_columns": null,
            "grid_auto_flow": null,
            "grid_auto_rows": null,
            "grid_column": null,
            "grid_gap": null,
            "grid_row": null,
            "grid_template_areas": null,
            "grid_template_columns": null,
            "grid_template_rows": null,
            "height": null,
            "justify_content": null,
            "justify_items": null,
            "left": null,
            "margin": null,
            "max_height": null,
            "max_width": null,
            "min_height": null,
            "min_width": null,
            "object_fit": null,
            "object_position": null,
            "order": null,
            "overflow": null,
            "overflow_x": null,
            "overflow_y": null,
            "padding": null,
            "right": null,
            "top": null,
            "visibility": null,
            "width": null
          }
        },
        "107d8f2a0c134011aed17328922d51c9": {
          "model_module": "@jupyter-widgets/controls",
          "model_name": "DescriptionStyleModel",
          "model_module_version": "1.5.0",
          "state": {
            "_model_module": "@jupyter-widgets/controls",
            "_model_module_version": "1.5.0",
            "_model_name": "DescriptionStyleModel",
            "_view_count": null,
            "_view_module": "@jupyter-widgets/base",
            "_view_module_version": "1.2.0",
            "_view_name": "StyleView",
            "description_width": ""
          }
        },
        "7fcc70b472f74cc1b2dab881444b1c14": {
          "model_module": "@jupyter-widgets/base",
          "model_name": "LayoutModel",
          "model_module_version": "1.2.0",
          "state": {
            "_model_module": "@jupyter-widgets/base",
            "_model_module_version": "1.2.0",
            "_model_name": "LayoutModel",
            "_view_count": null,
            "_view_module": "@jupyter-widgets/base",
            "_view_module_version": "1.2.0",
            "_view_name": "LayoutView",
            "align_content": null,
            "align_items": null,
            "align_self": null,
            "border": null,
            "bottom": null,
            "display": null,
            "flex": null,
            "flex_flow": null,
            "grid_area": null,
            "grid_auto_columns": null,
            "grid_auto_flow": null,
            "grid_auto_rows": null,
            "grid_column": null,
            "grid_gap": null,
            "grid_row": null,
            "grid_template_areas": null,
            "grid_template_columns": null,
            "grid_template_rows": null,
            "height": null,
            "justify_content": null,
            "justify_items": null,
            "left": null,
            "margin": null,
            "max_height": null,
            "max_width": null,
            "min_height": null,
            "min_width": null,
            "object_fit": null,
            "object_position": null,
            "order": null,
            "overflow": null,
            "overflow_x": null,
            "overflow_y": null,
            "padding": null,
            "right": null,
            "top": null,
            "visibility": null,
            "width": null
          }
        },
        "9b0db268567f4dccb52fa0b9cc418143": {
          "model_module": "@jupyter-widgets/controls",
          "model_name": "ProgressStyleModel",
          "model_module_version": "1.5.0",
          "state": {
            "_model_module": "@jupyter-widgets/controls",
            "_model_module_version": "1.5.0",
            "_model_name": "ProgressStyleModel",
            "_view_count": null,
            "_view_module": "@jupyter-widgets/base",
            "_view_module_version": "1.2.0",
            "_view_name": "StyleView",
            "bar_color": null,
            "description_width": ""
          }
        },
        "222e3346817a46c5aefe8815a537cf62": {
          "model_module": "@jupyter-widgets/base",
          "model_name": "LayoutModel",
          "model_module_version": "1.2.0",
          "state": {
            "_model_module": "@jupyter-widgets/base",
            "_model_module_version": "1.2.0",
            "_model_name": "LayoutModel",
            "_view_count": null,
            "_view_module": "@jupyter-widgets/base",
            "_view_module_version": "1.2.0",
            "_view_name": "LayoutView",
            "align_content": null,
            "align_items": null,
            "align_self": null,
            "border": null,
            "bottom": null,
            "display": null,
            "flex": null,
            "flex_flow": null,
            "grid_area": null,
            "grid_auto_columns": null,
            "grid_auto_flow": null,
            "grid_auto_rows": null,
            "grid_column": null,
            "grid_gap": null,
            "grid_row": null,
            "grid_template_areas": null,
            "grid_template_columns": null,
            "grid_template_rows": null,
            "height": null,
            "justify_content": null,
            "justify_items": null,
            "left": null,
            "margin": null,
            "max_height": null,
            "max_width": null,
            "min_height": null,
            "min_width": null,
            "object_fit": null,
            "object_position": null,
            "order": null,
            "overflow": null,
            "overflow_x": null,
            "overflow_y": null,
            "padding": null,
            "right": null,
            "top": null,
            "visibility": null,
            "width": null
          }
        },
        "5fc8b863b84a4c6f8272bfcb18ae4d61": {
          "model_module": "@jupyter-widgets/controls",
          "model_name": "DescriptionStyleModel",
          "model_module_version": "1.5.0",
          "state": {
            "_model_module": "@jupyter-widgets/controls",
            "_model_module_version": "1.5.0",
            "_model_name": "DescriptionStyleModel",
            "_view_count": null,
            "_view_module": "@jupyter-widgets/base",
            "_view_module_version": "1.2.0",
            "_view_name": "StyleView",
            "description_width": ""
          }
        },
        "cf153e27c9124e848c522156f2757165": {
          "model_module": "@jupyter-widgets/controls",
          "model_name": "HBoxModel",
          "model_module_version": "1.5.0",
          "state": {
            "_dom_classes": [],
            "_model_module": "@jupyter-widgets/controls",
            "_model_module_version": "1.5.0",
            "_model_name": "HBoxModel",
            "_view_count": null,
            "_view_module": "@jupyter-widgets/controls",
            "_view_module_version": "1.5.0",
            "_view_name": "HBoxView",
            "box_style": "",
            "children": [
              "IPY_MODEL_767a48d5de144f038eba4c613d773c51",
              "IPY_MODEL_74391ebe45564e2aa57e7fd6c1c667d2",
              "IPY_MODEL_aa1769440a9b4cf686d8581c8b7cb563"
            ],
            "layout": "IPY_MODEL_59a9349897644292a71c52b82cb4e14a"
          }
        },
        "767a48d5de144f038eba4c613d773c51": {
          "model_module": "@jupyter-widgets/controls",
          "model_name": "HTMLModel",
          "model_module_version": "1.5.0",
          "state": {
            "_dom_classes": [],
            "_model_module": "@jupyter-widgets/controls",
            "_model_module_version": "1.5.0",
            "_model_name": "HTMLModel",
            "_view_count": null,
            "_view_module": "@jupyter-widgets/controls",
            "_view_module_version": "1.5.0",
            "_view_name": "HTMLView",
            "description": "",
            "description_tooltip": null,
            "layout": "IPY_MODEL_8a075a2b0ea54d80a4fdbf0a2e09d7e4",
            "placeholder": "​",
            "style": "IPY_MODEL_1e9a068c8a02483f91b4db83fe1a3cd9",
            "value": "config.json: 100%"
          }
        },
        "74391ebe45564e2aa57e7fd6c1c667d2": {
          "model_module": "@jupyter-widgets/controls",
          "model_name": "FloatProgressModel",
          "model_module_version": "1.5.0",
          "state": {
            "_dom_classes": [],
            "_model_module": "@jupyter-widgets/controls",
            "_model_module_version": "1.5.0",
            "_model_name": "FloatProgressModel",
            "_view_count": null,
            "_view_module": "@jupyter-widgets/controls",
            "_view_module_version": "1.5.0",
            "_view_name": "ProgressView",
            "bar_style": "success",
            "description": "",
            "description_tooltip": null,
            "layout": "IPY_MODEL_4ec462684c7847d5a1c4f098bc2a730a",
            "max": 482,
            "min": 0,
            "orientation": "horizontal",
            "style": "IPY_MODEL_4805ea3bf6f54edd8af3cb4d585684d0",
            "value": 482
          }
        },
        "aa1769440a9b4cf686d8581c8b7cb563": {
          "model_module": "@jupyter-widgets/controls",
          "model_name": "HTMLModel",
          "model_module_version": "1.5.0",
          "state": {
            "_dom_classes": [],
            "_model_module": "@jupyter-widgets/controls",
            "_model_module_version": "1.5.0",
            "_model_name": "HTMLModel",
            "_view_count": null,
            "_view_module": "@jupyter-widgets/controls",
            "_view_module_version": "1.5.0",
            "_view_name": "HTMLView",
            "description": "",
            "description_tooltip": null,
            "layout": "IPY_MODEL_74572531ed08415d8bb81828d971ea7f",
            "placeholder": "​",
            "style": "IPY_MODEL_a2bd8e05ee8745bb9cba18b3624eb936",
            "value": " 482/482 [00:00&lt;00:00, 41.3kB/s]"
          }
        },
        "59a9349897644292a71c52b82cb4e14a": {
          "model_module": "@jupyter-widgets/base",
          "model_name": "LayoutModel",
          "model_module_version": "1.2.0",
          "state": {
            "_model_module": "@jupyter-widgets/base",
            "_model_module_version": "1.2.0",
            "_model_name": "LayoutModel",
            "_view_count": null,
            "_view_module": "@jupyter-widgets/base",
            "_view_module_version": "1.2.0",
            "_view_name": "LayoutView",
            "align_content": null,
            "align_items": null,
            "align_self": null,
            "border": null,
            "bottom": null,
            "display": null,
            "flex": null,
            "flex_flow": null,
            "grid_area": null,
            "grid_auto_columns": null,
            "grid_auto_flow": null,
            "grid_auto_rows": null,
            "grid_column": null,
            "grid_gap": null,
            "grid_row": null,
            "grid_template_areas": null,
            "grid_template_columns": null,
            "grid_template_rows": null,
            "height": null,
            "justify_content": null,
            "justify_items": null,
            "left": null,
            "margin": null,
            "max_height": null,
            "max_width": null,
            "min_height": null,
            "min_width": null,
            "object_fit": null,
            "object_position": null,
            "order": null,
            "overflow": null,
            "overflow_x": null,
            "overflow_y": null,
            "padding": null,
            "right": null,
            "top": null,
            "visibility": null,
            "width": null
          }
        },
        "8a075a2b0ea54d80a4fdbf0a2e09d7e4": {
          "model_module": "@jupyter-widgets/base",
          "model_name": "LayoutModel",
          "model_module_version": "1.2.0",
          "state": {
            "_model_module": "@jupyter-widgets/base",
            "_model_module_version": "1.2.0",
            "_model_name": "LayoutModel",
            "_view_count": null,
            "_view_module": "@jupyter-widgets/base",
            "_view_module_version": "1.2.0",
            "_view_name": "LayoutView",
            "align_content": null,
            "align_items": null,
            "align_self": null,
            "border": null,
            "bottom": null,
            "display": null,
            "flex": null,
            "flex_flow": null,
            "grid_area": null,
            "grid_auto_columns": null,
            "grid_auto_flow": null,
            "grid_auto_rows": null,
            "grid_column": null,
            "grid_gap": null,
            "grid_row": null,
            "grid_template_areas": null,
            "grid_template_columns": null,
            "grid_template_rows": null,
            "height": null,
            "justify_content": null,
            "justify_items": null,
            "left": null,
            "margin": null,
            "max_height": null,
            "max_width": null,
            "min_height": null,
            "min_width": null,
            "object_fit": null,
            "object_position": null,
            "order": null,
            "overflow": null,
            "overflow_x": null,
            "overflow_y": null,
            "padding": null,
            "right": null,
            "top": null,
            "visibility": null,
            "width": null
          }
        },
        "1e9a068c8a02483f91b4db83fe1a3cd9": {
          "model_module": "@jupyter-widgets/controls",
          "model_name": "DescriptionStyleModel",
          "model_module_version": "1.5.0",
          "state": {
            "_model_module": "@jupyter-widgets/controls",
            "_model_module_version": "1.5.0",
            "_model_name": "DescriptionStyleModel",
            "_view_count": null,
            "_view_module": "@jupyter-widgets/base",
            "_view_module_version": "1.2.0",
            "_view_name": "StyleView",
            "description_width": ""
          }
        },
        "4ec462684c7847d5a1c4f098bc2a730a": {
          "model_module": "@jupyter-widgets/base",
          "model_name": "LayoutModel",
          "model_module_version": "1.2.0",
          "state": {
            "_model_module": "@jupyter-widgets/base",
            "_model_module_version": "1.2.0",
            "_model_name": "LayoutModel",
            "_view_count": null,
            "_view_module": "@jupyter-widgets/base",
            "_view_module_version": "1.2.0",
            "_view_name": "LayoutView",
            "align_content": null,
            "align_items": null,
            "align_self": null,
            "border": null,
            "bottom": null,
            "display": null,
            "flex": null,
            "flex_flow": null,
            "grid_area": null,
            "grid_auto_columns": null,
            "grid_auto_flow": null,
            "grid_auto_rows": null,
            "grid_column": null,
            "grid_gap": null,
            "grid_row": null,
            "grid_template_areas": null,
            "grid_template_columns": null,
            "grid_template_rows": null,
            "height": null,
            "justify_content": null,
            "justify_items": null,
            "left": null,
            "margin": null,
            "max_height": null,
            "max_width": null,
            "min_height": null,
            "min_width": null,
            "object_fit": null,
            "object_position": null,
            "order": null,
            "overflow": null,
            "overflow_x": null,
            "overflow_y": null,
            "padding": null,
            "right": null,
            "top": null,
            "visibility": null,
            "width": null
          }
        },
        "4805ea3bf6f54edd8af3cb4d585684d0": {
          "model_module": "@jupyter-widgets/controls",
          "model_name": "ProgressStyleModel",
          "model_module_version": "1.5.0",
          "state": {
            "_model_module": "@jupyter-widgets/controls",
            "_model_module_version": "1.5.0",
            "_model_name": "ProgressStyleModel",
            "_view_count": null,
            "_view_module": "@jupyter-widgets/base",
            "_view_module_version": "1.2.0",
            "_view_name": "StyleView",
            "bar_color": null,
            "description_width": ""
          }
        },
        "74572531ed08415d8bb81828d971ea7f": {
          "model_module": "@jupyter-widgets/base",
          "model_name": "LayoutModel",
          "model_module_version": "1.2.0",
          "state": {
            "_model_module": "@jupyter-widgets/base",
            "_model_module_version": "1.2.0",
            "_model_name": "LayoutModel",
            "_view_count": null,
            "_view_module": "@jupyter-widgets/base",
            "_view_module_version": "1.2.0",
            "_view_name": "LayoutView",
            "align_content": null,
            "align_items": null,
            "align_self": null,
            "border": null,
            "bottom": null,
            "display": null,
            "flex": null,
            "flex_flow": null,
            "grid_area": null,
            "grid_auto_columns": null,
            "grid_auto_flow": null,
            "grid_auto_rows": null,
            "grid_column": null,
            "grid_gap": null,
            "grid_row": null,
            "grid_template_areas": null,
            "grid_template_columns": null,
            "grid_template_rows": null,
            "height": null,
            "justify_content": null,
            "justify_items": null,
            "left": null,
            "margin": null,
            "max_height": null,
            "max_width": null,
            "min_height": null,
            "min_width": null,
            "object_fit": null,
            "object_position": null,
            "order": null,
            "overflow": null,
            "overflow_x": null,
            "overflow_y": null,
            "padding": null,
            "right": null,
            "top": null,
            "visibility": null,
            "width": null
          }
        },
        "a2bd8e05ee8745bb9cba18b3624eb936": {
          "model_module": "@jupyter-widgets/controls",
          "model_name": "DescriptionStyleModel",
          "model_module_version": "1.5.0",
          "state": {
            "_model_module": "@jupyter-widgets/controls",
            "_model_module_version": "1.5.0",
            "_model_name": "DescriptionStyleModel",
            "_view_count": null,
            "_view_module": "@jupyter-widgets/base",
            "_view_module_version": "1.2.0",
            "_view_name": "StyleView",
            "description_width": ""
          }
        },
        "5fda87112a954976a632b0e8e9dde607": {
          "model_module": "@jupyter-widgets/controls",
          "model_name": "HBoxModel",
          "model_module_version": "1.5.0",
          "state": {
            "_dom_classes": [],
            "_model_module": "@jupyter-widgets/controls",
            "_model_module_version": "1.5.0",
            "_model_name": "HBoxModel",
            "_view_count": null,
            "_view_module": "@jupyter-widgets/controls",
            "_view_module_version": "1.5.0",
            "_view_name": "HBoxView",
            "box_style": "",
            "children": [
              "IPY_MODEL_93ee6c2bc4d64b10bdd15121eafe3dec",
              "IPY_MODEL_95174eda03d64628b06abcbf799609c0",
              "IPY_MODEL_f57381f40aab47f2be8a1cc22d6ae508"
            ],
            "layout": "IPY_MODEL_dd7782c5d9384509adb98f85086e34c9"
          }
        },
        "93ee6c2bc4d64b10bdd15121eafe3dec": {
          "model_module": "@jupyter-widgets/controls",
          "model_name": "HTMLModel",
          "model_module_version": "1.5.0",
          "state": {
            "_dom_classes": [],
            "_model_module": "@jupyter-widgets/controls",
            "_model_module_version": "1.5.0",
            "_model_name": "HTMLModel",
            "_view_count": null,
            "_view_module": "@jupyter-widgets/controls",
            "_view_module_version": "1.5.0",
            "_view_name": "HTMLView",
            "description": "",
            "description_tooltip": null,
            "layout": "IPY_MODEL_dc8d2cdd70564d509c8f2035f8eddac8",
            "placeholder": "​",
            "style": "IPY_MODEL_639dc35674474899bdd4dad0d6934040",
            "value": "model.safetensors: 100%"
          }
        },
        "95174eda03d64628b06abcbf799609c0": {
          "model_module": "@jupyter-widgets/controls",
          "model_name": "FloatProgressModel",
          "model_module_version": "1.5.0",
          "state": {
            "_dom_classes": [],
            "_model_module": "@jupyter-widgets/controls",
            "_model_module_version": "1.5.0",
            "_model_name": "FloatProgressModel",
            "_view_count": null,
            "_view_module": "@jupyter-widgets/controls",
            "_view_module_version": "1.5.0",
            "_view_name": "ProgressView",
            "bar_style": "success",
            "description": "",
            "description_tooltip": null,
            "layout": "IPY_MODEL_0cbbf7b8003547cebce1766f018959bf",
            "max": 1421700479,
            "min": 0,
            "orientation": "horizontal",
            "style": "IPY_MODEL_b95549bbb0034a4198db40de28bc9ba0",
            "value": 1421700479
          }
        },
        "f57381f40aab47f2be8a1cc22d6ae508": {
          "model_module": "@jupyter-widgets/controls",
          "model_name": "HTMLModel",
          "model_module_version": "1.5.0",
          "state": {
            "_dom_classes": [],
            "_model_module": "@jupyter-widgets/controls",
            "_model_module_version": "1.5.0",
            "_model_name": "HTMLModel",
            "_view_count": null,
            "_view_module": "@jupyter-widgets/controls",
            "_view_module_version": "1.5.0",
            "_view_name": "HTMLView",
            "description": "",
            "description_tooltip": null,
            "layout": "IPY_MODEL_130fe9323a1c46af86a23e5050cfbc52",
            "placeholder": "​",
            "style": "IPY_MODEL_32601f6604ca4203af296f6e1c47de72",
            "value": " 1.42G/1.42G [00:06&lt;00:00, 234MB/s]"
          }
        },
        "dd7782c5d9384509adb98f85086e34c9": {
          "model_module": "@jupyter-widgets/base",
          "model_name": "LayoutModel",
          "model_module_version": "1.2.0",
          "state": {
            "_model_module": "@jupyter-widgets/base",
            "_model_module_version": "1.2.0",
            "_model_name": "LayoutModel",
            "_view_count": null,
            "_view_module": "@jupyter-widgets/base",
            "_view_module_version": "1.2.0",
            "_view_name": "LayoutView",
            "align_content": null,
            "align_items": null,
            "align_self": null,
            "border": null,
            "bottom": null,
            "display": null,
            "flex": null,
            "flex_flow": null,
            "grid_area": null,
            "grid_auto_columns": null,
            "grid_auto_flow": null,
            "grid_auto_rows": null,
            "grid_column": null,
            "grid_gap": null,
            "grid_row": null,
            "grid_template_areas": null,
            "grid_template_columns": null,
            "grid_template_rows": null,
            "height": null,
            "justify_content": null,
            "justify_items": null,
            "left": null,
            "margin": null,
            "max_height": null,
            "max_width": null,
            "min_height": null,
            "min_width": null,
            "object_fit": null,
            "object_position": null,
            "order": null,
            "overflow": null,
            "overflow_x": null,
            "overflow_y": null,
            "padding": null,
            "right": null,
            "top": null,
            "visibility": null,
            "width": null
          }
        },
        "dc8d2cdd70564d509c8f2035f8eddac8": {
          "model_module": "@jupyter-widgets/base",
          "model_name": "LayoutModel",
          "model_module_version": "1.2.0",
          "state": {
            "_model_module": "@jupyter-widgets/base",
            "_model_module_version": "1.2.0",
            "_model_name": "LayoutModel",
            "_view_count": null,
            "_view_module": "@jupyter-widgets/base",
            "_view_module_version": "1.2.0",
            "_view_name": "LayoutView",
            "align_content": null,
            "align_items": null,
            "align_self": null,
            "border": null,
            "bottom": null,
            "display": null,
            "flex": null,
            "flex_flow": null,
            "grid_area": null,
            "grid_auto_columns": null,
            "grid_auto_flow": null,
            "grid_auto_rows": null,
            "grid_column": null,
            "grid_gap": null,
            "grid_row": null,
            "grid_template_areas": null,
            "grid_template_columns": null,
            "grid_template_rows": null,
            "height": null,
            "justify_content": null,
            "justify_items": null,
            "left": null,
            "margin": null,
            "max_height": null,
            "max_width": null,
            "min_height": null,
            "min_width": null,
            "object_fit": null,
            "object_position": null,
            "order": null,
            "overflow": null,
            "overflow_x": null,
            "overflow_y": null,
            "padding": null,
            "right": null,
            "top": null,
            "visibility": null,
            "width": null
          }
        },
        "639dc35674474899bdd4dad0d6934040": {
          "model_module": "@jupyter-widgets/controls",
          "model_name": "DescriptionStyleModel",
          "model_module_version": "1.5.0",
          "state": {
            "_model_module": "@jupyter-widgets/controls",
            "_model_module_version": "1.5.0",
            "_model_name": "DescriptionStyleModel",
            "_view_count": null,
            "_view_module": "@jupyter-widgets/base",
            "_view_module_version": "1.2.0",
            "_view_name": "StyleView",
            "description_width": ""
          }
        },
        "0cbbf7b8003547cebce1766f018959bf": {
          "model_module": "@jupyter-widgets/base",
          "model_name": "LayoutModel",
          "model_module_version": "1.2.0",
          "state": {
            "_model_module": "@jupyter-widgets/base",
            "_model_module_version": "1.2.0",
            "_model_name": "LayoutModel",
            "_view_count": null,
            "_view_module": "@jupyter-widgets/base",
            "_view_module_version": "1.2.0",
            "_view_name": "LayoutView",
            "align_content": null,
            "align_items": null,
            "align_self": null,
            "border": null,
            "bottom": null,
            "display": null,
            "flex": null,
            "flex_flow": null,
            "grid_area": null,
            "grid_auto_columns": null,
            "grid_auto_flow": null,
            "grid_auto_rows": null,
            "grid_column": null,
            "grid_gap": null,
            "grid_row": null,
            "grid_template_areas": null,
            "grid_template_columns": null,
            "grid_template_rows": null,
            "height": null,
            "justify_content": null,
            "justify_items": null,
            "left": null,
            "margin": null,
            "max_height": null,
            "max_width": null,
            "min_height": null,
            "min_width": null,
            "object_fit": null,
            "object_position": null,
            "order": null,
            "overflow": null,
            "overflow_x": null,
            "overflow_y": null,
            "padding": null,
            "right": null,
            "top": null,
            "visibility": null,
            "width": null
          }
        },
        "b95549bbb0034a4198db40de28bc9ba0": {
          "model_module": "@jupyter-widgets/controls",
          "model_name": "ProgressStyleModel",
          "model_module_version": "1.5.0",
          "state": {
            "_model_module": "@jupyter-widgets/controls",
            "_model_module_version": "1.5.0",
            "_model_name": "ProgressStyleModel",
            "_view_count": null,
            "_view_module": "@jupyter-widgets/base",
            "_view_module_version": "1.2.0",
            "_view_name": "StyleView",
            "bar_color": null,
            "description_width": ""
          }
        },
        "130fe9323a1c46af86a23e5050cfbc52": {
          "model_module": "@jupyter-widgets/base",
          "model_name": "LayoutModel",
          "model_module_version": "1.2.0",
          "state": {
            "_model_module": "@jupyter-widgets/base",
            "_model_module_version": "1.2.0",
            "_model_name": "LayoutModel",
            "_view_count": null,
            "_view_module": "@jupyter-widgets/base",
            "_view_module_version": "1.2.0",
            "_view_name": "LayoutView",
            "align_content": null,
            "align_items": null,
            "align_self": null,
            "border": null,
            "bottom": null,
            "display": null,
            "flex": null,
            "flex_flow": null,
            "grid_area": null,
            "grid_auto_columns": null,
            "grid_auto_flow": null,
            "grid_auto_rows": null,
            "grid_column": null,
            "grid_gap": null,
            "grid_row": null,
            "grid_template_areas": null,
            "grid_template_columns": null,
            "grid_template_rows": null,
            "height": null,
            "justify_content": null,
            "justify_items": null,
            "left": null,
            "margin": null,
            "max_height": null,
            "max_width": null,
            "min_height": null,
            "min_width": null,
            "object_fit": null,
            "object_position": null,
            "order": null,
            "overflow": null,
            "overflow_x": null,
            "overflow_y": null,
            "padding": null,
            "right": null,
            "top": null,
            "visibility": null,
            "width": null
          }
        },
        "32601f6604ca4203af296f6e1c47de72": {
          "model_module": "@jupyter-widgets/controls",
          "model_name": "DescriptionStyleModel",
          "model_module_version": "1.5.0",
          "state": {
            "_model_module": "@jupyter-widgets/controls",
            "_model_module_version": "1.5.0",
            "_model_name": "DescriptionStyleModel",
            "_view_count": null,
            "_view_module": "@jupyter-widgets/base",
            "_view_module_version": "1.2.0",
            "_view_name": "StyleView",
            "description_width": ""
          }
        }
      }
    },
    "accelerator": "GPU"
  },
  "nbformat": 4,
  "nbformat_minor": 0
}