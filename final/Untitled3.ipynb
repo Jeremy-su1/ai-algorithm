{
  "nbformat": 4,
  "nbformat_minor": 0,
  "metadata": {
    "colab": {
      "provenance": [],
      "machine_shape": "hm",
      "gpuType": "T4",
      "authorship_tag": "ABX9TyP3VLqHbWYGZ3r0UCMALpDJ",
      "include_colab_link": true
    },
    "kernelspec": {
      "name": "python3",
      "display_name": "Python 3"
    },
    "language_info": {
      "name": "python"
    },
    "accelerator": "GPU"
  },
  "cells": [
    {
      "cell_type": "markdown",
      "metadata": {
        "id": "view-in-github",
        "colab_type": "text"
      },
      "source": [
        "<a href=\"https://colab.research.google.com/github/Jeremy-su1/ai-algorithm/blob/main/final/Untitled3.ipynb\" target=\"_parent\"><img src=\"https://colab.research.google.com/assets/colab-badge.svg\" alt=\"Open In Colab\"/></a>"
      ]
    },
    {
      "cell_type": "code",
      "execution_count": null,
      "metadata": {
        "colab": {
          "base_uri": "https://localhost:8080/"
        },
        "id": "vxd9QpO3mrxm",
        "outputId": "abbe0324-267e-4d8b-cd9a-c8d755ccaf3c"
      },
      "outputs": [
        {
          "output_type": "stream",
          "name": "stdout",
          "text": [
            "Logits shape: torch.Size([1, 6, 49152])\n",
            "Hidden states shape: [torch.Size([1, 6, 960]), torch.Size([1, 6, 960]), torch.Size([1, 6, 960]), torch.Size([1, 6, 960]), torch.Size([1, 6, 960]), torch.Size([1, 6, 960]), torch.Size([1, 6, 960]), torch.Size([1, 6, 960]), torch.Size([1, 6, 960]), torch.Size([1, 6, 960]), torch.Size([1, 6, 960]), torch.Size([1, 6, 960]), torch.Size([1, 6, 960]), torch.Size([1, 6, 960]), torch.Size([1, 6, 960]), torch.Size([1, 6, 960]), torch.Size([1, 6, 960]), torch.Size([1, 6, 960]), torch.Size([1, 6, 960]), torch.Size([1, 6, 960]), torch.Size([1, 6, 960]), torch.Size([1, 6, 960]), torch.Size([1, 6, 960]), torch.Size([1, 6, 960]), torch.Size([1, 6, 960]), torch.Size([1, 6, 960]), torch.Size([1, 6, 960]), torch.Size([1, 6, 960]), torch.Size([1, 6, 960]), torch.Size([1, 6, 960]), torch.Size([1, 6, 960]), torch.Size([1, 6, 960]), torch.Size([1, 6, 960])]\n"
          ]
        }
      ],
      "source": [
        "from transformers import AutoModelForCausalLM, AutoTokenizer\n",
        "import torch\n",
        "\n",
        "model_id = \"HuggingFaceTB/SmolLM2-360M\"\n",
        "tokenizer = AutoTokenizer.from_pretrained(model_id)\n",
        "# The `output_hidden_states` parameter is set to `True` to ensure hidden states are returned.\n",
        "model = AutoModelForCausalLM.from_pretrained(model_id, output_hidden_states=True)\n",
        "\n",
        "input_text = \"This is a test sentence.\"\n",
        "inputs = tokenizer(input_text, return_tensors='pt')\n",
        "\n",
        "with torch.no_grad():\n",
        "    outputs = model(**inputs)\n",
        "\n",
        "# 모델 출력 확인\n",
        "print(\"Logits shape:\", outputs.logits.shape)  # logits 확인\n",
        "if hasattr(outputs, 'hidden_states'):\n",
        "    print(\"Hidden states shape:\", [hs.shape for hs in outputs.hidden_states])  # hidden states 확인"
      ]
    },
    {
      "cell_type": "code",
      "source": [
        "# 숨겨진 상태의 수를 확인합니다.\n",
        "num_layers = len(outputs.hidden_states)\n",
        "print(\"Number of layers:\", num_layers)\n"
      ],
      "metadata": {
        "id": "F-jJ0Ys0ngHT",
        "outputId": "9279f8e0-70ea-4842-878b-fa295bbaf385",
        "colab": {
          "base_uri": "https://localhost:8080/"
        }
      },
      "execution_count": null,
      "outputs": [
        {
          "output_type": "stream",
          "name": "stdout",
          "text": [
            "Number of layers: 33\n"
          ]
        }
      ]
    }
  ]
}