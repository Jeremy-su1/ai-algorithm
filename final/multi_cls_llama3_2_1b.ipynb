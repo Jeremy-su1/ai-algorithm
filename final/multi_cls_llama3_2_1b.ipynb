{
  "cells": [
    {
      "cell_type": "markdown",
      "metadata": {
        "id": "view-in-github",
        "colab_type": "text"
      },
      "source": [
        "<a href=\"https://colab.research.google.com/github/Jeremy-su1/ai-algorithm/blob/main/multi_cls_llama3_2_1b.ipynb\" target=\"_parent\"><img src=\"https://colab.research.google.com/assets/colab-badge.svg\" alt=\"Open In Colab\"/></a>"
      ]
    },
    {
      "cell_type": "code",
      "execution_count": null,
      "metadata": {
        "id": "HSLcUb_QPMEM"
      },
      "outputs": [],
      "source": [
        "%%capture\n",
        "!pip install torch\n",
        "!pip install transformers\n",
        "!pip install peft\n",
        "!pip install huggingface_hub"
      ]
    },
    {
      "cell_type": "code",
      "execution_count": null,
      "metadata": {
        "id": "vqZbNV6MXT9I"
      },
      "outputs": [],
      "source": [
        "from google.colab import userdata\n",
        "import torch\n",
        "from transformers import AutoTokenizer, AutoModelForSequenceClassification, Trainer, TrainingArguments\n",
        "from peft import get_peft_model, LoraConfig, TaskType  # PEFT 라이브러리 필요\n",
        "import pandas as pd\n",
        "from google.colab import drive\n",
        "from sklearn.metrics import f1_score\n",
        "\n"
      ]
    },
    {
      "cell_type": "markdown",
      "metadata": {
        "id": "34Igy5kRzFnC"
      },
      "source": [
        "### 1. Import data"
      ]
    },
    {
      "cell_type": "code",
      "execution_count": null,
      "metadata": {
        "colab": {
          "base_uri": "https://localhost:8080/"
        },
        "id": "QXpmCOALkjLK",
        "outputId": "30e7ed8d-89aa-444d-cd82-5f4d7e07e80b"
      },
      "outputs": [
        {
          "output_type": "stream",
          "name": "stdout",
          "text": [
            "Mounted at /content/drive\n"
          ]
        }
      ],
      "source": [
        "from google.colab import drive\n",
        "\n",
        "drive.mount('/content/drive', force_remount=False)\n",
        "train_path = ('/content/drive/MyDrive/DataSet_new/rev_tag_training_samples.csv')\n",
        "valid_path = ('/content/drive/MyDrive/DataSet_new/rev_tag_validation_samples.csv')"
      ]
    },
    {
      "cell_type": "code",
      "execution_count": null,
      "metadata": {
        "id": "I8SVa5Fhmmhz"
      },
      "outputs": [],
      "source": [
        "df_train = pd.read_csv(train_path)\n",
        "df_valid = pd.read_csv(valid_path)\n",
        "label_names = list(df_train.columns[5:])"
      ]
    },
    {
      "cell_type": "code",
      "execution_count": null,
      "metadata": {
        "colab": {
          "base_uri": "https://localhost:8080/",
          "height": 204
        },
        "id": "-p_QN8BemuW4",
        "outputId": "ce002a9d-ea7a-4850-81ca-dd1faf7d711b"
      },
      "outputs": [
        {
          "output_type": "execute_result",
          "data": {
            "text/plain": [
              "                                               Title  \\\n",
              "0  Why threads are needed in my given assignment ...   \n",
              "\n",
              "                                                Body  \\\n",
              "0  <p><strong>I'm not asking to do my assignment....   \n",
              "\n",
              "                Tags_filtered                   Tags_list        Tags_new  \\\n",
              "0  ['java', 'multithreading']  ['java', 'multithreading']  ['Algorithms']   \n",
              "\n",
              "   Algorithms  Backend  Data Science  Databases  Dev Tools  Frontend  Mobile  \\\n",
              "0           1        0             0          0          0         0       0   \n",
              "\n",
              "   Systems  iOS/macOS  \n",
              "0        0          0  "
            ],
            "text/html": [
              "\n",
              "  <div id=\"df-5296f66f-cd0f-4ed1-a21e-c652ed7c3f9f\" class=\"colab-df-container\">\n",
              "    <div>\n",
              "<style scoped>\n",
              "    .dataframe tbody tr th:only-of-type {\n",
              "        vertical-align: middle;\n",
              "    }\n",
              "\n",
              "    .dataframe tbody tr th {\n",
              "        vertical-align: top;\n",
              "    }\n",
              "\n",
              "    .dataframe thead th {\n",
              "        text-align: right;\n",
              "    }\n",
              "</style>\n",
              "<table border=\"1\" class=\"dataframe\">\n",
              "  <thead>\n",
              "    <tr style=\"text-align: right;\">\n",
              "      <th></th>\n",
              "      <th>Title</th>\n",
              "      <th>Body</th>\n",
              "      <th>Tags_filtered</th>\n",
              "      <th>Tags_list</th>\n",
              "      <th>Tags_new</th>\n",
              "      <th>Algorithms</th>\n",
              "      <th>Backend</th>\n",
              "      <th>Data Science</th>\n",
              "      <th>Databases</th>\n",
              "      <th>Dev Tools</th>\n",
              "      <th>Frontend</th>\n",
              "      <th>Mobile</th>\n",
              "      <th>Systems</th>\n",
              "      <th>iOS/macOS</th>\n",
              "    </tr>\n",
              "  </thead>\n",
              "  <tbody>\n",
              "    <tr>\n",
              "      <th>0</th>\n",
              "      <td>Why threads are needed in my given assignment ...</td>\n",
              "      <td>&lt;p&gt;&lt;strong&gt;I'm not asking to do my assignment....</td>\n",
              "      <td>['java', 'multithreading']</td>\n",
              "      <td>['java', 'multithreading']</td>\n",
              "      <td>['Algorithms']</td>\n",
              "      <td>1</td>\n",
              "      <td>0</td>\n",
              "      <td>0</td>\n",
              "      <td>0</td>\n",
              "      <td>0</td>\n",
              "      <td>0</td>\n",
              "      <td>0</td>\n",
              "      <td>0</td>\n",
              "      <td>0</td>\n",
              "    </tr>\n",
              "  </tbody>\n",
              "</table>\n",
              "</div>\n",
              "    <div class=\"colab-df-buttons\">\n",
              "\n",
              "  <div class=\"colab-df-container\">\n",
              "    <button class=\"colab-df-convert\" onclick=\"convertToInteractive('df-5296f66f-cd0f-4ed1-a21e-c652ed7c3f9f')\"\n",
              "            title=\"Convert this dataframe to an interactive table.\"\n",
              "            style=\"display:none;\">\n",
              "\n",
              "  <svg xmlns=\"http://www.w3.org/2000/svg\" height=\"24px\" viewBox=\"0 -960 960 960\">\n",
              "    <path d=\"M120-120v-720h720v720H120Zm60-500h600v-160H180v160Zm220 220h160v-160H400v160Zm0 220h160v-160H400v160ZM180-400h160v-160H180v160Zm440 0h160v-160H620v160ZM180-180h160v-160H180v160Zm440 0h160v-160H620v160Z\"/>\n",
              "  </svg>\n",
              "    </button>\n",
              "\n",
              "  <style>\n",
              "    .colab-df-container {\n",
              "      display:flex;\n",
              "      gap: 12px;\n",
              "    }\n",
              "\n",
              "    .colab-df-convert {\n",
              "      background-color: #E8F0FE;\n",
              "      border: none;\n",
              "      border-radius: 50%;\n",
              "      cursor: pointer;\n",
              "      display: none;\n",
              "      fill: #1967D2;\n",
              "      height: 32px;\n",
              "      padding: 0 0 0 0;\n",
              "      width: 32px;\n",
              "    }\n",
              "\n",
              "    .colab-df-convert:hover {\n",
              "      background-color: #E2EBFA;\n",
              "      box-shadow: 0px 1px 2px rgba(60, 64, 67, 0.3), 0px 1px 3px 1px rgba(60, 64, 67, 0.15);\n",
              "      fill: #174EA6;\n",
              "    }\n",
              "\n",
              "    .colab-df-buttons div {\n",
              "      margin-bottom: 4px;\n",
              "    }\n",
              "\n",
              "    [theme=dark] .colab-df-convert {\n",
              "      background-color: #3B4455;\n",
              "      fill: #D2E3FC;\n",
              "    }\n",
              "\n",
              "    [theme=dark] .colab-df-convert:hover {\n",
              "      background-color: #434B5C;\n",
              "      box-shadow: 0px 1px 3px 1px rgba(0, 0, 0, 0.15);\n",
              "      filter: drop-shadow(0px 1px 2px rgba(0, 0, 0, 0.3));\n",
              "      fill: #FFFFFF;\n",
              "    }\n",
              "  </style>\n",
              "\n",
              "    <script>\n",
              "      const buttonEl =\n",
              "        document.querySelector('#df-5296f66f-cd0f-4ed1-a21e-c652ed7c3f9f button.colab-df-convert');\n",
              "      buttonEl.style.display =\n",
              "        google.colab.kernel.accessAllowed ? 'block' : 'none';\n",
              "\n",
              "      async function convertToInteractive(key) {\n",
              "        const element = document.querySelector('#df-5296f66f-cd0f-4ed1-a21e-c652ed7c3f9f');\n",
              "        const dataTable =\n",
              "          await google.colab.kernel.invokeFunction('convertToInteractive',\n",
              "                                                    [key], {});\n",
              "        if (!dataTable) return;\n",
              "\n",
              "        const docLinkHtml = 'Like what you see? Visit the ' +\n",
              "          '<a target=\"_blank\" href=https://colab.research.google.com/notebooks/data_table.ipynb>data table notebook</a>'\n",
              "          + ' to learn more about interactive tables.';\n",
              "        element.innerHTML = '';\n",
              "        dataTable['output_type'] = 'display_data';\n",
              "        await google.colab.output.renderOutput(dataTable, element);\n",
              "        const docLink = document.createElement('div');\n",
              "        docLink.innerHTML = docLinkHtml;\n",
              "        element.appendChild(docLink);\n",
              "      }\n",
              "    </script>\n",
              "  </div>\n",
              "\n",
              "\n",
              "    </div>\n",
              "  </div>\n"
            ],
            "application/vnd.google.colaboratory.intrinsic+json": {
              "type": "dataframe",
              "variable_name": "df_train",
              "summary": "{\n  \"name\": \"df_train\",\n  \"rows\": 20000,\n  \"fields\": [\n    {\n      \"column\": \"Title\",\n      \"properties\": {\n        \"dtype\": \"string\",\n        \"num_unique_values\": 17258,\n        \"samples\": [\n          \"Do I really need to learn xml for android development?\",\n          \"Counting unique values in Excel\",\n          \"Compatibility between Instant and ZonedDateTime\"\n        ],\n        \"semantic_type\": \"\",\n        \"description\": \"\"\n      }\n    },\n    {\n      \"column\": \"Body\",\n      \"properties\": {\n        \"dtype\": \"string\",\n        \"num_unique_values\": 17259,\n        \"samples\": [\n          \"<p>I pretty much like the idea of the feature-based workflow in Git: using feature branches to support parallel development.</p>\\n\\n<p>In a feature-based workflow, I would develop my tasks in a feature branch (off master), and I would rebase often from master to avoid potential conflicts. If collaborative, I will push/pull the feature branch to the remote. \\nWhen ready to integrate to master, I open a pull-request from my feature branch to master, so that the pull-requests is reviewed by peers &amp; automatically assessed to know if the pull-request (the merge of my feature branch into master) passes the build and unit-tests. If the pull-request is \\\"green\\\" then my feature branch is automatically merged to master. </p>\\n\\n<p>I find the aforementioned workflow fine. However, in some internet posts, they advocate for a  \\\"trunk-based development\\\" (e.g.  <a href=\\\"https://barro.github.io/2016/02/a-succesful-git-branching-model-considered-harmful/\\\" rel=\\\"noreferrer\\\">1</a>, <a href=\\\"http://paulhammant.com/2013/04/05/what-is-trunk-based-development/\\\" rel=\\\"noreferrer\\\">2</a>).</p>\\n\\n<p>As far as I am concerned, trunk-based development does not encourage developing into separate feature branches but all developers develop into master. This model, encourages that developers integrate daily (Martin Fowler's CI practice) to the master to avoid conflicts (in contrast, what I would do is to rebase my feature branch on master). </p>\\n\\n<p>I was wondering which advantages this model would carry over the feature-based model. I have several doubts with the trunk-based model:</p>\\n\\n<ol>\\n<li><p>How would code-review be done? In feature-based model is easy: into the feature branch. In the trunk-based model, since all the commits are published in master, how can I make them reviewed? In fact, if I resolve conflicts when merging into master, wouldn't this commits appear as to be reviewed (i wouldn't like that)?</p></li>\\n<li><p>How would two developers collaborate on the same feature? In the\\n    feature-based model, both would work on the feature branch. In the\\n    trunk-based model, all developers would be collaborating in \\\"all the\\n    features\\\" (somehow). Right?</p></li>\\n<li><p>I believe, the trunk based model was \\\"created\\\" to avoid the problem of long-lived feature branches are their potential conflict hell when merging it to the mainline. However, if feature branches are short-lived, and if they are often rebased from the mainline, what is the issue then?</p></li>\\n<li>Overall, which benefits can carry the trunk-based compared to the\\n    feature-based workflow?</li>\\n</ol>\\n\\n<p>Thanks :-)</p>\\n\",\n          \"<p>What is the difference between spring JSP MVC and Thymeleaf MVC? Which one is best way for spring web design ?</p>\\n\",\n          \"<p>It is my understanding that a <code>ZonedDateTime</code> is really an enhanced version of an <code>Instant</code>. It has all the data an <code>Instant</code> has (precise value along UTC timeline), plus time zone information. So my na\\u00efve assumption was that a <code>ZonedDateTime</code> <em>is-an</em> <code>Instant</code> and that any method taking an <code>Instant</code> will happily take a <code>ZonedDateTime</code> instead. Furthermore, I expected <code>isBefore()</code>, <code>isAfter()</code> etc. to work seamlessly between <code>Instant</code>s and <code>ZonedDateTime</code>s.</p>\\n\\n<p>Looking at the API documentation for <a href=\\\"http://docs.oracle.com/javase/8/docs/api/index.html?java/time/Instant.html\\\" rel=\\\"noreferrer\\\"><code>Instant</code></a> and <a href=\\\"http://docs.oracle.com/javase/8/docs/api/index.html?java/time/ZonedDateTime.html\\\" rel=\\\"noreferrer\\\"><code>ZonedDateTime</code></a>, none of this is the case. I can compare <code>Instant</code>s with <code>Instant</code>s and <code>ZonedDateTime</code>s with <code>ZonedDateTime</code>s, but the two classes seem to be incompatible. What's more, third-party code like ThreeTen-Extra's <a href=\\\"http://www.threeten.org/threeten-extra/apidocs/index.html?org/threeten/extra/Interval.html\\\" rel=\\\"noreferrer\\\"><code>Interval</code></a> seem to work exclusively with <code>Instant</code>s.</p>\\n\\n<p>Is there a reason why <code>Instant</code> and <code>ZonedDateTime</code> are not meant to be mixed?</p>\\n\"\n        ],\n        \"semantic_type\": \"\",\n        \"description\": \"\"\n      }\n    },\n    {\n      \"column\": \"Tags_filtered\",\n      \"properties\": {\n        \"dtype\": \"category\",\n        \"num_unique_values\": 2415,\n        \"samples\": [\n          \"['python', 'c++', 'tensorflow']\",\n          \"['php', 'html', 'xml']\",\n          \"['c#', '.net', 'visual-studio-code']\"\n        ],\n        \"semantic_type\": \"\",\n        \"description\": \"\"\n      }\n    },\n    {\n      \"column\": \"Tags_list\",\n      \"properties\": {\n        \"dtype\": \"category\",\n        \"num_unique_values\": 2415,\n        \"samples\": [\n          \"['python', 'c++', 'tensorflow']\",\n          \"['php', 'html', 'xml']\",\n          \"['c#', '.net', 'visual-studio-code']\"\n        ],\n        \"semantic_type\": \"\",\n        \"description\": \"\"\n      }\n    },\n    {\n      \"column\": \"Tags_new\",\n      \"properties\": {\n        \"dtype\": \"category\",\n        \"num_unique_values\": 169,\n        \"samples\": [\n          \"['Frontend', 'iOS/macOS']\",\n          \"['Data Science', 'Frontend', 'Algorithms', 'Mobile']\",\n          \"['Dev Tools']\"\n        ],\n        \"semantic_type\": \"\",\n        \"description\": \"\"\n      }\n    },\n    {\n      \"column\": \"Algorithms\",\n      \"properties\": {\n        \"dtype\": \"number\",\n        \"std\": 0,\n        \"min\": 0,\n        \"max\": 1,\n        \"num_unique_values\": 2,\n        \"samples\": [\n          0,\n          1\n        ],\n        \"semantic_type\": \"\",\n        \"description\": \"\"\n      }\n    },\n    {\n      \"column\": \"Backend\",\n      \"properties\": {\n        \"dtype\": \"number\",\n        \"std\": 0,\n        \"min\": 0,\n        \"max\": 1,\n        \"num_unique_values\": 2,\n        \"samples\": [\n          1,\n          0\n        ],\n        \"semantic_type\": \"\",\n        \"description\": \"\"\n      }\n    },\n    {\n      \"column\": \"Data Science\",\n      \"properties\": {\n        \"dtype\": \"number\",\n        \"std\": 0,\n        \"min\": 0,\n        \"max\": 1,\n        \"num_unique_values\": 2,\n        \"samples\": [\n          1,\n          0\n        ],\n        \"semantic_type\": \"\",\n        \"description\": \"\"\n      }\n    },\n    {\n      \"column\": \"Databases\",\n      \"properties\": {\n        \"dtype\": \"number\",\n        \"std\": 0,\n        \"min\": 0,\n        \"max\": 1,\n        \"num_unique_values\": 2,\n        \"samples\": [\n          1,\n          0\n        ],\n        \"semantic_type\": \"\",\n        \"description\": \"\"\n      }\n    },\n    {\n      \"column\": \"Dev Tools\",\n      \"properties\": {\n        \"dtype\": \"number\",\n        \"std\": 0,\n        \"min\": 0,\n        \"max\": 1,\n        \"num_unique_values\": 2,\n        \"samples\": [\n          1,\n          0\n        ],\n        \"semantic_type\": \"\",\n        \"description\": \"\"\n      }\n    },\n    {\n      \"column\": \"Frontend\",\n      \"properties\": {\n        \"dtype\": \"number\",\n        \"std\": 0,\n        \"min\": 0,\n        \"max\": 1,\n        \"num_unique_values\": 2,\n        \"samples\": [\n          1,\n          0\n        ],\n        \"semantic_type\": \"\",\n        \"description\": \"\"\n      }\n    },\n    {\n      \"column\": \"Mobile\",\n      \"properties\": {\n        \"dtype\": \"number\",\n        \"std\": 0,\n        \"min\": 0,\n        \"max\": 1,\n        \"num_unique_values\": 2,\n        \"samples\": [\n          1,\n          0\n        ],\n        \"semantic_type\": \"\",\n        \"description\": \"\"\n      }\n    },\n    {\n      \"column\": \"Systems\",\n      \"properties\": {\n        \"dtype\": \"number\",\n        \"std\": 0,\n        \"min\": 0,\n        \"max\": 1,\n        \"num_unique_values\": 2,\n        \"samples\": [\n          1,\n          0\n        ],\n        \"semantic_type\": \"\",\n        \"description\": \"\"\n      }\n    },\n    {\n      \"column\": \"iOS/macOS\",\n      \"properties\": {\n        \"dtype\": \"number\",\n        \"std\": 0,\n        \"min\": 0,\n        \"max\": 1,\n        \"num_unique_values\": 2,\n        \"samples\": [\n          1,\n          0\n        ],\n        \"semantic_type\": \"\",\n        \"description\": \"\"\n      }\n    }\n  ]\n}"
            }
          },
          "metadata": {},
          "execution_count": 5
        }
      ],
      "source": [
        "\n",
        "df_train.head(1)"
      ]
    },
    {
      "cell_type": "markdown",
      "metadata": {
        "id": "Ae4n8Z8gy8Jk"
      },
      "source": [
        "### 2. Data Preparation"
      ]
    },
    {
      "cell_type": "code",
      "execution_count": null,
      "metadata": {
        "id": "hkyPyRX2nfE7"
      },
      "outputs": [],
      "source": [
        "df_train['text'] = df_train['Title'] + ' ' + df_train['Body']\n",
        "df_valid['text'] = df_valid['Title'] + ' ' + df_valid['Body']\n",
        "text_train = list(df_train['text'])\n",
        "label_train = list(df_train[label_names].values)\n",
        "text_valid = list(df_valid['text'])\n",
        "label_valid = list(df_valid[label_names].values)\n"
      ]
    },
    {
      "cell_type": "code",
      "execution_count": null,
      "metadata": {
        "colab": {
          "base_uri": "https://localhost:8080/"
        },
        "id": "IphT3Y9jqBkU",
        "outputId": "b128a802-62db-45b6-aa3f-4900594cf958"
      },
      "outputs": [
        {
          "output_type": "stream",
          "name": "stdout",
          "text": [
            "Text example 1:\n",
            " Why threads are needed in my given assignment in java? <p><strong>I'm not asking to do my assignment. Read carefully</strong></p>\n",
            "\n",
            "<blockquote>\n",
            "  <p>Write a program to simulate a bus traveling between 5 different stations and\n",
            "  repeats the cycle, the bus can take up to a maximum of 50 persons, at each\n",
            "  station random number of persons get off the bus and random number of\n",
            "  persons get on the bus, consider these cases.</p>\n",
            "  \n",
            "  <ul>\n",
            "  <li>If bus does not have enough space for all persons, persons will have to\n",
            "  stay in station for next cycle</li>\n",
            "  <li>Persons cannot mount on bus until persons on bus dismount first.</li>\n",
            "  <li>You can simulate bus trip with a fixed delay between each stop to\n",
            "  simulate travel time.</li>\n",
            "  <li>Persons can not mount/dismount the bus until bus arrives to the\n",
            "  designated station.</li>\n",
            "  </ul>\n",
            "  \n",
            "  <p>Use semaphores to control access to the bus and other utilities to control access\n",
            "  to bus. Use thread pools to manage thread management. You can use latches,\n",
            "  cyclic barriers, re-entrant locks and condition variables to write your code.</p>\n",
            "</blockquote>\n",
            "\n",
            "<p>I have implemented this in java without making threads and using semaphores. I Just used nested loop to cycle the bus and the whole procedure is working fine. I'm not asking you to do my assignment, all I need to know where should I use threads in this code. </p>\n",
            "\n",
            "<p>Here is my code :</p>\n",
            "\n",
            "<pre><code>import java.util.*;\n",
            "import java.lang.*;\n",
            "public class buses {\n",
            "    int capacity;\n",
            "    int station;\n",
            "    ArrayList&lt;Integer&gt; remaining=new ArrayList&lt;&gt;();\n",
            "\n",
            "public void run(int n) {\n",
            "    System.out.println(\"--Station \"+(n+1)+\"--\");\n",
            "    if(this.capacity&lt;50)\n",
            "    {\n",
            "        Random rand1 = new Random();\n",
            "        int unload = rand1.nextInt(50);\n",
            "        unload += 1;\n",
            "\n",
            "        while(unload&gt;50-this.capacity)\n",
            "        {\n",
            "            rand1 = new Random();\n",
            "            unload = rand1.nextInt(50);\n",
            "            unload += 1;\n",
            "        }\n",
            "        System.out.println(\"Unloaded : \"+unload);\n",
            "        this.capacity+=unload;\n",
            "        System.out.println(\"Capacity \"+this.capacity);\n",
            "    }\n",
            "\n",
            "    Random rand = new Random();\n",
            "    int load = rand.nextInt(50);\n",
            "    load += 1;\n",
            "    System.out.println(\"random load:\"+load);\n",
            "    int val=remaining.get(n);\n",
            "    System.out.println(\"Remaining pessenger at station\"+(n+1)+\" were:\"+val);\n",
            "    load=load+val;\n",
            "    System.out.println(\"random load:\"+load);\n",
            "    if(load&lt;=this.capacity)\n",
            "    {\n",
            "        System.out.println(\"Loaded \"+(load));\n",
            "        capacity-=load;\n",
            "        System.out.println(\"Capacity \"+this.capacity);\n",
            "        remaining.set(n, 0);\n",
            "    }\n",
            "    else if(load&gt;this.capacity)\n",
            "    {\n",
            "        int notToBeLoaded=load-this.capacity;\n",
            "        System.out.println(\"Loaded \"+(load-notToBeLoaded));\n",
            "        capacity=0;\n",
            "        System.out.println(\"Capacity \"+this.capacity);\n",
            "        remaining.set(n, notToBeLoaded);\n",
            "    }\n",
            "    station++;\n",
            "}\n",
            "public buses()\n",
            "{\n",
            "    this.capacity=50;\n",
            "    this.station=1;\n",
            "    this.delay=2000;\n",
            "}\n",
            "public static void main(String[] args) {\n",
            "    buses obj=new buses();\n",
            "    obj.remaining.add(0);\n",
            "    obj.remaining.add(0);\n",
            "    obj.remaining.add(0);\n",
            "    obj.remaining.add(0);\n",
            "    obj.remaining.add(0);\n",
            "    for(int j=0;j&lt;2;j++)\n",
            "    {\n",
            "        for(int i=0;i&lt;5;i++)\n",
            "        {\n",
            "            obj.run(i);\n",
            "        }\n",
            "    }\n",
            "    //System.out.println(\"remaining 0:\"+obj.remaining.get(0));\n",
            "    //System.out.println(\"remaining 1:\"+obj.remaining.get(1));\n",
            "    //System.out.println(\"remaining 2:\"+obj.remaining.get(2));\n",
            "    //System.out.println(\"remaining 3:\"+obj.remaining.get(3));\n",
            "    //System.out.println(\"remaining 4:\"+obj.remaining.get(4));\n",
            "}\n",
            "\n",
            "}\n",
            "</code></pre>\n",
            " , and its Label:\n",
            " [1 0 0 0 0 0 0 0 0]\n"
          ]
        }
      ],
      "source": [
        "# Check the data set to confirm\n",
        "print(f'Text example 1:\\n {text_train[0]} , and its Label:\\n {label_train[0]}')\n"
      ]
    },
    {
      "cell_type": "markdown",
      "metadata": {
        "id": "sUoXYZZiz2KO"
      },
      "source": [
        "### 3. Tokenizer and model setting"
      ]
    },
    {
      "cell_type": "code",
      "execution_count": null,
      "metadata": {
        "colab": {
          "base_uri": "https://localhost:8080/",
          "height": 168,
          "referenced_widgets": [
            "5bf23e708f784e778a2abbcceac4a0b6",
            "35daba0c35c54a77aa0c29329f36e973",
            "f705b2cedfbc47dfb9b5c648ec3fc59d",
            "f69d8c0039674c5e8ef4f87cbe98210f",
            "bb1a167b5ffd484b80fef4a2f9d597ad",
            "68de0e8b6f4b493cbc0638b791dcfb34",
            "f44adf616a9f4088a98a0f1bd43e90d0",
            "2c5126ccdc4d4d2fbbae203393c4566f",
            "e7dd50a5de00405d95ac0d75595af289",
            "ce4c90c2aa8c4be090042b010b414271",
            "d8e93312452c45ba8ca8440b616ddf29",
            "7714a63b93dd49458f5b397aca3285a2",
            "2e037b9a783c4e5ea861953de5318a45",
            "0612fd73ca4342fcb6655e39c50e410f",
            "3f423fab412648118d940e580100185e",
            "124aca27d9b74071bfb2851bb452c5de",
            "d2461a4920834057be6709c0614e2c7b",
            "28e48935c77e49d68dedb49c3506b5fe",
            "4dca80a51b6d4b6daf8d24f49ef823c4",
            "f28d684cd63d442a8e3c8692f88ad5cf",
            "d772ee5c109a443f8c858c73eff201a5",
            "6ca1ed6e590041449ce3605f6dfde7ef",
            "d651b27ec5af4d689c57d7ebd15adc68",
            "eebca9e727424e52859a8bbaf6fa54be",
            "7fdf86e84b2149da969e74b5c8c7d74a",
            "38b73f68e004454c97f63a8d17f02834",
            "26a0446869e946cb9651406d23641afa",
            "6fcb779ca4814ca187bfce6e63905c6f",
            "b74242e3352b4466ba3d21c36eaad7e2",
            "c467680d1eb448589a9a20ca026184bc",
            "9223da53dfc64051a547e5a3dc6d0c8c",
            "59bee75346ec4ed0a47de251744ea780",
            "bb72cdbfc332468581bfc74f572c0c5c"
          ]
        },
        "id": "CV77KPXZ0AZu",
        "outputId": "976ee490-4d40-4757-adce-727cb4b9df7c"
      },
      "outputs": [
        {
          "output_type": "stream",
          "name": "stderr",
          "text": [
            "/usr/local/lib/python3.10/dist-packages/transformers/models/auto/tokenization_auto.py:786: FutureWarning: The `use_auth_token` argument is deprecated and will be removed in v5 of Transformers. Please use `token` instead.\n",
            "  warnings.warn(\n"
          ]
        },
        {
          "output_type": "display_data",
          "data": {
            "text/plain": [
              "tokenizer_config.json:   0%|          | 0.00/50.5k [00:00<?, ?B/s]"
            ],
            "application/vnd.jupyter.widget-view+json": {
              "version_major": 2,
              "version_minor": 0,
              "model_id": "5bf23e708f784e778a2abbcceac4a0b6"
            }
          },
          "metadata": {}
        },
        {
          "output_type": "display_data",
          "data": {
            "text/plain": [
              "tokenizer.json:   0%|          | 0.00/9.09M [00:00<?, ?B/s]"
            ],
            "application/vnd.jupyter.widget-view+json": {
              "version_major": 2,
              "version_minor": 0,
              "model_id": "7714a63b93dd49458f5b397aca3285a2"
            }
          },
          "metadata": {}
        },
        {
          "output_type": "display_data",
          "data": {
            "text/plain": [
              "special_tokens_map.json:   0%|          | 0.00/301 [00:00<?, ?B/s]"
            ],
            "application/vnd.jupyter.widget-view+json": {
              "version_major": 2,
              "version_minor": 0,
              "model_id": "d651b27ec5af4d689c57d7ebd15adc68"
            }
          },
          "metadata": {}
        }
      ],
      "source": [
        "# 1. Load the tokenizer and model\n",
        "token =userdata.get('Hugging_Face_llama3.2')\n",
        "model_path = 'meta-llama/Llama-3.2-1B'\n",
        "tokenizer = AutoTokenizer.from_pretrained(model_path, use_auth_token=token)\n",
        "tokenizer.pad_token = tokenizer.eos_token"
      ]
    },
    {
      "cell_type": "code",
      "execution_count": null,
      "metadata": {
        "id": "blSkG76rZIBv"
      },
      "outputs": [],
      "source": [
        "# 2. Tokenizing Dataset\n",
        "class MultiLabelDataset(torch.utils.data.Dataset):\n",
        "    def __init__(self, encodings, labels):\n",
        "        self.encodings = encodings\n",
        "        self.labels = labels\n",
        "\n",
        "    def __getitem__(self, idx):\n",
        "        item = {key: val[idx] for key, val in self.encodings.items()}\n",
        "        item[\"labels\"] = torch.tensor(self.labels[idx], dtype=torch.float)\n",
        "        return item\n",
        "\n",
        "    def __len__(self):\n",
        "        return len(self.labels)\n",
        "def generate_dataset(texts, labels):\n",
        "    encodings = tokenizer(texts, truncation=True, padding=True, max_length=512, return_tensors=\"pt\")\n",
        "    dataset = MultiLabelDataset(encodings, labels)\n",
        "    return dataset\n",
        "\n",
        "train_dataset = generate_dataset(text_train, label_train)\n",
        "valid_dataset = generate_dataset(text_valid, label_valid)\n",
        "\n",
        "\n"
      ]
    },
    {
      "cell_type": "code",
      "execution_count": null,
      "metadata": {
        "colab": {
          "base_uri": "https://localhost:8080/"
        },
        "id": "Ceq67pFkyX0Y",
        "outputId": "8f1e449c-bf37-4b9f-c66e-406900db2f27"
      },
      "outputs": [
        {
          "output_type": "stream",
          "name": "stderr",
          "text": [
            "/usr/local/lib/python3.10/dist-packages/transformers/models/auto/auto_factory.py:469: FutureWarning: The `use_auth_token` argument is deprecated and will be removed in v5 of Transformers. Please use `token` instead.\n",
            "  warnings.warn(\n",
            "Some weights of LlamaForSequenceClassification were not initialized from the model checkpoint at meta-llama/Llama-3.2-1B and are newly initialized: ['score.weight']\n",
            "You should probably TRAIN this model on a down-stream task to be able to use it for predictions and inference.\n"
          ]
        }
      ],
      "source": [
        "# 3. Configure LoRA\n",
        "lora_config = LoraConfig(\n",
        "    task_type=TaskType.SEQ_CLS,  # 시퀀스 분류 작업\n",
        "    r=8,  # 저차원 행렬의 랭크\n",
        "    lora_alpha=16,  # 스케일링 인자\n",
        "    lora_dropout=0.1  # 드롭아웃 비율\n",
        ")\n",
        "\n",
        "num_labels = len(label_names)\n",
        "model = AutoModelForSequenceClassification.from_pretrained(model_path, num_labels=num_labels, use_auth_token=token)\n",
        "model.config.pad_token_id = tokenizer.pad_token_id\n",
        "\n",
        "\n",
        "# 3. Apply LoRA to the model\n",
        "model = get_peft_model(model, lora_config)"
      ]
    },
    {
      "cell_type": "code",
      "source": [
        "\n",
        "import wandb\n",
        "\n",
        "# wandb 초기화 (API 키가 환경 변수에 설정되어 있어야 함)\n",
        "# wandb.init(project=\"my_project\", entity=\"my_entity\", name=\"my_experiment\")\n",
        "wandb.init(project=\"Multi output classification\", entity =\"ai_expert\", name = \"multi_cls_llama3_2_1b_re\") # Uncomment to use wandb\n",
        "\n"
      ],
      "metadata": {
        "colab": {
          "base_uri": "https://localhost:8080/",
          "height": 162
        },
        "id": "dL4oJfdS0ElN",
        "outputId": "bc83af74-cdbb-4561-8c4a-202d0df447fb"
      },
      "execution_count": null,
      "outputs": [
        {
          "output_type": "stream",
          "name": "stderr",
          "text": [
            "\u001b[34m\u001b[1mwandb\u001b[0m: Currently logged in as: \u001b[33mneurogii\u001b[0m (\u001b[33mai_expert\u001b[0m). Use \u001b[1m`wandb login --relogin`\u001b[0m to force relogin\n"
          ]
        },
        {
          "output_type": "display_data",
          "data": {
            "text/plain": [
              "<IPython.core.display.HTML object>"
            ],
            "text/html": [
              "Tracking run with wandb version 0.18.5"
            ]
          },
          "metadata": {}
        },
        {
          "output_type": "display_data",
          "data": {
            "text/plain": [
              "<IPython.core.display.HTML object>"
            ],
            "text/html": [
              "Run data is saved locally in <code>/content/wandb/run-20241110_075917-ndsv0cfz</code>"
            ]
          },
          "metadata": {}
        },
        {
          "output_type": "display_data",
          "data": {
            "text/plain": [
              "<IPython.core.display.HTML object>"
            ],
            "text/html": [
              "Syncing run <strong><a href='https://wandb.ai/ai_expert/Multi%20output%20classification/runs/ndsv0cfz' target=\"_blank\">multi_cls_llama3_2_1b_re</a></strong> to <a href='https://wandb.ai/ai_expert/Multi%20output%20classification' target=\"_blank\">Weights & Biases</a> (<a href='https://wandb.me/run' target=\"_blank\">docs</a>)<br/>"
            ]
          },
          "metadata": {}
        },
        {
          "output_type": "display_data",
          "data": {
            "text/plain": [
              "<IPython.core.display.HTML object>"
            ],
            "text/html": [
              " View project at <a href='https://wandb.ai/ai_expert/Multi%20output%20classification' target=\"_blank\">https://wandb.ai/ai_expert/Multi%20output%20classification</a>"
            ]
          },
          "metadata": {}
        },
        {
          "output_type": "display_data",
          "data": {
            "text/plain": [
              "<IPython.core.display.HTML object>"
            ],
            "text/html": [
              " View run at <a href='https://wandb.ai/ai_expert/Multi%20output%20classification/runs/ndsv0cfz' target=\"_blank\">https://wandb.ai/ai_expert/Multi%20output%20classification/runs/ndsv0cfz</a>"
            ]
          },
          "metadata": {}
        },
        {
          "output_type": "execute_result",
          "data": {
            "text/html": [
              "<button onClick=\"this.nextSibling.style.display='block';this.style.display='none';\">Display W&B run</button><iframe src='https://wandb.ai/ai_expert/Multi%20output%20classification/runs/ndsv0cfz?jupyter=true' style='border:none;width:100%;height:420px;display:none;'></iframe>"
            ],
            "text/plain": [
              "<wandb.sdk.wandb_run.Run at 0x7efaf547a740>"
            ]
          },
          "metadata": {},
          "execution_count": 18
        }
      ]
    },
    {
      "cell_type": "code",
      "execution_count": null,
      "metadata": {
        "colab": {
          "base_uri": "https://localhost:8080/",
          "height": 1000
        },
        "id": "oGCVg3Us0akj",
        "outputId": "b796ffb7-ce7b-40d0-8cf3-f815ef478707"
      },
      "outputs": [
        {
          "output_type": "stream",
          "name": "stderr",
          "text": [
            "/usr/local/lib/python3.10/dist-packages/transformers/training_args.py:1525: FutureWarning: `evaluation_strategy` is deprecated and will be removed in version 4.46 of 🤗 Transformers. Use `eval_strategy` instead\n",
            "  warnings.warn(\n"
          ]
        },
        {
          "output_type": "display_data",
          "data": {
            "text/plain": [
              "<IPython.core.display.HTML object>"
            ],
            "text/html": [
              "\n",
              "    <div>\n",
              "      \n",
              "      <progress value='12500' max='12500' style='width:300px; height:20px; vertical-align: middle;'></progress>\n",
              "      [12500/12500 4:06:26, Epoch 5/5]\n",
              "    </div>\n",
              "    <table border=\"1\" class=\"dataframe\">\n",
              "  <thead>\n",
              " <tr style=\"text-align: left;\">\n",
              "      <th>Epoch</th>\n",
              "      <th>Training Loss</th>\n",
              "      <th>Validation Loss</th>\n",
              "      <th>Flat Accuracy</th>\n",
              "      <th>Accuracy</th>\n",
              "      <th>Micro Precision</th>\n",
              "      <th>Micro Recall</th>\n",
              "      <th>Micro F1</th>\n",
              "      <th>Macro Precision</th>\n",
              "      <th>Macro Recall</th>\n",
              "      <th>Macro F1</th>\n",
              "      <th>Weighted Precision</th>\n",
              "      <th>Weighted Recall</th>\n",
              "      <th>Weighted F1</th>\n",
              "    </tr>\n",
              "  </thead>\n",
              "  <tbody>\n",
              "    <tr>\n",
              "      <td>1</td>\n",
              "      <td>0.147200</td>\n",
              "      <td>0.113457</td>\n",
              "      <td>0.963385</td>\n",
              "      <td>0.728923</td>\n",
              "      <td>0.888544</td>\n",
              "      <td>0.833164</td>\n",
              "      <td>0.859963</td>\n",
              "      <td>0.793014</td>\n",
              "      <td>0.842452</td>\n",
              "      <td>0.805989</td>\n",
              "      <td>0.897838</td>\n",
              "      <td>0.833164</td>\n",
              "      <td>0.861823</td>\n",
              "    </tr>\n",
              "    <tr>\n",
              "      <td>2</td>\n",
              "      <td>0.125000</td>\n",
              "      <td>0.104198</td>\n",
              "      <td>0.965949</td>\n",
              "      <td>0.742308</td>\n",
              "      <td>0.875350</td>\n",
              "      <td>0.871801</td>\n",
              "      <td>0.873572</td>\n",
              "      <td>0.782124</td>\n",
              "      <td>0.873943</td>\n",
              "      <td>0.813842</td>\n",
              "      <td>0.881622</td>\n",
              "      <td>0.871801</td>\n",
              "      <td>0.875400</td>\n",
              "    </tr>\n",
              "    <tr>\n",
              "      <td>3</td>\n",
              "      <td>0.112100</td>\n",
              "      <td>0.102755</td>\n",
              "      <td>0.965299</td>\n",
              "      <td>0.735692</td>\n",
              "      <td>0.871515</td>\n",
              "      <td>0.871295</td>\n",
              "      <td>0.871405</td>\n",
              "      <td>0.791021</td>\n",
              "      <td>0.867888</td>\n",
              "      <td>0.815892</td>\n",
              "      <td>0.876881</td>\n",
              "      <td>0.871295</td>\n",
              "      <td>0.872960</td>\n",
              "    </tr>\n",
              "    <tr>\n",
              "      <td>4</td>\n",
              "      <td>0.102700</td>\n",
              "      <td>0.101848</td>\n",
              "      <td>0.965880</td>\n",
              "      <td>0.743846</td>\n",
              "      <td>0.875286</td>\n",
              "      <td>0.871295</td>\n",
              "      <td>0.873286</td>\n",
              "      <td>0.785199</td>\n",
              "      <td>0.875867</td>\n",
              "      <td>0.813537</td>\n",
              "      <td>0.881042</td>\n",
              "      <td>0.871295</td>\n",
              "      <td>0.874719</td>\n",
              "    </tr>\n",
              "    <tr>\n",
              "      <td>5</td>\n",
              "      <td>0.094500</td>\n",
              "      <td>0.103854</td>\n",
              "      <td>0.965744</td>\n",
              "      <td>0.742000</td>\n",
              "      <td>0.873447</td>\n",
              "      <td>0.872561</td>\n",
              "      <td>0.873004</td>\n",
              "      <td>0.774888</td>\n",
              "      <td>0.878780</td>\n",
              "      <td>0.808351</td>\n",
              "      <td>0.880775</td>\n",
              "      <td>0.872561</td>\n",
              "      <td>0.875126</td>\n",
              "    </tr>\n",
              "  </tbody>\n",
              "</table><p>"
            ]
          },
          "metadata": {}
        },
        {
          "output_type": "stream",
          "name": "stderr",
          "text": [
            "We detected that you are passing `past_key_values` as a tuple and this is deprecated and will be removed in v4.43. Please use an appropriate `Cache` class (https://huggingface.co/docs/transformers/v4.41.3/en/internal/generation_utils#transformers.Cache)\n",
            "/usr/local/lib/python3.10/dist-packages/huggingface_hub/utils/_token.py:89: UserWarning: \n",
            "The secret `HF_TOKEN` does not exist in your Colab secrets.\n",
            "To authenticate with the Hugging Face Hub, create a token in your settings tab (https://huggingface.co/settings/tokens), set it as secret in your Google Colab and restart your session.\n",
            "You will be able to reuse this secret in all of your notebooks.\n",
            "Please note that authentication is recommended but still optional to access public models or datasets.\n",
            "  warnings.warn(\n",
            "/usr/local/lib/python3.10/dist-packages/peft/utils/other.py:689: UserWarning: Unable to fetch remote file due to the following error 401 Client Error. (Request ID: Root=1-6730736d-436edec04f5c93407f62a5c3;a37f0eca-fcc1-4ca0-a1c6-e4844eb95965)\n",
            "\n",
            "Cannot access gated repo for url https://huggingface.co/meta-llama/Llama-3.2-1B/resolve/main/config.json.\n",
            "Access to model meta-llama/Llama-3.2-1B is restricted. You must have access to it and be authenticated to access it. Please log in. - silently ignoring the lookup for the file config.json in meta-llama/Llama-3.2-1B.\n",
            "  warnings.warn(\n",
            "/usr/local/lib/python3.10/dist-packages/peft/utils/save_and_load.py:243: UserWarning: Could not find a config file in meta-llama/Llama-3.2-1B - will assume that the vocabulary was not modified.\n",
            "  warnings.warn(\n",
            "/usr/local/lib/python3.10/dist-packages/peft/utils/other.py:689: UserWarning: Unable to fetch remote file due to the following error 401 Client Error. (Request ID: Root=1-67307efa-617d1c255c0703641e8ccd9e;8be9b9ad-f327-4661-a2be-a92de8b78add)\n",
            "\n",
            "Cannot access gated repo for url https://huggingface.co/meta-llama/Llama-3.2-1B/resolve/main/config.json.\n",
            "Access to model meta-llama/Llama-3.2-1B is restricted. You must have access to it and be authenticated to access it. Please log in. - silently ignoring the lookup for the file config.json in meta-llama/Llama-3.2-1B.\n",
            "  warnings.warn(\n",
            "/usr/local/lib/python3.10/dist-packages/peft/utils/save_and_load.py:243: UserWarning: Could not find a config file in meta-llama/Llama-3.2-1B - will assume that the vocabulary was not modified.\n",
            "  warnings.warn(\n",
            "/usr/local/lib/python3.10/dist-packages/peft/utils/other.py:689: UserWarning: Unable to fetch remote file due to the following error 401 Client Error. (Request ID: Root=1-67308a87-1da4a19e7c6961cf1bfaa8ea;1bbb8668-b88f-44d5-a47d-8a591f627640)\n",
            "\n",
            "Cannot access gated repo for url https://huggingface.co/meta-llama/Llama-3.2-1B/resolve/main/config.json.\n",
            "Access to model meta-llama/Llama-3.2-1B is restricted. You must have access to it and be authenticated to access it. Please log in. - silently ignoring the lookup for the file config.json in meta-llama/Llama-3.2-1B.\n",
            "  warnings.warn(\n",
            "/usr/local/lib/python3.10/dist-packages/peft/utils/save_and_load.py:243: UserWarning: Could not find a config file in meta-llama/Llama-3.2-1B - will assume that the vocabulary was not modified.\n",
            "  warnings.warn(\n",
            "/usr/local/lib/python3.10/dist-packages/peft/utils/other.py:689: UserWarning: Unable to fetch remote file due to the following error 401 Client Error. (Request ID: Root=1-67309614-5c2bbb622ed7d77d1bc01bda;d0842153-f35a-48b3-8b9f-b75d870820fe)\n",
            "\n",
            "Cannot access gated repo for url https://huggingface.co/meta-llama/Llama-3.2-1B/resolve/main/config.json.\n",
            "Access to model meta-llama/Llama-3.2-1B is restricted. You must have access to it and be authenticated to access it. Please log in. - silently ignoring the lookup for the file config.json in meta-llama/Llama-3.2-1B.\n",
            "  warnings.warn(\n",
            "/usr/local/lib/python3.10/dist-packages/peft/utils/save_and_load.py:243: UserWarning: Could not find a config file in meta-llama/Llama-3.2-1B - will assume that the vocabulary was not modified.\n",
            "  warnings.warn(\n",
            "/usr/local/lib/python3.10/dist-packages/peft/utils/other.py:689: UserWarning: Unable to fetch remote file due to the following error 401 Client Error. (Request ID: Root=1-6730a014-4d1b8a8146a74e1408484730;482a9489-fac0-49dc-b3af-fb3a1530363a)\n",
            "\n",
            "Cannot access gated repo for url https://huggingface.co/meta-llama/Llama-3.2-1B/resolve/main/config.json.\n",
            "Access to model meta-llama/Llama-3.2-1B is restricted. You must have access to it and be authenticated to access it. Please log in. - silently ignoring the lookup for the file config.json in meta-llama/Llama-3.2-1B.\n",
            "  warnings.warn(\n",
            "/usr/local/lib/python3.10/dist-packages/peft/utils/save_and_load.py:243: UserWarning: Could not find a config file in meta-llama/Llama-3.2-1B - will assume that the vocabulary was not modified.\n",
            "  warnings.warn(\n",
            "/usr/local/lib/python3.10/dist-packages/peft/utils/other.py:689: UserWarning: Unable to fetch remote file due to the following error 401 Client Error. (Request ID: Root=1-6730a1a2-1b917b9a6bb84bb91268ddff;2100e3dd-6972-41f1-9ce6-e60c2a0a8f15)\n",
            "\n",
            "Cannot access gated repo for url https://huggingface.co/meta-llama/Llama-3.2-1B/resolve/main/config.json.\n",
            "Access to model meta-llama/Llama-3.2-1B is restricted. You must have access to it and be authenticated to access it. Please log in. - silently ignoring the lookup for the file config.json in meta-llama/Llama-3.2-1B.\n",
            "  warnings.warn(\n",
            "/usr/local/lib/python3.10/dist-packages/peft/utils/save_and_load.py:243: UserWarning: Could not find a config file in meta-llama/Llama-3.2-1B - will assume that the vocabulary was not modified.\n",
            "  warnings.warn(\n",
            "/usr/local/lib/python3.10/dist-packages/peft/mapping.py:172: UserWarning: The PEFT config's `base_model_name_or_path` was renamed from 'meta-llama/Llama-3.2-1B' to 'None'. Please ensure that the correct base model is loaded when loading this checkpoint.\n",
            "  warnings.warn(\n"
          ]
        },
        {
          "output_type": "execute_result",
          "data": {
            "text/plain": [
              "('content/drive/MyDrive/multi_label_lora/tokenizer_config.json',\n",
              " 'content/drive/MyDrive/multi_label_lora/special_tokens_map.json',\n",
              " 'content/drive/MyDrive/multi_label_lora/tokenizer.json')"
            ]
          },
          "metadata": {},
          "execution_count": 19
        }
      ],
      "source": [
        "from sklearn.metrics import accuracy_score, f1_score, precision_recall_fscore_support\n",
        "\n",
        "# 4. Define the evaluation metrics\n",
        "#def compute_metrics(pred):\n",
        "#    labels = pred.label_ids\n",
        "#    preds = pred.predictions >= 0.5  # 시그모이드 출력 후 임계값 0.5 이상일 때 예측으로 분류\n",
        "#    micro_f1 = f1_score(labels, preds, average=\"micro\")\n",
        "#    macro_f1\n",
        "#    return {\"f1\": f1}\n",
        "\n",
        "def compute_metrics(pred):\n",
        "    labels = pred.label_ids\n",
        "    preds = pred.predictions >= 0.5  # 시그모이드 출력 후 임계값 0.5 이상일 때 예측으로 분류\n",
        "    accuracy = accuracy_score(labels,preds)\n",
        "    precision, recall, f1_score_result, _ = precision_recall_fscore_support(labels,preds, average='micro')\n",
        "    precision_macro, recall_macro, f1_score_result_macro, _ = precision_recall_fscore_support(labels,preds, average='macro')\n",
        "    precision_weighted, recall_weighted, f1_score_result_weighted, _ = precision_recall_fscore_support(labels,preds, average='weighted')\n",
        "\n",
        "    flat_predictions = preds.reshape(-1)\n",
        "    flat_labels = labels.reshape(-1)\n",
        "    flat_accuracy = accuracy_score(flat_labels, flat_predictions)\n",
        "\n",
        "\n",
        "    return {\n",
        "        'flat_accuracy': flat_accuracy,\n",
        "        'accuracy': accuracy,\n",
        "        'micro_precision': precision,\n",
        "        'micro_recall': recall,\n",
        "        'micro_f1': f1_score_result,\n",
        "        'macro_precision': precision_macro,\n",
        "        'macro_recall': recall_macro,\n",
        "        'macro_f1': f1_score_result_macro,\n",
        "        'weighted_precision': precision_weighted,\n",
        "        'weighted_recall': recall_weighted,\n",
        "        'weighted_f1': f1_score_result_weighted,\n",
        "        }\n",
        "\n",
        "\n",
        "\n",
        "# 5. Training arguments\n",
        "training_args = TrainingArguments(\n",
        "    output_dir=\"/content/drive/MyDrive/multi_label\",\n",
        "    evaluation_strategy=\"epoch\",\n",
        "    num_train_epochs=5,\n",
        "    per_device_train_batch_size=8,\n",
        "    per_device_eval_batch_size=8,\n",
        "    save_strategy=\"epoch\",          # 주기적으로 저장하지 않고,\n",
        "    load_best_model_at_end=True, # 최상의 모델을 마지막에 불러옴\n",
        "    save_total_limit=2,\n",
        "    metric_for_best_model=\"accuracy\",  # 모델 성능 향상 기준 (예: f1, accuracy)\n",
        "    greater_is_better=True,\n",
        "    report_to=\"wandb\",  # wandb를 사용하도록 설정\n",
        "    logging_dir=\"/content/drive/MyDrive/multi_label/logs\",\n",
        "\n",
        ")\n",
        "\n",
        "# 6. Initialize the Trainer\n",
        "trainer = Trainer(\n",
        "    model=model,\n",
        "    args=training_args,\n",
        "    train_dataset=train_dataset,\n",
        "    eval_dataset=valid_dataset,  # 실제로는 train/validation set을 구분해서 사용하세요\n",
        "    compute_metrics=compute_metrics,\n",
        ")\n",
        "\n",
        "# 7. Train the model\n",
        "trainer.train()\n",
        "\n",
        "\n",
        "\n",
        "# 모델 저장\n",
        "from peft import get_peft_model\n",
        "\n",
        "# LoRA가 적용된 모델\n",
        "peft_model = get_peft_model(model, lora_config)\n",
        "\n",
        "# 모델과 LoRA 설정을 함께 저장\n",
        "peft_model.save_pretrained(\"content/drive/MyDrive/multi_label_lora\")\n",
        "tokenizer.save_pretrained(\"content/drive/MyDrive/multi_label_lora\")"
      ]
    },
    {
      "cell_type": "markdown",
      "metadata": {
        "id": "3xueS_4R8xHY"
      },
      "source": [
        "### 나중에 사용할때"
      ]
    },
    {
      "cell_type": "code",
      "execution_count": null,
      "metadata": {
        "id": "RjEtv6Nt8ojP"
      },
      "outputs": [],
      "source": [
        "#tokenizer = AutoTokenizer.from_pretrained(\"./lora_model\")\n",
        "#model = AutoModelForSequenceClassification.from_pretrained(\"./lora_model\")\n",
        "#peft_model = PeftModel.from_pretrained(model, \"./lora_model\")"
      ]
    },
    {
      "cell_type": "code",
      "source": [
        "from peft import PeftModel, LoraConfig, get_peft_model\n",
        "\n",
        "#token =userdata.get('Hugging_Face_llama3.2')\n",
        "#model_path = 'meta-llama/Llama-3.2-1B'\n",
        "\n",
        "#num_labels = 9 # len(label_names)\n",
        "#base_model = AutoModelForSequenceClassification.from_pretrained(model_path, num_labels=num_labels, use_auth_token=token)\n",
        "\n",
        "\n",
        "#tokenizer = AutoTokenizer.from_pretrained(model_path, use_auth_token=token)\n",
        "#tokenizer.pad_token = tokenizer.eos_token\n",
        "#base_model.config.pad_token_id = tokenizer.pad_token_id\n",
        "\n",
        "#model = AutoModelForSequenceClassification.from_pretrained(\"/content/drive/MyDrive/DataSet_new/lora_model\")\n",
        "#model = PeftModel.from_pretrained(base_model, \"/content/drive/MyDrive/DataSet_new/lora_model\")"
      ],
      "metadata": {
        "id": "2ZbaMKQl_X0x"
      },
      "execution_count": null,
      "outputs": []
    },
    {
      "cell_type": "code",
      "source": [
        "#drive.mount('/content/drive', force_remount=False)\n",
        "test_path = ('/content/drive/MyDrive/DataSet_new/rev_tag_test_samples.csv')\n",
        "\n",
        "df_test = pd.read_csv(test_path)\n",
        "label_names = list(df_test.columns[5:])\n",
        "\n",
        "#df_test\n",
        "df_test['text'] = df_test['Title'] + ' ' + df_test['Body']\n",
        "text_test = list(df_test['text'])\n",
        "\n",
        "label_test = list(df_test[label_names].values)"
      ],
      "metadata": {
        "id": "n4IF1qg9_pcQ"
      },
      "execution_count": null,
      "outputs": []
    },
    {
      "cell_type": "code",
      "source": [
        "import torch\n",
        "\n",
        "# ... (your existing code) ...\n",
        "\n",
        "# 모델을 평가 모드로 설정\n",
        "model.eval()\n",
        "model.to('cuda')  # 모델을 명시적으로 GPU로 이동\n",
        "\n",
        "test_encodings = tokenizer(text_test, truncation=True, padding=True, max_length=512, return_tensors=\"pt\")\n",
        "\n",
        "# 예측 수행\n",
        "predictions = []\n",
        "batch_size = 16 # adjust this based on your available GPU memory\n",
        "num_batches = len(test_encodings['input_ids']) // batch_size + (len(test_encodings['input_ids']) % batch_size != 0)\n",
        "\n",
        "with torch.no_grad():\n",
        "    for i in range(num_batches):\n",
        "        start_idx = i * batch_size\n",
        "        end_idx = min((i + 1) * batch_size, len(test_encodings['input_ids']))\n",
        "\n",
        "        batch_encodings = {k: v[start_idx:end_idx].to('cuda') for k, v in test_encodings.items()}  # Move each batch to GPU\n",
        "\n",
        "        outputs = model(**batch_encodings)\n",
        "        logits = outputs.logits\n",
        "        probs = torch.sigmoid(logits)  # 시그모이드 함수를 사용해 확률로 변환\n",
        "        preds = (probs >= 0.5).int()  # 임계값 0.5 이상일 때 라벨로 간주\n",
        "        predictions.extend(preds.cpu().numpy())  # 결과를 CPU로 이동 and extend predictions list"
      ],
      "metadata": {
        "id": "aCenHP85_8yp"
      },
      "execution_count": null,
      "outputs": []
    },
    {
      "cell_type": "code",
      "source": [
        "import numpy as np\n",
        "def compute_metrics_test(preds,labels):\n",
        "    #labels = pred.label_ids\n",
        "    #preds = pred.predictions >= 0.5  # 시그모이드 출력 후 임계값 0.5 이상일 때 예측으로 분류\n",
        "    preds = np.array(preds)\n",
        "    labels = np.array(labels) # Convert labels to a NumPy array\n",
        "\n",
        "    accuracy = accuracy_score(labels,preds)\n",
        "    precision, recall, f1_score_result, _ = precision_recall_fscore_support(labels,preds, average='micro')\n",
        "    precision_macro, recall_macro, f1_score_result_macro, _ = precision_recall_fscore_support(labels,preds, average='macro')\n",
        "    precision_weighted, recall_weighted, f1_score_result_weighted, _ = precision_recall_fscore_support(labels,preds, average='weighted')\n",
        "\n",
        "    flat_predictions = preds.reshape(-1)\n",
        "    flat_labels = labels.reshape(-1)\n",
        "    flat_accuracy = accuracy_score(flat_labels, flat_predictions)\n",
        "\n",
        "\n",
        "    return {\n",
        "        'flat_accuracy': flat_accuracy,\n",
        "        'accuracy': accuracy,\n",
        "        'micro_precision': precision,\n",
        "        'micro_recall': recall,\n",
        "        'micro_f1': f1_score_result,\n",
        "        'macro_precision': precision_macro,\n",
        "        'macro_recall': recall_macro,\n",
        "        'macro_f1': f1_score_result_macro,\n",
        "        'weighted_precision': precision_weighted,\n",
        "        'weighted_recall': recall_weighted,\n",
        "        'weighted_f1': f1_score_result_weighted,\n",
        "        }"
      ],
      "metadata": {
        "id": "xkrq8OJiBxz2"
      },
      "execution_count": null,
      "outputs": []
    },
    {
      "cell_type": "code",
      "source": [
        "test_result =compute_metrics_test(predictions, label_test)"
      ],
      "metadata": {
        "id": "nsJqS3ORAKRt"
      },
      "execution_count": null,
      "outputs": []
    },
    {
      "cell_type": "code",
      "source": [
        "print(test_result)"
      ],
      "metadata": {
        "colab": {
          "base_uri": "https://localhost:8080/"
        },
        "id": "m9vzZUVpDQE0",
        "outputId": "bd562c27-50de-436f-96e1-70531489e5cd"
      },
      "execution_count": null,
      "outputs": [
        {
          "output_type": "stream",
          "name": "stdout",
          "text": [
            "{'flat_accuracy': 0.6405555555555555, 'accuracy': 0.020666666666666667, 'micro_precision': 0.19458749873775624, 'micro_recall': 0.5270787746170679, 'micro_f1': 0.2842392506822037, 'macro_precision': 0.14870829183479214, 'macro_recall': 0.40522313821207834, 'macro_f1': 0.1887655428355156, 'weighted_precision': 0.223149128202656, 'weighted_recall': 0.5270787746170679, 'weighted_f1': 0.28591037707864403}\n"
          ]
        }
      ]
    },
    {
      "cell_type": "markdown",
      "source": [],
      "metadata": {
        "id": "eNrH_gOjDPTO"
      }
    },
    {
      "cell_type": "markdown",
      "metadata": {
        "id": "BxJBLalu8iGC"
      },
      "source": []
    }
  ],
  "metadata": {
    "accelerator": "GPU",
    "colab": {
      "gpuType": "A100",
      "machine_shape": "hm",
      "provenance": [],
      "authorship_tag": "ABX9TyOHsKd14KWhjzZ+vG2A8Cl/",
      "include_colab_link": true
    },
    "kernelspec": {
      "display_name": "Python 3",
      "name": "python3"
    },
    "language_info": {
      "name": "python"
    },
    "widgets": {
      "application/vnd.jupyter.widget-state+json": {
        "5bf23e708f784e778a2abbcceac4a0b6": {
          "model_module": "@jupyter-widgets/controls",
          "model_name": "HBoxModel",
          "model_module_version": "1.5.0",
          "state": {
            "_dom_classes": [],
            "_model_module": "@jupyter-widgets/controls",
            "_model_module_version": "1.5.0",
            "_model_name": "HBoxModel",
            "_view_count": null,
            "_view_module": "@jupyter-widgets/controls",
            "_view_module_version": "1.5.0",
            "_view_name": "HBoxView",
            "box_style": "",
            "children": [
              "IPY_MODEL_35daba0c35c54a77aa0c29329f36e973",
              "IPY_MODEL_f705b2cedfbc47dfb9b5c648ec3fc59d",
              "IPY_MODEL_f69d8c0039674c5e8ef4f87cbe98210f"
            ],
            "layout": "IPY_MODEL_bb1a167b5ffd484b80fef4a2f9d597ad"
          }
        },
        "35daba0c35c54a77aa0c29329f36e973": {
          "model_module": "@jupyter-widgets/controls",
          "model_name": "HTMLModel",
          "model_module_version": "1.5.0",
          "state": {
            "_dom_classes": [],
            "_model_module": "@jupyter-widgets/controls",
            "_model_module_version": "1.5.0",
            "_model_name": "HTMLModel",
            "_view_count": null,
            "_view_module": "@jupyter-widgets/controls",
            "_view_module_version": "1.5.0",
            "_view_name": "HTMLView",
            "description": "",
            "description_tooltip": null,
            "layout": "IPY_MODEL_68de0e8b6f4b493cbc0638b791dcfb34",
            "placeholder": "​",
            "style": "IPY_MODEL_f44adf616a9f4088a98a0f1bd43e90d0",
            "value": "tokenizer_config.json: 100%"
          }
        },
        "f705b2cedfbc47dfb9b5c648ec3fc59d": {
          "model_module": "@jupyter-widgets/controls",
          "model_name": "FloatProgressModel",
          "model_module_version": "1.5.0",
          "state": {
            "_dom_classes": [],
            "_model_module": "@jupyter-widgets/controls",
            "_model_module_version": "1.5.0",
            "_model_name": "FloatProgressModel",
            "_view_count": null,
            "_view_module": "@jupyter-widgets/controls",
            "_view_module_version": "1.5.0",
            "_view_name": "ProgressView",
            "bar_style": "success",
            "description": "",
            "description_tooltip": null,
            "layout": "IPY_MODEL_2c5126ccdc4d4d2fbbae203393c4566f",
            "max": 50500,
            "min": 0,
            "orientation": "horizontal",
            "style": "IPY_MODEL_e7dd50a5de00405d95ac0d75595af289",
            "value": 50500
          }
        },
        "f69d8c0039674c5e8ef4f87cbe98210f": {
          "model_module": "@jupyter-widgets/controls",
          "model_name": "HTMLModel",
          "model_module_version": "1.5.0",
          "state": {
            "_dom_classes": [],
            "_model_module": "@jupyter-widgets/controls",
            "_model_module_version": "1.5.0",
            "_model_name": "HTMLModel",
            "_view_count": null,
            "_view_module": "@jupyter-widgets/controls",
            "_view_module_version": "1.5.0",
            "_view_name": "HTMLView",
            "description": "",
            "description_tooltip": null,
            "layout": "IPY_MODEL_ce4c90c2aa8c4be090042b010b414271",
            "placeholder": "​",
            "style": "IPY_MODEL_d8e93312452c45ba8ca8440b616ddf29",
            "value": " 50.5k/50.5k [00:00&lt;00:00, 3.85MB/s]"
          }
        },
        "bb1a167b5ffd484b80fef4a2f9d597ad": {
          "model_module": "@jupyter-widgets/base",
          "model_name": "LayoutModel",
          "model_module_version": "1.2.0",
          "state": {
            "_model_module": "@jupyter-widgets/base",
            "_model_module_version": "1.2.0",
            "_model_name": "LayoutModel",
            "_view_count": null,
            "_view_module": "@jupyter-widgets/base",
            "_view_module_version": "1.2.0",
            "_view_name": "LayoutView",
            "align_content": null,
            "align_items": null,
            "align_self": null,
            "border": null,
            "bottom": null,
            "display": null,
            "flex": null,
            "flex_flow": null,
            "grid_area": null,
            "grid_auto_columns": null,
            "grid_auto_flow": null,
            "grid_auto_rows": null,
            "grid_column": null,
            "grid_gap": null,
            "grid_row": null,
            "grid_template_areas": null,
            "grid_template_columns": null,
            "grid_template_rows": null,
            "height": null,
            "justify_content": null,
            "justify_items": null,
            "left": null,
            "margin": null,
            "max_height": null,
            "max_width": null,
            "min_height": null,
            "min_width": null,
            "object_fit": null,
            "object_position": null,
            "order": null,
            "overflow": null,
            "overflow_x": null,
            "overflow_y": null,
            "padding": null,
            "right": null,
            "top": null,
            "visibility": null,
            "width": null
          }
        },
        "68de0e8b6f4b493cbc0638b791dcfb34": {
          "model_module": "@jupyter-widgets/base",
          "model_name": "LayoutModel",
          "model_module_version": "1.2.0",
          "state": {
            "_model_module": "@jupyter-widgets/base",
            "_model_module_version": "1.2.0",
            "_model_name": "LayoutModel",
            "_view_count": null,
            "_view_module": "@jupyter-widgets/base",
            "_view_module_version": "1.2.0",
            "_view_name": "LayoutView",
            "align_content": null,
            "align_items": null,
            "align_self": null,
            "border": null,
            "bottom": null,
            "display": null,
            "flex": null,
            "flex_flow": null,
            "grid_area": null,
            "grid_auto_columns": null,
            "grid_auto_flow": null,
            "grid_auto_rows": null,
            "grid_column": null,
            "grid_gap": null,
            "grid_row": null,
            "grid_template_areas": null,
            "grid_template_columns": null,
            "grid_template_rows": null,
            "height": null,
            "justify_content": null,
            "justify_items": null,
            "left": null,
            "margin": null,
            "max_height": null,
            "max_width": null,
            "min_height": null,
            "min_width": null,
            "object_fit": null,
            "object_position": null,
            "order": null,
            "overflow": null,
            "overflow_x": null,
            "overflow_y": null,
            "padding": null,
            "right": null,
            "top": null,
            "visibility": null,
            "width": null
          }
        },
        "f44adf616a9f4088a98a0f1bd43e90d0": {
          "model_module": "@jupyter-widgets/controls",
          "model_name": "DescriptionStyleModel",
          "model_module_version": "1.5.0",
          "state": {
            "_model_module": "@jupyter-widgets/controls",
            "_model_module_version": "1.5.0",
            "_model_name": "DescriptionStyleModel",
            "_view_count": null,
            "_view_module": "@jupyter-widgets/base",
            "_view_module_version": "1.2.0",
            "_view_name": "StyleView",
            "description_width": ""
          }
        },
        "2c5126ccdc4d4d2fbbae203393c4566f": {
          "model_module": "@jupyter-widgets/base",
          "model_name": "LayoutModel",
          "model_module_version": "1.2.0",
          "state": {
            "_model_module": "@jupyter-widgets/base",
            "_model_module_version": "1.2.0",
            "_model_name": "LayoutModel",
            "_view_count": null,
            "_view_module": "@jupyter-widgets/base",
            "_view_module_version": "1.2.0",
            "_view_name": "LayoutView",
            "align_content": null,
            "align_items": null,
            "align_self": null,
            "border": null,
            "bottom": null,
            "display": null,
            "flex": null,
            "flex_flow": null,
            "grid_area": null,
            "grid_auto_columns": null,
            "grid_auto_flow": null,
            "grid_auto_rows": null,
            "grid_column": null,
            "grid_gap": null,
            "grid_row": null,
            "grid_template_areas": null,
            "grid_template_columns": null,
            "grid_template_rows": null,
            "height": null,
            "justify_content": null,
            "justify_items": null,
            "left": null,
            "margin": null,
            "max_height": null,
            "max_width": null,
            "min_height": null,
            "min_width": null,
            "object_fit": null,
            "object_position": null,
            "order": null,
            "overflow": null,
            "overflow_x": null,
            "overflow_y": null,
            "padding": null,
            "right": null,
            "top": null,
            "visibility": null,
            "width": null
          }
        },
        "e7dd50a5de00405d95ac0d75595af289": {
          "model_module": "@jupyter-widgets/controls",
          "model_name": "ProgressStyleModel",
          "model_module_version": "1.5.0",
          "state": {
            "_model_module": "@jupyter-widgets/controls",
            "_model_module_version": "1.5.0",
            "_model_name": "ProgressStyleModel",
            "_view_count": null,
            "_view_module": "@jupyter-widgets/base",
            "_view_module_version": "1.2.0",
            "_view_name": "StyleView",
            "bar_color": null,
            "description_width": ""
          }
        },
        "ce4c90c2aa8c4be090042b010b414271": {
          "model_module": "@jupyter-widgets/base",
          "model_name": "LayoutModel",
          "model_module_version": "1.2.0",
          "state": {
            "_model_module": "@jupyter-widgets/base",
            "_model_module_version": "1.2.0",
            "_model_name": "LayoutModel",
            "_view_count": null,
            "_view_module": "@jupyter-widgets/base",
            "_view_module_version": "1.2.0",
            "_view_name": "LayoutView",
            "align_content": null,
            "align_items": null,
            "align_self": null,
            "border": null,
            "bottom": null,
            "display": null,
            "flex": null,
            "flex_flow": null,
            "grid_area": null,
            "grid_auto_columns": null,
            "grid_auto_flow": null,
            "grid_auto_rows": null,
            "grid_column": null,
            "grid_gap": null,
            "grid_row": null,
            "grid_template_areas": null,
            "grid_template_columns": null,
            "grid_template_rows": null,
            "height": null,
            "justify_content": null,
            "justify_items": null,
            "left": null,
            "margin": null,
            "max_height": null,
            "max_width": null,
            "min_height": null,
            "min_width": null,
            "object_fit": null,
            "object_position": null,
            "order": null,
            "overflow": null,
            "overflow_x": null,
            "overflow_y": null,
            "padding": null,
            "right": null,
            "top": null,
            "visibility": null,
            "width": null
          }
        },
        "d8e93312452c45ba8ca8440b616ddf29": {
          "model_module": "@jupyter-widgets/controls",
          "model_name": "DescriptionStyleModel",
          "model_module_version": "1.5.0",
          "state": {
            "_model_module": "@jupyter-widgets/controls",
            "_model_module_version": "1.5.0",
            "_model_name": "DescriptionStyleModel",
            "_view_count": null,
            "_view_module": "@jupyter-widgets/base",
            "_view_module_version": "1.2.0",
            "_view_name": "StyleView",
            "description_width": ""
          }
        },
        "7714a63b93dd49458f5b397aca3285a2": {
          "model_module": "@jupyter-widgets/controls",
          "model_name": "HBoxModel",
          "model_module_version": "1.5.0",
          "state": {
            "_dom_classes": [],
            "_model_module": "@jupyter-widgets/controls",
            "_model_module_version": "1.5.0",
            "_model_name": "HBoxModel",
            "_view_count": null,
            "_view_module": "@jupyter-widgets/controls",
            "_view_module_version": "1.5.0",
            "_view_name": "HBoxView",
            "box_style": "",
            "children": [
              "IPY_MODEL_2e037b9a783c4e5ea861953de5318a45",
              "IPY_MODEL_0612fd73ca4342fcb6655e39c50e410f",
              "IPY_MODEL_3f423fab412648118d940e580100185e"
            ],
            "layout": "IPY_MODEL_124aca27d9b74071bfb2851bb452c5de"
          }
        },
        "2e037b9a783c4e5ea861953de5318a45": {
          "model_module": "@jupyter-widgets/controls",
          "model_name": "HTMLModel",
          "model_module_version": "1.5.0",
          "state": {
            "_dom_classes": [],
            "_model_module": "@jupyter-widgets/controls",
            "_model_module_version": "1.5.0",
            "_model_name": "HTMLModel",
            "_view_count": null,
            "_view_module": "@jupyter-widgets/controls",
            "_view_module_version": "1.5.0",
            "_view_name": "HTMLView",
            "description": "",
            "description_tooltip": null,
            "layout": "IPY_MODEL_d2461a4920834057be6709c0614e2c7b",
            "placeholder": "​",
            "style": "IPY_MODEL_28e48935c77e49d68dedb49c3506b5fe",
            "value": "tokenizer.json: 100%"
          }
        },
        "0612fd73ca4342fcb6655e39c50e410f": {
          "model_module": "@jupyter-widgets/controls",
          "model_name": "FloatProgressModel",
          "model_module_version": "1.5.0",
          "state": {
            "_dom_classes": [],
            "_model_module": "@jupyter-widgets/controls",
            "_model_module_version": "1.5.0",
            "_model_name": "FloatProgressModel",
            "_view_count": null,
            "_view_module": "@jupyter-widgets/controls",
            "_view_module_version": "1.5.0",
            "_view_name": "ProgressView",
            "bar_style": "success",
            "description": "",
            "description_tooltip": null,
            "layout": "IPY_MODEL_4dca80a51b6d4b6daf8d24f49ef823c4",
            "max": 9085657,
            "min": 0,
            "orientation": "horizontal",
            "style": "IPY_MODEL_f28d684cd63d442a8e3c8692f88ad5cf",
            "value": 9085657
          }
        },
        "3f423fab412648118d940e580100185e": {
          "model_module": "@jupyter-widgets/controls",
          "model_name": "HTMLModel",
          "model_module_version": "1.5.0",
          "state": {
            "_dom_classes": [],
            "_model_module": "@jupyter-widgets/controls",
            "_model_module_version": "1.5.0",
            "_model_name": "HTMLModel",
            "_view_count": null,
            "_view_module": "@jupyter-widgets/controls",
            "_view_module_version": "1.5.0",
            "_view_name": "HTMLView",
            "description": "",
            "description_tooltip": null,
            "layout": "IPY_MODEL_d772ee5c109a443f8c858c73eff201a5",
            "placeholder": "​",
            "style": "IPY_MODEL_6ca1ed6e590041449ce3605f6dfde7ef",
            "value": " 9.09M/9.09M [00:02&lt;00:00, 3.90MB/s]"
          }
        },
        "124aca27d9b74071bfb2851bb452c5de": {
          "model_module": "@jupyter-widgets/base",
          "model_name": "LayoutModel",
          "model_module_version": "1.2.0",
          "state": {
            "_model_module": "@jupyter-widgets/base",
            "_model_module_version": "1.2.0",
            "_model_name": "LayoutModel",
            "_view_count": null,
            "_view_module": "@jupyter-widgets/base",
            "_view_module_version": "1.2.0",
            "_view_name": "LayoutView",
            "align_content": null,
            "align_items": null,
            "align_self": null,
            "border": null,
            "bottom": null,
            "display": null,
            "flex": null,
            "flex_flow": null,
            "grid_area": null,
            "grid_auto_columns": null,
            "grid_auto_flow": null,
            "grid_auto_rows": null,
            "grid_column": null,
            "grid_gap": null,
            "grid_row": null,
            "grid_template_areas": null,
            "grid_template_columns": null,
            "grid_template_rows": null,
            "height": null,
            "justify_content": null,
            "justify_items": null,
            "left": null,
            "margin": null,
            "max_height": null,
            "max_width": null,
            "min_height": null,
            "min_width": null,
            "object_fit": null,
            "object_position": null,
            "order": null,
            "overflow": null,
            "overflow_x": null,
            "overflow_y": null,
            "padding": null,
            "right": null,
            "top": null,
            "visibility": null,
            "width": null
          }
        },
        "d2461a4920834057be6709c0614e2c7b": {
          "model_module": "@jupyter-widgets/base",
          "model_name": "LayoutModel",
          "model_module_version": "1.2.0",
          "state": {
            "_model_module": "@jupyter-widgets/base",
            "_model_module_version": "1.2.0",
            "_model_name": "LayoutModel",
            "_view_count": null,
            "_view_module": "@jupyter-widgets/base",
            "_view_module_version": "1.2.0",
            "_view_name": "LayoutView",
            "align_content": null,
            "align_items": null,
            "align_self": null,
            "border": null,
            "bottom": null,
            "display": null,
            "flex": null,
            "flex_flow": null,
            "grid_area": null,
            "grid_auto_columns": null,
            "grid_auto_flow": null,
            "grid_auto_rows": null,
            "grid_column": null,
            "grid_gap": null,
            "grid_row": null,
            "grid_template_areas": null,
            "grid_template_columns": null,
            "grid_template_rows": null,
            "height": null,
            "justify_content": null,
            "justify_items": null,
            "left": null,
            "margin": null,
            "max_height": null,
            "max_width": null,
            "min_height": null,
            "min_width": null,
            "object_fit": null,
            "object_position": null,
            "order": null,
            "overflow": null,
            "overflow_x": null,
            "overflow_y": null,
            "padding": null,
            "right": null,
            "top": null,
            "visibility": null,
            "width": null
          }
        },
        "28e48935c77e49d68dedb49c3506b5fe": {
          "model_module": "@jupyter-widgets/controls",
          "model_name": "DescriptionStyleModel",
          "model_module_version": "1.5.0",
          "state": {
            "_model_module": "@jupyter-widgets/controls",
            "_model_module_version": "1.5.0",
            "_model_name": "DescriptionStyleModel",
            "_view_count": null,
            "_view_module": "@jupyter-widgets/base",
            "_view_module_version": "1.2.0",
            "_view_name": "StyleView",
            "description_width": ""
          }
        },
        "4dca80a51b6d4b6daf8d24f49ef823c4": {
          "model_module": "@jupyter-widgets/base",
          "model_name": "LayoutModel",
          "model_module_version": "1.2.0",
          "state": {
            "_model_module": "@jupyter-widgets/base",
            "_model_module_version": "1.2.0",
            "_model_name": "LayoutModel",
            "_view_count": null,
            "_view_module": "@jupyter-widgets/base",
            "_view_module_version": "1.2.0",
            "_view_name": "LayoutView",
            "align_content": null,
            "align_items": null,
            "align_self": null,
            "border": null,
            "bottom": null,
            "display": null,
            "flex": null,
            "flex_flow": null,
            "grid_area": null,
            "grid_auto_columns": null,
            "grid_auto_flow": null,
            "grid_auto_rows": null,
            "grid_column": null,
            "grid_gap": null,
            "grid_row": null,
            "grid_template_areas": null,
            "grid_template_columns": null,
            "grid_template_rows": null,
            "height": null,
            "justify_content": null,
            "justify_items": null,
            "left": null,
            "margin": null,
            "max_height": null,
            "max_width": null,
            "min_height": null,
            "min_width": null,
            "object_fit": null,
            "object_position": null,
            "order": null,
            "overflow": null,
            "overflow_x": null,
            "overflow_y": null,
            "padding": null,
            "right": null,
            "top": null,
            "visibility": null,
            "width": null
          }
        },
        "f28d684cd63d442a8e3c8692f88ad5cf": {
          "model_module": "@jupyter-widgets/controls",
          "model_name": "ProgressStyleModel",
          "model_module_version": "1.5.0",
          "state": {
            "_model_module": "@jupyter-widgets/controls",
            "_model_module_version": "1.5.0",
            "_model_name": "ProgressStyleModel",
            "_view_count": null,
            "_view_module": "@jupyter-widgets/base",
            "_view_module_version": "1.2.0",
            "_view_name": "StyleView",
            "bar_color": null,
            "description_width": ""
          }
        },
        "d772ee5c109a443f8c858c73eff201a5": {
          "model_module": "@jupyter-widgets/base",
          "model_name": "LayoutModel",
          "model_module_version": "1.2.0",
          "state": {
            "_model_module": "@jupyter-widgets/base",
            "_model_module_version": "1.2.0",
            "_model_name": "LayoutModel",
            "_view_count": null,
            "_view_module": "@jupyter-widgets/base",
            "_view_module_version": "1.2.0",
            "_view_name": "LayoutView",
            "align_content": null,
            "align_items": null,
            "align_self": null,
            "border": null,
            "bottom": null,
            "display": null,
            "flex": null,
            "flex_flow": null,
            "grid_area": null,
            "grid_auto_columns": null,
            "grid_auto_flow": null,
            "grid_auto_rows": null,
            "grid_column": null,
            "grid_gap": null,
            "grid_row": null,
            "grid_template_areas": null,
            "grid_template_columns": null,
            "grid_template_rows": null,
            "height": null,
            "justify_content": null,
            "justify_items": null,
            "left": null,
            "margin": null,
            "max_height": null,
            "max_width": null,
            "min_height": null,
            "min_width": null,
            "object_fit": null,
            "object_position": null,
            "order": null,
            "overflow": null,
            "overflow_x": null,
            "overflow_y": null,
            "padding": null,
            "right": null,
            "top": null,
            "visibility": null,
            "width": null
          }
        },
        "6ca1ed6e590041449ce3605f6dfde7ef": {
          "model_module": "@jupyter-widgets/controls",
          "model_name": "DescriptionStyleModel",
          "model_module_version": "1.5.0",
          "state": {
            "_model_module": "@jupyter-widgets/controls",
            "_model_module_version": "1.5.0",
            "_model_name": "DescriptionStyleModel",
            "_view_count": null,
            "_view_module": "@jupyter-widgets/base",
            "_view_module_version": "1.2.0",
            "_view_name": "StyleView",
            "description_width": ""
          }
        },
        "d651b27ec5af4d689c57d7ebd15adc68": {
          "model_module": "@jupyter-widgets/controls",
          "model_name": "HBoxModel",
          "model_module_version": "1.5.0",
          "state": {
            "_dom_classes": [],
            "_model_module": "@jupyter-widgets/controls",
            "_model_module_version": "1.5.0",
            "_model_name": "HBoxModel",
            "_view_count": null,
            "_view_module": "@jupyter-widgets/controls",
            "_view_module_version": "1.5.0",
            "_view_name": "HBoxView",
            "box_style": "",
            "children": [
              "IPY_MODEL_eebca9e727424e52859a8bbaf6fa54be",
              "IPY_MODEL_7fdf86e84b2149da969e74b5c8c7d74a",
              "IPY_MODEL_38b73f68e004454c97f63a8d17f02834"
            ],
            "layout": "IPY_MODEL_26a0446869e946cb9651406d23641afa"
          }
        },
        "eebca9e727424e52859a8bbaf6fa54be": {
          "model_module": "@jupyter-widgets/controls",
          "model_name": "HTMLModel",
          "model_module_version": "1.5.0",
          "state": {
            "_dom_classes": [],
            "_model_module": "@jupyter-widgets/controls",
            "_model_module_version": "1.5.0",
            "_model_name": "HTMLModel",
            "_view_count": null,
            "_view_module": "@jupyter-widgets/controls",
            "_view_module_version": "1.5.0",
            "_view_name": "HTMLView",
            "description": "",
            "description_tooltip": null,
            "layout": "IPY_MODEL_6fcb779ca4814ca187bfce6e63905c6f",
            "placeholder": "​",
            "style": "IPY_MODEL_b74242e3352b4466ba3d21c36eaad7e2",
            "value": "special_tokens_map.json: 100%"
          }
        },
        "7fdf86e84b2149da969e74b5c8c7d74a": {
          "model_module": "@jupyter-widgets/controls",
          "model_name": "FloatProgressModel",
          "model_module_version": "1.5.0",
          "state": {
            "_dom_classes": [],
            "_model_module": "@jupyter-widgets/controls",
            "_model_module_version": "1.5.0",
            "_model_name": "FloatProgressModel",
            "_view_count": null,
            "_view_module": "@jupyter-widgets/controls",
            "_view_module_version": "1.5.0",
            "_view_name": "ProgressView",
            "bar_style": "success",
            "description": "",
            "description_tooltip": null,
            "layout": "IPY_MODEL_c467680d1eb448589a9a20ca026184bc",
            "max": 301,
            "min": 0,
            "orientation": "horizontal",
            "style": "IPY_MODEL_9223da53dfc64051a547e5a3dc6d0c8c",
            "value": 301
          }
        },
        "38b73f68e004454c97f63a8d17f02834": {
          "model_module": "@jupyter-widgets/controls",
          "model_name": "HTMLModel",
          "model_module_version": "1.5.0",
          "state": {
            "_dom_classes": [],
            "_model_module": "@jupyter-widgets/controls",
            "_model_module_version": "1.5.0",
            "_model_name": "HTMLModel",
            "_view_count": null,
            "_view_module": "@jupyter-widgets/controls",
            "_view_module_version": "1.5.0",
            "_view_name": "HTMLView",
            "description": "",
            "description_tooltip": null,
            "layout": "IPY_MODEL_59bee75346ec4ed0a47de251744ea780",
            "placeholder": "​",
            "style": "IPY_MODEL_bb72cdbfc332468581bfc74f572c0c5c",
            "value": " 301/301 [00:00&lt;00:00, 25.4kB/s]"
          }
        },
        "26a0446869e946cb9651406d23641afa": {
          "model_module": "@jupyter-widgets/base",
          "model_name": "LayoutModel",
          "model_module_version": "1.2.0",
          "state": {
            "_model_module": "@jupyter-widgets/base",
            "_model_module_version": "1.2.0",
            "_model_name": "LayoutModel",
            "_view_count": null,
            "_view_module": "@jupyter-widgets/base",
            "_view_module_version": "1.2.0",
            "_view_name": "LayoutView",
            "align_content": null,
            "align_items": null,
            "align_self": null,
            "border": null,
            "bottom": null,
            "display": null,
            "flex": null,
            "flex_flow": null,
            "grid_area": null,
            "grid_auto_columns": null,
            "grid_auto_flow": null,
            "grid_auto_rows": null,
            "grid_column": null,
            "grid_gap": null,
            "grid_row": null,
            "grid_template_areas": null,
            "grid_template_columns": null,
            "grid_template_rows": null,
            "height": null,
            "justify_content": null,
            "justify_items": null,
            "left": null,
            "margin": null,
            "max_height": null,
            "max_width": null,
            "min_height": null,
            "min_width": null,
            "object_fit": null,
            "object_position": null,
            "order": null,
            "overflow": null,
            "overflow_x": null,
            "overflow_y": null,
            "padding": null,
            "right": null,
            "top": null,
            "visibility": null,
            "width": null
          }
        },
        "6fcb779ca4814ca187bfce6e63905c6f": {
          "model_module": "@jupyter-widgets/base",
          "model_name": "LayoutModel",
          "model_module_version": "1.2.0",
          "state": {
            "_model_module": "@jupyter-widgets/base",
            "_model_module_version": "1.2.0",
            "_model_name": "LayoutModel",
            "_view_count": null,
            "_view_module": "@jupyter-widgets/base",
            "_view_module_version": "1.2.0",
            "_view_name": "LayoutView",
            "align_content": null,
            "align_items": null,
            "align_self": null,
            "border": null,
            "bottom": null,
            "display": null,
            "flex": null,
            "flex_flow": null,
            "grid_area": null,
            "grid_auto_columns": null,
            "grid_auto_flow": null,
            "grid_auto_rows": null,
            "grid_column": null,
            "grid_gap": null,
            "grid_row": null,
            "grid_template_areas": null,
            "grid_template_columns": null,
            "grid_template_rows": null,
            "height": null,
            "justify_content": null,
            "justify_items": null,
            "left": null,
            "margin": null,
            "max_height": null,
            "max_width": null,
            "min_height": null,
            "min_width": null,
            "object_fit": null,
            "object_position": null,
            "order": null,
            "overflow": null,
            "overflow_x": null,
            "overflow_y": null,
            "padding": null,
            "right": null,
            "top": null,
            "visibility": null,
            "width": null
          }
        },
        "b74242e3352b4466ba3d21c36eaad7e2": {
          "model_module": "@jupyter-widgets/controls",
          "model_name": "DescriptionStyleModel",
          "model_module_version": "1.5.0",
          "state": {
            "_model_module": "@jupyter-widgets/controls",
            "_model_module_version": "1.5.0",
            "_model_name": "DescriptionStyleModel",
            "_view_count": null,
            "_view_module": "@jupyter-widgets/base",
            "_view_module_version": "1.2.0",
            "_view_name": "StyleView",
            "description_width": ""
          }
        },
        "c467680d1eb448589a9a20ca026184bc": {
          "model_module": "@jupyter-widgets/base",
          "model_name": "LayoutModel",
          "model_module_version": "1.2.0",
          "state": {
            "_model_module": "@jupyter-widgets/base",
            "_model_module_version": "1.2.0",
            "_model_name": "LayoutModel",
            "_view_count": null,
            "_view_module": "@jupyter-widgets/base",
            "_view_module_version": "1.2.0",
            "_view_name": "LayoutView",
            "align_content": null,
            "align_items": null,
            "align_self": null,
            "border": null,
            "bottom": null,
            "display": null,
            "flex": null,
            "flex_flow": null,
            "grid_area": null,
            "grid_auto_columns": null,
            "grid_auto_flow": null,
            "grid_auto_rows": null,
            "grid_column": null,
            "grid_gap": null,
            "grid_row": null,
            "grid_template_areas": null,
            "grid_template_columns": null,
            "grid_template_rows": null,
            "height": null,
            "justify_content": null,
            "justify_items": null,
            "left": null,
            "margin": null,
            "max_height": null,
            "max_width": null,
            "min_height": null,
            "min_width": null,
            "object_fit": null,
            "object_position": null,
            "order": null,
            "overflow": null,
            "overflow_x": null,
            "overflow_y": null,
            "padding": null,
            "right": null,
            "top": null,
            "visibility": null,
            "width": null
          }
        },
        "9223da53dfc64051a547e5a3dc6d0c8c": {
          "model_module": "@jupyter-widgets/controls",
          "model_name": "ProgressStyleModel",
          "model_module_version": "1.5.0",
          "state": {
            "_model_module": "@jupyter-widgets/controls",
            "_model_module_version": "1.5.0",
            "_model_name": "ProgressStyleModel",
            "_view_count": null,
            "_view_module": "@jupyter-widgets/base",
            "_view_module_version": "1.2.0",
            "_view_name": "StyleView",
            "bar_color": null,
            "description_width": ""
          }
        },
        "59bee75346ec4ed0a47de251744ea780": {
          "model_module": "@jupyter-widgets/base",
          "model_name": "LayoutModel",
          "model_module_version": "1.2.0",
          "state": {
            "_model_module": "@jupyter-widgets/base",
            "_model_module_version": "1.2.0",
            "_model_name": "LayoutModel",
            "_view_count": null,
            "_view_module": "@jupyter-widgets/base",
            "_view_module_version": "1.2.0",
            "_view_name": "LayoutView",
            "align_content": null,
            "align_items": null,
            "align_self": null,
            "border": null,
            "bottom": null,
            "display": null,
            "flex": null,
            "flex_flow": null,
            "grid_area": null,
            "grid_auto_columns": null,
            "grid_auto_flow": null,
            "grid_auto_rows": null,
            "grid_column": null,
            "grid_gap": null,
            "grid_row": null,
            "grid_template_areas": null,
            "grid_template_columns": null,
            "grid_template_rows": null,
            "height": null,
            "justify_content": null,
            "justify_items": null,
            "left": null,
            "margin": null,
            "max_height": null,
            "max_width": null,
            "min_height": null,
            "min_width": null,
            "object_fit": null,
            "object_position": null,
            "order": null,
            "overflow": null,
            "overflow_x": null,
            "overflow_y": null,
            "padding": null,
            "right": null,
            "top": null,
            "visibility": null,
            "width": null
          }
        },
        "bb72cdbfc332468581bfc74f572c0c5c": {
          "model_module": "@jupyter-widgets/controls",
          "model_name": "DescriptionStyleModel",
          "model_module_version": "1.5.0",
          "state": {
            "_model_module": "@jupyter-widgets/controls",
            "_model_module_version": "1.5.0",
            "_model_name": "DescriptionStyleModel",
            "_view_count": null,
            "_view_module": "@jupyter-widgets/base",
            "_view_module_version": "1.2.0",
            "_view_name": "StyleView",
            "description_width": ""
          }
        }
      }
    }
  },
  "nbformat": 4,
  "nbformat_minor": 0
}