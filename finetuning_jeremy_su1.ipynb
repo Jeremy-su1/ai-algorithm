{
  "nbformat": 4,
  "nbformat_minor": 0,
  "metadata": {
    "colab": {
      "provenance": [],
      "authorship_tag": "ABX9TyPRqZ72iNG80s7iE06w2Tqn",
      "include_colab_link": true
    },
    "kernelspec": {
      "name": "python3",
      "display_name": "Python 3"
    },
    "language_info": {
      "name": "python"
    }
  },
  "cells": [
    {
      "cell_type": "markdown",
      "metadata": {
        "id": "view-in-github",
        "colab_type": "text"
      },
      "source": [
        "<a href=\"https://colab.research.google.com/github/Jeremy-su1/ai-algorithm/blob/main/finetuning_jeremy_su1.ipynb\" target=\"_parent\"><img src=\"https://colab.research.google.com/assets/colab-badge.svg\" alt=\"Open In Colab\"/></a>"
      ]
    },
    {
      "cell_type": "markdown",
      "source": [
        "# 1. Settings"
      ],
      "metadata": {
        "id": "Glx0Cat0n3kl"
      }
    },
    {
      "cell_type": "code",
      "execution_count": null,
      "metadata": {
        "id": "7psx3zvdnwHT"
      },
      "outputs": [],
      "source": []
    },
    {
      "cell_type": "markdown",
      "source": [
        "# 2. Model Load"
      ],
      "metadata": {
        "id": "BVuA2lkan8T1"
      }
    },
    {
      "cell_type": "code",
      "source": [],
      "metadata": {
        "id": "Kz-96jiaoCSH"
      },
      "execution_count": null,
      "outputs": []
    },
    {
      "cell_type": "markdown",
      "source": [
        "# 3. Load Dataset"
      ],
      "metadata": {
        "id": "fGeYr93YoDG9"
      }
    },
    {
      "cell_type": "code",
      "source": [],
      "metadata": {
        "id": "rQK7HF4goHCG"
      },
      "execution_count": null,
      "outputs": []
    },
    {
      "cell_type": "markdown",
      "source": [
        "# 4. Model Layer"
      ],
      "metadata": {
        "id": "bHgjMgbHoH0P"
      }
    },
    {
      "cell_type": "code",
      "source": [],
      "metadata": {
        "id": "vzE4SfDOoNOh"
      },
      "execution_count": null,
      "outputs": []
    },
    {
      "cell_type": "markdown",
      "source": [
        "# 5. Fine-tuning"
      ],
      "metadata": {
        "id": "_P_yawdPoN_u"
      }
    },
    {
      "cell_type": "code",
      "source": [],
      "metadata": {
        "id": "vUM9iYpcoRfK"
      },
      "execution_count": null,
      "outputs": []
    },
    {
      "cell_type": "markdown",
      "source": [
        "# 6. Evaluation"
      ],
      "metadata": {
        "id": "7BlaA5gpoSAD"
      }
    },
    {
      "cell_type": "code",
      "source": [],
      "metadata": {
        "id": "zHXAzOG9oTso"
      },
      "execution_count": null,
      "outputs": []
    }
  ]
}