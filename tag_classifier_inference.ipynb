{
  "nbformat": 4,
  "nbformat_minor": 0,
  "metadata": {
    "colab": {
      "provenance": [],
      "machine_shape": "hm",
      "gpuType": "A100",
      "authorship_tag": "ABX9TyNma+mXmOu3KNMjw6I2Rmy9",
      "include_colab_link": true
    },
    "kernelspec": {
      "name": "python3",
      "display_name": "Python 3"
    },
    "language_info": {
      "name": "python"
    },
    "accelerator": "GPU"
  },
  "cells": [
    {
      "cell_type": "markdown",
      "metadata": {
        "id": "view-in-github",
        "colab_type": "text"
      },
      "source": [
        "<a href=\"https://colab.research.google.com/github/Jeremy-su1/ai-algorithm/blob/main/tag_classifier_inference.ipynb\" target=\"_parent\"><img src=\"https://colab.research.google.com/assets/colab-badge.svg\" alt=\"Open In Colab\"/></a>"
      ]
    },
    {
      "cell_type": "code",
      "source": [
        "%%capture\n",
        "!pip install datasets>=2.18.0 transformers>=4.38.2 sentence-transformers>=2.5.1 setfit>=1.0.3 accelerate>=0.27.2 seqeval>=1.2.2"
      ],
      "metadata": {
        "id": "EfMdThd2mb0J"
      },
      "execution_count": null,
      "outputs": []
    },
    {
      "cell_type": "code",
      "source": [
        "from google.colab import drive\n",
        "drive.mount('/content/drive')"
      ],
      "metadata": {
        "colab": {
          "base_uri": "https://localhost:8080/"
        },
        "id": "Ok5h8amLmd4v",
        "outputId": "a6ade6fb-dcbb-448f-8f8d-48e2c0fc0201"
      },
      "execution_count": null,
      "outputs": [
        {
          "output_type": "stream",
          "name": "stdout",
          "text": [
            "Mounted at /content/drive\n"
          ]
        }
      ]
    },
    {
      "cell_type": "code",
      "execution_count": null,
      "metadata": {
        "id": "IVoPxKMcllfD"
      },
      "outputs": [],
      "source": [
        "from transformers import AutoTokenizer, AutoModelForSequenceClassification\n",
        "import torch\n",
        "import numpy as np\n",
        "# 모델과 토크나이저 가져오기\n",
        "\n",
        "model_path = '/content/drive/My Drive/AiExpertCource/pj/tag/multi-label-bert'  # 모델과 토크나이저가 저장된 경로\n",
        "tokenizer = AutoTokenizer.from_pretrained(model_path)\n",
        "model = AutoModelForSequenceClassification.from_pretrained(model_path)"
      ]
    },
    {
      "cell_type": "code",
      "source": [
        "# 모델을 평가 모드로 설정\n",
        "model.eval()"
      ],
      "metadata": {
        "colab": {
          "base_uri": "https://localhost:8080/"
        },
        "collapsed": true,
        "id": "MLNBBF4Toxy4",
        "outputId": "11ab3943-6c62-452d-d692-fe661337a4b7"
      },
      "execution_count": null,
      "outputs": [
        {
          "output_type": "execute_result",
          "data": {
            "text/plain": [
              "MegatronBertForSequenceClassification(\n",
              "  (bert): MegatronBertModel(\n",
              "    (embeddings): MegatronBertEmbeddings(\n",
              "      (word_embeddings): Embedding(50048, 768, padding_idx=0)\n",
              "      (position_embeddings): Embedding(2048, 768)\n",
              "      (token_type_embeddings): Embedding(2, 768)\n",
              "      (dropout): Dropout(p=0.1, inplace=False)\n",
              "    )\n",
              "    (encoder): MegatronBertEncoder(\n",
              "      (layer): ModuleList(\n",
              "        (0-11): 12 x MegatronBertLayer(\n",
              "          (attention): MegatronBertAttention(\n",
              "            (ln): LayerNorm((768,), eps=1e-12, elementwise_affine=True)\n",
              "            (self): MegatronBertSelfAttention(\n",
              "              (query): Linear(in_features=768, out_features=768, bias=True)\n",
              "              (key): Linear(in_features=768, out_features=768, bias=True)\n",
              "              (value): Linear(in_features=768, out_features=768, bias=True)\n",
              "              (dropout): Dropout(p=0.1, inplace=False)\n",
              "            )\n",
              "            (output): MegatronBertSelfOutput(\n",
              "              (dense): Linear(in_features=768, out_features=768, bias=True)\n",
              "              (dropout): Dropout(p=0.1, inplace=False)\n",
              "            )\n",
              "          )\n",
              "          (ln): LayerNorm((768,), eps=1e-12, elementwise_affine=True)\n",
              "          (intermediate): MegatronBertIntermediate(\n",
              "            (dense): Linear(in_features=768, out_features=3072, bias=True)\n",
              "            (intermediate_act_fn): GELUActivation()\n",
              "          )\n",
              "          (output): MegatronBertOutput(\n",
              "            (dense): Linear(in_features=3072, out_features=768, bias=True)\n",
              "            (dropout): Dropout(p=0.1, inplace=False)\n",
              "          )\n",
              "        )\n",
              "      )\n",
              "      (ln): LayerNorm((768,), eps=1e-12, elementwise_affine=True)\n",
              "    )\n",
              "    (pooler): MegatronBertPooler(\n",
              "      (dense): Linear(in_features=768, out_features=768, bias=True)\n",
              "      (activation): Tanh()\n",
              "    )\n",
              "  )\n",
              "  (dropout): Dropout(p=0.1, inplace=False)\n",
              "  (classifier): Linear(in_features=768, out_features=101, bias=True)\n",
              ")"
            ]
          },
          "metadata": {},
          "execution_count": 4
        }
      ]
    },
    {
      "cell_type": "code",
      "source": [
        "# 예측 함수 정의\n",
        "def predict(texts):\n",
        "    # 텍스트를 토큰화하고 텐서로 변환\n",
        "    inputs = tokenizer(texts, padding='max_length', truncation=True, max_length=2048, return_tensors='pt')\n",
        "\n",
        "    # 모델을 사용해 예측 수행\n",
        "    with torch.no_grad():\n",
        "        outputs = model(**inputs)\n",
        "        logits = outputs.logits\n",
        "\n",
        "    # 시그모이드를 사용해 확률로 변환\n",
        "    probabilities = torch.sigmoid(logits).numpy()\n",
        "\n",
        "    # 각 클래스에 대해 threshold를 0.5로 설정하여 예측값(0 또는 1)으로 변환\n",
        "    predictions = (probabilities > 0.5).astype(int)\n",
        "\n",
        "    return predictions, probabilities"
      ],
      "metadata": {
        "id": "l_yi6KUTo4Ap"
      },
      "execution_count": null,
      "outputs": []
    },
    {
      "cell_type": "code",
      "source": [
        "# 샘플 텍스트 입력 및 예측 수행\n",
        "sample_texts = [\n",
        "  \"React Grid2 not respecting row/column definitions and missing responsiveness\"\n",
        "]\n",
        "\n",
        "# 예측 수행\n",
        "predictions, probabilities = predict(sample_texts)"
      ],
      "metadata": {
        "id": "eb_KuE_JscLq"
      },
      "execution_count": null,
      "outputs": []
    },
    {
      "cell_type": "code",
      "source": [
        "# 결과 인덱스를 문자 태그로 변환하기 위해서 100개 태그 리스트 가져옴\n",
        "\n",
        "import json\n",
        "\n",
        "with open('/content/drive/My Drive/AiExpertCource/pj/tag/top_100_labels.json', 'r') as f:\n",
        "    classes = json.load(f)\n",
        "\n",
        "# 100개 tag에 들어가지 않은 데이터는 other tag로 변경했음으로 태그 리스트에 other태그 추가\n",
        "classes.append('other')\n",
        "class2id = {class_:id for id, class_ in enumerate(classes)}\n",
        "id2class = {id:class_ for class_, id in class2id.items()}"
      ],
      "metadata": {
        "id": "Mk89qxDvtVRo"
      },
      "execution_count": null,
      "outputs": []
    },
    {
      "cell_type": "code",
      "source": [
        "probabilities"
      ],
      "metadata": {
        "colab": {
          "base_uri": "https://localhost:8080/"
        },
        "collapsed": true,
        "id": "mIv08vFGqeC-",
        "outputId": "9314bf4a-a95f-46ef-911c-47da91d53e3b"
      },
      "execution_count": null,
      "outputs": [
        {
          "output_type": "execute_result",
          "data": {
            "text/plain": [
              "array([[3.1522599e-01, 1.8041983e-03, 4.5674555e-03, 3.7946519e-03,\n",
              "        1.1263339e-02, 3.2363955e-03, 6.3383949e-01, 3.5166661e-03,\n",
              "        6.3759780e-01, 9.3468872e-04, 2.0843460e-03, 5.4257460e-02,\n",
              "        2.5104363e-03, 3.2017741e-03, 1.5025787e-03, 1.3209330e-03,\n",
              "        1.9090371e-03, 9.3450129e-04, 4.8495824e-03, 1.6677649e-03,\n",
              "        2.2678012e-03, 2.3911735e-03, 9.1022305e-04, 1.2132094e-03,\n",
              "        1.9570664e-03, 1.6971366e-03, 9.5163396e-04, 1.0741921e-03,\n",
              "        2.9225310e-04, 3.5156761e-04, 1.0066819e-03, 1.2858546e-03,\n",
              "        1.0301881e-03, 1.4172783e-03, 3.2645228e-04, 6.2668853e-04,\n",
              "        3.9186599e-04, 1.7356706e-03, 8.3336572e-04, 3.9102431e-04,\n",
              "        4.0053434e-04, 5.0224288e-04, 4.8807482e-04, 1.9534931e-03,\n",
              "        6.5219059e-04, 1.2630585e-04, 7.6241628e-04, 1.1845772e-03,\n",
              "        2.6106951e-03, 2.9852961e-03, 5.2139221e-04, 1.0064644e-03,\n",
              "        2.7148807e-04, 1.2404710e-03, 1.5921679e-03, 1.1628291e-02,\n",
              "        5.6831149e-04, 1.5193396e-03, 2.0316530e-04, 3.6897513e-04,\n",
              "        5.1862642e-04, 2.8928992e-04, 6.7709934e-04, 3.2844456e-04,\n",
              "        2.5415076e-03, 4.1166586e-03, 9.6734444e-04, 1.9750004e-03,\n",
              "        9.3116780e-04, 1.0965170e-03, 2.9181485e-04, 3.1341638e-03,\n",
              "        1.4234254e-03, 3.2468743e-04, 6.4765499e-04, 2.3726388e-03,\n",
              "        2.6155839e-04, 5.9313379e-04, 1.5036387e-03, 2.2963448e-03,\n",
              "        8.4909430e-04, 6.5889931e-04, 6.7797594e-04, 8.6289510e-04,\n",
              "        1.1051913e-04, 1.3813699e-03, 6.4337585e-04, 1.7986877e-04,\n",
              "        9.6756837e-04, 2.0295657e-02, 4.8518635e-04, 2.5290332e-04,\n",
              "        3.1385903e-04, 6.1144552e-04, 6.6812779e-04, 5.8803573e-04,\n",
              "        1.0276150e-03, 8.3027838e-04, 1.5827429e-03, 1.0947426e-03,\n",
              "        1.8912476e-02]], dtype=float32)"
            ]
          },
          "metadata": {},
          "execution_count": 11
        }
      ]
    },
    {
      "cell_type": "code",
      "source": [
        "predictions[0]"
      ],
      "metadata": {
        "colab": {
          "base_uri": "https://localhost:8080/"
        },
        "id": "cNk8WjcOqZX3",
        "outputId": "e4bf58c4-2d81-4bd7-a516-05e8ff222b5e"
      },
      "execution_count": null,
      "outputs": [
        {
          "output_type": "execute_result",
          "data": {
            "text/plain": [
              "array([0, 0, 0, 0, 0, 0, 1, 0, 1, 0, 0, 0, 0, 0, 0, 0, 0, 0, 0, 0, 0, 0,\n",
              "       0, 0, 0, 0, 0, 0, 0, 0, 0, 0, 0, 0, 0, 0, 0, 0, 0, 0, 0, 0, 0, 0,\n",
              "       0, 0, 0, 0, 0, 0, 0, 0, 0, 0, 0, 0, 0, 0, 0, 0, 0, 0, 0, 0, 0, 0,\n",
              "       0, 0, 0, 0, 0, 0, 0, 0, 0, 0, 0, 0, 0, 0, 0, 0, 0, 0, 0, 0, 0, 0,\n",
              "       0, 0, 0, 0, 0, 0, 0, 0, 0, 0, 0, 0, 0])"
            ]
          },
          "metadata": {},
          "execution_count": 14
        }
      ]
    },
    {
      "cell_type": "code",
      "source": [
        "arr = np.array(predictions[0])\n",
        "\n",
        "# 값이 1인 인덱스에 해당하는 한글 매핑 가져오기\n",
        "indices = np.where(arr == 1)[0]\n",
        "indices\n",
        "\n",
        "for idx in indices:\n",
        "    tag = id2class[idx]\n",
        "    print(tag)"
      ],
      "metadata": {
        "colab": {
          "base_uri": "https://localhost:8080/"
        },
        "id": "iXdJmyLLuO2o",
        "outputId": "1c2a018e-ba57-4851-ac4a-2d422c45939b"
      },
      "execution_count": null,
      "outputs": [
        {
          "output_type": "stream",
          "name": "stdout",
          "text": [
            "reactjs\n"
          ]
        }
      ]
    }
  ]
}